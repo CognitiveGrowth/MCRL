{
 "cells": [
  {
   "cell_type": "code",
   "execution_count": 3,
   "metadata": {
    "collapsed": false
   },
   "outputs": [],
   "source": [
    "%matplotlib inline\n",
    "%load_ext autoreload\n",
    "%autoreload 2\n",
    "\n",
    "import matplotlib.pyplot as plt\n",
    "import numpy as np\n",
    "import pandas as pd\n",
    "import seaborn as sns\n",
    "sns.set_style('white')\n",
    "sns.set_context('notebook', font_scale=1.3)\n",
    "\n",
    "from agents import Agent\n",
    "from mouselab import MouselabEnv\n",
    "from distributions import Normal, Categorical\n",
    "from policies import FixedPlanPolicy"
   ]
  },
  {
   "cell_type": "code",
   "execution_count": 46,
   "metadata": {
    "collapsed": false
   },
   "outputs": [],
   "source": [
    "from scipy.stats import norm\n",
    "\n",
    "def make_env(depth, cost, ground_truth):\n",
    "    reward = Categorical([-1, 1])\n",
    "    env = MouselabEnv(2, depth, reward=reward, cost=cost)\n",
    "    if ground_truth:\n",
    "        env.ground_truth = np.array([0, *reward.sample(len(env.tree) - 1)])\n",
    "    return env\n",
    "\n",
    "def make_envs(depth=2, cost=.1, seed=0, n=100, ground_truth=False):\n",
    "    np.random.seed(seed)\n",
    "    if ground_truth:\n",
    "        return [make_env(depth, cost, True) for _ in range(n)]\n",
    "    else:\n",
    "        return [make_env(depth, cost, False)] * n"
   ]
  },
  {
   "cell_type": "code",
   "execution_count": 47,
   "metadata": {
    "collapsed": true
   },
   "outputs": [],
   "source": [
    "agent = Agent()\n",
    "def run_env(policy, env):\n",
    "    agent.register(policy)\n",
    "    agent.register(env)\n",
    "    tr = agent.run_episode()\n",
    "    return {'util': tr['return'],\n",
    "            'observations': len(tr['actions']) - 1}\n",
    "\n",
    "def evaluate(policy, envs):\n",
    "    return pd.DataFrame(run_env(policy, env) for env in envs)"
   ]
  },
  {
   "cell_type": "code",
   "execution_count": 48,
   "metadata": {
    "collapsed": false
   },
   "outputs": [],
   "source": [
    "from policies import MouselabPolicy\n",
    "from skopt import gp_minimize\n",
    "bounds = [ (-100., 100.) ] * 5\n",
    "\n",
    "def bo_policy(envs, n_calls=100, verbose=False):\n",
    "    def objective(theta):\n",
    "        theta = np.array(theta)\n",
    "        util = evaluate(MouselabPolicy(theta), envs).util.mean()\n",
    "        if verbose:\n",
    "            print(theta.round(3), util)\n",
    "        # regularize = 0.01 * (theta ** 2).sum()\n",
    "        regularize = 0\n",
    "        return - (util - regularize)\n",
    "    \n",
    "    result = gp_minimize(objective, bounds, n_calls=n_calls, random_state=0)\n",
    "    return MouselabPolicy(result.x)"
   ]
  },
  {
   "cell_type": "code",
   "execution_count": 60,
   "metadata": {
    "collapsed": false
   },
   "outputs": [],
   "source": [
    "from exact import solve\n",
    "from policies import FunctionPolicy\n",
    "def optimal_policy(env):\n",
    "    Q, V, pi, info = solve(env)\n",
    "    policy = FunctionPolicy(pi)\n",
    "    return policy, V(env.init)"
   ]
  },
  {
   "cell_type": "code",
   "execution_count": 72,
   "metadata": {
    "collapsed": false
   },
   "outputs": [
    {
     "name": "stdout",
     "output_type": "stream",
     "text": [
      "cost 0\n",
      "cost 0.1\n"
     ]
    },
    {
     "data": {
      "text/plain": [
       "<seaborn.axisgrid.FacetGrid at 0x110e39780>"
      ]
     },
     "execution_count": 72,
     "metadata": {},
     "output_type": "execute_result"
    },
    {
     "data": {
      "image/png": "[encoded data removed]",
      "text/plain": [
       "<matplotlib.figure.Figure at 0x111138dd8>"
      ]
     },
     "metadata": {},
     "output_type": "display_data"
    }
   ],
   "source": [
    "def data():\n",
    "    def dfs():\n",
    "        for cost in (0, .1):\n",
    "            print('cost', cost)\n",
    "            train_envs = make_envs(cost=cost, n=500)\n",
    "            opt_policy, opt_util = optimal_policy(train_envs[0])\n",
    "            policies = {\n",
    "                'BO': bo_policy(train_envs, n_calls=12),\n",
    "                # 'optimal': opt_policy,\n",
    "                'full': FixedPlanPolicy(range(1, TERM+1)),\n",
    "                'none': FixedPlanPolicy([TERM]),\n",
    "                # 'one': FixedPlanPolicy([1, 5, 9, 13, TERM]),\n",
    "                # 'two': FixedPlanPolicy([1, 2, 5, 6, 9, 10, 13, 14, TERM]),\n",
    "            }\n",
    "            eval_envs = make_envs(cost=cost, n=1000)\n",
    "            for name, policy in policies.items():\n",
    "                df = evaluate(policy, envs=eval_envs)\n",
    "                df['agent'] = name\n",
    "                df['cost'] = cost\n",
    "                # print('======= {} ======='.format(name))\n",
    "                # print('Observations: {:.3f}'.format(df.observations.mean() - 2))\n",
    "                # print('Return: {:.3f}'.format(df.util.mean() / sigma))\n",
    "                yield df\n",
    "            yield pd.DataFrame([{'cost': cost, 'agent': 'exact_optimal', 'util': opt_util}])\n",
    "    return pd.concat(dfs())\n",
    "\n",
    "df = data()\n",
    "sns.factorplot('cost', 'util', hue='agent', data=df)"
   ]
  },
  {
   "cell_type": "code",
   "execution_count": 45,
   "metadata": {
    "collapsed": false
   },
   "outputs": [
    {
     "name": "stdout",
     "output_type": "stream",
     "text": [
      "agent\n",
      "BO         1.3575\n",
      "full       1.4000\n",
      "none       1.0000\n",
      "optimal    1.5725\n",
      "Name: util, dtype: float64\n"
     ]
    },
    {
     "data": {
      "image/png": "[encoded data removed]",
      "text/plain": [
       "<matplotlib.figure.Figure at 0x10d832710>"
      ]
     },
     "metadata": {},
     "output_type": "display_data"
    }
   ],
   "source": [
    "\n",
    "#                order=['none', 'one', 'two', 'full', 'BO', 'optimal'], \n",
    "              )\n",
    "print(df.groupby('agent').util.mean())"
   ]
  },
  {
   "cell_type": "code",
   "execution_count": 23,
   "metadata": {
    "collapsed": false
   },
   "outputs": [
    {
     "data": {
      "text/plain": [
       "<seaborn.axisgrid.FacetGrid at 0x1aa9f9550>"
      ]
     },
     "execution_count": 23,
     "metadata": {},
     "output_type": "execute_result"
    },
    {
     "data": {
      "image/png": "[encoded data removed]",
      "text/plain": [
       "<matplotlib.figure.Figure at 0x1aaa97780>"
      ]
     },
     "metadata": {},
     "output_type": "display_data"
    }
   ],
   "source": [
    "sns.factorplot('agent', 'observations', data=df, \n",
    "               order=['none', 'one', 'two', 'full', 'BO', 'optimal'], \n",
    "               kind='bar')"
   ]
  },
  {
   "cell_type": "code",
   "execution_count": 176,
   "metadata": {
    "collapsed": false
   },
   "outputs": [
    {
     "data": {
      "text/plain": [
       "agent\n",
       "BO         6\n",
       "full       6\n",
       "none       0\n",
       "optimal    2\n",
       "Name: observations, dtype: int64"
      ]
     },
     "execution_count": 176,
     "metadata": {},
     "output_type": "execute_result"
    }
   ],
   "source": [
    "df.groupby('agent').observations.max()"
   ]
  },
  {
   "cell_type": "code",
   "execution_count": 174,
   "metadata": {
    "collapsed": false
   },
   "outputs": [
    {
     "name": "stdout",
     "output_type": "stream",
     "text": [
      "(0, Cat, 1, Cat, 1, Cat, Cat)\n",
      "1.5999999999999999\n",
      "1.0\n"
     ]
    },
    {
     "data": {
      "text/plain": [
       "1"
      ]
     },
     "execution_count": 174,
     "metadata": {},
     "output_type": "execute_result"
    }
   ],
   "source": [
    "env.reset()\n",
    "env.step(2)\n",
    "env.step(4)\n",
    "print(env._state)\n",
    "print(Q(env._state, 1))\n",
    "print(Q(env._state, 7))\n",
    "pi(env._state)"
   ]
  }
 ],
 "metadata": {
  "anaconda-cloud": {},
  "kernelspec": {
   "display_name": "Python [default]",
   "language": "python",
   "name": "python3"
  },
  "language_info": {
   "codemirror_mode": {
    "name": "ipython",
    "version": 3
   },
   "file_extension": ".py",
   "mimetype": "text/x-python",
   "name": "python",
   "nbconvert_exporter": "python",
   "pygments_lexer": "ipython3",
   "version": "3.5.2"
  },
  "nav_menu": {},
  "toc": {
   "navigate_menu": true,
   "number_sections": true,
   "sideBar": true,
   "threshold": 6,
   "toc_cell": false,
   "toc_section_display": "block",
   "toc_window_display": false
  }
 },
 "nbformat": 4,
 "nbformat_minor": 0
}
