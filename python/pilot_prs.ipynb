{
 "cells": [
  {
   "cell_type": "code",
   "execution_count": 23,
   "metadata": {
    "collapsed": false
   },
   "outputs": [
    {
     "name": "stdout",
     "output_type": "stream",
     "text": [
      "The autoreload extension is already loaded. To reload it, use:\n",
      "  %reload_ext autoreload\n"
     ]
    }
   ],
   "source": [
    "%matplotlib inline\n",
    "%load_ext autoreload\n",
    "%autoreload 2\n",
    "\n",
    "import matplotlib.pyplot as plt\n",
    "import numpy as np\n",
    "import pandas as pd\n",
    "import json\n",
    "from agents import Agent\n",
    "from mouselab import MouselabEnv\n",
    "from distributions import Normal, Categorical\n",
    "from model_utils import read_bo_policy\n",
    "from policies import FixedPlanPolicy, LiederPolicy, RandomTreePolicy\n",
    "from evaluation import *\n",
    "from pprint import pprint\n",
    "import ast"
   ]
  },
  {
   "cell_type": "code",
   "execution_count": 24,
   "metadata": {
    "collapsed": false
   },
   "outputs": [
    {
     "data": {
      "text/plain": [
       "{'0.25': [<mouselab.MouselabEnv at 0x2b0af6b7cba8>,\n",
       "  <mouselab.MouselabEnv at 0x2b0af6b7ca58>,\n",
       "  <mouselab.MouselabEnv at 0x2b0afff14dd8>,\n",
       "  <mouselab.MouselabEnv at 0x2b0af6b74d30>,\n",
       "  <mouselab.MouselabEnv at 0x2b0af6b740b8>,\n",
       "  <mouselab.MouselabEnv at 0x2b0af6b74320>,\n",
       "  <mouselab.MouselabEnv at 0x2b0af6b74208>,\n",
       "  <mouselab.MouselabEnv at 0x2b0af6b74828>,\n",
       "  <mouselab.MouselabEnv at 0x2b0af6b749e8>,\n",
       "  <mouselab.MouselabEnv at 0x2b0afff28208>,\n",
       "  <mouselab.MouselabEnv at 0x2b0afff28550>,\n",
       "  <mouselab.MouselabEnv at 0x2b0afff28898>,\n",
       "  <mouselab.MouselabEnv at 0x2b0afff28a58>,\n",
       "  <mouselab.MouselabEnv at 0x2b0afff28cf8>,\n",
       "  <mouselab.MouselabEnv at 0x2b0afff1d080>,\n",
       "  <mouselab.MouselabEnv at 0x2b0afff1d3c8>],\n",
       " '1.0': [<mouselab.MouselabEnv at 0x2b0afff1d748>,\n",
       "  <mouselab.MouselabEnv at 0x2b0afff1da90>,\n",
       "  <mouselab.MouselabEnv at 0x2b0afff1ddd8>,\n",
       "  <mouselab.MouselabEnv at 0x2b0afff2c160>,\n",
       "  <mouselab.MouselabEnv at 0x2b0afff2c4a8>,\n",
       "  <mouselab.MouselabEnv at 0x2b0afff2c7f0>,\n",
       "  <mouselab.MouselabEnv at 0x2b0afff2cb38>,\n",
       "  <mouselab.MouselabEnv at 0x2b0afff2ce80>,\n",
       "  <mouselab.MouselabEnv at 0x2b0afff31208>,\n",
       "  <mouselab.MouselabEnv at 0x2b0afff31550>,\n",
       "  <mouselab.MouselabEnv at 0x2b0afff31898>,\n",
       "  <mouselab.MouselabEnv at 0x2b0afff31be0>,\n",
       "  <mouselab.MouselabEnv at 0x2b0afff31f28>,\n",
       "  <mouselab.MouselabEnv at 0x2b0afff342b0>,\n",
       "  <mouselab.MouselabEnv at 0x2b0afff345f8>,\n",
       "  <mouselab.MouselabEnv at 0x2b0afff34940>],\n",
       " '4.0': [<mouselab.MouselabEnv at 0x2b0afff34cc0>,\n",
       "  <mouselab.MouselabEnv at 0x2b0afff3a048>,\n",
       "  <mouselab.MouselabEnv at 0x2b0afff3a390>,\n",
       "  <mouselab.MouselabEnv at 0x2b0afff3a6d8>,\n",
       "  <mouselab.MouselabEnv at 0x2b0afff3aa20>,\n",
       "  <mouselab.MouselabEnv at 0x2b0afff3ad68>,\n",
       "  <mouselab.MouselabEnv at 0x2b0afff3e0f0>,\n",
       "  <mouselab.MouselabEnv at 0x2b0afff3e438>,\n",
       "  <mouselab.MouselabEnv at 0x2b0afff3e780>,\n",
       "  <mouselab.MouselabEnv at 0x2b0afff3eac8>,\n",
       "  <mouselab.MouselabEnv at 0x2b0afff3ee10>,\n",
       "  <mouselab.MouselabEnv at 0x2b0afff41198>,\n",
       "  <mouselab.MouselabEnv at 0x2b0afff414e0>,\n",
       "  <mouselab.MouselabEnv at 0x2b0afff41828>,\n",
       "  <mouselab.MouselabEnv at 0x2b0afff41b70>,\n",
       "  <mouselab.MouselabEnv at 0x2b0afff41eb8>]}"
      ]
     },
     "execution_count": 24,
     "metadata": {},
     "output_type": "execute_result"
    }
   ],
   "source": [
    "dist = Normal(0,10)\n",
    "reward = dist.to_discrete(6)\n",
    "costs = [0.25,1.00,4.00]\n",
    "stimuli_envs ={str(cost):make_envs([4,1,2], reward, cost, n=16, ground_truth=1) for cost in costs}\n",
    "stimuli_envs"
   ]
  },
  {
   "cell_type": "code",
   "execution_count": 253,
   "metadata": {
    "collapsed": false
   },
   "outputs": [],
   "source": [
    "optimal_reward = np.zeros((16,3))\n",
    "worst_reward = np.zeros((16,3))\n",
    "mean_reward = np.zeros((16,3))\n",
    "\n",
    "lc_pol_reward = np.zeros((16,3))\n",
    "clicks = np.zeros((16,3))\n",
    "\n",
    "# samples2 = np.zeros((5000,16,3))\n",
    "\n",
    "for cost_id in range(3):\n",
    "    \n",
    "    policy = read_bo_policy(costs[cost_id])\n",
    "    envs =  stimuli_envs[str(costs[cost_id])]\n",
    "    for env in envs:\n",
    "        env.sample_term_reward = True\n",
    "    ev = evaluate(policy, envs)\n",
    "    \n",
    "    lc_pol_reward[:,cost_id] = ev['util']\n",
    "    clicks[:,cost_id] = ev['observations']\n",
    "    \n",
    "#     for i in range(5000):\n",
    "#         random_policy = RandomTreePolicy()\n",
    "#         samples2[i,:,cost_id] = evaluate(random_policy, envs)['util']\n",
    "        \n",
    "    for env_id in range(16):\n",
    "        env = envs[env_id]\n",
    "        optimal_reward[env_id,cost_id] = env.true_Q(0)\n",
    "        worst_reward[env_id,cost_id] = env.worst_Q(0)\n",
    "        mean_reward[env_id,cost_id] = env.mean_Q(0)"
   ]
  },
  {
   "cell_type": "code",
   "execution_count": 199,
   "metadata": {
    "collapsed": false
   },
   "outputs": [],
   "source": [
    "rand_reward_samples2 = np.zeros((10000,16,3))\n",
    "for sample in range(10000):\n",
    "    for cost_id in range(3):\n",
    "        envs =  stimuli_envs[str(costs[cost_id])]\n",
    "        for env_id in range(16):\n",
    "            env = envs[env_id]\n",
    "            rand_reward_samples2[sample,env_id,cost_id] = env.rand_Q(0)"
   ]
  },
  {
   "cell_type": "code",
   "execution_count": 254,
   "metadata": {
    "collapsed": false
   },
   "outputs": [
    {
     "data": {
      "text/plain": [
       "array([[  4.,   4.,   4.],\n",
       "       [ 36.,  36.,  36.],\n",
       "       [ 36.,  36.,  36.],\n",
       "       [ -4.,  -4.,  -4.],\n",
       "       [ 28.,  28.,  28.],\n",
       "       [ 28.,  28.,  28.],\n",
       "       [ 28.,  28.,  28.],\n",
       "       [ 28.,  28.,  28.],\n",
       "       [ 20.,  20.,  20.],\n",
       "       [ 12.,  12.,  12.],\n",
       "       [ 28.,  28.,  28.],\n",
       "       [ 12.,  12.,  12.],\n",
       "       [ 36.,  36.,  36.],\n",
       "       [ 44.,  44.,  44.],\n",
       "       [ 28.,  28.,  28.],\n",
       "       [ 36.,  36.,  36.]])"
      ]
     },
     "execution_count": 254,
     "metadata": {},
     "output_type": "execute_result"
    }
   ],
   "source": [
    "optimal_reward"
   ]
  },
  {
   "cell_type": "code",
   "execution_count": 255,
   "metadata": {
    "collapsed": false
   },
   "outputs": [
    {
     "data": {
      "text/plain": [
       "array([[-36., -36., -36.],\n",
       "       [-12., -12., -12.],\n",
       "       [-20., -20., -20.],\n",
       "       [-36., -36., -36.],\n",
       "       [-12., -12., -12.],\n",
       "       [ -4.,  -4.,  -4.],\n",
       "       [ -4.,  -4.,  -4.],\n",
       "       [-60., -60., -60.],\n",
       "       [-20., -20., -20.],\n",
       "       [-36., -36., -36.],\n",
       "       [-44., -44., -44.],\n",
       "       [-20., -20., -20.],\n",
       "       [-20., -20., -20.],\n",
       "       [-36., -36., -36.],\n",
       "       [-20., -20., -20.],\n",
       "       [-12., -12., -12.]])"
      ]
     },
     "execution_count": 255,
     "metadata": {},
     "output_type": "execute_result"
    }
   ],
   "source": [
    "worst_reward"
   ]
  },
  {
   "cell_type": "code",
   "execution_count": 256,
   "metadata": {
    "collapsed": false
   },
   "outputs": [
    {
     "data": {
      "text/plain": [
       "array([[  0.5 ,  -6.  , -12.  ],\n",
       "       [ 34.75,  31.  ,  20.  ],\n",
       "       [ 33.75,  25.  ,  24.  ],\n",
       "       [ -8.  , -14.  , -12.  ],\n",
       "       [ 26.  ,  24.  ,  20.  ],\n",
       "       [ 25.5 ,  15.  ,  16.  ],\n",
       "       [ 24.75,  19.  ,  -8.  ],\n",
       "       [ 24.75,  12.  ,   0.  ],\n",
       "       [ 17.75,  12.  , -12.  ],\n",
       "       [  9.5 ,   2.  , -36.  ],\n",
       "       [ 25.75,  20.  ,  -4.  ],\n",
       "       [  8.5 ,   3.  , -16.  ],\n",
       "       [ 34.25,  30.  ,  16.  ],\n",
       "       [ 43.  ,  40.  ,  16.  ],\n",
       "       [ 26.  ,  23.  ,  12.  ],\n",
       "       [ 33.  ,  27.  , -20.  ]])"
      ]
     },
     "execution_count": 256,
     "metadata": {},
     "output_type": "execute_result"
    }
   ],
   "source": [
    "lc_pol_reward"
   ]
  },
  {
   "cell_type": "code",
   "execution_count": 211,
   "metadata": {
    "collapsed": true
   },
   "outputs": [],
   "source": [
    "old_samples = all_samples"
   ]
  },
  {
   "cell_type": "code",
   "execution_count": 257,
   "metadata": {
    "collapsed": false,
    "scrolled": true
   },
   "outputs": [
    {
     "name": "stdout",
     "output_type": "stream",
     "text": [
      "(10000, 16, 3)\n"
     ]
    },
    {
     "data": {
      "text/plain": [
       "array([[ -5.652, -12.   , -35.96 ],\n",
       "       [ 21.184,  14.7  ,  -9.267],\n",
       "       [ 26.378,  20.207,  -3.902],\n",
       "       [-14.105, -19.911, -43.824],\n",
       "       [ 16.68 ,  10.912, -13.416],\n",
       "       [ 21.841,  15.982,  -7.966],\n",
       "       [ 14.802,   9.031, -14.937],\n",
       "       [ 18.707,  12.727, -11.105],\n",
       "       [  6.944,   0.849, -23.149],\n",
       "       [ -1.634,  -7.917, -31.574],\n",
       "       [ 13.815,   7.597, -16.462],\n",
       "       [  3.217,  -2.97 , -26.935],\n",
       "       [ 24.145,  17.952,  -6.109],\n",
       "       [ 30.644,  24.647,   0.562],\n",
       "       [ 18.166,  12.041, -11.97 ],\n",
       "       [ 23.149,  17.208,  -6.922]])"
      ]
     },
     "execution_count": 257,
     "metadata": {},
     "output_type": "execute_result"
    }
   ],
   "source": [
    "print(np.shape(all_samples))\n",
    "base = np.mean(all_samples,0)\n",
    "base"
   ]
  },
  {
   "cell_type": "code",
   "execution_count": 258,
   "metadata": {
    "collapsed": false
   },
   "outputs": [
    {
     "data": {
      "text/plain": [
       "array([[ 0.201,  0.176,  0.299],\n",
       "       [ 0.335,  0.301,  0.305],\n",
       "       [ 0.185,  0.177,  0.341],\n",
       "       [ 0.21 ,  0.186,  0.32 ],\n",
       "       [ 0.284,  0.248,  0.308],\n",
       "       [ 0.139,  0.13 ,  0.336],\n",
       "       [ 0.215,  0.179,  0.289],\n",
       "       [ 0.141,  0.118,  0.311],\n",
       "       [ 0.229,  0.197,  0.294],\n",
       "       [ 0.296,  0.265,  0.297],\n",
       "       [ 0.281,  0.248,  0.294],\n",
       "       [ 0.166,  0.138,  0.301],\n",
       "       [ 0.228,  0.212,  0.344],\n",
       "       [ 0.288,  0.254,  0.321],\n",
       "       [ 0.163,  0.142,  0.316],\n",
       "       [ 0.251,  0.223,  0.305]])"
      ]
     },
     "execution_count": 258,
     "metadata": {},
     "output_type": "execute_result"
    }
   ],
   "source": [
    "1.96*np.std(all_samples,0)/np.sqrt(10000)"
   ]
  },
  {
   "cell_type": "code",
   "execution_count": 259,
   "metadata": {
    "collapsed": false
   },
   "outputs": [
    {
     "data": {
      "text/plain": [
       "array([[-13.12 , -13.164, -12.94 ],\n",
       "       [  5.037,   4.982,   5.059],\n",
       "       [ 11.88 ,  11.841,  12.137],\n",
       "       [-17.931, -17.875, -18.037],\n",
       "       [  2.001,   1.957,   2.061],\n",
       "       [  9.916,  10.038,  10.134],\n",
       "       [  8.936,   9.   ,   8.932],\n",
       "       [ -0.875,  -0.549,  -0.886],\n",
       "       [ -4.952,  -5.002,  -4.958],\n",
       "       [-10.957, -11.012, -11.04 ],\n",
       "       [ -5.013,  -5.014,  -4.894],\n",
       "       [ -2.007,  -2.044,  -1.976],\n",
       "       [  8.842,   8.887,   8.84 ],\n",
       "       [ -3.804,  -4.018,  -4.143],\n",
       "       [  8.991,   9.022,   8.952],\n",
       "       [ 10.196,  10.072,   9.834]])"
      ]
     },
     "execution_count": 259,
     "metadata": {},
     "output_type": "execute_result"
    }
   ],
   "source": [
    "rand_reward_samples = np.concatenate((rand_reward_samples,rand_reward_samples2))\n",
    "rand_reward = np.mean(rand_reward_samples,axis=0)\n",
    "rand_reward"
   ]
  },
  {
   "cell_type": "code",
   "execution_count": 260,
   "metadata": {
    "collapsed": false
   },
   "outputs": [
    {
     "data": {
      "text/plain": [
       "array([[ 0.196,  0.196,  0.194],\n",
       "       [ 0.244,  0.244,  0.245],\n",
       "       [ 0.247,  0.248,  0.247],\n",
       "       [ 0.164,  0.164,  0.164],\n",
       "       [ 0.189,  0.19 ,  0.19 ],\n",
       "       [ 0.182,  0.181,  0.182],\n",
       "       [ 0.157,  0.155,  0.156],\n",
       "       [ 0.426,  0.422,  0.425],\n",
       "       [ 0.203,  0.203,  0.203],\n",
       "       [ 0.233,  0.232,  0.231],\n",
       "       [ 0.308,  0.306,  0.304],\n",
       "       [ 0.144,  0.145,  0.144],\n",
       "       [ 0.254,  0.253,  0.253],\n",
       "       [ 0.354,  0.354,  0.355],\n",
       "       [ 0.2  ,  0.199,  0.201],\n",
       "       [ 0.221,  0.219,  0.22 ]])"
      ]
     },
     "execution_count": 260,
     "metadata": {},
     "output_type": "execute_result"
    }
   ],
   "source": [
    "1.96*np.std(rand_reward_samples,0)/np.sqrt(20000)"
   ]
  },
  {
   "cell_type": "code",
   "execution_count": 261,
   "metadata": {
    "collapsed": false
   },
   "outputs": [
    {
     "data": {
      "text/plain": [
       "array([[-13., -13., -13.],\n",
       "       [  5.,   5.,   5.],\n",
       "       [ 12.,  12.,  12.],\n",
       "       [-18., -18., -18.],\n",
       "       [  2.,   2.,   2.],\n",
       "       [ 10.,  10.,  10.],\n",
       "       [  9.,   9.,   9.],\n",
       "       [ -1.,  -1.,  -1.],\n",
       "       [ -5.,  -5.,  -5.],\n",
       "       [-11., -11., -11.],\n",
       "       [ -5.,  -5.,  -5.],\n",
       "       [ -2.,  -2.,  -2.],\n",
       "       [  9.,   9.,   9.],\n",
       "       [ -4.,  -4.,  -4.],\n",
       "       [  9.,   9.,   9.],\n",
       "       [ 10.,  10.,  10.]])"
      ]
     },
     "execution_count": 261,
     "metadata": {},
     "output_type": "execute_result"
    }
   ],
   "source": [
    "mean_reward"
   ]
  },
  {
   "cell_type": "code",
   "execution_count": 262,
   "metadata": {
    "collapsed": false
   },
   "outputs": [
    {
     "data": {
      "text/plain": [
       "array([  0.,  12.,   4., -20.,   4.,  -4.,   4.,  12.,  -4.,  12.,   4., -20.,  12.,   4.,  20., -12., -12.])"
      ]
     },
     "execution_count": 262,
     "metadata": {},
     "output_type": "execute_result"
    }
   ],
   "source": [
    "envs[6].ground_truth"
   ]
  },
  {
   "cell_type": "code",
   "execution_count": 263,
   "metadata": {
    "collapsed": false
   },
   "outputs": [
    {
     "data": {
      "text/plain": [
       "array([[ 13.5 ,   7.  ,   1.  ],\n",
       "       [ 29.75,  26.  ,  15.  ],\n",
       "       [ 21.75,  13.  ,  12.  ],\n",
       "       [ 10.  ,   4.  ,   6.  ],\n",
       "       [ 24.  ,  22.  ,  18.  ],\n",
       "       [ 15.5 ,   5.  ,   6.  ],\n",
       "       [ 15.75,  10.  , -17.  ],\n",
       "       [ 25.75,  13.  ,   1.  ],\n",
       "       [ 22.75,  17.  ,  -7.  ],\n",
       "       [ 20.5 ,  13.  , -25.  ],\n",
       "       [ 30.75,  25.  ,   1.  ],\n",
       "       [ 10.5 ,   5.  , -14.  ],\n",
       "       [ 25.25,  21.  ,   7.  ],\n",
       "       [ 47.  ,  44.  ,  20.  ],\n",
       "       [ 17.  ,  14.  ,   3.  ],\n",
       "       [ 23.  ,  17.  , -30.  ]])"
      ]
     },
     "execution_count": 263,
     "metadata": {},
     "output_type": "execute_result"
    }
   ],
   "source": [
    "lc_pol_reward - mean_reward"
   ]
  },
  {
   "cell_type": "code",
   "execution_count": 264,
   "metadata": {
    "collapsed": false
   },
   "outputs": [
    {
     "data": {
      "text/plain": [
       "array([[ 1.,  1.,  1.],\n",
       "       [ 1.,  1.,  1.],\n",
       "       [ 1.,  1.,  1.],\n",
       "       [ 1.,  1.,  1.],\n",
       "       [ 1.,  1.,  1.],\n",
       "       [ 1.,  1.,  1.],\n",
       "       [ 1.,  1.,  1.],\n",
       "       [ 1.,  1.,  1.],\n",
       "       [ 1.,  1.,  1.],\n",
       "       [ 1.,  1.,  1.],\n",
       "       [ 1.,  1.,  1.],\n",
       "       [ 1.,  1.,  1.],\n",
       "       [ 1.,  1.,  1.],\n",
       "       [ 1.,  1.,  1.],\n",
       "       [ 1.,  1.,  1.],\n",
       "       [ 1.,  1.,  1.]])"
      ]
     },
     "execution_count": 264,
     "metadata": {},
     "output_type": "execute_result"
    }
   ],
   "source": [
    "rel = (lc_pol_reward-mean_reward)/(lc_pol_reward-mean_reward)\n",
    "rel"
   ]
  },
  {
   "cell_type": "code",
   "execution_count": 265,
   "metadata": {
    "collapsed": false
   },
   "outputs": [
    {
     "data": {
      "text/plain": [
       "array([[ 14.,  10.,   2.],\n",
       "       [  5.,   5.,   2.],\n",
       "       [  9.,   3.,   1.],\n",
       "       [ 16.,  10.,   2.],\n",
       "       [  8.,   4.,   2.],\n",
       "       [ 10.,   5.,   1.],\n",
       "       [ 13.,   9.,   1.],\n",
       "       [ 13.,   8.,   1.],\n",
       "       [  9.,   8.,   2.],\n",
       "       [ 10.,  10.,   2.],\n",
       "       [  9.,   8.,   2.],\n",
       "       [ 14.,   9.,   1.],\n",
       "       [  7.,   6.,   1.],\n",
       "       [  4.,   4.,   1.],\n",
       "       [  8.,   5.,   2.],\n",
       "       [ 12.,   9.,   2.]])"
      ]
     },
     "execution_count": 265,
     "metadata": {},
     "output_type": "execute_result"
    }
   ],
   "source": [
    "clicks"
   ]
  },
  {
   "cell_type": "code",
   "execution_count": 266,
   "metadata": {
    "collapsed": false
   },
   "outputs": [
    {
     "data": {
      "text/plain": [
       "1.5625"
      ]
     },
     "execution_count": 266,
     "metadata": {},
     "output_type": "execute_result"
    }
   ],
   "source": [
    "np.mean(clicks[:,2])"
   ]
  },
  {
   "cell_type": "code",
   "execution_count": 267,
   "metadata": {
    "collapsed": false
   },
   "outputs": [],
   "source": [
    "np.savetxt('../experiments/data/stimuli/exp1/optimal1A.2.csv', lc_pol_reward, delimiter=\",\")\n",
    "np.savetxt('../experiments/data/stimuli/exp1/worst1A.2.csv', mean_reward, delimiter=\",\")\n",
    "np.savetxt('../experiments/data/stimuli/exp1/rel_score_pi_star1A.2.csv', rel, delimiter=\",\")\n",
    "np.savetxt('../experiments/data/stimuli/exp1/nr_observations_pi_star1A.2.csv', clicks, delimiter=\",\")"
   ]
  },
  {
   "cell_type": "code",
   "execution_count": 251,
   "metadata": {
    "collapsed": false
   },
   "outputs": [
    {
     "data": {
      "text/plain": [
       "array([[  0.5 ,  -6.  , -12.  ],\n",
       "       [ 34.75,  31.  ,  20.  ],\n",
       "       [ 33.75,  25.  ,  24.  ],\n",
       "       [ -8.  , -14.  , -12.  ],\n",
       "       [ 26.  ,  24.  ,  20.  ],\n",
       "       [ 25.5 ,  15.  ,  16.  ],\n",
       "       [ 24.75,  19.  ,  -8.  ],\n",
       "       [ 24.75,  12.  ,   0.  ],\n",
       "       [ 17.75,  12.  , -12.  ],\n",
       "       [  9.5 ,   2.  , -36.  ],\n",
       "       [ 25.75,  20.  ,  -4.  ],\n",
       "       [  8.5 ,   3.  , -16.  ],\n",
       "       [ 34.25,  30.  ,  16.  ],\n",
       "       [ 43.  ,  40.  ,  16.  ],\n",
       "       [ 26.  ,  23.  ,  12.  ],\n",
       "       [ 33.  ,  27.  , -20.  ]])"
      ]
     },
     "execution_count": 251,
     "metadata": {},
     "output_type": "execute_result"
    }
   ],
   "source": [
    "lc_pol_reward"
   ]
  },
  {
   "cell_type": "code",
   "execution_count": 194,
   "metadata": {
    "collapsed": false
   },
   "outputs": [
    {
     "data": {
      "text/plain": [
       "array([[ 14.,  12.,   4.],\n",
       "       [  5.,   8.,   3.],\n",
       "       [  9.,   9.,   2.],\n",
       "       [ 16.,   8.,   4.],\n",
       "       [  8.,   6.,   3.],\n",
       "       [ 10.,   9.,   2.],\n",
       "       [ 13.,   9.,   2.],\n",
       "       [ 13.,  13.,   2.],\n",
       "       [  9.,   9.,   3.],\n",
       "       [ 10.,  11.,   3.],\n",
       "       [  8.,   8.,   4.],\n",
       "       [ 14.,  13.,   2.],\n",
       "       [  7.,   5.,   2.],\n",
       "       [  4.,   3.,   2.],\n",
       "       [  8.,  10.,   3.],\n",
       "       [ 12.,  10.,   3.]])"
      ]
     },
     "execution_count": 194,
     "metadata": {},
     "output_type": "execute_result"
    }
   ],
   "source": [
    "clicks"
   ]
  },
  {
   "cell_type": "markdown",
   "metadata": {},
   "source": [
    "# Pilot PRs"
   ]
  },
  {
   "cell_type": "code",
   "execution_count": 27,
   "metadata": {
    "collapsed": false
   },
   "outputs": [
    {
     "data": {
      "text/plain": [
       "{'0.1': [<mouselab.MouselabEnv at 0x2b0afff46d68>,\n",
       "  <mouselab.MouselabEnv at 0x2b0afff46f98>,\n",
       "  <mouselab.MouselabEnv at 0x2b0afff4b320>,\n",
       "  <mouselab.MouselabEnv at 0x2b0afff4b668>,\n",
       "  <mouselab.MouselabEnv at 0x2b0afff4b9b0>,\n",
       "  <mouselab.MouselabEnv at 0x2b0afff4bcf8>,\n",
       "  <mouselab.MouselabEnv at 0x2b0af6b7c400>,\n",
       "  <mouselab.MouselabEnv at 0x2b0af6b7c320>,\n",
       "  <mouselab.MouselabEnv at 0x2b0af6b52f98>,\n",
       "  <mouselab.MouselabEnv at 0x2b0af6b52c50>,\n",
       "  <mouselab.MouselabEnv at 0x2b0afff52208>,\n",
       "  <mouselab.MouselabEnv at 0x2b0afff52550>,\n",
       "  <mouselab.MouselabEnv at 0x2b0afff52898>,\n",
       "  <mouselab.MouselabEnv at 0x2b0afff52be0>,\n",
       "  <mouselab.MouselabEnv at 0x2b0afff52f28>,\n",
       "  <mouselab.MouselabEnv at 0x2b0afff572b0>],\n",
       " '1.25': [<mouselab.MouselabEnv at 0x2b0afff57630>,\n",
       "  <mouselab.MouselabEnv at 0x2b0afff57978>,\n",
       "  <mouselab.MouselabEnv at 0x2b0afff57cc0>,\n",
       "  <mouselab.MouselabEnv at 0x2b0afff5a048>,\n",
       "  <mouselab.MouselabEnv at 0x2b0afff5a390>,\n",
       "  <mouselab.MouselabEnv at 0x2b0afff5a6d8>,\n",
       "  <mouselab.MouselabEnv at 0x2b0afff5aa20>,\n",
       "  <mouselab.MouselabEnv at 0x2b0afff5ad68>,\n",
       "  <mouselab.MouselabEnv at 0x2b0afff5e0f0>,\n",
       "  <mouselab.MouselabEnv at 0x2b0afff5e438>,\n",
       "  <mouselab.MouselabEnv at 0x2b0afff5e780>,\n",
       "  <mouselab.MouselabEnv at 0x2b0afff5eac8>,\n",
       "  <mouselab.MouselabEnv at 0x2b0afff5ee10>,\n",
       "  <mouselab.MouselabEnv at 0x2b0afff63198>,\n",
       "  <mouselab.MouselabEnv at 0x2b0afff634e0>,\n",
       "  <mouselab.MouselabEnv at 0x2b0afff63828>],\n",
       " '4.0': [<mouselab.MouselabEnv at 0x2b0afff63ba8>,\n",
       "  <mouselab.MouselabEnv at 0x2b0afff63ef0>,\n",
       "  <mouselab.MouselabEnv at 0x2b0afff66278>,\n",
       "  <mouselab.MouselabEnv at 0x2b0afff665c0>,\n",
       "  <mouselab.MouselabEnv at 0x2b0afff66908>,\n",
       "  <mouselab.MouselabEnv at 0x2b0afff66c50>,\n",
       "  <mouselab.MouselabEnv at 0x2b0afff66f98>,\n",
       "  <mouselab.MouselabEnv at 0x2b0afff6b320>,\n",
       "  <mouselab.MouselabEnv at 0x2b0afff6b668>,\n",
       "  <mouselab.MouselabEnv at 0x2b0afff6b9b0>,\n",
       "  <mouselab.MouselabEnv at 0x2b0afff6bcf8>,\n",
       "  <mouselab.MouselabEnv at 0x2b0afff70080>,\n",
       "  <mouselab.MouselabEnv at 0x2b0afff703c8>,\n",
       "  <mouselab.MouselabEnv at 0x2b0afff70710>,\n",
       "  <mouselab.MouselabEnv at 0x2b0afff70a58>,\n",
       "  <mouselab.MouselabEnv at 0x2b0afff70da0>]}"
      ]
     },
     "execution_count": 27,
     "metadata": {},
     "output_type": "execute_result"
    }
   ],
   "source": [
    "costs = [0.10,1.25,4.00] \n",
    "stimuli_envs ={str(cost):make_envs([4,1,2], reward, cost, n=16, ground_truth=1) for cost in costs}\n",
    "stimuli_envs"
   ]
  },
  {
   "cell_type": "code",
   "execution_count": 36,
   "metadata": {
    "collapsed": false
   },
   "outputs": [],
   "source": [
    "trials = pd.read_csv('../experiments/data/human/0.995/trials.csv')\n",
    "trials = trials.loc[trials['info_cost'].isin(costs)]"
   ]
  },
  {
   "cell_type": "code",
   "execution_count": 37,
   "metadata": {
    "collapsed": true
   },
   "outputs": [],
   "source": [
    "trials['pr_sum'] = np.zeros(trials.shape[0])\n",
    "trials['click_prs'] = [[]]*trials.shape[0]"
   ]
  },
  {
   "cell_type": "code",
   "execution_count": 38,
   "metadata": {
    "collapsed": true
   },
   "outputs": [],
   "source": [
    "def make_env(depth, reward, cost, ground_truth=False):\n",
    "    \"\"\"Returns a MouselabEnv with given depth and cost. \n",
    "    If `ground_truth` is True, the reward observed at a given node will be\n",
    "    constant across runs on this env. This reduces variance of the return.\"\"\"\n",
    "    env = MouselabEnv(depth, reward=reward, cost=cost)\n",
    "    if ground_truth:\n",
    "        env.ground_truth = np.array([0, *reward.sample(len(env.tree) - 1)])\n",
    "    return env\n",
    "\n",
    "def make_envs(depth, reward, cost, n=100, ground_truth=None):\n",
    "    # Note, ground_truth can be an int in which case it acts as a random seed.\n",
    "    if ground_truth is not None:\n",
    "        np.random.seed(ground_truth)\n",
    "        return [make_env(depth, reward, cost, True) for _ in range(n)]\n",
    "    else:\n",
    "        return [make_env(depth, reward, cost, False)] * n"
   ]
  },
  {
   "cell_type": "code",
   "execution_count": 39,
   "metadata": {
    "collapsed": false
   },
   "outputs": [
    {
     "name": "stdout",
     "output_type": "stream",
     "text": [
      "{'0.10': [4.645176951827218,\n",
      "          0.04783056305614096,\n",
      "          0.044789706164195975,\n",
      "          0.9338160228125272,\n",
      "          0.9994239339903965],\n",
      " '1.25': [1.7807939607281613,\n",
      "          0.45246829707936637,\n",
      "          0.27572911981296844,\n",
      "          0.39014475114599445,\n",
      "          0.9905875327727384],\n",
      " '4.00': [1.0066519566667151,\n",
      "          0.9887916151065947,\n",
      "          -0.00820497960640427,\n",
      "          0.006948313322695628,\n",
      "          1.0003951332873617]}\n"
     ]
    }
   ],
   "source": [
    "with open('data/q_weights.json') as data_file:    \n",
    "    q_weights = json.load(data_file)\n",
    "pprint(q_weights)"
   ]
  },
  {
   "cell_type": "code",
   "execution_count": null,
   "metadata": {
    "collapsed": false,
    "scrolled": true
   },
   "outputs": [
    {
     "name": "stdout",
     "output_type": "stream",
     "text": [
      "0\n",
      "40\n",
      "60\n",
      "120\n",
      "280\n",
      "360\n",
      "380\n",
      "400\n",
      "460\n",
      "480\n",
      "580\n",
      "600\n",
      "620\n",
      "640\n",
      "660\n",
      "680\n",
      "740\n",
      "760\n"
     ]
    }
   ],
   "source": [
    "for index, row in trials.iterrows():\n",
    "    if index % 20 == 0: print(index)\n",
    "    cost = row['info_cost']\n",
    "    s_cost = str(cost)\n",
    "    trial_id = row['trial_index']\n",
    "    \n",
    "#     stimuli_envs = make_envs([4,1,2], reward, cost, n=16, ground_truth=1)\n",
    "#     menv = stimuli_envs[trial_id-1]\n",
    "    menv = stimuli_envs[s_cost][trial_id-1]\n",
    "       \n",
    "    if s_cost == '0.1': s_cost = '0.10'\n",
    "    elif s_cost == '4.0': s_cost = '4.00'\n",
    "    q_weight = q_weights[s_cost]\n",
    "    \n",
    "    clicks = ast.literal_eval(row['clicks'])\n",
    "    clicks.append(17)\n",
    "    pr_sum = 0\n",
    "    click_prs = []\n",
    "    for a in clicks:\n",
    "        f = menv.action_features(a)\n",
    "        pr = np.inner(q_weight,f) - np.max([np.inner(q_weight,menv.action_features(a2)) for a2 in menv.actions(menv._state)])\n",
    "        menv.step(a)\n",
    "        pr_sum += pr\n",
    "        click_prs.append(pr)\n",
    "    trials.set_value(index,'pr_sum',pr_sum)\n",
    "    trials.set_value(index,'click_prs',click_prs)\n",
    "    menv.reset()"
   ]
  },
  {
   "cell_type": "code",
   "execution_count": null,
   "metadata": {
    "collapsed": true
   },
   "outputs": [],
   "source": [
    "csv_ready = trials[['pid','info_cost','trial_index','pr_sum','click_prs']]"
   ]
  },
  {
   "cell_type": "code",
   "execution_count": null,
   "metadata": {
    "collapsed": false
   },
   "outputs": [],
   "source": [
    "csv_ready"
   ]
  },
  {
   "cell_type": "code",
   "execution_count": 39,
   "metadata": {
    "collapsed": false
   },
   "outputs": [
    {
     "data": {
      "text/html": [
       "<div>\n",
       "<table border=\"1\" class=\"dataframe\">\n",
       "  <thead>\n",
       "    <tr style=\"text-align: right;\">\n",
       "      <th></th>\n",
       "      <th>pid</th>\n",
       "      <th>info_cost</th>\n",
       "      <th>trial_index</th>\n",
       "      <th>click_num</th>\n",
       "      <th>click_pr</th>\n",
       "    </tr>\n",
       "  </thead>\n",
       "  <tbody>\n",
       "    <tr>\n",
       "      <th>0</th>\n",
       "      <td>0</td>\n",
       "      <td>1.0</td>\n",
       "      <td>1</td>\n",
       "      <td>0</td>\n",
       "      <td>0.000000</td>\n",
       "    </tr>\n",
       "    <tr>\n",
       "      <th>1</th>\n",
       "      <td>0</td>\n",
       "      <td>1.0</td>\n",
       "      <td>1</td>\n",
       "      <td>1</td>\n",
       "      <td>-3.489671</td>\n",
       "    </tr>\n",
       "    <tr>\n",
       "      <th>2</th>\n",
       "      <td>0</td>\n",
       "      <td>1.0</td>\n",
       "      <td>1</td>\n",
       "      <td>2</td>\n",
       "      <td>-4.388081</td>\n",
       "    </tr>\n",
       "    <tr>\n",
       "      <th>3</th>\n",
       "      <td>0</td>\n",
       "      <td>1.0</td>\n",
       "      <td>1</td>\n",
       "      <td>3</td>\n",
       "      <td>-4.388081</td>\n",
       "    </tr>\n",
       "    <tr>\n",
       "      <th>4</th>\n",
       "      <td>0</td>\n",
       "      <td>1.0</td>\n",
       "      <td>1</td>\n",
       "      <td>4</td>\n",
       "      <td>0.000000</td>\n",
       "    </tr>\n",
       "    <tr>\n",
       "      <th>5</th>\n",
       "      <td>0</td>\n",
       "      <td>1.0</td>\n",
       "      <td>1</td>\n",
       "      <td>5</td>\n",
       "      <td>-1.839783</td>\n",
       "    </tr>\n",
       "    <tr>\n",
       "      <th>6</th>\n",
       "      <td>0</td>\n",
       "      <td>1.0</td>\n",
       "      <td>1</td>\n",
       "      <td>6</td>\n",
       "      <td>-1.502107</td>\n",
       "    </tr>\n",
       "    <tr>\n",
       "      <th>7</th>\n",
       "      <td>0</td>\n",
       "      <td>1.0</td>\n",
       "      <td>1</td>\n",
       "      <td>7</td>\n",
       "      <td>-1.360207</td>\n",
       "    </tr>\n",
       "    <tr>\n",
       "      <th>8</th>\n",
       "      <td>0</td>\n",
       "      <td>1.0</td>\n",
       "      <td>1</td>\n",
       "      <td>8</td>\n",
       "      <td>0.000000</td>\n",
       "    </tr>\n",
       "    <tr>\n",
       "      <th>9</th>\n",
       "      <td>0</td>\n",
       "      <td>1.0</td>\n",
       "      <td>1</td>\n",
       "      <td>9</td>\n",
       "      <td>-1.253846</td>\n",
       "    </tr>\n",
       "    <tr>\n",
       "      <th>10</th>\n",
       "      <td>0</td>\n",
       "      <td>1.0</td>\n",
       "      <td>1</td>\n",
       "      <td>10</td>\n",
       "      <td>-1.360207</td>\n",
       "    </tr>\n",
       "    <tr>\n",
       "      <th>11</th>\n",
       "      <td>0</td>\n",
       "      <td>1.0</td>\n",
       "      <td>1</td>\n",
       "      <td>11</td>\n",
       "      <td>-1.360207</td>\n",
       "    </tr>\n",
       "    <tr>\n",
       "      <th>12</th>\n",
       "      <td>0</td>\n",
       "      <td>1.0</td>\n",
       "      <td>1</td>\n",
       "      <td>12</td>\n",
       "      <td>0.000000</td>\n",
       "    </tr>\n",
       "    <tr>\n",
       "      <th>13</th>\n",
       "      <td>0</td>\n",
       "      <td>1.0</td>\n",
       "      <td>1</td>\n",
       "      <td>13</td>\n",
       "      <td>-0.859637</td>\n",
       "    </tr>\n",
       "    <tr>\n",
       "      <th>14</th>\n",
       "      <td>0</td>\n",
       "      <td>1.0</td>\n",
       "      <td>1</td>\n",
       "      <td>14</td>\n",
       "      <td>0.000000</td>\n",
       "    </tr>\n",
       "    <tr>\n",
       "      <th>15</th>\n",
       "      <td>0</td>\n",
       "      <td>1.0</td>\n",
       "      <td>1</td>\n",
       "      <td>15</td>\n",
       "      <td>0.000000</td>\n",
       "    </tr>\n",
       "    <tr>\n",
       "      <th>16</th>\n",
       "      <td>0</td>\n",
       "      <td>1.0</td>\n",
       "      <td>1</td>\n",
       "      <td>16</td>\n",
       "      <td>0.000000</td>\n",
       "    </tr>\n",
       "    <tr>\n",
       "      <th>17</th>\n",
       "      <td>0</td>\n",
       "      <td>1.0</td>\n",
       "      <td>2</td>\n",
       "      <td>0</td>\n",
       "      <td>0.000000</td>\n",
       "    </tr>\n",
       "    <tr>\n",
       "      <th>18</th>\n",
       "      <td>0</td>\n",
       "      <td>1.0</td>\n",
       "      <td>2</td>\n",
       "      <td>1</td>\n",
       "      <td>-1.787734</td>\n",
       "    </tr>\n",
       "    <tr>\n",
       "      <th>19</th>\n",
       "      <td>0</td>\n",
       "      <td>1.0</td>\n",
       "      <td>2</td>\n",
       "      <td>2</td>\n",
       "      <td>-8.937174</td>\n",
       "    </tr>\n",
       "    <tr>\n",
       "      <th>20</th>\n",
       "      <td>0</td>\n",
       "      <td>1.0</td>\n",
       "      <td>3</td>\n",
       "      <td>0</td>\n",
       "      <td>0.000000</td>\n",
       "    </tr>\n",
       "    <tr>\n",
       "      <th>21</th>\n",
       "      <td>0</td>\n",
       "      <td>1.0</td>\n",
       "      <td>3</td>\n",
       "      <td>1</td>\n",
       "      <td>-0.394992</td>\n",
       "    </tr>\n",
       "    <tr>\n",
       "      <th>22</th>\n",
       "      <td>0</td>\n",
       "      <td>1.0</td>\n",
       "      <td>3</td>\n",
       "      <td>2</td>\n",
       "      <td>-5.424993</td>\n",
       "    </tr>\n",
       "    <tr>\n",
       "      <th>23</th>\n",
       "      <td>0</td>\n",
       "      <td>1.0</td>\n",
       "      <td>4</td>\n",
       "      <td>0</td>\n",
       "      <td>0.000000</td>\n",
       "    </tr>\n",
       "    <tr>\n",
       "      <th>24</th>\n",
       "      <td>0</td>\n",
       "      <td>1.0</td>\n",
       "      <td>4</td>\n",
       "      <td>1</td>\n",
       "      <td>0.000000</td>\n",
       "    </tr>\n",
       "    <tr>\n",
       "      <th>25</th>\n",
       "      <td>0</td>\n",
       "      <td>1.0</td>\n",
       "      <td>4</td>\n",
       "      <td>2</td>\n",
       "      <td>0.000000</td>\n",
       "    </tr>\n",
       "    <tr>\n",
       "      <th>26</th>\n",
       "      <td>0</td>\n",
       "      <td>1.0</td>\n",
       "      <td>4</td>\n",
       "      <td>3</td>\n",
       "      <td>-0.432656</td>\n",
       "    </tr>\n",
       "    <tr>\n",
       "      <th>27</th>\n",
       "      <td>0</td>\n",
       "      <td>1.0</td>\n",
       "      <td>4</td>\n",
       "      <td>4</td>\n",
       "      <td>-6.020083</td>\n",
       "    </tr>\n",
       "    <tr>\n",
       "      <th>28</th>\n",
       "      <td>0</td>\n",
       "      <td>1.0</td>\n",
       "      <td>5</td>\n",
       "      <td>0</td>\n",
       "      <td>0.000000</td>\n",
       "    </tr>\n",
       "    <tr>\n",
       "      <th>29</th>\n",
       "      <td>0</td>\n",
       "      <td>1.0</td>\n",
       "      <td>5</td>\n",
       "      <td>1</td>\n",
       "      <td>-6.910454</td>\n",
       "    </tr>\n",
       "    <tr>\n",
       "      <th>...</th>\n",
       "      <td>...</td>\n",
       "      <td>...</td>\n",
       "      <td>...</td>\n",
       "      <td>...</td>\n",
       "      <td>...</td>\n",
       "    </tr>\n",
       "    <tr>\n",
       "      <th>8576</th>\n",
       "      <td>105</td>\n",
       "      <td>1.0</td>\n",
       "      <td>10</td>\n",
       "      <td>2</td>\n",
       "      <td>0.000000</td>\n",
       "    </tr>\n",
       "    <tr>\n",
       "      <th>8577</th>\n",
       "      <td>105</td>\n",
       "      <td>1.0</td>\n",
       "      <td>10</td>\n",
       "      <td>3</td>\n",
       "      <td>-2.976262</td>\n",
       "    </tr>\n",
       "    <tr>\n",
       "      <th>8578</th>\n",
       "      <td>105</td>\n",
       "      <td>1.0</td>\n",
       "      <td>10</td>\n",
       "      <td>4</td>\n",
       "      <td>-2.976262</td>\n",
       "    </tr>\n",
       "    <tr>\n",
       "      <th>8579</th>\n",
       "      <td>105</td>\n",
       "      <td>1.0</td>\n",
       "      <td>10</td>\n",
       "      <td>5</td>\n",
       "      <td>-8.283665</td>\n",
       "    </tr>\n",
       "    <tr>\n",
       "      <th>8580</th>\n",
       "      <td>105</td>\n",
       "      <td>1.0</td>\n",
       "      <td>11</td>\n",
       "      <td>0</td>\n",
       "      <td>0.000000</td>\n",
       "    </tr>\n",
       "    <tr>\n",
       "      <th>8581</th>\n",
       "      <td>105</td>\n",
       "      <td>1.0</td>\n",
       "      <td>11</td>\n",
       "      <td>1</td>\n",
       "      <td>0.000000</td>\n",
       "    </tr>\n",
       "    <tr>\n",
       "      <th>8582</th>\n",
       "      <td>105</td>\n",
       "      <td>1.0</td>\n",
       "      <td>11</td>\n",
       "      <td>2</td>\n",
       "      <td>-0.394992</td>\n",
       "    </tr>\n",
       "    <tr>\n",
       "      <th>8583</th>\n",
       "      <td>105</td>\n",
       "      <td>1.0</td>\n",
       "      <td>11</td>\n",
       "      <td>3</td>\n",
       "      <td>0.000000</td>\n",
       "    </tr>\n",
       "    <tr>\n",
       "      <th>8584</th>\n",
       "      <td>105</td>\n",
       "      <td>1.0</td>\n",
       "      <td>11</td>\n",
       "      <td>4</td>\n",
       "      <td>0.000000</td>\n",
       "    </tr>\n",
       "    <tr>\n",
       "      <th>8585</th>\n",
       "      <td>105</td>\n",
       "      <td>1.0</td>\n",
       "      <td>12</td>\n",
       "      <td>0</td>\n",
       "      <td>0.000000</td>\n",
       "    </tr>\n",
       "    <tr>\n",
       "      <th>8586</th>\n",
       "      <td>105</td>\n",
       "      <td>1.0</td>\n",
       "      <td>12</td>\n",
       "      <td>1</td>\n",
       "      <td>-11.531289</td>\n",
       "    </tr>\n",
       "    <tr>\n",
       "      <th>8587</th>\n",
       "      <td>105</td>\n",
       "      <td>1.0</td>\n",
       "      <td>13</td>\n",
       "      <td>0</td>\n",
       "      <td>0.000000</td>\n",
       "    </tr>\n",
       "    <tr>\n",
       "      <th>8588</th>\n",
       "      <td>105</td>\n",
       "      <td>1.0</td>\n",
       "      <td>13</td>\n",
       "      <td>1</td>\n",
       "      <td>-2.462813</td>\n",
       "    </tr>\n",
       "    <tr>\n",
       "      <th>8589</th>\n",
       "      <td>105</td>\n",
       "      <td>1.0</td>\n",
       "      <td>13</td>\n",
       "      <td>2</td>\n",
       "      <td>-2.492335</td>\n",
       "    </tr>\n",
       "    <tr>\n",
       "      <th>8590</th>\n",
       "      <td>105</td>\n",
       "      <td>1.0</td>\n",
       "      <td>13</td>\n",
       "      <td>3</td>\n",
       "      <td>-4.794667</td>\n",
       "    </tr>\n",
       "    <tr>\n",
       "      <th>8591</th>\n",
       "      <td>105</td>\n",
       "      <td>1.0</td>\n",
       "      <td>14</td>\n",
       "      <td>0</td>\n",
       "      <td>0.000000</td>\n",
       "    </tr>\n",
       "    <tr>\n",
       "      <th>8592</th>\n",
       "      <td>105</td>\n",
       "      <td>1.0</td>\n",
       "      <td>14</td>\n",
       "      <td>1</td>\n",
       "      <td>0.000000</td>\n",
       "    </tr>\n",
       "    <tr>\n",
       "      <th>8593</th>\n",
       "      <td>105</td>\n",
       "      <td>1.0</td>\n",
       "      <td>14</td>\n",
       "      <td>2</td>\n",
       "      <td>0.000000</td>\n",
       "    </tr>\n",
       "    <tr>\n",
       "      <th>8594</th>\n",
       "      <td>105</td>\n",
       "      <td>1.0</td>\n",
       "      <td>14</td>\n",
       "      <td>3</td>\n",
       "      <td>-1.787734</td>\n",
       "    </tr>\n",
       "    <tr>\n",
       "      <th>8595</th>\n",
       "      <td>105</td>\n",
       "      <td>1.0</td>\n",
       "      <td>14</td>\n",
       "      <td>4</td>\n",
       "      <td>-4.009199</td>\n",
       "    </tr>\n",
       "    <tr>\n",
       "      <th>8596</th>\n",
       "      <td>105</td>\n",
       "      <td>1.0</td>\n",
       "      <td>15</td>\n",
       "      <td>0</td>\n",
       "      <td>0.000000</td>\n",
       "    </tr>\n",
       "    <tr>\n",
       "      <th>8597</th>\n",
       "      <td>105</td>\n",
       "      <td>1.0</td>\n",
       "      <td>15</td>\n",
       "      <td>1</td>\n",
       "      <td>-1.787734</td>\n",
       "    </tr>\n",
       "    <tr>\n",
       "      <th>8598</th>\n",
       "      <td>105</td>\n",
       "      <td>1.0</td>\n",
       "      <td>15</td>\n",
       "      <td>2</td>\n",
       "      <td>-2.820734</td>\n",
       "    </tr>\n",
       "    <tr>\n",
       "      <th>8599</th>\n",
       "      <td>105</td>\n",
       "      <td>1.0</td>\n",
       "      <td>15</td>\n",
       "      <td>3</td>\n",
       "      <td>-2.820734</td>\n",
       "    </tr>\n",
       "    <tr>\n",
       "      <th>8600</th>\n",
       "      <td>105</td>\n",
       "      <td>1.0</td>\n",
       "      <td>15</td>\n",
       "      <td>4</td>\n",
       "      <td>-7.925928</td>\n",
       "    </tr>\n",
       "    <tr>\n",
       "      <th>8601</th>\n",
       "      <td>105</td>\n",
       "      <td>1.0</td>\n",
       "      <td>16</td>\n",
       "      <td>0</td>\n",
       "      <td>0.000000</td>\n",
       "    </tr>\n",
       "    <tr>\n",
       "      <th>8602</th>\n",
       "      <td>105</td>\n",
       "      <td>1.0</td>\n",
       "      <td>16</td>\n",
       "      <td>1</td>\n",
       "      <td>-0.432656</td>\n",
       "    </tr>\n",
       "    <tr>\n",
       "      <th>8603</th>\n",
       "      <td>105</td>\n",
       "      <td>1.0</td>\n",
       "      <td>16</td>\n",
       "      <td>2</td>\n",
       "      <td>-0.432656</td>\n",
       "    </tr>\n",
       "    <tr>\n",
       "      <th>8604</th>\n",
       "      <td>105</td>\n",
       "      <td>1.0</td>\n",
       "      <td>16</td>\n",
       "      <td>3</td>\n",
       "      <td>-1.145323</td>\n",
       "    </tr>\n",
       "    <tr>\n",
       "      <th>8605</th>\n",
       "      <td>105</td>\n",
       "      <td>1.0</td>\n",
       "      <td>16</td>\n",
       "      <td>4</td>\n",
       "      <td>-8.874340</td>\n",
       "    </tr>\n",
       "  </tbody>\n",
       "</table>\n",
       "<p>8606 rows × 5 columns</p>\n",
       "</div>"
      ],
      "text/plain": [
       "      pid  info_cost  trial_index  click_num   click_pr\n",
       "0       0        1.0            1          0   0.000000\n",
       "1       0        1.0            1          1  -3.489671\n",
       "2       0        1.0            1          2  -4.388081\n",
       "3       0        1.0            1          3  -4.388081\n",
       "4       0        1.0            1          4   0.000000\n",
       "5       0        1.0            1          5  -1.839783\n",
       "6       0        1.0            1          6  -1.502107\n",
       "7       0        1.0            1          7  -1.360207\n",
       "8       0        1.0            1          8   0.000000\n",
       "9       0        1.0            1          9  -1.253846\n",
       "10      0        1.0            1         10  -1.360207\n",
       "11      0        1.0            1         11  -1.360207\n",
       "12      0        1.0            1         12   0.000000\n",
       "13      0        1.0            1         13  -0.859637\n",
       "14      0        1.0            1         14   0.000000\n",
       "15      0        1.0            1         15   0.000000\n",
       "16      0        1.0            1         16   0.000000\n",
       "17      0        1.0            2          0   0.000000\n",
       "18      0        1.0            2          1  -1.787734\n",
       "19      0        1.0            2          2  -8.937174\n",
       "20      0        1.0            3          0   0.000000\n",
       "21      0        1.0            3          1  -0.394992\n",
       "22      0        1.0            3          2  -5.424993\n",
       "23      0        1.0            4          0   0.000000\n",
       "24      0        1.0            4          1   0.000000\n",
       "25      0        1.0            4          2   0.000000\n",
       "26      0        1.0            4          3  -0.432656\n",
       "27      0        1.0            4          4  -6.020083\n",
       "28      0        1.0            5          0   0.000000\n",
       "29      0        1.0            5          1  -6.910454\n",
       "...   ...        ...          ...        ...        ...\n",
       "8576  105        1.0           10          2   0.000000\n",
       "8577  105        1.0           10          3  -2.976262\n",
       "8578  105        1.0           10          4  -2.976262\n",
       "8579  105        1.0           10          5  -8.283665\n",
       "8580  105        1.0           11          0   0.000000\n",
       "8581  105        1.0           11          1   0.000000\n",
       "8582  105        1.0           11          2  -0.394992\n",
       "8583  105        1.0           11          3   0.000000\n",
       "8584  105        1.0           11          4   0.000000\n",
       "8585  105        1.0           12          0   0.000000\n",
       "8586  105        1.0           12          1 -11.531289\n",
       "8587  105        1.0           13          0   0.000000\n",
       "8588  105        1.0           13          1  -2.462813\n",
       "8589  105        1.0           13          2  -2.492335\n",
       "8590  105        1.0           13          3  -4.794667\n",
       "8591  105        1.0           14          0   0.000000\n",
       "8592  105        1.0           14          1   0.000000\n",
       "8593  105        1.0           14          2   0.000000\n",
       "8594  105        1.0           14          3  -1.787734\n",
       "8595  105        1.0           14          4  -4.009199\n",
       "8596  105        1.0           15          0   0.000000\n",
       "8597  105        1.0           15          1  -1.787734\n",
       "8598  105        1.0           15          2  -2.820734\n",
       "8599  105        1.0           15          3  -2.820734\n",
       "8600  105        1.0           15          4  -7.925928\n",
       "8601  105        1.0           16          0   0.000000\n",
       "8602  105        1.0           16          1  -0.432656\n",
       "8603  105        1.0           16          2  -0.432656\n",
       "8604  105        1.0           16          3  -1.145323\n",
       "8605  105        1.0           16          4  -8.874340\n",
       "\n",
       "[8606 rows x 5 columns]"
      ]
     },
     "execution_count": 39,
     "metadata": {},
     "output_type": "execute_result"
    }
   ],
   "source": [
    "res = trials.set_index(['pid','info_cost','trial_index'])['click_prs'].apply(pd.Series).stack()\n",
    "res = res.reset_index()\n",
    "res.columns = ['pid','info_cost','trial_index','click_num','click_pr']\n",
    "res"
   ]
  },
  {
   "cell_type": "code",
   "execution_count": 50,
   "metadata": {
    "collapsed": true
   },
   "outputs": [],
   "source": [
    "csv_ready.to_csv('../experiments/data/human/0.991/pilot_prs.csv')\n",
    "res.to_csv('../experiments/data/human/0.991/pilot_click_prs.csv')"
   ]
  },
  {
   "cell_type": "code",
   "execution_count": null,
   "metadata": {
    "collapsed": true
   },
   "outputs": [],
   "source": []
  }
 ],
 "metadata": {
  "kernelspec": {
   "display_name": "Python 3",
   "language": "python",
   "name": "python3"
  },
  "language_info": {
   "codemirror_mode": {
    "name": "ipython",
    "version": 3
   },
   "file_extension": ".py",
   "mimetype": "text/x-python",
   "name": "python",
   "nbconvert_exporter": "python",
   "pygments_lexer": "ipython3",
   "version": "3.5.1"
  }
 },
 "nbformat": 4,
 "nbformat_minor": 2
}
