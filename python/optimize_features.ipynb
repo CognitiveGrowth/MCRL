{
 "cells": [
  {
   "cell_type": "code",
   "execution_count": 1,
   "metadata": {
    "collapsed": false
   },
   "outputs": [],
   "source": [
    "%matplotlib inline\n",
    "%load_ext autoreload\n",
    "%autoreload 2\n",
    "\n",
    "import matplotlib.pyplot as plt\n",
    "import numpy as np\n",
    "import pandas as pd\n",
    "import seaborn as sns\n",
    "sns.set_style('white')\n",
    "sns.set_context('notebook', font_scale=1.3)\n",
    "\n",
    "from agents import Agent\n",
    "from mouselab import MouselabEnv\n",
    "from distributions import Normal, Categorical\n",
    "from policies import FixedPlanPolicy"
   ]
  },
  {
   "cell_type": "code",
   "execution_count": 127,
   "metadata": {
    "collapsed": false
   },
   "outputs": [],
   "source": [
    "from scipy.stats import norm\n",
    "\n",
    "sigma = 10\n",
    "cost = 1\n",
    "# high value of planning: sigma=30, c=0.01\n",
    "# medium value of planning: sigma=28, c=1.00\n",
    "# low value of planning: sigma=1, c=4.00\n",
    "\n",
    "def make_env(sigma=sigma, cost=cost, n=4):\n",
    "    d = norm(0, sigma)\n",
    "    vals = np.linspace(-1.5*sigma, 1.5*sigma, n)\n",
    "    delta = vals[1] - vals[0]\n",
    "    bins = np.array((-np.inf, *(vals[1:] - delta/2), np.inf))\n",
    "    probs = np.diff(d.cdf(bins))\n",
    "    reward = Categorical(vals, probs)\n",
    "    # vals = [-5, -1, 1, 5]\n",
    "    # probs = [.1, .4, .4, .1]\n",
    "    # reward = Categorical(vals, probs)\n",
    "    return MouselabEnv([4,1,2], reward=reward, cost=cost,\n",
    "                       ground_truth=[0, *reward.sample(16)])\n",
    "\n",
    "def make_envs(seed=0, n=16):\n",
    "    np.random.seed(seed)\n",
    "    return [make_env() for _ in range(n)]\n",
    "\n",
    "envs = make_envs(3)\n",
    "TERM = envs[0].term_action"
   ]
  },
  {
   "cell_type": "code",
   "execution_count": 128,
   "metadata": {
    "collapsed": false
   },
   "outputs": [],
   "source": [
    "import json\n",
    "def save_envs(envs):\n",
    "    data = [{'stateRewards': e.ground_truth.tolist()} for e in envs]\n",
    "    with open('../experiments/exp1/static/json/med_cost.json', 'w+') as f:\n",
    "        json.dump(data, f)\n",
    "        \n",
    "save_envs(envs)"
   ]
  },
  {
   "cell_type": "code",
   "execution_count": 115,
   "metadata": {
    "collapsed": true
   },
   "outputs": [],
   "source": [
    "from policies import MouselabPolicy\n",
    "from skopt import gp_minimize\n",
    "bounds = [ (-30., 30.) ] * 4\n",
    "agent = Agent()\n",
    "\n",
    "def evaluate(policy, envs):\n",
    "    def run_env(policy, env):\n",
    "        agent.register(policy)\n",
    "        agent.register(env)\n",
    "        tr = agent.run_episode()\n",
    "        return {'util': tr['return'],\n",
    "                'observations': len(tr['actions']) - 1}\n",
    "    return pd.DataFrame(run_env(policy, env) for env in envs)\n",
    "\n",
    "def optimize(envs):    \n",
    "    def objective(theta):\n",
    "        theta = np.array(theta)\n",
    "        util = evaluate(MouselabPolicy(theta), envs).util.mean()\n",
    "        print(theta.round(3), util)\n",
    "        return - util\n",
    "    \n",
    "    return gp_minimize(objective, bounds, n_calls=50, random_state=123)"
   ]
  },
  {
   "cell_type": "code",
   "execution_count": 116,
   "metadata": {
    "collapsed": false
   },
   "outputs": [
    {
     "name": "stdout",
     "output_type": "stream",
     "text": [
      "[ 11.788 -12.832 -16.389   3.079] 3.125\n",
      "[ 13.168  -4.614  28.846  11.09 ] 14.9375\n",
      "[ -1.144  -6.473  -9.409  13.743] 4.0\n",
      "[ -3.686 -26.419  -6.117  14.28 ] 3.5625\n",
      "[-19.05  -19.473   1.893   1.91 ] 3.125\n",
      "[  8.064  20.966  13.467   6.661] 13.625\n",
      "[ 13.347 -10.622  -8.293 -16.304] 3.125\n",
      "[-12.377   7.859 -24.474  -3.978] 3.125\n",
      "[ -4.148  -0.379  -4.45  -11.264] 3.125\n",
      "[ -4.419  23.603  26.65    0.11 ] 13.5\n",
      "[  8.064  20.966  13.467   6.661] 13.5\n",
      "[ 13.124  -4.62   29.566   6.425] 14.9375\n",
      "[ 30.  30.  30.  30.] 14.0\n",
      "[ 30.     30.     23.606 -30.   ] 3.125\n",
      "[ 14.309  -1.428  29.158   9.183] 15.1875\n",
      "[ 30.     30.     24.941  11.292] 13.375\n",
      "[ 14.472   7.954  28.995  10.071] 13.875\n",
      "[ 11.114 -16.343  29.07    9.12 ] 14.1875\n",
      "[-15.969  30.     19.846  16.263] 11.9375\n",
      "[ 26.155  -5.575  30.      9.388] 14.9375\n",
      "[ 21.699  -3.545  26.57    8.228] 14.9375\n",
      "[ 30.     -2.132  30.     30.   ] 15.1875\n",
      "[ 30.     -3.667  30.     30.   ] 14.9375\n",
      "[ 30.     3.84  30.    30.  ] 13.75\n",
      "[ 30.    -10.134  30.     29.243] 14.75\n",
      "[ 30.    -20.429  30.     17.395] 13.875\n",
      "[ 29.799  -1.608  25.582   5.503] 15.4375\n",
      "[ 30.     -1.393  25.293   4.124] 14.875\n",
      "[ 30. -30.  30.  30.] 11.8125\n",
      "[ 30.     -4.205  24.687  14.727] 14.9375\n",
      "[ 30.     30.     12.279  30.   ] 13.5\n",
      "[ 30.     -7.158  30.      3.45 ] 14.4375\n",
      "[  0.898  -8.218  30.     30.   ] 13.875\n",
      "[ 30.      5.098  20.467   8.064] 13.375\n",
      "[ 30.     -1.463  30.     11.725] 15.1875\n",
      "[ 30.     22.476  22.573  20.899] 14.5\n",
      "[-30.      4.673  30.     -2.407] 8.75\n",
      "[ 11.173  23.254  27.962  18.081] 13.8125\n",
      "[ 23.246  -2.997  30.     16.701] 14.9375\n",
      "[ 24.993  -0.483  30.      4.803] 15.3125\n",
      "[ 30. -30.  30. -30.] 3.125\n",
      "[ 27.253  -0.645  30.      6.212] 15.3125\n",
      "[ 30.  30. -30.  30.] 10.0\n",
      "[ 30.     -5.334  23.059  30.   ] 14.9375\n",
      "[ 23.56   -0.851  30.      5.359] 15.3125\n",
      "[ 30.     -0.35   30.      5.109] 15.3125\n",
      "[  6.491 -18.769  30.     28.053] 14.0625\n",
      "[ 23.058  -0.324  30.      2.813] 15.3125\n",
      "[ 30.     19.107  30.      7.384] 14.75\n",
      "[-30.  30. -30.  30.] 8.4375\n",
      "[ 29.799  -1.608  25.582   5.503]\n"
     ]
    }
   ],
   "source": [
    "agent = Agent()\n",
    "result = optimize(envs)\n",
    "print(np.array(result.x).round(3))"
   ]
  },
  {
   "cell_type": "code",
   "execution_count": 126,
   "metadata": {
    "collapsed": false
   },
   "outputs": [
    {
     "data": {
      "text/plain": [
       "<seaborn.axisgrid.FacetGrid at 0x167827898>"
      ]
     },
     "execution_count": 126,
     "metadata": {},
     "output_type": "execute_result"
    },
    {
     "data": {
      "image/png": "[encoded data removed]",
      "text/plain": [
       "<matplotlib.figure.Figure at 0x166a01208>"
      ]
     },
     "metadata": {},
     "output_type": "display_data"
    }
   ],
   "source": [
    "def data():\n",
    "    policies = {\n",
    "        'BO': MouselabPolicy(np.array([*result.x])),\n",
    "        'full': FixedPlanPolicy(range(1, TERM+1)),\n",
    "        'none': FixedPlanPolicy([TERM]),\n",
    "        'one': FixedPlanPolicy([1, 5, 9, 13, TERM]),\n",
    "        'two': FixedPlanPolicy([1, 2, 5, 6, 9, 10, 13, 14, TERM]),\n",
    "    }\n",
    "    def dfs():\n",
    "        for name, policy in policies.items():\n",
    "            df = evaluate(policy, envs=make_envs(3))\n",
    "            df['agent'] = name\n",
    "            # print('======= {} ======='.format(name))\n",
    "            # print('Observations: {:.3f}'.format(df.observations.mean() - 2))\n",
    "            # print('Return: {:.3f}'.format(df.util.mean() / sigma))\n",
    "            yield df\n",
    "    return pd.concat(dfs())\n",
    "    \n",
    "df = data()\n",
    "big_df = pd.concat([df] * 50)\n",
    "sns.factorplot('agent', 'util', data=big_df, \n",
    "               order=['none', 'one', 'two', 'full', 'BO'], \n",
    "               kind='bar')"
   ]
  },
  {
   "cell_type": "code",
   "execution_count": 132,
   "metadata": {
    "collapsed": false
   },
   "outputs": [
    {
     "data": {
      "text/plain": [
       "<seaborn.axisgrid.FacetGrid at 0x1669d4390>"
      ]
     },
     "execution_count": 132,
     "metadata": {},
     "output_type": "execute_result"
    },
    {
     "data": {
      "image/png": "[encoded data removed]",
      "text/plain": [
       "<matplotlib.figure.Figure at 0x1669d4128>"
      ]
     },
     "metadata": {},
     "output_type": "display_data"
    }
   ],
   "source": [
    "sns.factorplot('agent', 'observations', data=df)"
   ]
  },
  {
   "cell_type": "code",
   "execution_count": 47,
   "metadata": {
    "collapsed": false
   },
   "outputs": [
    {
     "data": {
      "text/plain": [
       "agent\n",
       "BO      5.333844\n",
       "full    2.722179\n",
       "none   -2.886751\n",
       "one     1.233905\n",
       "two     1.825742\n",
       "Name: util, dtype: float64"
      ]
     },
     "execution_count": 47,
     "metadata": {},
     "output_type": "execute_result"
    }
   ],
   "source": [
    "util = df.groupby('agent').util\n",
    "sem = util.std() / np.sqrt(50)\n",
    "util.mean() / sem"
   ]
  },
  {
   "cell_type": "code",
   "execution_count": 12,
   "metadata": {
    "collapsed": false
   },
   "outputs": [
    {
     "ename": "NameError",
     "evalue": "name 'env' is not defined",
     "output_type": "error",
     "traceback": [
      "\u001b[0;31m---------------------------------------------------------------------------\u001b[0m",
      "\u001b[0;31mNameError\u001b[0m                                 Traceback (most recent call last)",
      "\u001b[0;32m<ipython-input-12-44b733737599>\u001b[0m in \u001b[0;36m<module>\u001b[0;34m()\u001b[0m\n\u001b[1;32m     20\u001b[0m     \u001b[0;32mreturn\u001b[0m \u001b[0mpd\u001b[0m\u001b[0;34m.\u001b[0m\u001b[0mconcat\u001b[0m\u001b[0;34m(\u001b[0m\u001b[0mdfs\u001b[0m\u001b[0;34m(\u001b[0m\u001b[0;34m)\u001b[0m\u001b[0;34m)\u001b[0m\u001b[0;34m\u001b[0m\u001b[0m\n\u001b[1;32m     21\u001b[0m \u001b[0;34m\u001b[0m\u001b[0m\n\u001b[0;32m---> 22\u001b[0;31m \u001b[0mdf\u001b[0m \u001b[0;34m=\u001b[0m \u001b[0mdata\u001b[0m\u001b[0;34m(\u001b[0m\u001b[0;34m)\u001b[0m\u001b[0;34m\u001b[0m\u001b[0m\n\u001b[0m",
      "\u001b[0;32m<ipython-input-12-44b733737599>\u001b[0m in \u001b[0;36mdata\u001b[0;34m()\u001b[0m\n\u001b[1;32m      1\u001b[0m \u001b[0;32mdef\u001b[0m \u001b[0mdata\u001b[0m\u001b[0;34m(\u001b[0m\u001b[0;34m)\u001b[0m\u001b[0;34m:\u001b[0m\u001b[0;34m\u001b[0m\u001b[0m\n\u001b[0;32m----> 2\u001b[0;31m     \u001b[0magent\u001b[0m\u001b[0;34m.\u001b[0m\u001b[0mregister\u001b[0m\u001b[0;34m(\u001b[0m\u001b[0menv\u001b[0m\u001b[0;34m)\u001b[0m\u001b[0;34m\u001b[0m\u001b[0m\n\u001b[0m\u001b[1;32m      3\u001b[0m     policies = {\n\u001b[1;32m      4\u001b[0m \u001b[0;31m#         'BO': MouselabPolicy(np.array([*result.x])),\u001b[0m\u001b[0;34m\u001b[0m\u001b[0;34m\u001b[0m\u001b[0m\n\u001b[1;32m      5\u001b[0m         \u001b[0;34m'full'\u001b[0m\u001b[0;34m:\u001b[0m \u001b[0mFixedPlanPolicy\u001b[0m\u001b[0;34m(\u001b[0m\u001b[0mrange\u001b[0m\u001b[0;34m(\u001b[0m\u001b[0;36m1\u001b[0m\u001b[0;34m,\u001b[0m \u001b[0mTERM\u001b[0m\u001b[0;34m+\u001b[0m\u001b[0;36m1\u001b[0m\u001b[0;34m)\u001b[0m\u001b[0;34m)\u001b[0m\u001b[0;34m,\u001b[0m\u001b[0;34m\u001b[0m\u001b[0m\n",
      "\u001b[0;31mNameError\u001b[0m: name 'env' is not defined"
     ]
    }
   ],
   "source": [
    "def data():\n",
    "    agent.register(env)\n",
    "    policies = {\n",
    "#         'BO': MouselabPolicy(np.array([*result.x])),\n",
    "        'full': FixedPlanPolicy(range(1, TERM+1)),\n",
    "        'none': FixedPlanPolicy([TERM]),\n",
    "        'one': FixedPlanPolicy([1, 5, 9, 13, TERM]),\n",
    "        'two': FixedPlanPolicy([1, 2, 5, 6, 9, 10, 13, 14, TERM]),\n",
    "    }\n",
    "    def dfs():\n",
    "        for name, policy in policies.items():\n",
    "            print(name)\n",
    "            agent.register(policy)\n",
    "            # df = pd.DataFrame(agent.run_many(100, pbar=0))\n",
    "            \n",
    "            df['agent'] = name\n",
    "            print('======= {} ======='.format(name))\n",
    "            print('Observations: {:.3f}'.format(df.n_steps.mean() - 2))\n",
    "            print('Return: {:.3f}'.format(df['return'].mean() / sigma))\n",
    "            yield df\n",
    "    return pd.concat(dfs())\n",
    "    \n",
    "df = data()"
   ]
  },
  {
   "cell_type": "code",
   "execution_count": null,
   "metadata": {
    "collapsed": true
   },
   "outputs": [],
   "source": [
    "reward()\n",
    "MouselabEnv([4,1,2], reward=reward(), cost=cost,\n",
    "           ground_truth=)"
   ]
  },
  {
   "cell_type": "code",
   "execution_count": 22,
   "metadata": {
    "collapsed": false
   },
   "outputs": [
    {
     "data": {
      "text/plain": [
       "<seaborn.axisgrid.FacetGrid at 0x10b935550>"
      ]
     },
     "execution_count": 22,
     "metadata": {},
     "output_type": "execute_result"
    },
    {
     "data": {
      "image/png": "[encoded data removed]",
      "text/plain": [
       "<matplotlib.figure.Figure at 0x10b996710>"
      ]
     },
     "metadata": {},
     "output_type": "display_data"
    }
   ],
   "source": [
    "sns.factorplot('agent', 'return', data=df, \n",
    "               # order=['none', 'BO', 'full'], \n",
    "               kind='bar')"
   ]
  },
  {
   "cell_type": "code",
   "execution_count": 24,
   "metadata": {
    "collapsed": false
   },
   "outputs": [
    {
     "data": {
      "text/plain": [
       "-2.2782142857142857"
      ]
     },
     "execution_count": 24,
     "metadata": {},
     "output_type": "execute_result"
    }
   ],
   "source": []
  },
  {
   "cell_type": "code",
   "execution_count": 19,
   "metadata": {
    "collapsed": false
   },
   "outputs": [
    {
     "name": "stdout",
     "output_type": "stream",
     "text": [
      "\n"
     ]
    }
   ],
   "source": [
    "from policies import MouselabPolicy\n",
    "agent = Agent()\n",
    "env = MouselabEnv([4,1,2], reward=reward(), cost=0.01)\n",
    "agent.register(env)\n",
    "agent.register(FixedPlanPolicy(range(1, env.term_action+1)))\n",
    "trace = agent.run_many(500)"
   ]
  },
  {
   "cell_type": "code",
   "execution_count": 21,
   "metadata": {
    "collapsed": false
   },
   "outputs": [
    {
     "data": {
      "text/plain": [
       "2.1819999999999999"
      ]
     },
     "execution_count": 21,
     "metadata": {},
     "output_type": "execute_result"
    }
   ],
   "source": [
    "np.mean(trace['return'])"
   ]
  }
 ],
 "metadata": {
  "anaconda-cloud": {},
  "kernelspec": {
   "display_name": "Python [default]",
   "language": "python",
   "name": "python3"
  },
  "nav_menu": {},
  "toc": {
   "navigate_menu": true,
   "number_sections": true,
   "sideBar": true,
   "threshold": 6,
   "toc_cell": false,
   "toc_section_display": "block",
   "toc_window_display": false
  }
 },
 "nbformat": 4,
 "nbformat_minor": 0
}
