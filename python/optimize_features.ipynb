{
 "cells": [
  {
   "cell_type": "code",
   "execution_count": 1,
   "metadata": {
    "collapsed": false
   },
   "outputs": [],
   "source": [
    "%matplotlib inline\n",
    "%load_ext autoreload\n",
    "%autoreload 2\n",
    "\n",
    "import matplotlib.pyplot as plt\n",
    "import numpy as np\n",
    "import pandas as pd\n",
    "import seaborn as sns\n",
    "sns.set_style('white')\n",
    "sns.set_context('notebook', font_scale=1.3)\n",
    "\n",
    "from agents import Agent\n",
    "from mouselab import MouselabEnv\n",
    "from distributions import Normal, Categorical\n",
    "from policies import FixedPlanPolicy"
   ]
  },
  {
   "cell_type": "code",
   "execution_count": 22,
   "metadata": {
    "collapsed": false
   },
   "outputs": [],
   "source": [
    "from scipy.stats import norm\n",
    "\n",
    "sigma = 10\n",
    "cost = 1\n",
    "# high value of planning: sigma=30, c=0.01\n",
    "# medium value of planning: sigma=28, c=1.00\n",
    "# low value of planning: sigma=1, c=4.00\n",
    "\n",
    "def make_env(sigma=sigma, cost=cost, n=4):\n",
    "    d = norm(0, sigma)\n",
    "    vals = np.linspace(-1.5*sigma, 1.5*sigma, n)\n",
    "    delta = vals[1] - vals[0]\n",
    "    bins = np.array((-np.inf, *(vals[1:] - delta/2), np.inf))\n",
    "    probs = np.diff(d.cdf(bins))\n",
    "    reward = Categorical(vals, probs)\n",
    "    # vals = [-5, -1, 1, 5]\n",
    "    # probs = [.1, .4, .4, .1]\n",
    "    # reward = Categorical(vals, probs)\n",
    "    return MouselabEnv([4,1,2], reward=reward, cost=cost,\n",
    "                       ground_truth=[0, *reward.sample(16)])\n",
    "\n",
    "def make_envs(seed=0, n=16):\n",
    "    np.random.seed(seed)\n",
    "    return [make_env() for _ in range(n)]\n",
    "\n",
    "envs = make_envs(3)\n",
    "TERM = envs[0].term_action"
   ]
  },
  {
   "cell_type": "code",
   "execution_count": 23,
   "metadata": {
    "collapsed": false
   },
   "outputs": [],
   "source": [
    "import json\n",
    "def save_envs(envs):\n",
    "    data = [{'stateRewards': e.ground_truth.tolist()} for e in envs]\n",
    "    with open('../experiments/exp1/static/json/med_cost.json', 'w+') as f:\n",
    "        json.dump(data, f)\n",
    "        \n",
    "save_envs(envs)"
   ]
  },
  {
   "cell_type": "code",
   "execution_count": 26,
   "metadata": {
    "collapsed": true
   },
   "outputs": [],
   "source": [
    "from policies import MouselabPolicy\n",
    "from skopt import gp_minimize\n",
    "bounds = [ (-30., 30.) ] * 4\n",
    "agent = Agent()\n",
    "\n",
    "def evaluate(policy, envs):\n",
    "    def run_env(policy, env):\n",
    "        agent.register(policy)\n",
    "        agent.register(env)\n",
    "        tr = agent.run_episode()\n",
    "        return {'util': tr['return'],\n",
    "                'observations': len(tr['actions']) - 1}\n",
    "    return pd.DataFrame(run_env(policy, env) for env in envs)\n",
    "\n",
    "def optimize(envs):    \n",
    "    def objective(theta):\n",
    "        theta = np.array(theta)\n",
    "        util = evaluate(MouselabPolicy(theta), envs).util.mean()\n",
    "        print(theta.round(3), util)\n",
    "        return - util\n",
    "    \n",
    "    return gp_minimize(objective, bounds, n_calls=50, random_state=123)"
   ]
  },
  {
   "cell_type": "code",
   "execution_count": 25,
   "metadata": {
    "collapsed": false
   },
   "outputs": [
    {
     "name": "stdout",
     "output_type": "stream",
     "text": [
      "[ 11.788 -12.832 -16.389   3.079] -0.625\n",
      "[ 13.168  -4.614  28.846  11.09 ] 12.0625\n",
      "[ -1.144  -6.473  -9.409  13.743] 3.25\n",
      "[ -3.686 -26.419  -6.117  14.28 ] 1.875\n",
      "[-19.05  -19.473   1.893   1.91 ] -0.625\n",
      "[  8.064  20.966  13.467   6.661] 11.5\n",
      "[ 13.347 -10.622  -8.293 -16.304] -0.625\n",
      "[-12.377   7.859 -24.474  -3.978] -0.625\n",
      "[ -4.148  -0.379  -4.45  -11.264] -0.625\n",
      "[ -4.419  23.603  26.65    0.11 ] 11.125\n",
      "[ 13.415  -4.208  28.932  11.744] 12.1875\n",
      "[ 14.822  -0.907  29.557  14.551] 12.1875\n",
      "[ 13.783  23.868  20.056   9.85 ] 11.5625\n",
      "[ 30.    -25.242  30.     26.363] 10.5625\n",
      "[ 14.319  -2.082  29.385  13.563] 12.1875\n",
      "[ 14.162  -2.287  29.314  13.767] 12.1875\n",
      "[ 14.634  -2.516  29.412  13.687] 12.1875\n",
      "[ 12.995  -1.899  29.114  13.841] 12.0\n",
      "[ 17.869  -2.976  29.998  13.059] 12.1875\n",
      "[ 16.94   -0.804  30.     11.669] 12.4375\n",
      "[ 19.343   1.98   30.      9.231] 11.25\n",
      "[ 15.455   0.616  30.     11.937] 11.25\n",
      "[ 19.035  -7.942  30.     16.203] 11.8125\n",
      "[ -5.744  -2.436  29.216  16.942] 11.25\n",
      "[ 20.618   0.127  22.478  17.563] 11.25\n",
      "[  1.556  30.     16.524  17.457] 10.8125\n",
      "[ 30.     30.     14.649   5.332] 12.5625\n",
      "[ 30.     30.     14.775   4.8  ] 12.0625\n",
      "[ 30.     30.     11.796   9.917] 11.125\n",
      "[ 27.321  30.     17.774   0.522] 12.9375\n",
      "[ 30.     30.     18.524  -2.574] 13.3125\n",
      "[ 30.     30.     19.151  -6.3  ] 11.4375\n",
      "[ 30.     30.     21.772   0.973] 12.875\n",
      "[ 30.    -30.     30.     11.582] 10.5\n",
      "[-30.  30.  30.  30.] 6.625\n",
      "[ 30.  30. -30.  30.] 7.875\n",
      "[ 30.  30.  30. -30.] -0.625\n",
      "[ 19.068  30.     18.627   0.587] 12.3125\n",
      "[  3.000e+01   3.000e+01   2.596e+01   9.000e-03] 12.0625\n",
      "[-30.     30.     24.943   8.369] 6.5\n",
      "[  0.247 -30.     30.     30.   ] 10.1875\n",
      "[ 30.  30.  30.  30.] 11.6875\n",
      "[ 30.    30.     9.25  30.  ] 11.3125\n",
      "[-30.  30. -30.  30.] 5.3125\n",
      "[ 12.697  10.545  30.     30.   ] 10.4375\n",
      "[ 30.     17.906  18.718   0.147] 12.4375\n",
      "[  2.003 -30.     30.     13.797] 9.5\n",
      "[ 30.     30.     30.     19.256] 11.5625\n",
      "[ 30.     30.     12.784  -0.856] 12.5\n",
      "[ 30.    -30.      4.988  30.   ] 4.875\n",
      "[ 30.     30.     18.524  -2.574]\n"
     ]
    }
   ],
   "source": [
    "agent = Agent()\n",
    "result = optimize(envs)\n",
    "print(np.array(result.x).round(3))"
   ]
  },
  {
   "cell_type": "code",
   "execution_count": 17,
   "metadata": {
    "collapsed": false
   },
   "outputs": [
    {
     "data": {
      "text/plain": [
       "<seaborn.axisgrid.FacetGrid at 0x11b6420f0>"
      ]
     },
     "execution_count": 17,
     "metadata": {},
     "output_type": "execute_result"
    },
    {
     "data": {
      "image/png": "[encoded data removed]",
      "text/plain": [
       "<matplotlib.figure.Figure at 0x11fa2b470>"
      ]
     },
     "metadata": {},
     "output_type": "display_data"
    }
   ],
   "source": [
    "def data():\n",
    "    policies = {\n",
    "        'BO': MouselabPolicy(np.array([*result.x])),\n",
    "        'full': FixedPlanPolicy(range(1, TERM+1)),\n",
    "        'none': FixedPlanPolicy([TERM]),\n",
    "        'one': FixedPlanPolicy([1, 5, 9, 13, TERM]),\n",
    "        'two': FixedPlanPolicy([1, 2, 5, 6, 9, 10, 13, 14, TERM]),\n",
    "    }\n",
    "    def dfs():\n",
    "        for name, policy in policies.items():\n",
    "            df = evaluate(policy, envs=make_envs(3))\n",
    "            df['agent'] = name\n",
    "            # print('======= {} ======='.format(name))\n",
    "            # print('Observations: {:.3f}'.format(df.observations.mean() - 2))\n",
    "            # print('Return: {:.3f}'.format(df.util.mean() / sigma))\n",
    "            yield df\n",
    "    return pd.concat(dfs())\n",
    "    \n",
    "df = data()\n",
    "big_df = pd.concat([df] * 50)\n",
    "sns.factorplot('agent', 'util', data=big_df, \n",
    "               order=['none', 'one', 'two', 'full', 'BO'], \n",
    "               kind='bar')"
   ]
  },
  {
   "cell_type": "code",
   "execution_count": 27,
   "metadata": {
    "collapsed": false
   },
   "outputs": [
    {
     "data": {
      "text/plain": [
       "<seaborn.axisgrid.FacetGrid at 0x114eb6ac8>"
      ]
     },
     "execution_count": 27,
     "metadata": {},
     "output_type": "execute_result"
    },
    {
     "data": {
      "image/png": "[encoded data removed]",
      "text/plain": [
       "<matplotlib.figure.Figure at 0x1139426a0>"
      ]
     },
     "metadata": {},
     "output_type": "display_data"
    }
   ],
   "source": [
    "sns.factorplot('agent', 'util', data=big_df, \n",
    "               order=['none', 'one', 'two', 'full', 'BO'], \n",
    "               kind='bar')"
   ]
  },
  {
   "cell_type": "code",
   "execution_count": 12,
   "metadata": {
    "collapsed": false
   },
   "outputs": [
    {
     "data": {
      "text/plain": [
       "<seaborn.axisgrid.FacetGrid at 0x10b22c748>"
      ]
     },
     "execution_count": 12,
     "metadata": {},
     "output_type": "execute_result"
    },
    {
     "data": {
      "image/png": "[encoded data removed]",
      "text/plain": [
       "<matplotlib.figure.Figure at 0x10b22c400>"
      ]
     },
     "metadata": {},
     "output_type": "display_data"
    }
   ],
   "source": [
    "sns.factorplot('agent', 'observations', data=df)"
   ]
  },
  {
   "cell_type": "code",
   "execution_count": 47,
   "metadata": {
    "collapsed": false
   },
   "outputs": [
    {
     "data": {
      "text/plain": [
       "agent\n",
       "BO      5.333844\n",
       "full    2.722179\n",
       "none   -2.886751\n",
       "one     1.233905\n",
       "two     1.825742\n",
       "Name: util, dtype: float64"
      ]
     },
     "execution_count": 47,
     "metadata": {},
     "output_type": "execute_result"
    }
   ],
   "source": [
    "util = df.groupby('agent').util\n",
    "sem = util.std() / np.sqrt(50)\n",
    "util.mean() / sem"
   ]
  },
  {
   "cell_type": "code",
   "execution_count": 12,
   "metadata": {
    "collapsed": false
   },
   "outputs": [
    {
     "ename": "NameError",
     "evalue": "name 'env' is not defined",
     "output_type": "error",
     "traceback": [
      "\u001b[0;31m---------------------------------------------------------------------------\u001b[0m",
      "\u001b[0;31mNameError\u001b[0m                                 Traceback (most recent call last)",
      "\u001b[0;32m<ipython-input-12-44b733737599>\u001b[0m in \u001b[0;36m<module>\u001b[0;34m()\u001b[0m\n\u001b[1;32m     20\u001b[0m     \u001b[0;32mreturn\u001b[0m \u001b[0mpd\u001b[0m\u001b[0;34m.\u001b[0m\u001b[0mconcat\u001b[0m\u001b[0;34m(\u001b[0m\u001b[0mdfs\u001b[0m\u001b[0;34m(\u001b[0m\u001b[0;34m)\u001b[0m\u001b[0;34m)\u001b[0m\u001b[0;34m\u001b[0m\u001b[0m\n\u001b[1;32m     21\u001b[0m \u001b[0;34m\u001b[0m\u001b[0m\n\u001b[0;32m---> 22\u001b[0;31m \u001b[0mdf\u001b[0m \u001b[0;34m=\u001b[0m \u001b[0mdata\u001b[0m\u001b[0;34m(\u001b[0m\u001b[0;34m)\u001b[0m\u001b[0;34m\u001b[0m\u001b[0m\n\u001b[0m",
      "\u001b[0;32m<ipython-input-12-44b733737599>\u001b[0m in \u001b[0;36mdata\u001b[0;34m()\u001b[0m\n\u001b[1;32m      1\u001b[0m \u001b[0;32mdef\u001b[0m \u001b[0mdata\u001b[0m\u001b[0;34m(\u001b[0m\u001b[0;34m)\u001b[0m\u001b[0;34m:\u001b[0m\u001b[0;34m\u001b[0m\u001b[0m\n\u001b[0;32m----> 2\u001b[0;31m     \u001b[0magent\u001b[0m\u001b[0;34m.\u001b[0m\u001b[0mregister\u001b[0m\u001b[0;34m(\u001b[0m\u001b[0menv\u001b[0m\u001b[0;34m)\u001b[0m\u001b[0;34m\u001b[0m\u001b[0m\n\u001b[0m\u001b[1;32m      3\u001b[0m     policies = {\n\u001b[1;32m      4\u001b[0m \u001b[0;31m#         'BO': MouselabPolicy(np.array([*result.x])),\u001b[0m\u001b[0;34m\u001b[0m\u001b[0;34m\u001b[0m\u001b[0m\n\u001b[1;32m      5\u001b[0m         \u001b[0;34m'full'\u001b[0m\u001b[0;34m:\u001b[0m \u001b[0mFixedPlanPolicy\u001b[0m\u001b[0;34m(\u001b[0m\u001b[0mrange\u001b[0m\u001b[0;34m(\u001b[0m\u001b[0;36m1\u001b[0m\u001b[0;34m,\u001b[0m \u001b[0mTERM\u001b[0m\u001b[0;34m+\u001b[0m\u001b[0;36m1\u001b[0m\u001b[0;34m)\u001b[0m\u001b[0;34m)\u001b[0m\u001b[0;34m,\u001b[0m\u001b[0;34m\u001b[0m\u001b[0m\n",
      "\u001b[0;31mNameError\u001b[0m: name 'env' is not defined"
     ]
    }
   ],
   "source": [
    "def data():\n",
    "    agent.register(env)\n",
    "    policies = {\n",
    "#         'BO': MouselabPolicy(np.array([*result.x])),\n",
    "        'full': FixedPlanPolicy(range(1, TERM+1)),\n",
    "        'none': FixedPlanPolicy([TERM]),\n",
    "        'one': FixedPlanPolicy([1, 5, 9, 13, TERM]),\n",
    "        'two': FixedPlanPolicy([1, 2, 5, 6, 9, 10, 13, 14, TERM]),\n",
    "    }\n",
    "    def dfs():\n",
    "        for name, policy in policies.items():\n",
    "            print(name)\n",
    "            agent.register(policy)\n",
    "            # df = pd.DataFrame(agent.run_many(100, pbar=0))\n",
    "            \n",
    "            df['agent'] = name\n",
    "            print('======= {} ======='.format(name))\n",
    "            print('Observations: {:.3f}'.format(df.n_steps.mean() - 2))\n",
    "            print('Return: {:.3f}'.format(df['return'].mean() / sigma))\n",
    "            yield df\n",
    "    return pd.concat(dfs())\n",
    "    \n",
    "df = data()"
   ]
  }
 ],
 "metadata": {
  "anaconda-cloud": {},
  "kernelspec": {
   "display_name": "Python [default]",
   "language": "python",
   "name": "python3"
  },
  "language_info": {
   "codemirror_mode": {
    "name": "ipython",
    "version": 3
   },
   "file_extension": ".py",
   "mimetype": "text/x-python",
   "name": "python",
   "nbconvert_exporter": "python",
   "pygments_lexer": "ipython3",
   "version": "3.5.2"
  },
  "nav_menu": {},
  "toc": {
   "navigate_menu": true,
   "number_sections": true,
   "sideBar": true,
   "threshold": 6,
   "toc_cell": false,
   "toc_section_display": "block",
   "toc_window_display": false
  }
 },
 "nbformat": 4,
 "nbformat_minor": 0
}
