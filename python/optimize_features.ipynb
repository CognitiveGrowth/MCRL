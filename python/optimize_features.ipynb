{
 "cells": [
  {
   "cell_type": "code",
   "execution_count": 1,
   "metadata": {
    "collapsed": false
   },
   "outputs": [],
   "source": [
    "%matplotlib inline\n",
    "%load_ext autoreload\n",
    "%autoreload 2\n",
    "\n",
    "import matplotlib.pyplot as plt\n",
    "import numpy as np\n",
    "import pandas as pd\n",
    "import seaborn as sns\n",
    "sns.set_style('white')\n",
    "sns.set_context('notebook', font_scale=1.3)\n",
    "\n",
    "from agents import Agent\n",
    "from mouselab import MouselabEnv\n",
    "from distributions import Normal, Categorical\n",
    "from policies import FixedPlanPolicy"
   ]
  },
  {
   "cell_type": "code",
   "execution_count": 2,
   "metadata": {
    "collapsed": false
   },
   "outputs": [],
   "source": [
    "from scipy.stats import norm\n",
    "\n",
    "sigma = 10\n",
    "cost = 1\n",
    "# high value of planning: sigma=30, c=0.01\n",
    "# medium value of planning: sigma=28, c=1.00\n",
    "# low value of planning: sigma=1, c=4.00\n",
    "\n",
    "def make_env(sigma=sigma, cost=cost, n=4):\n",
    "    d = norm(0, sigma)\n",
    "    vals = np.linspace(-1.5*sigma, 1.5*sigma, n)\n",
    "    delta = vals[1] - vals[0]\n",
    "    bins = np.array((-np.inf, *(vals[1:] - delta/2), np.inf))\n",
    "    probs = np.diff(d.cdf(bins))\n",
    "    reward = Categorical(vals, probs)\n",
    "    # vals = [-5, -1, 1, 5]\n",
    "    # probs = [.1, .4, .4, .1]\n",
    "    # reward = Categorical(vals, probs)\n",
    "    return MouselabEnv([4,1,2], reward=reward, cost=cost,\n",
    "                       ground_truth=[0, *reward.sample(16)])\n",
    "\n",
    "def make_envs(seed=0, n=50):\n",
    "    np.random.seed(seed)\n",
    "    return [make_env() for _ in range(n)]\n",
    "\n",
    "envs = make_envs(5)\n",
    "TERM = envs[0].term_action"
   ]
  },
  {
   "cell_type": "code",
   "execution_count": 3,
   "metadata": {
    "collapsed": false
   },
   "outputs": [],
   "source": [
    "import json\n",
    "def save_envs(envs):\n",
    "    data = [{'stateRewards': e.ground_truth.tolist()} for e in envs]\n",
    "    with open('../experiments/exp1/static/json/med_cost.json', 'w+') as f:\n",
    "        json.dump(data, f)\n",
    "        \n",
    "save_envs(envs)"
   ]
  },
  {
   "cell_type": "code",
   "execution_count": 4,
   "metadata": {
    "collapsed": true
   },
   "outputs": [],
   "source": [
    "from policies import MouselabPolicy\n",
    "from skopt import gp_minimize\n",
    "bounds = [ (-30., 30.) ] * 5\n",
    "agent = Agent()\n",
    "\n",
    "def evaluate(policy, envs):\n",
    "    def run_env(policy, env):\n",
    "        agent.register(policy)\n",
    "        agent.register(env)\n",
    "        tr = agent.run_episode()\n",
    "        return {'util': tr['return'],\n",
    "                'observations': len(tr['actions']) - 1}\n",
    "    return pd.DataFrame(run_env(policy, env) for env in envs)\n",
    "\n",
    "def optimize(envs):    \n",
    "    def objective(theta):\n",
    "        theta = np.array(theta)\n",
    "        util = evaluate(MouselabPolicy(theta), envs).util.mean()\n",
    "        print(theta.round(3), util)\n",
    "        return - util\n",
    "    \n",
    "    return gp_minimize(objective, bounds, n_calls=50, random_state=123)"
   ]
  },
  {
   "cell_type": "code",
   "execution_count": 5,
   "metadata": {
    "collapsed": false
   },
   "outputs": [
    {
     "name": "stdout",
     "output_type": "stream",
     "text": [
      "[ 11.788 -12.832 -16.389   3.079  13.168] -3.8\n",
      "[ -4.614  28.846  11.09   -1.144  -6.473] 8.86\n",
      "[ -9.409  13.743  -3.686 -26.419  -6.117] -3.8\n",
      "[ 14.28  -19.05  -19.473   1.893   1.91 ] -3.8\n",
      "[  8.064  20.966  13.467   6.661  13.347] 5.24\n",
      "[-10.622  -8.293 -16.304 -12.377   7.859] -3.8\n",
      "[-24.474  -3.978  -4.148  -0.379  -4.45 ] -3.8\n",
      "[-11.264  -4.419  23.603  26.65    0.11 ] 11.06\n",
      "[  7.437 -23.063 -10.963  -5.11   21.979] -3.8\n",
      "[-14.973  -1.018  29.134   1.169   6.774] 5.24\n",
      "[  3.67   20.721  12.445   8.642   7.664] 5.2\n",
      "[  4.268  21.361  12.423   7.843   7.394] 5.24\n",
      "[-15.87   21.294  18.925  10.145 -20.36 ] 7.6\n",
      "[ 30.    -30.     20.526  30.     -3.184] 6.12\n",
      "[-13.633  -2.756  23.564  26.963   0.151] 9.38\n",
      "[-30.     14.923  22.268  30.      4.144] 5.2\n",
      "[ -8.68   -6.217  23.421  28.027  -0.365] 11.28\n",
      "[ -5.903  -8.339  22.926  30.     -2.12 ] 11.66\n",
      "[ -4.762  -9.3    22.797  30.     -3.116] 11.58\n",
      "[ -4.802  -8.878  23.514  30.     -2.032] 11.66\n",
      "[ -5.272  -8.503  23.724  30.     -1.809] 11.94\n",
      "[ -4.109  -8.53   26.19   30.     -1.229] 12.16\n",
      "[ -3.533  -8.497  27.837  30.     -1.162] 12.16\n",
      "[ -3.748  -8.398  27.774  30.     -1.345] 12.16\n",
      "[ -3.945  -8.322  27.728  30.     -1.574] 12.22\n",
      "[ -5.352  -8.226  28.004  30.     -7.139] 10.94\n",
      "[ -2.447  -8.601  26.99   30.      4.014] 5.24\n",
      "[ -4.54   -8.178  27.426  29.252  -1.992] 12.3\n",
      "[ -4.723  -8.208  27.127  29.737  -2.126] 12.3\n",
      "[ -5.032  -8.17   26.913  29.951  -2.076] 12.3\n",
      "[ -5.086  -8.119  26.793  28.903  -2.022] 12.3\n",
      "[ -3.869  -8.122  26.729  30.     -2.02 ] 12.3\n",
      "[ -6.768  -8.171  26.785  30.     -2.006] 12.26\n",
      "[ -1.557  -8.167  26.781  28.623  -2.014] 12.3\n",
      "[ -1.684  -8.153  26.769  28.46   -2.015] 12.3\n",
      "[ -4.045  -8.732  27.492  30.     -3.652] 11.86\n",
      "[  0.627  -9.192  29.136  27.685  -0.6  ] 11.74\n",
      "[  0.338 -10.897  22.496  30.     -5.531] 10.5\n",
      "[ -2.463  -7.822  26.361  25.901  -2.124] 11.96\n",
      "[ 30.     30.     30.     30.    -11.431] 10.08\n",
      "[ -1.99   -8.157  26.822  29.646  -1.905] 12.3\n",
      "[-30.     30.     11.599  30.    -13.069] 10.78\n",
      "[ 30.     30.      6.005  30.    -15.935] 8.8\n",
      "[-30.     30.     30.     30.    -15.386] 10.42\n",
      "[-23.861  -9.75   30.     30.    -20.488] 9.5\n",
      "[-30.     30.     22.413  30.     -7.244] 11.5\n",
      "[ 30.    -21.377  30.     30.    -30.   ] 7.06\n",
      "[-30.     30.     10.232  30.     -5.664] 11.26\n",
      "[-30.  30.  30.  30. -30.] 9.72\n",
      "[-30.     30.     -9.126  30.    -30.   ] 8.22\n"
     ]
    }
   ],
   "source": [
    "agent = Agent()\n",
    "result = optimize(envs)"
   ]
  },
  {
   "cell_type": "code",
   "execution_count": 6,
   "metadata": {
    "collapsed": false
   },
   "outputs": [
    {
     "name": "stdout",
     "output_type": "stream",
     "text": [
      "[-4.54043, -8.17798, 27.42567, 29.25199, -1.9919]\n"
     ]
    }
   ],
   "source": [
    "print(np.array(result.x).round(5).tolist())"
   ]
  },
  {
   "cell_type": "code",
   "execution_count": 7,
   "metadata": {
    "collapsed": false
   },
   "outputs": [],
   "source": [
    "# agent.register(MouselabPolicy([1,1,1,1]))\n",
    "# agent.register(e)\n",
    "# agent.run_episode()"
   ]
  },
  {
   "cell_type": "code",
   "execution_count": 8,
   "metadata": {
    "collapsed": false
   },
   "outputs": [
    {
     "data": {
      "text/plain": [
       "<seaborn.axisgrid.FacetGrid at 0x1b7799588>"
      ]
     },
     "execution_count": 8,
     "metadata": {},
     "output_type": "execute_result"
    },
    {
     "data": {
      "image/png": "[encoded data removed]",
      "text/plain": [
       "<matplotlib.figure.Figure at 0x1b73b0e10>"
      ]
     },
     "metadata": {},
     "output_type": "display_data"
    }
   ],
   "source": [
    "def data():\n",
    "    policies = {\n",
    "        'BO': MouselabPolicy(result.x),\n",
    "        'full': FixedPlanPolicy(range(1, TERM+1)),\n",
    "        'none': FixedPlanPolicy([TERM]),\n",
    "        'one': FixedPlanPolicy([1, 5, 9, 13, TERM]),\n",
    "        'two': FixedPlanPolicy([1, 2, 5, 6, 9, 10, 13, 14, TERM]),\n",
    "    }\n",
    "    def dfs():\n",
    "        for name, policy in policies.items():\n",
    "            df = evaluate(policy, envs=make_envs(12, 1000))\n",
    "            df['agent'] = name\n",
    "            # print('======= {} ======='.format(name))\n",
    "            # print('Observations: {:.3f}'.format(df.observations.mean() - 2))\n",
    "            # print('Return: {:.3f}'.format(df.util.mean() / sigma))\n",
    "            yield df\n",
    "    return pd.concat(dfs())\n",
    "    \n",
    "df = data()\n",
    "big_df = pd.concat([df] * 50)\n",
    "sns.factorplot('agent', 'util', data=big_df, \n",
    "               order=['none', 'one', 'two', 'full', 'BO'], \n",
    "               kind='bar')"
   ]
  },
  {
   "cell_type": "code",
   "execution_count": 12,
   "metadata": {
    "collapsed": false,
    "scrolled": true
   },
   "outputs": [
    {
     "data": {
      "text/plain": [
       "<seaborn.axisgrid.FacetGrid at 0x1d788b2b0>"
      ]
     },
     "execution_count": 12,
     "metadata": {},
     "output_type": "execute_result"
    },
    {
     "data": {
      "image/png": "[encoded data removed]",
      "text/plain": [
       "<matplotlib.figure.Figure at 0x1d788b2e8>"
      ]
     },
     "metadata": {},
     "output_type": "display_data"
    }
   ],
   "source": [
    "sns.factorplot('agent', 'util', data=df, \n",
    "               order=['none', 'one', 'two', 'full', 'BO'], \n",
    "               kind='bar')"
   ]
  }
 ],
 "metadata": {
  "anaconda-cloud": {},
  "kernelspec": {
   "display_name": "Python [default]",
   "language": "python",
   "name": "python3"
  },
  "language_info": {
   "codemirror_mode": {
    "name": "ipython",
    "version": 3
   },
   "file_extension": ".py",
   "mimetype": "text/x-python",
   "name": "python",
   "nbconvert_exporter": "python",
   "pygments_lexer": "ipython3",
   "version": "3.5.2"
  },
  "nav_menu": {},
  "toc": {
   "navigate_menu": true,
   "number_sections": true,
   "sideBar": true,
   "threshold": 6,
   "toc_cell": false,
   "toc_section_display": "block",
   "toc_window_display": false
  }
 },
 "nbformat": 4,
 "nbformat_minor": 0
}
