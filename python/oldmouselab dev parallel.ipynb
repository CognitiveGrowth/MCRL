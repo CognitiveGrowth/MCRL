{
 "cells": [
  {
   "cell_type": "code",
   "execution_count": 1,
   "metadata": {
    "collapsed": true
   },
   "outputs": [],
   "source": [
    "%matplotlib inline\n",
    "import matplotlib.pyplot as plt\n",
    "import numpy as np\n",
    "import pandas as pd\n",
    "import seaborn as sns\n",
    "import scipy.stats\n",
    "from scipy.stats import norm\n",
    "import scipy.integrate as integrate\n",
    "\n",
    "import gym\n",
    "from gym import spaces\n",
    "\n",
    "import random\n",
    "import itertools as it\n",
    "from joblib import Parallel, delayed\n",
    "from toolz import memoize\n",
    "from contracts import contract\n",
    "from collections import namedtuple, defaultdict, deque, Counter\n",
    "\n",
    "import warnings\n",
    "warnings.filterwarnings(\"ignore\", \n",
    "                        message=\"The objective has been evaluated at this point before.\")\n",
    "\n",
    "from agents import Agent\n",
    "from mouselab import MouselabEnv\n",
    "from policies import FixedPlanPolicy, LiederPolicy\n",
    "from evaluation import *\n",
    "from distributions import cmax, smax, sample, expectation, Normal, PointMass, SampleDist, Normal, Categorical"
   ]
  },
  {
   "cell_type": "code",
   "execution_count": 2,
   "metadata": {
    "collapsed": false
   },
   "outputs": [],
   "source": [
    "import ipyparallel as ipp \n",
    "rc = ipp.Client(profile='default', cluster_id='')\n",
    "ipp.register_joblib_backend()"
   ]
  },
  {
   "cell_type": "markdown",
   "metadata": {},
   "source": [
    "# Mouselab Environment"
   ]
  },
  {
   "cell_type": "code",
   "execution_count": 3,
   "metadata": {
    "collapsed": false
   },
   "outputs": [],
   "source": [
    "ZERO = PointMass(0)\n",
    "\n",
    "class OldMouselabEnv(gym.Env):\n",
    "    \"\"\"MetaMDP for the Mouselab task.\"\"\"\n",
    "    \n",
    "    term_state = '__term_state__'\n",
    "    def __init__(self, gambles=4, attributes=5, reward=None, cost=0,\n",
    "                 ground_truth=None, initial_states=None, randomness=1):\n",
    "        \n",
    "        self.gambles = gambles # number of gambles\n",
    "        \n",
    "        # distribution and number of attributes\n",
    "        if hasattr(attributes, '__len__'):\n",
    "            self.outcomes = len(attributes)\n",
    "            self.dist = np.array(attributes)/np.sum(attributes)\n",
    "        else:\n",
    "            self.outcomes = attributes\n",
    "            self.dist = np.random.dirichlet(np.ones(attributes)*randomness,size=1)[0]\n",
    "        # reward for the payoffs\n",
    "        self.reward = reward if reward is not None else Normal(1, 1)\n",
    "        \n",
    "        if hasattr(reward, 'sample'):\n",
    "            self.iid_rewards = True\n",
    "        else:\n",
    "            self.iid_rewards = False\n",
    "            \n",
    "        self.cost = - abs(cost)\n",
    "        self.initial_states = initial_states\n",
    "        self.max = cmax\n",
    "        self.init = np.array([self.reward,] * (self.gambles*self.outcomes))\n",
    "        \n",
    "        if ground_truth is False:\n",
    "            self.ground_truth = ()\n",
    "        elif ground_truth is not None:\n",
    "            self.ground_truth = np.array(ground_truth)\n",
    "        else:\n",
    "            self.ground_truth = np.array(list(map(sample, self.init)))\n",
    "            \n",
    "        self.sample_term_reward = False\n",
    "        self.term_action = self.gambles*self.outcomes\n",
    "        self.reset()\n",
    "#         self.ground_truth = np.array(ground_truth) if ground_truth is not None else None\n",
    "#         self.grid = np.arange(self.gambles*self.outcomes).reshape((self.gambles, self.outcomes))\n",
    "#         self.exact = hasattr(reward, 'vals')\n",
    "#         if self.exact:\n",
    "#             assert self.iid_rewards\n",
    "#             self.max = cmax\n",
    "#             self.init = np.array([self.reward,] * (self.gambles*self.outcomes))\n",
    "#         else:\n",
    "#             # Distributions represented as samples.\n",
    "#             self.max = smax\n",
    "#             self.init = np.array([self.reward.to_sampledist(),] * (self.gambles*self.outcomes))\n",
    "\n",
    "    def _reset(self):\n",
    "        if self.initial_states:\n",
    "            self.init = random.choice(self.initial_states)\n",
    "        self._state = self.init\n",
    "        grid = np.array(self._state).reshape(self.gambles,self.outcomes)\n",
    "        self.mus = [expectation(np.sum(self.dist*grid[g])) for g in range(self.gambles)]\n",
    "        # todo: include max_mu\n",
    "        # tmp: Works only for Normal\n",
    "        self.vars = np.sum(self.dist**2*reward.sigma**2)*np.ones(self.gambles)\n",
    "        return self.features(self._state)\n",
    "\n",
    "    def _step(self, action):\n",
    "#         print('step ' + str(action))\n",
    "        if self._state is self.term_state:\n",
    "            assert 0, 'state is terminal'\n",
    "            # return None, 0, True, {}\n",
    "        if action == self.term_action:\n",
    "            # self._state = self.term_state\n",
    "            if self.sample_term_reward:\n",
    "                if self.ground_truth is not None:\n",
    "                    gamble = self.best_gamble()\n",
    "                    reward = self.ground_truth[gamble].sum()\n",
    "                else:\n",
    "                    reward = self.term_reward().sample()\n",
    "            else:\n",
    "                reward = self.expected_term_reward()\n",
    "            self._state = self.term_state\n",
    "            done = True\n",
    "        elif not hasattr(self._state[action], 'sample'):  # already observed\n",
    "#             assert 0, self._state[action]\n",
    "            reward = 0\n",
    "            done = False\n",
    "        else:  # observe a new node\n",
    "            self._state = self._observe(action)\n",
    "            reward = self.cost\n",
    "            done = False\n",
    "        return self.features(self._state), reward, done, {}\n",
    "\n",
    "    def _observe(self, action):\n",
    "#         print('obs ' + str(action))\n",
    "        if self.ground_truth is not None:\n",
    "            result = self.ground_truth[action]\n",
    "        else:\n",
    "            result = self._state[action].sample()\n",
    "        s = list(self._state)\n",
    "        gamble = action // self.outcomes\n",
    "        option = action % self.outcomes\n",
    "        self.mus[gamble] += self.dist[option]*(result - reward.expectation())\n",
    "        self.vars[gamble] = max(0,self.vars[gamble] - self.dist[option]**2*reward.sigma**2)\n",
    "        s[action] = result\n",
    "        return tuple(s)\n",
    "\n",
    "    def actions(self, state=None):\n",
    "        \"\"\"Yields actions that can be taken in the given state.\n",
    "\n",
    "        Actions include observing the value of each unobserved node and terminating.\n",
    "        \"\"\"\n",
    "        state = state if state is not None else self._state\n",
    "        if state is self.term_state:\n",
    "            return\n",
    "        for i, v in enumerate(state):\n",
    "            if hasattr(v, 'sample'):\n",
    "                yield i\n",
    "        yield self.term_action\n",
    "\n",
    "    def results(self, state, action):\n",
    "        \"\"\"Returns a list of possible results of taking action in state.\n",
    "\n",
    "        Each outcome is (probability, next_state, reward).\n",
    "        \"\"\"\n",
    "        if action == self.term_action:\n",
    "            # R = self.term_reward()\n",
    "            # S1 = Categorical([self.term_state])\n",
    "            # return cross(S1, R)\n",
    "            yield (1, self.term_state, self.expected_term_reward(state))\n",
    "        else:\n",
    "            for r, p in state[action]:\n",
    "                s1 = list(state)\n",
    "                s1[action] = r\n",
    "                yield (p, tuple(s1), self.cost)\n",
    "\n",
    "    def features(self, state=None):\n",
    "        state = state if state is not None else self._state\n",
    "        return state\n",
    "\n",
    "\n",
    "    def action_features(self, action, state=None):\n",
    "        state = state if state is not None else self._state\n",
    "        assert state is not None\n",
    "\n",
    "\n",
    "        if action == self.term_action:\n",
    "            return np.array([\n",
    "                0,\n",
    "                0,\n",
    "                0,\n",
    "                0,\n",
    "                self.expected_term_reward(state)\n",
    "            ])\n",
    "\n",
    "        return np.array([\n",
    "            self.cost,\n",
    "            self.myopic_voi(action, state),\n",
    "            self.vpi_action(action, state),\n",
    "            self.vpi(state),\n",
    "            self.expected_term_reward(state)\n",
    "        ])\n",
    "    \n",
    "    def gsample(self,gamble):\n",
    "        if hasattr(gamble, 'sample'):\n",
    "            return gamble.sample()\n",
    "        return gamble\n",
    "    \n",
    "    def vpi(self,state=None):\n",
    "        gambles = [Normal(self.mus[i],np.sqrt(self.vars[i])) for i in range(self.gambles)]\n",
    "        samples_max = np.amax([[self.gsample(gambles[i]) for i in range(self.gambles)] for _ in range(2500)],1)\n",
    "        return np.mean(samples_max) - np.max(self.mus)\n",
    "    \n",
    "    def vpi2(self,state=None):\n",
    "        state = state if state is not None else self._state\n",
    "        grid = np.array(self._state).reshape(self.gambles,self.outcomes)\n",
    "        gambles = grid.dot(self.dist)\n",
    "        samples_max = np.amax([[self.gsample(gambles[i]) for i in range(self.gambles)] for _ in range(2500)],1)\n",
    "        return np.mean(samples_max) - np.max(self.mus)\n",
    "   \n",
    "    def vpi_action(self, action, state=None):\n",
    "        #todo add action check\n",
    "        state = state if state is not None else self._state\n",
    "        #E[value if gamble corresponding to action is fully known]\n",
    "        gamble = action//self.outcomes\n",
    "        mus_wo_g = np.delete(self.mus,gamble)\n",
    "        k = np.max(mus_wo_g)\n",
    "        m = self.mus[gamble]\n",
    "        s = np.sqrt(self.vars[gamble])\n",
    "        e_higher = integrate.quad(lambda x: x*norm.pdf(x,m,s), k, np.inf)[0]\n",
    "        e_val = k*norm.cdf(k,m,s) + e_higher\n",
    "        return e_val - np.max(self.mus)\n",
    "    \n",
    "    #todo edit\n",
    "    def myopic_voi(self, action, state=None):\n",
    "        #todo add action check\n",
    "        state = state if state is not None else self._state\n",
    "        #E[value if gamble corresponding to action is fully known]\n",
    "#         print(action)\n",
    "        gamble = action // self.outcomes\n",
    "        outcome = action % self.outcomes\n",
    "        mus_wo_g = np.delete(self.mus,gamble)\n",
    "        k = np.max(mus_wo_g)\n",
    "        m = self.mus[gamble]\n",
    "        s = reward.sigma*self.dist[outcome]\n",
    "        e_higher = integrate.quad(lambda x: x*norm.pdf(x,m,s), k, np.inf)[0]\n",
    "        e_val = k*norm.cdf(k,m,s) + e_higher\n",
    "        return e_val - np.max(self.mus)\n",
    "\n",
    "    \n",
    "    def best_gamble(self, state=None):\n",
    "        state = state if state is not None else self._state\n",
    "        grid = np.array(state).reshape(self.gambles,self.outcomes)\n",
    "        best_idx = np.argmax(self.mus)\n",
    "#         best_gamble = max((self.dist*grid[g] for g in range(self.gambles)), default=ZERO, key=lambda x: sum(map(expectation,x)))\n",
    "        return grid[best_idx]\n",
    "    \n",
    "    \n",
    "    def term_reward(self, state=None):\n",
    "        state = state if state is not None else self._state\n",
    "        assert state is not None\n",
    "        state_value = self.state_value(state)\n",
    "        return state_value  \n",
    "    \n",
    "    def state_value(self, state=None):\n",
    "        \"\"\"A distribution over total rewards after the given node.\"\"\"\n",
    "        state = state if state is not None else self._state\n",
    "        best_gamble = self.dist * self.best_gamble(state)\n",
    "        return np.sum(best_gamble)   \n",
    "    \n",
    "    def expected_term_reward(self, state=None):\n",
    "        sum_bg = self.term_reward(state)\n",
    "        if hasattr(sum_bg, 'sample'):\n",
    "            return sum_bg.expectation()\n",
    "        return sum_bg"
   ]
  },
  {
   "cell_type": "code",
   "execution_count": 4,
   "metadata": {
    "collapsed": false
   },
   "outputs": [],
   "source": [
    "gambles = 4\n",
    "attributes = [0.24,0.74,0.01,0.01]\n",
    "reward = Normal(2,1)\n",
    "cost=0.03\n",
    "env = OldMouselabEnv(gambles, attributes, reward)"
   ]
  },
  {
   "cell_type": "code",
   "execution_count": 5,
   "metadata": {
    "collapsed": false
   },
   "outputs": [],
   "source": [
    "attributes = 4\n",
    "env = OldMouselabEnv(gambles, attributes, reward, cost, randomness=0.1)"
   ]
  },
  {
   "cell_type": "code",
   "execution_count": 6,
   "metadata": {
    "collapsed": false,
    "scrolled": true
   },
   "outputs": [
    {
     "data": {
      "text/plain": [
       "array([-0.03 , -1.   ,  0.231,  0.596,  2.   ])"
      ]
     },
     "execution_count": 6,
     "metadata": {},
     "output_type": "execute_result"
    }
   ],
   "source": [
    "env.action_features(4)"
   ]
  },
  {
   "cell_type": "markdown",
   "metadata": {},
   "source": [
    "## Time features"
   ]
  },
  {
   "cell_type": "code",
   "execution_count": 7,
   "metadata": {
    "collapsed": true
   },
   "outputs": [],
   "source": [
    "import datetime"
   ]
  },
  {
   "cell_type": "code",
   "execution_count": 8,
   "metadata": {
    "collapsed": false
   },
   "outputs": [
    {
     "data": {
      "text/plain": [
       "array([  1.430e-05,   3.030e-01,   3.329e-01,   3.641e-01])"
      ]
     },
     "execution_count": 8,
     "metadata": {},
     "output_type": "execute_result"
    }
   ],
   "source": [
    "env.dist"
   ]
  },
  {
   "cell_type": "markdown",
   "metadata": {},
   "source": [
    "### VPI_all"
   ]
  },
  {
   "cell_type": "code",
   "execution_count": 9,
   "metadata": {
    "collapsed": false
   },
   "outputs": [
    {
     "name": "stdout",
     "output_type": "stream",
     "text": [
      "0.595541073541\n"
     ]
    }
   ],
   "source": [
    "a = datetime.datetime.now()\n",
    "means = []\n",
    "for i in range(100):\n",
    "    means.append(env.vpi())\n",
    "t = datetime.datetime.now() - a\n",
    "print(np.mean(means))"
   ]
  },
  {
   "cell_type": "code",
   "execution_count": 10,
   "metadata": {
    "collapsed": false,
    "scrolled": true
   },
   "outputs": [
    {
     "name": "stdout",
     "output_type": "stream",
     "text": [
      "0:00:01.499360\n"
     ]
    }
   ],
   "source": [
    "print(t)"
   ]
  },
  {
   "cell_type": "markdown",
   "metadata": {},
   "source": [
    "### VPI_all2"
   ]
  },
  {
   "cell_type": "code",
   "execution_count": 11,
   "metadata": {
    "collapsed": false
   },
   "outputs": [
    {
     "name": "stdout",
     "output_type": "stream",
     "text": [
      "0.597492592362\n"
     ]
    }
   ],
   "source": [
    "a = datetime.datetime.now()\n",
    "means = []\n",
    "for i in range(100):\n",
    "    means.append(env.vpi2())\n",
    "t = datetime.datetime.now() - a\n",
    "print(np.mean(means))"
   ]
  },
  {
   "cell_type": "code",
   "execution_count": 12,
   "metadata": {
    "collapsed": false
   },
   "outputs": [
    {
     "name": "stdout",
     "output_type": "stream",
     "text": [
      "0:00:01.341525\n"
     ]
    }
   ],
   "source": [
    "print(t)"
   ]
  },
  {
   "cell_type": "markdown",
   "metadata": {},
   "source": [
    "### VPI_action"
   ]
  },
  {
   "cell_type": "code",
   "execution_count": 13,
   "metadata": {
    "collapsed": false,
    "scrolled": true
   },
   "outputs": [
    {
     "name": "stdout",
     "output_type": "stream",
     "text": [
      "0:00:11.731187\n"
     ]
    }
   ],
   "source": [
    "a = datetime.datetime.now()\n",
    "for i in range(1000):\n",
    "    env.vpi_action(2)\n",
    "t = datetime.datetime.now() - a\n",
    "print(t)"
   ]
  },
  {
   "cell_type": "markdown",
   "metadata": {},
   "source": [
    "### Myopic_VOI"
   ]
  },
  {
   "cell_type": "code",
   "execution_count": 14,
   "metadata": {
    "collapsed": false
   },
   "outputs": [
    {
     "name": "stdout",
     "output_type": "stream",
     "text": [
      "0:00:11.485078\n"
     ]
    }
   ],
   "source": [
    "a = datetime.datetime.now()\n",
    "for i in range(1000):\n",
    "    env.myopic_voi(2)\n",
    "t = datetime.datetime.now() - a\n",
    "print(t)"
   ]
  },
  {
   "cell_type": "markdown",
   "metadata": {},
   "source": [
    "# Training"
   ]
  },
  {
   "cell_type": "code",
   "execution_count": 15,
   "metadata": {
    "collapsed": true
   },
   "outputs": [],
   "source": [
    "def hd_dist(attributes):\n",
    "    dist = [1,]*attributes\n",
    "    dist[0] = np.random.randint(85,97)\n",
    "    for i in range(1,attributes-1):\n",
    "        dist[i] += np.random.randint(0,100-np.sum(dist))\n",
    "    dist[-1] += 100-np.sum(dist)\n",
    "    dist = np.around(np.array(dist)/100,decimals=2)\n",
    "    np.random.shuffle(dist)\n",
    "    return dist"
   ]
  },
  {
   "cell_type": "code",
   "execution_count": 16,
   "metadata": {
    "collapsed": false
   },
   "outputs": [
    {
     "data": {
      "text/plain": [
       "array([ 0.01,  0.94,  0.02,  0.03])"
      ]
     },
     "execution_count": 16,
     "metadata": {},
     "output_type": "execute_result"
    }
   ],
   "source": [
    "hd_dist(4)"
   ]
  },
  {
   "cell_type": "code",
   "execution_count": 17,
   "metadata": {
    "collapsed": true
   },
   "outputs": [],
   "source": [
    "def ld_dist(attributes):\n",
    "    dist = [np.random.randint(10,40) for _ in range(attributes)]\n",
    "    dist = np.around(np.array(dist)/sum(dist),decimals=2)\n",
    "    np.random.shuffle(dist)\n",
    "    return dist"
   ]
  },
  {
   "cell_type": "code",
   "execution_count": 18,
   "metadata": {
    "collapsed": false
   },
   "outputs": [
    {
     "data": {
      "text/plain": [
       "array([ 0.38,  0.14,  0.12,  0.36])"
      ]
     },
     "execution_count": 18,
     "metadata": {},
     "output_type": "execute_result"
    }
   ],
   "source": [
    "ld_dist(4)"
   ]
  },
  {
   "cell_type": "markdown",
   "metadata": {},
   "source": [
    "## High Stakes 3 cents"
   ]
  },
  {
   "cell_type": "code",
   "execution_count": 19,
   "metadata": {
    "collapsed": false
   },
   "outputs": [],
   "source": [
    "gambles = 7\n",
    "attributes = 4\n",
    "# reward = Normal(0,1)\n",
    "# max_obs=30\n",
    "high_stakes = Normal((9.99+0.01)/2, 0.3*(9.99-0.01))\n",
    "low_stakes = Normal((0.25+0.01)/2, 0.3*(0.25-0.01))\n",
    "reward = high_stakes\n",
    "cost=.03\n",
    "\n",
    "#set to 20 for sanity check\n",
    "n_train = 20\n",
    "n_test = 20\n",
    "\n",
    "train_envs_hd = [OldMouselabEnv(gambles, hd_dist(attributes), reward, cost) for _ in range(n_train)]\n",
    "train_envs_ld = [OldMouselabEnv(gambles, ld_dist(attributes), reward, cost) for _ in range(n_train)]\n",
    "train_envs = train_envs_hd+train_envs_ld \n",
    "\n",
    "test_envs_hd =  [OldMouselabEnv(gambles, hd_dist(attributes), reward, cost) for _ in range(n_train)]\n",
    "test_envs_ld = [OldMouselabEnv(gambles, ld_dist(attributes), reward, cost) for _ in range(n_train)]\n",
    "test_envs = test_envs_hd+test_envs_ld \n",
    "\n",
    "term_action = train_envs[0].term_action"
   ]
  },
  {
   "cell_type": "code",
   "execution_count": 23,
   "metadata": {
    "collapsed": true
   },
   "outputs": [],
   "source": [
    "bo_pol_theta = np.load('data/high_stakes_3cents.npy')\n",
    "bo_pol = LiederPolicy(list(bo_pol_theta))"
   ]
  },
  {
   "cell_type": "code",
   "execution_count": 24,
   "metadata": {
    "collapsed": false
   },
   "outputs": [
    {
     "name": "stdout",
     "output_type": "stream",
     "text": [
      "[ 2.978  0.396  0.079  0.524  1.   ] -> 7.039 in 33 sec\n",
      "[ 18.192   0.331   0.337   0.332   1.   ] -> 6.899 in 21 sec\n",
      "[ 19.083   0.52    0.403   0.077   1.   ] -> 6.453 in 16 sec\n",
      "[ 8.907  0.27   0.459  0.271  1.   ] -> 7.112 in 29 sec\n",
      "[ 12.391   0.459   0.185   0.356   1.   ] -> 7.077 in 22 sec\n",
      "[ 11.679   0.486   0.071   0.442   1.   ] -> 7.142 in 25 sec\n",
      "[ 14.735   0.4     0.26    0.339   1.   ] -> 7.031 in 20 sec\n",
      "[ 21.898   0.31    0.286   0.404   1.   ] -> 6.811 in 20 sec\n",
      "[ 4.071  0.339  0.133  0.528  1.   ] -> 7.031 in 31 sec\n",
      "[ 7.28   0.222  0.532  0.246  1.   ] -> 7.005 in 26 sec\n",
      "[ 7.447  0.222  0.519  0.259  1.   ] -> 7.046 in 27 sec\n",
      "[ 30.      0.378   0.245   0.378   1.   ] -> 6.553 in 15 sec\n",
      "[ 9.827  0.     0.5    0.5    1.   ] -> 6.925 in 35 sec\n",
      "[ 1.   0.5  0.5  0.   1. ] -> 7.077 in 33 sec\n",
      "[ 8.934  0.588  0.     0.412  1.   ] -> 7.139 in 27 sec\n",
      "[ 6.539  0.682  0.     0.318  1.   ] -> 7.07 in 29 sec\n",
      "[ 11.13    0.547   0.      0.453   1.   ] -> 7.031 in 28 sec\n",
      "[ 1.     0.788  0.     0.212  1.   ] -> 7.046 in 33 sec\n",
      "[ 8.828  0.378  0.378  0.245  1.   ] -> 7.021 in 29 sec\n",
      "[ 1.     0.395  0.     0.605  1.   ] -> 7.05 in 36 sec\n",
      "BO: [ 11.679   0.486   0.071   0.442   1.   ] -> 7.142 in 544 sec\n",
      "0:09:03.928154\n"
     ]
    }
   ],
   "source": [
    "a = datetime.datetime.now()\n",
    "# bop2 = bo_policy(train_envs, max_cost=max_obs, n_jobs=20, n_calls=20, x0=[1., 1., 0., 0.])\n",
    "bo_pol, result = bo_policy(train_envs, max_cost=30, n_jobs=20, n_calls=20, x0=list(bo_pol.theta[:-1]),\n",
    "                           verbose=1, normalize_voi=True, return_result=True)\n",
    "t = datetime.datetime.now() - a\n",
    "print(t)"
   ]
  },
  {
   "cell_type": "code",
   "execution_count": 25,
   "metadata": {
    "collapsed": false
   },
   "outputs": [
    {
     "data": {
      "text/plain": [
       "<matplotlib.axes._subplots.AxesSubplot at 0x2ab7c7861d68>"
      ]
     },
     "execution_count": 25,
     "metadata": {},
     "output_type": "execute_result"
    },
    {
     "name": "stderr",
     "output_type": "stream",
     "text": [
      "/global/software/sl-7.x86_64/modules/langs/python/3.6/lib/python3.6/site-packages/matplotlib/font_manager.py:1297: UserWarning: findfont: Font family ['sans-serif'] not found. Falling back to DejaVu Sans\n",
      "  (prop.get_family(), self.defaultFamily[fontext]))\n"
     ]
    },
    {
     "data": {
      "image/png": "[encoded data removed]",
      "text/plain": [
       "<matplotlib.figure.Figure at 0x2ab7c78684e0>"
      ]
     },
     "metadata": {},
     "output_type": "display_data"
    }
   ],
   "source": [
    "from skopt.plots import plot_convergence, plot_evaluations, plot_objective\n",
    "plot_convergence(result)"
   ]
  },
  {
   "cell_type": "code",
   "execution_count": 26,
   "metadata": {
    "collapsed": false
   },
   "outputs": [
    {
     "data": {
      "text/plain": [
       "array([ 11.679,   0.486,   0.071,   0.442,   1.   ])"
      ]
     },
     "execution_count": 26,
     "metadata": {},
     "output_type": "execute_result"
    }
   ],
   "source": [
    "bo_pol.theta"
   ]
  },
  {
   "cell_type": "code",
   "execution_count": 219,
   "metadata": {
    "collapsed": true
   },
   "outputs": [],
   "source": [
    "# np.save('high_stakes_3cents',bo_pol.theta)"
   ]
  },
  {
   "cell_type": "code",
   "execution_count": 27,
   "metadata": {
    "collapsed": false
   },
   "outputs": [],
   "source": [
    "a = datetime.datetime.now()\n",
    "bo_utils = get_util(bo_pol, test_envs, parallel=Parallel(n_jobs=20),return_mean=False)\n",
    "t = datetime.datetime.now() - a"
   ]
  },
  {
   "cell_type": "code",
   "execution_count": 28,
   "metadata": {
    "collapsed": false,
    "scrolled": true
   },
   "outputs": [
    {
     "data": {
      "text/plain": [
       "7.1193556381263559"
      ]
     },
     "execution_count": 28,
     "metadata": {},
     "output_type": "execute_result"
    }
   ],
   "source": [
    "np.mean(bo_utils)"
   ]
  },
  {
   "cell_type": "code",
   "execution_count": 29,
   "metadata": {
    "collapsed": false
   },
   "outputs": [],
   "source": [
    "mg_pol = LiederPolicy([1, 1, 0, 0, 1])\n",
    "a = datetime.datetime.now()\n",
    "mg_utils = get_util(mg_pol, test_envs, parallel=Parallel(n_jobs=20),return_mean=False)\n",
    "t = datetime.datetime.now() - a"
   ]
  },
  {
   "cell_type": "code",
   "execution_count": 30,
   "metadata": {
    "collapsed": false
   },
   "outputs": [
    {
     "data": {
      "text/plain": [
       "7.2164397985038464"
      ]
     },
     "execution_count": 30,
     "metadata": {},
     "output_type": "execute_result"
    }
   ],
   "source": [
    "np.mean(mg_utils)"
   ]
  },
  {
   "cell_type": "code",
   "execution_count": 31,
   "metadata": {
    "collapsed": false
   },
   "outputs": [
    {
     "data": {
      "text/plain": [
       "Ttest_indResult(statistic=-0.34340012753570187, pvalue=0.73222134529588634)"
      ]
     },
     "execution_count": 31,
     "metadata": {},
     "output_type": "execute_result"
    }
   ],
   "source": [
    "from scipy.stats import ttest_ind\n",
    "ttest_ind(bo_utils,mg_utils)"
   ]
  },
  {
   "cell_type": "code",
   "execution_count": 32,
   "metadata": {
    "collapsed": false
   },
   "outputs": [
    {
     "data": {
      "text/plain": [
       "Ttest_relResult(statistic=-1.2061004963574689, pvalue=0.23504481889857098)"
      ]
     },
     "execution_count": 32,
     "metadata": {},
     "output_type": "execute_result"
    }
   ],
   "source": [
    "from scipy.stats import ttest_rel\n",
    "ttest_rel(bo_utils,mg_utils)"
   ]
  },
  {
   "cell_type": "code",
   "execution_count": 33,
   "metadata": {
    "collapsed": true
   },
   "outputs": [],
   "source": [
    "no_pol = FixedPlanPolicy([term_action])\n",
    "a = datetime.datetime.now()\n",
    "no_utils = get_util(no_pol, test_envs, parallel=Parallel(n_jobs=20),return_mean=False)\n",
    "t = datetime.datetime.now() - a"
   ]
  },
  {
   "cell_type": "code",
   "execution_count": 34,
   "metadata": {
    "collapsed": false,
    "scrolled": true
   },
   "outputs": [
    {
     "data": {
      "text/plain": [
       "5.0"
      ]
     },
     "execution_count": 34,
     "metadata": {},
     "output_type": "execute_result"
    }
   ],
   "source": [
    "np.mean(no_utils)"
   ]
  },
  {
   "cell_type": "code",
   "execution_count": 35,
   "metadata": {
    "collapsed": false
   },
   "outputs": [],
   "source": [
    "fo_pol = FixedPlanPolicy(range(term_action+1))\n",
    "a = datetime.datetime.now()\n",
    "fo_utils = get_util(fo_pol, test_envs, parallel=Parallel(n_jobs=20),return_mean=False)\n",
    "t = datetime.datetime.now() - a"
   ]
  },
  {
   "cell_type": "code",
   "execution_count": 36,
   "metadata": {
    "collapsed": false
   },
   "outputs": [
    {
     "data": {
      "text/plain": [
       "6.75839878191419"
      ]
     },
     "execution_count": 36,
     "metadata": {},
     "output_type": "execute_result"
    }
   ],
   "source": [
    "np.mean(fo_utils)"
   ]
  },
  {
   "cell_type": "code",
   "execution_count": 37,
   "metadata": {
    "collapsed": false
   },
   "outputs": [],
   "source": [
    "utils = [bo_utils,mg_utils,no_utils,fo_utils]\n",
    "policies = ['bo','metagreedy','none','full-obs']\n",
    "d_list = []\n",
    "for u,p in zip(utils,policies):\n",
    "    for result in u:\n",
    "        d_list.append({'util':result,'stakes':'high','cost':0.03,'policy':p})"
   ]
  },
  {
   "cell_type": "code",
   "execution_count": 38,
   "metadata": {
    "collapsed": false
   },
   "outputs": [
    {
     "data": {
      "text/html": [
       "<div>\n",
       "<table border=\"1\" class=\"dataframe\">\n",
       "  <thead>\n",
       "    <tr style=\"text-align: right;\">\n",
       "      <th></th>\n",
       "      <th>cost</th>\n",
       "      <th>policy</th>\n",
       "      <th>stakes</th>\n",
       "      <th>util</th>\n",
       "    </tr>\n",
       "  </thead>\n",
       "  <tbody>\n",
       "    <tr>\n",
       "      <th>0</th>\n",
       "      <td>0.03</td>\n",
       "      <td>bo</td>\n",
       "      <td>high</td>\n",
       "      <td>7.292699</td>\n",
       "    </tr>\n",
       "    <tr>\n",
       "      <th>1</th>\n",
       "      <td>0.03</td>\n",
       "      <td>bo</td>\n",
       "      <td>high</td>\n",
       "      <td>7.912315</td>\n",
       "    </tr>\n",
       "    <tr>\n",
       "      <th>2</th>\n",
       "      <td>0.03</td>\n",
       "      <td>bo</td>\n",
       "      <td>high</td>\n",
       "      <td>6.097723</td>\n",
       "    </tr>\n",
       "    <tr>\n",
       "      <th>3</th>\n",
       "      <td>0.03</td>\n",
       "      <td>bo</td>\n",
       "      <td>high</td>\n",
       "      <td>7.375388</td>\n",
       "    </tr>\n",
       "    <tr>\n",
       "      <th>4</th>\n",
       "      <td>0.03</td>\n",
       "      <td>bo</td>\n",
       "      <td>high</td>\n",
       "      <td>6.781878</td>\n",
       "    </tr>\n",
       "    <tr>\n",
       "      <th>5</th>\n",
       "      <td>0.03</td>\n",
       "      <td>bo</td>\n",
       "      <td>high</td>\n",
       "      <td>11.511568</td>\n",
       "    </tr>\n",
       "    <tr>\n",
       "      <th>6</th>\n",
       "      <td>0.03</td>\n",
       "      <td>bo</td>\n",
       "      <td>high</td>\n",
       "      <td>5.812373</td>\n",
       "    </tr>\n",
       "    <tr>\n",
       "      <th>7</th>\n",
       "      <td>0.03</td>\n",
       "      <td>bo</td>\n",
       "      <td>high</td>\n",
       "      <td>6.716564</td>\n",
       "    </tr>\n",
       "    <tr>\n",
       "      <th>8</th>\n",
       "      <td>0.03</td>\n",
       "      <td>bo</td>\n",
       "      <td>high</td>\n",
       "      <td>7.166972</td>\n",
       "    </tr>\n",
       "    <tr>\n",
       "      <th>9</th>\n",
       "      <td>0.03</td>\n",
       "      <td>bo</td>\n",
       "      <td>high</td>\n",
       "      <td>6.875504</td>\n",
       "    </tr>\n",
       "    <tr>\n",
       "      <th>10</th>\n",
       "      <td>0.03</td>\n",
       "      <td>bo</td>\n",
       "      <td>high</td>\n",
       "      <td>9.306018</td>\n",
       "    </tr>\n",
       "    <tr>\n",
       "      <th>11</th>\n",
       "      <td>0.03</td>\n",
       "      <td>bo</td>\n",
       "      <td>high</td>\n",
       "      <td>7.377574</td>\n",
       "    </tr>\n",
       "    <tr>\n",
       "      <th>12</th>\n",
       "      <td>0.03</td>\n",
       "      <td>bo</td>\n",
       "      <td>high</td>\n",
       "      <td>9.103146</td>\n",
       "    </tr>\n",
       "    <tr>\n",
       "      <th>13</th>\n",
       "      <td>0.03</td>\n",
       "      <td>bo</td>\n",
       "      <td>high</td>\n",
       "      <td>7.682605</td>\n",
       "    </tr>\n",
       "    <tr>\n",
       "      <th>14</th>\n",
       "      <td>0.03</td>\n",
       "      <td>bo</td>\n",
       "      <td>high</td>\n",
       "      <td>8.229530</td>\n",
       "    </tr>\n",
       "    <tr>\n",
       "      <th>15</th>\n",
       "      <td>0.03</td>\n",
       "      <td>bo</td>\n",
       "      <td>high</td>\n",
       "      <td>6.471571</td>\n",
       "    </tr>\n",
       "    <tr>\n",
       "      <th>16</th>\n",
       "      <td>0.03</td>\n",
       "      <td>bo</td>\n",
       "      <td>high</td>\n",
       "      <td>9.313060</td>\n",
       "    </tr>\n",
       "    <tr>\n",
       "      <th>17</th>\n",
       "      <td>0.03</td>\n",
       "      <td>bo</td>\n",
       "      <td>high</td>\n",
       "      <td>7.376124</td>\n",
       "    </tr>\n",
       "    <tr>\n",
       "      <th>18</th>\n",
       "      <td>0.03</td>\n",
       "      <td>bo</td>\n",
       "      <td>high</td>\n",
       "      <td>8.767359</td>\n",
       "    </tr>\n",
       "    <tr>\n",
       "      <th>19</th>\n",
       "      <td>0.03</td>\n",
       "      <td>bo</td>\n",
       "      <td>high</td>\n",
       "      <td>9.074281</td>\n",
       "    </tr>\n",
       "    <tr>\n",
       "      <th>20</th>\n",
       "      <td>0.03</td>\n",
       "      <td>bo</td>\n",
       "      <td>high</td>\n",
       "      <td>6.445210</td>\n",
       "    </tr>\n",
       "    <tr>\n",
       "      <th>21</th>\n",
       "      <td>0.03</td>\n",
       "      <td>bo</td>\n",
       "      <td>high</td>\n",
       "      <td>6.432101</td>\n",
       "    </tr>\n",
       "    <tr>\n",
       "      <th>22</th>\n",
       "      <td>0.03</td>\n",
       "      <td>bo</td>\n",
       "      <td>high</td>\n",
       "      <td>5.546911</td>\n",
       "    </tr>\n",
       "    <tr>\n",
       "      <th>23</th>\n",
       "      <td>0.03</td>\n",
       "      <td>bo</td>\n",
       "      <td>high</td>\n",
       "      <td>5.237123</td>\n",
       "    </tr>\n",
       "    <tr>\n",
       "      <th>24</th>\n",
       "      <td>0.03</td>\n",
       "      <td>bo</td>\n",
       "      <td>high</td>\n",
       "      <td>5.774450</td>\n",
       "    </tr>\n",
       "    <tr>\n",
       "      <th>25</th>\n",
       "      <td>0.03</td>\n",
       "      <td>bo</td>\n",
       "      <td>high</td>\n",
       "      <td>6.985393</td>\n",
       "    </tr>\n",
       "    <tr>\n",
       "      <th>26</th>\n",
       "      <td>0.03</td>\n",
       "      <td>bo</td>\n",
       "      <td>high</td>\n",
       "      <td>6.712010</td>\n",
       "    </tr>\n",
       "    <tr>\n",
       "      <th>27</th>\n",
       "      <td>0.03</td>\n",
       "      <td>bo</td>\n",
       "      <td>high</td>\n",
       "      <td>7.280523</td>\n",
       "    </tr>\n",
       "    <tr>\n",
       "      <th>28</th>\n",
       "      <td>0.03</td>\n",
       "      <td>bo</td>\n",
       "      <td>high</td>\n",
       "      <td>6.203285</td>\n",
       "    </tr>\n",
       "    <tr>\n",
       "      <th>29</th>\n",
       "      <td>0.03</td>\n",
       "      <td>bo</td>\n",
       "      <td>high</td>\n",
       "      <td>6.615959</td>\n",
       "    </tr>\n",
       "    <tr>\n",
       "      <th>...</th>\n",
       "      <td>...</td>\n",
       "      <td>...</td>\n",
       "      <td>...</td>\n",
       "      <td>...</td>\n",
       "    </tr>\n",
       "    <tr>\n",
       "      <th>130</th>\n",
       "      <td>0.03</td>\n",
       "      <td>full-obs</td>\n",
       "      <td>high</td>\n",
       "      <td>8.656417</td>\n",
       "    </tr>\n",
       "    <tr>\n",
       "      <th>131</th>\n",
       "      <td>0.03</td>\n",
       "      <td>full-obs</td>\n",
       "      <td>high</td>\n",
       "      <td>6.721304</td>\n",
       "    </tr>\n",
       "    <tr>\n",
       "      <th>132</th>\n",
       "      <td>0.03</td>\n",
       "      <td>full-obs</td>\n",
       "      <td>high</td>\n",
       "      <td>8.267670</td>\n",
       "    </tr>\n",
       "    <tr>\n",
       "      <th>133</th>\n",
       "      <td>0.03</td>\n",
       "      <td>full-obs</td>\n",
       "      <td>high</td>\n",
       "      <td>6.982214</td>\n",
       "    </tr>\n",
       "    <tr>\n",
       "      <th>134</th>\n",
       "      <td>0.03</td>\n",
       "      <td>full-obs</td>\n",
       "      <td>high</td>\n",
       "      <td>7.273353</td>\n",
       "    </tr>\n",
       "    <tr>\n",
       "      <th>135</th>\n",
       "      <td>0.03</td>\n",
       "      <td>full-obs</td>\n",
       "      <td>high</td>\n",
       "      <td>6.028216</td>\n",
       "    </tr>\n",
       "    <tr>\n",
       "      <th>136</th>\n",
       "      <td>0.03</td>\n",
       "      <td>full-obs</td>\n",
       "      <td>high</td>\n",
       "      <td>8.296215</td>\n",
       "    </tr>\n",
       "    <tr>\n",
       "      <th>137</th>\n",
       "      <td>0.03</td>\n",
       "      <td>full-obs</td>\n",
       "      <td>high</td>\n",
       "      <td>6.714648</td>\n",
       "    </tr>\n",
       "    <tr>\n",
       "      <th>138</th>\n",
       "      <td>0.03</td>\n",
       "      <td>full-obs</td>\n",
       "      <td>high</td>\n",
       "      <td>8.454069</td>\n",
       "    </tr>\n",
       "    <tr>\n",
       "      <th>139</th>\n",
       "      <td>0.03</td>\n",
       "      <td>full-obs</td>\n",
       "      <td>high</td>\n",
       "      <td>8.374331</td>\n",
       "    </tr>\n",
       "    <tr>\n",
       "      <th>140</th>\n",
       "      <td>0.03</td>\n",
       "      <td>full-obs</td>\n",
       "      <td>high</td>\n",
       "      <td>5.941519</td>\n",
       "    </tr>\n",
       "    <tr>\n",
       "      <th>141</th>\n",
       "      <td>0.03</td>\n",
       "      <td>full-obs</td>\n",
       "      <td>high</td>\n",
       "      <td>6.981933</td>\n",
       "    </tr>\n",
       "    <tr>\n",
       "      <th>142</th>\n",
       "      <td>0.03</td>\n",
       "      <td>full-obs</td>\n",
       "      <td>high</td>\n",
       "      <td>5.786459</td>\n",
       "    </tr>\n",
       "    <tr>\n",
       "      <th>143</th>\n",
       "      <td>0.03</td>\n",
       "      <td>full-obs</td>\n",
       "      <td>high</td>\n",
       "      <td>5.674735</td>\n",
       "    </tr>\n",
       "    <tr>\n",
       "      <th>144</th>\n",
       "      <td>0.03</td>\n",
       "      <td>full-obs</td>\n",
       "      <td>high</td>\n",
       "      <td>5.284870</td>\n",
       "    </tr>\n",
       "    <tr>\n",
       "      <th>145</th>\n",
       "      <td>0.03</td>\n",
       "      <td>full-obs</td>\n",
       "      <td>high</td>\n",
       "      <td>7.699351</td>\n",
       "    </tr>\n",
       "    <tr>\n",
       "      <th>146</th>\n",
       "      <td>0.03</td>\n",
       "      <td>full-obs</td>\n",
       "      <td>high</td>\n",
       "      <td>5.983909</td>\n",
       "    </tr>\n",
       "    <tr>\n",
       "      <th>147</th>\n",
       "      <td>0.03</td>\n",
       "      <td>full-obs</td>\n",
       "      <td>high</td>\n",
       "      <td>6.230458</td>\n",
       "    </tr>\n",
       "    <tr>\n",
       "      <th>148</th>\n",
       "      <td>0.03</td>\n",
       "      <td>full-obs</td>\n",
       "      <td>high</td>\n",
       "      <td>5.704840</td>\n",
       "    </tr>\n",
       "    <tr>\n",
       "      <th>149</th>\n",
       "      <td>0.03</td>\n",
       "      <td>full-obs</td>\n",
       "      <td>high</td>\n",
       "      <td>6.867272</td>\n",
       "    </tr>\n",
       "    <tr>\n",
       "      <th>150</th>\n",
       "      <td>0.03</td>\n",
       "      <td>full-obs</td>\n",
       "      <td>high</td>\n",
       "      <td>5.644397</td>\n",
       "    </tr>\n",
       "    <tr>\n",
       "      <th>151</th>\n",
       "      <td>0.03</td>\n",
       "      <td>full-obs</td>\n",
       "      <td>high</td>\n",
       "      <td>5.764716</td>\n",
       "    </tr>\n",
       "    <tr>\n",
       "      <th>152</th>\n",
       "      <td>0.03</td>\n",
       "      <td>full-obs</td>\n",
       "      <td>high</td>\n",
       "      <td>7.221796</td>\n",
       "    </tr>\n",
       "    <tr>\n",
       "      <th>153</th>\n",
       "      <td>0.03</td>\n",
       "      <td>full-obs</td>\n",
       "      <td>high</td>\n",
       "      <td>7.637885</td>\n",
       "    </tr>\n",
       "    <tr>\n",
       "      <th>154</th>\n",
       "      <td>0.03</td>\n",
       "      <td>full-obs</td>\n",
       "      <td>high</td>\n",
       "      <td>6.319759</td>\n",
       "    </tr>\n",
       "    <tr>\n",
       "      <th>155</th>\n",
       "      <td>0.03</td>\n",
       "      <td>full-obs</td>\n",
       "      <td>high</td>\n",
       "      <td>6.118452</td>\n",
       "    </tr>\n",
       "    <tr>\n",
       "      <th>156</th>\n",
       "      <td>0.03</td>\n",
       "      <td>full-obs</td>\n",
       "      <td>high</td>\n",
       "      <td>6.568631</td>\n",
       "    </tr>\n",
       "    <tr>\n",
       "      <th>157</th>\n",
       "      <td>0.03</td>\n",
       "      <td>full-obs</td>\n",
       "      <td>high</td>\n",
       "      <td>5.098321</td>\n",
       "    </tr>\n",
       "    <tr>\n",
       "      <th>158</th>\n",
       "      <td>0.03</td>\n",
       "      <td>full-obs</td>\n",
       "      <td>high</td>\n",
       "      <td>6.482900</td>\n",
       "    </tr>\n",
       "    <tr>\n",
       "      <th>159</th>\n",
       "      <td>0.03</td>\n",
       "      <td>full-obs</td>\n",
       "      <td>high</td>\n",
       "      <td>5.627910</td>\n",
       "    </tr>\n",
       "  </tbody>\n",
       "</table>\n",
       "<p>160 rows × 4 columns</p>\n",
       "</div>"
      ],
      "text/plain": [
       "     cost    policy stakes       util\n",
       "0    0.03        bo   high   7.292699\n",
       "1    0.03        bo   high   7.912315\n",
       "2    0.03        bo   high   6.097723\n",
       "3    0.03        bo   high   7.375388\n",
       "4    0.03        bo   high   6.781878\n",
       "5    0.03        bo   high  11.511568\n",
       "6    0.03        bo   high   5.812373\n",
       "7    0.03        bo   high   6.716564\n",
       "8    0.03        bo   high   7.166972\n",
       "9    0.03        bo   high   6.875504\n",
       "10   0.03        bo   high   9.306018\n",
       "11   0.03        bo   high   7.377574\n",
       "12   0.03        bo   high   9.103146\n",
       "13   0.03        bo   high   7.682605\n",
       "14   0.03        bo   high   8.229530\n",
       "15   0.03        bo   high   6.471571\n",
       "16   0.03        bo   high   9.313060\n",
       "17   0.03        bo   high   7.376124\n",
       "18   0.03        bo   high   8.767359\n",
       "19   0.03        bo   high   9.074281\n",
       "20   0.03        bo   high   6.445210\n",
       "21   0.03        bo   high   6.432101\n",
       "22   0.03        bo   high   5.546911\n",
       "23   0.03        bo   high   5.237123\n",
       "24   0.03        bo   high   5.774450\n",
       "25   0.03        bo   high   6.985393\n",
       "26   0.03        bo   high   6.712010\n",
       "27   0.03        bo   high   7.280523\n",
       "28   0.03        bo   high   6.203285\n",
       "29   0.03        bo   high   6.615959\n",
       "..    ...       ...    ...        ...\n",
       "130  0.03  full-obs   high   8.656417\n",
       "131  0.03  full-obs   high   6.721304\n",
       "132  0.03  full-obs   high   8.267670\n",
       "133  0.03  full-obs   high   6.982214\n",
       "134  0.03  full-obs   high   7.273353\n",
       "135  0.03  full-obs   high   6.028216\n",
       "136  0.03  full-obs   high   8.296215\n",
       "137  0.03  full-obs   high   6.714648\n",
       "138  0.03  full-obs   high   8.454069\n",
       "139  0.03  full-obs   high   8.374331\n",
       "140  0.03  full-obs   high   5.941519\n",
       "141  0.03  full-obs   high   6.981933\n",
       "142  0.03  full-obs   high   5.786459\n",
       "143  0.03  full-obs   high   5.674735\n",
       "144  0.03  full-obs   high   5.284870\n",
       "145  0.03  full-obs   high   7.699351\n",
       "146  0.03  full-obs   high   5.983909\n",
       "147  0.03  full-obs   high   6.230458\n",
       "148  0.03  full-obs   high   5.704840\n",
       "149  0.03  full-obs   high   6.867272\n",
       "150  0.03  full-obs   high   5.644397\n",
       "151  0.03  full-obs   high   5.764716\n",
       "152  0.03  full-obs   high   7.221796\n",
       "153  0.03  full-obs   high   7.637885\n",
       "154  0.03  full-obs   high   6.319759\n",
       "155  0.03  full-obs   high   6.118452\n",
       "156  0.03  full-obs   high   6.568631\n",
       "157  0.03  full-obs   high   5.098321\n",
       "158  0.03  full-obs   high   6.482900\n",
       "159  0.03  full-obs   high   5.627910\n",
       "\n",
       "[160 rows x 4 columns]"
      ]
     },
     "execution_count": 38,
     "metadata": {},
     "output_type": "execute_result"
    }
   ],
   "source": [
    "df = pd.DataFrame(d_list)\n",
    "df"
   ]
  },
  {
   "cell_type": "code",
   "execution_count": 39,
   "metadata": {
    "collapsed": false
   },
   "outputs": [
    {
     "data": {
      "text/plain": [
       "7.216439798503847"
      ]
     },
     "execution_count": 39,
     "metadata": {},
     "output_type": "execute_result"
    }
   ],
   "source": [
    "df[df['policy'] == 'metagreedy'].util.mean()"
   ]
  },
  {
   "cell_type": "code",
   "execution_count": 234,
   "metadata": {
    "collapsed": false
   },
   "outputs": [],
   "source": [
    "# df.to_hdf('high_stakes_3cents_results','results')"
   ]
  },
  {
   "cell_type": "code",
   "execution_count": 42,
   "metadata": {
    "collapsed": false
   },
   "outputs": [],
   "source": [
    "df2 = pd.read_hdf('data/high_stakes_3cents_results','results')"
   ]
  },
  {
   "cell_type": "code",
   "execution_count": 43,
   "metadata": {
    "collapsed": false
   },
   "outputs": [
    {
     "data": {
      "text/plain": [
       "7.4295954581247585"
      ]
     },
     "execution_count": 43,
     "metadata": {},
     "output_type": "execute_result"
    }
   ],
   "source": [
    "df2[df2['policy']=='metagreedy'].util.mean()"
   ]
  },
  {
   "cell_type": "markdown",
   "metadata": {},
   "source": [
    "## High Stakes 0.5 cents"
   ]
  },
  {
   "cell_type": "code",
   "execution_count": 1,
   "metadata": {
    "collapsed": false
   },
   "outputs": [
    {
     "ename": "NameError",
     "evalue": "name 'Normal' is not defined",
     "output_type": "error",
     "traceback": [
      "\u001b[0;31m---------------------------------------------------------------------------\u001b[0m",
      "\u001b[0;31mNameError\u001b[0m                                 Traceback (most recent call last)",
      "\u001b[0;32m<ipython-input-1-0b79ae6bffc7>\u001b[0m in \u001b[0;36m<module>\u001b[0;34m()\u001b[0m\n\u001b[1;32m      3\u001b[0m \u001b[0;31m# reward = Normal(0,1)\u001b[0m\u001b[0;34m\u001b[0m\u001b[0;34m\u001b[0m\u001b[0m\n\u001b[1;32m      4\u001b[0m \u001b[0;31m# max_obs=30\u001b[0m\u001b[0;34m\u001b[0m\u001b[0;34m\u001b[0m\u001b[0m\n\u001b[0;32m----> 5\u001b[0;31m \u001b[0mhigh_stakes\u001b[0m \u001b[0;34m=\u001b[0m \u001b[0mNormal\u001b[0m\u001b[0;34m(\u001b[0m\u001b[0;34m(\u001b[0m\u001b[0;36m9.99\u001b[0m\u001b[0;34m+\u001b[0m\u001b[0;36m0.01\u001b[0m\u001b[0;34m)\u001b[0m\u001b[0;34m/\u001b[0m\u001b[0;36m2\u001b[0m\u001b[0;34m,\u001b[0m \u001b[0;36m0.3\u001b[0m\u001b[0;34m*\u001b[0m\u001b[0;34m(\u001b[0m\u001b[0;36m9.99\u001b[0m\u001b[0;34m-\u001b[0m\u001b[0;36m0.01\u001b[0m\u001b[0;34m)\u001b[0m\u001b[0;34m)\u001b[0m\u001b[0;34m\u001b[0m\u001b[0m\n\u001b[0m\u001b[1;32m      6\u001b[0m \u001b[0mlow_stakes\u001b[0m \u001b[0;34m=\u001b[0m \u001b[0mNormal\u001b[0m\u001b[0;34m(\u001b[0m\u001b[0;34m(\u001b[0m\u001b[0;36m0.25\u001b[0m\u001b[0;34m+\u001b[0m\u001b[0;36m0.01\u001b[0m\u001b[0;34m)\u001b[0m\u001b[0;34m/\u001b[0m\u001b[0;36m2\u001b[0m\u001b[0;34m,\u001b[0m \u001b[0;36m0.3\u001b[0m\u001b[0;34m*\u001b[0m\u001b[0;34m(\u001b[0m\u001b[0;36m0.25\u001b[0m\u001b[0;34m-\u001b[0m\u001b[0;36m0.01\u001b[0m\u001b[0;34m)\u001b[0m\u001b[0;34m)\u001b[0m\u001b[0;34m\u001b[0m\u001b[0m\n\u001b[1;32m      7\u001b[0m \u001b[0mreward\u001b[0m \u001b[0;34m=\u001b[0m \u001b[0mhigh_stakes\u001b[0m\u001b[0;34m\u001b[0m\u001b[0m\n",
      "\u001b[0;31mNameError\u001b[0m: name 'Normal' is not defined"
     ]
    }
   ],
   "source": [
    "gambles = 7\n",
    "attributes = 4\n",
    "# reward = Normal(0,1)\n",
    "# max_obs=30\n",
    "high_stakes = Normal((9.99+0.01)/2, 0.3*(9.99-0.01))\n",
    "low_stakes = Normal((0.25+0.01)/2, 0.3*(0.25-0.01))\n",
    "reward = high_stakes\n",
    "cost=.005\n",
    "\n",
    "#set to 20 for sanity check\n",
    "n_train = 250\n",
    "n_test = 250\n",
    "\n",
    "train_envs_hd = [OldMouselabEnv(gambles, hd_dist(attributes), reward, cost) for _ in range(n_train)]\n",
    "train_envs_ld = [OldMouselabEnv(gambles, ld_dist(attributes), reward, cost) for _ in range(n_train)]\n",
    "train_envs = train_envs_hd+train_envs_ld \n",
    "\n",
    "test_envs_hd =  [OldMouselabEnv(gambles, hd_dist(attributes), reward, cost) for _ in range(n_train)]\n",
    "test_envs_ld = [OldMouselabEnv(gambles, ld_dist(attributes), reward, cost) for _ in range(n_train)]\n",
    "test_envs = test_envs_hd+test_envs_ld \n",
    "\n",
    "term_action = train_envs[0].term_action"
   ]
  },
  {
   "cell_type": "code",
   "execution_count": 261,
   "metadata": {
    "collapsed": false
   },
   "outputs": [
    {
     "data": {
      "text/plain": [
       "[2.9783272170979114,\n",
       " 0.39643329029334312,\n",
       " 0.079458823707467902,\n",
       " 0.524107885999189]"
      ]
     },
     "execution_count": 261,
     "metadata": {},
     "output_type": "execute_result"
    }
   ],
   "source": [
    "list(bo_pol.theta[:-1])"
   ]
  },
  {
   "cell_type": "code",
   "execution_count": 262,
   "metadata": {
    "collapsed": false
   },
   "outputs": [
    {
     "name": "stdout",
     "output_type": "stream",
     "text": [
      "[ 2.978  0.396  0.079  0.524  1.   ] -> 7.404 in 34 sec\n",
      "[ 18.192   0.331   0.337   0.332   1.   ] -> 6.834 in 19 sec\n",
      "[ 19.083   0.52    0.403   0.077   1.   ] -> 6.673 in 19 sec\n",
      "[ 8.907  0.27   0.459  0.271  1.   ] -> 7.295 in 23 sec\n",
      "[ 12.391   0.459   0.185   0.356   1.   ] -> 7.32 in 22 sec\n",
      "[ 11.679   0.486   0.071   0.442   1.   ] -> 7.271 in 23 sec\n",
      "[ 14.735   0.4     0.26    0.339   1.   ] -> 7.151 in 22 sec\n",
      "[ 21.898   0.31    0.286   0.404   1.   ] -> 7.055 in 19 sec\n",
      "[ 4.071  0.339  0.133  0.528  1.   ] -> 7.299 in 32 sec\n",
      "[ 7.28   0.222  0.532  0.246  1.   ] -> 7.309 in 26 sec\n",
      "[ 7.447  0.222  0.519  0.259  1.   ] -> 7.292 in 26 sec\n",
      "[ 1.   0.5  0.5  0.   1. ] -> 7.364 in 33 sec\n",
      "[ 2.521  0.435  0.087  0.477  1.   ] -> 7.334 in 34 sec\n",
      "[ 29.296   0.165   0.393   0.442   1.   ] -> 6.84 in 18 sec\n",
      "[ 1.   0.   0.5  0.5  1. ] -> 7.328 in 38 sec\n",
      "[ 3.843  0.336  0.664  0.     1.   ] -> 7.235 in 26 sec\n",
      "[ 1.  1.  0.  0.  1.] -> 7.313 in 30 sec\n",
      "[ 2.435  0.5    0.     0.5    1.   ] -> 7.408 in 36 sec\n",
      "[ 2.493  0.333  0.333  0.333  1.   ] -> 7.433 in 33 sec\n",
      "[ 24.99    0.873   0.127   0.      1.   ] -> 6.202 in 13 sec\n",
      "BO: [ 2.493  0.333  0.333  0.333  1.   ] -> 7.433 in 533 sec\n",
      "0:08:53.388828\n"
     ]
    }
   ],
   "source": [
    "a = datetime.datetime.now()\n",
    "# bop2 = bo_policy(train_envs, max_cost=max_obs, n_jobs=20, n_calls=20, x0=[1., 1., 0., 0.])\n",
    "bo_pol, result = bo_policy(train_envs, max_cost=30, n_jobs=20, n_calls=20, x0=list(bo_pol.theta[:-1]),\n",
    "                           verbose=1, normalize_voi=True, return_result=True)\n",
    "t = datetime.datetime.now() - a\n",
    "print(t)"
   ]
  },
  {
   "cell_type": "code",
   "execution_count": 263,
   "metadata": {
    "collapsed": false
   },
   "outputs": [
    {
     "data": {
      "text/plain": [
       "<matplotlib.axes._subplots.AxesSubplot at 0x2b7a3229a7b8>"
      ]
     },
     "execution_count": 263,
     "metadata": {},
     "output_type": "execute_result"
    },
    {
     "name": "stderr",
     "output_type": "stream",
     "text": [
      "/global/software/sl-7.x86_64/modules/langs/python/3.6/lib/python3.6/site-packages/matplotlib/font_manager.py:1297: UserWarning: findfont: Font family ['sans-serif'] not found. Falling back to DejaVu Sans\n",
      "  (prop.get_family(), self.defaultFamily[fontext]))\n"
     ]
    },
    {
     "data": {
      "image/png": "[encoded data removed]",
      "text/plain": [
       "<matplotlib.figure.Figure at 0x2b79b85c1048>"
      ]
     },
     "metadata": {},
     "output_type": "display_data"
    }
   ],
   "source": [
    "from skopt.plots import plot_convergence, plot_evaluations, plot_objective\n",
    "plot_convergence(result)"
   ]
  },
  {
   "cell_type": "code",
   "execution_count": 264,
   "metadata": {
    "collapsed": false
   },
   "outputs": [
    {
     "data": {
      "text/plain": [
       "array([ 2.493,  0.333,  0.333,  0.333,  1.   ])"
      ]
     },
     "execution_count": 264,
     "metadata": {},
     "output_type": "execute_result"
    }
   ],
   "source": [
    "bo_pol.theta"
   ]
  },
  {
   "cell_type": "code",
   "execution_count": 219,
   "metadata": {
    "collapsed": true
   },
   "outputs": [],
   "source": [
    "# np.save('high_stakes_3cents',bo_pol.theta)"
   ]
  },
  {
   "cell_type": "code",
   "execution_count": 265,
   "metadata": {
    "collapsed": false
   },
   "outputs": [],
   "source": [
    "a = datetime.datetime.now()\n",
    "bo_utils = get_util(bo_pol, test_envs, parallel=Parallel(n_jobs=20),return_mean=False)\n",
    "t = datetime.datetime.now() - a"
   ]
  },
  {
   "cell_type": "code",
   "execution_count": 266,
   "metadata": {
    "collapsed": false,
    "scrolled": true
   },
   "outputs": [
    {
     "data": {
      "text/plain": [
       "7.5241300064811014"
      ]
     },
     "execution_count": 266,
     "metadata": {},
     "output_type": "execute_result"
    }
   ],
   "source": [
    "np.mean(bo_utils)"
   ]
  },
  {
   "cell_type": "code",
   "execution_count": 267,
   "metadata": {
    "collapsed": false
   },
   "outputs": [],
   "source": [
    "mg_pol = LiederPolicy([1, 1, 0, 0, 1])\n",
    "a = datetime.datetime.now()\n",
    "mg_utils = get_util(mg_pol, test_envs, parallel=Parallel(n_jobs=20),return_mean=False)\n",
    "t = datetime.datetime.now() - a"
   ]
  },
  {
   "cell_type": "code",
   "execution_count": 268,
   "metadata": {
    "collapsed": false
   },
   "outputs": [
    {
     "data": {
      "text/plain": [
       "7.3214033141481139"
      ]
     },
     "execution_count": 268,
     "metadata": {},
     "output_type": "execute_result"
    }
   ],
   "source": [
    "np.mean(mg_utils)"
   ]
  },
  {
   "cell_type": "code",
   "execution_count": 269,
   "metadata": {
    "collapsed": false
   },
   "outputs": [
    {
     "data": {
      "text/plain": [
       "Ttest_indResult(statistic=0.53916585979153708, pvalue=0.59130811112939707)"
      ]
     },
     "execution_count": 269,
     "metadata": {},
     "output_type": "execute_result"
    }
   ],
   "source": [
    "from scipy.stats import ttest_ind\n",
    "ttest_ind(bo_utils,mg_utils)"
   ]
  },
  {
   "cell_type": "code",
   "execution_count": 270,
   "metadata": {
    "collapsed": false
   },
   "outputs": [
    {
     "data": {
      "text/plain": [
       "Ttest_relResult(statistic=2.3461098502329896, pvalue=0.024147244979974787)"
      ]
     },
     "execution_count": 270,
     "metadata": {},
     "output_type": "execute_result"
    }
   ],
   "source": [
    "from scipy.stats import ttest_rel\n",
    "ttest_rel(bo_utils,mg_utils)"
   ]
  },
  {
   "cell_type": "code",
   "execution_count": 271,
   "metadata": {
    "collapsed": true
   },
   "outputs": [],
   "source": [
    "no_pol = FixedPlanPolicy([term_action])\n",
    "a = datetime.datetime.now()\n",
    "no_utils = get_util(no_pol, test_envs, parallel=Parallel(n_jobs=20),return_mean=False)\n",
    "t = datetime.datetime.now() - a"
   ]
  },
  {
   "cell_type": "code",
   "execution_count": 272,
   "metadata": {
    "collapsed": false,
    "scrolled": true
   },
   "outputs": [
    {
     "data": {
      "text/plain": [
       "5.0"
      ]
     },
     "execution_count": 272,
     "metadata": {},
     "output_type": "execute_result"
    }
   ],
   "source": [
    "np.mean(no_utils)"
   ]
  },
  {
   "cell_type": "code",
   "execution_count": 273,
   "metadata": {
    "collapsed": false
   },
   "outputs": [],
   "source": [
    "fo_pol = FixedPlanPolicy(range(term_action+1))\n",
    "a = datetime.datetime.now()\n",
    "fo_utils = get_util(fo_pol, test_envs, parallel=Parallel(n_jobs=20),return_mean=False)\n",
    "t = datetime.datetime.now() - a"
   ]
  },
  {
   "cell_type": "code",
   "execution_count": 274,
   "metadata": {
    "collapsed": false
   },
   "outputs": [
    {
     "data": {
      "text/plain": [
       "6.9437461215111496"
      ]
     },
     "execution_count": 274,
     "metadata": {},
     "output_type": "execute_result"
    }
   ],
   "source": [
    "np.mean(fo_utils)"
   ]
  },
  {
   "cell_type": "code",
   "execution_count": 276,
   "metadata": {
    "collapsed": false
   },
   "outputs": [],
   "source": [
    "utils = [bo_utils,mg_utils,no_utils,fo_utils]\n",
    "policies = ['bo','metagreedy','none','full-obs']\n",
    "d_list = []\n",
    "for u,p in zip(utils,policies):\n",
    "    for result in u:\n",
    "        d_list.append({'util':result,'stakes':'high','cost':0.03,'policy':p})"
   ]
  },
  {
   "cell_type": "code",
   "execution_count": 277,
   "metadata": {
    "collapsed": false
   },
   "outputs": [
    {
     "data": {
      "text/html": [
       "<div>\n",
       "<table border=\"1\" class=\"dataframe\">\n",
       "  <thead>\n",
       "    <tr style=\"text-align: right;\">\n",
       "      <th></th>\n",
       "      <th>cost</th>\n",
       "      <th>policy</th>\n",
       "      <th>stakes</th>\n",
       "      <th>util</th>\n",
       "    </tr>\n",
       "  </thead>\n",
       "  <tbody>\n",
       "    <tr>\n",
       "      <th>0</th>\n",
       "      <td>0.03</td>\n",
       "      <td>bo</td>\n",
       "      <td>high</td>\n",
       "      <td>7.873270</td>\n",
       "    </tr>\n",
       "    <tr>\n",
       "      <th>1</th>\n",
       "      <td>0.03</td>\n",
       "      <td>bo</td>\n",
       "      <td>high</td>\n",
       "      <td>9.517753</td>\n",
       "    </tr>\n",
       "    <tr>\n",
       "      <th>2</th>\n",
       "      <td>0.03</td>\n",
       "      <td>bo</td>\n",
       "      <td>high</td>\n",
       "      <td>9.107819</td>\n",
       "    </tr>\n",
       "    <tr>\n",
       "      <th>3</th>\n",
       "      <td>0.03</td>\n",
       "      <td>bo</td>\n",
       "      <td>high</td>\n",
       "      <td>7.796294</td>\n",
       "    </tr>\n",
       "    <tr>\n",
       "      <th>4</th>\n",
       "      <td>0.03</td>\n",
       "      <td>bo</td>\n",
       "      <td>high</td>\n",
       "      <td>6.347466</td>\n",
       "    </tr>\n",
       "    <tr>\n",
       "      <th>5</th>\n",
       "      <td>0.03</td>\n",
       "      <td>bo</td>\n",
       "      <td>high</td>\n",
       "      <td>6.486989</td>\n",
       "    </tr>\n",
       "    <tr>\n",
       "      <th>6</th>\n",
       "      <td>0.03</td>\n",
       "      <td>bo</td>\n",
       "      <td>high</td>\n",
       "      <td>10.632970</td>\n",
       "    </tr>\n",
       "    <tr>\n",
       "      <th>7</th>\n",
       "      <td>0.03</td>\n",
       "      <td>bo</td>\n",
       "      <td>high</td>\n",
       "      <td>10.050665</td>\n",
       "    </tr>\n",
       "    <tr>\n",
       "      <th>8</th>\n",
       "      <td>0.03</td>\n",
       "      <td>bo</td>\n",
       "      <td>high</td>\n",
       "      <td>6.541379</td>\n",
       "    </tr>\n",
       "    <tr>\n",
       "      <th>9</th>\n",
       "      <td>0.03</td>\n",
       "      <td>bo</td>\n",
       "      <td>high</td>\n",
       "      <td>10.785176</td>\n",
       "    </tr>\n",
       "    <tr>\n",
       "      <th>10</th>\n",
       "      <td>0.03</td>\n",
       "      <td>bo</td>\n",
       "      <td>high</td>\n",
       "      <td>6.306658</td>\n",
       "    </tr>\n",
       "    <tr>\n",
       "      <th>11</th>\n",
       "      <td>0.03</td>\n",
       "      <td>bo</td>\n",
       "      <td>high</td>\n",
       "      <td>9.126282</td>\n",
       "    </tr>\n",
       "    <tr>\n",
       "      <th>12</th>\n",
       "      <td>0.03</td>\n",
       "      <td>bo</td>\n",
       "      <td>high</td>\n",
       "      <td>9.329072</td>\n",
       "    </tr>\n",
       "    <tr>\n",
       "      <th>13</th>\n",
       "      <td>0.03</td>\n",
       "      <td>bo</td>\n",
       "      <td>high</td>\n",
       "      <td>9.246299</td>\n",
       "    </tr>\n",
       "    <tr>\n",
       "      <th>14</th>\n",
       "      <td>0.03</td>\n",
       "      <td>bo</td>\n",
       "      <td>high</td>\n",
       "      <td>12.284769</td>\n",
       "    </tr>\n",
       "    <tr>\n",
       "      <th>15</th>\n",
       "      <td>0.03</td>\n",
       "      <td>bo</td>\n",
       "      <td>high</td>\n",
       "      <td>5.754265</td>\n",
       "    </tr>\n",
       "    <tr>\n",
       "      <th>16</th>\n",
       "      <td>0.03</td>\n",
       "      <td>bo</td>\n",
       "      <td>high</td>\n",
       "      <td>7.543279</td>\n",
       "    </tr>\n",
       "    <tr>\n",
       "      <th>17</th>\n",
       "      <td>0.03</td>\n",
       "      <td>bo</td>\n",
       "      <td>high</td>\n",
       "      <td>8.121756</td>\n",
       "    </tr>\n",
       "    <tr>\n",
       "      <th>18</th>\n",
       "      <td>0.03</td>\n",
       "      <td>bo</td>\n",
       "      <td>high</td>\n",
       "      <td>8.109359</td>\n",
       "    </tr>\n",
       "    <tr>\n",
       "      <th>19</th>\n",
       "      <td>0.03</td>\n",
       "      <td>bo</td>\n",
       "      <td>high</td>\n",
       "      <td>6.527595</td>\n",
       "    </tr>\n",
       "    <tr>\n",
       "      <th>20</th>\n",
       "      <td>0.03</td>\n",
       "      <td>bo</td>\n",
       "      <td>high</td>\n",
       "      <td>5.498776</td>\n",
       "    </tr>\n",
       "    <tr>\n",
       "      <th>21</th>\n",
       "      <td>0.03</td>\n",
       "      <td>bo</td>\n",
       "      <td>high</td>\n",
       "      <td>8.774843</td>\n",
       "    </tr>\n",
       "    <tr>\n",
       "      <th>22</th>\n",
       "      <td>0.03</td>\n",
       "      <td>bo</td>\n",
       "      <td>high</td>\n",
       "      <td>7.475805</td>\n",
       "    </tr>\n",
       "    <tr>\n",
       "      <th>23</th>\n",
       "      <td>0.03</td>\n",
       "      <td>bo</td>\n",
       "      <td>high</td>\n",
       "      <td>6.651854</td>\n",
       "    </tr>\n",
       "    <tr>\n",
       "      <th>24</th>\n",
       "      <td>0.03</td>\n",
       "      <td>bo</td>\n",
       "      <td>high</td>\n",
       "      <td>8.496579</td>\n",
       "    </tr>\n",
       "    <tr>\n",
       "      <th>25</th>\n",
       "      <td>0.03</td>\n",
       "      <td>bo</td>\n",
       "      <td>high</td>\n",
       "      <td>5.980618</td>\n",
       "    </tr>\n",
       "    <tr>\n",
       "      <th>26</th>\n",
       "      <td>0.03</td>\n",
       "      <td>bo</td>\n",
       "      <td>high</td>\n",
       "      <td>5.667216</td>\n",
       "    </tr>\n",
       "    <tr>\n",
       "      <th>27</th>\n",
       "      <td>0.03</td>\n",
       "      <td>bo</td>\n",
       "      <td>high</td>\n",
       "      <td>7.966342</td>\n",
       "    </tr>\n",
       "    <tr>\n",
       "      <th>28</th>\n",
       "      <td>0.03</td>\n",
       "      <td>bo</td>\n",
       "      <td>high</td>\n",
       "      <td>6.612903</td>\n",
       "    </tr>\n",
       "    <tr>\n",
       "      <th>29</th>\n",
       "      <td>0.03</td>\n",
       "      <td>bo</td>\n",
       "      <td>high</td>\n",
       "      <td>6.964541</td>\n",
       "    </tr>\n",
       "    <tr>\n",
       "      <th>...</th>\n",
       "      <td>...</td>\n",
       "      <td>...</td>\n",
       "      <td>...</td>\n",
       "      <td>...</td>\n",
       "    </tr>\n",
       "    <tr>\n",
       "      <th>130</th>\n",
       "      <td>0.03</td>\n",
       "      <td>full-obs</td>\n",
       "      <td>high</td>\n",
       "      <td>5.591257</td>\n",
       "    </tr>\n",
       "    <tr>\n",
       "      <th>131</th>\n",
       "      <td>0.03</td>\n",
       "      <td>full-obs</td>\n",
       "      <td>high</td>\n",
       "      <td>8.534167</td>\n",
       "    </tr>\n",
       "    <tr>\n",
       "      <th>132</th>\n",
       "      <td>0.03</td>\n",
       "      <td>full-obs</td>\n",
       "      <td>high</td>\n",
       "      <td>8.798524</td>\n",
       "    </tr>\n",
       "    <tr>\n",
       "      <th>133</th>\n",
       "      <td>0.03</td>\n",
       "      <td>full-obs</td>\n",
       "      <td>high</td>\n",
       "      <td>8.382314</td>\n",
       "    </tr>\n",
       "    <tr>\n",
       "      <th>134</th>\n",
       "      <td>0.03</td>\n",
       "      <td>full-obs</td>\n",
       "      <td>high</td>\n",
       "      <td>11.466026</td>\n",
       "    </tr>\n",
       "    <tr>\n",
       "      <th>135</th>\n",
       "      <td>0.03</td>\n",
       "      <td>full-obs</td>\n",
       "      <td>high</td>\n",
       "      <td>5.089534</td>\n",
       "    </tr>\n",
       "    <tr>\n",
       "      <th>136</th>\n",
       "      <td>0.03</td>\n",
       "      <td>full-obs</td>\n",
       "      <td>high</td>\n",
       "      <td>7.141866</td>\n",
       "    </tr>\n",
       "    <tr>\n",
       "      <th>137</th>\n",
       "      <td>0.03</td>\n",
       "      <td>full-obs</td>\n",
       "      <td>high</td>\n",
       "      <td>7.548319</td>\n",
       "    </tr>\n",
       "    <tr>\n",
       "      <th>138</th>\n",
       "      <td>0.03</td>\n",
       "      <td>full-obs</td>\n",
       "      <td>high</td>\n",
       "      <td>7.698262</td>\n",
       "    </tr>\n",
       "    <tr>\n",
       "      <th>139</th>\n",
       "      <td>0.03</td>\n",
       "      <td>full-obs</td>\n",
       "      <td>high</td>\n",
       "      <td>5.400419</td>\n",
       "    </tr>\n",
       "    <tr>\n",
       "      <th>140</th>\n",
       "      <td>0.03</td>\n",
       "      <td>full-obs</td>\n",
       "      <td>high</td>\n",
       "      <td>5.138776</td>\n",
       "    </tr>\n",
       "    <tr>\n",
       "      <th>141</th>\n",
       "      <td>0.03</td>\n",
       "      <td>full-obs</td>\n",
       "      <td>high</td>\n",
       "      <td>8.900130</td>\n",
       "    </tr>\n",
       "    <tr>\n",
       "      <th>142</th>\n",
       "      <td>0.03</td>\n",
       "      <td>full-obs</td>\n",
       "      <td>high</td>\n",
       "      <td>6.424312</td>\n",
       "    </tr>\n",
       "    <tr>\n",
       "      <th>143</th>\n",
       "      <td>0.03</td>\n",
       "      <td>full-obs</td>\n",
       "      <td>high</td>\n",
       "      <td>6.693070</td>\n",
       "    </tr>\n",
       "    <tr>\n",
       "      <th>144</th>\n",
       "      <td>0.03</td>\n",
       "      <td>full-obs</td>\n",
       "      <td>high</td>\n",
       "      <td>7.773495</td>\n",
       "    </tr>\n",
       "    <tr>\n",
       "      <th>145</th>\n",
       "      <td>0.03</td>\n",
       "      <td>full-obs</td>\n",
       "      <td>high</td>\n",
       "      <td>5.083673</td>\n",
       "    </tr>\n",
       "    <tr>\n",
       "      <th>146</th>\n",
       "      <td>0.03</td>\n",
       "      <td>full-obs</td>\n",
       "      <td>high</td>\n",
       "      <td>5.693285</td>\n",
       "    </tr>\n",
       "    <tr>\n",
       "      <th>147</th>\n",
       "      <td>0.03</td>\n",
       "      <td>full-obs</td>\n",
       "      <td>high</td>\n",
       "      <td>6.718684</td>\n",
       "    </tr>\n",
       "    <tr>\n",
       "      <th>148</th>\n",
       "      <td>0.03</td>\n",
       "      <td>full-obs</td>\n",
       "      <td>high</td>\n",
       "      <td>6.192903</td>\n",
       "    </tr>\n",
       "    <tr>\n",
       "      <th>149</th>\n",
       "      <td>0.03</td>\n",
       "      <td>full-obs</td>\n",
       "      <td>high</td>\n",
       "      <td>6.890111</td>\n",
       "    </tr>\n",
       "    <tr>\n",
       "      <th>150</th>\n",
       "      <td>0.03</td>\n",
       "      <td>full-obs</td>\n",
       "      <td>high</td>\n",
       "      <td>4.450229</td>\n",
       "    </tr>\n",
       "    <tr>\n",
       "      <th>151</th>\n",
       "      <td>0.03</td>\n",
       "      <td>full-obs</td>\n",
       "      <td>high</td>\n",
       "      <td>5.948567</td>\n",
       "    </tr>\n",
       "    <tr>\n",
       "      <th>152</th>\n",
       "      <td>0.03</td>\n",
       "      <td>full-obs</td>\n",
       "      <td>high</td>\n",
       "      <td>6.871234</td>\n",
       "    </tr>\n",
       "    <tr>\n",
       "      <th>153</th>\n",
       "      <td>0.03</td>\n",
       "      <td>full-obs</td>\n",
       "      <td>high</td>\n",
       "      <td>5.379505</td>\n",
       "    </tr>\n",
       "    <tr>\n",
       "      <th>154</th>\n",
       "      <td>0.03</td>\n",
       "      <td>full-obs</td>\n",
       "      <td>high</td>\n",
       "      <td>7.235273</td>\n",
       "    </tr>\n",
       "    <tr>\n",
       "      <th>155</th>\n",
       "      <td>0.03</td>\n",
       "      <td>full-obs</td>\n",
       "      <td>high</td>\n",
       "      <td>4.907583</td>\n",
       "    </tr>\n",
       "    <tr>\n",
       "      <th>156</th>\n",
       "      <td>0.03</td>\n",
       "      <td>full-obs</td>\n",
       "      <td>high</td>\n",
       "      <td>6.677741</td>\n",
       "    </tr>\n",
       "    <tr>\n",
       "      <th>157</th>\n",
       "      <td>0.03</td>\n",
       "      <td>full-obs</td>\n",
       "      <td>high</td>\n",
       "      <td>6.321521</td>\n",
       "    </tr>\n",
       "    <tr>\n",
       "      <th>158</th>\n",
       "      <td>0.03</td>\n",
       "      <td>full-obs</td>\n",
       "      <td>high</td>\n",
       "      <td>4.986043</td>\n",
       "    </tr>\n",
       "    <tr>\n",
       "      <th>159</th>\n",
       "      <td>0.03</td>\n",
       "      <td>full-obs</td>\n",
       "      <td>high</td>\n",
       "      <td>5.774685</td>\n",
       "    </tr>\n",
       "  </tbody>\n",
       "</table>\n",
       "<p>160 rows × 4 columns</p>\n",
       "</div>"
      ],
      "text/plain": [
       "     cost    policy stakes       util\n",
       "0    0.03        bo   high   7.873270\n",
       "1    0.03        bo   high   9.517753\n",
       "2    0.03        bo   high   9.107819\n",
       "3    0.03        bo   high   7.796294\n",
       "4    0.03        bo   high   6.347466\n",
       "5    0.03        bo   high   6.486989\n",
       "6    0.03        bo   high  10.632970\n",
       "7    0.03        bo   high  10.050665\n",
       "8    0.03        bo   high   6.541379\n",
       "9    0.03        bo   high  10.785176\n",
       "10   0.03        bo   high   6.306658\n",
       "11   0.03        bo   high   9.126282\n",
       "12   0.03        bo   high   9.329072\n",
       "13   0.03        bo   high   9.246299\n",
       "14   0.03        bo   high  12.284769\n",
       "15   0.03        bo   high   5.754265\n",
       "16   0.03        bo   high   7.543279\n",
       "17   0.03        bo   high   8.121756\n",
       "18   0.03        bo   high   8.109359\n",
       "19   0.03        bo   high   6.527595\n",
       "20   0.03        bo   high   5.498776\n",
       "21   0.03        bo   high   8.774843\n",
       "22   0.03        bo   high   7.475805\n",
       "23   0.03        bo   high   6.651854\n",
       "24   0.03        bo   high   8.496579\n",
       "25   0.03        bo   high   5.980618\n",
       "26   0.03        bo   high   5.667216\n",
       "27   0.03        bo   high   7.966342\n",
       "28   0.03        bo   high   6.612903\n",
       "29   0.03        bo   high   6.964541\n",
       "..    ...       ...    ...        ...\n",
       "130  0.03  full-obs   high   5.591257\n",
       "131  0.03  full-obs   high   8.534167\n",
       "132  0.03  full-obs   high   8.798524\n",
       "133  0.03  full-obs   high   8.382314\n",
       "134  0.03  full-obs   high  11.466026\n",
       "135  0.03  full-obs   high   5.089534\n",
       "136  0.03  full-obs   high   7.141866\n",
       "137  0.03  full-obs   high   7.548319\n",
       "138  0.03  full-obs   high   7.698262\n",
       "139  0.03  full-obs   high   5.400419\n",
       "140  0.03  full-obs   high   5.138776\n",
       "141  0.03  full-obs   high   8.900130\n",
       "142  0.03  full-obs   high   6.424312\n",
       "143  0.03  full-obs   high   6.693070\n",
       "144  0.03  full-obs   high   7.773495\n",
       "145  0.03  full-obs   high   5.083673\n",
       "146  0.03  full-obs   high   5.693285\n",
       "147  0.03  full-obs   high   6.718684\n",
       "148  0.03  full-obs   high   6.192903\n",
       "149  0.03  full-obs   high   6.890111\n",
       "150  0.03  full-obs   high   4.450229\n",
       "151  0.03  full-obs   high   5.948567\n",
       "152  0.03  full-obs   high   6.871234\n",
       "153  0.03  full-obs   high   5.379505\n",
       "154  0.03  full-obs   high   7.235273\n",
       "155  0.03  full-obs   high   4.907583\n",
       "156  0.03  full-obs   high   6.677741\n",
       "157  0.03  full-obs   high   6.321521\n",
       "158  0.03  full-obs   high   4.986043\n",
       "159  0.03  full-obs   high   5.774685\n",
       "\n",
       "[160 rows x 4 columns]"
      ]
     },
     "execution_count": 277,
     "metadata": {},
     "output_type": "execute_result"
    }
   ],
   "source": [
    "df = pd.DataFrame(d_list)\n",
    "df"
   ]
  },
  {
   "cell_type": "code",
   "execution_count": 278,
   "metadata": {
    "collapsed": false
   },
   "outputs": [
    {
     "data": {
      "text/plain": [
       "7.321403314148112"
      ]
     },
     "execution_count": 278,
     "metadata": {},
     "output_type": "execute_result"
    }
   ],
   "source": [
    "df[df['policy'] == 'metagreedy'].util.mean()"
   ]
  },
  {
   "cell_type": "code",
   "execution_count": 234,
   "metadata": {
    "collapsed": false
   },
   "outputs": [],
   "source": [
    "# df.to_hdf('high_stakes_3cents_results','results')"
   ]
  },
  {
   "cell_type": "code",
   "execution_count": 279,
   "metadata": {
    "collapsed": true
   },
   "outputs": [],
   "source": [
    "df2 = pd.read_hdf('high_stakes_3cents_results','results')"
   ]
  },
  {
   "cell_type": "code",
   "execution_count": 280,
   "metadata": {
    "collapsed": false
   },
   "outputs": [
    {
     "data": {
      "text/plain": [
       "7.4295954581247585"
      ]
     },
     "execution_count": 280,
     "metadata": {},
     "output_type": "execute_result"
    }
   ],
   "source": [
    "df2[df2['policy']=='metagreedy'].util.mean()"
   ]
  },
  {
   "cell_type": "markdown",
   "metadata": {},
   "source": [
    "# Scratch"
   ]
  },
  {
   "cell_type": "markdown",
   "metadata": {},
   "source": [
    "## Old"
   ]
  },
  {
   "cell_type": "code",
   "execution_count": 159,
   "metadata": {
    "collapsed": false
   },
   "outputs": [],
   "source": [
    "# def run_params(gambles = 3, attributes = [0.25,0.74,0.01], reward = Normal(2,1), max_obs=30, cost=.01):\n",
    "#     print(str(gambles)+' gambles, probs: '+ str(attributes) + ', cost:' + str(cost))\n",
    "#     env = OldMouselabEnv(gambles, attributes,reward,cost)\n",
    "#     train_envs = [env] * 100\n",
    "#     term_action = train_envs[0].term_action\n",
    "#     policies = {\n",
    "# #         'BO': bo_policy(train_envs, max_cost=30, n_jobs=5, n_calls=250, \n",
    "# #                         verbose=0, normalize_voi=False),\n",
    "#         'BO': bo_policy(train_envs, max_cost=max_obs, n_calls=10),\n",
    "# #         'BO_unnorm': bo_policy(train_envs, max_cost=max_obs, normalize_voi=False, n_calls=350),\n",
    "#         'meta-greedy': LiederPolicy([1, 1, 0, 0, 1]),\n",
    "# #         'blinkered': blinkered_policy(env),\n",
    "# #         'optimal': optimal_policy(env),\n",
    "#         'full-observation': LiederPolicy([-100, 0.5, 0.5, 0, 1]),\n",
    "#         'none': FixedPlanPolicy([term_action])\n",
    "#     }\n",
    "#     np.save('data/bo'+str(cost)+str(gambles), policies['BO'].theta)\n",
    "    \n",
    "#     def test():    \n",
    "#         for name, policy in policies.items():\n",
    "#             df = evaluate(policy, envs=test_envs)\n",
    "#             df['agent'] = name\n",
    "#             df['gambles'] = gambles\n",
    "#             df['attr'] = str(attributes)\n",
    "#             df['cost'] = cost\n",
    "#             yield df\n",
    "#     return pd.concat(test())"
   ]
  },
  {
   "cell_type": "code",
   "execution_count": 281,
   "metadata": {
    "collapsed": false
   },
   "outputs": [],
   "source": [
    "# policies = {\n",
    "# #   'BO': bo_policy(train_envs, max_cost=30, n_jobs=5, n_calls=250, \n",
    "# #                         verbose=0, normalize_voi=False),\n",
    "# #     'BO': bo_policy(train_envs, max_cost=max_obs, n_calls=10),\n",
    "#     'meta-greedy': LiederPolicy([1, 1, 0, 0, 1]),\n",
    "#     'full-observation': FixedPlanPolicy(range(term_action)),\n",
    "#     'none': FixedPlanPolicy([term_action])\n",
    "# }\n",
    "# # np.save('data/bo'+str(cost)+str(gambles), policies['BO'].theta)\n",
    "    \n",
    "# def test(policies):   \n",
    "#     test_envs = [env] * 20\n",
    "#     for name, policy in policies.items():\n",
    "#         df = evaluate(policy, envs=test_envs)\n",
    "#         df['agent'] = name\n",
    "#         df['gambles'] = gambles\n",
    "#         df['attr'] = str(attributes)\n",
    "#         df['cost'] = cost\n",
    "#         return df\n",
    "# df = pd.concat(test())"
   ]
  },
  {
   "cell_type": "code",
   "execution_count": 53,
   "metadata": {
    "collapsed": false,
    "scrolled": true
   },
   "outputs": [
    {
     "name": "stdout",
     "output_type": "stream",
     "text": [
      "3 gambles, probs: [0.25, 0.74, 0.01], cost:0.0001\n",
      "3 gambles, probs: [0.25, 0.74, 0.01], cost:0.00056234132519\n",
      "3 gambles, probs: [0.25, 0.74, 0.01], cost:0.0177827941004\n",
      "3 gambles, probs: [0.25, 0.74, 0.01], cost:0.00316227766017\n",
      "3 gambles, probs: [0.25, 0.74, 0.01], cost:0.1\n",
      "BO: [ 1.     0.389  0.214  0.397  1.   ] -> 2.492 in 2494 sec\n",
      "BO: [ 3.498  0.57   0.43   0.     1.   ] -> 2.723 in 3319 sec\n",
      "BO: [ 19.083   0.52    0.403   0.077   1.   ] -> 2.801 in 3842 sec\n",
      "BO: [ 1.004  0.379  0.343  0.278  1.   ] -> 2.808 in 4446 sec\n",
      "BO: [ 14.735   0.4     0.26    0.339   1.   ] -> 2.793 in 4769 sec\n"
     ]
    }
   ],
   "source": [
    "data = Parallel(n_jobs=20)(delayed(run_params)(cost=cost) for cost in np.logspace(-4, -1, 5))\n",
    "store = pd.HDFStore('second_try.h5')\n",
    "store['data'] = pd.concat(data)\n",
    "store.close()"
   ]
  },
  {
   "cell_type": "code",
   "execution_count": 54,
   "metadata": {
    "collapsed": false
   },
   "outputs": [],
   "source": [
    "# df = pd.concat(data)\n",
    "df = pd.read_hdf('second_try.h5','data')"
   ]
  },
  {
   "cell_type": "code",
   "execution_count": 55,
   "metadata": {
    "collapsed": false
   },
   "outputs": [
    {
     "data": {
      "text/plain": [
       "cost      agent           \n",
       "0.000100  BO                  2.526308\n",
       "          full-observation    2.736442\n",
       "          meta-greedy         2.765520\n",
       "          none                2.000000\n",
       "0.000562  BO                  2.660385\n",
       "          full-observation    2.868553\n",
       "          meta-greedy         2.639586\n",
       "          none                2.000000\n",
       "0.003162  BO                  2.565508\n",
       "          full-observation    2.473717\n",
       "          meta-greedy         2.524450\n",
       "          none                2.000000\n",
       "0.017783  BO                  2.557559\n",
       "          full-observation    2.429334\n",
       "          meta-greedy         2.651951\n",
       "          none                2.000000\n",
       "0.100000  BO                  2.536742\n",
       "          full-observation    1.985387\n",
       "          meta-greedy         2.468443\n",
       "          none                2.000000\n",
       "Name: util, dtype: float64"
      ]
     },
     "execution_count": 55,
     "metadata": {},
     "output_type": "execute_result"
    }
   ],
   "source": [
    "df.groupby('cost agent'.split()).util.mean()"
   ]
  },
  {
   "cell_type": "code",
   "execution_count": 56,
   "metadata": {
    "collapsed": false,
    "scrolled": true
   },
   "outputs": [
    {
     "data": {
      "text/plain": [
       "<matplotlib.text.Text at 0x2b66265e8208>"
      ]
     },
     "execution_count": 56,
     "metadata": {},
     "output_type": "execute_result"
    },
    {
     "name": "stderr",
     "output_type": "stream",
     "text": [
      "/global/software/sl-7.x86_64/modules/langs/python/3.6/lib/python3.6/site-packages/matplotlib/font_manager.py:1297: UserWarning: findfont: Font family ['sans-serif'] not found. Falling back to DejaVu Sans\n",
      "  (prop.get_family(), self.defaultFamily[fontext]))\n"
     ]
    },
    {
     "data": {
      "image/png": "[encoded data removed]",
      "text/plain": [
       "<matplotlib.figure.Figure at 0x2b6625fd2f28>"
      ]
     },
     "metadata": {},
     "output_type": "display_data"
    }
   ],
   "source": [
    "error = df.groupby('cost agent'.split()).util.std().unstack()*1.96/np.sqrt(1000)\n",
    "(df\n",
    " .groupby('cost agent'.split())\n",
    " .util.mean().unstack()\n",
    " .plot(logx=True, ls='--',yerr=error, by='n_arm'))\n",
    "# plt.xlim(10**-4.05,10**-0.95)\n",
    "plt.ylabel('Metareasoning Performance')\n",
    "plt.xlabel('Cost')\n",
    "plt.title('3 Gambles, 3 Attributes. Dist: [0.25,0.75,0]')"
   ]
  },
  {
   "cell_type": "code",
   "execution_count": 58,
   "metadata": {
    "collapsed": false
   },
   "outputs": [
    {
     "name": "stdout",
     "output_type": "stream",
     "text": [
      "3 gambles, probs: [0.25, 0.74, 0.01], cost:0.0001\n",
      "3 gambles, probs: [0.25, 0.74, 0.01], cost:0.00056234132519\n",
      "3 gambles, probs: [0.25, 0.74, 0.01], cost:0.00316227766017\n",
      "3 gambles, probs: [0.25, 0.74, 0.01], cost:0.0177827941004\n",
      "3 gambles, probs: [0.25, 0.74, 0.01], cost:0.1\n",
      "BO: [ 4.071  0.339  0.133  0.528  1.   ] -> 2.241 in 397 sec\n",
      "BO: [ 7.28   0.222  0.532  0.246  1.   ] -> 2.577 in 800 sec\n",
      "BO: [ 19.083   0.52    0.403   0.077   1.   ] -> 2.801 in 1044 sec\n",
      "BO: [ 12.391   0.459   0.185   0.356   1.   ] -> 2.728 in 1183 sec\n",
      "BO: [ 14.735   0.4     0.26    0.339   1.   ] -> 2.793 in 1406 sec\n"
     ]
    }
   ],
   "source": [
    "data = Parallel(n_jobs=20)(delayed(run_params)(cost=cost) for cost in np.logspace(-4, -1, 5))\n",
    "store = pd.HDFStore('second_try.h5')\n",
    "store['data'] = pd.concat(data)\n",
    "store.close()"
   ]
  },
  {
   "cell_type": "code",
   "execution_count": 65,
   "metadata": {
    "collapsed": false
   },
   "outputs": [
    {
     "data": {
      "text/plain": [
       "<matplotlib.text.Text at 0x2b663c303be0>"
      ]
     },
     "execution_count": 65,
     "metadata": {},
     "output_type": "execute_result"
    },
    {
     "name": "stderr",
     "output_type": "stream",
     "text": [
      "/global/software/sl-7.x86_64/modules/langs/python/3.6/lib/python3.6/site-packages/matplotlib/font_manager.py:1297: UserWarning: findfont: Font family ['sans-serif'] not found. Falling back to DejaVu Sans\n",
      "  (prop.get_family(), self.defaultFamily[fontext]))\n"
     ]
    },
    {
     "data": {
      "image/png": "[encoded data removed]",
      "text/plain": [
       "<matplotlib.figure.Figure at 0x2b663bfd0da0>"
      ]
     },
     "metadata": {},
     "output_type": "display_data"
    }
   ],
   "source": [
    "# df = pd.concat(data)\n",
    "df = pd.read_hdf('second_try.h5','data')\n",
    "error = df.groupby('cost agent'.split()).util.std().unstack()*1.96/np.sqrt(20)\n",
    "(df\n",
    " .groupby('cost agent'.split())\n",
    " .util.mean().unstack()\n",
    " .plot(logx=True, ls='--',yerr=error, by='n_arm'))\n",
    "# plt.xlim(10**-4.05,10**-0.95)\n",
    "plt.ylabel('Metareasoning Performance')\n",
    "plt.xlabel('Cost')\n",
    "plt.title('3 Gambles, 3 Attributes. Dist: [0.25,0.74,0.01], 10 iterations')"
   ]
  },
  {
   "cell_type": "markdown",
   "metadata": {},
   "source": [
    "## Unit Testing for Mouselab Environment"
   ]
  },
  {
   "cell_type": "code",
   "execution_count": 168,
   "metadata": {
    "collapsed": false
   },
   "outputs": [
    {
     "data": {
      "text/plain": [
       "array([Norm(2.00, 1.00), Norm(2.00, 1.00), Norm(2.00, 1.00), Norm(2.00, 1.00), Norm(2.00, 1.00), Norm(2.00, 1.00), Norm(2.00, 1.00), Norm(2.00, 1.00), Norm(2.00, 1.00), Norm(2.00, 1.00),\n",
       "       Norm(2.00, 1.00), Norm(2.00, 1.00), Norm(2.00, 1.00), Norm(2.00, 1.00), Norm(2.00, 1.00), Norm(2.00, 1.00)], dtype=object)"
      ]
     },
     "execution_count": 168,
     "metadata": {},
     "output_type": "execute_result"
    }
   ],
   "source": [
    "gambles = 4\n",
    "attributes = [0.25,0.75,0,0]\n",
    "reward = Normal(2,1)\n",
    "env = OldMouselabEnv(gambles, attributes,reward)\n",
    "env.reset()"
   ]
  },
  {
   "cell_type": "code",
   "execution_count": 169,
   "metadata": {
    "collapsed": false
   },
   "outputs": [
    {
     "data": {
      "text/plain": [
       "array([ 0.625,  0.625,  0.625,  0.625])"
      ]
     },
     "execution_count": 169,
     "metadata": {},
     "output_type": "execute_result"
    }
   ],
   "source": [
    "env.vars"
   ]
  },
  {
   "cell_type": "code",
   "execution_count": 170,
   "metadata": {
    "collapsed": false
   },
   "outputs": [
    {
     "data": {
      "text/plain": [
       "[2.0, 2.0, 2.0, 2.0]"
      ]
     },
     "execution_count": 170,
     "metadata": {},
     "output_type": "execute_result"
    }
   ],
   "source": [
    "env.mus"
   ]
  },
  {
   "cell_type": "code",
   "execution_count": 171,
   "metadata": {
    "collapsed": false
   },
   "outputs": [
    {
     "name": "stdout",
     "output_type": "stream",
     "text": [
      "step 1\n",
      "obs 1\n",
      "step 5\n",
      "obs 5\n",
      "step 4\n",
      "obs 4\n",
      "step 4\n"
     ]
    },
    {
     "data": {
      "text/plain": [
       "((Norm(2.00, 1.00),\n",
       "  1.0387309172247476,\n",
       "  Norm(2.00, 1.00),\n",
       "  Norm(2.00, 1.00),\n",
       "  1.925737927437906,\n",
       "  1.2992395552812623,\n",
       "  Norm(2.00, 1.00),\n",
       "  Norm(2.00, 1.00),\n",
       "  Norm(2.00, 1.00),\n",
       "  Norm(2.00, 1.00),\n",
       "  Norm(2.00, 1.00),\n",
       "  Norm(2.00, 1.00),\n",
       "  Norm(2.00, 1.00),\n",
       "  Norm(2.00, 1.00),\n",
       "  Norm(2.00, 1.00),\n",
       "  Norm(2.00, 1.00)),\n",
       " 0,\n",
       " False,\n",
       " {})"
      ]
     },
     "execution_count": 171,
     "metadata": {},
     "output_type": "execute_result"
    }
   ],
   "source": [
    "env.step(1)\n",
    "env.step(5)\n",
    "env.step(4)\n",
    "env.step(4)"
   ]
  },
  {
   "cell_type": "code",
   "execution_count": 172,
   "metadata": {
    "collapsed": false,
    "scrolled": true
   },
   "outputs": [
    {
     "name": "stdout",
     "output_type": "stream",
     "text": [
      "[Norm(1.28, 0.06) Norm(1.46, 0.00) Norm(2.00, 0.57) Norm(2.00, 0.57)]\n"
     ]
    },
    {
     "data": {
      "text/plain": [
       "0.32968609849781005"
      ]
     },
     "execution_count": 172,
     "metadata": {},
     "output_type": "execute_result"
    }
   ],
   "source": [
    "env.vpi()"
   ]
  },
  {
   "cell_type": "code",
   "execution_count": 173,
   "metadata": {
    "collapsed": false
   },
   "outputs": [
    {
     "name": "stdout",
     "output_type": "stream",
     "text": [
      "bg [Norm(0.50, 0.06) Norm(1.50, 0.56) Norm(0.00, 0.00) Norm(0.00, 0.00)]\n"
     ]
    },
    {
     "data": {
      "text/plain": [
       "2.0"
      ]
     },
     "execution_count": 173,
     "metadata": {},
     "output_type": "execute_result"
    }
   ],
   "source": [
    "env.expected_term_reward()"
   ]
  },
  {
   "cell_type": "code",
   "execution_count": 174,
   "metadata": {
    "collapsed": false
   },
   "outputs": [
    {
     "data": {
      "text/plain": [
       "2.0"
      ]
     },
     "execution_count": 174,
     "metadata": {},
     "output_type": "execute_result"
    }
   ],
   "source": [
    "np.max(env.mus)"
   ]
  },
  {
   "cell_type": "code",
   "execution_count": 175,
   "metadata": {
    "collapsed": false
   },
   "outputs": [
    {
     "name": "stdout",
     "output_type": "stream",
     "text": [
      "[[Norm(2.00, 1.00) 1.0387309172247476 Norm(2.00, 1.00) Norm(2.00, 1.00)]\n",
      " [1.925737927437906 1.2992395552812623 Norm(2.00, 1.00) Norm(2.00, 1.00)]\n",
      " [Norm(2.00, 1.00) Norm(2.00, 1.00) Norm(2.00, 1.00) Norm(2.00, 1.00)]\n",
      " [Norm(2.00, 1.00) Norm(2.00, 1.00) Norm(2.00, 1.00) Norm(2.00, 1.00)]]\n",
      "[1.2790481879185607, 1.4558641483204231, 2.0, 2.0]\n",
      "[ 0.062  0.     0.625  0.625]\n"
     ]
    }
   ],
   "source": [
    "grid = np.array(env._state).reshape(env.gambles,env.outcomes)\n",
    "print(grid)\n",
    "print(env.mus)\n",
    "print(env.vars)"
   ]
  },
  {
   "cell_type": "code",
   "execution_count": 176,
   "metadata": {
    "collapsed": false
   },
   "outputs": [
    {
     "data": {
      "text/plain": [
       "array([ 0.25,  0.75,  0.  ,  0.  ])"
      ]
     },
     "execution_count": 176,
     "metadata": {},
     "output_type": "execute_result"
    }
   ],
   "source": [
    "env.dist"
   ]
  },
  {
   "cell_type": "code",
   "execution_count": 177,
   "metadata": {
    "collapsed": false
   },
   "outputs": [
    {
     "data": {
      "text/plain": [
       "array([[Norm(2.00, 1.00), 1.0387309172247476, Norm(2.00, 1.00), Norm(2.00, 1.00)],\n",
       "       [1.925737927437906, 1.2992395552812623, Norm(2.00, 1.00), Norm(2.00, 1.00)],\n",
       "       [Norm(2.00, 1.00), Norm(2.00, 1.00), Norm(2.00, 1.00), Norm(2.00, 1.00)],\n",
       "       [Norm(2.00, 1.00), Norm(2.00, 1.00), Norm(2.00, 1.00), Norm(2.00, 1.00)]], dtype=object)"
      ]
     },
     "execution_count": 177,
     "metadata": {},
     "output_type": "execute_result"
    }
   ],
   "source": [
    "grid"
   ]
  },
  {
   "cell_type": "code",
   "execution_count": 178,
   "metadata": {
    "collapsed": false
   },
   "outputs": [
    {
     "data": {
      "text/plain": [
       "Norm(1.46, 0.00)"
      ]
     },
     "execution_count": 178,
     "metadata": {},
     "output_type": "execute_result"
    }
   ],
   "source": [
    "np.sum(grid[1] * env.dist)"
   ]
  },
  {
   "cell_type": "code",
   "execution_count": 179,
   "metadata": {
    "collapsed": false
   },
   "outputs": [],
   "source": [
    "gambles = grid.dot(env.dist)\n",
    "samples_max = np.amax([[gambles[i].sample() for i in range(env.gambles)] for _ in range(2500)],1)"
   ]
  },
  {
   "cell_type": "code",
   "execution_count": 180,
   "metadata": {
    "collapsed": false
   },
   "outputs": [
    {
     "data": {
      "text/plain": [
       "array([Norm(1.28, 0.06), Norm(1.46, 0.00), Norm(2.00, 0.57), Norm(2.00, 0.57)], dtype=object)"
      ]
     },
     "execution_count": 180,
     "metadata": {},
     "output_type": "execute_result"
    }
   ],
   "source": [
    "gambles"
   ]
  },
  {
   "cell_type": "code",
   "execution_count": 181,
   "metadata": {
    "collapsed": false
   },
   "outputs": [
    {
     "data": {
      "text/plain": [
       "4"
      ]
     },
     "execution_count": 181,
     "metadata": {},
     "output_type": "execute_result"
    }
   ],
   "source": [
    "env.gambles"
   ]
  },
  {
   "cell_type": "code",
   "execution_count": 182,
   "metadata": {
    "collapsed": true
   },
   "outputs": [],
   "source": [
    "import datetime"
   ]
  },
  {
   "cell_type": "code",
   "execution_count": 183,
   "metadata": {
    "collapsed": false,
    "scrolled": true
   },
   "outputs": [
    {
     "name": "stdout",
     "output_type": "stream",
     "text": [
      "2.32407956312\n"
     ]
    }
   ],
   "source": [
    "a = datetime.datetime.now()\n",
    "means = []\n",
    "for i in range(100):\n",
    "    samples = [np.max([gambles[i].sample() for i in range(env.gambles)]) for i in range(2500)]\n",
    "    means.append(np.mean(samples))\n",
    "t = datetime.datetime.now() - a\n",
    "print(np.mean(means))"
   ]
  },
  {
   "cell_type": "code",
   "execution_count": 184,
   "metadata": {
    "collapsed": false
   },
   "outputs": [
    {
     "name": "stdout",
     "output_type": "stream",
     "text": [
      "0:00:05.027743\n"
     ]
    }
   ],
   "source": [
    "print(t)"
   ]
  },
  {
   "cell_type": "code",
   "execution_count": 185,
   "metadata": {
    "collapsed": false,
    "scrolled": true
   },
   "outputs": [
    {
     "name": "stdout",
     "output_type": "stream",
     "text": [
      "2.32389103332\n"
     ]
    }
   ],
   "source": [
    "a = datetime.datetime.now()\n",
    "means = []\n",
    "for i in range(100):\n",
    "    samples = np.amax([[gambles[i].sample() for i in range(env.gambles)] for _ in range(2500)],1)\n",
    "    means.append(np.mean(samples))\n",
    "t = datetime.datetime.now() - a\n",
    "print(np.mean(means))"
   ]
  },
  {
   "cell_type": "code",
   "execution_count": 186,
   "metadata": {
    "collapsed": false
   },
   "outputs": [
    {
     "name": "stdout",
     "output_type": "stream",
     "text": [
      "0:00:01.232662\n"
     ]
    }
   ],
   "source": [
    "print(t)"
   ]
  },
  {
   "cell_type": "code",
   "execution_count": 187,
   "metadata": {
    "collapsed": false
   },
   "outputs": [
    {
     "data": {
      "text/plain": [
       "1.4558641483204233"
      ]
     },
     "execution_count": 187,
     "metadata": {},
     "output_type": "execute_result"
    }
   ],
   "source": [
    "gambles[1].sample()"
   ]
  },
  {
   "cell_type": "code",
   "execution_count": 188,
   "metadata": {
    "collapsed": false
   },
   "outputs": [
    {
     "data": {
      "text/plain": [
       "array([0.4814344818594765, 0.9744296664609468, Norm(0.00, 0.00), Norm(0.00, 0.00)], dtype=object)"
      ]
     },
     "execution_count": 188,
     "metadata": {},
     "output_type": "execute_result"
    }
   ],
   "source": [
    "env.dist * grid[1]"
   ]
  },
  {
   "cell_type": "code",
   "execution_count": 189,
   "metadata": {
    "collapsed": false
   },
   "outputs": [
    {
     "data": {
      "text/plain": [
       "array([Norm(0.50, 0.06), Norm(1.50, 0.56), Norm(0.00, 0.00), Norm(0.00, 0.00)], dtype=object)"
      ]
     },
     "execution_count": 189,
     "metadata": {},
     "output_type": "execute_result"
    }
   ],
   "source": [
    "env.reset()\n",
    "grid = np.array(env._state).reshape(env.gambles,env.outcomes)\n",
    "env.dist * grid[1]"
   ]
  },
  {
   "cell_type": "code",
   "execution_count": 190,
   "metadata": {
    "collapsed": false
   },
   "outputs": [
    {
     "data": {
      "text/plain": [
       "[2.0, 2.0, 2.0, 2.0]"
      ]
     },
     "execution_count": 190,
     "metadata": {},
     "output_type": "execute_result"
    }
   ],
   "source": [
    "[expectation(np.sum(env.dist*grid[g])) for g in range(env.gambles)]"
   ]
  },
  {
   "cell_type": "code",
   "execution_count": 191,
   "metadata": {
    "collapsed": true
   },
   "outputs": [],
   "source": [
    "best_gamble = env.best_gamble()"
   ]
  },
  {
   "cell_type": "code",
   "execution_count": 192,
   "metadata": {
    "collapsed": false
   },
   "outputs": [
    {
     "data": {
      "text/plain": [
       "Norm(2.00, 1.00)"
      ]
     },
     "execution_count": 192,
     "metadata": {},
     "output_type": "execute_result"
    }
   ],
   "source": [
    "best_gamble[3]"
   ]
  },
  {
   "cell_type": "code",
   "execution_count": 193,
   "metadata": {
    "collapsed": false
   },
   "outputs": [
    {
     "data": {
      "text/plain": [
       "9.594203092044886"
      ]
     },
     "execution_count": 193,
     "metadata": {},
     "output_type": "execute_result"
    }
   ],
   "source": [
    "np.sum(best_gamble).sample()"
   ]
  },
  {
   "cell_type": "code",
   "execution_count": 194,
   "metadata": {
    "collapsed": false
   },
   "outputs": [
    {
     "data": {
      "text/plain": [
       "array([Norm(0.50, 0.06), Norm(1.50, 0.56), Norm(0.00, 0.00), Norm(0.00, 0.00)], dtype=object)"
      ]
     },
     "execution_count": 194,
     "metadata": {},
     "output_type": "execute_result"
    }
   ],
   "source": [
    "env.dist*grid[1]"
   ]
  },
  {
   "cell_type": "code",
   "execution_count": 195,
   "metadata": {
    "collapsed": false
   },
   "outputs": [
    {
     "name": "stdout",
     "output_type": "stream",
     "text": [
      "bg [Norm(0.50, 0.06) Norm(1.50, 0.56) Norm(0.00, 0.00) Norm(0.00, 0.00)]\n"
     ]
    },
    {
     "data": {
      "text/plain": [
       "2.0"
      ]
     },
     "execution_count": 195,
     "metadata": {},
     "output_type": "execute_result"
    }
   ],
   "source": [
    "env.expected_term_reward()"
   ]
  },
  {
   "cell_type": "markdown",
   "metadata": {},
   "source": [
    "## Training Trials"
   ]
  },
  {
   "cell_type": "code",
   "execution_count": 210,
   "metadata": {
    "collapsed": false
   },
   "outputs": [],
   "source": [
    "gambles = 4\n",
    "attributes = [0.25,0.75,0,0]\n",
    "reward = Normal(2,1)\n",
    "env = OldMouselabEnv(gambles, attributes,reward)"
   ]
  },
  {
   "cell_type": "code",
   "execution_count": 211,
   "metadata": {
    "collapsed": false
   },
   "outputs": [
    {
     "data": {
      "text/plain": [
       "16"
      ]
     },
     "execution_count": 211,
     "metadata": {},
     "output_type": "execute_result"
    }
   ],
   "source": [
    "len(env._state)"
   ]
  },
  {
   "cell_type": "code",
   "execution_count": 212,
   "metadata": {
    "collapsed": true
   },
   "outputs": [],
   "source": [
    "pol = LiederPolicy([1, 1, 0, 0, 1])"
   ]
  },
  {
   "cell_type": "code",
   "execution_count": 213,
   "metadata": {
    "collapsed": false
   },
   "outputs": [
    {
     "data": {
      "text/plain": [
       "17"
      ]
     },
     "execution_count": 213,
     "metadata": {},
     "output_type": "execute_result"
    }
   ],
   "source": [
    "len(list(env.actions()))"
   ]
  },
  {
   "cell_type": "code",
   "execution_count": 214,
   "metadata": {
    "collapsed": false
   },
   "outputs": [
    {
     "data": {
      "text/plain": [
       "<__main__.OldMouselabEnv at 0x2b7b51ff0898>"
      ]
     },
     "execution_count": 214,
     "metadata": {},
     "output_type": "execute_result"
    }
   ],
   "source": [
    "env"
   ]
  },
  {
   "cell_type": "code",
   "execution_count": 215,
   "metadata": {
    "collapsed": false
   },
   "outputs": [
    {
     "name": "stderr",
     "output_type": "stream",
     "text": [
      "/global/software/sl-6.x86_64/modules/langs/python/3.5.1/lib/python3.5/site-packages/scipy/stats/_distn_infrastructure.py:1645: RuntimeWarning: divide by zero encountered in double_scalars\n",
      "  x = np.asarray((x - loc)/scale, dtype=dtyp)\n",
      "/global/software/sl-6.x86_64/modules/langs/python/3.5.1/lib/python3.5/site-packages/scipy/integrate/quadpack.py:356: IntegrationWarning: The occurrence of roundoff error is detected, which prevents \n",
      "  the requested tolerance from being achieved.  The error may be \n",
      "  underestimated.\n",
      "  warnings.warn(msg, IntegrationWarning)\n",
      "/global/software/sl-6.x86_64/modules/langs/python/3.5.1/lib/python3.5/site-packages/scipy/stats/_distn_infrastructure.py:1728: RuntimeWarning: divide by zero encountered in double_scalars\n",
      "  x = np.asarray((x - loc)/scale, dtype=dtyp)\n"
     ]
    },
    {
     "data": {
      "text/plain": [
       "{'observations': 16, 'util': 3.225274770852804}"
      ]
     },
     "execution_count": 215,
     "metadata": {},
     "output_type": "execute_result"
    }
   ],
   "source": [
    "agent = Agent()\n",
    "def run_env(policy, env):\n",
    "    agent.register(env)\n",
    "    agent.register(policy)\n",
    "    tr = agent.run_episode()\n",
    "    return {'util': tr['return'],\n",
    "            'observations': len(tr['actions']) - 1}\n",
    "run_env(pol, env) "
   ]
  },
  {
   "cell_type": "code",
   "execution_count": 216,
   "metadata": {
    "collapsed": true
   },
   "outputs": [],
   "source": [
    "def run_params(gambles = 3, attributes = [0.25,0.75,0], reward = Normal(2,1), max_obs=30, cost=.01):\n",
    "    print(str(gambles)+' gambles, probs: '+ str(attributes) + ', cost:' + str(cost))\n",
    "    env = OldMouselabEnv(gambles, attributes,reward)\n",
    "    train_envs = [env] * 1\n",
    "    term_action = train_envs[0].term_action\n",
    "    policies = {\n",
    "#         'BO': bo_policy(train_envs, max_cost=30, n_jobs=5, n_calls=250, \n",
    "#                         verbose=0, normalize_voi=False),\n",
    "#         'BO': bo_policy(train_envs, max_cost=max_obs, n_calls=150),\n",
    "#         'BO_unnorm': bo_policy(train_envs, max_cost=max_obs, normalize_voi=False, n_calls=350),\n",
    "        'meta-greedy': LiederPolicy([1, 1, 0, 0, 1]),\n",
    "#         'blinkered': blinkered_policy(env),\n",
    "#         'optimal': optimal_policy(env),\n",
    "        'full-observation': LiederPolicy([-100, 0.5, 0.5, 0, 1]),\n",
    "        'none': FixedPlanPolicy([term_action])\n",
    "    }\n",
    "    test_envs = [env] * 20\n",
    "    def test():    \n",
    "        for name, policy in policies.items()\n",
    "            df = evaluate(policy, envs=test_envs)\n",
    "            df['agent'] = name\n",
    "            df['gambles'] = gambles\n",
    "            df['attr'] = str(attributes)\n",
    "            df['cost'] = cost\n",
    "            yield df\n",
    "    return pd.concat(test())"
   ]
  },
  {
   "cell_type": "code",
   "execution_count": 219,
   "metadata": {
    "collapsed": false,
    "scrolled": false
   },
   "outputs": [
    {
     "name": "stdout",
     "output_type": "stream",
     "text": [
      "3 gambles. probs: [0.25, 0.75, 0]\n",
      "3 gambles. probs: [0.25, 0.75, 0]\n",
      "3 gambles. probs: [0.25, 0.75, 0]\n",
      "3 gambles. probs: [0.25, 0.75, 0]\n",
      "3 gambles. probs: [0.25, 0.75, 0]\n",
      "3 gambles. probs: [0.25, 0.75, 0]\n",
      "3 gambles. probs: [0.25, 0.75, 0]\n"
     ]
    },
    {
     "name": "stderr",
     "output_type": "stream",
     "text": [
      "/global/software/sl-6.x86_64/modules/langs/python/3.5.1/lib/python3.5/site-packages/scipy/stats/_distn_infrastructure.py:1645: RuntimeWarning: divide by zero encountered in double_scalars\n",
      "  x = np.asarray((x - loc)/scale, dtype=dtyp)\n",
      "/global/software/sl-6.x86_64/modules/langs/python/3.5.1/lib/python3.5/site-packages/scipy/stats/_distn_infrastructure.py:1645: RuntimeWarning: divide by zero encountered in double_scalars\n",
      "  x = np.asarray((x - loc)/scale, dtype=dtyp)\n",
      "/global/software/sl-6.x86_64/modules/langs/python/3.5.1/lib/python3.5/site-packages/scipy/stats/_distn_infrastructure.py:1645: RuntimeWarning: divide by zero encountered in double_scalars\n",
      "  x = np.asarray((x - loc)/scale, dtype=dtyp)\n",
      "/global/software/sl-6.x86_64/modules/langs/python/3.5.1/lib/python3.5/site-packages/scipy/integrate/quadpack.py:356: IntegrationWarning: The occurrence of roundoff error is detected, which prevents \n",
      "  the requested tolerance from being achieved.  The error may be \n",
      "  underestimated.\n",
      "  warnings.warn(msg, IntegrationWarning)\n",
      "/global/software/sl-6.x86_64/modules/langs/python/3.5.1/lib/python3.5/site-packages/scipy/stats/_distn_infrastructure.py:1728: RuntimeWarning: divide by zero encountered in double_scalars\n",
      "  x = np.asarray((x - loc)/scale, dtype=dtyp)\n",
      "/global/software/sl-6.x86_64/modules/langs/python/3.5.1/lib/python3.5/site-packages/scipy/integrate/quadpack.py:356: IntegrationWarning: The occurrence of roundoff error is detected, which prevents \n",
      "  the requested tolerance from being achieved.  The error may be \n",
      "  underestimated.\n",
      "  warnings.warn(msg, IntegrationWarning)\n",
      "/global/software/sl-6.x86_64/modules/langs/python/3.5.1/lib/python3.5/site-packages/scipy/stats/_distn_infrastructure.py:1728: RuntimeWarning: divide by zero encountered in double_scalars\n",
      "  x = np.asarray((x - loc)/scale, dtype=dtyp)\n",
      "/global/software/sl-6.x86_64/modules/langs/python/3.5.1/lib/python3.5/site-packages/scipy/integrate/quadpack.py:356: IntegrationWarning: The occurrence of roundoff error is detected, which prevents \n",
      "  the requested tolerance from being achieved.  The error may be \n",
      "  underestimated.\n",
      "  warnings.warn(msg, IntegrationWarning)\n",
      "/global/software/sl-6.x86_64/modules/langs/python/3.5.1/lib/python3.5/site-packages/scipy/stats/_distn_infrastructure.py:1728: RuntimeWarning: divide by zero encountered in double_scalars\n",
      "  x = np.asarray((x - loc)/scale, dtype=dtyp)\n",
      "/global/software/sl-6.x86_64/modules/langs/python/3.5.1/lib/python3.5/site-packages/scipy/stats/_distn_infrastructure.py:1645: RuntimeWarning: divide by zero encountered in double_scalars\n",
      "  x = np.asarray((x - loc)/scale, dtype=dtyp)\n",
      "/global/software/sl-6.x86_64/modules/langs/python/3.5.1/lib/python3.5/site-packages/scipy/stats/_distn_infrastructure.py:1645: RuntimeWarning: divide by zero encountered in double_scalars\n",
      "  x = np.asarray((x - loc)/scale, dtype=dtyp)\n",
      "/global/software/sl-6.x86_64/modules/langs/python/3.5.1/lib/python3.5/site-packages/scipy/stats/_distn_infrastructure.py:1645: RuntimeWarning: divide by zero encountered in double_scalars\n",
      "  x = np.asarray((x - loc)/scale, dtype=dtyp)\n",
      "/global/software/sl-6.x86_64/modules/langs/python/3.5.1/lib/python3.5/site-packages/scipy/stats/_distn_infrastructure.py:1645: RuntimeWarning: divide by zero encountered in double_scalars\n",
      "  x = np.asarray((x - loc)/scale, dtype=dtyp)\n",
      "/global/software/sl-6.x86_64/modules/langs/python/3.5.1/lib/python3.5/site-packages/scipy/integrate/quadpack.py:356: IntegrationWarning: The occurrence of roundoff error is detected, which prevents \n",
      "  the requested tolerance from being achieved.  The error may be \n",
      "  underestimated.\n",
      "  warnings.warn(msg, IntegrationWarning)\n",
      "/global/software/sl-6.x86_64/modules/langs/python/3.5.1/lib/python3.5/site-packages/scipy/stats/_distn_infrastructure.py:1728: RuntimeWarning: divide by zero encountered in double_scalars\n",
      "  x = np.asarray((x - loc)/scale, dtype=dtyp)\n",
      "/global/software/sl-6.x86_64/modules/langs/python/3.5.1/lib/python3.5/site-packages/scipy/integrate/quadpack.py:356: IntegrationWarning: The occurrence of roundoff error is detected, which prevents \n",
      "  the requested tolerance from being achieved.  The error may be \n",
      "  underestimated.\n",
      "  warnings.warn(msg, IntegrationWarning)\n",
      "/global/software/sl-6.x86_64/modules/langs/python/3.5.1/lib/python3.5/site-packages/scipy/stats/_distn_infrastructure.py:1728: RuntimeWarning: divide by zero encountered in double_scalars\n",
      "  x = np.asarray((x - loc)/scale, dtype=dtyp)\n",
      "/global/software/sl-6.x86_64/modules/langs/python/3.5.1/lib/python3.5/site-packages/scipy/integrate/quadpack.py:356: IntegrationWarning: The occurrence of roundoff error is detected, which prevents \n",
      "  the requested tolerance from being achieved.  The error may be \n",
      "  underestimated.\n",
      "  warnings.warn(msg, IntegrationWarning)\n",
      "/global/software/sl-6.x86_64/modules/langs/python/3.5.1/lib/python3.5/site-packages/scipy/stats/_distn_infrastructure.py:1728: RuntimeWarning: divide by zero encountered in double_scalars\n",
      "  x = np.asarray((x - loc)/scale, dtype=dtyp)\n",
      "/global/software/sl-6.x86_64/modules/langs/python/3.5.1/lib/python3.5/site-packages/scipy/integrate/quadpack.py:356: IntegrationWarning: The occurrence of roundoff error is detected, which prevents \n",
      "  the requested tolerance from being achieved.  The error may be \n",
      "  underestimated.\n",
      "  warnings.warn(msg, IntegrationWarning)\n",
      "/global/software/sl-6.x86_64/modules/langs/python/3.5.1/lib/python3.5/site-packages/scipy/stats/_distn_infrastructure.py:1728: RuntimeWarning: divide by zero encountered in double_scalars\n",
      "  x = np.asarray((x - loc)/scale, dtype=dtyp)\n"
     ]
    },
    {
     "ename": "KeyboardInterrupt",
     "evalue": "",
     "output_type": "error",
     "traceback": [
      "\u001b[0;31m---------------------------------------------------------------------------\u001b[0m",
      "\u001b[0;31mKeyboardInterrupt\u001b[0m                         Traceback (most recent call last)",
      "\u001b[0;32m<ipython-input-219-eca1995c7279>\u001b[0m in \u001b[0;36m<module>\u001b[0;34m()\u001b[0m\n\u001b[0;32m----> 1\u001b[0;31m \u001b[0mdata\u001b[0m \u001b[0;34m=\u001b[0m \u001b[0mParallel\u001b[0m\u001b[0;34m(\u001b[0m\u001b[0mn_jobs\u001b[0m\u001b[0;34m=\u001b[0m\u001b[0;36m7\u001b[0m\u001b[0;34m)\u001b[0m\u001b[0;34m(\u001b[0m\u001b[0mdelayed\u001b[0m\u001b[0;34m(\u001b[0m\u001b[0mrun_params\u001b[0m\u001b[0;34m)\u001b[0m\u001b[0;34m(\u001b[0m\u001b[0mcost\u001b[0m\u001b[0;34m=\u001b[0m\u001b[0mcost\u001b[0m\u001b[0;34m)\u001b[0m \u001b[0;32mfor\u001b[0m \u001b[0mcost\u001b[0m \u001b[0;32min\u001b[0m \u001b[0mnp\u001b[0m\u001b[0;34m.\u001b[0m\u001b[0mlogspace\u001b[0m\u001b[0;34m(\u001b[0m\u001b[0;34m-\u001b[0m\u001b[0;36m4\u001b[0m\u001b[0;34m,\u001b[0m \u001b[0;34m-\u001b[0m\u001b[0;36m1\u001b[0m\u001b[0;34m,\u001b[0m \u001b[0;36m7\u001b[0m\u001b[0;34m)\u001b[0m\u001b[0;34m)\u001b[0m\u001b[0;34m\u001b[0m\u001b[0m\n\u001b[0m\u001b[1;32m      2\u001b[0m \u001b[0mstore\u001b[0m \u001b[0;34m=\u001b[0m \u001b[0mpd\u001b[0m\u001b[0;34m.\u001b[0m\u001b[0mHDFStore\u001b[0m\u001b[0;34m(\u001b[0m\u001b[0;34m'first_try.h5'\u001b[0m\u001b[0;34m)\u001b[0m\u001b[0;34m\u001b[0m\u001b[0m\n\u001b[1;32m      3\u001b[0m \u001b[0mstore\u001b[0m\u001b[0;34m[\u001b[0m\u001b[0;34m'data'\u001b[0m\u001b[0;34m]\u001b[0m \u001b[0;34m=\u001b[0m \u001b[0mpd\u001b[0m\u001b[0;34m.\u001b[0m\u001b[0mconcat\u001b[0m\u001b[0;34m(\u001b[0m\u001b[0mdata\u001b[0m\u001b[0;34m)\u001b[0m\u001b[0;34m\u001b[0m\u001b[0m\n\u001b[1;32m      4\u001b[0m \u001b[0mstore\u001b[0m\u001b[0;34m.\u001b[0m\u001b[0mclose\u001b[0m\u001b[0;34m(\u001b[0m\u001b[0;34m)\u001b[0m\u001b[0;34m\u001b[0m\u001b[0m\n",
      "\u001b[0;32m/global/home/users/sayangul/.local/lib/python3.5/site-packages/joblib/parallel.py\u001b[0m in \u001b[0;36m__call__\u001b[0;34m(self, iterable)\u001b[0m\n\u001b[1;32m    787\u001b[0m                 \u001b[0;31m# consumption.\u001b[0m\u001b[0;34m\u001b[0m\u001b[0;34m\u001b[0m\u001b[0m\n\u001b[1;32m    788\u001b[0m                 \u001b[0mself\u001b[0m\u001b[0;34m.\u001b[0m\u001b[0m_iterating\u001b[0m \u001b[0;34m=\u001b[0m \u001b[0;32mFalse\u001b[0m\u001b[0;34m\u001b[0m\u001b[0m\n\u001b[0;32m--> 789\u001b[0;31m             \u001b[0mself\u001b[0m\u001b[0;34m.\u001b[0m\u001b[0mretrieve\u001b[0m\u001b[0;34m(\u001b[0m\u001b[0;34m)\u001b[0m\u001b[0;34m\u001b[0m\u001b[0m\n\u001b[0m\u001b[1;32m    790\u001b[0m             \u001b[0;31m# Make sure that we get a last message telling us we are done\u001b[0m\u001b[0;34m\u001b[0m\u001b[0;34m\u001b[0m\u001b[0m\n\u001b[1;32m    791\u001b[0m             \u001b[0melapsed_time\u001b[0m \u001b[0;34m=\u001b[0m \u001b[0mtime\u001b[0m\u001b[0;34m.\u001b[0m\u001b[0mtime\u001b[0m\u001b[0;34m(\u001b[0m\u001b[0;34m)\u001b[0m \u001b[0;34m-\u001b[0m \u001b[0mself\u001b[0m\u001b[0;34m.\u001b[0m\u001b[0m_start_time\u001b[0m\u001b[0;34m\u001b[0m\u001b[0m\n",
      "\u001b[0;32m/global/home/users/sayangul/.local/lib/python3.5/site-packages/joblib/parallel.py\u001b[0m in \u001b[0;36mretrieve\u001b[0;34m(self)\u001b[0m\n\u001b[1;32m    697\u001b[0m             \u001b[0;32mtry\u001b[0m\u001b[0;34m:\u001b[0m\u001b[0;34m\u001b[0m\u001b[0m\n\u001b[1;32m    698\u001b[0m                 \u001b[0;32mif\u001b[0m \u001b[0mgetattr\u001b[0m\u001b[0;34m(\u001b[0m\u001b[0mself\u001b[0m\u001b[0;34m.\u001b[0m\u001b[0m_backend\u001b[0m\u001b[0;34m,\u001b[0m \u001b[0;34m'supports_timeout'\u001b[0m\u001b[0;34m,\u001b[0m \u001b[0;32mFalse\u001b[0m\u001b[0;34m)\u001b[0m\u001b[0;34m:\u001b[0m\u001b[0;34m\u001b[0m\u001b[0m\n\u001b[0;32m--> 699\u001b[0;31m                     \u001b[0mself\u001b[0m\u001b[0;34m.\u001b[0m\u001b[0m_output\u001b[0m\u001b[0;34m.\u001b[0m\u001b[0mextend\u001b[0m\u001b[0;34m(\u001b[0m\u001b[0mjob\u001b[0m\u001b[0;34m.\u001b[0m\u001b[0mget\u001b[0m\u001b[0;34m(\u001b[0m\u001b[0mtimeout\u001b[0m\u001b[0;34m=\u001b[0m\u001b[0mself\u001b[0m\u001b[0;34m.\u001b[0m\u001b[0mtimeout\u001b[0m\u001b[0;34m)\u001b[0m\u001b[0;34m)\u001b[0m\u001b[0;34m\u001b[0m\u001b[0m\n\u001b[0m\u001b[1;32m    700\u001b[0m                 \u001b[0;32melse\u001b[0m\u001b[0;34m:\u001b[0m\u001b[0;34m\u001b[0m\u001b[0m\n\u001b[1;32m    701\u001b[0m                     \u001b[0mself\u001b[0m\u001b[0;34m.\u001b[0m\u001b[0m_output\u001b[0m\u001b[0;34m.\u001b[0m\u001b[0mextend\u001b[0m\u001b[0;34m(\u001b[0m\u001b[0mjob\u001b[0m\u001b[0;34m.\u001b[0m\u001b[0mget\u001b[0m\u001b[0;34m(\u001b[0m\u001b[0;34m)\u001b[0m\u001b[0;34m)\u001b[0m\u001b[0;34m\u001b[0m\u001b[0m\n",
      "\u001b[0;32m/global/software/sl-6.x86_64/modules/langs/python/3.5.1/lib/python3.5/multiprocessing/pool.py\u001b[0m in \u001b[0;36mget\u001b[0;34m(self, timeout)\u001b[0m\n\u001b[1;32m    600\u001b[0m \u001b[0;34m\u001b[0m\u001b[0m\n\u001b[1;32m    601\u001b[0m     \u001b[0;32mdef\u001b[0m \u001b[0mget\u001b[0m\u001b[0;34m(\u001b[0m\u001b[0mself\u001b[0m\u001b[0;34m,\u001b[0m \u001b[0mtimeout\u001b[0m\u001b[0;34m=\u001b[0m\u001b[0;32mNone\u001b[0m\u001b[0;34m)\u001b[0m\u001b[0;34m:\u001b[0m\u001b[0;34m\u001b[0m\u001b[0m\n\u001b[0;32m--> 602\u001b[0;31m         \u001b[0mself\u001b[0m\u001b[0;34m.\u001b[0m\u001b[0mwait\u001b[0m\u001b[0;34m(\u001b[0m\u001b[0mtimeout\u001b[0m\u001b[0;34m)\u001b[0m\u001b[0;34m\u001b[0m\u001b[0m\n\u001b[0m\u001b[1;32m    603\u001b[0m         \u001b[0;32mif\u001b[0m \u001b[0;32mnot\u001b[0m \u001b[0mself\u001b[0m\u001b[0;34m.\u001b[0m\u001b[0mready\u001b[0m\u001b[0;34m(\u001b[0m\u001b[0;34m)\u001b[0m\u001b[0;34m:\u001b[0m\u001b[0;34m\u001b[0m\u001b[0m\n\u001b[1;32m    604\u001b[0m             \u001b[0;32mraise\u001b[0m \u001b[0mTimeoutError\u001b[0m\u001b[0;34m\u001b[0m\u001b[0m\n",
      "\u001b[0;32m/global/software/sl-6.x86_64/modules/langs/python/3.5.1/lib/python3.5/multiprocessing/pool.py\u001b[0m in \u001b[0;36mwait\u001b[0;34m(self, timeout)\u001b[0m\n\u001b[1;32m    597\u001b[0m \u001b[0;34m\u001b[0m\u001b[0m\n\u001b[1;32m    598\u001b[0m     \u001b[0;32mdef\u001b[0m \u001b[0mwait\u001b[0m\u001b[0;34m(\u001b[0m\u001b[0mself\u001b[0m\u001b[0;34m,\u001b[0m \u001b[0mtimeout\u001b[0m\u001b[0;34m=\u001b[0m\u001b[0;32mNone\u001b[0m\u001b[0;34m)\u001b[0m\u001b[0;34m:\u001b[0m\u001b[0;34m\u001b[0m\u001b[0m\n\u001b[0;32m--> 599\u001b[0;31m         \u001b[0mself\u001b[0m\u001b[0;34m.\u001b[0m\u001b[0m_event\u001b[0m\u001b[0;34m.\u001b[0m\u001b[0mwait\u001b[0m\u001b[0;34m(\u001b[0m\u001b[0mtimeout\u001b[0m\u001b[0;34m)\u001b[0m\u001b[0;34m\u001b[0m\u001b[0m\n\u001b[0m\u001b[1;32m    600\u001b[0m \u001b[0;34m\u001b[0m\u001b[0m\n\u001b[1;32m    601\u001b[0m     \u001b[0;32mdef\u001b[0m \u001b[0mget\u001b[0m\u001b[0;34m(\u001b[0m\u001b[0mself\u001b[0m\u001b[0;34m,\u001b[0m \u001b[0mtimeout\u001b[0m\u001b[0;34m=\u001b[0m\u001b[0;32mNone\u001b[0m\u001b[0;34m)\u001b[0m\u001b[0;34m:\u001b[0m\u001b[0;34m\u001b[0m\u001b[0m\n",
      "\u001b[0;32m/global/software/sl-6.x86_64/modules/langs/python/3.5.1/lib/python3.5/threading.py\u001b[0m in \u001b[0;36mwait\u001b[0;34m(self, timeout)\u001b[0m\n\u001b[1;32m    547\u001b[0m             \u001b[0msignaled\u001b[0m \u001b[0;34m=\u001b[0m \u001b[0mself\u001b[0m\u001b[0;34m.\u001b[0m\u001b[0m_flag\u001b[0m\u001b[0;34m\u001b[0m\u001b[0m\n\u001b[1;32m    548\u001b[0m             \u001b[0;32mif\u001b[0m \u001b[0;32mnot\u001b[0m \u001b[0msignaled\u001b[0m\u001b[0;34m:\u001b[0m\u001b[0;34m\u001b[0m\u001b[0m\n\u001b[0;32m--> 549\u001b[0;31m                 \u001b[0msignaled\u001b[0m \u001b[0;34m=\u001b[0m \u001b[0mself\u001b[0m\u001b[0;34m.\u001b[0m\u001b[0m_cond\u001b[0m\u001b[0;34m.\u001b[0m\u001b[0mwait\u001b[0m\u001b[0;34m(\u001b[0m\u001b[0mtimeout\u001b[0m\u001b[0;34m)\u001b[0m\u001b[0;34m\u001b[0m\u001b[0m\n\u001b[0m\u001b[1;32m    550\u001b[0m             \u001b[0;32mreturn\u001b[0m \u001b[0msignaled\u001b[0m\u001b[0;34m\u001b[0m\u001b[0m\n\u001b[1;32m    551\u001b[0m \u001b[0;34m\u001b[0m\u001b[0m\n",
      "\u001b[0;32m/global/software/sl-6.x86_64/modules/langs/python/3.5.1/lib/python3.5/threading.py\u001b[0m in \u001b[0;36mwait\u001b[0;34m(self, timeout)\u001b[0m\n\u001b[1;32m    291\u001b[0m         \u001b[0;32mtry\u001b[0m\u001b[0;34m:\u001b[0m    \u001b[0;31m# restore state no matter what (e.g., KeyboardInterrupt)\u001b[0m\u001b[0;34m\u001b[0m\u001b[0m\n\u001b[1;32m    292\u001b[0m             \u001b[0;32mif\u001b[0m \u001b[0mtimeout\u001b[0m \u001b[0;32mis\u001b[0m \u001b[0;32mNone\u001b[0m\u001b[0;34m:\u001b[0m\u001b[0;34m\u001b[0m\u001b[0m\n\u001b[0;32m--> 293\u001b[0;31m                 \u001b[0mwaiter\u001b[0m\u001b[0;34m.\u001b[0m\u001b[0macquire\u001b[0m\u001b[0;34m(\u001b[0m\u001b[0;34m)\u001b[0m\u001b[0;34m\u001b[0m\u001b[0m\n\u001b[0m\u001b[1;32m    294\u001b[0m                 \u001b[0mgotit\u001b[0m \u001b[0;34m=\u001b[0m \u001b[0;32mTrue\u001b[0m\u001b[0;34m\u001b[0m\u001b[0m\n\u001b[1;32m    295\u001b[0m             \u001b[0;32melse\u001b[0m\u001b[0;34m:\u001b[0m\u001b[0;34m\u001b[0m\u001b[0m\n",
      "\u001b[0;31mKeyboardInterrupt\u001b[0m: "
     ]
    }
   ],
   "source": [
    "data = Parallel(n_jobs=7)(delayed(run_params)(cost=cost) for cost in np.logspace(-4, -1, 7))\n",
    "store = pd.HDFStore('first_try.h5')\n",
    "store['data'] = pd.concat(data)\n",
    "store.close()"
   ]
  },
  {
   "cell_type": "code",
   "execution_count": null,
   "metadata": {
    "collapsed": true
   },
   "outputs": [],
   "source": []
  }
 ],
 "metadata": {
  "kernelspec": {
   "display_name": "Python 3",
   "language": "python",
   "name": "python3"
  },
  "language_info": {
   "codemirror_mode": {
    "name": "ipython",
    "version": 3
   },
   "file_extension": ".py",
   "mimetype": "text/x-python",
   "name": "python",
   "nbconvert_exporter": "python",
   "pygments_lexer": "ipython3",
   "version": "3.6.0"
  }
 },
 "nbformat": 4,
 "nbformat_minor": 2
}
