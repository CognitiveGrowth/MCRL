{
 "cells": [
  {
   "cell_type": "code",
   "execution_count": 3,
   "metadata": {},
   "outputs": [
    {
     "name": "stdout",
     "output_type": "stream",
     "text": [
      "The autoreload extension is already loaded. To reload it, use:\n",
      "  %reload_ext autoreload\n"
     ]
    }
   ],
   "source": [
    "%matplotlib inline\n",
    "%load_ext autoreload\n",
    "%autoreload 2\n",
    "\n",
    "\n",
    "import matplotlib.pyplot as plt\n",
    "import numpy as np\n",
    "import pandas as pd\n",
    "\n",
    "from joblib import Parallel, delayed\n",
    "import seaborn as sns\n",
    "sns.set_style('white')\n",
    "sns.set_context('notebook', font_scale=1.3)\n",
    "\n",
    "from agents import Agent\n",
    "from mouselab import MouselabEnv\n",
    "from distributions import Normal, Categorical\n",
    "from policies import FixedPlanPolicy\n",
    "from evaluation import *"
   ]
  },
  {
   "cell_type": "markdown",
   "metadata": {},
   "source": [
    "# Define environments"
   ]
  },
  {
   "cell_type": "code",
   "execution_count": 4,
   "metadata": {
    "collapsed": true
   },
   "outputs": [],
   "source": [
    "def make_env(cost, ground_truth=False, initial_states=None):\n",
    "    \"\"\"Returns a MouselabEnv with branching [4,1,2].\n",
    "    \n",
    "    If `ground_truth` is True, the reward observed at a given node will be\n",
    "    constant across runs on this env. This reduces variance of the return.\"\"\"\n",
    "    reward = Normal(0, 10).to_discrete(6)\n",
    "    env = MouselabEnv([4,1,2], reward=reward, cost=cost, initial_states=initial_states)\n",
    "    if ground_truth:\n",
    "        env.ground_truth = np.array([0, *reward.sample(len(env.tree) - 1)])\n",
    "    return env\n",
    "\n",
    "def make_envs(cost, n=100, ground_truth=None, initial_states=None):\n",
    "    # Note, ground_truth can be an int in which case it acts as a random seed.\n",
    "    if ground_truth is not None:\n",
    "        np.random.seed(ground_truth)\n",
    "        return [make_env(cost, True, initial_states) for _ in range(n)]\n",
    "    else:\n",
    "        return [make_env(cost, False, initial_states)] * n"
   ]
  },
  {
   "cell_type": "markdown",
   "metadata": {},
   "source": [
    "We train the LC policy on environments with random reward structures.\n",
    "However, to ensure that the policy is near-optimal on belief states\n",
    "that participants find themselves in, the initial state is drawn from\n",
    "the empirical belief-state distribution of human participants in the\n",
    "no-feedback condition."
   ]
  },
  {
   "cell_type": "code",
   "execution_count": 5,
   "metadata": {},
   "outputs": [],
   "source": [
    "import json\n",
    "def read_state_actions():\n",
    "    with open('data/state_actions.json') as f:\n",
    "        data = json.load(f)\n",
    "    result = {}\n",
    "    for cost in data:\n",
    "        result[float(cost)] = r = {}\n",
    "        env = make_env(float(cost))\n",
    "        def parse_state(state):\n",
    "            return tuple(env.reward if x == '__' else float(x)\n",
    "                  for x in state)\n",
    "        def parse_action(action):\n",
    "            return env.term_action if action == '__TERM_ACTION__' else action\n",
    "        r['states'] = list(map(parse_state, data[cost]['states']))\n",
    "        r['actions'] = list(map(parse_action, data[cost]['actions']))\n",
    "    return result\n",
    "\n",
    "state_actions = read_state_actions()"
   ]
  },
  {
   "cell_type": "markdown",
   "metadata": {},
   "source": [
    "# Train LC policy"
   ]
  },
  {
   "cell_type": "code",
   "execution_count": 9,
   "metadata": {},
   "outputs": [
    {
     "name": "stdout",
     "output_type": "stream",
     "text": [
      "Loaded data/cross_val_policies.pkl\n"
     ]
    }
   ],
   "source": [
    "import skopt\n",
    "import warnings\n",
    "from evaluation import *\n",
    "warnings.filterwarnings(\"ignore\", \n",
    "                        message=\"The objective has been evaluated at this point before.\")\n",
    "\n",
    "COSTS = state_actions.keys()\n",
    "N_TRAIN = 500\n",
    "N_CROSS_VAL = 2000\n",
    "N_CALLS = 40\n",
    "NORMALIZE = True\n",
    "\n",
    "def filename(cost):\n",
    "    c = round(float(cost), 5)\n",
    "    return 'data/421_{}'.format(c)\n",
    "    \n",
    "        \n",
    "def write_bo_policy(cost):\n",
    "    empirical_states = state_actions[cost]['states']\n",
    "    train_envs = make_envs(cost, initial_states=empirical_states, n=N_TRAIN)\n",
    "    pol, result = bo_policy(train_envs, max_cost=len(train_envs[0].tree),\n",
    "                            normalize_voi=True, n_random_starts=10,\n",
    "                            n_calls=N_CALLS, n_jobs=25, return_result=True,)\n",
    "    fn = filename(cost)\n",
    "    result.specs['args'].pop('func')  # can't pickle\n",
    "    result.specs['info'] = {\n",
    "        'cost': cost,\n",
    "        'n_train': N_TRAIN,\n",
    "        'n_calls': N_CALLS,\n",
    "        'theta': pol.theta\n",
    "    }\n",
    "    skopt.dump(result, fn + '.pkl')\n",
    "    np.save(fn + '.npy', pol.theta)\n",
    "    return result\n",
    "\n",
    "def read_bo_policy(cost, cross_val=True):\n",
    "    result = read_bo_result(cost)\n",
    "    empirical_states = state_actions[cost]['states']\n",
    "    envs = make_envs(cost, initial_states=empirical_states, n=N_CROSS_VAL)\n",
    "    if cross_val:\n",
    "        n_consider = 5\n",
    "        idx = result.func_vals.argsort()[:n_consider]\n",
    "        top_x = np.array(result.x_iters)[idx]\n",
    "        top_theta = [x2theta(x, True) for x in top_x]\n",
    "        theta = max(top_theta, key=\n",
    "                    lambda th: get_util(LiederPolicy(th), envs, parallel=Parallel(20)))\n",
    "    else:\n",
    "        return LiederPolicy(result.specs['info']['theta'])\n",
    "    return LiederPolicy(theta)\n",
    "\n",
    "def read_bo_result(cost):\n",
    "    return skopt.load(filename(cost) + '.pkl')\n",
    "\n",
    "import joblib\n",
    "cv_file = 'data/cross_val_policies.pkl'\n",
    "try:\n",
    "    policies = joblib.load(cv_file)\n",
    "    print('Loaded', cv_file)\n",
    "except FileNotFoundError:\n",
    "    print('Training LC policies')\n",
    "    for c in COSTS:\n",
    "        write_bo_policy(c)\n",
    "    policies = {c: read_bo_policy(c, cross_val=True) for c in COSTS}\n",
    "    print('Running cross validation')\n",
    "    joblib.dump(policies, cv_file)"
   ]
  },
  {
   "cell_type": "code",
   "execution_count": 5,
   "metadata": {},
   "outputs": [
    {
     "name": "stdout",
     "output_type": "stream",
     "text": [
      "Learned feature weights:\n"
     ]
    },
    {
     "data": {
      "text/html": [
       "<div>\n",
       "<table border=\"1\" class=\"dataframe\">\n",
       "  <thead>\n",
       "    <tr style=\"text-align: right;\">\n",
       "      <th></th>\n",
       "      <th>COST</th>\n",
       "      <th>VOI_1</th>\n",
       "      <th>VPI_a</th>\n",
       "      <th>VPI_full</th>\n",
       "      <th>TERM_REWARD</th>\n",
       "    </tr>\n",
       "    <tr>\n",
       "      <th>cost</th>\n",
       "      <th></th>\n",
       "      <th></th>\n",
       "      <th></th>\n",
       "      <th></th>\n",
       "      <th></th>\n",
       "    </tr>\n",
       "  </thead>\n",
       "  <tbody>\n",
       "    <tr>\n",
       "      <th>0.25</th>\n",
       "      <td>1.00</td>\n",
       "      <td>0.00</td>\n",
       "      <td>0.94</td>\n",
       "      <td>0.06</td>\n",
       "      <td>1.0</td>\n",
       "    </tr>\n",
       "    <tr>\n",
       "      <th>1.00</th>\n",
       "      <td>4.45</td>\n",
       "      <td>0.00</td>\n",
       "      <td>0.49</td>\n",
       "      <td>0.51</td>\n",
       "      <td>1.0</td>\n",
       "    </tr>\n",
       "    <tr>\n",
       "      <th>4.00</th>\n",
       "      <td>14.91</td>\n",
       "      <td>0.32</td>\n",
       "      <td>0.11</td>\n",
       "      <td>0.57</td>\n",
       "      <td>1.0</td>\n",
       "    </tr>\n",
       "  </tbody>\n",
       "</table>\n",
       "</div>"
      ],
      "text/plain": [
       "       COST  VOI_1  VPI_a  VPI_full  TERM_REWARD\n",
       "cost                                            \n",
       "0.25   1.00   0.00   0.94      0.06          1.0\n",
       "1.00   4.45   0.00   0.49      0.51          1.0\n",
       "4.00  14.91   0.32   0.11      0.57          1.0"
      ]
     },
     "execution_count": 5,
     "metadata": {},
     "output_type": "execute_result"
    }
   ],
   "source": [
    "print('Learned feature weights:')\n",
    "pd.DataFrame(\n",
    "    [[cost, *pol.theta.round(2)] for cost, pol in policies.items()],\n",
    "    columns='cost COST VOI_1 VPI_a VPI_full TERM_REWARD'.split()\n",
    ").set_index('cost')\n"
   ]
  },
  {
   "cell_type": "code",
   "execution_count": 360,
   "metadata": {
    "collapsed": true
   },
   "outputs": [
    {
     "data": {
      "text/html": [
       "<div>\n",
       "<table border=\"1\" class=\"dataframe\">\n",
       "  <thead>\n",
       "    <tr style=\"text-align: right;\">\n",
       "      <th></th>\n",
       "      <th>cost</th>\n",
       "      <th>empirical states</th>\n",
       "      <th>rewards</th>\n",
       "      <th>util</th>\n",
       "    </tr>\n",
       "  </thead>\n",
       "  <tbody>\n",
       "    <tr>\n",
       "      <th>0</th>\n",
       "      <td>0.25</td>\n",
       "      <td>False</td>\n",
       "      <td>random</td>\n",
       "      <td>1.912550e+01</td>\n",
       "    </tr>\n",
       "    <tr>\n",
       "      <th>1</th>\n",
       "      <td>0.25</td>\n",
       "      <td>True</td>\n",
       "      <td>random</td>\n",
       "      <td>2.076400e+01</td>\n",
       "    </tr>\n",
       "    <tr>\n",
       "      <th>2</th>\n",
       "      <td>0.25</td>\n",
       "      <td>False</td>\n",
       "      <td>experimental</td>\n",
       "      <td>2.254688e+01</td>\n",
       "    </tr>\n",
       "    <tr>\n",
       "      <th>3</th>\n",
       "      <td>0.25</td>\n",
       "      <td>True</td>\n",
       "      <td>experimental</td>\n",
       "      <td>2.450000e+01</td>\n",
       "    </tr>\n",
       "    <tr>\n",
       "      <th>4</th>\n",
       "      <td>1.00</td>\n",
       "      <td>False</td>\n",
       "      <td>random</td>\n",
       "      <td>1.167400e+01</td>\n",
       "    </tr>\n",
       "    <tr>\n",
       "      <th>5</th>\n",
       "      <td>1.00</td>\n",
       "      <td>True</td>\n",
       "      <td>random</td>\n",
       "      <td>1.525600e+01</td>\n",
       "    </tr>\n",
       "    <tr>\n",
       "      <th>6</th>\n",
       "      <td>1.00</td>\n",
       "      <td>False</td>\n",
       "      <td>experimental</td>\n",
       "      <td>1.156250e+01</td>\n",
       "    </tr>\n",
       "    <tr>\n",
       "      <th>7</th>\n",
       "      <td>1.00</td>\n",
       "      <td>True</td>\n",
       "      <td>experimental</td>\n",
       "      <td>1.331250e+01</td>\n",
       "    </tr>\n",
       "    <tr>\n",
       "      <th>8</th>\n",
       "      <td>4.00</td>\n",
       "      <td>False</td>\n",
       "      <td>random</td>\n",
       "      <td>5.186823e-16</td>\n",
       "    </tr>\n",
       "    <tr>\n",
       "      <th>9</th>\n",
       "      <td>4.00</td>\n",
       "      <td>True</td>\n",
       "      <td>random</td>\n",
       "      <td>5.264000e+00</td>\n",
       "    </tr>\n",
       "    <tr>\n",
       "      <th>10</th>\n",
       "      <td>4.00</td>\n",
       "      <td>False</td>\n",
       "      <td>experimental</td>\n",
       "      <td>5.186823e-16</td>\n",
       "    </tr>\n",
       "    <tr>\n",
       "      <th>11</th>\n",
       "      <td>4.00</td>\n",
       "      <td>True</td>\n",
       "      <td>experimental</td>\n",
       "      <td>4.000000e+00</td>\n",
       "    </tr>\n",
       "  </tbody>\n",
       "</table>\n",
       "</div>"
      ],
      "text/plain": [
       "    cost empirical states       rewards          util\n",
       "0   0.25            False        random  1.912550e+01\n",
       "1   0.25             True        random  2.076400e+01\n",
       "2   0.25            False  experimental  2.254688e+01\n",
       "3   0.25             True  experimental  2.450000e+01\n",
       "4   1.00            False        random  1.167400e+01\n",
       "5   1.00             True        random  1.525600e+01\n",
       "6   1.00            False  experimental  1.156250e+01\n",
       "7   1.00             True  experimental  1.331250e+01\n",
       "8   4.00            False        random  5.186823e-16\n",
       "9   4.00             True        random  5.264000e+00\n",
       "10  4.00            False  experimental  5.186823e-16\n",
       "11  4.00             True  experimental  4.000000e+00"
      ]
     },
     "execution_count": 360,
     "metadata": {},
     "output_type": "execute_result"
    }
   ],
   "source": [
    "def evaluation():\n",
    "    for cost in COSTS:\n",
    "        empirical_states = state_actions[cost]['states']\n",
    "        pol = policies[cost]\n",
    "        yield {'cost': cost,\n",
    "               'rewards': 'random',\n",
    "               'empirical states': False,\n",
    "               'util': get_util(pol, make_envs(cost, n=500), \n",
    "                                parallel=Parallel(20))}\n",
    "\n",
    "        yield {'cost': cost,\n",
    "               'rewards': 'random',\n",
    "               'empirical states': True,\n",
    "               'util': get_util(pol, make_envs(cost, n=500,\n",
    "                                               initial_states=empirical_states),\n",
    "                                parallel=Parallel(20))}\n",
    "        yield {'cost': cost,\n",
    "               'rewards': 'experimental',\n",
    "               'empirical states': False,\n",
    "               'util': get_util(pol, make_envs(cost, n=16, ground_truth=1))}\n",
    "\n",
    "        yield {'cost': cost,\n",
    "               'rewards': 'experimental',\n",
    "               'empirical states': True,\n",
    "               'util': get_util(pol, make_envs(cost, n=16, ground_truth=1, \n",
    "                                               initial_states=empirical_states))}\n",
    "    \n",
    "pd.DataFrame(evaluation())"
   ]
  },
  {
   "cell_type": "markdown",
   "metadata": {},
   "source": [
    "# Q regression\n",
    "\n",
    "First we estimate Q values for empirical state-action pairs by rolling out the\n",
    "LC policy."
   ]
  },
  {
   "cell_type": "code",
   "execution_count": 13,
   "metadata": {},
   "outputs": [
    {
     "name": "stdout",
     "output_type": "stream",
     "text": [
      "CPU times: user 360 ms, sys: 81.1 ms, total: 441 ms\n",
      "Wall time: 39.9 s\n"
     ]
    }
   ],
   "source": [
    "%%time\n",
    "from utils import cum_returns\n",
    "def run_rollouts(cost, sa, N=400):\n",
    "    agent = Agent()\n",
    "    agent.register(policies[cost])\n",
    "    states = []\n",
    "    actions = []\n",
    "    qs = []\n",
    "    env = make_env(cost)\n",
    "    agent.register(env)\n",
    "    for state, action in sa:\n",
    "        for _ in range(N):\n",
    "            env._state = state\n",
    "            s1, r, *_ = env.step(action)\n",
    "            env.init = s1\n",
    "            trace = agent.run_episode()\n",
    "            states.extend([state] + trace['states'][:-1])\n",
    "            actions.extend([action] + trace['actions'])\n",
    "            qs.extend(cum_returns([r] + trace['rewards']))\n",
    "    return states, actions, qs\n",
    "\n",
    "def q_samples(cost):\n",
    "    N_JOB = 24\n",
    "    all_sa = list(zip(*state_actions[cost].values()))\n",
    "    chunk_size = len(all_sa) // (N_JOB * 5)\n",
    "    results = Parallel(N_JOB)(delayed(run_rollouts)(cost, sa)\n",
    "                           for sa in partition_all(chunk_size, all_sa))\n",
    "    states, actions, qs = [], [], []\n",
    "    for s, a, q in results:\n",
    "        states.extend(s)\n",
    "        actions.extend(a)\n",
    "        qs.extend(q)\n",
    "    return {'states': states, 'actions': actions, 'qs': qs}\n",
    "try:\n",
    "    raise FileNotFoundError()\n",
    "    q_samples = {c: joblib.load(f'data/big_qs_{c}') for c in COSTS}\n",
    "except FileNotFoundError:\n",
    "    print('Estimating q values by monte carlo.')\n",
    "    for c in COSTS:\n",
    "        print('start', c)\n",
    "        joblib.dump(q_samples(c), 'data/big_qs_{}'.format(c))"
   ]
  },
  {
   "cell_type": "code",
   "execution_count": 135,
   "metadata": {},
   "outputs": [
    {
     "name": "stdout",
     "output_type": "stream",
     "text": [
      "CPU times: user 98.9 ms, sys: 0 ns, total: 98.9 ms\n",
      "Wall time: 97.1 ms\n"
     ]
    }
   ],
   "source": [
    "%%time\n",
    "from toolz import memoize\n",
    "from tqdm import trange\n",
    "def get_qs(cost):\n",
    "    env = make_env(cost)\n",
    "    pol = policies[cost]\n",
    "    parallel = Parallel(24)\n",
    "    env = make_env(cost)\n",
    "    \n",
    "    @memoize\n",
    "    def V(state, rollouts_per_state=240):\n",
    "        env.init = state\n",
    "        if state == env.term_state:\n",
    "            return 0\n",
    "        return get_util(pol, [env] * rollouts_per_state, parallel=parallel)\n",
    "\n",
    "    @memoize\n",
    "    def Q(state, action):\n",
    "        return sum(p * (r + V(s1))\n",
    "                   for p, s1, r in env.results(state, action))\n",
    "\n",
    "    states = state_actions[cost]['states'][:2]\n",
    "    actions = state_actions[cost]['actions'][:2]\n",
    "    qs = []\n",
    "    for i in trange(len(states), desc=f'cost = {cost}'):\n",
    "        qs.append(Q(states[i], actions[i]))\n",
    "    return qs\n",
    "\n",
    "try:\n",
    "    qs = {c: joblib.load(f'data/qs_{c}') for c in COSTS}\n",
    "except FileNotFoundError:\n",
    "    print('Estimating q values by monte carlo.')\n",
    "    for c in COSTS:\n",
    "        joblib.dump(get_qs(c), 'data/qs_{}'.format(c))"
   ]
  },
  {
   "cell_type": "code",
   "execution_count": 128,
   "metadata": {},
   "outputs": [],
   "source": [
    "env = make_env(1)\n",
    "env.init = state\n",
    "agent = Agent()\n",
    "agent.register(env)\n",
    "agent.register(policies[cost])\n",
    "tr = agent.run_episode()"
   ]
  },
  {
   "cell_type": "code",
   "execution_count": 132,
   "metadata": {},
   "outputs": [
    {
     "data": {
      "text/plain": [
       "7.0999999999999996"
      ]
     },
     "execution_count": 132,
     "metadata": {},
     "output_type": "execute_result"
    }
   ],
   "source": [
    "get_util(policies[cost], [env] * 10, parallel=None)"
   ]
  },
  {
   "cell_type": "code",
   "execution_count": 136,
   "metadata": {},
   "outputs": [
    {
     "name": "stderr",
     "output_type": "stream",
     "text": [
      "\n",
      "cost = 1:   0%|          | 0/2 [00:00<?, ?it/s]\u001b[A\n",
      "\n",
      "\n",
      "\n",
      "\n",
      "\n",
      "\n",
      "\n",
      "\n",
      "\n",
      "\n",
      "\n",
      "\n",
      "\n",
      "\n",
      "\n",
      "\n",
      "\n",
      "\n",
      "\n",
      "\n",
      "\n",
      "\n",
      "\n",
      "\n",
      "\n",
      "cost = 1: 100%|██████████| 2/2 [00:44<00:00, 22.61s/it]"
     ]
    },
    {
     "name": "stdout",
     "output_type": "stream",
     "text": [
      " "
     ]
    },
    {
     "name": "stderr",
     "output_type": "stream",
     "text": [
      "\n"
     ]
    }
   ],
   "source": [
    "%prun q = get_qs(1)"
   ]
  },
  {
   "cell_type": "markdown",
   "metadata": {},
   "source": [
    "Next, we use OLS to identify the weights that best fit the LC policy's Q values\n",
    "on the empirical state-action pairs."
   ]
  },
  {
   "cell_type": "code",
   "execution_count": 108,
   "metadata": {},
   "outputs": [
    {
     "data": {
      "text/plain": [
       "0.52622465437776655"
      ]
     },
     "execution_count": 108,
     "metadata": {},
     "output_type": "execute_result"
    }
   ],
   "source": [
    "import random\n",
    "state = random.choice(unique_state_actions(cost))[0]\n",
    "env = make_env(cost, initial_states=[state])\n",
    "x = get_util(pol, [env] * 100, return_mean=False)\n",
    "x = pd.Series(x)\n",
    "means = np.array([x.sample(frac=4, replace=True).mean() for _ in range(100)])\n",
    "means.std()"
   ]
  },
  {
   "cell_type": "code",
   "execution_count": 74,
   "metadata": {},
   "outputs": [],
   "source": [
    "def unique_state_actions(cost):\n",
    "    return list(set(zip(*state_actions[cost].values())))\n",
    "\n",
    "\n",
    "from toolz import memoize\n",
    "@memoize\n",
    "def get_features(cost):\n",
    "    env = make_env(cost)\n",
    "    return [env.action_features(a, s)\n",
    "            for s, a in zip(*state_actions[cost].values())]\n",
    "\n",
    "def regress_q(cost):\n",
    "    X = np.stack(get_features(cost))\n",
    "    y = np.array(qs[cost])\n",
    "    beta = np.linalg.inv(X.T @ X) @ X.T @ y\n",
    "    yhat = X @ beta\n",
    "#     rms = np.sqrt(np.mean(((X @ beta) - y) ** 2))\n",
    "#     print(f'cost = {cost},  rms = {rms}')\n",
    "    df = pd.DataFrame(\n",
    "        {'q': y,\n",
    "         'a': np.array(state_actions[cost]['actions']),\n",
    "         'err': yhat - y,\n",
    "         'qhat': yhat\n",
    "    })\n",
    "    return beta, df\n",
    "\n",
    "beta, df = regress_q(1)"
   ]
  },
  {
   "cell_type": "code",
   "execution_count": 94,
   "metadata": {},
   "outputs": [
    {
     "data": {
      "text/plain": [
       "0.067647638647771013"
      ]
     },
     "execution_count": 94,
     "metadata": {},
     "output_type": "execute_result"
    }
   ],
   "source": [
    "(df.query('a == 17').err ** 2).mean()"
   ]
  },
  {
   "cell_type": "code",
   "execution_count": 26,
   "metadata": {},
   "outputs": [
    {
     "name": "stdout",
     "output_type": "stream",
     "text": [
      "{0.25: array([ 4.509, -0.606, -0.253,  1.115,  1.036]),\n",
      " 1.0: array([ 3.891, -0.316, -0.115,  0.808,  1.089]),\n",
      " 4.0: array([ 1.187, -0.215,  0.089,  0.231,  1.247])}\n"
     ]
    }
   ],
   "source": [
    "# betas = {c: regress_q(c) for c in COSTS}\n",
    "from pprint import pprint\n",
    "with open('data/q_weights.json', 'w+') as f:\n",
    "    pprint(betas)\n",
    "    x = {f'{c:.2f}': beta.tolist() for c, beta in betas.items()}\n",
    "#     json.dump(x, f)"
   ]
  },
  {
   "cell_type": "markdown",
   "metadata": {},
   "source": [
    "# Debugging"
   ]
  },
  {
   "cell_type": "code",
   "execution_count": 60,
   "metadata": {},
   "outputs": [
    {
     "name": "stdout",
     "output_type": "stream",
     "text": [
      "[  4.452e+00   1.699e-03   4.860e-01   5.123e-01   1.000e+00]\n"
     ]
    },
    {
     "data": {
      "text/plain": [
       "8.4600000000000009"
      ]
     },
     "execution_count": 60,
     "metadata": {},
     "output_type": "execute_result"
    }
   ],
   "source": [
    "cost = 1.0\n",
    "agent = Agent()\n",
    "# pol = LiederPolicy(betas[cost])\n",
    "pol = policies[cost]\n",
    "print(pol.theta)\n",
    "agent.register(pol)\n",
    "agent.register(make_env(cost))\n",
    "df = pd.DataFrame(agent.run_many(50, pbar=False))\n",
    "df.n_steps.mean()"
   ]
  },
  {
   "cell_type": "code",
   "execution_count": 30,
   "metadata": {},
   "outputs": [
    {
     "name": "stdout",
     "output_type": "stream",
     "text": [
      "[ 3.891 -0.316 -0.115  0.808  1.089]\n",
      "(0.0, 12.0, 12.0, -4.0, Cat, -12.0, Cat, Cat, Cat, -20.0, Cat, Cat, Cat, -12.0, Cat, Cat, Cat)\n"
     ]
    },
    {
     "data": {
      "image/png": "[encoded data removed]",
      "text/plain": [
       "<matplotlib.figure.Figure at 0x7f7abdda76d8>"
      ]
     },
     "metadata": {},
     "output_type": "display_data"
    }
   ],
   "source": [
    "from policies import LiederPolicy\n",
    "cost = 1.0\n",
    "agent = Agent()\n",
    "# pol = LiederPolicy(betas[cost][1:])\n",
    "pol = LiederPolicy(betas[cost])\n",
    "print(pol.theta)\n",
    "agent.register(pol)\n",
    "agent.register(make_env(cost))\n",
    "\n",
    "def num_obs(s):\n",
    "    return sum(int(not hasattr(x, 'sample')) for x in s)\n",
    "\n",
    "sa = list(zip(*state_actions[cost].values()))\n",
    "states = sorted(set(s for s, a in sa), key=num_obs)\n",
    "s = states[902]\n",
    "print(s)\n",
    "p = pol.allQ(s)\n",
    "plt.bar(range(len(p)), p)\n",
    "plt.xticks(range(len(p)))\n",
    "None"
   ]
  },
  {
   "cell_type": "code",
   "execution_count": 53,
   "metadata": {
    "collapsed": true
   },
   "outputs": [
    {
     "data": {
      "text/plain": [
       "<matplotlib.lines.Line2D at 0x7f7abcb51550>"
      ]
     },
     "execution_count": 53,
     "metadata": {},
     "output_type": "execute_result"
    },
    {
     "data": {
      "image/png": "[encoded data removed]",
      "text/plain": [
       "<matplotlib.figure.Figure at 0x7f7abcb512e8>"
      ]
     },
     "metadata": {},
     "output_type": "display_data"
    }
   ],
   "source": [
    "beta = np.linalg.inv(X.T @ X) @ X.T @ y\n",
    "yhat = X @ beta\n",
    "rms = np.sqrt(np.mean((yhat - y) ** 2))\n",
    "df = pd.DataFrame(\n",
    "    {'q': y,\n",
    "     'a': np.array(state_actions[cost]['actions']),\n",
    "     'err': yhat - y,\n",
    "     'qhat': yhat\n",
    "})\n",
    "sns.factorplot('a', 'err', data=df, kind='violin', size=10, aspect=6)\n",
    "plt.axhline(0)\n",
    "# sns.distplot(df.query('a == 17').q)"
   ]
  },
  {
   "cell_type": "code",
   "execution_count": 58,
   "metadata": {
    "collapsed": true
   },
   "outputs": [
    {
     "data": {
      "text/plain": [
       "<seaborn.axisgrid.FacetGrid at 0x7f7abc820780>"
      ]
     },
     "execution_count": 58,
     "metadata": {},
     "output_type": "execute_result"
    },
    {
     "data": {
      "image/png": "[encoded data removed]",
      "text/plain": [
       "<matplotlib.figure.Figure at 0x7f7abc635a90>"
      ]
     },
     "metadata": {},
     "output_type": "display_data"
    }
   ],
   "source": [
    "sns.lmplot('qhat', 'q', data=df, scatter_kws=dict(alpha=0.1))"
   ]
  },
  {
   "cell_type": "code",
   "execution_count": 518,
   "metadata": {
    "collapsed": true
   },
   "outputs": [
    {
     "data": {
      "text/plain": [
       " 0.163     161\n",
       " 27.845     99\n",
       " 12.027     79\n",
       " 35.754     55\n",
       " 4.118      55\n",
       " 19.936     46\n",
       "-3.791      20\n",
       " 43.663     18\n",
       " 23.891     12\n",
       " 15.982      5\n",
       " 8.073       3\n",
       " 31.800      2\n",
       "-11.700      1\n",
       "dtype: int64"
      ]
     },
     "execution_count": 518,
     "metadata": {},
     "output_type": "execute_result"
    }
   ],
   "source": [
    "df.query('a == 17').q\n",
    "q = np.array(qs[cost])\n",
    "# X[df.a == 17, -1].round(3)\n",
    "# q[df.a == 17].round(3)\n",
    "pd.Series(yhat[df.a == 17].round(3)).value_counts()\n",
    "# X[df.a == 17]"
   ]
  },
  {
   "cell_type": "code",
   "execution_count": 224,
   "metadata": {},
   "outputs": [
    {
     "name": "stderr",
     "output_type": "stream",
     "text": [
      "\n",
      "\n",
      "  0%|          | 0/5000 [00:00<?, ?it/s]\u001b[A\u001b[A\n",
      "\n",
      "logp = -7,506.5, ||grad|| = 34.802: 100%|██████████| 53/53 [00:00<00:00, 2310.55it/s]"
     ]
    },
    {
     "name": "stdout",
     "output_type": "stream",
     "text": [
      "{'VOI': array([  3.694e-08,   2.422e-07,   5.172e-01]),\n",
      " 'VOI_logodds__': array([-17.114, -15.234,   0.069]),\n",
      " 'cost': array([ 1.]),\n",
      " 'cost_interval__': array([-15.352]),\n",
      " 'sigma': array(1.9136456349219368),\n",
      " 'sigma_log__': array(0.6490101321706021)}\n"
     ]
    },
    {
     "name": "stderr",
     "output_type": "stream",
     "text": [
      "\u001b[A\u001b[A"
     ]
    }
   ],
   "source": [
    "import pymc3 as pm\n",
    "import theano.tensor as tt\n",
    "\n",
    "def regress(cost):\n",
    "    X = np.stack(get_features(cost))\n",
    "    y = np.array(qs[cost])\n",
    "    \n",
    "    with pm.Model() as model:\n",
    "        beta = tt.concatenate([\n",
    "#             pm.Exponential('intercept', 1, shape=(1,), testval=1e-10),\n",
    "#             pm.Exponential('cost', 1, shape=(1,), testval=1.),\n",
    "#             pm.Exponential('VOI', 3, shape=(3,), testval=1/3),\n",
    "            tt.zeros(1),\n",
    "            pm.Uniform('cost', 1, 16, shape=(1,)),\n",
    "            pm.Beta('VOI', 1, 1, shape=(3,)),\n",
    "            tt.ones(1)\n",
    "        ])\n",
    "#         sigma = pm.HalfCauchy('sigma', beta=10, testval=1.)\n",
    "        sigma = pm.Exponential('sigma', 100\n",
    "        likelihood = pm.Normal('likelihood', mu=tt.dot(X, beta), sd=sigma,\n",
    "                               observed=y)\n",
    "        \n",
    "#         trace = pm.sample(500, njobs=20, progressbar=False, tune=1000)\n",
    "        trace = None\n",
    "        MAP = pm.find_MAP()\n",
    "    return model, trace, MAP\n",
    "        \n",
    "\n",
    "model, trace, MAP = regress(1.00)\n",
    "pprint(MAP)"
   ]
  },
  {
   "cell_type": "code",
   "execution_count": 220,
   "metadata": {},
   "outputs": [
    {
     "name": "stdout",
     "output_type": "stream",
     "text": [
      "{'VOI_1': array([  2.592e-12]),\n",
      " 'VOI_1_logodds__': array([-26.679]),\n",
      " 'VOI_a': array([  1.228e-09]),\n",
      " 'VOI_a_logodds__': array([-20.518]),\n",
      " 'VOI_full': array([ 0.765]),\n",
      " 'VOI_full_logodds__': array([ 1.179]),\n",
      " 'cost': array([ 1.]),\n",
      " 'cost_interval__': array([-15.155]),\n",
      " 'sigma': array(3.1192498095758183),\n",
      " 'sigma_log__': array(1.1375925272609253)}\n"
     ]
    }
   ],
   "source": [
    "from pprint import pprint\n",
    "pprint(MAP)\n",
    "# pm.traceplot(trace)\n"
   ]
  },
  {
   "cell_type": "code",
   "execution_count": null,
   "metadata": {
    "collapsed": true
   },
   "outputs": [],
   "source": [
    "\n",
    "%%time\n",
    "def test_pols(test_envs, policies):\n",
    "    def test():\n",
    "        # print('test', cost)\n",
    "        for name, policy in policies.items():\n",
    "            df = evaluate(policy, envs=test_envs)\n",
    "            df['agent'] = name\n",
    "            # df['depth'] = depth\n",
    "            # df['cost'] = cost\n",
    "            yield df\n",
    "    df = pd.concat(test())\n",
    "    print('done', depth, cost)\n",
    "    return df\n",
    "\n",
    "# with Parallel(n_jobs=48) as parallel:\n",
    "#     data = parallel(delayed(run_params)(depth, cost)\n",
    "#                     for cost, depth in bo_policies.keys()\n",
    "# #                     for depth in range(2, 6)\n",
    "# #                     for cost in np.logspace(-3, 0, 12)\n",
    "#                    )\n",
    "# #     df = pd.concat(data)\n",
    "df = run_params(4, .05)\n",
    "\n",
    "\n",
    "\n",
    "\n",
    "\n",
    "\n",
    "\n",
    "\n",
    "\n",
    "\n",
    "\n",
    "\n"
   ]
  }
 ],
 "metadata": {
  "anaconda-cloud": {},
  "kernelspec": {
   "display_name": "Python 3",
   "language": "python",
   "name": "python3"
  },
  "language_info": {
   "codemirror_mode": {
    "name": "ipython",
    "version": 3
   },
   "file_extension": ".py",
   "mimetype": "text/x-python",
   "name": "python",
   "nbconvert_exporter": "python",
   "pygments_lexer": "ipython3",
   "version": "3.6.1"
  },
  "nav_menu": {},
  "toc": {
   "colors": {
    "hover_highlight": "#DAA520",
    "running_highlight": "#FF0000",
    "selected_highlight": "#FFD700"
   },
   "moveMenuLeft": true,
   "nav_menu": {
    "height": "71px",
    "width": "254px"
   },
   "navigate_menu": true,
   "number_sections": true,
   "sideBar": true,
   "threshold": 4,
   "toc_cell": false,
   "toc_section_display": "block",
   "toc_window_display": false,
   "widenNotebook": false
  }
 },
 "nbformat": 4,
 "nbformat_minor": 1
}
