{
 "cells": [
  {
   "cell_type": "code",
   "execution_count": 2,
   "metadata": {
    "collapsed": false
   },
   "outputs": [],
   "source": [
    "%matplotlib inline\n",
    "import matplotlib.pyplot as plt\n",
    "import numpy as np\n",
    "import pandas as pd\n",
    "import seaborn as sns\n",
    "import scipy.stats\n",
    "from scipy.stats import norm\n",
    "import scipy.integrate as integrate\n",
    "import matplotlib.pyplot as plt\n",
    "import pickle\n",
    "from distributions import *\n",
    "\n",
    "import gym\n",
    "from gym import spaces\n",
    "\n",
    "import random\n",
    "import itertools as it\n",
    "from joblib import Parallel, delayed\n",
    "from toolz import memoize\n",
    "from contracts import contract\n",
    "from collections import namedtuple, defaultdict, deque, Counter\n",
    "\n",
    "import warnings\n",
    "warnings.filterwarnings(\"ignore\", \n",
    "                        message=\"The objective has been evaluated at this point before.\")\n",
    "\n",
    "from agents import Agent\n",
    "from oldmouselab import OldMouselabEnv\n",
    "from omdc_util import *\n",
    "from policies import FixedPlanPolicy, LiederPolicy\n",
    "from evaluation import *\n",
    "from distributions import cmax, smax, sample, expectation, Normal, PointMass, SampleDist, Normal, Categorical"
   ]
  },
  {
   "cell_type": "code",
   "execution_count": 3,
   "metadata": {
    "collapsed": true
   },
   "outputs": [],
   "source": [
    "def save_obj(obj, name ):\n",
    "    with open('data/'+ name + '.pkl', 'wb') as f:\n",
    "        pickle.dump(obj, f, pickle.HIGHEST_PROTOCOL)\n",
    "\n",
    "def load_obj(name ):\n",
    "    with open('data/' + name + '.pkl', 'rb') as f:\n",
    "        return pickle.load(f)"
   ]
  },
  {
   "cell_type": "code",
   "execution_count": 4,
   "metadata": {
    "collapsed": true
   },
   "outputs": [],
   "source": [
    "def hd_dist(attributes):\n",
    "    dist = [1,]*attributes\n",
    "    dist[0] = np.random.randint(85,97)\n",
    "    for i in range(1,attributes-1):\n",
    "        dist[i] += np.random.randint(0,100-np.sum(dist))\n",
    "    dist[-1] += 100-np.sum(dist)\n",
    "    dist = np.around(np.array(dist)/100,decimals=2)\n",
    "    np.random.shuffle(dist)\n",
    "    return dist\n",
    "\n",
    "def ld_dist(attributes):\n",
    "   constrain = True\n",
    "   while constrain:\n",
    "       dist = [np.random.randint(10,50) for _ in range(attributes)]\n",
    "       dist = np.around(np.array(dist)/sum(dist),decimals=2)\n",
    "       constrain = np.min(dist) <= 0.10 or np.max(dist) >= 0.40\n",
    "   np.random.shuffle(dist)\n",
    "   return dist"
   ]
  },
  {
   "cell_type": "code",
   "execution_count": 5,
   "metadata": {
    "collapsed": false
   },
   "outputs": [],
   "source": [
    "gambles = 7\n",
    "attributes = 4\n",
    "\n",
    "R_low = 0.01\n",
    "R_high_hs = 9.99\n",
    "R_high_ls = 0.25\n",
    "\n",
    "mu_R_high_stakes = (9.99+0.01)/2\n",
    "mu_R_low_stakes = (0.25+0.01)/2\n",
    "\n",
    "sigma_R_high_stakes = 0.3*(9.99-0.01)\n",
    "sigma_R_low_stakes = 0.3*(0.25-0.01)\n",
    "\n",
    "high_stakes = TruncatedNormal(mu_R_high_stakes, sigma_R_high_stakes,R_low, R_high_hs)\n",
    "low_stakes =  TruncatedNormal(mu_R_low_stakes, sigma_R_low_stakes,R_low,R_high_ls)\n",
    "cost=.01\n",
    "\n",
    "n_test = 100\n",
    "\n",
    "nr_outcomes = attributes\n",
    "nr_alternatives = gambles\n",
    "\n",
    "strategies = dict()\n",
    "strategy_frequencies = dict()"
   ]
  },
  {
   "cell_type": "code",
   "execution_count": 6,
   "metadata": {
    "collapsed": false
   },
   "outputs": [],
   "source": [
    "agent = Agent()\n",
    "def run_env(policy, env):\n",
    "    agent.register(env)\n",
    "    agent.register(policy)\n",
    "    tr = agent.run_episode()\n",
    "#     print(tr)\n",
    "    return {'util': tr['return'], 'actions': tr['actions'],\n",
    "            'observations': len(tr['actions']) - 1, 'ground_truth': env.ground_truth}\n",
    "\n",
    "def action_coordinate(env, action):\n",
    "    #returns gamble, outcome\n",
    "    return (action//env.outcomes,action%env.outcomes)\n",
    "\n",
    "def p_grid(env, actions):\n",
    "    grid = np.zeros((env.gambles+1,env.outcomes))\n",
    "    grid[0,:] = env.dist\n",
    "    for i in range(len(actions[:-1])):\n",
    "        gamble, outcome = action_coordinate(env,actions[i]) \n",
    "        grid[gamble+1, outcome] = i+1\n",
    "    return grid\n",
    "\n",
    "def expected_reward_of_termination(env,actions):\n",
    "    env.reset()\n",
    "    for a in actions:\n",
    "        env.step(a)\n",
    "\n",
    "    return env.expected_term_reward()\n",
    "\n",
    "def run_policy(envs):\n",
    "    \n",
    "    traces = []\n",
    "    \n",
    "    for env in envs:    \n",
    "        env.reset()\n",
    "        traces.append(run_DC(env))\n",
    "    \n",
    "    return traces\n",
    "    \n",
    "\n",
    "def characterize_DC_strategy(envs):\n",
    "    operations = []\n",
    "    nr_clicks = []\n",
    "    probabilities = []\n",
    "    returns = []\n",
    "    observations = []\n",
    "    grids = []\n",
    "    p_grids = []\n",
    "    p_outcomes = []\n",
    "    p_ranks = []\n",
    "    inspected_gambles = []\n",
    "    inspected_outcomes = []\n",
    "    nr_inspected_outcomes = []\n",
    "    best_outcome_only = []\n",
    "    expected_term_rewards = []\n",
    "    TTB_plus = []\n",
    "    \n",
    "    transitions_within_alternative = []\n",
    "    transitions_within_attribute = []\n",
    "\n",
    "    nr_attribute_based_clicks = np.array([])\n",
    "    nr_alternative_based_clicks = np.array([])\n",
    "\n",
    "    \n",
    "    for i in range(len(envs)):\n",
    "        envs[i].reset()\n",
    "        trace = run_dc(envs[i])\n",
    "        returns = returns + [trace['util']]        \n",
    "        operations = operations + [trace['actions']]\n",
    "        nr_clicks = nr_clicks + [len(trace['actions'])-1]\n",
    "        probabilities = probabilities + [envs[i].dist]\n",
    "        p_grids = p_grids + [p_grid(envs[i],trace['actions'])]\n",
    "        grids = grids + [envs[i].grid()]\n",
    "        \n",
    "        within_attribute = []\n",
    "        within_alternative = []\n",
    "        \n",
    "        gambles = np.array([])\n",
    "        outcomes = np.array([])\n",
    "        observed_payoffs = np.array([])\n",
    "                \n",
    "        p_outcome = np.array([])\n",
    "        p_rank = np.array([])\n",
    "        array = -envs[i].dist\n",
    "        temp = array.argsort()\n",
    "        ranks = np.empty_like(temp)\n",
    "        ranks[temp] = np.arange(len(array))+1\n",
    "        #print(ranks)\n",
    "        \n",
    "        for a in trace['actions'][:-1]:\n",
    "            gamble, outcome = action_coordinate(envs[i], a)\n",
    "            gambles = np.append(gambles,[gamble])\n",
    "            outcomes = np.append(outcomes,[outcome])\n",
    "            p_outcome = np.append(p_outcome,[envs[i].dist[outcome]])\n",
    "            p_rank = np.append(p_rank,[ranks[outcome]])\n",
    "            observed_payoffs = np.append(observed_payoffs,trace['ground_truth'][a])\n",
    "        \n",
    "        \n",
    "        clicks = trace['actions'][:-1]\n",
    "        for c in np.arange(1,len(clicks)):\n",
    "            prev_click = clicks[c-1]\n",
    "            prev_gamble,prev_attribute = action_coordinate(envs[i], prev_click)\n",
    "            gamble,attribute =  action_coordinate(envs[i], clicks[c])\n",
    "            within_attribute = within_attribute + [attribute==prev_attribute]\n",
    "            within_alternative = within_alternative + [gamble==prev_gamble]\n",
    "        \n",
    "        TTB_plus += [np.all(np.unique(p_rank[:nr_alternatives-1])==[1]) and nr_clicks[-1]>nr_alternatives] \n",
    "\n",
    "        \n",
    "        p_ranks = p_ranks + [p_rank]\n",
    "        \n",
    "        transitions_within_alternative = transitions_within_alternative + [within_alternative]\n",
    "        transitions_within_attribute = transitions_within_attribute + [within_attribute]\n",
    "\n",
    "        nr_attribute_based_clicks   = np.append(nr_attribute_based_clicks,[np.sum(within_attribute)])\n",
    "        nr_alternative_based_clicks = np.append(nr_alternative_based_clicks,[np.sum(within_alternative)])\n",
    "        \n",
    "        best_outcome_only.append(np.all(np.unique(p_rank)==[1]))        \n",
    "        observations = observations + [observed_payoffs]\n",
    "        expected_term_rewards = expected_term_rewards  + [expected_reward_of_termination(envs[i],trace['actions'][:-1])] \n",
    "        p_outcomes = p_outcomes + [p_outcome]\n",
    "        inspected_gambles = inspected_gambles + [gambles]\n",
    "        inspected_outcomes= inspected_outcomes + [outcomes]\n",
    "        nr_inspected_outcomes = nr_inspected_outcomes + [len(np.unique(outcomes))]\n",
    "    \n",
    "    return {'grids':grids,'expected_term_rewards': expected_term_rewards,'best_outcome_only': best_outcome_only,\n",
    "            'nr_inspected_outcomes':nr_inspected_outcomes, 'p_ranks': p_ranks, 'p_outcomes': p_outcomes, \n",
    "            'inspected_gambles': inspected_gambles, 'inspected_outcomes': inspected_outcomes, 'p_grids': p_grids,\n",
    "            'returns': returns, 'observations': observations, 'operations':operations, 'nr_clicks': nr_clicks,\n",
    "            'nr_alternative_based_clicks':nr_alternative_based_clicks,'nr_attribute_based_clicks':nr_attribute_based_clicks,\n",
    "            'transitions_within_attribute': transitions_within_attribute, 'TTB_plus': TTB_plus,\n",
    "            'transitions_within_alternative': transitions_within_alternative,'probabilities': probabilities}\n",
    "    "
   ]
  },
  {
   "cell_type": "markdown",
   "metadata": {},
   "source": [
    "# High stakes, high dispersion"
   ]
  },
  {
   "cell_type": "code",
   "execution_count": 10,
   "metadata": {
    "collapsed": false
   },
   "outputs": [],
   "source": [
    "cost = 0.01\n",
    "reward = high_stakes\n",
    "hd_hs_envs =  [OldMouselabEnv(gambles, hd_dist(attributes), reward, cost) for _ in range(n_test)]\n",
    "term_action = hd_hs_envs[0].term_action"
   ]
  },
  {
   "cell_type": "code",
   "execution_count": 11,
   "metadata": {
    "collapsed": false
   },
   "outputs": [],
   "source": [
    "hd_hs_DC = characterize_DC_strategy(hd_hs_envs)\n",
    "save_obj(hd_hs_DC,'DC_high_dispersion_high_stakes_separate_1cents')\n",
    "#save_obj(hd_hs_envs,'hd_hs_envs_0.5cents')\n",
    "#hd_hs = load_obj('high_dispersion_high_stakes')\n",
    "#hd_hs=load_obj('high_dispersion_high_stakes_1cents')"
   ]
  },
  {
   "cell_type": "code",
   "execution_count": 12,
   "metadata": {
    "collapsed": false
   },
   "outputs": [
    {
     "name": "stdout",
     "output_type": "stream",
     "text": [
      "In the HS-HD environment, the DC model reaps 98.68% of the highest possible payoffs.\n"
     ]
    }
   ],
   "source": [
    "max_EV = np.array([])\n",
    "all_actions = np.arange(28)\n",
    "#for a in all_actions:\n",
    "#    test_envs_hd[0].step(a)\n",
    "\n",
    "for i in range(len(hd_hs_envs)):\n",
    "    max_EV = np.append(max_EV,[expected_reward_of_termination(hd_hs_envs[i],all_actions)])\n",
    "    \n",
    "max_EV_hd_hs = np.mean(max_EV)\n",
    "\n",
    "print(\"In the HS-HD environment, the DC model reaps {:.4}% of the highest possible payoffs.\".format(100*np.mean(hd_hs_DC['returns'])/max_EV_hd_hs))"
   ]
  },
  {
   "cell_type": "code",
   "execution_count": 20,
   "metadata": {
    "collapsed": false
   },
   "outputs": [
    {
     "name": "stdout",
     "output_type": "stream",
     "text": [
      "On 0.0% of the hs-hd trials the Directed Cognition model is random choice.\n",
      "On 0.0% of the hs-hd trials the click squences of the Directed Cognition model were consistent with SAT-TTB.\n",
      "On 0.0% of the hs-hd trials the click squences of the Directed Cognition model were consistent with TTB.\n",
      "On 0.0% of the hs-hd trials the click squences of the Directed Cognition model was consistent with WADD.\n",
      "On 98.0% of the hs-hd trials the click squences of the Directed Cognition model was consistent with TTB+.\n",
      "On 0.0% of the hs-hd trials the Directed Cognition model is SAT-TTB2.\n",
      "On 0.0% of the hs-hd trials the Directed Cognition model is SAT-TTB3.\n",
      "On 0.0% of the hs-hd trials the Directed Cognition model is SAT.\n",
      "On 0.0% of the hs-hd trials the Directed Cognition model is TTB2+.\n",
      "TTB:0.0\n",
      "WADD:0.0\n",
      "SAT_TTB:0.0\n",
      "random_choice:0.0\n",
      "SAT_TTB2:0.0\n",
      "TTB2_plus:0.0\n",
      "SAT_TTB3:0.0\n",
      "TTB_plus:0.98\n",
      "SAT:0.0\n",
      "other:0.020000000000000018\n"
     ]
    },
    {
     "data": {
      "text/plain": [
       "1.0"
      ]
     },
     "execution_count": 20,
     "metadata": {},
     "output_type": "execute_result"
    }
   ],
   "source": [
    "strategies['hs_hd']=dict()\n",
    "\n",
    "strategies['hs_hd']['TTB'] = np.array([])\n",
    "strategies['hs_hd']['WADD'] = np.array([])\n",
    "strategies['hs_hd']['SAT_TTB'] = np.array([])\n",
    "strategies['hs_hd']['random_choice'] = np.array([])\n",
    "strategies['hs_hd']['SAT_TTB2'] = np.array([])\n",
    "#strategies['hs_hd']['TTB2']=np.array([])\n",
    "strategies['hs_hd']['TTB2_plus']=np.array([])\n",
    "strategies['hs_hd']['SAT_TTB3'] = np.array([])\n",
    "strategies['hs_hd']['TTB_plus'] = np.array([])\n",
    "strategies['hs_hd']['SAT'] = np.array([])\n",
    "\n",
    "for i in range(n_test):\n",
    "    strategies['hs_hd']['TTB'] =  np.append(strategies['hs_hd']['TTB'], [hd_hs_DC['nr_clicks'][i]==nr_alternatives and hd_hs_DC['best_outcome_only'][i]])\n",
    "    strategies['hs_hd']['WADD']=  np.append(strategies['hs_hd']['WADD'],[hd_hs_DC['nr_clicks'][i]==nr_alternatives*nr_outcomes])\n",
    "    strategies['hs_hd']['SAT_TTB'] = np.append(strategies['hs_hd']['SAT_TTB'], [hd_hs_DC['best_outcome_only'][i] and hd_hs_DC['nr_clicks'][i]>0 and hd_hs_DC['nr_clicks'][i]<nr_alternatives])\n",
    "    strategies['hs_hd']['random_choice'] = np.append(strategies['hs_hd']['random_choice'], [hd_hs_DC['nr_clicks'][i]==0])\n",
    "    strategies['hs_hd']['SAT_TTB2']=np.append(strategies['hs_hd']['SAT_TTB2'],[np.logical_and(np.all(hd_hs_DC['p_ranks'][i]<=2), hd_hs_DC['nr_inspected_outcomes'][i]==2 and hd_hs_DC['nr_clicks'][i]<2*nr_alternatives) ])\n",
    "    strategies['hs_hd']['SAT_TTB3']=np.append(strategies['hs_hd']['SAT_TTB3'],[np.logical_and(np.all(hd_hs_DC['p_ranks'][i]<=3), hd_hs_DC['nr_inspected_outcomes'][i]==3 and hd_hs_DC['nr_clicks'][i]<3*nr_alternatives) ])\n",
    "    #strategies['hs_hd']['TTB2']=np.append(strategies['hs_hd']['TTB2'],[np.logical_and(np.all(hd_hs_DC['p_ranks'][i]<=2),  hd_hs_DC['nr_inspected_outcomes'][i]==2 and hd_hs_DC['nr_clicks'][i]==2*nr_alternatives)])\n",
    "    strategies['hs_hd']['TTB2_plus']=np.append(strategies['hs_hd']['TTB2_plus'],[np.logical_and(np.all(hd_hs_DC['p_ranks'][i][0:13]<=2),hd_hs_DC['nr_clicks'][i]>=14)])\n",
    "    strategies['hs_hd']['TTB_plus']=np.append(strategies['hs_hd']['TTB_plus'],[np.logical_and(np.all(np.unique(hd_hs_DC['p_ranks'][i][:nr_alternatives-1])==[1]),hd_hs_DC['nr_clicks'][-1]>nr_alternatives)])\n",
    "    strategies['hs_hd']['SAT']=np.append(strategies['hs_hd']['SAT'],[np.logical_and(hd_hs_DC['nr_clicks'][i]>=4,hd_hs_DC['nr_alternative_based_clicks'][i]>=3*hd_hs_DC['nr_attribute_based_clicks'][i])])\n",
    "\n",
    "    \n",
    "    \n",
    "print(\"On {}% of the hs-hd trials the Directed Cognition model is random choice.\".format(100*np.mean(strategies['hs_hd']['random_choice'])))\n",
    "print(\"On {}% of the hs-hd trials the click squences of the Directed Cognition model were consistent with SAT-TTB.\".format(100*np.mean(strategies['hs_hd']['SAT_TTB'])))\n",
    "print(\"On {}% of the hs-hd trials the click squences of the Directed Cognition model were consistent with TTB.\".format(100*np.mean(strategies['hs_hd']['TTB'])))\n",
    "print(\"On {}% of the hs-hd trials the click squences of the Directed Cognition model was consistent with WADD.\".format(100*np.mean(strategies['hs_hd']['WADD'])))\n",
    "print(\"On {}% of the hs-hd trials the click squences of the Directed Cognition model was consistent with TTB+.\".format(100*np.mean(strategies['hs_hd']['TTB_plus'])))\n",
    "print(\"On {}% of the hs-hd trials the Directed Cognition model is SAT-TTB2.\".format(100*np.mean(strategies['hs_hd']['SAT_TTB2'])))\n",
    "print(\"On {}% of the hs-hd trials the Directed Cognition model is SAT-TTB3.\".format(100*np.mean(strategies['hs_hd']['SAT_TTB3'])))\n",
    "print(\"On {}% of the hs-hd trials the Directed Cognition model is SAT.\".format(100*np.mean(strategies['hs_hd']['SAT'])))\n",
    "print(\"On {}% of the hs-hd trials the Directed Cognition model is TTB2+.\".format(100*np.mean(strategies['hs_hd']['TTB2_plus'])))\n",
    "\n",
    "strategy_freq=dict()\n",
    "total = 0\n",
    "for strategy in strategies['hs_hd'].keys():\n",
    "    strategy_freq[strategy]=np.mean(strategies['hs_hd'][strategy])\n",
    "    total += strategy_freq[strategy]\n",
    "strategy_freq['other'] = 1-total\n",
    "\n",
    "strategy_frequencies['hs_hd']=strategy_freq\n",
    "\n",
    "total = 0\n",
    "for strategy in strategy_freq.keys():\n",
    "    print(\"{}:{}\".format(strategy,strategy_freq[strategy]))\n",
    "    total += strategy_freq[strategy]\n",
    "total"
   ]
  },
  {
   "cell_type": "code",
   "execution_count": 24,
   "metadata": {
    "collapsed": false
   },
   "outputs": [
    {
     "name": "stdout",
     "output_type": "stream",
     "text": [
      "The high-stakes policy inspected more than 7 cells in 100.0% of the trials.\n",
      "The high-stakes policy inspected more than 1 outcome in 100.0% of the high-dispersion trials.\n"
     ]
    }
   ],
   "source": [
    "print(\"The high-stakes policy inspected more than 7 cells in {}% of the trials.\".format(100*np.mean(np.array(hd_hs_DC['nr_clicks'])>7)))\n",
    "print(\"The high-stakes policy inspected more than 1 outcome in {}% of the high-dispersion trials.\".format(100*np.mean(np.array(hd_hs_DC['nr_inspected_outcomes'])>1)))"
   ]
  },
  {
   "cell_type": "code",
   "execution_count": 109,
   "metadata": {
    "collapsed": false
   },
   "outputs": [
    {
     "name": "stdout",
     "output_type": "stream",
     "text": [
      "False\n",
      "In    0.0% of the high-dispersion problems, the high-stakes policy considered only the most probably outcome.\n",
      "\n",
      "In the high-dispersion environment the BO policy made between 10 and 13 clicks. The average number of clicks was 1e+01.\n",
      "\n",
      " Example: \n",
      "[[  0.02   0.08   0.89   0.01]\n",
      " [  0.     0.     6.     0.  ]\n",
      " [  0.     0.     1.     0.  ]\n",
      " [  0.     0.     2.     0.  ]\n",
      " [  0.     0.     7.     0.  ]\n",
      " [  0.     0.     8.     0.  ]\n",
      " [  9.     4.     3.    10.  ]\n",
      " [  0.     0.     5.     0.  ]]\n",
      "[[ 1.735  3.085  5.413  8.826]\n",
      " [ 8.748  2.631  4.822  4.38 ]\n",
      " [ 5.875  2.212  5.805  1.697]\n",
      " [ 5.601  4.758  2.467  5.828]\n",
      " [ 3.969  6.175  3.708  7.775]\n",
      " [ 8.265  8.119  9.906  1.336]\n",
      " [ 6.059  0.96   1.878  4.62 ]]\n"
     ]
    },
    {
     "data": {
      "image/png": "[encoded data removed]",
      "text/plain": [
       "<matplotlib.figure.Figure at 0x7fc3e1ffb198>"
      ]
     },
     "metadata": {},
     "output_type": "display_data"
    }
   ],
   "source": [
    "print(np.all(hd_hs_DC['best_outcome_only']))\n",
    "\n",
    "print(\"In {:6.3}% of the high-dispersion problems, the high-stakes policy considered only the most probably outcome.\".format(100*np.mean(hd_hs_DC['best_outcome_only'])))\n",
    "print(\"\")\n",
    "avg_nr_clicks_hd_hs_DC=np.mean(hd_hs_DC['nr_clicks'])\n",
    "min_nr_clicks_hd_hs_DC=np.min(hd_hs_DC['nr_clicks'])\n",
    "max_nr_clicks_hd_hs_DC=np.max(hd_hs_DC['nr_clicks'])\n",
    "\n",
    "print('In the high-dispersion environment the BO policy made between {} and {} clicks. The average number of clicks was {:3.2}.'.format(min_nr_clicks_hd_hs_DC,max_nr_clicks_hd_hs_DC,avg_nr_clicks_hd_hs_DC))\n",
    "\n",
    "plt.figure()\n",
    "plt.hist(hd_hs_DC['nr_clicks'])\n",
    "plt.xlabel('Number of clicks')\n",
    "plt.ylabel('Frequency out of 100')\n",
    "\n",
    "print(\"\\n Example: \")\n",
    "print(hd_hs_DC['p_grids'][5])\n",
    "print(hd_hs_envs[5].grid())"
   ]
  },
  {
   "cell_type": "code",
   "execution_count": 30,
   "metadata": {
    "collapsed": false
   },
   "outputs": [
    {
     "name": "stdout",
     "output_type": "stream",
     "text": [
      "The high-stakes policy inspected more than 1 outcome in 100.0% of the high-dispersion trials.\n",
      "The high-stakes policy inspected 0 outcomes in 0.0% of the high-dispersion trials.\n",
      "The high-stakes policy inspected 1 outcomes in 0.0% of the high-dispersion trials.\n",
      "The high-stakes policy inspected 2 outcomes in 0.0% of the high-dispersion trials.\n",
      "The high-stakes policy inspected 3 outcomes in 0.0% of the high-dispersion trials.\n",
      "The high-stakes policy inspected 4 outcomes in 100.0% of the high-dispersion trials.\n"
     ]
    },
    {
     "data": {
      "image/png": "[encoded data removed]",
      "text/plain": [
       "<matplotlib.figure.Figure at 0x7fc3e2204470>"
      ]
     },
     "metadata": {},
     "output_type": "display_data"
    }
   ],
   "source": [
    "plt.figure()\n",
    "plt.hist(hd_hs_DC['nr_inspected_outcomes'])\n",
    "plt.xlabel('Number of inspected outcomes')\n",
    "plt.ylabel('Frequency in %')\n",
    "\n",
    "#print(\"The high-stakes policy inspected more than 7 cells in {}% of the low-dispersion trials.\".format(100*np.mean(np.array(ld_hs['nr_clicks'])>7)))\n",
    "print(\"The high-stakes policy inspected more than 1 outcome in {}% of the high-dispersion trials.\".format(100*np.mean(np.array(hd_hs_DC['nr_inspected_outcomes'])>1)))\n",
    "\n",
    "for n in range(5):\n",
    "    print(\"The high-stakes policy inspected {} outcomes in {}% of the high-dispersion trials.\".format(n,100*np.mean(np.array(hd_hs_DC['nr_inspected_outcomes'])==n)))\n"
   ]
  },
  {
   "cell_type": "code",
   "execution_count": 31,
   "metadata": {
    "collapsed": false
   },
   "outputs": [
    {
     "name": "stdout",
     "output_type": "stream",
     "text": [
      "In the high-dispersion environment 64.96% of the clicks transitioned within the same attribute, 21.82% transitioned within the same alternative, and the remaining 13.22% of clicks switched both the attribute and the alternative.\n"
     ]
    }
   ],
   "source": [
    "prop_alternative_based_clicks = np.mean(np.array(hd_hs_DC['nr_alternative_based_clicks'])/(np.array(hd_hs_DC['nr_clicks'])-1))\n",
    "prop_attribute_based_clicks = np.mean(np.array(hd_hs_DC['nr_attribute_based_clicks'])/(np.array(hd_hs_DC['nr_clicks'])-1))\n",
    "prop_other = 1 - (prop_alternative_based_clicks + prop_attribute_based_clicks)\n",
    "#hd_hs_DC['transitions_within_alternative']\n",
    "\n",
    "print('In the high-dispersion environment {:.4}% of the clicks transitioned within the same attribute, {:.4}% transitioned within the same alternative, and the remaining {:.4}% of clicks switched both the attribute and the alternative.'.format(100*prop_attribute_based_clicks,100*prop_alternative_based_clicks,100*prop_other))"
   ]
  },
  {
   "cell_type": "code",
   "execution_count": 32,
   "metadata": {
    "collapsed": false
   },
   "outputs": [
    {
     "name": "stdout",
     "output_type": "stream",
     "text": [
      "Aspiration level after 10 clicks: 5.888431831445055\n",
      "Aspiration level after 11 clicks: 6.057714789063083\n",
      "average aspiration level: $nan\n",
      "average aspiration level: nan standard deviations above mean\n"
     ]
    },
    {
     "name": "stderr",
     "output_type": "stream",
     "text": [
      "/home/falklieder/miniconda3/envs/mcrl/lib/python3.6/site-packages/numpy/core/fromnumeric.py:2909: RuntimeWarning: Mean of empty slice.\n",
      "  out=out, **kwargs)\n",
      "/home/falklieder/miniconda3/envs/mcrl/lib/python3.6/site-packages/numpy/core/_methods.py:80: RuntimeWarning: invalid value encountered in double_scalars\n",
      "  ret = ret.dtype.type(ret / rcount)\n"
     ]
    },
    {
     "data": {
      "image/png": "[encoded data removed]",
      "text/plain": [
       "<matplotlib.figure.Figure at 0x7fc3e20adcc0>"
      ]
     },
     "metadata": {},
     "output_type": "display_data"
    }
   ],
   "source": [
    "click_nrs = np.unique(hd_hs_DC['nr_clicks'])\n",
    "nr_clicks = np.array(hd_hs_DC['nr_clicks'])\n",
    "expected_returns = np.array(hd_hs_DC['expected_term_rewards'])\n",
    "\n",
    "aspiration_levels = dict()\n",
    "\n",
    "for n in click_nrs[:-2]:\n",
    "    print(\"Aspiration level after {} clicks: {}\".format(n,np.min(expected_returns[nr_clicks==n])))\n",
    "    aspiration_levels[n] = (np.min(expected_returns[nr_clicks==n])-mu_R_high_stakes)/sigma_R_high_stakes\n",
    "\n",
    "plt.figure()\n",
    "plt.plot(nr_alternatives-np.array([float(val) for val in aspiration_levels.keys()]),aspiration_levels.values())\n",
    "plt.ylabel('Aspiration Level (z-score)')\n",
    "plt.xlabel('Number unexplored alternatives')\n",
    "\n",
    "#hd_hs_DC['observations'][2]\n",
    "\n",
    "aspiration_level = np.mean(expected_returns[np.array(hd_hs_DC['nr_clicks'])==nr_alternatives])\n",
    "print('average aspiration level: ${:.3}'.format(aspiration_level))\n",
    "print('average aspiration level: {:.3} standard deviations above mean'.format((aspiration_level-mu_R_high_stakes)/sigma_R_high_stakes))"
   ]
  },
  {
   "cell_type": "markdown",
   "metadata": {
    "collapsed": true
   },
   "source": [
    "# High stakes, low dispersion"
   ]
  },
  {
   "cell_type": "code",
   "execution_count": 21,
   "metadata": {
    "collapsed": false
   },
   "outputs": [],
   "source": [
    "reward = high_stakes\n",
    "ld_hs_envs = [OldMouselabEnv(gambles, ld_dist(attributes), reward, cost) for _ in range(n_test)]\n",
    "\n",
    "term_action = ld_hs_envs[0].term_action"
   ]
  },
  {
   "cell_type": "code",
   "execution_count": 22,
   "metadata": {
    "collapsed": false
   },
   "outputs": [],
   "source": [
    "#ld_hs_DC = characterize_DC_strategy(ld_hs_envs)\n",
    "#save_obj(ld_hs_DC,'DC_low_dispersion_high_stakes_1cents_separate')\n",
    "ld_hs_DC = load_obj('low_dispersion_high_stakes_1cents_separate')"
   ]
  },
  {
   "cell_type": "code",
   "execution_count": 23,
   "metadata": {
    "collapsed": false
   },
   "outputs": [
    {
     "name": "stdout",
     "output_type": "stream",
     "text": [
      "The DC model reaps 96.3% of the highest possible payoffs.\n"
     ]
    }
   ],
   "source": [
    "max_EV = np.array([])\n",
    "all_actions = np.arange(28)\n",
    "#for a in all_actions:\n",
    "#    test_envs_hd[0].step(a)\n",
    "\n",
    "for i in range(len(ld_hs_envs)):\n",
    "    max_EV = np.append(max_EV,[expected_reward_of_termination(ld_hs_envs[i],all_actions)])\n",
    "    \n",
    "max_EV_ld_hs = np.mean(max_EV)\n",
    "\n",
    "np.mean(ld_hs_DC['returns'])/max_EV_ld_hs\n",
    "\n",
    "print(\"The DC model reaps {:.4}% of the highest possible payoffs.\".format(100*np.mean(ld_hs_DC['returns'])/max_EV_ld_hs))"
   ]
  },
  {
   "cell_type": "code",
   "execution_count": 24,
   "metadata": {
    "collapsed": false
   },
   "outputs": [
    {
     "name": "stdout",
     "output_type": "stream",
     "text": [
      "On 0.0% of the hs-ld trials the Directed Cognition model is random choice.\n",
      "On 0.0% of the hs-ld trials the click squences of the Directed Cognition model were consistent with SAT-TTB.\n",
      "On 0.0% of the hs-ld trials the click squences of the Directed Cognition model were consistent with TTB.\n",
      "On 0.0% of the hs-ld trials the click squences of the Directed Cognition model was consistent with WADD.\n",
      "On 32.0% of the hs-ld trials the click squences of the Directed Cognition model was consistent with TTB+.\n",
      "On 8.0% of the hs-ld trials the Directed Cognition model is SAT-TTB2.\n",
      "On 31.0% of the hs-ld trials the Directed Cognition model is SAT-TTB3.\n",
      "On 0.0% of the hs-ld trials the Directed Cognition model is SAT.\n",
      "On 2.0% of the hs-ld trials the Directed Cognition model is TTB2+.\n"
     ]
    }
   ],
   "source": [
    "strategies['hs_ld']=dict()\n",
    "\n",
    "strategies['hs_ld']['TTB'] = np.array([])\n",
    "strategies['hs_ld']['WADD'] = np.array([])\n",
    "strategies['hs_ld']['SAT_TTB'] = np.array([])\n",
    "strategies['hs_ld']['random_choice'] = np.array([])\n",
    "strategies['hs_ld']['SAT_TTB2'] = np.array([])\n",
    "strategies['hs_ld']['SAT']=np.array([])\n",
    "strategies['hs_ld']['TTB2_plus']=np.array([])\n",
    "strategies['hs_ld']['SAT_TTB3'] = np.array([])\n",
    "strategies['hs_ld']['TTB_plus'] = np.array([])\n",
    "\n",
    "for i in range(n_test):\n",
    "    strategies['hs_ld']['TTB'] =  np.append(strategies['hs_ld']['TTB'], [ld_hs_DC['nr_clicks'][i]==nr_alternatives and ld_hs_DC['best_outcome_only'][i]])\n",
    "    strategies['hs_ld']['WADD']=  np.append(strategies['hs_ld']['WADD'],[ld_hs_DC['nr_clicks'][i]==nr_alternatives*nr_outcomes])\n",
    "    strategies['hs_ld']['SAT_TTB'] = np.append(strategies['hs_ld']['SAT_TTB'], [ld_hs_DC['best_outcome_only'][i] and ld_hs_DC['nr_clicks'][i]>0 and ld_hs_DC['nr_clicks'][i]<nr_alternatives])\n",
    "    strategies['hs_ld']['random_choice'] = np.append(strategies['hs_ld']['random_choice'], [ld_hs_DC['nr_clicks'][i]==0])\n",
    "    strategies['hs_ld']['SAT_TTB2']=np.append(strategies['hs_ld']['SAT_TTB2'],[np.logical_and(np.all(ld_hs_DC['p_ranks'][i]<=2), ld_hs_DC['nr_inspected_outcomes'][i]==2 and ld_hs_DC['nr_clicks'][i]<2*nr_alternatives) ])\n",
    "    strategies['hs_ld']['SAT_TTB3']=np.append(strategies['hs_ld']['SAT_TTB3'],[np.logical_and(np.all(ld_hs_DC['p_ranks'][i]<=3), ld_hs_DC['nr_inspected_outcomes'][i]==3 and ld_hs_DC['nr_clicks'][i]<3*nr_alternatives) ])\n",
    "    #strategies['hs_ld']['TTB2']=np.append(strategies['hs_ld']['TTB2'],[np.logical_and(np.all(ld_hs_DC['p_ranks'][i]<=2),  ld_hs_DC['nr_inspected_outcomes'][i]==2 and ld_hs_DC['nr_clicks'][i]==2*nr_alternatives)])\n",
    "    strategies['hs_ld']['TTB2_plus']=np.append(strategies['hs_ld']['TTB2_plus'],[np.logical_and(np.all(ld_hs_DC['p_ranks'][i][0:13]<=2),ld_hs_DC['nr_clicks'][i]>=14)])\n",
    "    strategies['hs_ld']['TTB_plus']=np.append(strategies['hs_ld']['TTB_plus'],[np.logical_and(np.all(np.unique(ld_hs_DC['p_ranks'][i][:nr_alternatives-1])==[1]),ld_hs_DC['nr_clicks'][-1]>nr_alternatives)])\n",
    "    strategies['hs_ld']['SAT']=np.append(strategies['hs_ld']['SAT'],[np.logical_and(ld_hs_DC['nr_clicks'][i]>=4,ld_hs_DC['nr_alternative_based_clicks'][i]>=3*ld_hs_DC['nr_attribute_based_clicks'][i])])\n",
    "    \n",
    "print(\"On {}% of the hs-ld trials the Directed Cognition model is random choice.\".format(100*np.mean(strategies['hs_ld']['random_choice'])))\n",
    "print(\"On {}% of the hs-ld trials the click squences of the Directed Cognition model were consistent with SAT-TTB.\".format(100*np.mean(strategies['hs_ld']['SAT_TTB'])))\n",
    "print(\"On {}% of the hs-ld trials the click squences of the Directed Cognition model were consistent with TTB.\".format(100*np.mean(strategies['hs_ld']['TTB'])))\n",
    "print(\"On {}% of the hs-ld trials the click squences of the Directed Cognition model was consistent with WADD.\".format(100*np.mean(strategies['hs_ld']['WADD'])))\n",
    "print(\"On {}% of the hs-ld trials the click squences of the Directed Cognition model was consistent with TTB+.\".format(100*np.mean(strategies['hs_ld']['TTB_plus'])))\n",
    "print(\"On {}% of the hs-ld trials the Directed Cognition model is SAT-TTB2.\".format(100*np.mean(strategies['hs_ld']['SAT_TTB2'])))\n",
    "print(\"On {}% of the hs-ld trials the Directed Cognition model is SAT-TTB3.\".format(100*np.mean(strategies['hs_ld']['SAT_TTB3'])))\n",
    "print(\"On {}% of the hs-ld trials the Directed Cognition model is SAT.\".format(100*np.mean(strategies['hs_ld']['SAT'])))\n",
    "print(\"On {}% of the hs-ld trials the Directed Cognition model is TTB2+.\".format(100*np.mean(strategies['hs_ld']['TTB2_plus'])))\n",
    "\n",
    "strategy_freq=dict()\n",
    "total = 0\n",
    "for strategy in strategies['hs_ld'].keys():\n",
    "    strategy_freq[strategy]=np.mean(strategies['hs_ld'][strategy])\n",
    "    total += strategy_freq[strategy]\n",
    "strategy_freq['other'] = 1-total\n",
    "\n",
    "strategy_frequencies['hs_ld']=strategy_freq"
   ]
  },
  {
   "cell_type": "code",
   "execution_count": 17,
   "metadata": {
    "collapsed": false
   },
   "outputs": [
    {
     "name": "stdout",
     "output_type": "stream",
     "text": [
      "In the low-dispersion environment 49.59% of the clicks transitioned within the same attribute, 14.48% transitioned within the same alternative, and the remaining 35.92% of clicks switched both the attribute and the alternative.\n"
     ]
    }
   ],
   "source": [
    "prop_alternative_based_clicks = np.mean(np.array(ld_hs_DC['nr_alternative_based_clicks'])/(np.array(ld_hs_DC['nr_clicks'])-1))\n",
    "prop_attribute_based_clicks = np.mean(np.array(ld_hs_DC['nr_attribute_based_clicks'])/(np.array(ld_hs_DC['nr_clicks'])-1))\n",
    "prop_other = 1 - (prop_alternative_based_clicks + prop_attribute_based_clicks)\n",
    "#ld_hs['transitions_within_alternative']\n",
    "\n",
    "print('In the low-dispersion environment {:.4}% of the clicks transitioned within the same attribute, {:.4}% transitioned within the same alternative, and the remaining {:.4}% of clicks switched both the attribute and the alternative.'.format(100*prop_attribute_based_clicks,100*prop_alternative_based_clicks,100*prop_other))"
   ]
  },
  {
   "cell_type": "code",
   "execution_count": 18,
   "metadata": {
    "collapsed": false
   },
   "outputs": [
    {
     "name": "stdout",
     "output_type": "stream",
     "text": [
      "The high-stakes policy inspected more than 1 outcome in 100.0% of the low-dispersion trials.\n",
      "The high-stakes policy inspected 0 outcomes in 0.0% of the low-dispersion trials.\n",
      "The high-stakes policy inspected 1 outcomes in 0.0% of the low-dispersion trials.\n",
      "The high-stakes policy inspected 2 outcomes in 8.0% of the low-dispersion trials.\n",
      "The high-stakes policy inspected 3 outcomes in 34.0% of the low-dispersion trials.\n",
      "The high-stakes policy inspected 4 outcomes in 57.99999999999999% of the low-dispersion trials.\n"
     ]
    },
    {
     "data": {
      "image/png": "[encoded data removed]",
      "text/plain": [
       "<matplotlib.figure.Figure at 0x7f4757c43be0>"
      ]
     },
     "metadata": {},
     "output_type": "display_data"
    }
   ],
   "source": [
    "plt.figure()\n",
    "plt.hist(ld_hs_DC['nr_inspected_outcomes'])\n",
    "plt.xlabel('Number of inspected outcomes')\n",
    "plt.ylabel('Frequency in %')\n",
    "\n",
    "#print(\"The high-stakes policy inspected more than 7 cells in {}% of the low-dispersion trials.\".format(100*np.mean(np.array(ld_hs['nr_clicks'])>7)))\n",
    "print(\"The high-stakes policy inspected more than 1 outcome in {}% of the low-dispersion trials.\".format(100*np.mean(np.array(ld_hs_DC['nr_inspected_outcomes'])>1)))\n",
    "\n",
    "for n in range(nr_outcomes+1):\n",
    "    print(\"The high-stakes policy inspected {} outcomes in {}% of the low-dispersion trials.\".format(n,100*np.mean(np.array(ld_hs_DC['nr_inspected_outcomes'])==n)))\n"
   ]
  },
  {
   "cell_type": "code",
   "execution_count": 22,
   "metadata": {
    "collapsed": false
   },
   "outputs": [
    {
     "name": "stdout",
     "output_type": "stream",
     "text": [
      "In    0.0% of the low-dispersion problems, the high-stakes policy considered only the most probably outcome.\n",
      "\n",
      "In the low-dispersion environment the BO policy made between 5 and 23 clicks. The average number of clicks was 14.0.\n",
      "\n",
      " Example: \n",
      "[[  0.277   0.257   0.248   0.218]\n",
      " [  4.      0.      0.      0.   ]\n",
      " [  0.      0.      0.      0.   ]\n",
      " [  2.      0.      0.      0.   ]\n",
      " [  0.      0.      0.      0.   ]\n",
      " [  5.      7.      8.     11.   ]\n",
      " [  1.      0.      0.      0.   ]\n",
      " [  3.      9.      6.     10.   ]]\n",
      "[[ 6.127  8.457  2.834  5.484]\n",
      " [ 4.228  6.202  1.155  5.912]\n",
      " [ 6.666  1.579  4.044  3.863]\n",
      " [ 5.359  5.52   4.961  5.547]\n",
      " [ 4.432  7.645  3.214  6.486]\n",
      " [ 1.433  8.413  5.743  6.088]\n",
      " [ 0.854  6.113  3.652  4.586]]\n"
     ]
    },
    {
     "data": {
      "image/png": "[encoded data removed]",
      "text/plain": [
       "<matplotlib.figure.Figure at 0x7f4757c59a58>"
      ]
     },
     "metadata": {},
     "output_type": "display_data"
    }
   ],
   "source": [
    "print(\"In {:6.3}% of the low-dispersion problems, the high-stakes policy considered only the most probably outcome.\".format(100*np.mean(ld_hs_DC['best_outcome_only'])))\n",
    "print(\"\")\n",
    "avg_nr_clicks_ld_hs_DC=np.mean(ld_hs_DC['nr_clicks'])\n",
    "min_nr_clicks_ld_hs_DC=np.min(ld_hs_DC['nr_clicks'])\n",
    "max_nr_clicks_ld_hs_DC=np.max(ld_hs_DC['nr_clicks'])\n",
    "\n",
    "print('In the low-dispersion environment the BO policy made between {} and {} clicks. The average number of clicks was {:4.3}.'.format(min_nr_clicks_ld_hs_DC,max_nr_clicks_ld_hs_DC,avg_nr_clicks_ld_hs_DC))\n",
    "\n",
    "plt.figure()\n",
    "plt.hist(ld_hs_DC['nr_clicks'])\n",
    "plt.xlabel('Number of clicks (out of 28)')\n",
    "plt.ylabel('Frequency out of 100')\n",
    "\n",
    "print(\"\\n Example: \")\n",
    "print(ld_hs_DC['p_grids'][2])\n",
    "print(ld_hs_envs[2].grid())"
   ]
  },
  {
   "cell_type": "markdown",
   "metadata": {},
   "source": [
    "## Properties of the high-stakes strategy in the low-dispersion environment\n",
    "\n",
    "In high-stakes decision problems where all outcomes are almost equally likely, the LC policy does not seem to correspond to any previously proposed decision strategy. Its click sequence agreed with TTB on only 1% of the decision problems, and it corresponded to WADD on 0/100 problems.\n",
    "\n",
    "Instead, it appears to shift between searching for promising alternatives and evaluating them in detail until it finds an alternative that it deems good enough. Inspecting its click-sequences suggested the following description:\n",
    "1. It starts inspected payoffs for the most likely outcome until it has found at least two promising gambles.\n",
    "1. It then aspects the payoffs of those gambles for the second most likely outcome.\n",
    "1. If those are similar and worse, then it continues to inspect the payoffs of these gambles for the third most likely outcome.\n",
    "1. When the gambles look no longer promising, it starts inspecting other gambles.\n",
    "1. If one of them has a promising payoff, it will collect more information about that gamble.\n",
    "1. If nothing is covnincing yet, it will inspect yet another new gamble.\n",
    "1. It stops when it becomes too unlikely that something better than the current best will be found eventually.\n",
    "\n",
    "In more quantitative terms, I found that the resource-rational strategy for environments were all outcomes are almost equally likely is qualitatively different from its counterpart for the environment where one outcome is much more likely than all others. Concretely, in contrast to the resource-rational strategy for the environment with high dispersion, this strategy was predominantly compensatory in that it considered more than 1 outcome for 98% of the problems. In fact, it considered all four possible outcomes in 67% of the decisions. Furthermore, the resource-rational strategy collected significantly more information in the low-dispersion environment  than in the high dispersion environment.\n",
    "Concretely, in the low-dispersion environment, it considered about 13 of the 28 payoffs on average (range: 5–21).\n",
    "\n",
    "As before, there was a trend for the strategy’s aspiration level to decrease as the number of unknown payoffs decreased."
   ]
  },
  {
   "cell_type": "code",
   "execution_count": 15,
   "metadata": {
    "collapsed": false
   },
   "outputs": [
    {
     "ename": "NameError",
     "evalue": "name 'expected_returns' is not defined",
     "output_type": "error",
     "traceback": [
      "\u001b[0;31m---------------------------------------------------------------------------\u001b[0m",
      "\u001b[0;31mNameError\u001b[0m                                 Traceback (most recent call last)",
      "\u001b[0;32m<ipython-input-15-1bb35a668b9f>\u001b[0m in \u001b[0;36m<module>\u001b[0;34m()\u001b[0m\n\u001b[0;32m----> 1\u001b[0;31m \u001b[0mnp\u001b[0m\u001b[0;34m.\u001b[0m\u001b[0mmin\u001b[0m\u001b[0;34m(\u001b[0m\u001b[0mexpected_returns\u001b[0m\u001b[0;34m[\u001b[0m\u001b[0mnr_clicks\u001b[0m\u001b[0;34m==\u001b[0m\u001b[0;36m18\u001b[0m\u001b[0;34m]\u001b[0m\u001b[0;34m)\u001b[0m\u001b[0;34m\u001b[0m\u001b[0m\n\u001b[0m",
      "\u001b[0;31mNameError\u001b[0m: name 'expected_returns' is not defined"
     ]
    }
   ],
   "source": [
    "np.min(expected_returns[nr_clicks==18])"
   ]
  },
  {
   "cell_type": "code",
   "execution_count": 16,
   "metadata": {
    "collapsed": false
   },
   "outputs": [
    {
     "name": "stdout",
     "output_type": "stream",
     "text": [
      "Aspiration level after 6 clicks: 7.558960042899113\n",
      "Aspiration level after 7 clicks: 7.481949231691408\n",
      "Aspiration level after 8 clicks: 6.441391400811116\n",
      "Aspiration level after 9 clicks: 6.196969426645201\n",
      "Aspiration level after 10 clicks: 6.7978547057325365\n",
      "Aspiration level after 11 clicks: 5.874293744783267\n",
      "Aspiration level after 12 clicks: 6.7092975978383915\n",
      "Aspiration level after 13 clicks: 6.423384559078686\n",
      "Aspiration level after 14 clicks: 6.17093650530383\n",
      "Aspiration level after 15 clicks: 6.147101149417115\n",
      "Aspiration level after 16 clicks: 6.235586112198034\n",
      "Aspiration level after 17 clicks: 5.80606457329951\n",
      "Aspiration level after 18 clicks: 5.436355529412874\n",
      "average aspiration level: $6.71\n",
      "average aspiration level: 0.57 standard deviations above mean\n"
     ]
    },
    {
     "data": {
      "image/png": "[encoded data removed]",
      "text/plain": [
       "<matplotlib.figure.Figure at 0x7fb6581d0160>"
      ]
     },
     "metadata": {},
     "output_type": "display_data"
    }
   ],
   "source": [
    "click_nrs = np.unique(ld_hs['nr_clicks'])\n",
    "nr_clicks = np.array(ld_hs['nr_clicks'])\n",
    "expected_returns = np.array(ld_hs['expected_term_rewards'])\n",
    "\n",
    "aspiration_levels = dict()\n",
    "\n",
    "for n in click_nrs[:-3]:\n",
    "    if np.sum(nr_clicks==n)>0:\n",
    "        print(\"Aspiration level after {} clicks: {}\".format(n,np.min(expected_returns[nr_clicks==n])))\n",
    "        aspiration_levels[n] = (np.min(expected_returns[nr_clicks==n])-mu_R_high_stakes)/sigma_R_high_stakes\n",
    "\n",
    "plt.figure()\n",
    "plt.plot(nr_alternatives*nr_outcomes-np.array([float(val) for val in aspiration_levels.keys()]),aspiration_levels.values())\n",
    "plt.ylabel('Aspiration Level (z-score)')\n",
    "plt.xlabel('Number uninspected cells')\n",
    "\n",
    "aspiration_level = np.min(expected_returns) #[np.array(ld_hs['nr_clicks'])]\n",
    "print('average aspiration level: ${:.3}'.format(np.mean(expected_returns)))\n",
    "print('average aspiration level: {:.3} standard deviations above mean'.format((np.mean(expected_returns)-mu_R_high_stakes)/sigma_R_high_stakes))"
   ]
  },
  {
   "cell_type": "markdown",
   "metadata": {},
   "source": [
    "# Low stakes, high dispersion"
   ]
  },
  {
   "cell_type": "code",
   "execution_count": 27,
   "metadata": {
    "collapsed": false
   },
   "outputs": [],
   "source": [
    "cost=.01\n",
    "reward = low_stakes\n",
    "hd_ls_envs =  [OldMouselabEnv(gambles, hd_dist(attributes), reward, cost) for _ in range(n_test)]\n",
    "\n",
    "term_action = hd_ls_DC_envs[0].term_action"
   ]
  },
  {
   "cell_type": "code",
   "execution_count": 28,
   "metadata": {
    "collapsed": false
   },
   "outputs": [],
   "source": [
    "hd_ls_DC = characterize_DC_strategy(hd_ls_envs)\n",
    "save_obj(hd_ls_DC,'DC_high_dispersion_low_stakes_1cents_separate')\n",
    "#hd_ls_DC=load_obj('high_dispersion_low_stakes_1cents_separate')\n",
    "#save_obj(hd_ls_DC,'high_dispersion_low_stakes_1cents')\n",
    "#hd_ls_DC=load_obj('high_dispersion_low_stakes_1cents')\n",
    "#save_obj(hd_ls_DC,'high_dispersion_low_stakes_3cents')"
   ]
  },
  {
   "cell_type": "code",
   "execution_count": 29,
   "metadata": {
    "collapsed": false
   },
   "outputs": [
    {
     "ename": "NameError",
     "evalue": "name 'hd_ls_DC_DC' is not defined",
     "output_type": "error",
     "traceback": [
      "\u001b[0;31m---------------------------------------------------------------------------\u001b[0m",
      "\u001b[0;31mNameError\u001b[0m                                 Traceback (most recent call last)",
      "\u001b[0;32m<ipython-input-29-5f910ea58937>\u001b[0m in \u001b[0;36m<module>\u001b[0;34m()\u001b[0m\n\u001b[1;32m      9\u001b[0m \u001b[0mmax_EV_hd_ls_DC\u001b[0m \u001b[0;34m=\u001b[0m \u001b[0mnp\u001b[0m\u001b[0;34m.\u001b[0m\u001b[0mmean\u001b[0m\u001b[0;34m(\u001b[0m\u001b[0mmax_EV\u001b[0m\u001b[0;34m)\u001b[0m\u001b[0;34m\u001b[0m\u001b[0m\n\u001b[1;32m     10\u001b[0m \u001b[0;34m\u001b[0m\u001b[0m\n\u001b[0;32m---> 11\u001b[0;31m \u001b[0mnp\u001b[0m\u001b[0;34m.\u001b[0m\u001b[0mmean\u001b[0m\u001b[0;34m(\u001b[0m\u001b[0mhd_ls_DC_DC\u001b[0m\u001b[0;34m[\u001b[0m\u001b[0;34m'returns'\u001b[0m\u001b[0;34m]\u001b[0m\u001b[0;34m)\u001b[0m\u001b[0;34m/\u001b[0m\u001b[0mmax_EV_hd_ls_DC\u001b[0m\u001b[0;34m\u001b[0m\u001b[0m\n\u001b[0m\u001b[1;32m     12\u001b[0m \u001b[0;34m\u001b[0m\u001b[0m\n\u001b[1;32m     13\u001b[0m \u001b[0mprint\u001b[0m\u001b[0;34m(\u001b[0m\u001b[0;34m\"The DC model reaps {:.4}% of the highest possible payoffs.\"\u001b[0m\u001b[0;34m.\u001b[0m\u001b[0mformat\u001b[0m\u001b[0;34m(\u001b[0m\u001b[0;36m100\u001b[0m\u001b[0;34m*\u001b[0m\u001b[0mnp\u001b[0m\u001b[0;34m.\u001b[0m\u001b[0mmean\u001b[0m\u001b[0;34m(\u001b[0m\u001b[0mhd_ls_DC_DC\u001b[0m\u001b[0;34m[\u001b[0m\u001b[0;34m'returns'\u001b[0m\u001b[0;34m]\u001b[0m\u001b[0;34m)\u001b[0m\u001b[0;34m/\u001b[0m\u001b[0mmax_EV_hd_ls_DC\u001b[0m\u001b[0;34m)\u001b[0m\u001b[0;34m)\u001b[0m\u001b[0;34m\u001b[0m\u001b[0m\n",
      "\u001b[0;31mNameError\u001b[0m: name 'hd_ls_DC_DC' is not defined"
     ]
    }
   ],
   "source": [
    "max_EV = np.array([])\n",
    "all_actions = np.arange(28)\n",
    "#for a in all_actions:\n",
    "#    test_envs_hd[0].step(a)\n",
    "\n",
    "for i in range(len(hd_ls_DC_envs)):\n",
    "    max_EV = np.append(max_EV,[expected_reward_of_termination(hd_ls_DC_envs[i],all_actions)])\n",
    "    \n",
    "max_EV_hd_ls_DC = np.mean(max_EV)\n",
    "\n",
    "np.mean(hd_ls_DC_DC['returns'])/max_EV_hd_ls_DC\n",
    "\n",
    "print(\"The DC model reaps {:.4}% of the highest possible payoffs.\".format(100*np.mean(hd_ls_DC_DC['returns'])/max_EV_hd_ls_DC))"
   ]
  },
  {
   "cell_type": "code",
   "execution_count": null,
   "metadata": {
    "collapsed": false
   },
   "outputs": [],
   "source": [
    "strategies['ls_hd']=dict()\n",
    "\n",
    "strategies['ls_hd']['TTB'] = np.array([])\n",
    "strategies['ls_hd']['WADD'] = np.array([])\n",
    "strategies['ls_hd']['SAT_TTB'] = np.array([])\n",
    "strategies['ls_hd']['random_choice'] = np.array([])\n",
    "strategies['ls_hd']['SAT_TTB2'] = np.array([])\n",
    "strategies['ls_hd']['SAT']=np.array([])\n",
    "strategies['ls_hd']['TTB2_plus']=np.array([])\n",
    "strategies['ls_hd']['SAT_TTB3'] = np.array([])\n",
    "strategies['ls_hd']['TTB_plus'] = np.array([])\n",
    "\n",
    "for i in range(n_test):\n",
    "    strategies['ls_hd']['TTB'] =  np.append(strategies['ls_hd']['TTB'], [hd_ls_DC['nr_clicks'][i]==nr_alternatives and hd_ls_DC['best_outcome_only'][i]])\n",
    "    strategies['ls_hd']['WADD']=  np.append(strategies['ls_hd']['WADD'],[hd_ls_DC['nr_clicks'][i]==nr_alternatives*nr_outcomes])\n",
    "    strategies['ls_hd']['SAT_TTB'] = np.append(strategies['ls_hd']['SAT_TTB'], [hd_ls_DC['best_outcome_only'][i] and hd_ls_DC['nr_clicks'][i]>0 and hd_ls_DC['nr_clicks'][i]<nr_alternatives])\n",
    "    strategies['ls_hd']['random_choice'] = np.append(strategies['ls_hd']['random_choice'], [hd_ls_DC['nr_clicks'][i]==0])\n",
    "    strategies['ls_hd']['SAT_TTB2']=np.append(strategies['ls_hd']['SAT_TTB2'],[np.logical_and(np.all(hd_ls_DC['p_ranks'][i]<=2), hd_ls_DC['nr_inspected_outcomes'][i]==2 and hd_ls_DC['nr_clicks'][i]<2*nr_alternatives) ])\n",
    "    strategies['ls_hd']['SAT_TTB3']=np.append(strategies['ls_hd']['SAT_TTB3'],[np.logical_and(np.all(hd_ls_DC['p_ranks'][i]<=3), hd_ls_DC['nr_inspected_outcomes'][i]==3 and hd_ls_DC['nr_clicks'][i]<3*nr_alternatives) ])\n",
    "    #strategies['ls_hd']['TTB2']=np.append(strategies['ls_hd']['TTB2'],[np.logical_and(np.all(hd_ls_DC['p_ranks'][i]<=2),  hd_ls_DC['nr_inspected_outcomes'][i]==2 and hd_ls_DC['nr_clicks'][i]==2*nr_alternatives)])\n",
    "    strategies['ls_hd']['TTB2_plus']=np.append(strategies['ls_hd']['TTB2_plus'],[np.logical_and(np.all(hd_ls_DC['p_ranks'][i][0:13]<=2),hd_ls_DC['nr_clicks'][i]>14)])\n",
    "    strategies['ls_hd']['TTB_plus']=np.append(strategies['ls_hd']['TTB_plus'],[np.logical_and(np.all(np.unique(hd_ls_DC['p_ranks'][i][:nr_alternatives-1])==[1]),hd_ls_DC['nr_clicks'][-1]>nr_alternatives)])\n",
    "    strategies['ls_hd']['SAT']=np.append(strategies['ls_hd']['SAT'],[np.logical_and(hd_ls_DC['nr_clicks'][i]>=4,hd_ls_DC['nr_alternative_based_clicks'][i]>=3*hd_ls_DC['nr_attribute_based_clicks'][i])])\n",
    "    \n",
    "    \n",
    "print(\"On {}% of the ls-hd trials the Directed Cognition model is random choice.\".format(100*np.mean(strategies['ls_hd']['random_choice'])))\n",
    "print(\"On {}% of the ls-hd trials the click squences of the Directed Cognition model were consistent with SAT-TTB.\".format(100*np.mean(strategies['ls_hd']['SAT_TTB'])))\n",
    "print(\"On {}% of the ls-hd trials the click squences of the Directed Cognition model were consistent with TTB.\".format(100*np.mean(strategies['ls_hd']['TTB'])))\n",
    "print(\"On {}% of the ls-hd trials the click squences of the Directed Cognition model was consistent with WADD.\".format(100*np.mean(strategies['ls_hd']['WADD'])))\n",
    "print(\"On {}% of the ls-hd trials the click squences of the Directed Cognition model was consistent with TTB+.\".format(100*np.mean(strategies['ls_hd']['TTB_plus'])))\n",
    "print(\"On {}% of the ls-hd trials the Directed Cognition model is SAT-TTB2.\".format(100*np.mean(strategies['ls_hd']['SAT_TTB2'])))\n",
    "print(\"On {}% of the ls-hd trials the Directed Cognition model is SAT-TTB3.\".format(100*np.mean(strategies['ls_hd']['SAT_TTB3'])))\n",
    "print(\"On {}% of the ls-hd trials the Directed Cognition model is SAT.\".format(100*np.mean(strategies['ls_hd']['SAT'])))\n",
    "print(\"On {}% of the ls-hd trials the Directed Cognition model is TTB2+.\".format(100*np.mean(strategies['ls_hd']['TTB2_plus'])))\n",
    "\n",
    "strategy_freq=dict()\n",
    "total = 0\n",
    "for strategy in strategies['ls_hd'].keys():\n",
    "    strategy_freq[strategy]=np.mean(strategies['ls_hd'][strategy])\n",
    "    total += strategy_freq[strategy]\n",
    "strategy_freq['other'] = 1-total\n",
    "\n",
    "strategy_frequencies['ls_hd']=strategy_freq"
   ]
  },
  {
   "cell_type": "code",
   "execution_count": 54,
   "metadata": {
    "collapsed": false
   },
   "outputs": [
    {
     "name": "stdout",
     "output_type": "stream",
     "text": [
      "In the high-dispersion environment 100.0% of the clicks transitioned within the same attribute, 0.0% transitioned within the same alternative, and the remaining 0.0% of clicks switched both the attribute and the alternative.\n"
     ]
    }
   ],
   "source": [
    "nr_clicks =np.array(hd_ls_DC['nr_clicks'])\n",
    "alternative_based = np.array(hd_ls_DC['nr_alternative_based_clicks'])\n",
    "attribute_based = np.array(hd_ls_DC['nr_attribute_based_clicks'])\n",
    "\n",
    "prop_alternative_based_clicks = np.mean(alternative_based[nr_clicks>1]/(nr_clicks[nr_clicks>1]-1))\n",
    "prop_attribute_based_clicks = np.mean(attribute_based[nr_clicks>1]/(nr_clicks[nr_clicks>1]-1))\n",
    "prop_other = 1 - (prop_alternative_based_clicks + prop_attribute_based_clicks)\n",
    "#ld_ls_DC['transitions_within_alternative']\n",
    "\n",
    "print('In the high-dispersion environment {:.4}% of the clicks transitioned within the same attribute, {:.4}% transitioned within the same alternative, and the remaining {:.4}% of clicks switched both the attribute and the alternative.'.format(100*prop_attribute_based_clicks,100*prop_alternative_based_clicks,100*prop_other))"
   ]
  },
  {
   "cell_type": "code",
   "execution_count": 26,
   "metadata": {
    "collapsed": false
   },
   "outputs": [
    {
     "name": "stdout",
     "output_type": "stream",
     "text": [
      "0\n",
      "The low-stakes policy inspected exactly 7 cells in 17.0% of the high-dispersion trials.\n",
      "The low-stakes policy inspected fewer than 7 cells in 83.0% of the high-dispersion trials.\n",
      "The low-stakes policy inspected more than 7 cells in 0.0% of the high-dispersion trials.\n",
      "The low-stakes policy inspected more than 1 outcome in 0.0% of the high-dispersion trials.\n"
     ]
    },
    {
     "data": {
      "image/png": "[encoded data removed]",
      "text/plain": [
       "<matplotlib.figure.Figure at 0x7fb660bb2d30>"
      ]
     },
     "metadata": {},
     "output_type": "display_data"
    }
   ],
   "source": [
    "plt.figure()\n",
    "plt.hist(hd_ls_DC['nr_inspected_outcomes'])\n",
    "plt.xlabel('Number of inspected outcomes')\n",
    "plt.ylabel('Frequency in %')\n",
    "\n",
    "print(np.sum(np.array(hd_ls_DC['nr_inspected_outcomes'])==2))\n",
    "\n",
    "print(\"The low-stakes policy inspected exactly 7 cells in {}% of the high-dispersion trials.\".format(100*np.mean(np.array(hd_ls_DC['nr_clicks'])==7)))\n",
    "print(\"The low-stakes policy inspected fewer than 7 cells in {}% of the high-dispersion trials.\".format(100*np.mean(np.array(hd_ls_DC['nr_clicks'])<7)))\n",
    "print(\"The low-stakes policy inspected more than 7 cells in {}% of the high-dispersion trials.\".format(100*np.mean(np.array(hd_ls_DC['nr_clicks'])>7)))\n",
    "print(\"The low-stakes policy inspected more than 1 outcome in {}% of the high-dispersion trials.\".format(100*np.mean(np.array(hd_ls_DC['nr_inspected_outcomes'])>1)))"
   ]
  },
  {
   "cell_type": "code",
   "execution_count": 56,
   "metadata": {
    "collapsed": false
   },
   "outputs": [
    {
     "name": "stdout",
     "output_type": "stream",
     "text": [
      "In  1e+02% of the high-dispersion problems, the low-stakes policy considered only the most probably outcome.\n",
      "\n",
      "In the high-dispersion environment the BO policy made between 1 and 7 clicks. The average number of clicks was 3.5.\n",
      "\n",
      " Example: \n",
      "[[ 0.02  0.94  0.02  0.02]\n",
      " [ 0.    3.    0.    0.  ]\n",
      " [ 0.    4.    0.    0.  ]\n",
      " [ 0.    1.    0.    0.  ]\n",
      " [ 0.    0.    0.    0.  ]\n",
      " [ 0.    5.    0.    0.  ]\n",
      " [ 0.    0.    0.    0.  ]\n",
      " [ 0.    2.    0.    0.  ]]\n",
      "[[ 0.178  0.099  0.12   0.208]\n",
      " [ 0.071  0.141  0.164  0.164]\n",
      " [ 0.181  0.108  0.08   0.178]\n",
      " [ 0.105  0.092  0.2    0.064]\n",
      " [ 0.193  0.203  0.103  0.196]\n",
      " [ 0.093  0.145  0.17   0.087]\n",
      " [ 0.138  0.135  0.104  0.085]]\n"
     ]
    },
    {
     "data": {
      "image/png": "[encoded data removed]",
      "text/plain": [
       "<matplotlib.figure.Figure at 0x7fc3e1e87d30>"
      ]
     },
     "metadata": {},
     "output_type": "display_data"
    }
   ],
   "source": [
    "print(\"In {:6.3}% of the high-dispersion problems, the low-stakes policy considered only the most probably outcome.\".format(100*np.mean(hd_ls_DC['best_outcome_only'])))\n",
    "print(\"\")\n",
    "avg_nr_clicks_hd_ls_DC=np.mean(hd_ls_DC['nr_clicks'])\n",
    "min_nr_clicks_hd_ls_DC=np.min(hd_ls_DC['nr_clicks'])\n",
    "max_nr_clicks_hd_ls_DC=np.max(hd_ls_DC['nr_clicks'])\n",
    "\n",
    "print('In the high-dispersion environment the BO policy made between {} and {} clicks. The average number of clicks was {:3.2}.'.format(min_nr_clicks_hd_ls_DC,max_nr_clicks_hd_ls_DC,avg_nr_clicks_hd_ls_DC))\n",
    "\n",
    "plt.figure()\n",
    "plt.hist(hd_ls_DC['nr_clicks'])\n",
    "plt.xlabel('Number of clicks (out of 28)')\n",
    "plt.ylabel('Frequency out of 100')\n",
    "\n",
    "print(\"\\n Example: \")\n",
    "print(hd_ls_DC['p_grids'][0])\n",
    "print(hd_ls_envs[0].grid())"
   ]
  },
  {
   "cell_type": "markdown",
   "metadata": {},
   "source": [
    "## Properties of the low-stakes strategy in the high-dispersion environment\n",
    "\n",
    "For a time cost of 0.5 cents per click the resource-rational strategy for the high-dispersion, low-stakes environment, is SAT-TTB or TTB in 100% of the trials. While this is similar to the high-dispersion, high-stakes condition, we also found a significant effect of the stakes: With lower stakes, the proportion of trials on which TTB is used decreases from 76% in the high-stakes condition to 39% in the low-stakes condition. Furthermore, strategies that inspect more than one attribute are no longer used in the low-stakes condition, and the average number of clicks decreases from 6.5 in the high-stakes conditoin to 4.5 clicks in the low-stakes condition."
   ]
  },
  {
   "cell_type": "code",
   "execution_count": 57,
   "metadata": {
    "collapsed": false
   },
   "outputs": [
    {
     "name": "stdout",
     "output_type": "stream",
     "text": [
      "Aspiration level after 1 clicks: 0.1731604561429821\n",
      "Aspiration level after 2 clicks: 0.17239385406488014\n",
      "Aspiration level after 3 clicks: 0.1832381686825606\n",
      "Aspiration level after 4 clicks: 0.1787720847867686\n",
      "Aspiration level after 5 clicks: 0.18364164764896287\n",
      "average aspiration level: $0.194\n",
      "average aspiration level: 0.891 standard deviations above mean\n"
     ]
    },
    {
     "data": {
      "image/png": "[encoded data removed]",
      "text/plain": [
       "<matplotlib.figure.Figure at 0x7fc3e20e0cf8>"
      ]
     },
     "metadata": {},
     "output_type": "display_data"
    }
   ],
   "source": [
    "click_nrs = np.unique(hd_ls_DC['nr_clicks'])\n",
    "nr_clicks = np.array(hd_ls_DC['nr_clicks'])\n",
    "expected_returns = np.array(hd_ls_DC['expected_term_rewards'])\n",
    "\n",
    "aspiration_levels = dict()\n",
    "\n",
    "for n in click_nrs[:-2]:\n",
    "    print(\"Aspiration level after {} clicks: {}\".format(n,np.min(expected_returns[nr_clicks==n])))\n",
    "    aspiration_levels[n] = (np.min(expected_returns[nr_clicks==n])-mu_R_low_stakes)/sigma_R_low_stakes\n",
    "\n",
    "plt.figure()\n",
    "plt.plot(nr_alternatives*nr_outcomes-np.array([float(val) for val in aspiration_levels.keys()]),aspiration_levels.values())\n",
    "plt.ylabel('Aspiration Level (z-score)')\n",
    "plt.xlabel('Number uninspected cells')\n",
    "\n",
    "aspiration_level_classical = np.min(expected_returns[np.array(hd_ls_DC['nr_clicks'])<nr_alternatives])\n",
    "aspiration_level = np.mean(expected_returns)\n",
    "print('average aspiration level: ${:.3}'.format(aspiration_level))\n",
    "print('average aspiration level: {:.3} standard deviations above mean'.format((aspiration_level-mu_R_low_stakes)/sigma_R_low_stakes))\n",
    "\n",
    "#hd_hs_DC['observations'][2]"
   ]
  },
  {
   "cell_type": "markdown",
   "metadata": {},
   "source": [
    "# Low stakes, low dispersion"
   ]
  },
  {
   "cell_type": "code",
   "execution_count": 30,
   "metadata": {
    "collapsed": false
   },
   "outputs": [],
   "source": [
    "cost = 0.01\n",
    "reward = low_stakes\n",
    "\n",
    "n_test=100\n",
    "ld_ls_envs = [OldMouselabEnv(gambles, ld_dist(attributes), reward, cost) for _ in range(n_test)]\n",
    "\n",
    "term_action = ld_ls_envs[0].term_action"
   ]
  },
  {
   "cell_type": "code",
   "execution_count": 31,
   "metadata": {
    "collapsed": false
   },
   "outputs": [],
   "source": [
    "ld_ls_DC = characterize_DC_strategy(ld_ls_envs)#\n",
    "save_obj(ld_ls_DC,'DC_low_dispersion_low_stakes_1cents-separate')\n",
    "#ld_ls_DC = load_obj('low_dispersion_low_stakes_1cents-separate')\n",
    "#ld_ls_DC = load_obj('low_dispersion_low_stakes_1cents')"
   ]
  },
  {
   "cell_type": "code",
   "execution_count": 32,
   "metadata": {
    "collapsed": false
   },
   "outputs": [
    {
     "name": "stdout",
     "output_type": "stream",
     "text": [
      "The resource-rational strategy reaps 77.08% of the highest possible payoffs.\n"
     ]
    }
   ],
   "source": [
    "max_EV = np.array([])\n",
    "all_actions = np.arange(28)\n",
    "#for a in all_actions:\n",
    "#    test_envs_hd[0].step(a)\n",
    "\n",
    "for i in range(len(ld_ls_envs)):\n",
    "    max_EV = np.append(max_EV,[expected_reward_of_termination(ld_ls_envs[i],all_actions)])\n",
    "    \n",
    "max_EV_ld_ls_DC = np.mean(max_EV)\n",
    "\n",
    "np.mean(ld_ls_DC['returns'])/max_EV_ld_ls_DC\n",
    "\n",
    "print(\"The resource-rational strategy reaps {:.4}% of the highest possible payoffs.\".format(100*np.mean(ld_ls_DC['returns'])/max_EV_ld_ls_DC))"
   ]
  },
  {
   "cell_type": "markdown",
   "metadata": {},
   "source": [
    "## Determine under which conditions the low-stakes policy inspects cells in the low-stakes, low-dispersion environment"
   ]
  },
  {
   "cell_type": "code",
   "execution_count": 33,
   "metadata": {
    "collapsed": false
   },
   "outputs": [
    {
     "name": "stdout",
     "output_type": "stream",
     "text": [
      "No cells are inspected if the largest probability is 0.3465 or smaller.\n"
     ]
    },
    {
     "data": {
      "text/plain": [
       "0.63"
      ]
     },
     "execution_count": 33,
     "metadata": {},
     "output_type": "execute_result"
    }
   ],
   "source": [
    "nr_trials = len(ld_ls_DC['nr_clicks'])\n",
    "\n",
    "#for t in range(nr_trials):\n",
    "np.array(ld_ls_DC['nr_clicks'])==0\n",
    "\n",
    "max_p = np.array([])\n",
    "for t in range(nr_trials):\n",
    "    max_p = np.append(max_p, [np.max(ld_ls_DC['p_grids'][t][0])])\n",
    "    \n",
    "\n",
    "print(\"No cells are inspected if the largest probability is {:.4} or smaller.\".format(np.max(max_p[np.array(ld_ls_DC['nr_clicks'])==0])))\n",
    "#print(\"Cells are inspected if the largest probability is at least {:.4}.\".format(np.min(max_p[np.array(ld_ls_DC['nr_clicks'])>0])))\n",
    "\n",
    "np.mean(np.array(ld_ls_DC['nr_clicks'])==0)\n",
    "\n",
    "#np.min(max_p)\n",
    "#np.array(ld_ls_DC['nr_clicks'])==0"
   ]
  },
  {
   "cell_type": "code",
   "execution_count": 34,
   "metadata": {
    "collapsed": false
   },
   "outputs": [
    {
     "name": "stdout",
     "output_type": "stream",
     "text": [
      "On 63.0% of the ls-ld trials the Directed Cognition model is random choice.\n",
      "On 32.0% of the ls-ld trials the click squences of the Directed Cognition model were consistent with SAT-TTB.\n",
      "On 0.0% of the ls-ld trials the click squences of the Directed Cognition model were consistent with TTB.\n",
      "On 0.0% of the ls-ld trials the click squences of the Directed Cognition model was consistent with WADD.\n",
      "On 0.0% of the ls-ld trials the click squences of the Directed Cognition model was consistent with TTB+.\n",
      "On 5.0% of the ls-ld trials the Directed Cognition model is SAT-TTB2.\n",
      "On 0.0% of the ls-ld trials the Directed Cognition model is SAT-TTB3.\n",
      "On 0.0% of the ls-ld trials the Directed Cognition model is SAT.\n",
      "On 0.0% of the ls-ld trials the Directed Cognition model is TTB2+.\n"
     ]
    }
   ],
   "source": [
    "strategies['ls_ld']=dict()\n",
    "\n",
    "strategies['ls_ld']['TTB'] = np.array([])\n",
    "strategies['ls_ld']['WADD'] = np.array([])\n",
    "strategies['ls_ld']['SAT_TTB'] = np.array([])\n",
    "strategies['ls_ld']['random_choice'] = np.array([])\n",
    "strategies['ls_ld']['SAT_TTB2'] = np.array([])\n",
    "strategies['ls_ld']['SAT']=np.array([])\n",
    "strategies['ls_ld']['TTB2_plus']=np.array([])\n",
    "strategies['ls_ld']['SAT_TTB3'] = np.array([])\n",
    "strategies['ls_ld']['TTB_plus'] = np.array([])\n",
    "\n",
    "for i in range(n_test):\n",
    "    strategies['ls_ld']['TTB'] =  np.append(strategies['ls_ld']['TTB'], [ld_ls_DC['nr_clicks'][i]==nr_alternatives and ld_ls_DC['best_outcome_only'][i]])\n",
    "    strategies['ls_ld']['WADD']=  np.append(strategies['ls_ld']['WADD'],[ld_ls_DC['nr_clicks'][i]==nr_alternatives*nr_outcomes])\n",
    "    strategies['ls_ld']['SAT_TTB'] = np.append(strategies['ls_ld']['SAT_TTB'], [ld_ls_DC['best_outcome_only'][i] and ld_ls_DC['nr_clicks'][i]>0 and ld_ls_DC['nr_clicks'][i]<nr_alternatives])\n",
    "    strategies['ls_ld']['random_choice'] = np.append(strategies['ls_ld']['random_choice'], [ld_ls_DC['nr_clicks'][i]==0])\n",
    "    strategies['ls_ld']['SAT_TTB2']=np.append(strategies['ls_ld']['SAT_TTB2'],[np.logical_and(np.all(ld_ls_DC['p_ranks'][i]<=2), ld_ls_DC['nr_inspected_outcomes'][i]==2 and ld_ls_DC['nr_clicks'][i]<2*nr_alternatives) ])\n",
    "    strategies['ls_ld']['SAT_TTB3']=np.append(strategies['ls_ld']['SAT_TTB3'],[np.logical_and(np.all(ld_ls_DC['p_ranks'][i]<=3), ld_ls_DC['nr_inspected_outcomes'][i]==3 and ld_ls_DC['nr_clicks'][i]<3*nr_alternatives) ])\n",
    "    #strategies['ls_ld']['TTB2']=np.append(strategies['ls_ld']['TTB2'],[np.logical_and(np.all(ld_ls_DC['p_ranks'][i]<=2),  ld_ls_DC['nr_inspected_outcomes'][i]==2 and ld_ls_DC['nr_clicks'][i]==2*nr_alternatives)])\n",
    "    strategies['ls_ld']['TTB2_plus']=np.append(strategies['ls_ld']['TTB2_plus'],[np.logical_and(np.all(ld_ls_DC['p_ranks'][i][0:13]<=2),ld_ls_DC['nr_clicks'][i]>14)])\n",
    "    strategies['ls_ld']['TTB_plus']=np.append(strategies['ls_ld']['TTB_plus'],[np.logical_and(np.all(np.unique(ld_ls_DC['p_ranks'][i][:nr_alternatives-1])==[1]),ld_ls_DC['nr_clicks'][-1]>nr_alternatives)])\n",
    "    strategies['ls_ld']['SAT']=np.append(strategies['ls_ld']['SAT'],[np.logical_and(ld_ls_DC['nr_clicks'][i]>=4,ld_ls_DC['nr_alternative_based_clicks'][i]>=3*ld_ls_DC['nr_attribute_based_clicks'][i])])\n",
    " \n",
    "\n",
    "print(\"On {}% of the ls-ld trials the Directed Cognition model is random choice.\".format(100*np.mean(strategies['ls_ld']['random_choice'])))\n",
    "print(\"On {}% of the ls-ld trials the click squences of the Directed Cognition model were consistent with SAT-TTB.\".format(100*np.mean(strategies['ls_ld']['SAT_TTB'])))\n",
    "print(\"On {}% of the ls-ld trials the click squences of the Directed Cognition model were consistent with TTB.\".format(100*np.mean(strategies['ls_ld']['TTB'])))\n",
    "print(\"On {}% of the ls-ld trials the click squences of the Directed Cognition model was consistent with WADD.\".format(100*np.mean(strategies['ls_ld']['WADD'])))\n",
    "print(\"On {}% of the ls-ld trials the click squences of the Directed Cognition model was consistent with TTB+.\".format(100*np.mean(strategies['ls_ld']['TTB_plus'])))\n",
    "print(\"On {}% of the ls-ld trials the Directed Cognition model is SAT-TTB2.\".format(100*np.mean(strategies['ls_ld']['SAT_TTB2'])))\n",
    "print(\"On {}% of the ls-ld trials the Directed Cognition model is SAT-TTB3.\".format(100*np.mean(strategies['ls_ld']['SAT_TTB3'])))\n",
    "print(\"On {}% of the ls-ld trials the Directed Cognition model is SAT.\".format(100*np.mean(strategies['ls_ld']['SAT'])))\n",
    "print(\"On {}% of the ls-ld trials the Directed Cognition model is TTB2+.\".format(100*np.mean(strategies['ls_ld']['TTB2_plus'])))\n",
    "\n",
    "strategy_freq=dict()\n",
    "total = 0\n",
    "for strategy in strategies['ls_ld'].keys():\n",
    "    strategy_freq[strategy]=np.mean(strategies['ls_ld'][strategy])\n",
    "    total += strategy_freq[strategy]\n",
    "strategy_freq['other'] = 1-total\n",
    "\n",
    "strategy_frequencies['ls_ld']=strategy_freq"
   ]
  },
  {
   "cell_type": "code",
   "execution_count": 66,
   "metadata": {
    "collapsed": false
   },
   "outputs": [
    {
     "name": "stdout",
     "output_type": "stream",
     "text": [
      "In the low-dispersion environment 95.99% of the clicks transitioned within the same attribute, 3.258% transitioned within the same alternative, and the remaining 0.7519% of clicks switched both the attribute and the alternative.\n"
     ]
    }
   ],
   "source": [
    "nr_clicks =np.array(ld_ls_DC['nr_clicks'])\n",
    "alternative_based = np.array(ld_ls_DC['nr_alternative_based_clicks'])\n",
    "attribute_based = np.array(ld_ls_DC['nr_attribute_based_clicks'])\n",
    "\n",
    "prop_alternative_based_clicks = np.mean(alternative_based[nr_clicks>1]/(nr_clicks[nr_clicks>1]-1))\n",
    "prop_attribute_based_clicks = np.mean(attribute_based[nr_clicks>1]/(nr_clicks[nr_clicks>1]-1))\n",
    "prop_other = 1 - (prop_alternative_based_clicks + prop_attribute_based_clicks)\n",
    "#ld_ls_DC['transitions_within_alternative']\n",
    "\n",
    "print('In the low-dispersion environment {:.4}% of the clicks transitioned within the same attribute, {:.4}% transitioned within the same alternative, and the remaining {:.4}% of clicks switched both the attribute and the alternative.'.format(100*prop_attribute_based_clicks,100*prop_alternative_based_clicks,100*prop_other))"
   ]
  },
  {
   "cell_type": "code",
   "execution_count": 67,
   "metadata": {
    "collapsed": false
   },
   "outputs": [
    {
     "name": "stdout",
     "output_type": "stream",
     "text": [
      "The low-stakes policy inspected more than 7 cells in 1.0% of the low-dispersion trials.\n",
      "The low-stakes policy inspected more than 1 outcome in 2.0% of the low-dispersion trials.\n"
     ]
    },
    {
     "data": {
      "image/png": "[encoded data removed]",
      "text/plain": [
       "<matplotlib.figure.Figure at 0x7fc3e2246f60>"
      ]
     },
     "metadata": {},
     "output_type": "display_data"
    }
   ],
   "source": [
    "plt.figure()\n",
    "plt.hist(ld_ls_DC['nr_inspected_outcomes'])\n",
    "plt.xlabel('Number of inspected outcomes')\n",
    "plt.ylabel('Frequency in %')\n",
    "\n",
    "print(\"The low-stakes policy inspected more than 7 cells in {}% of the low-dispersion trials.\".format(100*np.mean(np.array(ld_ls_DC['nr_clicks'])>7)))\n",
    "print(\"The low-stakes policy inspected more than 1 outcome in {}% of the low-dispersion trials.\".format(100*np.mean(np.array(ld_ls_DC['nr_inspected_outcomes'])>1)))"
   ]
  },
  {
   "cell_type": "code",
   "execution_count": 68,
   "metadata": {
    "collapsed": false
   },
   "outputs": [
    {
     "name": "stdout",
     "output_type": "stream",
     "text": [
      "In   98.0% of the low-dispersion problems, the low-stakes policy considered only the most probable outcome.\n",
      "\n",
      "In the low-dispersion environment the BO policy made between 0 and 8 clicks. The average number of clicks was 0.71.\n",
      "\n",
      "On 13.0% of the low-stakes, low-dispersion environment the LC policy inspected only a single payoff.\n",
      "\n",
      "On 8.0% of the low-stakes, low-dispersion environment the LC policy inspected only two payoffs.\n",
      "\n",
      " Example: \n",
      "[[ 0.39  0.27  0.12  0.22]\n",
      " [ 0.    0.    0.    0.  ]\n",
      " [ 0.    0.    0.    0.  ]\n",
      " [ 0.    0.    0.    0.  ]\n",
      " [ 0.    0.    0.    0.  ]\n",
      " [ 0.    0.    0.    0.  ]\n",
      " [ 0.    0.    0.    0.  ]\n",
      " [ 1.    0.    0.    0.  ]]\n",
      "[[ 0.028  0.109  0.143  0.134]\n",
      " [ 0.112  0.107  0.237  0.135]\n",
      " [ 0.083  0.215  0.233  0.207]\n",
      " [ 0.19   0.066  0.169  0.087]\n",
      " [ 0.107  0.209  0.184  0.098]\n",
      " [ 0.113  0.136  0.193  0.086]\n",
      " [ 0.192  0.104  0.104  0.197]]\n"
     ]
    },
    {
     "data": {
      "image/png": "[encoded data removed]",
      "text/plain": [
       "<matplotlib.figure.Figure at 0x7fc3e229ca58>"
      ]
     },
     "metadata": {},
     "output_type": "display_data"
    }
   ],
   "source": [
    "print(\"In {:6.3}% of the low-dispersion problems, the low-stakes policy considered only the most probable outcome.\".format(100*np.mean(ld_ls_DC['best_outcome_only'])))\n",
    "print(\"\")\n",
    "avg_nr_clicks_ld_ls_DC=np.mean(ld_ls_DC['nr_clicks'])\n",
    "min_nr_clicks_ld_ls_DC=np.min(ld_ls_DC['nr_clicks'])\n",
    "max_nr_clicks_ld_ls_DC=np.max(ld_ls_DC['nr_clicks'])\n",
    "\n",
    "print('In the low-dispersion environment the BO policy made between {} and {} clicks. The average number of clicks was {:3.2}.'.format(min_nr_clicks_ld_ls_DC,max_nr_clicks_ld_ls_DC,avg_nr_clicks_ld_ls_DC))\n",
    "\n",
    "print('\\nOn {}% of the low-stakes, low-dispersion environment the LC policy inspected only a single payoff.'.format(100*np.mean(np.array(ld_ls_DC['nr_clicks'])==1))) \n",
    "print('\\nOn {}% of the low-stakes, low-dispersion environment the LC policy inspected only two payoffs.'.format(100*np.mean(np.array(ld_ls_DC['nr_clicks'])==2))) \n",
    "\n",
    "\n",
    "plt.figure()\n",
    "plt.hist(ld_ls_DC['nr_clicks'],bins=np.arange(0.5,np.max(ld_ls_DC['nr_clicks'])+0.5,1))\n",
    "plt.xlabel('Number of clicks (out of 28)')\n",
    "plt.ylabel('Frequency out of 100')\n",
    "\n",
    "print(\"\\n Example: \")\n",
    "print(ld_ls_DC['p_grids'][13])\n",
    "print(ld_ls_envs[13].grid())"
   ]
  },
  {
   "cell_type": "markdown",
   "metadata": {},
   "source": [
    "## Properties of the low-stakes strategy in the low-dispersion environment\n",
    "\n",
    "In the *low-stakes, low-dispersion environment* with a cost of 0.5 cents per click, SAT-TTB was resource-rational for 69% of the problems. TTB was resource-rational for 6% of those problems. This means that for 63% of the problems SAT-TTB was resource-rational and did not inspect all of the outcomes. Neither random choice or WADD were resource-rational for any of these problems.\n",
    "\n",
    "Comparing these numbers to the high-dispersion environment with low-stakes reveals a 31% decrease in the use of SAT-TTB for low-dispersion compared to high-dispersion. This makes sense given that SAT-TTB is a non-compensatory strategy. \n",
    "\n",
    "Despite all outcomes being almost equally likely, the resource-rational strategy was predominantly attribute-based rather than alternative based: 68.6% of the clicks transitioned within the same attribute whereas only 0.6604% transitioned within the same alternative, and the remaining 30.74% of clicks switched both the attribute and the alternative.\n",
    "\n",
    "The number of clicks ranged from 1 to 12, and the average number of clicks was 4.1. Consistent with the small number of clicks, the aspiration level was consistently low -- at most requiring the payoff to be at last 0.154 standard deviations above the mean. This is 9 clicks fewer than in the condition with high-stakes and low-dispersion. This illustrates the effect of stakes on the resource-rational planning.\n",
    "\n",
    "In the 31% of problems where SAT-TTB was not used, it started with SAT-TTB, encountered a near-tie between two promising gambles and then started inspected those gambles' payoffs for other outcomes. Interestingly, in resolving those ties, the LC policy often inspected an additional payoff of the second-best gamble. If that payoff was low, then the it was ruled out and the current-best gamble was chosen. If the second-best gamble's second payoff was similar to the first one, then the LC policy inspected a second payoff for the current-best gamble, and so on."
   ]
  },
  {
   "cell_type": "code",
   "execution_count": null,
   "metadata": {
    "collapsed": false,
    "scrolled": true
   },
   "outputs": [],
   "source": [
    "click_nrs = np.unique(ld_ls_DC['nr_clicks'])\n",
    "nr_clicks = np.array(ld_ls_DC['nr_clicks'])\n",
    "expected_returns = np.array(ld_ls_DC['expected_term_rewards'])\n",
    "\n",
    "aspiration_levels = dict()\n",
    "\n",
    "for n in click_nrs[:-2]:\n",
    "    print(\"Aspiration level after {} clicks: {}\".format(n,np.min(expected_returns[nr_clicks==n])))\n",
    "    aspiration_levels[n] = (np.min(expected_returns[nr_clicks==n])-mu_R_low_stakes)/sigma_R_low_stakes\n",
    "\n",
    "plt.figure()\n",
    "plt.plot(nr_alternatives*nr_outcomes-np.array([float(val) for val in aspiration_levels.keys()]),aspiration_levels.values())\n",
    "plt.ylabel('Aspiration Level (z-score)')\n",
    "plt.xlabel('Number uninspected cells')\n",
    "\n",
    "aspiration_level_classical = np.min(expected_returns[np.array(ld_ls_DC['nr_clicks'])<nr_alternatives])\n",
    "aspiration_level = np.mean(expected_returns)\n",
    "print('average aspiration level: ${:.3}'.format(aspiration_level))\n",
    "print('average aspiration level: {:.3} standard deviations above mean'.format((aspiration_level-mu_R_low_stakes)/sigma_R_low_stakes))\n",
    "(aspiration_level-mu_R_low_stakes)/(sigma_R_low_stakes)"
   ]
  },
  {
   "cell_type": "code",
   "execution_count": null,
   "metadata": {
    "collapsed": false
   },
   "outputs": [],
   "source": [
    "ld_ls_envs = [OldMouselabEnv(gambles, ld_dist(attributes), reward, cost) for _ in range(n_test)]\n",
    "\n",
    "bo_pol_theta_prev = np.load('data/low_stakes_1cents-previous.npy')\n",
    "bo_pol_prev = LiederPolicy(list(bo_pol_theta_prev))\n",
    "\n",
    "traces_prev_ld = run_policy(bo_pol_prev,ld_ls_envs)\n",
    "traces_cur_ld = run_policy(bo_pol_low_stakes,ld_ls_envs)"
   ]
  },
  {
   "cell_type": "code",
   "execution_count": null,
   "metadata": {
    "collapsed": false
   },
   "outputs": [],
   "source": [
    "hd_ls_DC_envs = [OldMouselabEnv(gambles, hd_dist(attributes), reward, cost) for _ in range(n_test)]\n",
    "\n",
    "traces_prev_hd = run_policy(bo_pol_prev,hd_ls_DC_envs)\n",
    "traces_cur_hd = run_policy(bo_pol_low_stakes,hd_ls_DC_envs)"
   ]
  },
  {
   "cell_type": "code",
   "execution_count": 32,
   "metadata": {
    "collapsed": false
   },
   "outputs": [
    {
     "name": "stdout",
     "output_type": "stream",
     "text": [
      "prev: 0.13003107979458264 +/- 0.0010507421248474847 vs. current: 0.1254577079980329 +/- 0.002014986165049964\n"
     ]
    }
   ],
   "source": [
    "net_performance_prev = np.array([])\n",
    "net_performance_cur = np.array([])\n",
    "\n",
    "for trace in traces_prev_ld:\n",
    "    net_performance_prev = np.append(net_performance_prev,trace['util'])\n",
    "    \n",
    "for trace in traces_cur_ld:\n",
    "    net_performance_cur = np.append(net_performance_cur,trace['util'])\n",
    "\n",
    "print(\"low-dispersion: prev: {} +/- {} vs. current: {} +/- {}\".format(np.mean(net_performance_prev),np.std(net_performance_prev)/np.sqrt(n_test),np.mean(net_performance_cur),np.std(net_performance_cur)/np.sqrt(n_test)))\n"
   ]
  },
  {
   "cell_type": "code",
   "execution_count": 34,
   "metadata": {
    "collapsed": false
   },
   "outputs": [
    {
     "name": "stdout",
     "output_type": "stream",
     "text": [
      "high-dispersion: prev: 0.15562021490394579 +/- 0.0037600059304832645 vs. current: 0.15606472019666456 +/- 0.0036380654678772424\n"
     ]
    }
   ],
   "source": [
    "net_performance_prev = np.array([])\n",
    "net_performance_cur = np.array([])\n",
    "\n",
    "for trace in traces_prev_hd:\n",
    "    net_performance_prev = np.append(net_performance_prev,trace['util'])\n",
    "    \n",
    "for trace in traces_cur_hd:\n",
    "    net_performance_cur = np.append(net_performance_cur,trace['util'])\n",
    "\n",
    "print(\"high-dispersion: prev: {} +/- {} vs. current: {} +/- {}\".format(np.mean(net_performance_prev),np.std(net_performance_prev)/np.sqrt(n_test),np.mean(net_performance_cur),np.std(net_performance_cur)/np.sqrt(n_test)))\n"
   ]
  },
  {
   "cell_type": "markdown",
   "metadata": {},
   "source": [
    "## Save predictions"
   ]
  },
  {
   "cell_type": "code",
   "execution_count": 35,
   "metadata": {
    "collapsed": true
   },
   "outputs": [],
   "source": [
    "save_obj(strategy_frequencies, 'strategy_frequencies_DC')"
   ]
  },
  {
   "cell_type": "markdown",
   "metadata": {},
   "source": [
    "## Humans"
   ]
  },
  {
   "cell_type": "code",
   "execution_count": 7,
   "metadata": {
    "collapsed": false
   },
   "outputs": [],
   "source": [
    "strategy_frequencies_human = dict()\n",
    "human=dict()\n",
    "human['hs_hd']=[0.3340,    0.0100,    0.1480,    0.0940,    0.0180,         0,    0.0120,    0.0080,    0.2440,    0.1320]\n",
    "human['hs_ld']=[0.0380,    0.0300,    0.0580,    0.1300,    0.0900,    0.0240,    0.0440,    0.0600,    0.1460,    0.3800]\n",
    "human['ls_hd']=[0.2120,         0,    0.3760,    0.3140,    0.0220,         0,         0,    0.0020,    0.0240,    0.0500]\n",
    "human['ls_ld']=[0.0220,         0,    0.1240,    0.4140,    0.1400,    0.0040,    0.0020,    0.0680,    0.0260,    0.2000]\n",
    "\n",
    "conditions=['hs_hd','hs_ld','ls_hd','ls_ld']\n",
    "strategy_names=['TTB', 'WADD', 'SAT_TTB', 'random_choice', 'SAT_TTB2', 'SAT', 'TTB2_plus', 'SAT_TTB3','TTB_plus', 'other']\n",
    "\n",
    "\n",
    "for condition in conditions:\n",
    "    i=0\n",
    "    strategy_frequencies_human[condition] = dict()\n",
    "    for name in strategy_names:\n",
    "        strategy_frequencies_human[condition][name]=human[condition][i]\n",
    "        i=i+1\n",
    "        \n",
    "save_obj(strategy_frequencies_human, 'strategy_frequencies_human')"
   ]
  },
  {
   "cell_type": "markdown",
   "metadata": {},
   "source": [
    "## Summary statistics"
   ]
  },
  {
   "cell_type": "code",
   "execution_count": null,
   "metadata": {
    "collapsed": false
   },
   "outputs": [],
   "source": [
    "(avg_nr_clicks_hd_hs_DC+avg_nr_clicks_ld_hs)/2"
   ]
  },
  {
   "cell_type": "code",
   "execution_count": null,
   "metadata": {
    "collapsed": false
   },
   "outputs": [],
   "source": [
    "(avg_nr_clicks_hd_ls_DC+avg_nr_clicks_ld_ls_DC)/2"
   ]
  },
  {
   "cell_type": "code",
   "execution_count": null,
   "metadata": {
    "collapsed": false
   },
   "outputs": [],
   "source": [
    "[[avg_nr_clicks_ld_ls_DC,avg_nr_clicks_hd_ls_DC],[avg_nr_clicks_ld_hs,avg_nr_clicks_hd_hs_DC]]"
   ]
  },
  {
   "cell_type": "code",
   "execution_count": 43,
   "metadata": {
    "collapsed": false
   },
   "outputs": [
    {
     "data": {
      "text/plain": [
       "[[0.13, 0.15886276944240951], [6.535338430287462, 7.7737579642570394]]"
      ]
     },
     "execution_count": 43,
     "metadata": {},
     "output_type": "execute_result"
    }
   ],
   "source": [
    "[[np.mean(ld_ls_DC['returns']),np.mean(hd_ls_DC['returns'])],[np.mean(ld_hs['returns']),np.mean(hd_hs_DC['returns'])]]"
   ]
  },
  {
   "cell_type": "code",
   "execution_count": 45,
   "metadata": {
    "collapsed": false
   },
   "outputs": [
    {
     "data": {
      "text/plain": [
       "[[0.8461538461538461, 0.8750000000000001],\n",
       " [0.8837920489296637, 0.9292149292149292]]"
      ]
     },
     "execution_count": 45,
     "metadata": {},
     "output_type": "execute_result"
    }
   ],
   "source": [
    "[[0.11/0.13,0.14/0.16],[5.78/6.54,7.22/7.77]]"
   ]
  },
  {
   "cell_type": "code",
   "execution_count": 46,
   "metadata": {
    "collapsed": false
   },
   "outputs": [
    {
     "data": {
      "text/plain": [
       "0.88354020607460981"
      ]
     },
     "execution_count": 46,
     "metadata": {},
     "output_type": "execute_result"
    }
   ],
   "source": [
    "np.mean(np.array([0.8461538461538461, 0.8750000000000001,0.8837920489296637, 0.9292149292149292]))"
   ]
  },
  {
   "cell_type": "code",
   "execution_count": 47,
   "metadata": {
    "collapsed": false
   },
   "outputs": [
    {
     "data": {
      "text/plain": [
       "0.86057692307692313"
      ]
     },
     "execution_count": 47,
     "metadata": {},
     "output_type": "execute_result"
    }
   ],
   "source": [
    "np.mean([0.8461538461538461, 0.8750000000000001])"
   ]
  },
  {
   "cell_type": "code",
   "execution_count": 48,
   "metadata": {
    "collapsed": false
   },
   "outputs": [
    {
     "data": {
      "text/plain": [
       "0.9065034890722965"
      ]
     },
     "execution_count": 48,
     "metadata": {},
     "output_type": "execute_result"
    }
   ],
   "source": [
    "np.mean([0.8837920489296637, 0.9292149292149292])"
   ]
  },
  {
   "cell_type": "code",
   "execution_count": 49,
   "metadata": {
    "collapsed": false
   },
   "outputs": [
    {
     "data": {
      "text/plain": [
       "0.86497294754175491"
      ]
     },
     "execution_count": 49,
     "metadata": {},
     "output_type": "execute_result"
    }
   ],
   "source": [
    "np.mean([0.8461538461538461, 0.8837920489296637])"
   ]
  },
  {
   "cell_type": "code",
   "execution_count": 50,
   "metadata": {
    "collapsed": false
   },
   "outputs": [
    {
     "data": {
      "text/plain": [
       "0.90210746460746472"
      ]
     },
     "execution_count": 50,
     "metadata": {},
     "output_type": "execute_result"
    }
   ],
   "source": [
    "np.mean([0.8750000000000001, 0.9292149292149292])"
   ]
  },
  {
   "cell_type": "code",
   "execution_count": null,
   "metadata": {
    "collapsed": true
   },
   "outputs": [],
   "source": []
  }
 ],
 "metadata": {
  "kernelspec": {
   "display_name": "Python 3",
   "language": "python",
   "name": "python3"
  },
  "language_info": {
   "codemirror_mode": {
    "name": "ipython",
    "version": 3
   },
   "file_extension": ".py",
   "mimetype": "text/x-python",
   "name": "python",
   "nbconvert_exporter": "python",
   "pygments_lexer": "ipython3",
   "version": "3.6.3"
  }
 },
 "nbformat": 4,
 "nbformat_minor": 2
}
