{
 "cells": [
  {
   "cell_type": "markdown",
   "metadata": {},
   "source": [
    "# Approximate value function\n",
    "*This notebook is full of undocumented and broken code.*"
   ]
  },
  {
   "cell_type": "code",
   "execution_count": 24,
   "metadata": {
    "collapsed": false
   },
   "outputs": [
    {
     "name": "stdout",
     "output_type": "stream",
     "text": [
      "The autoreload extension is already loaded. To reload it, use:\n",
      "  %reload_ext autoreload\n"
     ]
    }
   ],
   "source": [
    "%matplotlib inline\n",
    "%load_ext autoreload\n",
    "%autoreload 2\n",
    "\n",
    "import matplotlib.pyplot as plt\n",
    "import numpy as np\n",
    "import pandas as pd\n",
    "import seaborn as sns\n",
    "sns.set_style('whitegrid')\n",
    "sns.set_context('notebook', font_scale=1.5)\n",
    "import itertools as it\n",
    "from collections import Counter, defaultdict, deque\n",
    "from toolz.curried import memoize, get\n",
    "from random import choice\n",
    "from tqdm import tqdm_notebook as tqdm"
   ]
  },
  {
   "cell_type": "markdown",
   "metadata": {},
   "source": [
    "# Imported from MetaTree"
   ]
  },
  {
   "cell_type": "code",
   "execution_count": 25,
   "metadata": {
    "collapsed": false
   },
   "outputs": [],
   "source": [
    "# Plotting decision trees\n",
    "from IPython.display import display\n",
    "from meta_tree import MetaTree\n",
    "from IPython.display import Image\n",
    "COLOR = {None: 'grey', np.inf: 'grey', 1: '#dd4444', 0: '#5555ee'}\n",
    "from graphviz import Digraph\n",
    "def draw_tree(state):\n",
    "    dot = Digraph()\n",
    "    for x, ys in enumerate(mt.tree):\n",
    "        c = COLOR[state[x]]\n",
    "        dot.node(str(x), style='filled', color=c)\n",
    "        for y in ys:\n",
    "            dot.edge(str(x), str(y))\n",
    "    display(dot)"
   ]
  },
  {
   "cell_type": "code",
   "execution_count": 5,
   "metadata": {
    "collapsed": false
   },
   "outputs": [
    {
     "ename": "TypeError",
     "evalue": "identity() takes 1 positional argument but 2 were given",
     "output_type": "error",
     "traceback": [
      "\u001b[0;31m---------------------------------------------------------------------------\u001b[0m",
      "\u001b[0;31mTypeError\u001b[0m                                 Traceback (most recent call last)",
      "\u001b[0;32m<ipython-input-5-2dfa431c2a58>\u001b[0m in \u001b[0;36m<module>\u001b[0;34m()\u001b[0m\n\u001b[1;32m      1\u001b[0m \u001b[0;32mfrom\u001b[0m \u001b[0mtoolz\u001b[0m \u001b[0;32mimport\u001b[0m \u001b[0midentity\u001b[0m\u001b[0;34m\u001b[0m\u001b[0m\n\u001b[0;32m----> 2\u001b[0;31m \u001b[0midentity\u001b[0m\u001b[0;34m(\u001b[0m\u001b[0;36m1\u001b[0m\u001b[0;34m,\u001b[0m \u001b[0;36m2\u001b[0m\u001b[0;34m)\u001b[0m\u001b[0;34m\u001b[0m\u001b[0m\n\u001b[0m",
      "\u001b[0;31mTypeError\u001b[0m: identity() takes 1 positional argument but 2 were given"
     ]
    }
   ],
   "source": [
    "from toolz import identity\n",
    "identity(1, 2)"
   ]
  },
  {
   "cell_type": "code",
   "execution_count": 26,
   "metadata": {
    "collapsed": false
   },
   "outputs": [
    {
     "name": "stdout",
     "output_type": "stream",
     "text": [
      "Value: 1.80625\n",
      "Computations: {'q': 513, 'v': 171}\n"
     ]
    }
   ],
   "source": [
    "def sort_tree(mt, state):\n",
    "    \"\"\"Breaks symmetry between belief states.\n",
    "    \n",
    "    This is done by enforcing that the knowldge about states at each\n",
    "    depth be sorted by [0, 1, UNKNOWN]\n",
    "    \"\"\"\n",
    "    state = list(state)\n",
    "    for i in range(len(mt.tree) - 1, -1, -1):\n",
    "        if not mt.tree[i]:\n",
    "            continue  # \n",
    "        c1, c2 = mt.tree[i]\n",
    "        if not (mt.subtree(state, c1) <= mt.subtree(state, c2)):\n",
    "            diff = c2 - c1\n",
    "            for j in range(c1, c2):\n",
    "                state[j], state[j+diff] = state[j+diff], state[j]\n",
    "    return tuple(state)\n",
    "\n",
    "def solve(mdp, hash_state=None, actions=None):\n",
    "    \"\"\"Returns Q, V, pi, and computation data for an mdp.\"\"\"\n",
    "    if actions is None:\n",
    "        actions = mdp.actions\n",
    "    if hash_state is None:\n",
    "        hash_state = lambda s: sort_tree(mt, s)\n",
    "    info = {  # track number of times each function is called\n",
    "        'q': 0,\n",
    "        'v': 0\n",
    "    }\n",
    "\n",
    "    @memoize\n",
    "    def Q(s, a):\n",
    "        info['q'] += 1\n",
    "        return sum(p * (r + V(s1)) for p, s1, r in mdp.results(s, a))\n",
    "\n",
    "    def hash_key(args, kwargs):\n",
    "        s = args[0]\n",
    "        if s is None:\n",
    "            return s\n",
    "        else:\n",
    "            return hash_state(args[0])\n",
    "\n",
    "    if hash_state is None:\n",
    "        hash_key = None\n",
    "        \n",
    "    @memoize(key=hash_key)\n",
    "    def V(s):\n",
    "        if s is None:\n",
    "            return 0\n",
    "        info['v'] += 1\n",
    "        return max(Q(s, a) for a in actions(s))\n",
    "    \n",
    "    @memoize\n",
    "    def pi(s):\n",
    "        return max(actions(s), key=lambda a: Q(s, a))\n",
    "    \n",
    "    return Q, V, pi, info\n",
    "\n",
    "mt = MetaTree(2, 2, cost=-.1)\n",
    "Q, V, pi, info = solve(mt)  # note: no computation actually happens here.\n",
    "print('Value:', V(mt.init))  # calling V(mt.init) runs the algorithm\n",
    "print('Computations:', info)"
   ]
  },
  {
   "cell_type": "markdown",
   "metadata": {},
   "source": [
    "# Distributions\n",
    "Code for handling probability distributions of possible\n",
    " outcomes of observations."
   ]
  },
  {
   "cell_type": "code",
   "execution_count": 41,
   "metadata": {
    "collapsed": false
   },
   "outputs": [],
   "source": [
    "\n",
    "\n",
    "def cross(d1, d2, f):\n",
    "    outcomes = Counter()\n",
    "    for ((p1, o1), (p2, o2)) in it.product(d1, d2):\n",
    "        outcomes[f(o1, o2)] += p1 * p2\n",
    "    return [(p, v) for v, p in outcomes.items()]\n",
    "\n",
    "\n",
    "def expectation(dist):\n",
    "    return sum(p * v for p, v in dist)\n",
    "\n",
    "OBS = 'OBS'  # indicates a node that will be observed\n",
    "def outcomes(mt, state, n):\n",
    "    d = []\n",
    "    if state[n] == OBS:\n",
    "        for r in mt.outcomes:\n",
    "            d.append((mt.outcome_prob, r))\n",
    "    elif state[n] is mt.unknown:\n",
    "        d.append((1, mt.expected_outcome))\n",
    "    else:\n",
    "        d.append((1, state[n]))\n",
    "    return d\n",
    "\n",
    "def info_V_dist(mt, state, n):\n",
    "    def rec(p, s):\n",
    "        if mt.tree[s]:\n",
    "            # assume 2 branch\n",
    "            child_vs = [list(rec(p * 0.5, s1)) for s1 in mt.tree[s]]\n",
    "            v_dist = cross(*child_vs, f=max)\n",
    "            r_dist = outcomes(mt, state, s)\n",
    "#             print(s, r_dist, v_dist, child_vs)\n",
    "            yield from cross(r_dist, v_dist, f=lambda x, y: x+y)\n",
    "        else:\n",
    "            yield from outcomes(mt, state, s)\n",
    "    return list(rec(1, n))"
   ]
  },
  {
   "cell_type": "markdown",
   "metadata": {},
   "source": [
    "# Features"
   ]
  },
  {
   "cell_type": "code",
   "execution_count": 56,
   "metadata": {
    "collapsed": false
   },
   "outputs": [
    {
     "data": {
      "text/plain": [
       "(0.1499999999999999, 0.25)"
      ]
     },
     "execution_count": 56,
     "metadata": {},
     "output_type": "execute_result"
    }
   ],
   "source": [
    "def VOC1(mt, state, action):\n",
    "    val_term_next = sum(p * (r + mt.term_value(s1))\n",
    "        for p, s1, r in mt.results(state, action))\n",
    "    return val_term_next - mt.term_value(state)\n",
    "\n",
    "def VOC1_alt(mt, state, action):\n",
    "    return VOI(mt, state, [action])\n",
    "\n",
    "# VOC1_alt(mt, state, 6)\n",
    "    \n",
    "# state = update(mt.init, OBS, 1)\n",
    "VOC1(mt, mt.init, 1), VOC1_alt(mt, mt.init, 1)"
   ]
  },
  {
   "cell_type": "code",
   "execution_count": 20,
   "metadata": {
    "collapsed": false
   },
   "outputs": [],
   "source": [
    "def update(state, val, *nodes):\n",
    "    state = list(state)\n",
    "    for n in nodes:\n",
    "        state[n] = val\n",
    "    return tuple(state)\n",
    "\n",
    "def replace(state, v1, v2, nodes=None):\n",
    "    if nodes is None:\n",
    "        nodes = range(len(state))\n",
    "    state = list(state)\n",
    "    for n in nodes:\n",
    "        if state[n] == v1:\n",
    "            state[n] = v2\n",
    "    return tuple(state)    "
   ]
  },
  {
   "cell_type": "code",
   "execution_count": 43,
   "metadata": {
    "collapsed": false
   },
   "outputs": [
    {
     "data": {
      "image/svg+xml": [
       "<?xml version=\"1.0\" encoding=\"UTF-8\" standalone=\"no\"?>\n",
       "<!DOCTYPE svg PUBLIC \"-//W3C//DTD SVG 1.1//EN\"\n",
       " \"http://www.w3.org/Graphics/SVG/1.1/DTD/svg11.dtd\">\n",
       "<!-- Generated by graphviz version 2.40.1 (20161225.0304)\n",
       " -->\n",
       "<!-- Title: %3 Pages: 1 -->\n",
       "<svg width=\"566pt\" height=\"260pt\"\n",
       " viewBox=\"0.00 0.00 566.00 260.00\" xmlns=\"http://www.w3.org/2000/svg\" xmlns:xlink=\"http://www.w3.org/1999/xlink\">\n",
       "<g id=\"graph0\" class=\"graph\" transform=\"scale(1 1) rotate(0) translate(4 256)\">\n",
       "<title>%3</title>\n",
       "<polygon fill=\"#ffffff\" stroke=\"transparent\" points=\"-4,4 -4,-256 562,-256 562,4 -4,4\"/>\n",
       "<!-- 0 -->\n",
       "<g id=\"node1\" class=\"node\">\n",
       "<title>0</title>\n",
       "<ellipse fill=\"#c0c0c0\" stroke=\"#c0c0c0\" cx=\"279\" cy=\"-234\" rx=\"27\" ry=\"18\"/>\n",
       "<text text-anchor=\"middle\" x=\"279\" y=\"-229.8\" font-family=\"Times,serif\" font-size=\"14.00\" fill=\"#000000\">0</text>\n",
       "</g>\n",
       "<!-- 1 -->\n",
       "<g id=\"node2\" class=\"node\">\n",
       "<title>1</title>\n",
       "<ellipse fill=\"#dd4444\" stroke=\"#dd4444\" cx=\"207\" cy=\"-162\" rx=\"27\" ry=\"18\"/>\n",
       "<text text-anchor=\"middle\" x=\"207\" y=\"-157.8\" font-family=\"Times,serif\" font-size=\"14.00\" fill=\"#000000\">1</text>\n",
       "</g>\n",
       "<!-- 0&#45;&gt;1 -->\n",
       "<g id=\"edge1\" class=\"edge\">\n",
       "<title>0&#45;&gt;1</title>\n",
       "<path fill=\"none\" stroke=\"#000000\" d=\"M263.7307,-218.7307C253.803,-208.803 240.6847,-195.6847 229.5637,-184.5637\"/>\n",
       "<polygon fill=\"#000000\" stroke=\"#000000\" points=\"231.7933,-181.8436 222.2473,-177.2473 226.8436,-186.7933 231.7933,-181.8436\"/>\n",
       "</g>\n",
       "<!-- 8 -->\n",
       "<g id=\"node3\" class=\"node\">\n",
       "<title>8</title>\n",
       "<ellipse fill=\"#c0c0c0\" stroke=\"#c0c0c0\" cx=\"351\" cy=\"-162\" rx=\"27\" ry=\"18\"/>\n",
       "<text text-anchor=\"middle\" x=\"351\" y=\"-157.8\" font-family=\"Times,serif\" font-size=\"14.00\" fill=\"#000000\">8</text>\n",
       "</g>\n",
       "<!-- 0&#45;&gt;8 -->\n",
       "<g id=\"edge2\" class=\"edge\">\n",
       "<title>0&#45;&gt;8</title>\n",
       "<path fill=\"none\" stroke=\"#000000\" d=\"M294.2693,-218.7307C304.197,-208.803 317.3153,-195.6847 328.4363,-184.5637\"/>\n",
       "<polygon fill=\"#000000\" stroke=\"#000000\" points=\"331.1564,-186.7933 335.7527,-177.2473 326.2067,-181.8436 331.1564,-186.7933\"/>\n",
       "</g>\n",
       "<!-- 2 -->\n",
       "<g id=\"node4\" class=\"node\">\n",
       "<title>2</title>\n",
       "<ellipse fill=\"#dd4444\" stroke=\"#dd4444\" cx=\"99\" cy=\"-90\" rx=\"27\" ry=\"18\"/>\n",
       "<text text-anchor=\"middle\" x=\"99\" y=\"-85.8\" font-family=\"Times,serif\" font-size=\"14.00\" fill=\"#000000\">2</text>\n",
       "</g>\n",
       "<!-- 1&#45;&gt;2 -->\n",
       "<g id=\"edge3\" class=\"edge\">\n",
       "<title>1&#45;&gt;2</title>\n",
       "<path fill=\"none\" stroke=\"#000000\" d=\"M187.6918,-149.1278C170.6445,-137.763 145.5981,-121.0654 126.4656,-108.3104\"/>\n",
       "<polygon fill=\"#000000\" stroke=\"#000000\" points=\"128.4031,-105.3956 118.1411,-102.7607 124.5201,-111.2199 128.4031,-105.3956\"/>\n",
       "</g>\n",
       "<!-- 5 -->\n",
       "<g id=\"node5\" class=\"node\">\n",
       "<title>5</title>\n",
       "<ellipse fill=\"#c0c0c0\" stroke=\"#c0c0c0\" cx=\"207\" cy=\"-90\" rx=\"27\" ry=\"18\"/>\n",
       "<text text-anchor=\"middle\" x=\"207\" y=\"-85.8\" font-family=\"Times,serif\" font-size=\"14.00\" fill=\"#000000\">5</text>\n",
       "</g>\n",
       "<!-- 1&#45;&gt;5 -->\n",
       "<g id=\"edge4\" class=\"edge\">\n",
       "<title>1&#45;&gt;5</title>\n",
       "<path fill=\"none\" stroke=\"#000000\" d=\"M207,-143.8314C207,-136.131 207,-126.9743 207,-118.4166\"/>\n",
       "<polygon fill=\"#000000\" stroke=\"#000000\" points=\"210.5001,-118.4132 207,-108.4133 203.5001,-118.4133 210.5001,-118.4132\"/>\n",
       "</g>\n",
       "<!-- 9 -->\n",
       "<g id=\"node10\" class=\"node\">\n",
       "<title>9</title>\n",
       "<ellipse fill=\"#c0c0c0\" stroke=\"#c0c0c0\" cx=\"351\" cy=\"-90\" rx=\"27\" ry=\"18\"/>\n",
       "<text text-anchor=\"middle\" x=\"351\" y=\"-85.8\" font-family=\"Times,serif\" font-size=\"14.00\" fill=\"#000000\">9</text>\n",
       "</g>\n",
       "<!-- 8&#45;&gt;9 -->\n",
       "<g id=\"edge9\" class=\"edge\">\n",
       "<title>8&#45;&gt;9</title>\n",
       "<path fill=\"none\" stroke=\"#000000\" d=\"M351,-143.8314C351,-136.131 351,-126.9743 351,-118.4166\"/>\n",
       "<polygon fill=\"#000000\" stroke=\"#000000\" points=\"354.5001,-118.4132 351,-108.4133 347.5001,-118.4133 354.5001,-118.4132\"/>\n",
       "</g>\n",
       "<!-- 12 -->\n",
       "<g id=\"node11\" class=\"node\">\n",
       "<title>12</title>\n",
       "<ellipse fill=\"#c0c0c0\" stroke=\"#c0c0c0\" cx=\"459\" cy=\"-90\" rx=\"27\" ry=\"18\"/>\n",
       "<text text-anchor=\"middle\" x=\"459\" y=\"-85.8\" font-family=\"Times,serif\" font-size=\"14.00\" fill=\"#000000\">12</text>\n",
       "</g>\n",
       "<!-- 8&#45;&gt;12 -->\n",
       "<g id=\"edge10\" class=\"edge\">\n",
       "<title>8&#45;&gt;12</title>\n",
       "<path fill=\"none\" stroke=\"#000000\" d=\"M370.3082,-149.1278C387.3555,-137.763 412.4019,-121.0654 431.5344,-108.3104\"/>\n",
       "<polygon fill=\"#000000\" stroke=\"#000000\" points=\"433.4799,-111.2199 439.8589,-102.7607 429.5969,-105.3956 433.4799,-111.2199\"/>\n",
       "</g>\n",
       "<!-- 3 -->\n",
       "<g id=\"node6\" class=\"node\">\n",
       "<title>3</title>\n",
       "<ellipse fill=\"#c0c0c0\" stroke=\"#c0c0c0\" cx=\"27\" cy=\"-18\" rx=\"27\" ry=\"18\"/>\n",
       "<text text-anchor=\"middle\" x=\"27\" y=\"-13.8\" font-family=\"Times,serif\" font-size=\"14.00\" fill=\"#000000\">3</text>\n",
       "</g>\n",
       "<!-- 2&#45;&gt;3 -->\n",
       "<g id=\"edge5\" class=\"edge\">\n",
       "<title>2&#45;&gt;3</title>\n",
       "<path fill=\"none\" stroke=\"#000000\" d=\"M83.7307,-74.7307C73.803,-64.803 60.6847,-51.6847 49.5637,-40.5637\"/>\n",
       "<polygon fill=\"#000000\" stroke=\"#000000\" points=\"51.7933,-37.8436 42.2473,-33.2473 46.8436,-42.7933 51.7933,-37.8436\"/>\n",
       "</g>\n",
       "<!-- 4 -->\n",
       "<g id=\"node7\" class=\"node\">\n",
       "<title>4</title>\n",
       "<ellipse fill=\"#c0c0c0\" stroke=\"#c0c0c0\" cx=\"99\" cy=\"-18\" rx=\"27\" ry=\"18\"/>\n",
       "<text text-anchor=\"middle\" x=\"99\" y=\"-13.8\" font-family=\"Times,serif\" font-size=\"14.00\" fill=\"#000000\">4</text>\n",
       "</g>\n",
       "<!-- 2&#45;&gt;4 -->\n",
       "<g id=\"edge6\" class=\"edge\">\n",
       "<title>2&#45;&gt;4</title>\n",
       "<path fill=\"none\" stroke=\"#000000\" d=\"M99,-71.8314C99,-64.131 99,-54.9743 99,-46.4166\"/>\n",
       "<polygon fill=\"#000000\" stroke=\"#000000\" points=\"102.5001,-46.4132 99,-36.4133 95.5001,-46.4133 102.5001,-46.4132\"/>\n",
       "</g>\n",
       "<!-- 6 -->\n",
       "<g id=\"node8\" class=\"node\">\n",
       "<title>6</title>\n",
       "<ellipse fill=\"#c0c0c0\" stroke=\"#c0c0c0\" cx=\"171\" cy=\"-18\" rx=\"27\" ry=\"18\"/>\n",
       "<text text-anchor=\"middle\" x=\"171\" y=\"-13.8\" font-family=\"Times,serif\" font-size=\"14.00\" fill=\"#000000\">6</text>\n",
       "</g>\n",
       "<!-- 5&#45;&gt;6 -->\n",
       "<g id=\"edge7\" class=\"edge\">\n",
       "<title>5&#45;&gt;6</title>\n",
       "<path fill=\"none\" stroke=\"#000000\" d=\"M198.2854,-72.5708C194.0403,-64.0807 188.8464,-53.6929 184.1337,-44.2674\"/>\n",
       "<polygon fill=\"#000000\" stroke=\"#000000\" points=\"187.237,-42.6477 179.6343,-35.2687 180.976,-45.7782 187.237,-42.6477\"/>\n",
       "</g>\n",
       "<!-- 7 -->\n",
       "<g id=\"node9\" class=\"node\">\n",
       "<title>7</title>\n",
       "<ellipse fill=\"#c0c0c0\" stroke=\"#c0c0c0\" cx=\"243\" cy=\"-18\" rx=\"27\" ry=\"18\"/>\n",
       "<text text-anchor=\"middle\" x=\"243\" y=\"-13.8\" font-family=\"Times,serif\" font-size=\"14.00\" fill=\"#000000\">7</text>\n",
       "</g>\n",
       "<!-- 5&#45;&gt;7 -->\n",
       "<g id=\"edge8\" class=\"edge\">\n",
       "<title>5&#45;&gt;7</title>\n",
       "<path fill=\"none\" stroke=\"#000000\" d=\"M215.7146,-72.5708C219.9597,-64.0807 225.1536,-53.6929 229.8663,-44.2674\"/>\n",
       "<polygon fill=\"#000000\" stroke=\"#000000\" points=\"233.024,-45.7782 234.3657,-35.2687 226.763,-42.6477 233.024,-45.7782\"/>\n",
       "</g>\n",
       "<!-- 10 -->\n",
       "<g id=\"node12\" class=\"node\">\n",
       "<title>10</title>\n",
       "<ellipse fill=\"#c0c0c0\" stroke=\"#c0c0c0\" cx=\"315\" cy=\"-18\" rx=\"27\" ry=\"18\"/>\n",
       "<text text-anchor=\"middle\" x=\"315\" y=\"-13.8\" font-family=\"Times,serif\" font-size=\"14.00\" fill=\"#000000\">10</text>\n",
       "</g>\n",
       "<!-- 9&#45;&gt;10 -->\n",
       "<g id=\"edge11\" class=\"edge\">\n",
       "<title>9&#45;&gt;10</title>\n",
       "<path fill=\"none\" stroke=\"#000000\" d=\"M342.2854,-72.5708C338.0403,-64.0807 332.8464,-53.6929 328.1337,-44.2674\"/>\n",
       "<polygon fill=\"#000000\" stroke=\"#000000\" points=\"331.237,-42.6477 323.6343,-35.2687 324.976,-45.7782 331.237,-42.6477\"/>\n",
       "</g>\n",
       "<!-- 11 -->\n",
       "<g id=\"node13\" class=\"node\">\n",
       "<title>11</title>\n",
       "<ellipse fill=\"#c0c0c0\" stroke=\"#c0c0c0\" cx=\"387\" cy=\"-18\" rx=\"27\" ry=\"18\"/>\n",
       "<text text-anchor=\"middle\" x=\"387\" y=\"-13.8\" font-family=\"Times,serif\" font-size=\"14.00\" fill=\"#000000\">11</text>\n",
       "</g>\n",
       "<!-- 9&#45;&gt;11 -->\n",
       "<g id=\"edge12\" class=\"edge\">\n",
       "<title>9&#45;&gt;11</title>\n",
       "<path fill=\"none\" stroke=\"#000000\" d=\"M359.7146,-72.5708C363.9597,-64.0807 369.1536,-53.6929 373.8663,-44.2674\"/>\n",
       "<polygon fill=\"#000000\" stroke=\"#000000\" points=\"377.024,-45.7782 378.3657,-35.2687 370.763,-42.6477 377.024,-45.7782\"/>\n",
       "</g>\n",
       "<!-- 13 -->\n",
       "<g id=\"node14\" class=\"node\">\n",
       "<title>13</title>\n",
       "<ellipse fill=\"#c0c0c0\" stroke=\"#c0c0c0\" cx=\"459\" cy=\"-18\" rx=\"27\" ry=\"18\"/>\n",
       "<text text-anchor=\"middle\" x=\"459\" y=\"-13.8\" font-family=\"Times,serif\" font-size=\"14.00\" fill=\"#000000\">13</text>\n",
       "</g>\n",
       "<!-- 12&#45;&gt;13 -->\n",
       "<g id=\"edge13\" class=\"edge\">\n",
       "<title>12&#45;&gt;13</title>\n",
       "<path fill=\"none\" stroke=\"#000000\" d=\"M459,-71.8314C459,-64.131 459,-54.9743 459,-46.4166\"/>\n",
       "<polygon fill=\"#000000\" stroke=\"#000000\" points=\"462.5001,-46.4132 459,-36.4133 455.5001,-46.4133 462.5001,-46.4132\"/>\n",
       "</g>\n",
       "<!-- 14 -->\n",
       "<g id=\"node15\" class=\"node\">\n",
       "<title>14</title>\n",
       "<ellipse fill=\"#c0c0c0\" stroke=\"#c0c0c0\" cx=\"531\" cy=\"-18\" rx=\"27\" ry=\"18\"/>\n",
       "<text text-anchor=\"middle\" x=\"531\" y=\"-13.8\" font-family=\"Times,serif\" font-size=\"14.00\" fill=\"#000000\">14</text>\n",
       "</g>\n",
       "<!-- 12&#45;&gt;14 -->\n",
       "<g id=\"edge14\" class=\"edge\">\n",
       "<title>12&#45;&gt;14</title>\n",
       "<path fill=\"none\" stroke=\"#000000\" d=\"M474.2693,-74.7307C484.197,-64.803 497.3153,-51.6847 508.4363,-40.5637\"/>\n",
       "<polygon fill=\"#000000\" stroke=\"#000000\" points=\"511.1564,-42.7933 515.7527,-33.2473 506.2067,-37.8436 511.1564,-42.7933\"/>\n",
       "</g>\n",
       "</g>\n",
       "</svg>\n"
      ],
      "text/plain": [
       "<graphviz.dot.Digraph at 0x10a0ba6d8>"
      ]
     },
     "metadata": {},
     "output_type": "display_data"
    },
    {
     "name": "stdout",
     "output_type": "stream",
     "text": [
      "0.15234375 0.391357421875\n"
     ]
    }
   ],
   "source": [
    "def VPI_action(mt, state, action):\n",
    "    choices = list(mt.tree[0])\n",
    "    relevant_choice = choices[0] if action < choices[1] else choices[1]\n",
    "    stop = relevant_choice + choices[1] - choices[0]\n",
    "    return VOI(mt, state, range(relevant_choice, stop))\n",
    "\n",
    "def VPI_full(mt, state):\n",
    "    return VOI(mt, state, range(len(state)))\n",
    "\n",
    "def VOI(mt, state, nodes_to_observe, n=0):\n",
    "    new_state = replace(state, mt.unknown, OBS, nodes_to_observe)\n",
    "    info_val = expectation(info_V_dist(mt, new_state, n))\n",
    "    return info_val - mt.tree_V(state, n)\n",
    "\n",
    "mt = MetaTree(2, 3, cost=-0.1)\n",
    "state = list(mt.init)\n",
    "state[1] = 1\n",
    "state[2] = 1\n",
    "# state[3] = 0\n",
    "# state[4] = 0\n",
    "# state[5] = 0\n",
    "# state[8] = 0\n",
    "state = tuple(state)\n",
    "draw_tree(state)\n",
    "print(VPI_action(mt, state, 8), VPI_full(mt, state))\n",
    "# print(VOC1(mt, state, s), VOC1_alt(mt, state, s))"
   ]
  },
  {
   "cell_type": "code",
   "execution_count": 330,
   "metadata": {
    "collapsed": true
   },
   "outputs": [],
   "source": [
    "def pruned_actions(mt, state):\n",
    "    \"\"\"Returns a subset of actions available at state.\n",
    "    \n",
    "    The subset is guaranteed to include an optimal action.\"\"\"\n",
    "    def search(i):\n",
    "        if state[i] is mt.unknown and i > 0:\n",
    "            yield i  # a possible computation\n",
    "        if mt.tree[i]:\n",
    "            c1, c2 = mt.tree[i]\n",
    "            yield from searchr(c1)\n",
    "            if mt.subtree(state, c1) != mt.subtree(state, c2):\n",
    "                yield from search(c2)  # no pruning this time\n",
    "    yield from search(0)\n",
    "    yield mt.term_action"
   ]
  },
  {
   "cell_type": "code",
   "execution_count": 339,
   "metadata": {
    "collapsed": false
   },
   "outputs": [],
   "source": [
    "def phi(s, a):\n",
    "    if a is mt.term_action:\n",
    "        return ([0, 0, 0, mt.term_value(s), 0])\n",
    "    else:\n",
    "        return ([VOC1(mt, s, a), VPI(mt, s), VPI_action(mt, s, a), mt.term_value(s), mt.cost])"
   ]
  },
  {
   "cell_type": "code",
   "execution_count": 413,
   "metadata": {
    "collapsed": false
   },
   "outputs": [
    {
     "name": "stdout",
     "output_type": "stream",
     "text": [
      "CPU times: user 24min 19s, sys: 1min 36s, total: 25min 55s\n",
      "Wall time: 26min 27s\n"
     ]
    }
   ],
   "source": [
    "%%time\n",
    "# Compute exact solution.\n",
    "mt= MetaTree(2, 3, outcomes=(0,1,2), cost=-0.1)\n",
    "Q, V, pi, info = solve(mt)\n",
    "V(mt.init)"
   ]
  },
  {
   "cell_type": "code",
   "execution_count": 360,
   "metadata": {
    "collapsed": false
   },
   "outputs": [
    {
     "name": "stdout",
     "output_type": "stream",
     "text": [
      "\n",
      "\n"
     ]
    }
   ],
   "source": [
    "from meta_tree import Labeler\n",
    "mt = MetaTree(2, 3, outcomes=(0,1), cost=-0.1)\n",
    "Q, V, pi, info = solve(mt)\n",
    "states = it.product((mt.unknown, *mt.outcomes), repeat=len(mt.tree))\n",
    "non_sym = list(set(tqdm((sort_tree(mt, s) for s in states),\n",
    "                   total=(len(mt.outcomes) + 1) ** len(mt.tree))))\n",
    "Qmat = np.full((len(non_sym), len(mt.tree)+1), np.nan)\n",
    "\n",
    "state_labeler = Labeler()\n",
    "\n",
    "states = []\n",
    "actions = []\n",
    "Q_star = []\n",
    "features = []\n",
    "pi_hat = []\n",
    "pi_mat = []\n",
    "for i, s in enumerate(tqdm(non_sym)):\n",
    "    acts = []\n",
    "    if s is None:\n",
    "        continue\n",
    "    for a in pruned_actions(mt, s):\n",
    "        state_labeler(s)\n",
    "        states.append(s)\n",
    "        actions.append(a)\n",
    "        Q_star.append(Q(s, a))\n",
    "        acts.append((Q(s, a), a))\n",
    "        features.append(phi(s, a))\n",
    "    pi_hat.append(max(acts)[1])\n",
    "    pi_mat.append(pi(s))"
   ]
  },
  {
   "cell_type": "code",
   "execution_count": 374,
   "metadata": {
    "collapsed": false
   },
   "outputs": [
    {
     "name": "stdout",
     "output_type": "stream",
     "text": [
      "[ 0.42975515  0.47647896  0.04689218  1.00015308  0.60993898]\n",
      "0.0244135704101\n",
      "0.597174291105\n",
      "0.704189136915\n"
     ]
    }
   ],
   "source": [
    "def rms(y_hat, y):\n",
    "    return ((y_hat - y) ** 2).mean() ** 0.5\n",
    "y = np.array(Q_star)\n",
    "X = np.array(features)\n",
    "pi_hat = np.array(pi_hat)\n",
    "pi_mat = np.array(pi_mat)\n",
    "\n",
    "beta = np.linalg.inv(X.T @ X) @ X.T @ y\n",
    "y_hat = X @ beta\n",
    "\n",
    "print(beta)\n",
    "print(rms(y_hat, y))\n",
    "print(rms(y.mean(), y))\n",
    "print((pi_hat == pi_mat).mean())"
   ]
  },
  {
   "cell_type": "code",
   "execution_count": 392,
   "metadata": {
    "collapsed": false
   },
   "outputs": [
    {
     "name": "stdout",
     "output_type": "stream",
     "text": [
      "The rpy2.ipython extension is already loaded. To reload it, use:\n",
      "  %reload_ext rpy2.ipython\n"
     ]
    }
   ],
   "source": [
    "import rpy2.robjects as ro\n",
    "from rpy2.robjects import pandas2ri\n",
    "pandas2ri.activate()\n",
    "from rpy2.robjects.conversion import ri2py\n",
    "%load_ext rpy2.ipython"
   ]
  },
  {
   "cell_type": "code",
   "execution_count": 400,
   "metadata": {
    "collapsed": false
   },
   "outputs": [],
   "source": [
    "voc, vpi, vpi_a, term, cost = X.T\n",
    "err = y - y_hat\n",
    "df = pd.DataFrame({'voc': voc, 'vpi_full': vpi, 'vpi_a': vpi_a, 'term': term, 'cost': mt.cost,\n",
    "                   'err': err, 'y': y, 'y_hat': y_hat, 'state': states, 'action': actions})\n",
    "df = df.round(4)"
   ]
  },
  {
   "cell_type": "code",
   "execution_count": 401,
   "metadata": {
    "collapsed": false
   },
   "outputs": [],
   "source": [
    "rdf = df.drop('state', 1)"
   ]
  },
  {
   "cell_type": "code",
   "execution_count": 404,
   "metadata": {
    "collapsed": false
   },
   "outputs": [
    {
     "data": {
      "text/plain": [
       "\n",
       "Call:\n",
       "lm(formula = \"y ~ voc + vpi_full + vpi_a + term + cost\", data = rdf)\n",
       "\n",
       "Coefficients:\n",
       "(Intercept)          voc     vpi_full        vpi_a         term         cost  \n",
       "   -0.02027      0.58722      0.42874     -0.02151      0.99712           NA  \n",
       "\n",
       "Analysis of Variance Table\n",
       "\n",
       "Model 1: y ~ voc + vpi_full + term + cost\n",
       "Model 2: y ~ voc + vpi_full + vpi_a + term + cost\n",
       "   Res.Df    RSS Df Sum of Sq      F    Pr(>F)    \n",
       "1 1905278 1819.9                                  \n",
       "2 1905277 1815.8  1    4.0779 4278.8 < 2.2e-16 ***\n",
       "---\n",
       "Signif. codes:  0 ‘***’ 0.001 ‘**’ 0.01 ‘*’ 0.05 ‘.’ 0.1 ‘ ’ 1\n"
      ]
     },
     "metadata": {},
     "output_type": "display_data"
    }
   ],
   "source": [
    "%%R -i rdf\n",
    "m = lm('y ~ voc + vpi_full + vpi_a + term + cost', data=rdf)\n",
    "print(m)\n",
    "m0 = update(m, . ~ . - vpi_a)\n",
    "anova(m0, m)"
   ]
  },
  {
   "cell_type": "code",
   "execution_count": 376,
   "metadata": {
    "collapsed": false
   },
   "outputs": [
    {
     "data": {
      "image/png": "[encoded data removed]",
      "text/plain": [
       "<matplotlib.figure.Figure at 0x15fa00cc0>"
      ]
     },
     "metadata": {},
     "output_type": "display_data"
    }
   ],
   "source": [
    "\n",
    "from sklearn.metrics import confusion_matrix\n",
    "C = confusion_matrix(pi_mat, pi_hat, labels=range(mt.term_action+1))\n",
    "with sns.plotting_context(font_scale=1.5):\n",
    "    sns.heatmap(C[:-1, :-1])\n",
    "    # sns.heatmap(C)\n",
    "    plt.ylabel(r'$\\pi^*$')\n",
    "    plt.xlabel(r'$\\hat\\pi$')\n",
    "    plt.title('Confusion matrix')"
   ]
  },
  {
   "cell_type": "code",
   "execution_count": 366,
   "metadata": {
    "collapsed": false
   },
   "outputs": [
    {
     "data": {
      "text/plain": [
       "<seaborn.axisgrid.JointGrid at 0x15be000b8>"
      ]
     },
     "execution_count": 366,
     "metadata": {},
     "output_type": "execute_result"
    },
    {
     "data": {
      "image/png": "[encoded data removed]",
      "text/plain": [
       "<matplotlib.figure.Figure at 0x15be00438>"
      ]
     },
     "metadata": {},
     "output_type": "display_data"
    }
   ],
   "source": [
    "# df['pi_star'] = df.state.apply(pi)\n",
    "sns.jointplot('y', 'y_hat', data=df, alpha=.01)\n",
    "# sns.jointplot('y', 'y_hat', data=df.query('pi_hat == 7'), kind='kde')"
   ]
  },
  {
   "cell_type": "code",
   "execution_count": 391,
   "metadata": {
    "collapsed": false
   },
   "outputs": [
    {
     "data": {
      "text/plain": [
       "(0, 4)"
      ]
     },
     "execution_count": 391,
     "metadata": {},
     "output_type": "execute_result"
    },
    {
     "data": {
      "image/png": "[encoded data removed]",
      "text/plain": [
       "<matplotlib.figure.Figure at 0x13904fda0>"
      ]
     },
     "metadata": {},
     "output_type": "display_data"
    }
   ],
   "source": [
    "def run_episode(mt, pi, s=None):\n",
    "    \"\"\"Runs a single random episode with policy pi.\"\"\"\n",
    "    if s is None:\n",
    "        s = mt.init\n",
    "    acts = []\n",
    "    reward = 0\n",
    "    s1 = s\n",
    "    while True:\n",
    "        s0 = s1\n",
    "        a = pi(s0)\n",
    "        p, s1, r = choice(mt.results(s0, a))\n",
    "        acts.append(a)\n",
    "        reward += r\n",
    "        if a == mt.term_action:\n",
    "#             draw_tree(states[-1])\n",
    "            return acts, reward\n",
    "\n",
    "def run_many(mt, pi, N=1000):\n",
    "    for _ in range(N):\n",
    "        actions, reward = run_episode(mt, pi)\n",
    "        yield reward \n",
    "\n",
    "from toolz import curry\n",
    "@curry\n",
    "def mat_pi(pi_mat, s):\n",
    "    i = state_labeler(sort_tree(mt, s))\n",
    "    return pi_mat[i]\n",
    "    # dd = df.query('state == @s')\n",
    "    # return dd.action[dd.y_hat.argmax()]\n",
    "\n",
    "@curry\n",
    "def Q_hat(s, a):\n",
    "    x = phi(s, a)\n",
    "    return x @ beta\n",
    "\n",
    "def pi_hat2(s):\n",
    "    return max((a for a in mt.actions(s)), key=Q_hat(s))\n",
    "\n",
    "# hat_returns = pd.Series(run_many(mt, pi_hat2, N=5000))\n",
    "# opt_returns = pd.Series(run_many(mt, pi, N=5000))\n",
    "sns.distplot(hat_returns, label='approx  {:.2f}'.format(hat_returns.mean()),kde=0)\n",
    "sns.distplot(opt_returns, label='optimal  {:.2f}'.format(opt_returns.mean()),kde=0)\n",
    "plt.legend(frameon=True)\n",
    "plt.title('5000 returns on height-3 binary tree.')\n",
    "plt.xlim(0, 4)\n",
    "# draw_tree(S)\n",
    "# Q_hat(mt.init, 8)\n",
    "# print(phi(mt.init, 8))\n",
    "# print(phi(mt.init, 1))"
   ]
  },
  {
   "cell_type": "code",
   "execution_count": 107,
   "metadata": {
    "collapsed": false
   },
   "outputs": [
    {
     "data": {
      "image/svg+xml": [
       "<?xml version=\"1.0\" encoding=\"UTF-8\" standalone=\"no\"?>\n",
       "<!DOCTYPE svg PUBLIC \"-//W3C//DTD SVG 1.1//EN\"\n",
       " \"http://www.w3.org/Graphics/SVG/1.1/DTD/svg11.dtd\">\n",
       "<!-- Generated by graphviz version 2.40.1 (20161225.0304)\n",
       " -->\n",
       "<!-- Title: %3 Pages: 1 -->\n",
       "<svg width=\"278pt\" height=\"188pt\"\n",
       " viewBox=\"0.00 0.00 278.00 188.00\" xmlns=\"http://www.w3.org/2000/svg\" xmlns:xlink=\"http://www.w3.org/1999/xlink\">\n",
       "<g id=\"graph0\" class=\"graph\" transform=\"scale(1 1) rotate(0) translate(4 184)\">\n",
       "<title>%3</title>\n",
       "<polygon fill=\"#ffffff\" stroke=\"transparent\" points=\"-4,4 -4,-184 274,-184 274,4 -4,4\"/>\n",
       "<!-- 0 -->\n",
       "<g id=\"node1\" class=\"node\">\n",
       "<title>0</title>\n",
       "<ellipse fill=\"#c0c0c0\" stroke=\"#c0c0c0\" cx=\"135\" cy=\"-162\" rx=\"27\" ry=\"18\"/>\n",
       "<text text-anchor=\"middle\" x=\"135\" y=\"-157.8\" font-family=\"Times,serif\" font-size=\"14.00\" fill=\"#000000\">0</text>\n",
       "</g>\n",
       "<!-- 1 -->\n",
       "<g id=\"node2\" class=\"node\">\n",
       "<title>1</title>\n",
       "<ellipse fill=\"#5555ee\" stroke=\"#5555ee\" cx=\"99\" cy=\"-90\" rx=\"27\" ry=\"18\"/>\n",
       "<text text-anchor=\"middle\" x=\"99\" y=\"-85.8\" font-family=\"Times,serif\" font-size=\"14.00\" fill=\"#000000\">1</text>\n",
       "</g>\n",
       "<!-- 0&#45;&gt;1 -->\n",
       "<g id=\"edge1\" class=\"edge\">\n",
       "<title>0&#45;&gt;1</title>\n",
       "<path fill=\"none\" stroke=\"#000000\" d=\"M126.2854,-144.5708C122.0403,-136.0807 116.8464,-125.6929 112.1337,-116.2674\"/>\n",
       "<polygon fill=\"#000000\" stroke=\"#000000\" points=\"115.237,-114.6477 107.6343,-107.2687 108.976,-117.7782 115.237,-114.6477\"/>\n",
       "</g>\n",
       "<!-- 4 -->\n",
       "<g id=\"node3\" class=\"node\">\n",
       "<title>4</title>\n",
       "<ellipse fill=\"#5555ee\" stroke=\"#5555ee\" cx=\"171\" cy=\"-90\" rx=\"27\" ry=\"18\"/>\n",
       "<text text-anchor=\"middle\" x=\"171\" y=\"-85.8\" font-family=\"Times,serif\" font-size=\"14.00\" fill=\"#000000\">4</text>\n",
       "</g>\n",
       "<!-- 0&#45;&gt;4 -->\n",
       "<g id=\"edge2\" class=\"edge\">\n",
       "<title>0&#45;&gt;4</title>\n",
       "<path fill=\"none\" stroke=\"#000000\" d=\"M143.7146,-144.5708C147.9597,-136.0807 153.1536,-125.6929 157.8663,-116.2674\"/>\n",
       "<polygon fill=\"#000000\" stroke=\"#000000\" points=\"161.024,-117.7782 162.3657,-107.2687 154.763,-114.6477 161.024,-117.7782\"/>\n",
       "</g>\n",
       "<!-- 2 -->\n",
       "<g id=\"node4\" class=\"node\">\n",
       "<title>2</title>\n",
       "<ellipse fill=\"#c0c0c0\" stroke=\"#c0c0c0\" cx=\"27\" cy=\"-18\" rx=\"27\" ry=\"18\"/>\n",
       "<text text-anchor=\"middle\" x=\"27\" y=\"-13.8\" font-family=\"Times,serif\" font-size=\"14.00\" fill=\"#000000\">2</text>\n",
       "</g>\n",
       "<!-- 1&#45;&gt;2 -->\n",
       "<g id=\"edge3\" class=\"edge\">\n",
       "<title>1&#45;&gt;2</title>\n",
       "<path fill=\"none\" stroke=\"#000000\" d=\"M83.7307,-74.7307C73.803,-64.803 60.6847,-51.6847 49.5637,-40.5637\"/>\n",
       "<polygon fill=\"#000000\" stroke=\"#000000\" points=\"51.7933,-37.8436 42.2473,-33.2473 46.8436,-42.7933 51.7933,-37.8436\"/>\n",
       "</g>\n",
       "<!-- 3 -->\n",
       "<g id=\"node5\" class=\"node\">\n",
       "<title>3</title>\n",
       "<ellipse fill=\"#5555ee\" stroke=\"#5555ee\" cx=\"99\" cy=\"-18\" rx=\"27\" ry=\"18\"/>\n",
       "<text text-anchor=\"middle\" x=\"99\" y=\"-13.8\" font-family=\"Times,serif\" font-size=\"14.00\" fill=\"#000000\">3</text>\n",
       "</g>\n",
       "<!-- 1&#45;&gt;3 -->\n",
       "<g id=\"edge4\" class=\"edge\">\n",
       "<title>1&#45;&gt;3</title>\n",
       "<path fill=\"none\" stroke=\"#000000\" d=\"M99,-71.8314C99,-64.131 99,-54.9743 99,-46.4166\"/>\n",
       "<polygon fill=\"#000000\" stroke=\"#000000\" points=\"102.5001,-46.4132 99,-36.4133 95.5001,-46.4133 102.5001,-46.4132\"/>\n",
       "</g>\n",
       "<!-- 5 -->\n",
       "<g id=\"node6\" class=\"node\">\n",
       "<title>5</title>\n",
       "<ellipse fill=\"#5555ee\" stroke=\"#5555ee\" cx=\"171\" cy=\"-18\" rx=\"27\" ry=\"18\"/>\n",
       "<text text-anchor=\"middle\" x=\"171\" y=\"-13.8\" font-family=\"Times,serif\" font-size=\"14.00\" fill=\"#000000\">5</text>\n",
       "</g>\n",
       "<!-- 4&#45;&gt;5 -->\n",
       "<g id=\"edge5\" class=\"edge\">\n",
       "<title>4&#45;&gt;5</title>\n",
       "<path fill=\"none\" stroke=\"#000000\" d=\"M171,-71.8314C171,-64.131 171,-54.9743 171,-46.4166\"/>\n",
       "<polygon fill=\"#000000\" stroke=\"#000000\" points=\"174.5001,-46.4132 171,-36.4133 167.5001,-46.4133 174.5001,-46.4132\"/>\n",
       "</g>\n",
       "<!-- 6 -->\n",
       "<g id=\"node7\" class=\"node\">\n",
       "<title>6</title>\n",
       "<ellipse fill=\"#c0c0c0\" stroke=\"#c0c0c0\" cx=\"243\" cy=\"-18\" rx=\"27\" ry=\"18\"/>\n",
       "<text text-anchor=\"middle\" x=\"243\" y=\"-13.8\" font-family=\"Times,serif\" font-size=\"14.00\" fill=\"#000000\">6</text>\n",
       "</g>\n",
       "<!-- 4&#45;&gt;6 -->\n",
       "<g id=\"edge6\" class=\"edge\">\n",
       "<title>4&#45;&gt;6</title>\n",
       "<path fill=\"none\" stroke=\"#000000\" d=\"M186.2693,-74.7307C196.197,-64.803 209.3153,-51.6847 220.4363,-40.5637\"/>\n",
       "<polygon fill=\"#000000\" stroke=\"#000000\" points=\"223.1564,-42.7933 227.7527,-33.2473 218.2067,-37.8436 223.1564,-42.7933\"/>\n",
       "</g>\n",
       "</g>\n",
       "</svg>\n"
      ],
      "text/plain": [
       "<graphviz.dot.Digraph at 0x118118be0>"
      ]
     },
     "metadata": {},
     "output_type": "display_data"
    }
   ],
   "source": [
    "draw_tree((inf, 0, inf, 0, 0, 0, inf))\n"
   ]
  },
  {
   "cell_type": "code",
   "execution_count": 129,
   "metadata": {
    "collapsed": false
   },
   "outputs": [
    {
     "data": {
      "image/svg+xml": [
       "<?xml version=\"1.0\" encoding=\"UTF-8\" standalone=\"no\"?>\n",
       "<!DOCTYPE svg PUBLIC \"-//W3C//DTD SVG 1.1//EN\"\n",
       " \"http://www.w3.org/Graphics/SVG/1.1/DTD/svg11.dtd\">\n",
       "<!-- Generated by graphviz version 2.40.1 (20161225.0304)\n",
       " -->\n",
       "<!-- Title: %3 Pages: 1 -->\n",
       "<svg width=\"422pt\" height=\"116pt\"\n",
       " viewBox=\"0.00 0.00 422.00 116.00\" xmlns=\"http://www.w3.org/2000/svg\" xmlns:xlink=\"http://www.w3.org/1999/xlink\">\n",
       "<g id=\"graph0\" class=\"graph\" transform=\"scale(1 1) rotate(0) translate(4 112)\">\n",
       "<title>%3</title>\n",
       "<polygon fill=\"#ffffff\" stroke=\"transparent\" points=\"-4,4 -4,-112 418,-112 418,4 -4,4\"/>\n",
       "<!-- 0 -->\n",
       "<g id=\"node1\" class=\"node\">\n",
       "<title>0</title>\n",
       "<ellipse fill=\"#c0c0c0\" stroke=\"#c0c0c0\" cx=\"99\" cy=\"-90\" rx=\"27\" ry=\"18\"/>\n",
       "<text text-anchor=\"middle\" x=\"99\" y=\"-85.8\" font-family=\"Times,serif\" font-size=\"14.00\" fill=\"#000000\">0</text>\n",
       "</g>\n",
       "<!-- 1 -->\n",
       "<g id=\"node2\" class=\"node\">\n",
       "<title>1</title>\n",
       "<ellipse fill=\"#c0c0c0\" stroke=\"#c0c0c0\" cx=\"27\" cy=\"-18\" rx=\"27\" ry=\"18\"/>\n",
       "<text text-anchor=\"middle\" x=\"27\" y=\"-13.8\" font-family=\"Times,serif\" font-size=\"14.00\" fill=\"#000000\">1</text>\n",
       "</g>\n",
       "<!-- 0&#45;&gt;1 -->\n",
       "<g id=\"edge1\" class=\"edge\">\n",
       "<title>0&#45;&gt;1</title>\n",
       "<path fill=\"none\" stroke=\"#000000\" d=\"M83.7307,-74.7307C73.803,-64.803 60.6847,-51.6847 49.5637,-40.5637\"/>\n",
       "<polygon fill=\"#000000\" stroke=\"#000000\" points=\"51.7933,-37.8436 42.2473,-33.2473 46.8436,-42.7933 51.7933,-37.8436\"/>\n",
       "</g>\n",
       "<!-- 2 -->\n",
       "<g id=\"node3\" class=\"node\">\n",
       "<title>2</title>\n",
       "<ellipse fill=\"#c0c0c0\" stroke=\"#c0c0c0\" cx=\"99\" cy=\"-18\" rx=\"27\" ry=\"18\"/>\n",
       "<text text-anchor=\"middle\" x=\"99\" y=\"-13.8\" font-family=\"Times,serif\" font-size=\"14.00\" fill=\"#000000\">2</text>\n",
       "</g>\n",
       "<!-- 0&#45;&gt;2 -->\n",
       "<g id=\"edge2\" class=\"edge\">\n",
       "<title>0&#45;&gt;2</title>\n",
       "<path fill=\"none\" stroke=\"#000000\" d=\"M99,-71.8314C99,-64.131 99,-54.9743 99,-46.4166\"/>\n",
       "<polygon fill=\"#000000\" stroke=\"#000000\" points=\"102.5001,-46.4132 99,-36.4133 95.5001,-46.4133 102.5001,-46.4132\"/>\n",
       "</g>\n",
       "<!-- 3 -->\n",
       "<g id=\"node4\" class=\"node\">\n",
       "<title>3</title>\n",
       "<ellipse fill=\"#c0c0c0\" stroke=\"#c0c0c0\" cx=\"171\" cy=\"-18\" rx=\"27\" ry=\"18\"/>\n",
       "<text text-anchor=\"middle\" x=\"171\" y=\"-13.8\" font-family=\"Times,serif\" font-size=\"14.00\" fill=\"#000000\">3</text>\n",
       "</g>\n",
       "<!-- 0&#45;&gt;3 -->\n",
       "<g id=\"edge3\" class=\"edge\">\n",
       "<title>0&#45;&gt;3</title>\n",
       "<path fill=\"none\" stroke=\"#000000\" d=\"M114.2693,-74.7307C124.197,-64.803 137.3153,-51.6847 148.4363,-40.5637\"/>\n",
       "<polygon fill=\"#000000\" stroke=\"#000000\" points=\"151.1564,-42.7933 155.7527,-33.2473 146.2067,-37.8436 151.1564,-42.7933\"/>\n",
       "</g>\n",
       "<!-- 4 -->\n",
       "<g id=\"node5\" class=\"node\">\n",
       "<title>4</title>\n",
       "<ellipse fill=\"#c0c0c0\" stroke=\"#c0c0c0\" cx=\"171\" cy=\"-90\" rx=\"27\" ry=\"18\"/>\n",
       "<text text-anchor=\"middle\" x=\"171\" y=\"-85.8\" font-family=\"Times,serif\" font-size=\"14.00\" fill=\"#000000\">4</text>\n",
       "</g>\n",
       "<!-- 5 -->\n",
       "<g id=\"node6\" class=\"node\">\n",
       "<title>5</title>\n",
       "<ellipse fill=\"#c0c0c0\" stroke=\"#c0c0c0\" cx=\"243\" cy=\"-90\" rx=\"27\" ry=\"18\"/>\n",
       "<text text-anchor=\"middle\" x=\"243\" y=\"-85.8\" font-family=\"Times,serif\" font-size=\"14.00\" fill=\"#000000\">5</text>\n",
       "</g>\n",
       "<!-- 6 -->\n",
       "<g id=\"node7\" class=\"node\">\n",
       "<title>6</title>\n",
       "<ellipse fill=\"#c0c0c0\" stroke=\"#c0c0c0\" cx=\"315\" cy=\"-90\" rx=\"27\" ry=\"18\"/>\n",
       "<text text-anchor=\"middle\" x=\"315\" y=\"-85.8\" font-family=\"Times,serif\" font-size=\"14.00\" fill=\"#000000\">6</text>\n",
       "</g>\n",
       "<!-- 7 -->\n",
       "<g id=\"node8\" class=\"node\">\n",
       "<title>7</title>\n",
       "<ellipse fill=\"#c0c0c0\" stroke=\"#c0c0c0\" cx=\"387\" cy=\"-90\" rx=\"27\" ry=\"18\"/>\n",
       "<text text-anchor=\"middle\" x=\"387\" y=\"-85.8\" font-family=\"Times,serif\" font-size=\"14.00\" fill=\"#000000\">7</text>\n",
       "</g>\n",
       "</g>\n",
       "</svg>\n"
      ],
      "text/plain": [
       "<graphviz.dot.Digraph at 0x10aa6ff98>"
      ]
     },
     "metadata": {},
     "output_type": "display_data"
    }
   ],
   "source": [
    "mt = MetaTree(3, 1)\n",
    "draw_tree(mt.init)"
   ]
  },
  {
   "cell_type": "code",
   "execution_count": null,
   "metadata": {
    "collapsed": true
   },
   "outputs": [],
   "source": []
  }
 ],
 "metadata": {
  "anaconda-cloud": {},
  "kernelspec": {
   "display_name": "Python [default]",
   "language": "python",
   "name": "python3"
  },
  "language_info": {
   "codemirror_mode": {
    "name": "ipython",
    "version": 3
   },
   "file_extension": ".py",
   "mimetype": "text/x-python",
   "name": "python",
   "nbconvert_exporter": "python",
   "pygments_lexer": "ipython3",
   "version": "3.5.2"
  },
  "nav_menu": {},
  "toc": {
   "navigate_menu": true,
   "number_sections": true,
   "sideBar": true,
   "threshold": 6,
   "toc_cell": false,
   "toc_section_display": "block",
   "toc_window_display": false
  }
 },
 "nbformat": 4,
 "nbformat_minor": 0
}
