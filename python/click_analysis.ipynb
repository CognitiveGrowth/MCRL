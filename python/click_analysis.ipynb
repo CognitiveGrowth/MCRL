{
 "cells": [
  {
   "cell_type": "code",
   "execution_count": 1,
   "metadata": {
    "collapsed": true
   },
   "outputs": [],
   "source": [
    "import numpy as np\n",
    "import pandas as pd\n",
    "import matplotlib.pyplot as plt\n",
    "import csv\n",
    "%matplotlib inline"
   ]
  },
  {
   "cell_type": "code",
   "execution_count": 2,
   "metadata": {
    "collapsed": false
   },
   "outputs": [
    {
     "name": "stdout",
     "output_type": "stream",
     "text": [
      "C:\\Users\\piichan\\Documents\\Berkeley\\CoCoSci Lab\\mcrl\\mcrl\\experiments\\data\\human\\0.991\n"
     ]
    }
   ],
   "source": [
    "cd ..\\experiments\\data\\human\\0.991"
   ]
  },
  {
   "cell_type": "code",
   "execution_count": 3,
   "metadata": {
    "collapsed": false
   },
   "outputs": [],
   "source": [
    "df=pd.read_csv('trials.csv', sep=',')"
   ]
  },
  {
   "cell_type": "code",
   "execution_count": 4,
   "metadata": {
    "collapsed": false
   },
   "outputs": [],
   "source": [
    "import ast\n",
    "toList = lambda x: ast.literal_eval(x)\n",
    "df['clicks'] = df['clicks'].apply(toList)"
   ]
  },
  {
   "cell_type": "code",
   "execution_count": 5,
   "metadata": {
    "collapsed": false
   },
   "outputs": [],
   "source": [
    "df.sort_values('info_cost')\n",
    "low_cost = df.loc[df.info_cost == 0.25]\n",
    "med_cost = df.loc[df.info_cost == 1.0]\n",
    "high_cost = df.loc[df.info_cost == 4]"
   ]
  },
  {
   "cell_type": "code",
   "execution_count": 10,
   "metadata": {
    "collapsed": false
   },
   "outputs": [
    {
     "data": {
      "text/plain": [
       "0.3678385416666667"
      ]
     },
     "execution_count": 10,
     "metadata": {},
     "output_type": "execute_result"
    }
   ],
   "source": [
    "count = 0\n",
    "for seq in df['clicks']:\n",
    "    if seq == []:\n",
    "        count += 1\n",
    "        \n",
    "count/df['clicks'].size"
   ]
  },
  {
   "cell_type": "code",
   "execution_count": 31,
   "metadata": {
    "collapsed": false
   },
   "outputs": [
    {
     "data": {
      "text/plain": [
       "2.4193548387096775"
      ]
     },
     "execution_count": 31,
     "metadata": {},
     "output_type": "execute_result"
    }
   ],
   "source": [
    "cost_type = high_cost\n",
    "brfs_count = 0\n",
    "dfs_count = 0\n",
    "top = set([9, 10, 11, 12])\n",
    "left = set([13, 14, 15, 16])\n",
    "right = set([5,6,7,8])\n",
    "bottom = set([1, 2, 3, 4])\n",
    "for seq in cost_type['clicks']:\n",
    "    if seq == []:\n",
    "        continue     \n",
    "    if len(seq) < 4:\n",
    "        continue\n",
    "    first_four = seq[:4]\n",
    "    if set(first_four) == set([1,5,9,13]):\n",
    "        if len(seq) > 4:\n",
    "            rest = seq[4:]\n",
    "            if len(rest) > 4:\n",
    "                rest = seq[4:8]\n",
    "            if set(rest) <= set([2,6,10,14]):\n",
    "                brfs_count += 1 \n",
    "        else:\n",
    "            brfs_count += 1\n",
    "    elif (set(first_four) == top)or(set(first_four) == right)or(set(first_four) == bottom)or(set(first_four) == left):\n",
    "        if len(seq) > 4:\n",
    "            rest = set(seq[4:])\n",
    "            if len(rest) > 4:\n",
    "                more = True\n",
    "                rest = set(seq[4:8])\n",
    "            if (rest<=top)or(rest<=right)or(rest<=left)or(rest<=bottom):\n",
    "                if more:\n",
    "                    rest = set(seq[8:])\n",
    "                    if len(rest) > 4:\n",
    "                        rest = set(seq[8:12])\n",
    "                    if (rest<=top)or(rest<=right)or(rest<=left)or(rest<=bottom):\n",
    "                            dfs_count += 1                    \n",
    "                else:\n",
    "                    dfs_count += 1\n",
    "        else:\n",
    "            dfs_count += 1\n",
    "    else: #between 1 and 3 clicks were made\n",
    "        if (set(seq) < top)or(set(seq) < right)or(set(seq)< bottom) or (set(seq) < left):\n",
    "            dfs_count += 1\n",
    "        elif set(seq) < set([1, 5, 9, 13]):\n",
    "            brfs_count += 1\n",
    "        \n",
    "(dfs_count/cost_type['clicks'].size) * 100"
   ]
  },
  {
   "cell_type": "markdown",
   "metadata": {
    "collapsed": false
   },
   "source": [
    "ver 0.991 \n",
    "\n",
    "values are given in percentages; top to bottom is low, med, and high cost\n",
    "\n",
    "i stands for initial (only the first 4 clicks) while f stands for full (entire sequence)\n",
    "\n",
    "| Breadth-First | Depth-First(i)| Depth-First(f)|\n",
    "| ------------- |:-------------:| -------------:|\n",
    "| 3.02          | 12.50         |8.47       |\n",
    "| 6.07          | 12.13         |    9.375      |\n",
    "| 4.23          | 3.43          |    2.42       |"
   ]
  },
  {
   "cell_type": "code",
   "execution_count": 78,
   "metadata": {
    "collapsed": false
   },
   "outputs": [],
   "source": []
  },
  {
   "cell_type": "code",
   "execution_count": null,
   "metadata": {
    "collapsed": true
   },
   "outputs": [],
   "source": [
    "def classify(click_seq, num_strategies, strategies):\n",
    "    prob_array = np.zeros((1, num_strategies))\n",
    "    for click in click_seq:\n",
    "        pass\n",
    "    return prob_array"
   ]
  }
 ],
 "metadata": {
  "kernelspec": {
   "display_name": "Python 3",
   "language": "python",
   "name": "python3"
  },
  "language_info": {
   "codemirror_mode": {
    "name": "ipython",
    "version": 3
   },
   "file_extension": ".py",
   "mimetype": "text/x-python",
   "name": "python",
   "nbconvert_exporter": "python",
   "pygments_lexer": "ipython3",
   "version": "3.5.1"
  }
 },
 "nbformat": 4,
 "nbformat_minor": 0
}
