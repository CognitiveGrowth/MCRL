{
 "cells": [
  {
   "cell_type": "code",
   "execution_count": 36,
   "metadata": {
    "collapsed": false
   },
   "outputs": [],
   "source": [
    "import numpy as np\n",
    "import pandas as pd\n",
    "from scipy import optimize\n",
    "import matplotlib.pyplot as plt\n",
    "import csv\n",
    "import json\n",
    "\n",
    "%matplotlib inline"
   ]
  },
  {
   "cell_type": "code",
   "execution_count": 3,
   "metadata": {
    "collapsed": true
   },
   "outputs": [],
   "source": [
    "def softmax(x, temp=1):\n",
    "#     x should be as long as number of possible clicks, each possibility given a value (\n",
    "#     the x.max() is there for stability\n",
    "    ex = np.exp((x - x.max()) / temp)\n",
    "    return ex / ex.sum()"
   ]
  },
  {
   "cell_type": "code",
   "execution_count": 4,
   "metadata": {
    "collapsed": false
   },
   "outputs": [
    {
     "name": "stdout",
     "output_type": "stream",
     "text": [
      "C:\\Users\\piichan\\Documents\\Berkeley\\CoCoSci Lab\\mcrl\\mcrl\\experiments\\data\\human\\1.8\n"
     ]
    }
   ],
   "source": [
    "cd ..\\experiments\\data\\human\\1.8"
   ]
  },
  {
   "cell_type": "code",
   "execution_count": 5,
   "metadata": {
    "collapsed": false
   },
   "outputs": [],
   "source": [
    "df=pd.read_csv('trials.csv', sep=',')"
   ]
  },
  {
   "cell_type": "code",
   "execution_count": 6,
   "metadata": {
    "collapsed": false
   },
   "outputs": [],
   "source": [
    "import ast\n",
    "toList = lambda x: ast.literal_eval(x)\n",
    "df['clicks'] = df['clicks'].apply(toList)"
   ]
  },
  {
   "cell_type": "code",
   "execution_count": 7,
   "metadata": {
    "collapsed": false
   },
   "outputs": [
    {
     "name": "stdout",
     "output_type": "stream",
     "text": [
      "C:\\Users\\piichan\\Documents\\Berkeley\\CoCoSci Lab\\mcrl\\mcrl\\experiments\\exp1\\static\\json\n"
     ]
    }
   ],
   "source": [
    "cd ..\\..\\..\\exp1\\static\\json"
   ]
  },
  {
   "cell_type": "code",
   "execution_count": 8,
   "metadata": {
    "collapsed": false
   },
   "outputs": [],
   "source": [
    "with open('rewards_0.10.json') as f:\n",
    "    rewards_low = json.load(f)\n",
    "\n",
    "with open('rewards_1.25.json') as f:\n",
    "    rewards_med = json.load(f)\n",
    "    \n",
    "with open('rewards_4.00.json') as f:\n",
    "    rewards_high = json.load(f)"
   ]
  },
  {
   "cell_type": "code",
   "execution_count": 9,
   "metadata": {
    "collapsed": true
   },
   "outputs": [],
   "source": [
    "def get_rewards_for_trial(reward_type, trial_id):\n",
    "    for trial in reward_type['train']:\n",
    "        if trial['trial_id'] == trial_id:\n",
    "            return trial['stateRewards']\n",
    "    for trial in reward_type['test']:\n",
    "        if trial['trial_id'] == trial_id:\n",
    "            return trial['stateRewards']"
   ]
  },
  {
   "cell_type": "code",
   "execution_count": 10,
   "metadata": {
    "collapsed": false
   },
   "outputs": [
    {
     "data": {
      "text/plain": [
       "-0.52941176470588236"
      ]
     },
     "execution_count": 10,
     "metadata": {},
     "output_type": "execute_result"
    }
   ],
   "source": [
    "rewards = []\n",
    "\n",
    "for trial in rewards_low['train']:\n",
    "    rewards += trial['stateRewards']\n",
    "for trial in rewards_low['test']:\n",
    "    rewards += trial['stateRewards']    \n",
    "    \n",
    "np.mean(rewards)"
   ]
  },
  {
   "cell_type": "code",
   "execution_count": 11,
   "metadata": {
    "collapsed": false
   },
   "outputs": [
    {
     "data": {
      "text/plain": [
       "-0.34313725490196073"
      ]
     },
     "execution_count": 11,
     "metadata": {},
     "output_type": "execute_result"
    }
   ],
   "source": [
    "(-0.029411764705882353 + -0.47058823529411764 + -0.52941176470588236)/3"
   ]
  },
  {
   "cell_type": "markdown",
   "metadata": {},
   "source": [
    "## Likelihood Model"
   ]
  },
  {
   "cell_type": "code",
   "execution_count": 12,
   "metadata": {
    "collapsed": true
   },
   "outputs": [],
   "source": [
    "def prune(threshold, state):\n",
    "    #returns nodes on pruned branches\n",
    "    pruned = []\n",
    "    observed_states = np.nonzero(state)[0]\n",
    "    bottom = [1, 2, 3, 4]\n",
    "    top = [9, 10, 11, 12]\n",
    "    right = [5, 6, 7, 8]\n",
    "    left = [13, 14, 15, 16]\n",
    "    direction = False\n",
    "    if len(observed_states) != 0:\n",
    "        for loc in observed_states:\n",
    "            if (loc in [1, 2]) and (loc not in pruned):\n",
    "                direction = bottom\n",
    "            elif (loc in [5, 6]) and (loc not in pruned):\n",
    "                direction = right\n",
    "            elif (loc in [9, 10]) and (loc not in pruned):\n",
    "                direction = top\n",
    "            elif (loc in [13, 14]) and (loc not in pruned):\n",
    "                direction = left\n",
    "            if direction:\n",
    "                path_val = np.sum(state[direction])\n",
    "                if path_val < threshold:\n",
    "                    pruned += direction\n",
    "            else: #prune arm when both leaf nodes have a value below the threshold\n",
    "                if (loc in [3, 7, 11, 15]) and (loc not in pruned):\n",
    "                    if (state[loc] < threshold) and (state[loc+1] < threshold):\n",
    "                        pruned += [loc-2, loc-1, loc, loc+1]\n",
    "                elif (loc not in pruned):\n",
    "                    if (state[loc] < threshold) and (state[loc-1] < threshold):\n",
    "                        pruned += [loc-3, loc-2, loc-1, loc]\n",
    "    return pruned        "
   ]
  },
  {
   "cell_type": "code",
   "execution_count": 13,
   "metadata": {
    "collapsed": false
   },
   "outputs": [],
   "source": [
    "#Note: Only continues depth-first based off of the last click \n",
    "#TODO: Check if half-explored arms are eventually explored to completion\n",
    "def depth_first(state, cur_clicks, dist, strategy_t):\n",
    "    prob_next_click = np.zeros(17)\n",
    "    observed_states = np.nonzero(state)[0] #works only because indices represent location\n",
    "    possible_clicks = []\n",
    "    if len(cur_clicks) == 0:\n",
    "        possible_clicks += [1, 5, 9, 13]\n",
    "    else:\n",
    "        last_click = cur_clicks[-1]\n",
    "        if last_click in [1, 5, 9, 13]:\n",
    "            if last_click+1 in observed_states:\n",
    "                for click in [last_click+2, last_click+3]:\n",
    "                    if (click not in observed_states):\n",
    "                        possible_clicks.append(click)\n",
    "                if len(possible_clicks) == 0:\n",
    "                    for click in [1, 5, 9, 13]:\n",
    "                        if (click not in observed_states):\n",
    "                            possible_clicks.append(click)\n",
    "            else:\n",
    "                possible_clicks.append(last_click+1)            \n",
    "        else:\n",
    "            if last_click+1 in observed_states:\n",
    "                if last_click+2 in observed_states:\n",
    "                    for click in [1, 5, 9, 13]:\n",
    "                        if (click not in observed_states):\n",
    "                            possible_clicks.append(click)\n",
    "                elif (last_click+2 < 17):\n",
    "                    possible_clicks.append(last_click+2)\n",
    "                else:\n",
    "                    for click in [1, 5, 9, 13]:\n",
    "                        if (click not in observed_states):\n",
    "                            possible_clicks.append(click)\n",
    "            elif (last_click+1 < 17):\n",
    "                possible_clicks.append(last_click+1)\n",
    "            else:\n",
    "                for click in [1, 5, 9, 13]:\n",
    "                    if (click not in observed_states):\n",
    "                        possible_clicks.append(click)\n",
    "    if len(possible_clicks) != 0:\n",
    "        for possibility in possible_clicks:\n",
    "            if dist == 'Uniform':\n",
    "                prob_next_click[possibility] = 1/len(possible_clicks)\n",
    "            elif dist == 'Softmax':\n",
    "                prob_next_click[possibility] = 1\n",
    "    return prob_next_click"
   ]
  },
  {
   "cell_type": "code",
   "execution_count": 14,
   "metadata": {
    "collapsed": false
   },
   "outputs": [
    {
     "data": {
      "text/plain": [
       "array([ 0.,  1.,  0.,  0.,  0.,  1.,  0.,  0.,  0.,  1.,  0.,  0.,  0.,\n",
       "        1.,  0.,  0.,  0.])"
      ]
     },
     "execution_count": 14,
     "metadata": {},
     "output_type": "execute_result"
    }
   ],
   "source": [
    "test_state = np.array([0,1,5,0,20,0,0,0,0,0,0,0,0,1,0,-10,-10])\n",
    "res = depth_first(test_state, [], 'Softmax', None)\n",
    "res"
   ]
  },
  {
   "cell_type": "code",
   "execution_count": 15,
   "metadata": {
    "collapsed": false
   },
   "outputs": [],
   "source": [
    "def breadth_first(state, cur_clicks, dist, strategy_t):\n",
    "    prob_next_click = np.zeros(17)\n",
    "    observed_states = np.nonzero(state)[0]\n",
    "    possible_clicks = []\n",
    "    if len(cur_clicks) == 0:\n",
    "        possible_clicks += [1, 5, 9, 13]\n",
    "    else:\n",
    "        last_click = cur_clicks[-1]\n",
    "        if last_click in [1, 5, 9, 13]:\n",
    "            if set([1, 5, 9, 13]).issubset(set(observed_states)):\n",
    "                if set([2, 6, 10, 14]).issubset(set(observed_states)):\n",
    "                    for click in [3, 4, 7, 8, 11, 12, 15, 16]:\n",
    "                        if (click not in observed_states):\n",
    "                            possible_clicks.append(click)\n",
    "                else:\n",
    "                    for click in [2, 6, 10, 14]:\n",
    "                        if (click not in observed_states):\n",
    "                                possible_clicks.append(click)\n",
    "            else:\n",
    "                for click in [1, 5, 9, 13]:\n",
    "                    if (click not in observed_states):\n",
    "                            possible_clicks.append(click)\n",
    "        elif last_click in [2, 6, 10, 14]:\n",
    "            if set([2, 6, 10, 14]).issubset(set(observed_states)):\n",
    "                for click in [3, 4, 7, 8, 11, 12, 15, 16]:\n",
    "                    if (click not in observed_states):\n",
    "                        possible_clicks.append(click)\n",
    "            else:\n",
    "                for click in [2, 6, 10, 14]:\n",
    "                    if (click not in observed_states):\n",
    "                        possible_clicks.append(click)\n",
    "        else:\n",
    "            for click in [3, 4, 7, 8, 11, 12, 15, 16]:\n",
    "                    if (click not in observed_states):\n",
    "                        possible_clicks.append(click)\n",
    "    if len(possible_clicks) != 0:\n",
    "        for possibility in possible_clicks:\n",
    "            if dist == 'Uniform':\n",
    "                prob_next_click[possibility] = 1/len(possible_clicks)\n",
    "            elif dist == 'Softmax':\n",
    "                prob_next_click[possibility] = 1\n",
    "    return prob_next_click"
   ]
  },
  {
   "cell_type": "code",
   "execution_count": 16,
   "metadata": {
    "collapsed": false
   },
   "outputs": [
    {
     "data": {
      "text/plain": [
       "array([ 0.  ,  0.25,  0.  ,  0.  ,  0.  ,  0.25,  0.  ,  0.  ,  0.  ,\n",
       "        0.25,  0.  ,  0.  ,  0.  ,  0.25,  0.  ,  0.  ,  0.  ])"
      ]
     },
     "execution_count": 16,
     "metadata": {},
     "output_type": "execute_result"
    }
   ],
   "source": [
    "test_state = np.array([0,1,5,0,20,5,0,0,0,-3,0,0,0,1,0,-10,-10])\n",
    "res = breadth_first(test_state, [], 'Uniform', None)\n",
    "res"
   ]
  },
  {
   "cell_type": "code",
   "execution_count": 17,
   "metadata": {
    "collapsed": false
   },
   "outputs": [],
   "source": [
    "def best_first(state, cur_clicks, dist, strategy_t):\n",
    "    prob_next_click = np.zeros(17)\n",
    "    observed_states = np.nonzero(state)[0]\n",
    "    possible_clicks = []\n",
    "    expected_reward_value = -0.343 # expected reward calculated by taking the mean of each trial's rewards\n",
    "    if len(cur_clicks) == 0:\n",
    "        possible_clicks += [1, 2, 3, 4, 5, 6, 7, 8, 9, 10, 11, 12, 13, 14, 15, 16]\n",
    "    else:\n",
    "        for i in np.arange(1,17):\n",
    "            if (i not in observed_states):\n",
    "                possible_clicks.append(i)\n",
    "    actual_state = np.copy(state)\n",
    "    for i in np.arange(1, 17):\n",
    "        if state[i] == 0:\n",
    "            state[i] = expected_reward_value\n",
    "    if len(possible_clicks) != 0:\n",
    "        for possibility in possible_clicks:\n",
    "            if possibility in [1, 5, 9, 13]:\n",
    "                indices = [possibility+1, possibility+2]\n",
    "                path_1 = np.sum(state[indices])\n",
    "                indices[1] += 1\n",
    "                path_2 = np.sum(state[indices])\n",
    "                prob_next_click[possibility] = np.maximum(path_1, path_2)\n",
    "            elif possibility in [2, 6, 10, 14]:\n",
    "                indices = [possibility-1, possibility+1]\n",
    "                path_1 = np.sum(state[indices])\n",
    "                indices[1] += 1\n",
    "                path_2 = np.sum(state[indices])\n",
    "                prob_next_click[possibility] = np.maximum(path_1, path_2)\n",
    "            elif possibility in [4, 8, 12, 16]:\n",
    "                indices = [possibility-1, possibility-3]\n",
    "                prob_next_click[possibility] = np.sum(state[indices])\n",
    "            else:\n",
    "                indices = [possibility-1, possibility-2]\n",
    "                prob_next_click[possibility] = np.sum(state[indices])\n",
    "    return prob_next_click"
   ]
  },
  {
   "cell_type": "code",
   "execution_count": 18,
   "metadata": {
    "collapsed": false
   },
   "outputs": [
    {
     "data": {
      "text/plain": [
       "array([ 0.,  0.,  0.,  6.,  0.,  0.,  5.,  5.,  5.,  0., -3., -3., -3.,\n",
       "        0., -9.,  0.,  0.])"
      ]
     },
     "execution_count": 18,
     "metadata": {},
     "output_type": "execute_result"
    }
   ],
   "source": [
    "#state = np.array([0, 0, 20, 0, 0, 12, -8, 0, 0, -4, 0, 0, 0, 10, 0, 0, 0])\n",
    "test_state = np.array([0,1,5,0,20,5,0,0,0,-3,0,0,0,1,0,-10,-10])\n",
    "res = best_first(test_state, [1, 4, 16, 2, 13], 'Uniform', None)\n",
    "res"
   ]
  },
  {
   "cell_type": "code",
   "execution_count": 19,
   "metadata": {
    "collapsed": true
   },
   "outputs": [],
   "source": [
    "def backwards_best(state, cur_clicks, dist, strategy_t):\n",
    "    prob_next_click = np.zeros(17)\n",
    "    observed_states = np.nonzero(state)[0]\n",
    "    possible_clicks = []\n",
    "    leaves = [3, 4, 7, 8, 11, 12, 15, 16]\n",
    "    goal = False\n",
    "    goal_node = None\n",
    "    if len(cur_clicks) == 0:\n",
    "        possible_clicks += leaves\n",
    "    else:\n",
    "        for leaf in leaves: # should the leaves be examined in the order clicked?\n",
    "            if state[leaf] > strategy_t: #a goal node has been identified\n",
    "                #check that the whole arm hasn't been explored before marking goal as true\n",
    "                if leaf in [3, 7, 11, 15]:\n",
    "                    if (leaf-1 not in observed_states) or (leaf-2 not in observed_states):\n",
    "                        goal = True\n",
    "                        goal_node = leaf\n",
    "                        break\n",
    "                else:\n",
    "                    if (leaf-2 not in observed_states) or (leaf-3 not in observed_states):\n",
    "                        goal = True\n",
    "                        goal_node = leaf\n",
    "                        break\n",
    "        if goal:\n",
    "            #go backwards on that arm\n",
    "            if goal_node in [3, 7, 11, 15]:\n",
    "                if goal_node-1 not in observed_states:\n",
    "                    possible_clicks.append(goal_node-1)\n",
    "                else:\n",
    "                    possible_clicks.append(goal_node-2)\n",
    "            else:\n",
    "                if goal_node-2 not in observed_states:\n",
    "                    possible_clicks.append(goal_node-2)\n",
    "                else:\n",
    "                    possible_clicks.append(goal_node-3)\n",
    "        else:\n",
    "            for leaf in leaves:\n",
    "                if leaf not in observed_states:\n",
    "                    possible_clicks.append(leaf)\n",
    "            \n",
    "    if len(possible_clicks) != 0:\n",
    "        for possibility in possible_clicks:\n",
    "            if possibility in [1, 5, 9, 13]:\n",
    "                indices = [possibility+1, possibility+2]\n",
    "                path_1 = np.sum(state[indices])\n",
    "                indices[1] += 1\n",
    "                path_2 = np.sum(state[indices])\n",
    "                prob_next_click[possibility] = np.maximum(path_1, path_2)\n",
    "            elif possibility in [2, 6, 10, 14]:\n",
    "                indices = [possibility-1, possibility+1]\n",
    "                path_1 = np.sum(state[indices])\n",
    "                indices[1] += 1\n",
    "                path_2 = np.sum(state[indices])\n",
    "                prob_next_click[possibility] = np.maximum(path_1, path_2)\n",
    "            elif possibility in [4, 8, 12, 16]:\n",
    "                indices = [possibility-1, possibility-3]\n",
    "                prob_next_click[possibility] = np.sum(state[indices])\n",
    "            else:\n",
    "                indices = [possibility-1, possibility-2]\n",
    "                prob_next_click[possibility] = np.sum(state[indices])\n",
    "    return prob_next_click"
   ]
  },
  {
   "cell_type": "code",
   "execution_count": 20,
   "metadata": {
    "collapsed": false
   },
   "outputs": [
    {
     "data": {
      "text/plain": [
       "array([ 0.,  0.,  0.,  6.,  0.,  0.,  0.,  5.,  5.,  0.,  0., -3., -3.,\n",
       "        0.,  0.,  0.,  0.])"
      ]
     },
     "execution_count": 20,
     "metadata": {},
     "output_type": "execute_result"
    }
   ],
   "source": [
    "test_state = np.array([0,1,5,0,20,5,0,0,0,-3,0,0,0,1,0,-10,-10])\n",
    "res = backwards_best(test_state, [1, 4, 16, 2, 13], 'Softmax', 0)\n",
    "res"
   ]
  },
  {
   "cell_type": "code",
   "execution_count": 21,
   "metadata": {
    "collapsed": true
   },
   "outputs": [],
   "source": [
    "def satisficing_stop(state, threshold):\n",
    "    bottom = [1, 2, 3, 4]\n",
    "    top = [9, 10, 11, 12]\n",
    "    right = [5, 6, 7, 8]\n",
    "    left = [13, 14, 15, 16]\n",
    "    for direction in [bottom, top, right, left]:\n",
    "        observed_value = np.sum(state[direction])\n",
    "        if observed_value > threshold:\n",
    "            return True\n",
    "    return False    "
   ]
  },
  {
   "cell_type": "code",
   "execution_count": 22,
   "metadata": {
    "collapsed": true
   },
   "outputs": [],
   "source": [
    "def strategy_likelihood(click_seq, strategy, cost_per_click, rewards, p_error, soft_temp=1,\n",
    "                        log=False, dist='Softmax', strategy_t=-20, pruned=(0.5,-30), stop=(0,0)):\n",
    "    #stop should be a tuple of (stopping rule type, threshold)\n",
    "    #pruned is a tuple of (pruning probability, pruning threshold) where pruning probability > 0.5\n",
    "    if log:\n",
    "        prob = 0\n",
    "    else:\n",
    "        prob = 1\n",
    "    cur_state = np.zeros(17)\n",
    "    cur_clicks = []\n",
    "    stop_type = stop[0]\n",
    "    stop_threshold = stop[1]\n",
    "    c_seq = list(click_seq) #don't want to modify the actual data\n",
    "    c_seq.append(0) #0 serves as the termination action\n",
    "    for click in c_seq:\n",
    "        possible_next_clicks = strategy(cur_state, cur_clicks, dist, strategy_t)\n",
    "        pruned_nodes = prune(pruned[1], cur_state)\n",
    "        next_state = np.copy(cur_state)\n",
    "        next_state[click] = rewards[click]\n",
    "        cur_clicks.append(click)\n",
    "        n_possible_clicks = np.count_nonzero(possible_next_clicks)\n",
    "        if stop_type == 1: # number of clicks x cost per click\n",
    "            if (len(cur_clicks)*cost_per_click) > stop_threshold:\n",
    "                possible_next_clicks = np.zeros(17)\n",
    "        elif stop_type == 2: #satisficing\n",
    "            stop_flag = satisficing_stop(cur_state, stop_threshold)\n",
    "            if stop_flag:\n",
    "                possible_next_clicks = np.zeros(17)\n",
    "                possible_next_clicks[0] = 1\n",
    "        if dist == 'Uniform':\n",
    "            for n in pruned_nodes:\n",
    "                possible_next_clicks[n] *= (1-pruned[0])\n",
    "            possible_next_clicks /= np.sum(possible_next_clicks)\n",
    "            p_strat = possible_next_clicks[click]\n",
    "            if (click == 0) and ~np.all(possible_next_clicks):\n",
    "                p_strat = 1\n",
    "            num_wrong_clicks = 16 - (np.count_nonzero(cur_state)+n_possible_clicks)\n",
    "            p_click_given_state = (((1-p_error)*p_strat) + (p_error/num_wrong_clicks))\n",
    "        elif dist == 'Softmax':\n",
    "            prob_next_clicks = softmax(possible_next_clicks, soft_temp)\n",
    "            for n in pruned_nodes:\n",
    "                prob_next_clicks[n] *= (1-pruned[0])\n",
    "            prob_next_clicks /= np.sum(prob_next_clicks)\n",
    "            p_click_given_state = prob_next_clicks[click]\n",
    "        if log:\n",
    "            prob += np.log(p_click_given_state)\n",
    "        else:\n",
    "            prob *= p_click_given_state\n",
    "        cur_state = next_state\n",
    "    return prob"
   ]
  },
  {
   "cell_type": "code",
   "execution_count": 49,
   "metadata": {
    "collapsed": false
   },
   "outputs": [
    {
     "name": "stdout",
     "output_type": "stream",
     "text": [
      "Wall time: 0 ns\n"
     ]
    }
   ],
   "source": [
    "def likelihood_model(data, temp, satisfice, p_prune, prune_t):\n",
    "    all_likelihoods = np.zeros((len(data.values), 6))\n",
    "\n",
    "    p_error = 0.1\n",
    "    softmax_temp = temp\n",
    "    for i in np.arange(len(data.values)):\n",
    "        trial = data.values[i]\n",
    "        all_likelihoods[i, 0] = trial[1] #pid\n",
    "        click_cost = trial[2]\n",
    "        if click_cost != 1.25:\n",
    "            continue\n",
    "        all_likelihoods[i, 1] = click_cost\n",
    "        click_seq = trial[10]\n",
    "        trial_id = trial[6]\n",
    "        if click_cost == 0.10:\n",
    "            rewards = get_rewards_for_trial(rewards_low, trial_id)\n",
    "        elif click_cost == 1.25:\n",
    "            rewards = get_rewards_for_trial(rewards_med, trial_id)\n",
    "        elif click_cost == 4.00:\n",
    "            rewards = get_rewards_for_trial(rewards_high, trial_id)\n",
    "        likelihood = strategy_likelihood(click_seq, depth_first, click_cost, rewards, p_error, softmax_temp, log=True, stop=(2, satisfice), pruned=(p_prune, prune_t))\n",
    "#         strategies = [depth_first, breadth_first, best_first, backwards_best]\n",
    "#         for j in np.arange(4):\n",
    "#             strat = strategies[j]\n",
    "#             likelihood = strategy_likelihood(click_seq, strat, click_cost, rewards, p_error, softmax_temp, log=True, stop=(2, satisfice), pruned=(p_prune, prune_t))\n",
    "#             all_likelihoods[i, j+2] = likelihood\n",
    "    return -likelihood"
   ]
  },
  {
   "cell_type": "code",
   "execution_count": 50,
   "metadata": {
    "collapsed": false
   },
   "outputs": [
    {
     "data": {
      "text/plain": [
       "      fun: 2.8345619967080777\n",
       " hess_inv: array([[  3.15308682e+06,   0.00000000e+00,   0.00000000e+00,\n",
       "          0.00000000e+00],\n",
       "       [  0.00000000e+00,   1.00000000e+00,   0.00000000e+00,\n",
       "          0.00000000e+00],\n",
       "       [  0.00000000e+00,   0.00000000e+00,   1.00000000e+00,\n",
       "          0.00000000e+00],\n",
       "       [  0.00000000e+00,   0.00000000e+00,   0.00000000e+00,\n",
       "          1.00000000e+00]])\n",
       "      jac: array([ -7.71880150e-06,   0.00000000e+00,   0.00000000e+00,\n",
       "         0.00000000e+00])\n",
       "  message: 'Optimization terminated successfully.'\n",
       "     nfev: 120\n",
       "      nit: 19\n",
       "     njev: 20\n",
       "   status: 0\n",
       "  success: True\n",
       "        x: array([ 174.84796513,    0.        ,    0.5       ,  -10.        ])"
      ]
     },
     "execution_count": 50,
     "metadata": {},
     "output_type": "execute_result"
    }
   ],
   "source": [
    "%%time\n",
    "optimize.minimize(lambda x: likelihood_model(df, *x), [1, 0, 0.5, -10], method='BFGS')"
   ]
  },
  {
   "cell_type": "code",
   "execution_count": 45,
   "metadata": {
    "collapsed": false
   },
   "outputs": [],
   "source": [
    "all_likelihoods = likelihood_model(df, 1, -5, 0.5, -30)"
   ]
  },
  {
   "cell_type": "code",
   "execution_count": null,
   "metadata": {
    "collapsed": false
   },
   "outputs": [],
   "source": [
    "likelihood_df = pd.DataFrame(all_likelihoods, columns=['pid', 'click_cost', 'depth_first', \n",
    "                                                       'breadth_first', 'best_first', 'backwards_best' ])"
   ]
  },
  {
   "cell_type": "code",
   "execution_count": 29,
   "metadata": {
    "collapsed": false
   },
   "outputs": [
    {
     "data": {
      "text/plain": [
       "-440.25977950344355"
      ]
     },
     "execution_count": 29,
     "metadata": {},
     "output_type": "execute_result"
    }
   ],
   "source": [
    "np.mean(likelihood_df['breadth_first']) * 100"
   ]
  },
  {
   "cell_type": "markdown",
   "metadata": {},
   "source": [
    "## Misc."
   ]
  },
  {
   "cell_type": "code",
   "execution_count": null,
   "metadata": {
    "collapsed": false
   },
   "outputs": [],
   "source": [
    "def strategy_features(state, last_click, action, expansion_rule):\n",
    "    #returns an array of indicator values for each feature; value is 1 if action is compatible with the strategy\n",
    "    ''' Features:\n",
    "        [0] is_term\n",
    "        [1] term_reward\n",
    "        [2] voi_myopic\n",
    "        [3] vpi_action\n",
    "        [4] vpi_full\n",
    "        [5] quality_ev\n",
    "        [6] quality_std\n",
    "        [7] depth\n",
    "        [8] same_branch_as_last\n",
    "    '''\n",
    "    features = np.zeros(9)\n",
    "    prob_next_click = expansion_rule(state, [last_click], 'Uniform', None, -30)\n",
    "    func_name = expansion_rule.__name__\n",
    "    if func_name == 'best_first':\n",
    "        max_prob = np.maximum(prob_next_click)\n",
    "        if prob_next_click[action] == max_prob:\n",
    "            features[5] = 1\n",
    "    elif func_name == 'breadth_first':\n",
    "        if prob_next_click[action] > 0:\n",
    "            features[7] = -1\n",
    "    elif func_name == 'depth_first':\n",
    "        if prob_next_click[action] > 0:\n",
    "            features[6] = -1\n",
    "            features[7] = -1\n",
    "    \n",
    "    return features"
   ]
  },
  {
   "cell_type": "code",
   "execution_count": null,
   "metadata": {
    "collapsed": false
   },
   "outputs": [],
   "source": [
    "strategy_features(np.array([0, 1, 2, 0, 0, 0, 0,0,0,0,0,0,0,0,0,0,0]), 2, 3, depth_first)"
   ]
  },
  {
   "cell_type": "markdown",
   "metadata": {
    "collapsed": false
   },
   "source": [
    "### Brute Force Approach"
   ]
  },
  {
   "cell_type": "code",
   "execution_count": null,
   "metadata": {
    "collapsed": false
   },
   "outputs": [],
   "source": [
    "df.sort_values('info_cost')\n",
    "low_cost = df.loc[df.info_cost == 0.1]\n",
    "med_cost = df.loc[df.info_cost == 1.25]\n",
    "high_cost = df.loc[df.info_cost == 4]"
   ]
  },
  {
   "cell_type": "code",
   "execution_count": null,
   "metadata": {
    "collapsed": false
   },
   "outputs": [],
   "source": [
    "cost_type = low_cost\n",
    "brfs_count = 0\n",
    "dfs_count = 0\n",
    "top = set([9, 10, 11, 12])\n",
    "left = set([13, 14, 15, 16])\n",
    "right = set([5,6,7,8])\n",
    "bottom = set([1, 2, 3, 4])\n",
    "for seq in cost_type['clicks']:\n",
    "    if seq == []:\n",
    "        continue     \n",
    "    if len(seq) < 4:\n",
    "        continue\n",
    "    first_four = seq[:4]\n",
    "    if set(first_four) == set([1,5,9,13]):\n",
    "        if len(seq) > 4:\n",
    "            rest = seq[4:]\n",
    "            if len(rest) > 4:\n",
    "                rest = seq[4:8]\n",
    "            if set(rest) <= set([2,6,10,14]):\n",
    "                brfs_count += 1 \n",
    "        else:\n",
    "            brfs_count += 1\n",
    "    elif (set(first_four) == top)or(set(first_four) == right)or(set(first_four) == bottom)or(set(first_four) == left):\n",
    "        if len(seq) > 4:\n",
    "            rest = set(seq[4:])\n",
    "            more = False\n",
    "            if len(rest) > 4:\n",
    "                more = True\n",
    "                rest = set(seq[4:8])\n",
    "            if (rest<=top)or(rest<=right)or(rest<=left)or(rest<=bottom):\n",
    "                if more:\n",
    "                    rest = set(seq[8:])\n",
    "                    if len(rest) > 4:\n",
    "                        rest = set(seq[8:12])\n",
    "                    if (rest<=top)or(rest<=right)or(rest<=left)or(rest<=bottom):\n",
    "                            dfs_count += 1                    \n",
    "                else:\n",
    "                    dfs_count += 1\n",
    "        else:\n",
    "            dfs_count += 1\n",
    "    else: #between 1 and 3 clicks were made\n",
    "        if (set(seq) < top)or(set(seq) < right)or(set(seq)< bottom) or (set(seq) < left):\n",
    "            dfs_count += 1\n",
    "        elif set(seq) < set([1, 5, 9, 13]):\n",
    "            brfs_count += 1\n",
    "        \n",
    "(brfs_count/cost_type['clicks'].size) * 100"
   ]
  },
  {
   "cell_type": "markdown",
   "metadata": {
    "collapsed": false
   },
   "source": [
    "ver 0.991 \n",
    "\n",
    "values are given in percentages; top to bottom is low, med, and high cost\n",
    "\n",
    "i stands for initial (only the first 4 clicks) while f stands for full (entire sequence)\n",
    "\n",
    "| Breadth-First | Depth-First(i)| Depth-First(f)|\n",
    "| ------------- |:-------------:| -------------:|\n",
    "| 3.02          | 12.50         |8.47       |\n",
    "| 6.07          | 12.13         |    9.375      |\n",
    "| 4.23          | 3.43          |    2.42       |\n",
    "\n"
   ]
  }
 ],
 "metadata": {
  "kernelspec": {
   "display_name": "Python 3",
   "language": "python",
   "name": "python3"
  },
  "language_info": {
   "codemirror_mode": {
    "name": "ipython",
    "version": 3
   },
   "file_extension": ".py",
   "mimetype": "text/x-python",
   "name": "python",
   "nbconvert_exporter": "python",
   "pygments_lexer": "ipython3",
   "version": "3.5.4"
  }
 },
 "nbformat": 4,
 "nbformat_minor": 0
}
