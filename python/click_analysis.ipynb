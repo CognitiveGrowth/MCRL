{
 "cells": [
  {
   "cell_type": "code",
   "execution_count": 1,
   "metadata": {
    "collapsed": true
   },
   "outputs": [],
   "source": [
    "import numpy as np\n",
    "import pandas as pd\n",
    "import matplotlib.pyplot as plt\n",
    "import csv\n",
    "%matplotlib inline"
   ]
  },
  {
   "cell_type": "code",
   "execution_count": 2,
   "metadata": {
    "collapsed": false
   },
   "outputs": [
    {
     "name": "stdout",
     "output_type": "stream",
     "text": [
      "C:\\Users\\piichan\\Documents\\Berkeley\\CoCoSci Lab\\mcrl\\mcrl\\experiments\\data\\human\\1.7\n"
     ]
    }
   ],
   "source": [
    "cd ..\\experiments\\data\\human\\1.7"
   ]
  },
  {
   "cell_type": "code",
   "execution_count": 3,
   "metadata": {
    "collapsed": false
   },
   "outputs": [],
   "source": [
    "df=pd.read_csv('trials.csv', sep=',')"
   ]
  },
  {
   "cell_type": "code",
   "execution_count": 4,
   "metadata": {
    "collapsed": false
   },
   "outputs": [],
   "source": [
    "import ast\n",
    "toList = lambda x: ast.literal_eval(x)\n",
    "df['clicks'] = df['clicks'].apply(toList)"
   ]
  },
  {
   "cell_type": "code",
   "execution_count": 5,
   "metadata": {
    "collapsed": false
   },
   "outputs": [
    {
     "data": {
      "text/plain": [
       "array([ 0.1 ,  1.25,  4.  ])"
      ]
     },
     "execution_count": 5,
     "metadata": {},
     "output_type": "execute_result"
    }
   ],
   "source": [
    "df.info_cost.unique()"
   ]
  },
  {
   "cell_type": "code",
   "execution_count": 6,
   "metadata": {
    "collapsed": false
   },
   "outputs": [],
   "source": [
    "df.sort_values('info_cost')\n",
    "low_cost = df.loc[df.info_cost == 0.1]\n",
    "med_cost = df.loc[df.info_cost == 1.25]\n",
    "high_cost = df.loc[df.info_cost == 4]"
   ]
  },
  {
   "cell_type": "code",
   "execution_count": 7,
   "metadata": {
    "collapsed": false
   },
   "outputs": [
    {
     "data": {
      "text/plain": [
       "0.30399568034557234"
      ]
     },
     "execution_count": 7,
     "metadata": {},
     "output_type": "execute_result"
    }
   ],
   "source": [
    "count = 0\n",
    "for seq in df['clicks']:\n",
    "    if seq == []:\n",
    "        count += 1\n",
    "        \n",
    "count/df['clicks'].size"
   ]
  },
  {
   "cell_type": "code",
   "execution_count": null,
   "metadata": {
    "collapsed": false
   },
   "outputs": [],
   "source": []
  },
  {
   "cell_type": "code",
   "execution_count": 8,
   "metadata": {
    "collapsed": false
   },
   "outputs": [
    {
     "data": {
      "text/plain": [
       "5.0245098039215685"
      ]
     },
     "execution_count": 8,
     "metadata": {},
     "output_type": "execute_result"
    }
   ],
   "source": [
    "cost_type = low_cost\n",
    "brfs_count = 0\n",
    "dfs_count = 0\n",
    "top = set([9, 10, 11, 12])\n",
    "left = set([13, 14, 15, 16])\n",
    "right = set([5,6,7,8])\n",
    "bottom = set([1, 2, 3, 4])\n",
    "for seq in cost_type['clicks']:\n",
    "    if seq == []:\n",
    "        continue     \n",
    "    if len(seq) < 4:\n",
    "        continue\n",
    "    first_four = seq[:4]\n",
    "    if set(first_four) == set([1,5,9,13]):\n",
    "        if len(seq) > 4:\n",
    "            rest = seq[4:]\n",
    "            if len(rest) > 4:\n",
    "                rest = seq[4:8]\n",
    "            if set(rest) <= set([2,6,10,14]):\n",
    "                brfs_count += 1 \n",
    "        else:\n",
    "            brfs_count += 1\n",
    "    elif (set(first_four) == top)or(set(first_four) == right)or(set(first_four) == bottom)or(set(first_four) == left):\n",
    "        if len(seq) > 4:\n",
    "            rest = set(seq[4:])\n",
    "            more = False\n",
    "            if len(rest) > 4:\n",
    "                more = True\n",
    "                rest = set(seq[4:8])\n",
    "            if (rest<=top)or(rest<=right)or(rest<=left)or(rest<=bottom):\n",
    "                if more:\n",
    "                    rest = set(seq[8:])\n",
    "                    if len(rest) > 4:\n",
    "                        rest = set(seq[8:12])\n",
    "                    if (rest<=top)or(rest<=right)or(rest<=left)or(rest<=bottom):\n",
    "                            dfs_count += 1                    \n",
    "                else:\n",
    "                    dfs_count += 1\n",
    "        else:\n",
    "            dfs_count += 1\n",
    "    else: #between 1 and 3 clicks were made\n",
    "        if (set(seq) < top)or(set(seq) < right)or(set(seq)< bottom) or (set(seq) < left):\n",
    "            dfs_count += 1\n",
    "        elif set(seq) < set([1, 5, 9, 13]):\n",
    "            brfs_count += 1\n",
    "        \n",
    "(brfs_count/cost_type['clicks'].size) * 100"
   ]
  },
  {
   "cell_type": "markdown",
   "metadata": {
    "collapsed": false
   },
   "source": [
    "ver 0.991 \n",
    "\n",
    "values are given in percentages; top to bottom is low, med, and high cost\n",
    "\n",
    "i stands for initial (only the first 4 clicks) while f stands for full (entire sequence)\n",
    "\n",
    "| Breadth-First | Depth-First(i)| Depth-First(f)|\n",
    "| ------------- |:-------------:| -------------:|\n",
    "| 3.02          | 12.50         |8.47       |\n",
    "| 6.07          | 12.13         |    9.375      |\n",
    "| 4.23          | 3.43          |    2.42       |\n",
    "\n"
   ]
  },
  {
   "cell_type": "code",
   "execution_count": 2,
   "metadata": {
    "collapsed": false
   },
   "outputs": [],
   "source": [
    "def depth_first(state, cur_clicks, dist, prune_t):\n",
    "    prob_next_click = np.zeros(17)\n",
    "    observed_states = np.nonzero(state)[0] #works only because indices represent location\n",
    "    possible_clicks = []\n",
    "    last_click = cur_clicks[:-1]\n",
    "    pruned_nodes = prune(prune_t, state)\n",
    "    if len(last_click) == 0:\n",
    "        possible_clicks += [1, 5, 9, 13]\n",
    "    elif last_click in [1, 5, 9, 13]:\n",
    "        if last_click+1 in observed_states:\n",
    "            for click in [last_click+2, last_click+3]:\n",
    "                if (click not in observed_states) and (click not in pruned_nodes):\n",
    "                    possible_clicks.append(click)\n",
    "            if len(possible_clicks) == 0:\n",
    "                for click in [1, 5, 9, 13]:\n",
    "                    if (click not in observed_states) and (click not in pruned_nodes):\n",
    "                        possible_clicks.append(click)\n",
    "        else:\n",
    "            if last_click+1 not in pruned_nodes:\n",
    "                possible_clicks.append(last_click+1)\n",
    "            else:\n",
    "                click_candidates = [1, 5, 9, 13].remove(last_click)\n",
    "                for c in click_candidates:\n",
    "                    if (c in observed_states) or (c in pruned_nodes):\n",
    "                        click_candidates.remove(c)\n",
    "                possible_clicks += click_candidates\n",
    "    else:\n",
    "        if last_click+1 in observed_states:\n",
    "            if last_click+2 in observed_states:\n",
    "                for click in [1, 5, 9, 13]:\n",
    "                    if (click not in observed_states) and (click not in pruned_nodes):\n",
    "                        possible_clicks.append(click)\n",
    "            elif (last_click+2 < 17) and (last_click+2 not in pruned_nodes):\n",
    "                possible_clicks.append(last_click+2)\n",
    "            else:\n",
    "                for click in [1, 5, 9, 13]:\n",
    "                    if (click not in observed_states) and (click not in pruned_nodes):\n",
    "                        possible_clicks.append(click)\n",
    "        elif (last_click+1 < 17) and (last_click+1 not in pruned_nodes):\n",
    "            possible_clicks.append(last_click+1)\n",
    "        else:\n",
    "            for click in [1, 5, 9, 13]:\n",
    "                    if (click not in observed_states) and (click not in pruned_nodes):\n",
    "                        possible_clicks.append(click)\n",
    "    if len(possible_clicks) != 0:\n",
    "        for possibility in possible_clicks:\n",
    "            if dist == 'Uniform':\n",
    "                prob_next_click[possibility] = 1/len(possible_clicks)\n",
    "    return prob_next_click"
   ]
  },
  {
   "cell_type": "code",
   "execution_count": 31,
   "metadata": {
    "collapsed": false
   },
   "outputs": [
    {
     "data": {
      "text/plain": [
       "array([ 0. ,  0. ,  0. ,  0. ,  0. ,  0. ,  0. ,  0. ,  0. ,  0.5,  0. ,\n",
       "        0. ,  0. ,  0.5,  0. ,  0. ,  0. ])"
      ]
     },
     "execution_count": 31,
     "metadata": {},
     "output_type": "execute_result"
    }
   ],
   "source": [
    "test_state = [0,1,1,0,0,1,0,0,0,0,0,0,0,0,0,0,1]\n",
    "res = depth_first(test_state, 16, 'Uniform')\n",
    "res"
   ]
  },
  {
   "cell_type": "code",
   "execution_count": 3,
   "metadata": {
    "collapsed": false
   },
   "outputs": [],
   "source": [
    "#needs to be tested\n",
    "def breadth_first(state, cur_clicks, dist, prune_t):\n",
    "    prob_next_click = np.zeros(17)\n",
    "    observed_states = np.nonzero(state)[0]\n",
    "    possible_clicks = []\n",
    "    last_click = cur_clicks[:-1]\n",
    "    pruned_nodes = prune(prune_t, state)\n",
    "    if len(last_click) == 0:\n",
    "        possible_clicks += [1, 5, 9, 13]\n",
    "    elif last_click in [1, 5, 9, 13]:\n",
    "        if set([1, 5, 9, 13]).issubset(set(observed_states)):\n",
    "            if set([2, 6, 10, 14]).issubset(set(observed_states)):\n",
    "                for click in [3, 4, 7, 8, 11, 12, 15, 16]:\n",
    "                    if (click not in observed_states) and (click not in pruned_nodes):\n",
    "                        possible_clicks.append(click)\n",
    "            else:\n",
    "                for click in [2, 6, 10, 14]:\n",
    "                    if (click not in observed_states) and (click not in pruned_nodes):\n",
    "                            possible_clicks.append(click)\n",
    "        else:\n",
    "            for click in [1, 5, 9, 13]:\n",
    "                if (click not in observed_states) and (click not in pruned_nodes):\n",
    "                        possible_clicks.append(click)\n",
    "    elif last_click in [2, 6, 10, 14]:\n",
    "        if set([2, 6, 10, 14]).issubset(set(observed_states)):\n",
    "            for click in [3, 4, 7, 8, 11, 12, 15, 16]:\n",
    "                if (click not in observed_states) and (click not in pruned_nodes):\n",
    "                    possible_clicks.append(click)\n",
    "        else:\n",
    "            for click in [2, 6, 10, 14]:\n",
    "                if (click not in observed_states) and (click not in pruned_nodes):\n",
    "                    possible_clicks.append(click)\n",
    "    else:\n",
    "        for click in [3, 4, 7, 8, 11, 12, 15, 16]:\n",
    "                if (click not in observed_states) and (click not in pruned_nodes):\n",
    "                    possible_clicks.append(click)\n",
    "    if len(possible_clicks) != 0:\n",
    "        for possibility in possible_clicks:\n",
    "            if dist == 'Uniform':\n",
    "                prob_next_click[possibility] = 1/len(possible_clicks)\n",
    "    return prob_next_click"
   ]
  },
  {
   "cell_type": "code",
   "execution_count": 17,
   "metadata": {
    "collapsed": false
   },
   "outputs": [
    {
     "data": {
      "text/plain": [
       "[1, 3]"
      ]
     },
     "execution_count": 17,
     "metadata": {},
     "output_type": "execute_result"
    }
   ],
   "source": []
  },
  {
   "cell_type": "code",
   "execution_count": 4,
   "metadata": {
    "collapsed": false
   },
   "outputs": [],
   "source": [
    "#assumes that average reward value is 0\n",
    "#needs to be tested\n",
    "def best_first(state, cur_clicks, dist, prune_t):\n",
    "    prob_next_click = np.zeros(17)\n",
    "    observed_states = np.nonzero(state)[0]\n",
    "    possible_clicks = []\n",
    "    last_click = cur_clicks[:-1]\n",
    "    pruned_nodes = prune(prune_t, state)\n",
    "    if len(last_click) == 0:\n",
    "        possible_clicks += [1, 2, 3, 4, 5, 6, 7, 8, 9, 10, 11, 12, 13, 14, 15, 16]\n",
    "    else:\n",
    "        for i in np.arange(1,17):\n",
    "            if (i not in observed_states) and (i not in pruned_nodes):\n",
    "                possible_clicks.append(i)\n",
    "    if len(possible_clicks) != 0:\n",
    "        for possibility in possible_clicks:\n",
    "            if possibility in [1, 5, 9, 13]:\n",
    "                indices = [possibility+1, possibility+2]\n",
    "                path_1 = np.sum(state[indices])\n",
    "                indices[1] += 1\n",
    "                path_2 = np.sum(state[indices])\n",
    "                prob_next_click[possibility] = np.max(path_1, path_2)\n",
    "            elif possibility in [2, 6, 10, 14]:\n",
    "                indices = [possibility-1, possibility+1]\n",
    "                path_1 = np.sum(state[indices])\n",
    "                indices[1] += 1\n",
    "                path_2 = np.sum(state[indices])\n",
    "                prob_next_click[possibility] = np.max(path_1, path_2)\n",
    "            elif possibility in [4, 8, 12, 16]:\n",
    "                indices = [possibility-1, possibility-3]\n",
    "                prob_next_click[possibility] = np.sum(state[indices])\n",
    "            else:\n",
    "                indices = [possibility-1, possibility-2]\n",
    "                prob_next_click[possibility] = np.sum(state[indices])\n",
    "        sum_of_paths = np.sum(prob_next_click)\n",
    "        for j in np.arange(len(prob_next_click)):\n",
    "            path_val = prob_next_click[j]\n",
    "            if path_val != 0:\n",
    "                prob_next_click[j] = np.exp(path_val)/np.exp(sum_of_paths) #softmax function                \n",
    "    return prob_next_click"
   ]
  },
  {
   "cell_type": "code",
   "execution_count": 35,
   "metadata": {
    "collapsed": false
   },
   "outputs": [
    {
     "data": {
      "text/plain": [
       "array([20,  0,  0])"
      ]
     },
     "execution_count": 35,
     "metadata": {},
     "output_type": "execute_result"
    }
   ],
   "source": [
    "state = np.array([0, 0, 20, 0, 0, 12, -8, 0, 0, -4, 0, 0, 0, 10, 0, 0, 0])\n",
    "observed_states = np.nonzero(state)[0]\n",
    "indices = [2, 11, 6]\n",
    "indices[2] += 1\n",
    "state[indices]"
   ]
  },
  {
   "cell_type": "code",
   "execution_count": 5,
   "metadata": {
    "collapsed": true
   },
   "outputs": [],
   "source": [
    "def prune(threshold, state):\n",
    "    #returns nodes on pruned branches\n",
    "    pruned = []\n",
    "    observed_states = np.nonzero(state)[0]\n",
    "    bottom = [1, 2, 3, 4]\n",
    "    top = [9, 10, 11, 12]\n",
    "    right = [5, 6, 7, 8]\n",
    "    left = [13, 14, 15, 16]\n",
    "    direction = False\n",
    "    if len(observed_states) != 0:\n",
    "        for loc in observed_states:\n",
    "            if (loc in [1, 2]) and (loc not in pruned):\n",
    "                direction = bottom\n",
    "            elif (loc in [5, 6]) and (loc not in pruned):\n",
    "                direction = right\n",
    "            elif (loc in [9, 10]) and (loc not in pruned):\n",
    "                direction = top\n",
    "            elif (loc in [13, 14]) and (loc not in pruned):\n",
    "                direction = left\n",
    "            if direction:\n",
    "                path_val = np.sum(state[direction])\n",
    "                if path_val < threshold:\n",
    "                    pruned += direction         \n",
    "    return pruned        "
   ]
  },
  {
   "cell_type": "code",
   "execution_count": 6,
   "metadata": {
    "collapsed": true
   },
   "outputs": [],
   "source": [
    "def satisficing_stop(state, threshold):\n",
    "    bottom = [1, 2, 3, 4]\n",
    "    top = [9, 10, 11, 12]\n",
    "    right = [5, 6, 7, 8]\n",
    "    left = [13, 14, 15, 16]\n",
    "    for direction in [bottom, top, right, left]:\n",
    "        observed_value = np.sum(state[direction])\n",
    "        if observed_value > threshold:\n",
    "            return True\n",
    "    return False    "
   ]
  },
  {
   "cell_type": "code",
   "execution_count": 7,
   "metadata": {
    "collapsed": true
   },
   "outputs": [],
   "source": [
    "def strategy_likelihood(click_seq, strategy, cost_per_click, rewards, p_error, \n",
    "                        log=False, dist='Uniform', prune_t=-30, stop=(0,0)):\n",
    "    #Stop should be a tuple of (stopping rule type, threshold)\n",
    "    prob = 0\n",
    "    cur_state = np.zeros(17)\n",
    "    cur_clicks = []\n",
    "    stop_type = stop[0]\n",
    "    stop_threshold = stop[1]\n",
    "    for click in click_seq:\n",
    "        cur_clicks.append(click)\n",
    "        possible_next_clicks = strategy(cur_state, cur_clicks, dist, prune_t)\n",
    "        next_state = np.copy(cur_state)\n",
    "        next_state[click] = rewards[click]\n",
    "        last_click = click\n",
    "        cur_state = next_state\n",
    "        n_possible_clicks = np.count_nonzero(possible_next_clicks)\n",
    "        p_strat = possible_next_clicks[click] \n",
    "        if stop_type == 1: # number of clicks x cost per click\n",
    "            if (len(cur_clicks)*cost_per_click) > stop_threshold:\n",
    "                possible_next_clicks = np.zeros(17)\n",
    "        elif stop_type == 2: #satisficing\n",
    "            stop_flag = satisficing_stop(cur_state, stop_threshold)\n",
    "            if stop_flag:\n",
    "                possible_next_clicks = np.zeros(17)\n",
    "        num_wrong_clicks = 16 - (np.count_nonzero(cur_state)+n_possible_clicks)\n",
    "        if dist == 'Uniform':\n",
    "            p_click_given_state = (((1-p_error)*p_strat) + (p_error/num_wrong_clicks))\n",
    "        if log:\n",
    "            prob += np.log(p_click_given_state)\n",
    "        else:\n",
    "            prob *= p_click_given_state\n",
    "    return prob"
   ]
  },
  {
   "cell_type": "code",
   "execution_count": null,
   "metadata": {
    "collapsed": true
   },
   "outputs": [],
   "source": []
  }
 ],
 "metadata": {
  "kernelspec": {
   "display_name": "Python 3",
   "language": "python",
   "name": "python3"
  },
  "language_info": {
   "codemirror_mode": {
    "name": "ipython",
    "version": 3
   },
   "file_extension": ".py",
   "mimetype": "text/x-python",
   "name": "python",
   "nbconvert_exporter": "python",
   "pygments_lexer": "ipython3",
   "version": "3.5.1"
  }
 },
 "nbformat": 4,
 "nbformat_minor": 0
}
