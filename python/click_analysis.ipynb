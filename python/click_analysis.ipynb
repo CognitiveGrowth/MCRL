{
 "cells": [
  {
   "cell_type": "code",
   "execution_count": 11,
   "metadata": {
    "collapsed": true
   },
   "outputs": [],
   "source": [
    "import numpy as np\n",
    "import pandas as pd\n",
    "import matplotlib.pyplot as plt\n",
    "import csv\n",
    "import json\n",
    "\n",
    "%matplotlib inline"
   ]
  },
  {
   "cell_type": "code",
   "execution_count": 2,
   "metadata": {
    "collapsed": true
   },
   "outputs": [],
   "source": [
    "def softmax(x, temp=1):\n",
    "#     x should be as long as number of possible clicks, each possibility given a value (\n",
    "#     the x.max() is there for stability\n",
    "    ex = np.exp((x - x.max()) / temp)\n",
    "    return ex / ex.sum()"
   ]
  },
  {
   "cell_type": "code",
   "execution_count": 3,
   "metadata": {
    "collapsed": false
   },
   "outputs": [
    {
     "name": "stdout",
     "output_type": "stream",
     "text": [
      "C:\\Users\\piichan\\Documents\\Berkeley\\CoCoSci Lab\\mcrl\\mcrl\\experiments\\data\\human\\1.8\n"
     ]
    }
   ],
   "source": [
    "cd ..\\experiments\\data\\human\\1.8"
   ]
  },
  {
   "cell_type": "code",
   "execution_count": 4,
   "metadata": {
    "collapsed": false
   },
   "outputs": [],
   "source": [
    "df=pd.read_csv('trials.csv', sep=',')"
   ]
  },
  {
   "cell_type": "code",
   "execution_count": 5,
   "metadata": {
    "collapsed": false
   },
   "outputs": [],
   "source": [
    "import ast\n",
    "toList = lambda x: ast.literal_eval(x)\n",
    "df['clicks'] = df['clicks'].apply(toList)"
   ]
  },
  {
   "cell_type": "code",
   "execution_count": 50,
   "metadata": {
    "collapsed": false
   },
   "outputs": [
    {
     "name": "stdout",
     "output_type": "stream",
     "text": [
      "[WinError 3] The system cannot find the path specified: '../../../exp1/static/json'\n",
      "C:\\Users\\piichan\\Documents\\Berkeley\\CoCoSci Lab\\mcrl\\mcrl\\experiments\n"
     ]
    }
   ],
   "source": [
    "cd ..\\..\\..\\exp1\\static\\json"
   ]
  },
  {
   "cell_type": "code",
   "execution_count": 41,
   "metadata": {
    "collapsed": false
   },
   "outputs": [],
   "source": [
    "with open('rewards_0.10.json') as f:\n",
    "    rewards_low = json.load(f)\n",
    "\n",
    "with open('rewards_1.25.json') as f:\n",
    "    rewards_med = json.load(f)\n",
    "    \n",
    "with open('rewards_4.00.json') as f:\n",
    "    rewards_high = json.load(f)"
   ]
  },
  {
   "cell_type": "code",
   "execution_count": 40,
   "metadata": {
    "collapsed": true
   },
   "outputs": [],
   "source": [
    "def get_rewards_for_trial(all_rewards, trial_id):\n",
    "    for trial in all_rewards['train']:\n",
    "        if trial['trial_id'] == trial_id:\n",
    "            return trial['stateRewards']\n",
    "    for trial in all_rewards['test']:\n",
    "        if trial['trial_id'] == trial_id:\n",
    "            return trial['stateRewards']"
   ]
  },
  {
   "cell_type": "code",
   "execution_count": 82,
   "metadata": {
    "collapsed": false
   },
   "outputs": [
    {
     "data": {
      "text/plain": [
       "array([11, 0, 1.25, 'none', 'none', 12, 6426.0, '[]', 15.0, 4,\n",
       "       list([1, 5, 9, 13]), '[1272, 2030, 2884, 3586]', '[1, 13, 14, 15]',\n",
       "       '[4572, 6033, 9770]'], dtype=object)"
      ]
     },
     "execution_count": 82,
     "metadata": {},
     "output_type": "execute_result"
    }
   ],
   "source": [
    "df.values[11]"
   ]
  },
  {
   "cell_type": "code",
   "execution_count": null,
   "metadata": {
    "collapsed": false
   },
   "outputs": [],
   "source": []
  },
  {
   "cell_type": "code",
   "execution_count": null,
   "metadata": {
    "collapsed": false
   },
   "outputs": [],
   "source": []
  },
  {
   "cell_type": "markdown",
   "metadata": {
    "collapsed": false
   },
   "source": [
    "## Brute Force Approach"
   ]
  },
  {
   "cell_type": "code",
   "execution_count": 35,
   "metadata": {
    "collapsed": false
   },
   "outputs": [],
   "source": [
    "df.sort_values('info_cost')\n",
    "low_cost = df.loc[df.info_cost == 0.1]\n",
    "med_cost = df.loc[df.info_cost == 1.25]\n",
    "high_cost = df.loc[df.info_cost == 4]"
   ]
  },
  {
   "cell_type": "code",
   "execution_count": 19,
   "metadata": {
    "collapsed": false
   },
   "outputs": [
    {
     "data": {
      "text/plain": [
       "3.75"
      ]
     },
     "execution_count": 19,
     "metadata": {},
     "output_type": "execute_result"
    }
   ],
   "source": [
    "cost_type = low_cost\n",
    "brfs_count = 0\n",
    "dfs_count = 0\n",
    "top = set([9, 10, 11, 12])\n",
    "left = set([13, 14, 15, 16])\n",
    "right = set([5,6,7,8])\n",
    "bottom = set([1, 2, 3, 4])\n",
    "for seq in cost_type['clicks']:\n",
    "    if seq == []:\n",
    "        continue     \n",
    "    if len(seq) < 4:\n",
    "        continue\n",
    "    first_four = seq[:4]\n",
    "    if set(first_four) == set([1,5,9,13]):\n",
    "        if len(seq) > 4:\n",
    "            rest = seq[4:]\n",
    "            if len(rest) > 4:\n",
    "                rest = seq[4:8]\n",
    "            if set(rest) <= set([2,6,10,14]):\n",
    "                brfs_count += 1 \n",
    "        else:\n",
    "            brfs_count += 1\n",
    "    elif (set(first_four) == top)or(set(first_four) == right)or(set(first_four) == bottom)or(set(first_four) == left):\n",
    "        if len(seq) > 4:\n",
    "            rest = set(seq[4:])\n",
    "            more = False\n",
    "            if len(rest) > 4:\n",
    "                more = True\n",
    "                rest = set(seq[4:8])\n",
    "            if (rest<=top)or(rest<=right)or(rest<=left)or(rest<=bottom):\n",
    "                if more:\n",
    "                    rest = set(seq[8:])\n",
    "                    if len(rest) > 4:\n",
    "                        rest = set(seq[8:12])\n",
    "                    if (rest<=top)or(rest<=right)or(rest<=left)or(rest<=bottom):\n",
    "                            dfs_count += 1                    \n",
    "                else:\n",
    "                    dfs_count += 1\n",
    "        else:\n",
    "            dfs_count += 1\n",
    "    else: #between 1 and 3 clicks were made\n",
    "        if (set(seq) < top)or(set(seq) < right)or(set(seq)< bottom) or (set(seq) < left):\n",
    "            dfs_count += 1\n",
    "        elif set(seq) < set([1, 5, 9, 13]):\n",
    "            brfs_count += 1\n",
    "        \n",
    "(brfs_count/cost_type['clicks'].size) * 100"
   ]
  },
  {
   "cell_type": "markdown",
   "metadata": {
    "collapsed": false
   },
   "source": [
    "ver 0.991 \n",
    "\n",
    "values are given in percentages; top to bottom is low, med, and high cost\n",
    "\n",
    "i stands for initial (only the first 4 clicks) while f stands for full (entire sequence)\n",
    "\n",
    "| Breadth-First | Depth-First(i)| Depth-First(f)|\n",
    "| ------------- |:-------------:| -------------:|\n",
    "| 3.02          | 12.50         |8.47       |\n",
    "| 6.07          | 12.13         |    9.375      |\n",
    "| 4.23          | 3.43          |    2.42       |\n",
    "\n"
   ]
  },
  {
   "cell_type": "markdown",
   "metadata": {},
   "source": [
    "## Likelihood Model"
   ]
  },
  {
   "cell_type": "code",
   "execution_count": 59,
   "metadata": {
    "collapsed": true
   },
   "outputs": [],
   "source": [
    "def prune(threshold, state):\n",
    "    #returns nodes on pruned branches\n",
    "    pruned = []\n",
    "    observed_states = np.nonzero(state)[0]\n",
    "    bottom = [1, 2, 3, 4]\n",
    "    top = [9, 10, 11, 12]\n",
    "    right = [5, 6, 7, 8]\n",
    "    left = [13, 14, 15, 16]\n",
    "    direction = False\n",
    "    if len(observed_states) != 0:\n",
    "        for loc in observed_states:\n",
    "            if (loc in [1, 2]) and (loc not in pruned):\n",
    "                direction = bottom\n",
    "            elif (loc in [5, 6]) and (loc not in pruned):\n",
    "                direction = right\n",
    "            elif (loc in [9, 10]) and (loc not in pruned):\n",
    "                direction = top\n",
    "            elif (loc in [13, 14]) and (loc not in pruned):\n",
    "                direction = left\n",
    "            if direction:\n",
    "                path_val = np.sum(state[direction])\n",
    "                if path_val < threshold:\n",
    "                    pruned += direction\n",
    "            else: #prune arm when both leaf nodes have a value below the threshold\n",
    "                if (loc in [3, 7, 11, 15]) and (loc not in pruned):\n",
    "                    if (state[loc] < threshold) and (state[loc+1] < threshold):\n",
    "                        pruned += [loc-2, loc-1, loc, loc+1]\n",
    "                elif (loc not in pruned):\n",
    "                    if (state[loc] < threshold) and (state[loc-1] < threshold):\n",
    "                        pruned += [loc-3, loc-2, loc-1, loc]\n",
    "    return pruned        "
   ]
  },
  {
   "cell_type": "code",
   "execution_count": 60,
   "metadata": {
    "collapsed": false
   },
   "outputs": [],
   "source": [
    "#Note: Only continues depth-first based off of the last click \n",
    "#TODO: Check if half-explored arms are eventually explored to completion\n",
    "def depth_first(state, cur_clicks, dist, strategy_t, prune_t):\n",
    "    prob_next_click = np.zeros(17)\n",
    "    observed_states = np.nonzero(state)[0] #works only because indices represent location\n",
    "    possible_clicks = []\n",
    "    if len(cur_clicks) == 0:\n",
    "        possible_clicks += [1, 5, 9, 13]\n",
    "    else:\n",
    "        last_click = cur_clicks[-1]\n",
    "        pruned_nodes = prune(prune_t, state)\n",
    "        if last_click in [1, 5, 9, 13]:\n",
    "            if last_click+1 in observed_states:\n",
    "                for click in [last_click+2, last_click+3]:\n",
    "                    if (click not in observed_states) and (click not in pruned_nodes):\n",
    "                        possible_clicks.append(click)\n",
    "                if len(possible_clicks) == 0:\n",
    "                    for click in [1, 5, 9, 13]:\n",
    "                        if (click not in observed_states) and (click not in pruned_nodes):\n",
    "                            possible_clicks.append(click)\n",
    "            else:\n",
    "                if last_click+1 not in pruned_nodes:\n",
    "                    possible_clicks.append(last_click+1)\n",
    "                else:\n",
    "                    click_candidates = [1, 5, 9, 13]\n",
    "                    click_candidates.remove(last_click)\n",
    "                    for c in click_candidates:\n",
    "                        if (c in observed_states) or (c in pruned_nodes):\n",
    "                            click_candidates.remove(c)\n",
    "                    possible_clicks += click_candidates\n",
    "        else:\n",
    "            if last_click+1 in observed_states:\n",
    "                if last_click+2 in observed_states:\n",
    "                    for click in [1, 5, 9, 13]:\n",
    "                        if (click not in observed_states) and (click not in pruned_nodes):\n",
    "                            possible_clicks.append(click)\n",
    "                elif (last_click+2 < 17) and (last_click+2 not in pruned_nodes):\n",
    "                    possible_clicks.append(last_click+2)\n",
    "                else:\n",
    "                    for click in [1, 5, 9, 13]:\n",
    "                        if (click not in observed_states) and (click not in pruned_nodes):\n",
    "                            possible_clicks.append(click)\n",
    "            elif (last_click+1 < 17) and (last_click+1 not in pruned_nodes):\n",
    "                possible_clicks.append(last_click+1)\n",
    "            else:\n",
    "                for click in [1, 5, 9, 13]:\n",
    "                        if (click not in observed_states) and (click not in pruned_nodes):\n",
    "                            possible_clicks.append(click)\n",
    "    if len(possible_clicks) != 0:\n",
    "        for possibility in possible_clicks:\n",
    "            if dist == 'Uniform':\n",
    "                prob_next_click[possibility] = 1/len(possible_clicks)\n",
    "            elif dist == 'Softmax':\n",
    "                prob_next_click[possibility] = 1\n",
    "    return prob_next_click"
   ]
  },
  {
   "cell_type": "code",
   "execution_count": 61,
   "metadata": {
    "collapsed": false
   },
   "outputs": [
    {
     "data": {
      "text/plain": [
       "array([ 0.  ,  0.25,  0.  ,  0.  ,  0.  ,  0.25,  0.  ,  0.  ,  0.  ,\n",
       "        0.25,  0.  ,  0.  ,  0.  ,  0.25,  0.  ,  0.  ,  0.  ])"
      ]
     },
     "execution_count": 61,
     "metadata": {},
     "output_type": "execute_result"
    }
   ],
   "source": [
    "test_state = np.array([0,1,5,0,20,0,0,0,0,0,0,0,0,1,0,-10,-10])\n",
    "res = depth_first(test_state, [], 'Uniform', None, -4)\n",
    "res"
   ]
  },
  {
   "cell_type": "code",
   "execution_count": 62,
   "metadata": {
    "collapsed": false
   },
   "outputs": [],
   "source": [
    "def breadth_first(state, cur_clicks, dist, strategy_t, prune_t):\n",
    "    prob_next_click = np.zeros(17)\n",
    "    observed_states = np.nonzero(state)[0]\n",
    "    possible_clicks = []\n",
    "    if len(cur_clicks) == 0:\n",
    "        possible_clicks += [1, 5, 9, 13]\n",
    "    else:\n",
    "        last_click = cur_clicks[-1]\n",
    "        pruned_nodes = prune(prune_t, state)\n",
    "        if last_click in [1, 5, 9, 13]:\n",
    "            if set([1, 5, 9, 13]).issubset(set(observed_states)):\n",
    "                if set([2, 6, 10, 14]).issubset(set(observed_states)):\n",
    "                    for click in [3, 4, 7, 8, 11, 12, 15, 16]:\n",
    "                        if (click not in observed_states) and (click not in pruned_nodes):\n",
    "                            possible_clicks.append(click)\n",
    "                else:\n",
    "                    for click in [2, 6, 10, 14]:\n",
    "                        if (click not in observed_states) and (click not in pruned_nodes):\n",
    "                                possible_clicks.append(click)\n",
    "            else:\n",
    "                for click in [1, 5, 9, 13]:\n",
    "                    if (click not in observed_states) and (click not in pruned_nodes):\n",
    "                            possible_clicks.append(click)\n",
    "        elif last_click in [2, 6, 10, 14]:\n",
    "            if set([2, 6, 10, 14]).issubset(set(observed_states)):\n",
    "                for click in [3, 4, 7, 8, 11, 12, 15, 16]:\n",
    "                    if (click not in observed_states) and (click not in pruned_nodes):\n",
    "                        possible_clicks.append(click)\n",
    "            else:\n",
    "                for click in [2, 6, 10, 14]:\n",
    "                    if (click not in observed_states) and (click not in pruned_nodes):\n",
    "                        possible_clicks.append(click)\n",
    "        else:\n",
    "            for click in [3, 4, 7, 8, 11, 12, 15, 16]:\n",
    "                    if (click not in observed_states) and (click not in pruned_nodes):\n",
    "                        possible_clicks.append(click)\n",
    "    if len(possible_clicks) != 0:\n",
    "        for possibility in possible_clicks:\n",
    "            if dist == 'Uniform':\n",
    "                prob_next_click[possibility] = 1/len(possible_clicks)\n",
    "            elif dist == 'Softmax':\n",
    "                prob_next_click[possibility] = 1\n",
    "    return prob_next_click"
   ]
  },
  {
   "cell_type": "code",
   "execution_count": 63,
   "metadata": {
    "collapsed": false
   },
   "outputs": [
    {
     "data": {
      "text/plain": [
       "array([ 0.,  0.,  0.,  0.,  0.,  0.,  1.,  0.,  0.,  0.,  0.,  0.,  0.,\n",
       "        0.,  0.,  0.,  0.])"
      ]
     },
     "execution_count": 63,
     "metadata": {},
     "output_type": "execute_result"
    }
   ],
   "source": [
    "test_state = np.array([0,1,5,0,20,5,0,0,0,-3,0,0,0,1,0,-10,-10])\n",
    "res = breadth_first(test_state, [1, 4, 16, 2, 13], 'Uniform', None, 0)\n",
    "res"
   ]
  },
  {
   "cell_type": "code",
   "execution_count": 64,
   "metadata": {
    "collapsed": false
   },
   "outputs": [],
   "source": [
    "#assumes that average reward value is 0\n",
    "def best_first(state, cur_clicks, dist, strategy_t, prune_t):\n",
    "    prob_next_click = np.zeros(17)\n",
    "    observed_states = np.nonzero(state)[0]\n",
    "    possible_clicks = []\n",
    "    pruned_nodes = prune(prune_t, state)\n",
    "    expected_reward_value = 0 #or self.env.reward.expectation()\n",
    "    if len(cur_clicks) == 0:\n",
    "        possible_clicks += [1, 2, 3, 4, 5, 6, 7, 8, 9, 10, 11, 12, 13, 14, 15, 16]\n",
    "    else:\n",
    "        for i in np.arange(1,17):\n",
    "            if (i not in observed_states) and (i not in pruned_nodes):\n",
    "                possible_clicks.append(i)\n",
    "    actual_state = np.copy(state)\n",
    "    for i in np.arange(1, 17):\n",
    "        if state[i] == 0:\n",
    "            state[i] = expected_reward_value\n",
    "    if len(possible_clicks) != 0:\n",
    "        for possibility in possible_clicks:\n",
    "            if possibility in [1, 5, 9, 13]:\n",
    "                indices = [possibility+1, possibility+2]\n",
    "                path_1 = np.sum(state[indices])\n",
    "                indices[1] += 1\n",
    "                path_2 = np.sum(state[indices])\n",
    "                prob_next_click[possibility] = np.maximum(path_1, path_2)\n",
    "            elif possibility in [2, 6, 10, 14]:\n",
    "                indices = [possibility-1, possibility+1]\n",
    "                path_1 = np.sum(state[indices])\n",
    "                indices[1] += 1\n",
    "                path_2 = np.sum(state[indices])\n",
    "                prob_next_click[possibility] = np.maximum(path_1, path_2)\n",
    "            elif possibility in [4, 8, 12, 16]:\n",
    "                indices = [possibility-1, possibility-3]\n",
    "                prob_next_click[possibility] = np.sum(state[indices])\n",
    "            else:\n",
    "                indices = [possibility-1, possibility-2]\n",
    "                prob_next_click[possibility] = np.sum(state[indices])\n",
    "#         sum_of_paths = np.sum([np.exp(n) for n in prob_next_click])\n",
    "#         for j in np.arange(len(prob_next_click)):\n",
    "#             path_val = prob_next_click[j]\n",
    "#             prob_next_click[j] = np.exp(path_val)/sum_of_paths #softmax function\n",
    "#             if j in observed_states:\n",
    "#                 prob_next_click[j] = 0\n",
    "    return prob_next_click"
   ]
  },
  {
   "cell_type": "code",
   "execution_count": 65,
   "metadata": {
    "collapsed": false
   },
   "outputs": [
    {
     "data": {
      "text/plain": [
       "array([ 0.,  0.,  0.,  6.,  0.,  0.,  5.,  5.,  5.,  0., -3., -3., -3.,\n",
       "        0., -9.,  0.,  0.])"
      ]
     },
     "execution_count": 65,
     "metadata": {},
     "output_type": "execute_result"
    }
   ],
   "source": [
    "#state = np.array([0, 0, 20, 0, 0, 12, -8, 0, 0, -4, 0, 0, 0, 10, 0, 0, 0])\n",
    "test_state = np.array([0,1,5,0,20,5,0,0,0,-3,0,0,0,1,0,-10,-10])\n",
    "res = best_first(test_state, [1, 4, 16, 2, 13], 'Uniform', None, -30)\n",
    "res"
   ]
  },
  {
   "cell_type": "code",
   "execution_count": 66,
   "metadata": {
    "collapsed": true
   },
   "outputs": [],
   "source": [
    "#needs to be tested\n",
    "def backwards_best(state, cur_clicks, dist, strategy_t, prune_t):\n",
    "    prob_next_click = np.zeros(17)\n",
    "    observed_states = np.nonzero(state)[0]\n",
    "    possible_clicks = []\n",
    "    pruned_nodes = prune(prune_t, state)\n",
    "    leaves = [3, 4, 7, 8, 11, 12, 15, 16]\n",
    "    goal = False\n",
    "    goal_node = None\n",
    "    if len(cur_clicks) == 0:\n",
    "        possible_clicks += leaves\n",
    "    else:\n",
    "        for leaf in leaves: # should the leaves be examined in the order clicked?\n",
    "            if (leaf-2 not in pruned_nodes) and (state[leaf] > strategy_t): #a goal node has been identified\n",
    "                #check that the whole arm hasn't been explored before marking goal as true\n",
    "                if leaf in [3, 7, 11, 15]:\n",
    "                    if (leaf-1 not in observed_states) or (leaf-2 not in observed_states):\n",
    "                        goal = True\n",
    "                        goal_node = leaf\n",
    "                        break\n",
    "                else:\n",
    "                    if (leaf-2 not in observed_states) or (leaf-3 not in observed_states):\n",
    "                        goal = True\n",
    "                        goal_node = leaf\n",
    "                        break\n",
    "        if goal:\n",
    "            #go backwards on that arm\n",
    "            if goal_node in [3, 7, 11, 15]:\n",
    "                if goal_node-1 not in observed_states:\n",
    "                    possible_clicks.append(goal_node-1)\n",
    "                else:\n",
    "                    possible_clicks.append(goal_node-2)\n",
    "            else:\n",
    "                if goal_node-2 not in observed_states:\n",
    "                    possible_clicks.append(goal_node-2)\n",
    "                else:\n",
    "                    possible_clicks.append(goal_node-3)\n",
    "        else:\n",
    "            for leaf in leaves:\n",
    "                if (leaf-2 not in pruned_nodes) and (leaf not in observed_states):\n",
    "                    possible_clicks.append(leaf)\n",
    "            \n",
    "    if len(possible_clicks) != 0:\n",
    "        for possibility in possible_clicks:\n",
    "            if possibility in [1, 5, 9, 13]:\n",
    "                indices = [possibility+1, possibility+2]\n",
    "                path_1 = np.sum(state[indices])\n",
    "                indices[1] += 1\n",
    "                path_2 = np.sum(state[indices])\n",
    "                prob_next_click[possibility] = np.maximum(path_1, path_2)\n",
    "            elif possibility in [2, 6, 10, 14]:\n",
    "                indices = [possibility-1, possibility+1]\n",
    "                path_1 = np.sum(state[indices])\n",
    "                indices[1] += 1\n",
    "                path_2 = np.sum(state[indices])\n",
    "                prob_next_click[possibility] = np.maximum(path_1, path_2)\n",
    "            elif possibility in [4, 8, 12, 16]:\n",
    "                indices = [possibility-1, possibility-3]\n",
    "                prob_next_click[possibility] = np.sum(state[indices])\n",
    "            else:\n",
    "                indices = [possibility-1, possibility-2]\n",
    "                prob_next_click[possibility] = np.sum(state[indices])\n",
    "    return prob_next_click"
   ]
  },
  {
   "cell_type": "code",
   "execution_count": null,
   "metadata": {
    "collapsed": true
   },
   "outputs": [],
   "source": []
  },
  {
   "cell_type": "code",
   "execution_count": 67,
   "metadata": {
    "collapsed": true
   },
   "outputs": [],
   "source": [
    "def satisficing_stop(state, threshold):\n",
    "    bottom = [1, 2, 3, 4]\n",
    "    top = [9, 10, 11, 12]\n",
    "    right = [5, 6, 7, 8]\n",
    "    left = [13, 14, 15, 16]\n",
    "    for direction in [bottom, top, right, left]:\n",
    "        observed_value = np.sum(state[direction])\n",
    "        if observed_value > threshold:\n",
    "            return True\n",
    "    return False    "
   ]
  },
  {
   "cell_type": "code",
   "execution_count": 101,
   "metadata": {
    "collapsed": true
   },
   "outputs": [],
   "source": [
    "def strategy_likelihood(click_seq, strategy, cost_per_click, rewards, p_error, soft_temp=1,\n",
    "                        log=False, dist='Softmax', strategy_t=None, prune_t=-30, stop=(0,0)):\n",
    "    #Stop should be a tuple of (stopping rule type, threshold)\n",
    "    if log:\n",
    "        prob = 0\n",
    "    else:\n",
    "        prob = 1\n",
    "    cur_state = np.zeros(17)\n",
    "    cur_clicks = []\n",
    "    stop_type = stop[0]\n",
    "    stop_threshold = stop[1]\n",
    "    for click in click_seq:\n",
    "        possible_next_clicks = strategy(cur_state, cur_clicks, dist, strategy_t, prune_t)\n",
    "        next_state = np.copy(cur_state)\n",
    "        next_state[click] = rewards[click]\n",
    "        cur_clicks.append(click)\n",
    "        n_possible_clicks = np.count_nonzero(possible_next_clicks)\n",
    "        if stop_type == 1: # number of clicks x cost per click\n",
    "            if (len(cur_clicks)*cost_per_click) > stop_threshold:\n",
    "                possible_next_clicks = np.zeros(17)\n",
    "        elif stop_type == 2: #satisficing\n",
    "            stop_flag = satisficing_stop(cur_state, stop_threshold)\n",
    "            if stop_flag:\n",
    "                possible_next_clicks = np.zeros(17)\n",
    "        if dist == 'Uniform':\n",
    "            p_strat = possible_next_clicks[click] \n",
    "            num_wrong_clicks = 16 - (np.count_nonzero(cur_state)+n_possible_clicks)\n",
    "            p_click_given_state = (((1-p_error)*p_strat) + (p_error/num_wrong_clicks))\n",
    "        elif dist == 'Softmax':\n",
    "            prob_next_clicks = softmax(possible_next_clicks, soft_temp)\n",
    "            p_click_given_state = prob_next_clicks[click]\n",
    "        if log:\n",
    "            prob += np.log(p_click_given_state)\n",
    "        else:\n",
    "            prob *= p_click_given_state\n",
    "        cur_state = next_state\n",
    "    return prob"
   ]
  },
  {
   "cell_type": "code",
   "execution_count": 102,
   "metadata": {
    "collapsed": false
   },
   "outputs": [
    {
     "data": {
      "text/plain": [
       "-10.737125851279629"
      ]
     },
     "execution_count": 102,
     "metadata": {},
     "output_type": "execute_result"
    }
   ],
   "source": [
    "strategy_likelihood([1, 2, 3, 4], breadth_first, 0.01, [0, 1, 2, 3, 4, 5], 0.1, log=True)"
   ]
  },
  {
   "cell_type": "code",
   "execution_count": 91,
   "metadata": {
    "collapsed": false
   },
   "outputs": [
    {
     "data": {
      "text/plain": [
       "-8.2176359933709033"
      ]
     },
     "execution_count": 91,
     "metadata": {},
     "output_type": "execute_result"
    }
   ],
   "source": [
    "participant = df.values[11]\n",
    "rewards = get_rewards_for_trial(rewards_med, participant[6])\n",
    "strategy_likelihood(participant[10], breadth_first, participant[2], rewards, 0.1, log=True)"
   ]
  },
  {
   "cell_type": "code",
   "execution_count": 30,
   "metadata": {
    "collapsed": false
   },
   "outputs": [],
   "source": [
    "def strategy_features(state, last_click, action, expansion_rule):\n",
    "    #returns an array of indicator values for each feature; value is 1 if action is compatible with the strategy\n",
    "    ''' Features:\n",
    "        [0] is_term\n",
    "        [1] term_reward\n",
    "        [2] voi_myopic\n",
    "        [3] vpi_action\n",
    "        [4] vpi_full\n",
    "        [5] quality_ev\n",
    "        [6] quality_std\n",
    "        [7] depth\n",
    "        [8] same_branch_as_last\n",
    "    '''\n",
    "    features = np.zeros(9)\n",
    "    prob_next_click = expansion_rule(state, [last_click], 'Uniform', None, -30)\n",
    "    func_name = expansion_rule.__name__\n",
    "    if func_name == 'best_first':\n",
    "        max_prob = np.maximum(prob_next_click)\n",
    "        if prob_next_click[action] == max_prob:\n",
    "            features[5] = 1\n",
    "    elif func_name == 'breadth_first':\n",
    "        if prob_next_click[action] > 0:\n",
    "            features[7] = -1\n",
    "    elif func_name == 'depth_first':\n",
    "        if prob_next_click[action] > 0:\n",
    "            features[6] = -1\n",
    "            features[7] = -1\n",
    "    \n",
    "    return features"
   ]
  },
  {
   "cell_type": "code",
   "execution_count": 31,
   "metadata": {
    "collapsed": false
   },
   "outputs": [
    {
     "data": {
      "text/plain": [
       "array([ 0.,  0.,  0.,  0.,  0.,  0., -1., -1.,  0.])"
      ]
     },
     "execution_count": 31,
     "metadata": {},
     "output_type": "execute_result"
    }
   ],
   "source": [
    "strategy_features(np.array([0, 1, 2, 0, 0, 0, 0,0,0,0,0,0,0,0,0,0,0]), 2, 3, depth_first)"
   ]
  }
 ],
 "metadata": {
  "kernelspec": {
   "display_name": "Python 3",
   "language": "python",
   "name": "python3"
  },
  "language_info": {
   "codemirror_mode": {
    "name": "ipython",
    "version": 3
   },
   "file_extension": ".py",
   "mimetype": "text/x-python",
   "name": "python",
   "nbconvert_exporter": "python",
   "pygments_lexer": "ipython3",
   "version": "3.5.1"
  }
 },
 "nbformat": 4,
 "nbformat_minor": 0
}
