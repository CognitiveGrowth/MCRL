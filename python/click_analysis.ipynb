{
 "cells": [
  {
   "cell_type": "code",
   "execution_count": 1,
   "metadata": {
    "collapsed": true
   },
   "outputs": [],
   "source": [
    "import numpy as np\n",
    "import pandas as pd\n",
    "import matplotlib.pyplot as plt\n",
    "import csv\n",
    "%matplotlib inline"
   ]
  },
  {
   "cell_type": "code",
   "execution_count": 2,
   "metadata": {
    "collapsed": false
   },
   "outputs": [
    {
     "name": "stdout",
     "output_type": "stream",
     "text": [
      "C:\\Users\\piichan\\Documents\\Berkeley\\CoCoSci Lab\\mcrl\\mcrl\\experiments\\data\\human\\1.7\n"
     ]
    }
   ],
   "source": [
    "cd ..\\experiments\\data\\human\\1.7"
   ]
  },
  {
   "cell_type": "code",
   "execution_count": 3,
   "metadata": {
    "collapsed": false
   },
   "outputs": [],
   "source": [
    "df=pd.read_csv('trials.csv', sep=',')"
   ]
  },
  {
   "cell_type": "code",
   "execution_count": null,
   "metadata": {
    "collapsed": true
   },
   "outputs": [],
   "source": []
  },
  {
   "cell_type": "code",
   "execution_count": 4,
   "metadata": {
    "collapsed": false
   },
   "outputs": [],
   "source": [
    "import ast\n",
    "toList = lambda x: ast.literal_eval(x)\n",
    "df['clicks'] = df['clicks'].apply(toList)"
   ]
  },
  {
   "cell_type": "code",
   "execution_count": 5,
   "metadata": {
    "collapsed": false
   },
   "outputs": [
    {
     "data": {
      "text/plain": [
       "array([ 0.1 ,  1.25,  4.  ])"
      ]
     },
     "execution_count": 5,
     "metadata": {},
     "output_type": "execute_result"
    }
   ],
   "source": [
    "df.info_cost.unique()"
   ]
  },
  {
   "cell_type": "code",
   "execution_count": 6,
   "metadata": {
    "collapsed": false
   },
   "outputs": [],
   "source": [
    "df.sort_values('info_cost')\n",
    "low_cost = df.loc[df.info_cost == 0.1]\n",
    "med_cost = df.loc[df.info_cost == 1.25]\n",
    "high_cost = df.loc[df.info_cost == 4]"
   ]
  },
  {
   "cell_type": "code",
   "execution_count": 7,
   "metadata": {
    "collapsed": false
   },
   "outputs": [
    {
     "data": {
      "text/plain": [
       "0.30399568034557234"
      ]
     },
     "execution_count": 7,
     "metadata": {},
     "output_type": "execute_result"
    }
   ],
   "source": [
    "count = 0\n",
    "for seq in df['clicks']:\n",
    "    if seq == []:\n",
    "        count += 1\n",
    "        \n",
    "count/df['clicks'].size"
   ]
  },
  {
   "cell_type": "code",
   "execution_count": null,
   "metadata": {
    "collapsed": false
   },
   "outputs": [],
   "source": []
  },
  {
   "cell_type": "code",
   "execution_count": 8,
   "metadata": {
    "collapsed": false
   },
   "outputs": [
    {
     "data": {
      "text/plain": [
       "5.0245098039215685"
      ]
     },
     "execution_count": 8,
     "metadata": {},
     "output_type": "execute_result"
    }
   ],
   "source": [
    "cost_type = low_cost\n",
    "brfs_count = 0\n",
    "dfs_count = 0\n",
    "top = set([9, 10, 11, 12])\n",
    "left = set([13, 14, 15, 16])\n",
    "right = set([5,6,7,8])\n",
    "bottom = set([1, 2, 3, 4])\n",
    "for seq in cost_type['clicks']:\n",
    "    if seq == []:\n",
    "        continue     \n",
    "    if len(seq) < 4:\n",
    "        continue\n",
    "    first_four = seq[:4]\n",
    "    if set(first_four) == set([1,5,9,13]):\n",
    "        if len(seq) > 4:\n",
    "            rest = seq[4:]\n",
    "            if len(rest) > 4:\n",
    "                rest = seq[4:8]\n",
    "            if set(rest) <= set([2,6,10,14]):\n",
    "                brfs_count += 1 \n",
    "        else:\n",
    "            brfs_count += 1\n",
    "    elif (set(first_four) == top)or(set(first_four) == right)or(set(first_four) == bottom)or(set(first_four) == left):\n",
    "        if len(seq) > 4:\n",
    "            rest = set(seq[4:])\n",
    "            more = False\n",
    "            if len(rest) > 4:\n",
    "                more = True\n",
    "                rest = set(seq[4:8])\n",
    "            if (rest<=top)or(rest<=right)or(rest<=left)or(rest<=bottom):\n",
    "                if more:\n",
    "                    rest = set(seq[8:])\n",
    "                    if len(rest) > 4:\n",
    "                        rest = set(seq[8:12])\n",
    "                    if (rest<=top)or(rest<=right)or(rest<=left)or(rest<=bottom):\n",
    "                            dfs_count += 1                    \n",
    "                else:\n",
    "                    dfs_count += 1\n",
    "        else:\n",
    "            dfs_count += 1\n",
    "    else: #between 1 and 3 clicks were made\n",
    "        if (set(seq) < top)or(set(seq) < right)or(set(seq)< bottom) or (set(seq) < left):\n",
    "            dfs_count += 1\n",
    "        elif set(seq) < set([1, 5, 9, 13]):\n",
    "            brfs_count += 1\n",
    "        \n",
    "(brfs_count/cost_type['clicks'].size) * 100"
   ]
  },
  {
   "cell_type": "markdown",
   "metadata": {
    "collapsed": false
   },
   "source": [
    "ver 0.991 \n",
    "\n",
    "values are given in percentages; top to bottom is low, med, and high cost\n",
    "\n",
    "i stands for initial (only the first 4 clicks) while f stands for full (entire sequence)\n",
    "\n",
    "| Breadth-First | Depth-First(i)| Depth-First(f)|\n",
    "| ------------- |:-------------:| -------------:|\n",
    "| 3.02          | 12.50         |8.47       |\n",
    "| 6.07          | 12.13         |    9.375      |\n",
    "| 4.23          | 3.43          |    2.42       |\n",
    "\n"
   ]
  },
  {
   "cell_type": "code",
   "execution_count": 44,
   "metadata": {
    "collapsed": false
   },
   "outputs": [],
   "source": [
    "def depth_first(state, last_click, dist):\n",
    "    prob_next_click = np.zeros(17)\n",
    "    observed_states = np.nonzero(state)[0]\n",
    "    possible_clicks = []\n",
    "    if last_click == None:\n",
    "        possible_clicks += [1, 5, 9, 13]\n",
    "    elif last_click in [1, 5, 9, 13]:\n",
    "        if last_click+1 in observed_states:\n",
    "            for click in [1, 5, 9, 13]:\n",
    "                if click not in observed_states:\n",
    "                    possible_clicks.append(click)                 \n",
    "        else:\n",
    "            possible_clicks.append(last_click+1)\n",
    "    else:\n",
    "        if last_click+1 in observed_states:\n",
    "            if last_click+2 in observed_states:\n",
    "                for click in [1, 5, 9, 13]:\n",
    "                    if click not in observed_states:\n",
    "                        possible_clicks.append(click)\n",
    "            elif (last_click+2 < 17):\n",
    "                possible_clicks.append(last_click+2)\n",
    "            else:\n",
    "                for click in [1, 5, 9, 13]:\n",
    "                    if click not in observed_states:\n",
    "                        possible_clicks.append(click)\n",
    "        elif (last_click+1 < 17):\n",
    "            possible_clicks.append(last_click+1)\n",
    "        else:\n",
    "            for click in [1, 5, 9, 13]:\n",
    "                    if click not in observed_states:\n",
    "                        possible_clicks.append(click)\n",
    "    if len(possible_clicks) != 0:\n",
    "        for possibility in possible_clicks:\n",
    "            if dist == 'Uniform':\n",
    "                prob_next_click[possibility] = 1/len(possible_clicks)\n",
    "    return prob_next_click"
   ]
  },
  {
   "cell_type": "code",
   "execution_count": 45,
   "metadata": {
    "collapsed": false
   },
   "outputs": [
    {
     "data": {
      "text/plain": [
       "array([ 0.        ,  0.        ,  0.        ,  0.        ,  0.        ,\n",
       "        0.33333333,  0.        ,  0.        ,  0.        ,  0.33333333,\n",
       "        0.        ,  0.        ,  0.        ,  0.33333333,  0.        ,\n",
       "        0.        ,  0.        ])"
      ]
     },
     "execution_count": 45,
     "metadata": {},
     "output_type": "execute_result"
    }
   ],
   "source": [
    "test_state = [0,1,1,0,0,0,0,0,0,0,0,0,0,0,0,0,1]\n",
    "res = depth_first(test_state, 16, 'Uniform')\n",
    "res"
   ]
  },
  {
   "cell_type": "code",
   "execution_count": null,
   "metadata": {
    "collapsed": false
   },
   "outputs": [],
   "source": []
  },
  {
   "cell_type": "code",
   "execution_count": null,
   "metadata": {
    "collapsed": false
   },
   "outputs": [],
   "source": []
  },
  {
   "cell_type": "code",
   "execution_count": 38,
   "metadata": {
    "collapsed": true
   },
   "outputs": [],
   "source": [
    "def strategy_likelihood(click_seq, strategy, p_error, log=False, dist='Uniform', stop=None):\n",
    "    prob = 0\n",
    "    cur_state = np.zeros(17)\n",
    "    for click in click_seq:\n",
    "        possible_next_clicks = strategy(cur_state, last_click, dist)\n",
    "        next_state = np.copy(cur_state)\n",
    "        next_state[click] = 1\n",
    "        last_click = click\n",
    "        cur_state = next_state\n",
    "        n_possible_clicks = np.count_nonzero(possible_next_clicks)\n",
    "        for p_click in possible_next_clicks:\n",
    "            if p_click == click:\n",
    "                p_strat = p_click\n",
    "            else:\n",
    "                p_strat = 0\n",
    "        num_wrong_clicks = 16 - (np.count_nonzero(cur_state)+n_possible_clicks)\n",
    "        if dist == 'Uniform':\n",
    "            p_click_given_state = (((1-p_error)*p_strat) + (p_error/num_wrong_clicks))\n",
    "        if log:\n",
    "            prob += np.log(p_click_given_state)\n",
    "        else:\n",
    "            prob *= p_click_given_state\n",
    "    return prob"
   ]
  },
  {
   "cell_type": "code",
   "execution_count": null,
   "metadata": {
    "collapsed": true
   },
   "outputs": [],
   "source": []
  }
 ],
 "metadata": {
  "kernelspec": {
   "display_name": "Python 3",
   "language": "python",
   "name": "python3"
  },
  "language_info": {
   "codemirror_mode": {
    "name": "ipython",
    "version": 3
   },
   "file_extension": ".py",
   "mimetype": "text/x-python",
   "name": "python",
   "nbconvert_exporter": "python",
   "pygments_lexer": "ipython3",
   "version": "3.5.1"
  }
 },
 "nbformat": 4,
 "nbformat_minor": 0
}
