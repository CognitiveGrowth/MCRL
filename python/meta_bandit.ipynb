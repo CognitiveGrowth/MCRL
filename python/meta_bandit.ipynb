{
 "cells": [
  {
   "cell_type": "code",
   "execution_count": 1,
   "metadata": {
    "collapsed": false
   },
   "outputs": [],
   "source": [
    "%matplotlib inline\n",
    "%load_ext autoreload\n",
    "%autoreload 2\n",
    "\n",
    "import matplotlib.pyplot as plt\n",
    "import numpy as np\n",
    "import pandas as pd\n",
    "import seaborn as sns\n",
    "sns.set_style('white')\n",
    "sns.set_context('notebook', font_scale=1.3)\n",
    "\n",
    "from agents import Agent\n",
    "from mouselab import MouselabEnv\n",
    "from distributions import Normal, Categorical\n",
    "from policies import FixedPlanPolicy"
   ]
  },
  {
   "cell_type": "code",
   "execution_count": 49,
   "metadata": {
    "collapsed": false
   },
   "outputs": [],
   "source": [
    "from bandits import MetaBanditEnv\n",
    "from exact import solve\n",
    "def parse(row):\n",
    "    if row[0] < 0:\n",
    "        return None\n",
    "    row = row.tolist()\n",
    "    arms = range(len(row) // 2)\n",
    "    return tuple((row[a*2], row[a*2 + 1]) for a in arms)\n",
    "\n",
    "template= '../matlab_code/GeneralMDP/states{n_arm}{max_obs}.csv'\n",
    "for n_arm in range(2, 6):\n",
    "    max_obs = 10\n",
    "    cost = 0\n",
    "    env = MetaBanditEnv(n_arm, max_obs, cost)\n",
    "    Q, V, pi, info = solve(env)\n",
    "    states = pd.read_csv(template.format(n_arm=n_arm, max_obs=max_obs))\n",
    "    states = states.apply(parse, axis=1).iloc[:-1]\n",
    "    \n",
    "    def get_qs(s):\n",
    "        if len(env.actions(s)) == 1:\n",
    "            return [0] * n_arm + [Q(s, n_arm)]\n",
    "        else:\n",
    "            return [Q(s, a) for a in range(n_arm+1)]\n",
    "\n",
    "    df = pd.DataFrame(np.stack(states.apply(get_qs)))\n",
    "    df.to_csv('results/bandit_q_{n_arm}_{max_obs}.csv'.format(n_arm=n_arm, max_obs=max_obs),\n",
    "              header=False, index=False)\n"
   ]
  },
  {
   "cell_type": "code",
   "execution_count": 89,
   "metadata": {
    "collapsed": false
   },
   "outputs": [
    {
     "data": {
      "text/plain": [
       "0.7241666666666668"
      ]
     },
     "execution_count": 89,
     "metadata": {},
     "output_type": "execute_result"
    }
   ],
   "source": [
    "from toolz.curried import *\n",
    "# df.apply(compose(len, list, concat)).max()\n",
    "# V(df.iloc[2])"
   ]
  },
  {
   "cell_type": "code",
   "execution_count": 62,
   "metadata": {
    "collapsed": false
   },
   "outputs": [
    {
     "data": {
      "text/plain": [
       "0    ((2, 1), (1, 1), (1, 1), (1, 1), (1, 1))\n",
       "1    ((1, 2), (1, 1), (1, 1), (1, 1), (1, 1))\n",
       "2    ((1, 1), (2, 1), (1, 1), (1, 1), (1, 1))\n",
       "3    ((1, 1), (1, 2), (1, 1), (1, 1), (1, 1))\n",
       "4    ((1, 1), (1, 1), (2, 1), (1, 1), (1, 1))\n",
       "5    ((1, 1), (1, 1), (1, 2), (1, 1), (1, 1))\n",
       "6    ((1, 1), (1, 1), (1, 1), (2, 1), (1, 1))\n",
       "7    ((1, 1), (1, 1), (1, 1), (1, 2), (1, 1))\n",
       "8    ((1, 1), (1, 1), (1, 1), (1, 1), (2, 1))\n",
       "9    ((1, 1), (1, 1), (1, 1), (1, 1), (1, 2))\n",
       "dtype: object"
      ]
     },
     "execution_count": 62,
     "metadata": {},
     "output_type": "execute_result"
    }
   ],
   "source": [
    "\n",
    "\n",
    "df = states.iloc[:10]\n",
    "df.apply(parse, axis=1)"
   ]
  }
 ],
 "metadata": {
  "anaconda-cloud": {},
  "kernelspec": {
   "display_name": "Python [default]",
   "language": "python",
   "name": "python3"
  },
  "language_info": {
   "codemirror_mode": {
    "name": "ipython",
    "version": 3
   },
   "file_extension": ".py",
   "mimetype": "text/x-python",
   "name": "python",
   "nbconvert_exporter": "python",
   "pygments_lexer": "ipython3",
   "version": "3.5.2"
  }
 },
 "nbformat": 4,
 "nbformat_minor": 2
}
