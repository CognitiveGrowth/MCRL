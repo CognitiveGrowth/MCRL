{
 "cells": [
  {
   "cell_type": "markdown",
   "metadata": {},
   "source": [
    "# Preliminaries"
   ]
  },
  {
   "cell_type": "markdown",
   "metadata": {},
   "source": [
    "## Importing Libraries"
   ]
  },
  {
   "cell_type": "code",
   "execution_count": 83,
   "metadata": {
    "collapsed": false
   },
   "outputs": [
    {
     "name": "stdout",
     "output_type": "stream",
     "text": [
      "The autoreload extension is already loaded. To reload it, use:\n",
      "  %reload_ext autoreload\n"
     ]
    }
   ],
   "source": [
    "%matplotlib inline\n",
    "%load_ext autoreload\n",
    "%autoreload 2\n",
    "\n",
    "import matplotlib.pyplot as plt\n",
    "import numpy as np\n",
    "import pandas as pd\n",
    "import seaborn as sns\n",
    "import scipy.stats\n",
    "sns.set_style('white')\n",
    "sns.set_context('notebook', font_scale=1.3)\n",
    "\n",
    "from agents import Agent\n",
    "from bo_py import *\n",
    "from mouselab import MouselabEnv\n",
    "from distributions import Normal, Categorical\n",
    "from policies import FixedPlanPolicy, LiederPolicy\n",
    "from joblib import Parallel, delayed\n",
    "from evaluation import *\n",
    "import json\n",
    "\n",
    "import warnings\n",
    "warnings.filterwarnings(\"ignore\", \n",
    "                        message=\"The objective has been evaluated at this point before.\")"
   ]
  },
  {
   "cell_type": "markdown",
   "metadata": {},
   "source": [
    "## Verifying new reward function"
   ]
  },
  {
   "cell_type": "code",
   "execution_count": 44,
   "metadata": {
    "collapsed": true
   },
   "outputs": [],
   "source": [
    "from scipy.stats import norm\n",
    "def discrete_normal(mu, sigma, discretization):\n",
    "    d = norm(0, sigma)\n",
    "    vals = np.linspace(-2*sigma, 2*sigma, discretization)\n",
    "    delta = vals[1] - vals[0]\n",
    "    bins = np.array((-np.inf, *(vals[1:] - delta/2), np.inf))\n",
    "    probs = np.diff(d.cdf(bins))\n",
    "    return Categorical(vals, probs)"
   ]
  },
  {
   "cell_type": "code",
   "execution_count": 45,
   "metadata": {
    "collapsed": true
   },
   "outputs": [],
   "source": [
    "reward = discrete_normal(0, sigma = 10, discretization = 6)"
   ]
  },
  {
   "cell_type": "code",
   "execution_count": 46,
   "metadata": {
    "collapsed": false
   },
   "outputs": [
    {
     "name": "stdout",
     "output_type": "stream",
     "text": [
      "Categorical(vals=[-20. -12.  -4.   4.  12.  20.], probs=[ 0.055  0.157  0.288  0.288  0.157  0.055])\n"
     ]
    }
   ],
   "source": [
    "print(reward)"
   ]
  },
  {
   "cell_type": "code",
   "execution_count": 47,
   "metadata": {
    "collapsed": false
   },
   "outputs": [],
   "source": [
    "dist = Normal(0,10)\n",
    "reward = dist.to_discrete(6)"
   ]
  },
  {
   "cell_type": "code",
   "execution_count": 48,
   "metadata": {
    "collapsed": false
   },
   "outputs": [
    {
     "name": "stdout",
     "output_type": "stream",
     "text": [
      "Categorical(vals=[-20. -12.  -4.   4.  12.  20.], probs=[ 0.055  0.157  0.288  0.288  0.157  0.055])\n"
     ]
    }
   ],
   "source": [
    "print(reward)"
   ]
  },
  {
   "cell_type": "markdown",
   "metadata": {},
   "source": [
    "## Verifying making new environments"
   ]
  },
  {
   "cell_type": "code",
   "execution_count": 49,
   "metadata": {
    "collapsed": true
   },
   "outputs": [],
   "source": [
    "def make_env(depth, reward, cost, ground_truth=False):\n",
    "    \"\"\"Returns a MouselabEnv with given depth and cost. \n",
    "    If `ground_truth` is True, the reward observed at a given node will be\n",
    "    constant across runs on this env. This reduces variance of the return.\"\"\"\n",
    "    env = MouselabEnv(depth, reward=reward, cost=cost)\n",
    "    if ground_truth:\n",
    "        env.ground_truth = np.array([0, *reward.sample(len(env.tree) - 1)])\n",
    "    return env\n",
    "\n",
    "def make_envs(depth, reward, cost, n=100, ground_truth=None):\n",
    "    # Note, ground_truth can be an int in which case it acts as a random seed.\n",
    "    if ground_truth is not None:\n",
    "        np.random.seed(ground_truth)\n",
    "        return [make_env(depth, reward, cost, True) for _ in range(n)]\n",
    "    else:\n",
    "        return [make_env(depth, reward, cost, False)] * n"
   ]
  },
  {
   "cell_type": "code",
   "execution_count": 50,
   "metadata": {
    "collapsed": false
   },
   "outputs": [],
   "source": [
    "dist = Normal(0,10)\n",
    "reward = dist.to_discrete(6)\n",
    "cost=0.01\n",
    "env1 = MouselabEnv([4,1,2], reward=reward,cost=cost)\n",
    "env2 = make_env([4,1,2], reward, cost, ground_truth=False)\n",
    "env3 = make_env([4,1,2], reward, cost, ground_truth=True)"
   ]
  },
  {
   "cell_type": "code",
   "execution_count": 51,
   "metadata": {
    "collapsed": false
   },
   "outputs": [
    {
     "name": "stdout",
     "output_type": "stream",
     "text": [
      "--env1---\n",
      "reward = Categorical(vals=[-20. -12.  -4.   4.  12.  20.], probs=[ 0.055  0.157  0.288  0.288  0.157  0.055])\n",
      "cost = -0.01\n",
      "branch = [4, 1, 2]\n",
      "--env2---\n",
      "reward = Categorical(vals=[-20. -12.  -4.   4.  12.  20.], probs=[ 0.055  0.157  0.288  0.288  0.157  0.055])\n",
      "cost = -0.01\n",
      "branch = [4, 1, 2]\n",
      "--env3---\n",
      "reward = Categorical(vals=[-20. -12.  -4.   4.  12.  20.], probs=[ 0.055  0.157  0.288  0.288  0.157  0.055])\n",
      "cost = -0.01\n",
      "branch = [4, 1, 2]\n",
      "ground truth =[  0.  -4.   4.   4.  -4.  -4.   4. -12.   4.  -4. -12.  -4.  -4.  -4.  -4.   4. -20.]\n"
     ]
    }
   ],
   "source": [
    "print('--env1---')\n",
    "print('reward = '+str(env1.reward))\n",
    "print('cost = '+str(env1.cost))\n",
    "print('branch = '+str(env1.branch))\n",
    "print('--env2---')\n",
    "print('reward = '+str(env2.reward))\n",
    "print('cost = '+str(env2.cost))\n",
    "print('branch = '+str(env2.branch))\n",
    "print('--env3---')\n",
    "print('reward = '+str(env3.reward))\n",
    "print('cost = '+str(env3.cost))\n",
    "print('branch = '+str(env3.branch))\n",
    "print('ground truth ='+str(env3.ground_truth))"
   ]
  },
  {
   "cell_type": "code",
   "execution_count": 52,
   "metadata": {
    "collapsed": false
   },
   "outputs": [],
   "source": [
    "train_envs = make_envs([4,1,2], reward, cost,n=1000, ground_truth=1)"
   ]
  },
  {
   "cell_type": "code",
   "execution_count": null,
   "metadata": {
    "collapsed": false
   },
   "outputs": [],
   "source": [
    "train_envs = make_envs([4,1,2], reward, cost,n=1000, ground_truth=1)\n",
    "bo_pol,result = bo_policy(train_envs, max_cost=30, n_calls = 20,n_jobs=20,\n",
    "                        verbose=0, normalize_voi=False, return_result=True)"
   ]
  },
  {
   "cell_type": "code",
   "execution_count": null,
   "metadata": {
    "collapsed": false
   },
   "outputs": [],
   "source": [
    "x2theta(result.x, normalize_voi=False)"
   ]
  },
  {
   "cell_type": "code",
   "execution_count": null,
   "metadata": {
    "collapsed": false
   },
   "outputs": [],
   "source": [
    "bo_pol.theta"
   ]
  },
  {
   "cell_type": "markdown",
   "metadata": {},
   "source": [
    "## Data saving conventions"
   ]
  },
  {
   "cell_type": "code",
   "execution_count": 100,
   "metadata": {
    "collapsed": true
   },
   "outputs": [],
   "source": [
    "def filename(cost, normalize):\n",
    "    c = round(float(cost), 5)\n",
    "    n = int(normalize)\n",
    "    return 'data/tree_{}_{}'.format(c, n)"
   ]
  },
  {
   "cell_type": "code",
   "execution_count": 59,
   "metadata": {
    "collapsed": false
   },
   "outputs": [
    {
     "name": "stdout",
     "output_type": "stream",
     "text": [
      "data/tree_0.01_1.npy\n"
     ]
    }
   ],
   "source": [
    "fn = filename(cost, True)\n",
    "print(fn + '.npy')"
   ]
  },
  {
   "cell_type": "markdown",
   "metadata": {},
   "source": [
    "# Training and Testing"
   ]
  },
  {
   "cell_type": "markdown",
   "metadata": {},
   "source": [
    "## Training and testing across different methods"
   ]
  },
  {
   "cell_type": "code",
   "execution_count": 28,
   "metadata": {
    "collapsed": true
   },
   "outputs": [],
   "source": [
    "#Rerun with unnormalized BO and regression to get separate df, combine them outside\n",
    "def run_params(cost=.01):\n",
    "    dist = Normal(0,10)\n",
    "    reward = dist.to_discrete(6)\n",
    "    train_envs = make_envs([4,1,2], reward, cost, n=1000, ground_truth=1)\n",
    "    term_action = train_envs[0].term_action\n",
    "#     write_bo_policy(n_arm, max_obs, cost,n_calls = 10)\n",
    "    bo_pol,result = bo_policy(train_envs, max_cost=30, n_calls = 60, n_jobs=20,\n",
    "                        verbose=0, normalize_voi=True, return_result=True)\n",
    "    policies = {\n",
    "#         'BO': bo_policy(train_envs, max_cost=30, n_calls = 10),\n",
    "        'BO' : bo_pol,\n",
    "        'meta-greedy': LiederPolicy([1, 1, 0, 0, 1]),\n",
    "        'full-observation': FixedPlanPolicy(range(1, term_action+1)),\n",
    "        'object-myopic2': FixedPlanPolicy([1,5,9,13,term_action])\n",
    "    }\n",
    "    fn = filename(cost, True)\n",
    "    np.save(fn + '.npy', bo_pol.theta)\n",
    "    \n",
    "    test_envs = make_envs([4,1,2], reward, cost,n=500, ground_truth=1)\n",
    "    \n",
    "    def test():\n",
    "        for name, policy in policies.items():\n",
    "            df = evaluate(policy, envs=test_envs)\n",
    "            df['agent'] = name\n",
    "            df['cost'] = cost\n",
    "            yield df\n",
    "    return pd.concat(test())"
   ]
  },
  {
   "cell_type": "code",
   "execution_count": null,
   "metadata": {
    "collapsed": false
   },
   "outputs": [],
   "source": [
    "data = []\n",
    "datapts = 3\n",
    "costs = [0.25,1,4]\n",
    "for i in range(datapts):\n",
    "    cost = costs[i]\n",
    "    print('cost = ' + str(cost))\n",
    "    data.append(run_params(cost = cost))\n",
    "#     run_params(cost = cost)\n",
    "    \n",
    "store = pd.HDFStore('tests500.h5')\n",
    "store['data'] = pd.concat(data)\n",
    "store.close()"
   ]
  },
  {
   "cell_type": "code",
   "execution_count": 20,
   "metadata": {
    "collapsed": false
   },
   "outputs": [
    {
     "name": "stdout",
     "output_type": "stream",
     "text": [
      "cost  agent           \n",
      "0.25  BO                  1.997900e+01\n",
      "      full-observation    1.867200e+01\n",
      "      meta-greedy         1.793000e+01\n",
      "      object-myopic2      8.440000e+00\n",
      "1.00  BO                  1.303400e+01\n",
      "      full-observation    6.672000e+00\n",
      "      meta-greedy         1.203000e+01\n",
      "      object-myopic2      5.440000e+00\n",
      "4.00  BO                 -4.440892e-16\n",
      "      full-observation   -4.132800e+01\n",
      "      meta-greedy        -1.600000e-02\n",
      "      object-myopic2     -6.560000e+00\n",
      "Name: util, dtype: float64\n"
     ]
    }
   ],
   "source": [
    "store = pd.HDFStore('tests500.h5')\n",
    "df = pd.concat([store['data'],store['om_only']])\n",
    "print(df.groupby(['cost','agent']).util.mean())"
   ]
  },
  {
   "cell_type": "code",
   "execution_count": 21,
   "metadata": {
    "collapsed": false
   },
   "outputs": [
    {
     "data": {
      "text/plain": [
       "(0, 20.0)"
      ]
     },
     "execution_count": 21,
     "metadata": {},
     "output_type": "execute_result"
    },
    {
     "data": {
      "image/png": "[encoded data removed]",
      "text/plain": [
       "<matplotlib.figure.Figure at 0x2b488b9130b8>"
      ]
     },
     "metadata": {},
     "output_type": "display_data"
    }
   ],
   "source": [
    "(df.groupby(['cost','agent'])\n",
    "    .util.mean().unstack()\n",
    "    .plot(logx=True, ls='--', by='n_arm'))\n",
    "plt.ylim(0)"
   ]
  },
  {
   "cell_type": "markdown",
   "metadata": {},
   "source": [
    "## Creating JSON files"
   ]
  },
  {
   "cell_type": "code",
   "execution_count": 84,
   "metadata": {
    "collapsed": false
   },
   "outputs": [],
   "source": [
    "stimuli_envs = make_envs([4,1,2], reward, cost,n=16, ground_truth=1)"
   ]
  },
  {
   "cell_type": "code",
   "execution_count": 85,
   "metadata": {
    "collapsed": true
   },
   "outputs": [],
   "source": [
    "reward_list = [{'stateRewards': list(env.ground_truth)} for env in stimuli_envs]"
   ]
  },
  {
   "cell_type": "code",
   "execution_count": 86,
   "metadata": {
    "collapsed": false
   },
   "outputs": [
    {
     "data": {
      "text/plain": [
       "[{'stateRewards': [0.0,\n",
       "   -4.0,\n",
       "   4.0,\n",
       "   -20.0,\n",
       "   -4.0,\n",
       "   -12.0,\n",
       "   -12.0,\n",
       "   -12.0,\n",
       "   -4.0,\n",
       "   -4.0,\n",
       "   4.0,\n",
       "   -4.0,\n",
       "   4.0,\n",
       "   -12.0,\n",
       "   12.0,\n",
       "   -20.0,\n",
       "   4.0]},\n",
       " {'stateRewards': [0.0,\n",
       "   -4.0,\n",
       "   4.0,\n",
       "   -12.0,\n",
       "   -12.0,\n",
       "   12.0,\n",
       "   20.0,\n",
       "   -4.0,\n",
       "   4.0,\n",
       "   12.0,\n",
       "   12.0,\n",
       "   -12.0,\n",
       "   -20.0,\n",
       "   -12.0,\n",
       "   12.0,\n",
       "   -12.0,\n",
       "   -4.0]}]"
      ]
     },
     "execution_count": 86,
     "metadata": {},
     "output_type": "execute_result"
    }
   ],
   "source": [
    "reward_list[:2]"
   ]
  },
  {
   "cell_type": "code",
   "execution_count": 93,
   "metadata": {
    "collapsed": false
   },
   "outputs": [],
   "source": [
    "with open('rewards', 'w') as f:\n",
    "    json.dump(reward_list, f, indent=4)"
   ]
  },
  {
   "cell_type": "markdown",
   "metadata": {},
   "source": [
    "## Testing on stimulation environments"
   ]
  },
  {
   "cell_type": "code",
   "execution_count": 108,
   "metadata": {
    "collapsed": true
   },
   "outputs": [],
   "source": [
    "def run_params(cost=.01):\n",
    "    dist = Normal(0,10)\n",
    "    reward = dist.to_discrete(6)\n",
    "    stimuli_envs2 = stimuli_envs = make_envs([4,1,2], reward, cost,n=16, ground_truth=1)\n",
    "    term_action = stimuli_envs2[0].term_action\n",
    "    print(stimuli_envs2[0].ground_truth)\n",
    "    \n",
    "    fn = filename(cost, True)\n",
    "    theta = np.load(fn + '.npy')\n",
    "    policies = {\n",
    "#         'BO': bo_policy(train_envs, max_cost=30, n_calls = 10),\n",
    "        'BO' : LiederPolicy(theta),\n",
    "        'meta-greedy': LiederPolicy([1, 1, 0, 0, 1]),\n",
    "        'full-observation': FixedPlanPolicy(range(1, term_action+1)),\n",
    "        'object-myopic2': FixedPlanPolicy([1,5,9,13,term_action])\n",
    "    }\n",
    "    \n",
    "    test_envs = stimuli_envs\n",
    "    \n",
    "    def test():\n",
    "        for name, policy in policies.items():\n",
    "            df = evaluate(policy, envs=test_envs)\n",
    "            df['agent'] = name\n",
    "            df['cost'] = cost\n",
    "            yield df\n",
    "    return pd.concat(test())"
   ]
  },
  {
   "cell_type": "code",
   "execution_count": 109,
   "metadata": {
    "collapsed": false
   },
   "outputs": [
    {
     "name": "stdout",
     "output_type": "stream",
     "text": [
      "cost = 0.25\n",
      "[  0.  -4.   4. -20.  -4. -12. -12. -12.  -4.  -4.   4.  -4.   4. -12.  12. -20.   4.]\n",
      "cost = 1\n",
      "[  0.  -4.   4. -20.  -4. -12. -12. -12.  -4.  -4.   4.  -4.   4. -12.  12. -20.   4.]\n",
      "cost = 4\n",
      "[  0.  -4.   4. -20.  -4. -12. -12. -12.  -4.  -4.   4.  -4.   4. -12.  12. -20.   4.]\n"
     ]
    }
   ],
   "source": [
    "data = []\n",
    "datapts = 3\n",
    "costs = [0.25,1,4]\n",
    "for i in range(datapts):\n",
    "    cost = costs[i]\n",
    "    print('cost = ' + str(cost))\n",
    "    data.append(run_params(cost = cost))\n",
    "#     run_params(cost = cost)\n",
    "    \n",
    "store = pd.HDFStore('tests500.h5')\n",
    "store['stim'] = pd.concat(data)\n",
    "store.close()"
   ]
  },
  {
   "cell_type": "code",
   "execution_count": 110,
   "metadata": {
    "collapsed": true
   },
   "outputs": [],
   "source": [
    "store = pd.HDFStore('tests500.h5')\n",
    "df_stim =store['stim']\n",
    "store.close()"
   ]
  },
  {
   "cell_type": "code",
   "execution_count": 111,
   "metadata": {
    "collapsed": false
   },
   "outputs": [
    {
     "data": {
      "text/plain": [
       "cost  agent           \n",
       "0.25  BO                  2.246875e+01\n",
       "      full-observation    2.100000e+01\n",
       "      meta-greedy         1.679688e+01\n",
       "      object-myopic2      8.500000e+00\n",
       "1.00  BO                  1.362500e+01\n",
       "      full-observation    9.000000e+00\n",
       "      meta-greedy         1.093750e+01\n",
       "      object-myopic2      5.500000e+00\n",
       "4.00  BO                 -4.440892e-16\n",
       "      full-observation   -3.900000e+01\n",
       "      meta-greedy         2.500000e-01\n",
       "      object-myopic2     -6.500000e+00\n",
       "Name: util, dtype: float64"
      ]
     },
     "execution_count": 111,
     "metadata": {},
     "output_type": "execute_result"
    }
   ],
   "source": [
    "df_stim.groupby(['cost','agent']).util.mean()"
   ]
  },
  {
   "cell_type": "code",
   "execution_count": 112,
   "metadata": {
    "collapsed": false
   },
   "outputs": [
    {
     "data": {
      "text/plain": [
       "(0, 30.0)"
      ]
     },
     "execution_count": 112,
     "metadata": {},
     "output_type": "execute_result"
    },
    {
     "data": {
      "image/png": "[encoded data removed]",
      "text/plain": [
       "<matplotlib.figure.Figure at 0x2b489d0630b8>"
      ]
     },
     "metadata": {},
     "output_type": "display_data"
    }
   ],
   "source": [
    "(df_stim.groupby(['cost','agent'])\n",
    "    .util.mean().unstack()\n",
    "    .plot(logx=True, ls='--', by='n_arm'))\n",
    "plt.ylim(0)"
   ]
  },
  {
   "cell_type": "markdown",
   "metadata": {},
   "source": [
    "# Analysis"
   ]
  },
  {
   "cell_type": "markdown",
   "metadata": {},
   "source": [
    "## Analysis of old results"
   ]
  },
  {
   "cell_type": "code",
   "execution_count": 39,
   "metadata": {
    "collapsed": false,
    "scrolled": true
   },
   "outputs": [
    {
     "data": {
      "text/plain": [
       "(0, 25)"
      ]
     },
     "execution_count": 39,
     "metadata": {},
     "output_type": "execute_result"
    },
    {
     "data": {
      "image/png": "[encoded data removed]",
      "text/plain": [
       "<matplotlib.figure.Figure at 0x2b488bc70780>"
      ]
     },
     "metadata": {},
     "output_type": "display_data"
    }
   ],
   "source": [
    "store = pd.HDFStore('results/testsom2.h5')\n",
    "df = pd.concat([store['data'],store['sep_mg'],store['sep_bo']])\n",
    "(df.groupby(['cost','agent'])\n",
    "    .util.mean().unstack()\n",
    "    .plot(logx=True, ls='--', by='n_arm'))\n",
    "plt.ylim(0,25)"
   ]
  },
  {
   "cell_type": "code",
   "execution_count": 28,
   "metadata": {
    "collapsed": false
   },
   "outputs": [
    {
     "data": {
      "text/plain": [
       "<matplotlib.text.Text at 0x1207c2630>"
      ]
     },
     "execution_count": 28,
     "metadata": {},
     "output_type": "execute_result"
    },
    {
     "data": {
      "image/png": "[encoded data removed]",
      "text/plain": [
       "<matplotlib.figure.Figure at 0x12083e320>"
      ]
     },
     "metadata": {},
     "output_type": "display_data"
    }
   ],
   "source": [
    "df[df.agent == 'BO'].groupby('cost').observations.mean().plot(logx=True)\n",
    "plt.ylabel('bo observations')"
   ]
  },
  {
   "cell_type": "code",
   "execution_count": 48,
   "metadata": {
    "collapsed": false
   },
   "outputs": [
    {
     "data": {
      "text/plain": [
       "cost\n",
       "0.010000     12.555080\n",
       "0.015849     12.118565\n",
       "0.025119     11.928142\n",
       "0.039811     11.671175\n",
       "0.063096     11.479715\n",
       "0.100000     11.263200\n",
       "0.158489     10.533564\n",
       "0.251189     10.512096\n",
       "0.398107      8.292643\n",
       "0.630957      9.761883\n",
       "1.000000      7.610000\n",
       "1.584893      5.365152\n",
       "2.511886      4.407128\n",
       "3.981072      6.617727\n",
       "6.309573     15.094294\n",
       "10.000000    30.480000\n",
       "Name: util, dtype: float64"
      ]
     },
     "execution_count": 48,
     "metadata": {},
     "output_type": "execute_result"
    }
   ],
   "source": [
    "bo = df[df.agent == 'BO']\n",
    "om = df[df.agent == 'object-myopic2']\n",
    "bobyc=bo.groupby('cost').util.mean()\n",
    "ombyc=om.groupby('cost').util.mean()\n",
    "bobyc-ombyc"
   ]
  }
 ],
 "metadata": {
  "kernelspec": {
   "display_name": "Python 3",
   "language": "python",
   "name": "python3"
  },
  "language_info": {
   "codemirror_mode": {
    "name": "ipython",
    "version": 3
   },
   "file_extension": ".py",
   "mimetype": "text/x-python",
   "name": "python",
   "nbconvert_exporter": "python",
   "pygments_lexer": "ipython3",
   "version": "3.5.1"
  }
 },
 "nbformat": 4,
 "nbformat_minor": 2
}
