{
 "cells": [
  {
   "cell_type": "code",
   "execution_count": 1,
   "metadata": {
    "collapsed": true
   },
   "outputs": [],
   "source": [
    "%matplotlib inline\n",
    "import matplotlib.pyplot as plt\n",
    "import numpy as np\n",
    "import pandas as pd\n",
    "import seaborn as sns\n",
    "import scipy.stats\n",
    "from scipy.stats import norm\n",
    "import scipy.integrate as integrate\n",
    "\n",
    "import gym\n",
    "from gym import spaces\n",
    "\n",
    "import random\n",
    "import itertools as it\n",
    "from itertools import product\n",
    "from joblib import Parallel, delayed\n",
    "from toolz import memoize\n",
    "from contracts import contract\n",
    "from collections import namedtuple, defaultdict, deque, Counter\n",
    "\n",
    "import warnings\n",
    "warnings.filterwarnings(\"ignore\", \n",
    "                        message=\"The objective has been evaluated at this point before.\")\n",
    "\n",
    "from agents import Agent\n",
    "from oldmouselab import OldMouselabEnv\n",
    "from policies import FixedPlanPolicy, LiederPolicy\n",
    "from evaluation import *\n",
    "from omdc_util import *\n",
    "from distributions import cmax, smax, sample, expectation, Normal, PointMass, SampleDist, Normal, Categorical"
   ]
  },
  {
   "cell_type": "code",
   "execution_count": 2,
   "metadata": {
    "collapsed": true
   },
   "outputs": [],
   "source": [
    "def hd_dist(attributes):\n",
    "    dist = [1,]*attributes\n",
    "    dist[0] = np.random.randint(85,97)\n",
    "    for i in range(1,attributes-1):\n",
    "        dist[i] += np.random.randint(0,100-np.sum(dist))\n",
    "    dist[-1] += 100-np.sum(dist)\n",
    "    dist = np.around(np.array(dist)/100,decimals=2)\n",
    "    np.random.shuffle(dist)\n",
    "    return dist\n",
    "\n",
    "def ld_dist(attributes):\n",
    "    constrain = True\n",
    "    while constrain:\n",
    "        dist = [np.random.randint(10,50) for _ in range(attributes)]\n",
    "        dist = np.around(np.array(dist)/sum(dist),decimals=2)\n",
    "        constrain = np.min(dist) <= 0.10 or np.max(dist) >= 0.40\n",
    "    np.random.shuffle(dist)\n",
    "    return dist"
   ]
  },
  {
   "cell_type": "code",
   "execution_count": 3,
   "metadata": {
    "collapsed": true
   },
   "outputs": [],
   "source": [
    "gambles = 7\n",
    "attributes = 4\n",
    "high_stakes = Normal((9.99+0.01)/2, 0.3*(9.99-0.01))\n",
    "low_stakes = Normal((0.25+0.01)/2, 0.3*(0.25-0.01))\n",
    "reward = high_stakes\n",
    "cost=.03\n",
    "\n",
    "#set to 20 for sanity check\n",
    "n_train = 20\n",
    "n_test = 20\n",
    "\n",
    "train_envs_hd = [OldMouselabEnv(gambles, hd_dist(attributes), reward, cost) for _ in range(n_train)]\n",
    "train_envs_ld = [OldMouselabEnv(gambles, ld_dist(attributes), reward, cost) for _ in range(n_train)]\n",
    "train_envs = train_envs_hd+train_envs_ld \n",
    "\n",
    "test_envs_hd =  [OldMouselabEnv(gambles, hd_dist(attributes), reward, cost) for _ in range(n_train)]\n",
    "test_envs_ld = [OldMouselabEnv(gambles, ld_dist(attributes), reward, cost) for _ in range(n_train)]\n",
    "test_envs = test_envs_hd+test_envs_ld \n",
    "\n",
    "term_action = train_envs[0].term_action"
   ]
  },
  {
   "cell_type": "code",
   "execution_count": 4,
   "metadata": {
    "collapsed": true
   },
   "outputs": [],
   "source": [
    "bo_pol_theta = np.load('data/om_bmps_pols/best/hs_hd_1cents.npy')\n",
    "bo_pol = LiederPolicy(list(bo_pol_theta))"
   ]
  },
  {
   "cell_type": "code",
   "execution_count": 5,
   "metadata": {
    "collapsed": true
   },
   "outputs": [],
   "source": [
    "agent = Agent()\n",
    "def run_env(policy, env):\n",
    "    agent.register(env)\n",
    "    agent.register(policy)\n",
    "    tr = agent.run_episode()\n",
    "#     print(tr)\n",
    "    return {'util': tr['return'], 'actions': tr['actions'],\n",
    "            'observations': len(tr['actions']) - 1, 'ground_truth': env.ground_truth}\n",
    "\n",
    "def action_coordinate(env, action):\n",
    "    return (action//env.outcomes,action%env.outcomes)\n",
    "\n",
    "def p_grid(env, actions):\n",
    "    grid = np.zeros((env.gambles+1,env.outcomes))\n",
    "    grid[0,:] = env.dist\n",
    "    for i in range(len(actions[:-1])):\n",
    "        gamble, outcome = action_coordinate(env,actions[i]) \n",
    "        grid[gamble+1, outcome] = i+1\n",
    "    return grid"
   ]
  },
  {
   "cell_type": "markdown",
   "metadata": {},
   "source": [
    "# BMPS Run"
   ]
  },
  {
   "cell_type": "code",
   "execution_count": 6,
   "metadata": {},
   "outputs": [
    {
     "data": {
      "text/plain": [
       "{'actions': [0, 4, 8, 12, 16, 20, 24, 7, 27, 28],\n",
       " 'ground_truth': array([ 2.868,  3.376,  8.052,  4.247,  5.411,  6.878,  2.414,  7.686,  3.299,  5.303,  6.913,  3.933,  5.093,  8.025,  6.159,  7.988,  3.863,  0.06 ,  2.127,  3.745,  5.086,  4.822,  1.082,  6.767,\n",
       "         9.618,  7.32 ,  8.918,  8.098]),\n",
       " 'observations': 9,\n",
       " 'util': 7.1054764767201117}"
      ]
     },
     "execution_count": 6,
     "metadata": {},
     "output_type": "execute_result"
    }
   ],
   "source": [
    "train_envs[21].reset()\n",
    "trace = run_env(bo_pol, train_envs[21])\n",
    "trace"
   ]
  },
  {
   "cell_type": "code",
   "execution_count": 7,
   "metadata": {},
   "outputs": [
    {
     "data": {
      "text/plain": [
       "array([ 0.34,  0.21,  0.19,  0.26])"
      ]
     },
     "execution_count": 7,
     "metadata": {},
     "output_type": "execute_result"
    }
   ],
   "source": [
    "train_envs[21].dist"
   ]
  },
  {
   "cell_type": "code",
   "execution_count": 8,
   "metadata": {},
   "outputs": [
    {
     "data": {
      "text/plain": [
       "array([[2.8676263728629259, Norm(5.00, 2.99), Norm(5.00, 2.99), Norm(5.00, 2.99)],\n",
       "       [5.4113025685444454, Norm(5.00, 2.99), Norm(5.00, 2.99), 7.6859703018050514],\n",
       "       [3.2988504843560627, Norm(5.00, 2.99), Norm(5.00, 2.99), Norm(5.00, 2.99)],\n",
       "       [5.0930713506567127, Norm(5.00, 2.99), Norm(5.00, 2.99), Norm(5.00, 2.99)],\n",
       "       [3.8625020718212522, Norm(5.00, 2.99), Norm(5.00, 2.99), Norm(5.00, 2.99)],\n",
       "       [5.0859269380180736, Norm(5.00, 2.99), Norm(5.00, 2.99), Norm(5.00, 2.99)],\n",
       "       [9.6177064974419544, Norm(5.00, 2.99), Norm(5.00, 2.99), 8.0979087214994099]], dtype=object)"
      ]
     },
     "execution_count": 8,
     "metadata": {},
     "output_type": "execute_result"
    }
   ],
   "source": [
    "train_envs[21].grid()"
   ]
  },
  {
   "cell_type": "code",
   "execution_count": 9,
   "metadata": {
    "scrolled": true
   },
   "outputs": [
    {
     "data": {
      "text/plain": [
       "array([[ 0.34,  0.21,  0.19,  0.26],\n",
       "       [ 1.  ,  0.  ,  0.  ,  0.  ],\n",
       "       [ 2.  ,  0.  ,  0.  ,  8.  ],\n",
       "       [ 3.  ,  0.  ,  0.  ,  0.  ],\n",
       "       [ 4.  ,  0.  ,  0.  ,  0.  ],\n",
       "       [ 5.  ,  0.  ,  0.  ,  0.  ],\n",
       "       [ 6.  ,  0.  ,  0.  ,  0.  ],\n",
       "       [ 7.  ,  0.  ,  0.  ,  9.  ]])"
      ]
     },
     "execution_count": 9,
     "metadata": {},
     "output_type": "execute_result"
    }
   ],
   "source": [
    "p_grid(train_envs[21],trace['actions'])"
   ]
  },
  {
   "cell_type": "markdown",
   "metadata": {},
   "source": [
    "# DC Run"
   ]
  },
  {
   "cell_type": "code",
   "execution_count": 10,
   "metadata": {},
   "outputs": [
    {
     "data": {
      "text/plain": [
       "{'actions': [16, 20, 12, 24, 27, 25, 26, 28],\n",
       " 'ground_truth': array([ 2.868,  3.376,  8.052,  4.247,  5.411,  6.878,  2.414,  7.686,  3.299,  5.303,  6.913,  3.933,  5.093,  8.025,  6.159,  7.988,  3.863,  0.06 ,  2.127,  3.745,  5.086,  4.822,  1.082,  6.767,\n",
       "         9.618,  7.32 ,  8.918,  8.098]),\n",
       " 'observations': 7,\n",
       " 'options': [(4, 1), (5, 1), (3, 1), (6, 1), (6, 1), (6, 1), (6, 1), (-99, 1)],\n",
       " 'util': 8.3969769607070841}"
      ]
     },
     "execution_count": 10,
     "metadata": {},
     "output_type": "execute_result"
    }
   ],
   "source": [
    "train_envs[21].reset()\n",
    "trace = run_dc(train_envs[21])\n",
    "trace"
   ]
  },
  {
   "cell_type": "code",
   "execution_count": 11,
   "metadata": {},
   "outputs": [
    {
     "data": {
      "text/plain": [
       "array([ 0.34,  0.21,  0.19,  0.26])"
      ]
     },
     "execution_count": 11,
     "metadata": {},
     "output_type": "execute_result"
    }
   ],
   "source": [
    "train_envs[21].dist"
   ]
  },
  {
   "cell_type": "code",
   "execution_count": 12,
   "metadata": {},
   "outputs": [
    {
     "data": {
      "text/plain": [
       "array([[Norm(5.00, 2.99), Norm(5.00, 2.99), Norm(5.00, 2.99), Norm(5.00, 2.99)],\n",
       "       [Norm(5.00, 2.99), Norm(5.00, 2.99), Norm(5.00, 2.99), Norm(5.00, 2.99)],\n",
       "       [Norm(5.00, 2.99), Norm(5.00, 2.99), Norm(5.00, 2.99), Norm(5.00, 2.99)],\n",
       "       [5.0930713506567127, Norm(5.00, 2.99), Norm(5.00, 2.99), Norm(5.00, 2.99)],\n",
       "       [3.8625020718212522, Norm(5.00, 2.99), Norm(5.00, 2.99), Norm(5.00, 2.99)],\n",
       "       [5.0859269380180736, Norm(5.00, 2.99), Norm(5.00, 2.99), Norm(5.00, 2.99)],\n",
       "       [9.6177064974419544, 7.3196654087334005, 8.9177407797524033, 8.0979087214994099]], dtype=object)"
      ]
     },
     "execution_count": 12,
     "metadata": {},
     "output_type": "execute_result"
    }
   ],
   "source": [
    "train_envs[21].grid()"
   ]
  },
  {
   "cell_type": "code",
   "execution_count": 13,
   "metadata": {},
   "outputs": [
    {
     "data": {
      "text/plain": [
       "array([[ 0.34,  0.21,  0.19,  0.26],\n",
       "       [ 0.  ,  0.  ,  0.  ,  0.  ],\n",
       "       [ 0.  ,  0.  ,  0.  ,  0.  ],\n",
       "       [ 0.  ,  0.  ,  0.  ,  0.  ],\n",
       "       [ 3.  ,  0.  ,  0.  ,  0.  ],\n",
       "       [ 1.  ,  0.  ,  0.  ,  0.  ],\n",
       "       [ 2.  ,  0.  ,  0.  ,  0.  ],\n",
       "       [ 4.  ,  6.  ,  7.  ,  5.  ]])"
      ]
     },
     "execution_count": 13,
     "metadata": {},
     "output_type": "execute_result"
    }
   ],
   "source": [
    "p_grid(train_envs[21],trace['actions'])"
   ]
  },
  {
   "cell_type": "markdown",
   "metadata": {},
   "source": [
    "# Parsing"
   ]
  },
  {
   "cell_type": "code",
   "execution_count": 14,
   "metadata": {
    "collapsed": true
   },
   "outputs": [],
   "source": [
    "def make_env(gambles=4, cost=.01, ground_truth=False, dist=hd_dist(3), stakes = 'high'):\n",
    "    reward = Normal((9.99+0.01)/2, 0.3*(9.99-0.01)) if stakes == 'high' else Normal((0.25+0.01)/2, 0.3*(0.25-0.01))\n",
    "    return OldMouselabEnv(gambles, dist, reward, cost, ground_truth= ground_truth) "
   ]
  },
  {
   "cell_type": "code",
   "execution_count": 15,
   "metadata": {
    "collapsed": true
   },
   "outputs": [],
   "source": [
    "env = train_envs[21]"
   ]
  },
  {
   "cell_type": "code",
   "execution_count": 16,
   "metadata": {
    "collapsed": true,
    "scrolled": true
   },
   "outputs": [],
   "source": [
    "env2 = make_env(ground_truth=env.ground_truth,dist=env.dist)"
   ]
  },
  {
   "cell_type": "code",
   "execution_count": 17,
   "metadata": {},
   "outputs": [
    {
     "data": {
      "text/plain": [
       "array([ 2.868,  3.376,  8.052,  4.247,  5.411,  6.878,  2.414,  7.686,  3.299,  5.303,  6.913,  3.933,  5.093,  8.025,  6.159,  7.988,  3.863,  0.06 ,  2.127,  3.745,  5.086,  4.822,  1.082,  6.767,\n",
       "        9.618,  7.32 ,  8.918,  8.098])"
      ]
     },
     "execution_count": 17,
     "metadata": {},
     "output_type": "execute_result"
    }
   ],
   "source": [
    "env.ground_truth"
   ]
  },
  {
   "cell_type": "code",
   "execution_count": 18,
   "metadata": {},
   "outputs": [
    {
     "data": {
      "text/plain": [
       "array([ 2.868,  3.376,  8.052,  4.247,  5.411,  6.878,  2.414,  7.686,  3.299,  5.303,  6.913,  3.933,  5.093,  8.025,  6.159,  7.988,  3.863,  0.06 ,  2.127,  3.745,  5.086,  4.822,  1.082,  6.767,\n",
       "        9.618,  7.32 ,  8.918,  8.098])"
      ]
     },
     "execution_count": 18,
     "metadata": {},
     "output_type": "execute_result"
    }
   ],
   "source": [
    "env2.ground_truth"
   ]
  },
  {
   "cell_type": "code",
   "execution_count": 19,
   "metadata": {},
   "outputs": [
    {
     "data": {
      "text/plain": [
       "{'actions': [0, 4, 8, 12, 16, 20, 24, 7, 27, 28],\n",
       " 'ground_truth': array([ 2.868,  3.376,  8.052,  4.247,  5.411,  6.878,  2.414,  7.686,  3.299,  5.303,  6.913,  3.933,  5.093,  8.025,  6.159,  7.988,  3.863,  0.06 ,  2.127,  3.745,  5.086,  4.822,  1.082,  6.767,\n",
       "         9.618,  7.32 ,  8.918,  8.098]),\n",
       " 'observations': 9,\n",
       " 'util': 7.1054764767201117}"
      ]
     },
     "execution_count": 19,
     "metadata": {},
     "output_type": "execute_result"
    }
   ],
   "source": [
    "trace = run_env(bo_pol, env)\n",
    "trace"
   ]
  },
  {
   "cell_type": "code",
   "execution_count": 20,
   "metadata": {},
   "outputs": [
    {
     "data": {
      "text/plain": [
       "{'actions': [0, 4, 8, 12, 7, 15, 13, 5, 14, 6, 16],\n",
       " 'ground_truth': array([ 2.868,  3.376,  8.052,  4.247,  5.411,  6.878,  2.414,  7.686,  3.299,  5.303,  6.913,  3.933,  5.093,  8.025,  6.159,  7.988,  3.863,  0.06 ,  2.127,  3.745,  5.086,  4.822,  1.082,  6.767,\n",
       "         9.618,  7.32 ,  8.918,  8.098]),\n",
       " 'observations': 10,\n",
       " 'util': 6.5639487836623598}"
      ]
     },
     "execution_count": 20,
     "metadata": {},
     "output_type": "execute_result"
    }
   ],
   "source": [
    "trace = run_env(bo_pol, env2)\n",
    "trace"
   ]
  },
  {
   "cell_type": "code",
   "execution_count": 172,
   "metadata": {
    "collapsed": true
   },
   "outputs": [],
   "source": [
    "def wrap_po(env,click_sequence,t=1,p_rand=0):\n",
    "    memo = dict()\n",
    "    def parse_options_clean(init_state,dist,stakes,pre_acts,click_sequence,t=1,p_err=0.001):\n",
    "        if click_sequence == []: \n",
    "            return True, [[]], [1]\n",
    "        \n",
    "        if (tuple(pre_acts),tuple(click_sequence),tuple(dist),t,p_err,stakes) in memo:       \n",
    "            return memo[(tuple(pre_acts),tuple(click_sequence),tuple(dist),t,p_err,stakes)]   \n",
    "        \n",
    "        envc = make_env(ground_truth=init_state, dist=dist, stakes=stakes)\n",
    "        envc.reset()\n",
    "        for a in pre_acts:\n",
    "            envc._step(a)\n",
    "\n",
    "        option_seqs = []\n",
    "        likelihoods = []\n",
    "        done = False\n",
    "        options, option_insts, option_utils, n_available_clicks,_,_,_ = get_all_options(envc)\n",
    "        \n",
    "        for i,j in product(range(1,min(len(dist),len(click_sequence))+1),range(len(options))):\n",
    "            option = options[j]\n",
    "            n_insts = len(option_insts[option])\n",
    "            for inst in option_insts[option]:\n",
    "                if np.array_equal(click_sequence[:i],inst): \n",
    "                    will_done, remaining, rem_likelihoods = (parse_options_clean(init_state,dist,stakes,pre_acts+click_sequence[:i],click_sequence[i:],t,p_rand))\n",
    "                    done = done or will_done  \n",
    "                    if done:\n",
    "                        for k in range(len(remaining)): \n",
    "                            option_seqs.append([option]+remaining[k]) \n",
    "#                             l_opt_seq = ((1-p_rand)*np.exp(1/t*option_utils[j])/np.sum(np.exp(1/t*option_utils))\n",
    "#                                         + p_rand*np.prod([1/(n_available_clicks-k) for k in range(option[1])]))\n",
    "                            alpha = 1 if option == (-1,1) else 0 \n",
    "#                             l_opt_seq = ((1-p_rand)*np.exp(1/t*option_utils[j])/np.sum(np.exp(1/t*option_utils))\n",
    "#                                     + p_rand*alpha)\n",
    "                            l_opt_seq = ((1-p_rand)*(1-alpha)*1/np.sum(option_utils == np.max(option_utils)))+ p_rand*alpha\n",
    "                            likelihoods.append(l_opt_seq*rem_likelihoods[k]/n_insts)               \n",
    "        memo[(tuple(pre_acts),tuple(click_sequence),tuple(dist),t,p_err,stakes)] = done, option_seqs, likelihoods\n",
    "        return done, option_seqs, likelihoods\n",
    "    stakes = 'high' if env.reward.mu == 5.0 else 'low'\n",
    "    if click_sequence[-1] != env.term_action:\n",
    "        click_sequence = click_sequence+[env.term_action]\n",
    "    return parse_options_clean(env.ground_truth,env.dist,stakes,[],click_sequence,t,p_rand)"
   ]
  },
  {
   "cell_type": "code",
   "execution_count": 89,
   "metadata": {
    "collapsed": true
   },
   "outputs": [],
   "source": [
    "env = OldMouselabEnv(4, ld_dist(3), reward, cost)"
   ]
  },
  {
   "cell_type": "code",
   "execution_count": 94,
   "metadata": {},
   "outputs": [
    {
     "data": {
      "text/plain": [
       "[10, 7, 4, 1, 3, 5, 12]"
      ]
     },
     "execution_count": 94,
     "metadata": {},
     "output_type": "execute_result"
    }
   ],
   "source": [
    "env.reset()\n",
    "trace = run_dc(env)\n",
    "click_seq = trace['actions']\n",
    "click_seq"
   ]
  },
  {
   "cell_type": "code",
   "execution_count": 95,
   "metadata": {
    "scrolled": true
   },
   "outputs": [
    {
     "data": {
      "text/plain": [
       "[(3, 1), (2, 1), (1, 1), (0, 1), (1, 1), (1, 1), (-99, 1)]"
      ]
     },
     "execution_count": 95,
     "metadata": {},
     "output_type": "execute_result"
    }
   ],
   "source": [
    "trace['options']"
   ]
  },
  {
   "cell_type": "code",
   "execution_count": 96,
   "metadata": {},
   "outputs": [
    {
     "name": "stdout",
     "output_type": "stream",
     "text": [
      "[3 1]\n",
      "[2 1]\n",
      "[1 1]\n",
      "[0 1]\n",
      "[1 1]\n",
      "[1 1]\n",
      "[-99   1]\n"
     ]
    },
    {
     "data": {
      "text/plain": [
       "(7, 0, 0.041666666666666664, 1)"
      ]
     },
     "execution_count": 96,
     "metadata": {},
     "output_type": "execute_result"
    }
   ],
   "source": [
    "env.reset()\n",
    "n_eps = 0\n",
    "n_not_eps = 0\n",
    "alpha = 1\n",
    "beta = 1\n",
    "while click_seq != []:\n",
    "    dc_found = False\n",
    "    options, option_insts, option_utils, n_available_clicks,_,_,_ = get_all_options(env)\n",
    "#     opt_option_insts = np.array([option_insts[tuple(o)] for o in np.array(options)[option_utils == np.max(option_utils)]])[:,:,0]\n",
    "#     longest_opt_seq = np.max([len(seq) for seq in opt_option_insts])\n",
    "    for i in range(1,len(env.dist)):\n",
    "        max_options = option_utils == np.max(option_utils)\n",
    "        for opt in np.array(options)[max_options]:\n",
    "            for inst in option_insts[tuple(opt)]:\n",
    "                if np.array_equal(click_seq[:i],inst):\n",
    "                    print(opt)\n",
    "                    dc_found = True\n",
    "                    n_eps += 1\n",
    "                    alpha *= 1/len(option_insts[tuple(opt)])/np.sum(max_options)\n",
    "                    _ = [env._step(a) for a in click_seq[:i]]\n",
    "                    click_seq = click_seq[i:]\n",
    "    if not dc_found:\n",
    "        print('dope')\n",
    "        n_not_eps += 1\n",
    "        env._step(click_seq[0])\n",
    "        beta *= 1/len(list(env.actions()))\n",
    "        click_seq = click_seq[1:]\n",
    "n_eps, n_not_eps, alpha, beta"
   ]
  },
  {
   "cell_type": "code",
   "execution_count": 81,
   "metadata": {
    "scrolled": true
   },
   "outputs": [
    {
     "name": "stdout",
     "output_type": "stream",
     "text": [
      "[ 0.396  0.263  0.2    0.396  0.263  0.2    0.396  0.263  0.2    0.396  0.263  0.2     -inf  0.   ]\n",
      "(2, 1)\n",
      "[7]\n",
      "[7, 6, 8, 12]\n",
      "0.249975\n",
      "(-1, 1)\n",
      "[7]\n",
      "[7, 6, 8, 12]\n",
      "7.692307692307692e-06\n",
      "(2, 2)\n",
      "[7, 6]\n",
      "[7, 6, 8, 12]\n",
      "(2, 3)\n",
      "[7, 6, 8]\n",
      "[7, 6, 8, 12]\n",
      "1.92288461538e-06\n"
     ]
    }
   ],
   "source": []
  },
  {
   "cell_type": "code",
   "execution_count": 45,
   "metadata": {},
   "outputs": [
    {
     "data": {
      "text/plain": [
       "{'actions': [7, 6, 8, 12],\n",
       " 'ground_truth': array([  6.754,  -1.965,   4.654,   4.264,  12.831,   1.316,  11.135,   7.891,   5.323,   9.386,   6.07 ,   6.226]),\n",
       " 'observations': 3,\n",
       " 'options': [(2, 1), (2, 1), (2, 1), (-99, 1)],\n",
       " 'util': 8.1046597102523705}"
      ]
     },
     "execution_count": 45,
     "metadata": {},
     "output_type": "execute_result"
    }
   ],
   "source": [
    "# env = train_envs[21]\n",
    "env.reset()\n",
    "trace = run_dc(env)\n",
    "trace"
   ]
  },
  {
   "cell_type": "code",
   "execution_count": 46,
   "metadata": {},
   "outputs": [
    {
     "ename": "NameError",
     "evalue": "name 'wrap_po' is not defined",
     "output_type": "error",
     "traceback": [
      "\u001b[0;31m---------------------------------------------------------------------------\u001b[0m",
      "\u001b[0;31mNameError\u001b[0m                                 Traceback (most recent call last)",
      "\u001b[0;32m<ipython-input-46-782e5af88eab>\u001b[0m in \u001b[0;36m<module>\u001b[0;34m()\u001b[0m\n\u001b[0;32m----> 1\u001b[0;31m \u001b[0ma\u001b[0m\u001b[0;34m,\u001b[0m\u001b[0mb\u001b[0m\u001b[0;34m,\u001b[0m\u001b[0mc\u001b[0m \u001b[0;34m=\u001b[0m \u001b[0mwrap_po\u001b[0m\u001b[0;34m(\u001b[0m\u001b[0menv\u001b[0m\u001b[0;34m,\u001b[0m\u001b[0mtrace\u001b[0m\u001b[0;34m[\u001b[0m\u001b[0;34m'actions'\u001b[0m\u001b[0;34m]\u001b[0m\u001b[0;34m,\u001b[0m\u001b[0mt\u001b[0m\u001b[0;34m=\u001b[0m\u001b[0;36m0.1\u001b[0m\u001b[0;34m)\u001b[0m\u001b[0;34m\u001b[0m\u001b[0m\n\u001b[0m",
      "\u001b[0;31mNameError\u001b[0m: name 'wrap_po' is not defined"
     ]
    }
   ],
   "source": [
    "a,b,c = wrap_po(env,trace['actions'],t=0.1)"
   ]
  },
  {
   "cell_type": "code",
   "execution_count": 250,
   "metadata": {},
   "outputs": [
    {
     "data": {
      "text/plain": [
       "[([(0, 1),\n",
       "   (0, 1),\n",
       "   (0, 1),\n",
       "   (2, 1),\n",
       "   (3, 1),\n",
       "   (1, 1),\n",
       "   (1, 1),\n",
       "   (2, 1),\n",
       "   (2, 1),\n",
       "   (3, 1),\n",
       "   (3, 1),\n",
       "   (-99, 1)],\n",
       "  3.1460596600714896e-05),\n",
       " ([(0, 1),\n",
       "   (0, 1),\n",
       "   (0, 1),\n",
       "   (2, 1),\n",
       "   (3, 1),\n",
       "   (1, 1),\n",
       "   (1, 1),\n",
       "   (2, 1),\n",
       "   (2, 1),\n",
       "   (3, 2),\n",
       "   (-99, 1)],\n",
       "  3.9948549976639362e-05),\n",
       " ([(0, 1),\n",
       "   (0, 1),\n",
       "   (0, 1),\n",
       "   (2, 1),\n",
       "   (3, 1),\n",
       "   (1, 1),\n",
       "   (1, 1),\n",
       "   (2, 2),\n",
       "   (3, 1),\n",
       "   (3, 1),\n",
       "   (-99, 1)],\n",
       "  2.6778539354701502e-05),\n",
       " ([(0, 1),\n",
       "   (0, 1),\n",
       "   (0, 1),\n",
       "   (2, 1),\n",
       "   (3, 1),\n",
       "   (1, 1),\n",
       "   (1, 1),\n",
       "   (2, 2),\n",
       "   (3, 2),\n",
       "   (-99, 1)],\n",
       "  3.4003290887636501e-05),\n",
       " ([(0, 1),\n",
       "   (0, 1),\n",
       "   (0, 1),\n",
       "   (2, 1),\n",
       "   (3, 1),\n",
       "   (1, 2),\n",
       "   (2, 1),\n",
       "   (2, 1),\n",
       "   (3, 1),\n",
       "   (3, 1),\n",
       "   (-99, 1)],\n",
       "  1.5817839421167515e-05),\n",
       " ([(0, 1),\n",
       "   (0, 1),\n",
       "   (0, 1),\n",
       "   (2, 1),\n",
       "   (3, 1),\n",
       "   (1, 2),\n",
       "   (2, 1),\n",
       "   (2, 1),\n",
       "   (3, 2),\n",
       "   (-99, 1)],\n",
       "  2.0085434381896228e-05),\n",
       " ([(0, 1),\n",
       "   (0, 1),\n",
       "   (0, 1),\n",
       "   (2, 1),\n",
       "   (3, 1),\n",
       "   (1, 2),\n",
       "   (2, 2),\n",
       "   (3, 1),\n",
       "   (3, 1),\n",
       "   (-99, 1)],\n",
       "  1.3463782674625373e-05),\n",
       " ([(0, 1), (0, 1), (0, 1), (2, 1), (3, 1), (1, 2), (2, 2), (3, 2), (-99, 1)],\n",
       "  1.709626177399512e-05),\n",
       " ([(0, 1),\n",
       "   (0, 2),\n",
       "   (2, 1),\n",
       "   (3, 1),\n",
       "   (1, 1),\n",
       "   (1, 1),\n",
       "   (2, 1),\n",
       "   (2, 1),\n",
       "   (3, 1),\n",
       "   (3, 1),\n",
       "   (-99, 1)],\n",
       "  2.3327917923315187e-05),\n",
       " ([(0, 1),\n",
       "   (0, 2),\n",
       "   (2, 1),\n",
       "   (3, 1),\n",
       "   (1, 1),\n",
       "   (1, 1),\n",
       "   (2, 1),\n",
       "   (2, 1),\n",
       "   (3, 2),\n",
       "   (-99, 1)],\n",
       "  2.9621704471723889e-05),\n",
       " ([(0, 1),\n",
       "   (0, 2),\n",
       "   (2, 1),\n",
       "   (3, 1),\n",
       "   (1, 1),\n",
       "   (1, 1),\n",
       "   (2, 2),\n",
       "   (3, 1),\n",
       "   (3, 1),\n",
       "   (-99, 1)],\n",
       "  1.9856189509087287e-05),\n",
       " ([(0, 1), (0, 2), (2, 1), (3, 1), (1, 1), (1, 1), (2, 2), (3, 2), (-99, 1)],\n",
       "  2.5213316486546562e-05),\n",
       " ([(0, 1),\n",
       "   (0, 2),\n",
       "   (2, 1),\n",
       "   (3, 1),\n",
       "   (1, 2),\n",
       "   (2, 1),\n",
       "   (2, 1),\n",
       "   (3, 1),\n",
       "   (3, 1),\n",
       "   (-99, 1)],\n",
       "  1.1728870384256803e-05),\n",
       " ([(0, 1), (0, 2), (2, 1), (3, 1), (1, 2), (2, 1), (2, 1), (3, 2), (-99, 1)],\n",
       "  1.4893276521792375e-05),\n",
       " ([(0, 1), (0, 2), (2, 1), (3, 1), (1, 2), (2, 2), (3, 1), (3, 1), (-99, 1)],\n",
       "  9.9833458709386543e-06),\n",
       " ([(0, 1), (0, 2), (2, 1), (3, 1), (1, 2), (2, 2), (3, 2), (-99, 1)],\n",
       "  1.2676815907877807e-05),\n",
       " ([(0, 2),\n",
       "   (0, 1),\n",
       "   (2, 1),\n",
       "   (3, 1),\n",
       "   (1, 1),\n",
       "   (1, 1),\n",
       "   (2, 1),\n",
       "   (2, 1),\n",
       "   (3, 1),\n",
       "   (3, 1),\n",
       "   (-99, 1)],\n",
       "  1.3586924277995869e-05),\n",
       " ([(0, 2),\n",
       "   (0, 1),\n",
       "   (2, 1),\n",
       "   (3, 1),\n",
       "   (1, 1),\n",
       "   (1, 1),\n",
       "   (2, 1),\n",
       "   (2, 1),\n",
       "   (3, 2),\n",
       "   (-99, 1)],\n",
       "  1.7252626529529917e-05),\n",
       " ([(0, 2),\n",
       "   (0, 1),\n",
       "   (2, 1),\n",
       "   (3, 1),\n",
       "   (1, 1),\n",
       "   (1, 1),\n",
       "   (2, 2),\n",
       "   (3, 1),\n",
       "   (3, 1),\n",
       "   (-99, 1)],\n",
       "  1.1564878794428012e-05),\n",
       " ([(0, 2), (0, 1), (2, 1), (3, 1), (1, 1), (1, 1), (2, 2), (3, 2), (-99, 1)],\n",
       "  1.468504060353661e-05),\n",
       " ([(0, 2),\n",
       "   (0, 1),\n",
       "   (2, 1),\n",
       "   (3, 1),\n",
       "   (1, 2),\n",
       "   (2, 1),\n",
       "   (2, 1),\n",
       "   (3, 1),\n",
       "   (3, 1),\n",
       "   (-99, 1)],\n",
       "  6.8312686241944117e-06),\n",
       " ([(0, 2), (0, 1), (2, 1), (3, 1), (1, 2), (2, 1), (2, 1), (3, 2), (-99, 1)],\n",
       "  8.6743198007655559e-06),\n",
       " ([(0, 2), (0, 1), (2, 1), (3, 1), (1, 2), (2, 2), (3, 1), (3, 1), (-99, 1)],\n",
       "  5.8146194116156968e-06),\n",
       " ([(0, 2), (0, 1), (2, 1), (3, 1), (1, 2), (2, 2), (3, 2), (-99, 1)],\n",
       "  7.3833823658254673e-06),\n",
       " ([(0, 3),\n",
       "   (2, 1),\n",
       "   (3, 1),\n",
       "   (1, 1),\n",
       "   (1, 1),\n",
       "   (2, 1),\n",
       "   (2, 1),\n",
       "   (3, 1),\n",
       "   (3, 1),\n",
       "   (-99, 1)],\n",
       "  1.8804492648929248e-05),\n",
       " ([(0, 3), (2, 1), (3, 1), (1, 1), (1, 1), (2, 1), (2, 1), (3, 2), (-99, 1)],\n",
       "  2.38778756774761e-05),\n",
       " ([(0, 3), (2, 1), (3, 1), (1, 1), (1, 1), (2, 2), (3, 1), (3, 1), (-99, 1)],\n",
       "  1.6005953505443198e-05),\n",
       " ([(0, 3), (2, 1), (3, 1), (1, 1), (1, 1), (2, 2), (3, 2), (-99, 1)],\n",
       "  2.032430095497406e-05),\n",
       " ([(0, 3), (2, 1), (3, 1), (1, 2), (2, 1), (2, 1), (3, 1), (3, 1), (-99, 1)],\n",
       "  9.4545710271282257e-06),\n",
       " ([(0, 3), (2, 1), (3, 1), (1, 2), (2, 1), (2, 1), (3, 2), (-99, 1)],\n",
       "  1.2005379553938141e-05),\n",
       " ([(0, 3), (2, 1), (3, 1), (1, 2), (2, 2), (3, 1), (3, 1), (-99, 1)],\n",
       "  8.0475143413529754e-06),\n",
       " ([(0, 3), (2, 1), (3, 1), (1, 2), (2, 2), (3, 2), (-99, 1)],\n",
       "  1.0218704143899038e-05)]"
      ]
     },
     "execution_count": 250,
     "metadata": {},
     "output_type": "execute_result"
    }
   ],
   "source": [
    "list(zip(list(np.array(b)[np.array(c)!=0]),np.array(c)[np.array(c)!=0]))"
   ]
  },
  {
   "cell_type": "code",
   "execution_count": 251,
   "metadata": {},
   "outputs": [
    {
     "data": {
      "text/plain": [
       "[(0, 1),\n",
       " (0, 1),\n",
       " (0, 1),\n",
       " (2, 1),\n",
       " (3, 1),\n",
       " (1, 1),\n",
       " (1, 1),\n",
       " (2, 1),\n",
       " (2, 1),\n",
       " (3, 2),\n",
       " (-99, 1)]"
      ]
     },
     "execution_count": 251,
     "metadata": {},
     "output_type": "execute_result"
    }
   ],
   "source": [
    "b[np.argmax(np.array(c))]"
   ]
  }
 ],
 "metadata": {
  "kernelspec": {
   "display_name": "Python 3",
   "language": "python",
   "name": "python3"
  },
  "language_info": {
   "codemirror_mode": {
    "name": "ipython",
    "version": 3
   },
   "file_extension": ".py",
   "mimetype": "text/x-python",
   "name": "python",
   "nbconvert_exporter": "python",
   "pygments_lexer": "ipython3",
   "version": "3.6.2"
  }
 },
 "nbformat": 4,
 "nbformat_minor": 2
}
