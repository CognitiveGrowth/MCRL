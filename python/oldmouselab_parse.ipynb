{
 "cells": [
  {
   "cell_type": "code",
   "execution_count": 1,
   "metadata": {
    "collapsed": true
   },
   "outputs": [],
   "source": [
    "%matplotlib inline\n",
    "import matplotlib.pyplot as plt\n",
    "import numpy as np\n",
    "import pandas as pd\n",
    "import seaborn as sns\n",
    "import scipy.stats\n",
    "from scipy.stats import norm\n",
    "import scipy.integrate as integrate\n",
    "\n",
    "import gym\n",
    "from gym import spaces\n",
    "\n",
    "import random\n",
    "import itertools as it\n",
    "from itertools import product\n",
    "from joblib import Parallel, delayed\n",
    "from toolz import memoize\n",
    "from contracts import contract\n",
    "from collections import namedtuple, defaultdict, deque, Counter\n",
    "\n",
    "import warnings\n",
    "warnings.filterwarnings(\"ignore\", \n",
    "                        message=\"The objective has been evaluated at this point before.\")\n",
    "\n",
    "from agents import Agent\n",
    "from oldmouselab import OldMouselabEnv\n",
    "from policies import FixedPlanPolicy, LiederPolicy\n",
    "from evaluation import *\n",
    "from omdc_util import *\n",
    "from distributions import cmax, smax, sample, expectation, Normal, PointMass, SampleDist, Normal, Categorical"
   ]
  },
  {
   "cell_type": "code",
   "execution_count": 2,
   "metadata": {
    "collapsed": true
   },
   "outputs": [],
   "source": [
    "def hd_dist(attributes):\n",
    "    dist = [1,]*attributes\n",
    "    dist[0] = np.random.randint(85,97)\n",
    "    for i in range(1,attributes-1):\n",
    "        dist[i] += np.random.randint(0,100-np.sum(dist))\n",
    "    dist[-1] += 100-np.sum(dist)\n",
    "    dist = np.around(np.array(dist)/100,decimals=2)\n",
    "    np.random.shuffle(dist)\n",
    "    return dist\n",
    "\n",
    "def ld_dist(attributes):\n",
    "    constrain = True\n",
    "    while constrain:\n",
    "        dist = [np.random.randint(10,50) for _ in range(attributes)]\n",
    "        dist = np.around(np.array(dist)/sum(dist),decimals=2)\n",
    "        constrain = np.min(dist) <= 0.10 or np.max(dist) >= 0.40\n",
    "    np.random.shuffle(dist)\n",
    "    return dist"
   ]
  },
  {
   "cell_type": "code",
   "execution_count": 3,
   "metadata": {
    "collapsed": true
   },
   "outputs": [],
   "source": [
    "gambles = 7\n",
    "attributes = 4\n",
    "high_stakes = Normal((9.99+0.01)/2, 0.3*(9.99-0.01))\n",
    "low_stakes = Normal((0.25+0.01)/2, 0.3*(0.25-0.01))\n",
    "reward = high_stakes\n",
    "cost=.03\n",
    "\n",
    "#set to 20 for sanity check\n",
    "n_train = 20\n",
    "n_test = 20\n",
    "\n",
    "train_envs_hd = [OldMouselabEnv(gambles, hd_dist(attributes), reward, cost) for _ in range(n_train)]\n",
    "train_envs_ld = [OldMouselabEnv(gambles, ld_dist(attributes), reward, cost) for _ in range(n_train)]\n",
    "train_envs = train_envs_hd+train_envs_ld \n",
    "\n",
    "test_envs_hd =  [OldMouselabEnv(gambles, hd_dist(attributes), reward, cost) for _ in range(n_train)]\n",
    "test_envs_ld = [OldMouselabEnv(gambles, ld_dist(attributes), reward, cost) for _ in range(n_train)]\n",
    "test_envs = test_envs_hd+test_envs_ld \n",
    "\n",
    "term_action = train_envs[0].term_action"
   ]
  },
  {
   "cell_type": "code",
   "execution_count": 4,
   "metadata": {
    "collapsed": true
   },
   "outputs": [],
   "source": [
    "bo_pol_theta = np.load('data/om_bmps_pols/best/hs_hd_1cents.npy')\n",
    "bo_pol = LiederPolicy(list(bo_pol_theta))"
   ]
  },
  {
   "cell_type": "code",
   "execution_count": 5,
   "metadata": {
    "collapsed": true
   },
   "outputs": [],
   "source": [
    "agent = Agent()\n",
    "def run_env(policy, env):\n",
    "    agent.register(env)\n",
    "    agent.register(policy)\n",
    "    tr = agent.run_episode()\n",
    "#     print(tr)\n",
    "    return {'util': tr['return'], 'actions': tr['actions'],\n",
    "            'observations': len(tr['actions']) - 1, 'ground_truth': env.ground_truth}\n",
    "\n",
    "def action_coordinate(env, action):\n",
    "    return (action//env.outcomes,action%env.outcomes)\n",
    "\n",
    "def p_grid(env, actions):\n",
    "    grid = np.zeros((env.gambles+1,env.outcomes))\n",
    "    grid[0,:] = env.dist\n",
    "    for i in range(len(actions[:-1])):\n",
    "        gamble, outcome = action_coordinate(env,actions[i]) \n",
    "        grid[gamble+1, outcome] = i+1\n",
    "    return grid"
   ]
  },
  {
   "cell_type": "markdown",
   "metadata": {},
   "source": [
    "# BMPS Run"
   ]
  },
  {
   "cell_type": "code",
   "execution_count": 6,
   "metadata": {},
   "outputs": [
    {
     "data": {
      "text/plain": [
       "{'actions': [0, 3, 4, 7, 8, 12, 15, 16, 28],\n",
       " 'ground_truth': array([  7.679,   9.24 ,  11.971,   3.385,   5.044,   4.185,   2.728,   2.096,   1.258,   9.381,   8.831,   2.364,   5.803,   5.457,   6.962,  10.345,   3.931,   2.917,   9.617,   7.885,   3.424,\n",
       "          2.337,   7.598,   4.49 ,   3.41 ,   4.595,   1.553,  -0.706]),\n",
       " 'observations': 8,\n",
       " 'util': 6.9119645517827539}"
      ]
     },
     "execution_count": 6,
     "metadata": {},
     "output_type": "execute_result"
    }
   ],
   "source": [
    "train_envs[21].reset()\n",
    "trace = run_env(bo_pol, train_envs[21])\n",
    "trace"
   ]
  },
  {
   "cell_type": "code",
   "execution_count": 7,
   "metadata": {},
   "outputs": [
    {
     "data": {
      "text/plain": [
       "array([ 0.35,  0.16,  0.14,  0.35])"
      ]
     },
     "execution_count": 7,
     "metadata": {},
     "output_type": "execute_result"
    }
   ],
   "source": [
    "train_envs[21].dist"
   ]
  },
  {
   "cell_type": "code",
   "execution_count": 8,
   "metadata": {},
   "outputs": [
    {
     "data": {
      "text/plain": [
       "array([[7.6787260015816541, Norm(5.00, 2.99), Norm(5.00, 2.99), 3.3850064044943808],\n",
       "       [5.0435050343933483, Norm(5.00, 2.99), Norm(5.00, 2.99), 2.0964847338403145],\n",
       "       [1.2582014318099271, Norm(5.00, 2.99), Norm(5.00, 2.99), Norm(5.00, 2.99)],\n",
       "       [5.8032041929612586, Norm(5.00, 2.99), Norm(5.00, 2.99), 10.345265954989468],\n",
       "       [3.9312095602020438, Norm(5.00, 2.99), Norm(5.00, 2.99), Norm(5.00, 2.99)],\n",
       "       [Norm(5.00, 2.99), Norm(5.00, 2.99), Norm(5.00, 2.99), Norm(5.00, 2.99)],\n",
       "       [Norm(5.00, 2.99), Norm(5.00, 2.99), Norm(5.00, 2.99), Norm(5.00, 2.99)]], dtype=object)"
      ]
     },
     "execution_count": 8,
     "metadata": {},
     "output_type": "execute_result"
    }
   ],
   "source": [
    "train_envs[21].grid()"
   ]
  },
  {
   "cell_type": "code",
   "execution_count": 9,
   "metadata": {
    "scrolled": true
   },
   "outputs": [
    {
     "data": {
      "text/plain": [
       "array([[ 0.35,  0.16,  0.14,  0.35],\n",
       "       [ 1.  ,  0.  ,  0.  ,  2.  ],\n",
       "       [ 3.  ,  0.  ,  0.  ,  4.  ],\n",
       "       [ 5.  ,  0.  ,  0.  ,  0.  ],\n",
       "       [ 6.  ,  0.  ,  0.  ,  7.  ],\n",
       "       [ 8.  ,  0.  ,  0.  ,  0.  ],\n",
       "       [ 0.  ,  0.  ,  0.  ,  0.  ],\n",
       "       [ 0.  ,  0.  ,  0.  ,  0.  ]])"
      ]
     },
     "execution_count": 9,
     "metadata": {},
     "output_type": "execute_result"
    }
   ],
   "source": [
    "p_grid(train_envs[21],trace['actions'])"
   ]
  },
  {
   "cell_type": "markdown",
   "metadata": {},
   "source": [
    "# DC Run"
   ]
  },
  {
   "cell_type": "code",
   "execution_count": 10,
   "metadata": {},
   "outputs": [
    {
     "data": {
      "text/plain": [
       "{'actions': [0, 3, 23, 16, 15, 12, 13, 14, 28],\n",
       " 'ground_truth': array([  7.679,   9.24 ,  11.971,   3.385,   5.044,   4.185,   2.728,   2.096,   1.258,   9.381,   8.831,   2.364,   5.803,   5.457,   6.962,  10.345,   3.931,   2.917,   9.617,   7.885,   3.424,\n",
       "          2.337,   7.598,   4.49 ,   3.41 ,   4.595,   1.553,  -0.706]),\n",
       " 'observations': 8,\n",
       " 'options': [(0, 1),\n",
       "  (0, 1),\n",
       "  (5, 1),\n",
       "  (4, 1),\n",
       "  (3, 1),\n",
       "  (3, 1),\n",
       "  (3, 1),\n",
       "  (3, 1),\n",
       "  (-99, 1)],\n",
       " 'util': 7.2597698719604011}"
      ]
     },
     "execution_count": 10,
     "metadata": {},
     "output_type": "execute_result"
    }
   ],
   "source": [
    "train_envs[21].reset()\n",
    "trace = run_dc(train_envs[21])\n",
    "trace"
   ]
  },
  {
   "cell_type": "code",
   "execution_count": 11,
   "metadata": {},
   "outputs": [
    {
     "data": {
      "text/plain": [
       "array([ 0.35,  0.16,  0.14,  0.35])"
      ]
     },
     "execution_count": 11,
     "metadata": {},
     "output_type": "execute_result"
    }
   ],
   "source": [
    "train_envs[21].dist"
   ]
  },
  {
   "cell_type": "code",
   "execution_count": 12,
   "metadata": {},
   "outputs": [
    {
     "data": {
      "text/plain": [
       "array([[7.6787260015816541, Norm(5.00, 2.99), Norm(5.00, 2.99), 3.3850064044943808],\n",
       "       [Norm(5.00, 2.99), Norm(5.00, 2.99), Norm(5.00, 2.99), Norm(5.00, 2.99)],\n",
       "       [Norm(5.00, 2.99), Norm(5.00, 2.99), Norm(5.00, 2.99), Norm(5.00, 2.99)],\n",
       "       [5.8032041929612586, 5.4572432343546655, 6.9617600191492883, 10.345265954989468],\n",
       "       [3.9312095602020438, Norm(5.00, 2.99), Norm(5.00, 2.99), Norm(5.00, 2.99)],\n",
       "       [Norm(5.00, 2.99), Norm(5.00, 2.99), Norm(5.00, 2.99), 4.4898446758034884],\n",
       "       [Norm(5.00, 2.99), Norm(5.00, 2.99), Norm(5.00, 2.99), Norm(5.00, 2.99)]], dtype=object)"
      ]
     },
     "execution_count": 12,
     "metadata": {},
     "output_type": "execute_result"
    }
   ],
   "source": [
    "train_envs[21].grid()"
   ]
  },
  {
   "cell_type": "code",
   "execution_count": 13,
   "metadata": {},
   "outputs": [
    {
     "data": {
      "text/plain": [
       "array([[ 0.35,  0.16,  0.14,  0.35],\n",
       "       [ 1.  ,  0.  ,  0.  ,  2.  ],\n",
       "       [ 0.  ,  0.  ,  0.  ,  0.  ],\n",
       "       [ 0.  ,  0.  ,  0.  ,  0.  ],\n",
       "       [ 6.  ,  7.  ,  8.  ,  5.  ],\n",
       "       [ 4.  ,  0.  ,  0.  ,  0.  ],\n",
       "       [ 0.  ,  0.  ,  0.  ,  3.  ],\n",
       "       [ 0.  ,  0.  ,  0.  ,  0.  ]])"
      ]
     },
     "execution_count": 13,
     "metadata": {},
     "output_type": "execute_result"
    }
   ],
   "source": [
    "p_grid(train_envs[21],trace['actions'])"
   ]
  },
  {
   "cell_type": "markdown",
   "metadata": {},
   "source": [
    "# Parsing"
   ]
  },
  {
   "cell_type": "code",
   "execution_count": 264,
   "metadata": {},
   "outputs": [],
   "source": [
    "def make_env(gambles=7, cost=.01, ground_truth=False, dist=hd_dist(3), stakes = 'high'):\n",
    "    reward = Normal((9.99+0.01)/2, 0.3*(9.99-0.01)) if stakes == 'high' else Normal((0.25+0.01)/2, 0.3*(0.25-0.01))\n",
    "    return OldMouselabEnv(gambles, dist, reward, cost, ground_truth= ground_truth) "
   ]
  },
  {
   "cell_type": "code",
   "execution_count": 265,
   "metadata": {
    "collapsed": true
   },
   "outputs": [],
   "source": [
    "env = train_envs[21]"
   ]
  },
  {
   "cell_type": "code",
   "execution_count": 266,
   "metadata": {
    "collapsed": true,
    "scrolled": true
   },
   "outputs": [],
   "source": [
    "env2 = make_env(ground_truth=env.ground_truth,dist=env.dist)"
   ]
  },
  {
   "cell_type": "code",
   "execution_count": 267,
   "metadata": {},
   "outputs": [
    {
     "data": {
      "text/plain": [
       "array([  7.679,   9.24 ,  11.971,   3.385,   5.044,   4.185,   2.728,   2.096,   1.258,   9.381,   8.831,   2.364,   5.803,   5.457,   6.962,  10.345,   3.931,   2.917,   9.617,   7.885,   3.424,\n",
       "         2.337,   7.598,   4.49 ,   3.41 ,   4.595,   1.553,  -0.706])"
      ]
     },
     "execution_count": 267,
     "metadata": {},
     "output_type": "execute_result"
    }
   ],
   "source": [
    "env.ground_truth"
   ]
  },
  {
   "cell_type": "code",
   "execution_count": 268,
   "metadata": {},
   "outputs": [
    {
     "data": {
      "text/plain": [
       "array([  7.679,   9.24 ,  11.971,   3.385,   5.044,   4.185,   2.728,   2.096,   1.258,   9.381,   8.831,   2.364,   5.803,   5.457,   6.962,  10.345,   3.931,   2.917,   9.617,   7.885,   3.424,\n",
       "         2.337,   7.598,   4.49 ,   3.41 ,   4.595,   1.553,  -0.706])"
      ]
     },
     "execution_count": 268,
     "metadata": {},
     "output_type": "execute_result"
    }
   ],
   "source": [
    "env2.ground_truth"
   ]
  },
  {
   "cell_type": "code",
   "execution_count": 269,
   "metadata": {},
   "outputs": [
    {
     "data": {
      "text/plain": [
       "{'actions': [0, 3, 4, 7, 8, 12, 15, 16, 28],\n",
       " 'ground_truth': array([  7.679,   9.24 ,  11.971,   3.385,   5.044,   4.185,   2.728,   2.096,   1.258,   9.381,   8.831,   2.364,   5.803,   5.457,   6.962,  10.345,   3.931,   2.917,   9.617,   7.885,   3.424,\n",
       "          2.337,   7.598,   4.49 ,   3.41 ,   4.595,   1.553,  -0.706]),\n",
       " 'observations': 8,\n",
       " 'util': 6.9119645517827539}"
      ]
     },
     "execution_count": 269,
     "metadata": {},
     "output_type": "execute_result"
    }
   ],
   "source": [
    "trace = run_env(bo_pol, env)\n",
    "trace"
   ]
  },
  {
   "cell_type": "code",
   "execution_count": 20,
   "metadata": {},
   "outputs": [
    {
     "data": {
      "text/plain": [
       "{'actions': [0, 3, 4, 7, 8, 12, 15, 16],\n",
       " 'ground_truth': array([  7.679,   9.24 ,  11.971,   3.385,   5.044,   4.185,   2.728,   2.096,   1.258,   9.381,   8.831,   2.364,   5.803,   5.457,   6.962,  10.345,   3.931,   2.917,   9.617,   7.885,   3.424,\n",
       "          2.337,   7.598,   4.49 ,   3.41 ,   4.595,   1.553,  -0.706]),\n",
       " 'observations': 7,\n",
       " 'util': 7.0819645517827539}"
      ]
     },
     "execution_count": 20,
     "metadata": {},
     "output_type": "execute_result"
    }
   ],
   "source": [
    "trace = run_env(bo_pol, env2)\n",
    "trace"
   ]
  },
  {
   "cell_type": "code",
   "execution_count": 452,
   "metadata": {
    "collapsed": true
   },
   "outputs": [],
   "source": [
    "def wrap_po(env,click_sequence,p_rand=0):\n",
    "    memo = dict()\n",
    "    def parse_options_clean(init_state,dist,cost,stakes,pre_acts,click_sequence):\n",
    "        if click_sequence == []: \n",
    "            return True, [[]], [1]\n",
    "        \n",
    "        if (tuple(pre_acts),tuple(click_sequence)) in memo:       \n",
    "            return memo[(tuple(pre_acts),tuple(click_sequence))]   \n",
    "        \n",
    "        envc = make_env(gambles=int(len(init_state)/len(dist)), ground_truth=init_state, cost=cost, dist=dist, stakes=stakes)\n",
    "        envc.reset()\n",
    "        for a in pre_acts:\n",
    "            envc._step(a)\n",
    "\n",
    "        option_seqs = []\n",
    "        likelihoods = []\n",
    "        done = False\n",
    "        options, option_insts, option_utils, n_available_clicks,_,_,_ = get_all_options(envc)\n",
    "        \n",
    "        for i,j in product(range(1,min(len(dist),len(click_sequence))+1),range(len(options))):\n",
    "            option = options[j]\n",
    "            n_insts = len(option_insts[option])\n",
    "            alpha = 1.0 if option == (-1,1) else 0.0\n",
    "            beta = 1.0/np.sum(option_utils == np.max(option_utils)) if option_utils[j] == np.max(option_utils) else 0.0\n",
    "            for inst in option_insts[option]:\n",
    "                if np.array_equal(click_sequence[:i],inst): \n",
    "                    will_done, remaining, rem_likelihoods = (parse_options_clean(init_state,dist,cost,stakes,pre_acts+click_sequence[:i],click_sequence[i:]))\n",
    "                    done = done or will_done  \n",
    "                    if done:\n",
    "                        for k in range(len(remaining)):\n",
    "                            option_seqs.append([option]+remaining[k]) \n",
    "                            l_opt_seq = (1-p_rand)*beta + p_rand*alpha\n",
    "                            likelihoods.append(l_opt_seq*rem_likelihoods[k]/n_insts)               \n",
    "        memo[(tuple(pre_acts),tuple(click_sequence))] = done, option_seqs, likelihoods\n",
    "        return done, option_seqs, likelihoods\n",
    "    stakes = 'high' if env.reward.mu == 5.0 else 'low'\n",
    "    if click_sequence[-1] != env.term_action:\n",
    "        click_sequence = click_sequence+[env.term_action]\n",
    "    return parse_options_clean(env.ground_truth,env.dist,env.cost,stakes,[],click_sequence)"
   ]
  },
  {
   "cell_type": "code",
   "execution_count": 453,
   "metadata": {
    "collapsed": true
   },
   "outputs": [],
   "source": [
    "env = OldMouselabEnv(4, ld_dist(3), reward, cost)"
   ]
  },
  {
   "cell_type": "code",
   "execution_count": 454,
   "metadata": {},
   "outputs": [
    {
     "data": {
      "text/plain": [
       "[4, 5, 1, 10, 11, 7, 8, 6, 3, 9, 12]"
      ]
     },
     "execution_count": 454,
     "metadata": {},
     "output_type": "execute_result"
    }
   ],
   "source": [
    "env.reset()\n",
    "trace = run_dc(env)\n",
    "click_seq = trace['actions']\n",
    "click_seq"
   ]
  },
  {
   "cell_type": "code",
   "execution_count": 455,
   "metadata": {},
   "outputs": [
    {
     "data": {
      "text/plain": [
       "[(1, 1),\n",
       " (1, 1),\n",
       " (0, 1),\n",
       " (3, 1),\n",
       " (3, 1),\n",
       " (2, 1),\n",
       " (2, 1),\n",
       " (2, 1),\n",
       " (1, 1),\n",
       " (3, 1),\n",
       " (-99, 1)]"
      ]
     },
     "execution_count": 455,
     "metadata": {},
     "output_type": "execute_result"
    }
   ],
   "source": [
    "trace['options']"
   ]
  },
  {
   "cell_type": "code",
   "execution_count": 456,
   "metadata": {
    "scrolled": true
   },
   "outputs": [
    {
     "data": {
      "text/plain": [
       "array([-0.008,  0.001,  0.002, -0.008,  0.001,  0.002, -0.008,  0.001,  0.002,   -inf,  0.   ])"
      ]
     },
     "execution_count": 456,
     "metadata": {},
     "output_type": "execute_result"
    }
   ],
   "source": [
    "option_utils"
   ]
  },
  {
   "cell_type": "code",
   "execution_count": 457,
   "metadata": {},
   "outputs": [],
   "source": [
    "a,b,c = wrap_po(env,click_seq,p_rand=0)"
   ]
  },
  {
   "cell_type": "code",
   "execution_count": 458,
   "metadata": {},
   "outputs": [
    {
     "data": {
      "text/plain": [
       "0.041666666666666664"
      ]
     },
     "execution_count": 458,
     "metadata": {},
     "output_type": "execute_result"
    }
   ],
   "source": [
    "np.max(c)"
   ]
  },
  {
   "cell_type": "code",
   "execution_count": 459,
   "metadata": {
    "scrolled": true
   },
   "outputs": [
    {
     "data": {
      "text/plain": [
       "[([(1, 1),\n",
       "   (1, 1),\n",
       "   (0, 1),\n",
       "   (3, 1),\n",
       "   (3, 1),\n",
       "   (2, 1),\n",
       "   (2, 1),\n",
       "   (2, 1),\n",
       "   (1, 1),\n",
       "   (3, 1),\n",
       "   (-99, 1)],\n",
       "  0.041666666666666664)]"
      ]
     },
     "execution_count": 459,
     "metadata": {},
     "output_type": "execute_result"
    }
   ],
   "source": [
    "list(zip(list(np.array(b)[np.array(c)!=0]),np.array(c)[np.array(c)!=0]))"
   ]
  },
  {
   "cell_type": "code",
   "execution_count": 460,
   "metadata": {
    "collapsed": true
   },
   "outputs": [],
   "source": [
    "def dc_log_likelihood(env, trial, p_error):\n",
    "    done, option_seqs, likelihoods = wrap_po(env,trial,p_rand=p_error)\n",
    "    return np.log(np.sum(likelihoods))"
   ]
  },
  {
   "cell_type": "code",
   "execution_count": 461,
   "metadata": {
    "collapsed": true
   },
   "outputs": [],
   "source": [
    "def wrap_sum_ll(p, p_error):\n",
    "    data = participants[p]\n",
    "    return sum(dc_log_likelihood(env, trial, p_error)\n",
    "                    for env,trial in data)"
   ]
  },
  {
   "cell_type": "markdown",
   "metadata": {},
   "source": [
    "# Apply to Data"
   ]
  },
  {
   "cell_type": "code",
   "execution_count": 407,
   "metadata": {
    "collapsed": true
   },
   "outputs": [],
   "source": [
    "import json\n",
    "df = pd.read_csv('../risky_choice/data/03242018/trials.csv', index_col=0)\n",
    "for col in ['outcome_probs', 'ground_truth', 'clicks']:\n",
    "    df[col] = df[col].apply(json.loads)"
   ]
  },
  {
   "cell_type": "code",
   "execution_count": 408,
   "metadata": {},
   "outputs": [
    {
     "data": {
      "text/html": [
       "<div>\n",
       "<style>\n",
       "    .dataframe thead tr:only-child th {\n",
       "        text-align: right;\n",
       "    }\n",
       "\n",
       "    .dataframe thead th {\n",
       "        text-align: left;\n",
       "    }\n",
       "\n",
       "    .dataframe tbody tr th {\n",
       "        vertical-align: top;\n",
       "    }\n",
       "</style>\n",
       "<table border=\"1\" class=\"dataframe\">\n",
       "  <thead>\n",
       "    <tr style=\"text-align: right;\">\n",
       "      <th></th>\n",
       "      <th>clicks</th>\n",
       "      <th>decision</th>\n",
       "      <th>ground_truth</th>\n",
       "      <th>outcome_probs</th>\n",
       "      <th>reward_mu</th>\n",
       "      <th>reward_sigma</th>\n",
       "      <th>trial_index</th>\n",
       "      <th>workerid</th>\n",
       "    </tr>\n",
       "  </thead>\n",
       "  <tbody>\n",
       "    <tr>\n",
       "      <th>0</th>\n",
       "      <td>[]</td>\n",
       "      <td>1</td>\n",
       "      <td>[0.16, 0.2, 0.16, 0.07, 0.1, 0.2, 0.12, 0.11, ...</td>\n",
       "      <td>[0.16, 0.19, 0.39, 0.26]</td>\n",
       "      <td>0.13</td>\n",
       "      <td>0.072</td>\n",
       "      <td>0</td>\n",
       "      <td>A2HSCKH5NKN5LP</td>\n",
       "    </tr>\n",
       "    <tr>\n",
       "      <th>1</th>\n",
       "      <td>[]</td>\n",
       "      <td>6</td>\n",
       "      <td>[0.08, 0.18, 0.14, 0.16, 0.03, 0.14, 0.01, 0.1...</td>\n",
       "      <td>[0.35, 0.27, 0.24, 0.14]</td>\n",
       "      <td>0.13</td>\n",
       "      <td>0.072</td>\n",
       "      <td>1</td>\n",
       "      <td>A2HSCKH5NKN5LP</td>\n",
       "    </tr>\n",
       "    <tr>\n",
       "      <th>2</th>\n",
       "      <td>[]</td>\n",
       "      <td>4</td>\n",
       "      <td>[0.11, 0.2, 0.17, 0.08, 0.18, 0.16, 0.12, 0.03...</td>\n",
       "      <td>[0.06, 0.05, 0.86, 0.03]</td>\n",
       "      <td>0.13</td>\n",
       "      <td>0.072</td>\n",
       "      <td>2</td>\n",
       "      <td>A2HSCKH5NKN5LP</td>\n",
       "    </tr>\n",
       "    <tr>\n",
       "      <th>3</th>\n",
       "      <td>[]</td>\n",
       "      <td>4</td>\n",
       "      <td>[0.06, 0.17, 0.19, 0.14, 0.07, 0.18, 0.15, 0.0...</td>\n",
       "      <td>[0.02, 0.9, 0.02, 0.06]</td>\n",
       "      <td>0.13</td>\n",
       "      <td>0.072</td>\n",
       "      <td>3</td>\n",
       "      <td>A2HSCKH5NKN5LP</td>\n",
       "    </tr>\n",
       "    <tr>\n",
       "      <th>4</th>\n",
       "      <td>[]</td>\n",
       "      <td>5</td>\n",
       "      <td>[0.09, 0.09, 0.11, 0.13, 0.2, 0.09, 0.24, 0.08...</td>\n",
       "      <td>[0.08, 0.9, 0.01, 0.01]</td>\n",
       "      <td>0.13</td>\n",
       "      <td>0.072</td>\n",
       "      <td>4</td>\n",
       "      <td>A2HSCKH5NKN5LP</td>\n",
       "    </tr>\n",
       "    <tr>\n",
       "      <th>5</th>\n",
       "      <td>[]</td>\n",
       "      <td>2</td>\n",
       "      <td>[0.03, 0.1, 0.02, 0.13, 0.1, 0.11, 0.16, 0.03,...</td>\n",
       "      <td>[0.01, 0.01, 0.07, 0.91]</td>\n",
       "      <td>0.13</td>\n",
       "      <td>0.072</td>\n",
       "      <td>5</td>\n",
       "      <td>A2HSCKH5NKN5LP</td>\n",
       "    </tr>\n",
       "    <tr>\n",
       "      <th>6</th>\n",
       "      <td>[]</td>\n",
       "      <td>6</td>\n",
       "      <td>[0.15, 0.08, 0.18, 0.01, 0.06, 0.2, 0.1, 0.2, ...</td>\n",
       "      <td>[0.3, 0.23, 0.25, 0.22]</td>\n",
       "      <td>0.13</td>\n",
       "      <td>0.072</td>\n",
       "      <td>6</td>\n",
       "      <td>A2HSCKH5NKN5LP</td>\n",
       "    </tr>\n",
       "    <tr>\n",
       "      <th>7</th>\n",
       "      <td>[]</td>\n",
       "      <td>5</td>\n",
       "      <td>[0.12, 0.22, 0.16, 0.13, 0.08, 0.05, 0.08, 0.1...</td>\n",
       "      <td>[0.32, 0.11, 0.33, 0.24]</td>\n",
       "      <td>0.13</td>\n",
       "      <td>0.072</td>\n",
       "      <td>7</td>\n",
       "      <td>A2HSCKH5NKN5LP</td>\n",
       "    </tr>\n",
       "    <tr>\n",
       "      <th>8</th>\n",
       "      <td>[]</td>\n",
       "      <td>5</td>\n",
       "      <td>[0.09, 0.12, 0.15, 0.16, 0.16, 0.02, 0.19, 0.0...</td>\n",
       "      <td>[0.28, 0.12, 0.37, 0.23]</td>\n",
       "      <td>0.13</td>\n",
       "      <td>0.072</td>\n",
       "      <td>8</td>\n",
       "      <td>A2HSCKH5NKN5LP</td>\n",
       "    </tr>\n",
       "    <tr>\n",
       "      <th>9</th>\n",
       "      <td>[15]</td>\n",
       "      <td>4</td>\n",
       "      <td>[0.09, 0.1, 0.09, 0.19, 0.16, 0.1, 0.05, 0.12,...</td>\n",
       "      <td>[0.04, 0.05, 0.06, 0.85]</td>\n",
       "      <td>0.13</td>\n",
       "      <td>0.072</td>\n",
       "      <td>9</td>\n",
       "      <td>A2HSCKH5NKN5LP</td>\n",
       "    </tr>\n",
       "    <tr>\n",
       "      <th>10</th>\n",
       "      <td>[5, 17, 25, 13, 9, 1, 21]</td>\n",
       "      <td>1</td>\n",
       "      <td>[1.83, 5.28, 2.85, 3.52, 5.37, 3.97, 5.21, 7.9...</td>\n",
       "      <td>[0.08, 0.85, 0.05, 0.02]</td>\n",
       "      <td>5.00</td>\n",
       "      <td>2.994</td>\n",
       "      <td>10</td>\n",
       "      <td>A2HSCKH5NKN5LP</td>\n",
       "    </tr>\n",
       "    <tr>\n",
       "      <th>11</th>\n",
       "      <td>[11]</td>\n",
       "      <td>3</td>\n",
       "      <td>[4.31, 5.58, 0.27, 3.93, 1.46, 6.19, 4.49, 3.7...</td>\n",
       "      <td>[0.25, 0.15, 0.22, 0.38]</td>\n",
       "      <td>5.00</td>\n",
       "      <td>2.994</td>\n",
       "      <td>11</td>\n",
       "      <td>A2HSCKH5NKN5LP</td>\n",
       "    </tr>\n",
       "    <tr>\n",
       "      <th>12</th>\n",
       "      <td>[]</td>\n",
       "      <td>6</td>\n",
       "      <td>[2.16, 0.22, 6.67, 1.65, 6.7, 5.48, 4.92, 4.64...</td>\n",
       "      <td>[0.28, 0.23, 0.18, 0.31]</td>\n",
       "      <td>5.00</td>\n",
       "      <td>2.994</td>\n",
       "      <td>12</td>\n",
       "      <td>A2HSCKH5NKN5LP</td>\n",
       "    </tr>\n",
       "    <tr>\n",
       "      <th>13</th>\n",
       "      <td>[3, 11, 7, 15, 19, 23, 27]</td>\n",
       "      <td>4</td>\n",
       "      <td>[5.48, 7.93, 1.86, 5.57, 3.31, 4.44, 3.22, 1.9...</td>\n",
       "      <td>[0.07, 0.03, 0.05, 0.85]</td>\n",
       "      <td>5.00</td>\n",
       "      <td>2.994</td>\n",
       "      <td>13</td>\n",
       "      <td>A2HSCKH5NKN5LP</td>\n",
       "    </tr>\n",
       "    <tr>\n",
       "      <th>14</th>\n",
       "      <td>[2, 6, 10, 14, 18, 22, 26]</td>\n",
       "      <td>6</td>\n",
       "      <td>[3.49, 1.4, 2.55, 7.76, 5.53, 8.97, 3.4, 7.01,...</td>\n",
       "      <td>[0.03, 0.03, 0.89, 0.05]</td>\n",
       "      <td>5.00</td>\n",
       "      <td>2.994</td>\n",
       "      <td>14</td>\n",
       "      <td>A2HSCKH5NKN5LP</td>\n",
       "    </tr>\n",
       "    <tr>\n",
       "      <th>15</th>\n",
       "      <td>[3, 7, 11, 15, 19, 23, 27]</td>\n",
       "      <td>5</td>\n",
       "      <td>[4.34, 1.66, 8.41, 3.47, 4.94, 2.07, 3.55, 4.6...</td>\n",
       "      <td>[0.02, 0.03, 0.05, 0.9]</td>\n",
       "      <td>5.00</td>\n",
       "      <td>2.994</td>\n",
       "      <td>15</td>\n",
       "      <td>A2HSCKH5NKN5LP</td>\n",
       "    </tr>\n",
       "    <tr>\n",
       "      <th>16</th>\n",
       "      <td>[0, 4, 8, 16, 12, 20, 24]</td>\n",
       "      <td>5</td>\n",
       "      <td>[4.81, 8.31, 6.72, 2.04, 3.93, 4.19, 3.68, 4.2...</td>\n",
       "      <td>[0.87, 0.05, 0.04, 0.04]</td>\n",
       "      <td>5.00</td>\n",
       "      <td>2.994</td>\n",
       "      <td>16</td>\n",
       "      <td>A2HSCKH5NKN5LP</td>\n",
       "    </tr>\n",
       "    <tr>\n",
       "      <th>17</th>\n",
       "      <td>[]</td>\n",
       "      <td>3</td>\n",
       "      <td>[2.96, 3.15, 8.41, 0.4, 6.55, 5.69, 3.96, 3.63...</td>\n",
       "      <td>[0.14, 0.16, 0.38, 0.32]</td>\n",
       "      <td>5.00</td>\n",
       "      <td>2.994</td>\n",
       "      <td>17</td>\n",
       "      <td>A2HSCKH5NKN5LP</td>\n",
       "    </tr>\n",
       "    <tr>\n",
       "      <th>18</th>\n",
       "      <td>[]</td>\n",
       "      <td>2</td>\n",
       "      <td>[7.58, 4.76, 8.54, 8.34, 5.58, 5.58, 4.29, 7.7...</td>\n",
       "      <td>[0.32, 0.11, 0.3, 0.27]</td>\n",
       "      <td>5.00</td>\n",
       "      <td>2.994</td>\n",
       "      <td>18</td>\n",
       "      <td>A2HSCKH5NKN5LP</td>\n",
       "    </tr>\n",
       "    <tr>\n",
       "      <th>19</th>\n",
       "      <td>[]</td>\n",
       "      <td>3</td>\n",
       "      <td>[4.76, 8.14, 8.15, 5.28, 2.58, 6.38, 6.25, 3.0...</td>\n",
       "      <td>[0.37, 0.26, 0.16, 0.21]</td>\n",
       "      <td>5.00</td>\n",
       "      <td>2.994</td>\n",
       "      <td>19</td>\n",
       "      <td>A2HSCKH5NKN5LP</td>\n",
       "    </tr>\n",
       "    <tr>\n",
       "      <th>20</th>\n",
       "      <td>[10, 18, 2]</td>\n",
       "      <td>1</td>\n",
       "      <td>[0.09, 0.08, 0.18, 0.2, 0.11, 0.18, 0.08, 0.12...</td>\n",
       "      <td>[0.1, 0.04, 0.85, 0.01]</td>\n",
       "      <td>0.13</td>\n",
       "      <td>0.072</td>\n",
       "      <td>0</td>\n",
       "      <td>A8RDXT4ZILHQT</td>\n",
       "    </tr>\n",
       "    <tr>\n",
       "      <th>21</th>\n",
       "      <td>[1, 17, 9]</td>\n",
       "      <td>3</td>\n",
       "      <td>[0.12, 0.1, 0.1, 0.06, 0.12, 0.04, 0.11, 0.18,...</td>\n",
       "      <td>[0.1, 0.85, 0.02, 0.03]</td>\n",
       "      <td>0.13</td>\n",
       "      <td>0.072</td>\n",
       "      <td>1</td>\n",
       "      <td>A8RDXT4ZILHQT</td>\n",
       "    </tr>\n",
       "    <tr>\n",
       "      <th>22</th>\n",
       "      <td>[2]</td>\n",
       "      <td>1</td>\n",
       "      <td>[0.16, 0.15, 0.22, 0.2, 0.14, 0.16, 0.12, 0.22...</td>\n",
       "      <td>[0.26, 0.14, 0.3, 0.3]</td>\n",
       "      <td>0.13</td>\n",
       "      <td>0.072</td>\n",
       "      <td>2</td>\n",
       "      <td>A8RDXT4ZILHQT</td>\n",
       "    </tr>\n",
       "    <tr>\n",
       "      <th>23</th>\n",
       "      <td>[3, 5, 15, 21]</td>\n",
       "      <td>6</td>\n",
       "      <td>[0.09, 0.08, 0.2, 0.04, 0.05, 0.1, 0.21, 0.18,...</td>\n",
       "      <td>[0.17, 0.27, 0.21, 0.35]</td>\n",
       "      <td>0.13</td>\n",
       "      <td>0.072</td>\n",
       "      <td>3</td>\n",
       "      <td>A8RDXT4ZILHQT</td>\n",
       "    </tr>\n",
       "    <tr>\n",
       "      <th>24</th>\n",
       "      <td>[3, 0, 12]</td>\n",
       "      <td>4</td>\n",
       "      <td>[0.06, 0.07, 0.1, 0.03, 0.18, 0.17, 0.05, 0.14...</td>\n",
       "      <td>[0.34, 0.12, 0.22, 0.32]</td>\n",
       "      <td>0.13</td>\n",
       "      <td>0.072</td>\n",
       "      <td>4</td>\n",
       "      <td>A8RDXT4ZILHQT</td>\n",
       "    </tr>\n",
       "    <tr>\n",
       "      <th>25</th>\n",
       "      <td>[1, 9, 17, 25, 13]</td>\n",
       "      <td>4</td>\n",
       "      <td>[0.08, 0.14, 0.17, 0.18, 0.09, 0.18, 0.16, 0.2...</td>\n",
       "      <td>[0.04, 0.85, 0.07, 0.04]</td>\n",
       "      <td>0.13</td>\n",
       "      <td>0.072</td>\n",
       "      <td>5</td>\n",
       "      <td>A8RDXT4ZILHQT</td>\n",
       "    </tr>\n",
       "    <tr>\n",
       "      <th>26</th>\n",
       "      <td>[1]</td>\n",
       "      <td>1</td>\n",
       "      <td>[0.2, 0.21, 0.05, 0.18, 0.12, 0.12, 0.16, 0.11...</td>\n",
       "      <td>[0.02, 0.85, 0.04, 0.09]</td>\n",
       "      <td>0.13</td>\n",
       "      <td>0.072</td>\n",
       "      <td>6</td>\n",
       "      <td>A8RDXT4ZILHQT</td>\n",
       "    </tr>\n",
       "    <tr>\n",
       "      <th>27</th>\n",
       "      <td>[1, 9]</td>\n",
       "      <td>3</td>\n",
       "      <td>[0.2, 0.1, 0.16, 0.17, 0.13, 0.07, 0.04, 0.02,...</td>\n",
       "      <td>[0.27, 0.39, 0.13, 0.21]</td>\n",
       "      <td>0.13</td>\n",
       "      <td>0.072</td>\n",
       "      <td>7</td>\n",
       "      <td>A8RDXT4ZILHQT</td>\n",
       "    </tr>\n",
       "    <tr>\n",
       "      <th>28</th>\n",
       "      <td>[0, 16, 8, 24]</td>\n",
       "      <td>4</td>\n",
       "      <td>[0.12, 0.11, 0.08, 0.02, 0.09, 0.11, 0.17, 0.0...</td>\n",
       "      <td>[0.36, 0.19, 0.16, 0.29]</td>\n",
       "      <td>0.13</td>\n",
       "      <td>0.072</td>\n",
       "      <td>8</td>\n",
       "      <td>A8RDXT4ZILHQT</td>\n",
       "    </tr>\n",
       "    <tr>\n",
       "      <th>29</th>\n",
       "      <td>[3, 19]</td>\n",
       "      <td>3</td>\n",
       "      <td>[0.06, 0.08, 0.12, 0.1, 0.09, 0.06, 0.19, 0.09...</td>\n",
       "      <td>[0.01, 0.08, 0.04, 0.87]</td>\n",
       "      <td>0.13</td>\n",
       "      <td>0.072</td>\n",
       "      <td>9</td>\n",
       "      <td>A8RDXT4ZILHQT</td>\n",
       "    </tr>\n",
       "    <tr>\n",
       "      <th>...</th>\n",
       "      <td>...</td>\n",
       "      <td>...</td>\n",
       "      <td>...</td>\n",
       "      <td>...</td>\n",
       "      <td>...</td>\n",
       "      <td>...</td>\n",
       "      <td>...</td>\n",
       "      <td>...</td>\n",
       "    </tr>\n",
       "    <tr>\n",
       "      <th>1970</th>\n",
       "      <td>[0, 24, 4, 20, 2, 26, 14]</td>\n",
       "      <td>1</td>\n",
       "      <td>[0.13, 0.2, 0.05, 0.2, 0.01, 0.14, 0.18, 0.22,...</td>\n",
       "      <td>[0.85, 0.02, 0.12, 0.01]</td>\n",
       "      <td>0.13</td>\n",
       "      <td>0.072</td>\n",
       "      <td>10</td>\n",
       "      <td>A3MD34XEB4H6JF</td>\n",
       "    </tr>\n",
       "    <tr>\n",
       "      <th>1971</th>\n",
       "      <td>[0, 12, 8, 11, 24]</td>\n",
       "      <td>3</td>\n",
       "      <td>[0.1, 0.1, 0.22, 0.11, 0.06, 0.22, 0.16, 0.14,...</td>\n",
       "      <td>[0.86, 0.03, 0.04, 0.07]</td>\n",
       "      <td>0.13</td>\n",
       "      <td>0.072</td>\n",
       "      <td>11</td>\n",
       "      <td>A3MD34XEB4H6JF</td>\n",
       "    </tr>\n",
       "    <tr>\n",
       "      <th>1972</th>\n",
       "      <td>[3, 27, 11, 23, 21, 22, 20]</td>\n",
       "      <td>6</td>\n",
       "      <td>[0.12, 0.15, 0.06, 0.09, 0.15, 0.11, 0.12, 0.1...</td>\n",
       "      <td>[0.21, 0.2, 0.2, 0.39]</td>\n",
       "      <td>0.13</td>\n",
       "      <td>0.072</td>\n",
       "      <td>12</td>\n",
       "      <td>A3MD34XEB4H6JF</td>\n",
       "    </tr>\n",
       "    <tr>\n",
       "      <th>1973</th>\n",
       "      <td>[3, 1, 25, 27, 2]</td>\n",
       "      <td>1</td>\n",
       "      <td>[0.14, 0.23, 0.19, 0.05, 0.19, 0.11, 0.07, 0.2...</td>\n",
       "      <td>[0.16, 0.24, 0.31, 0.29]</td>\n",
       "      <td>0.13</td>\n",
       "      <td>0.072</td>\n",
       "      <td>13</td>\n",
       "      <td>A3MD34XEB4H6JF</td>\n",
       "    </tr>\n",
       "    <tr>\n",
       "      <th>1974</th>\n",
       "      <td>[2, 6, 5, 26]</td>\n",
       "      <td>7</td>\n",
       "      <td>[0.15, 0.09, 0.1, 0.1, 0.24, 0.05, 0.1, 0.1, 0...</td>\n",
       "      <td>[0.05, 0.09, 0.85, 0.01]</td>\n",
       "      <td>0.13</td>\n",
       "      <td>0.072</td>\n",
       "      <td>14</td>\n",
       "      <td>A3MD34XEB4H6JF</td>\n",
       "    </tr>\n",
       "    <tr>\n",
       "      <th>1975</th>\n",
       "      <td>[3, 27, 1, 15]</td>\n",
       "      <td>1</td>\n",
       "      <td>[0.12, 0.05, 0.04, 0.24, 0.1, 0.11, 0.21, 0.07...</td>\n",
       "      <td>[0.05, 0.07, 0.01, 0.87]</td>\n",
       "      <td>0.13</td>\n",
       "      <td>0.072</td>\n",
       "      <td>15</td>\n",
       "      <td>A3MD34XEB4H6JF</td>\n",
       "    </tr>\n",
       "    <tr>\n",
       "      <th>1976</th>\n",
       "      <td>[2, 26, 21, 23]</td>\n",
       "      <td>6</td>\n",
       "      <td>[0.02, 0.14, 0.02, 0.22, 0.12, 0.19, 0.19, 0.1...</td>\n",
       "      <td>[0.34, 0.13, 0.37, 0.16]</td>\n",
       "      <td>0.13</td>\n",
       "      <td>0.072</td>\n",
       "      <td>16</td>\n",
       "      <td>A3MD34XEB4H6JF</td>\n",
       "    </tr>\n",
       "    <tr>\n",
       "      <th>1977</th>\n",
       "      <td>[3, 2, 6, 7, 10, 11]</td>\n",
       "      <td>1</td>\n",
       "      <td>[0.14, 0.1, 0.06, 0.16, 0.23, 0.17, 0.12, 0.04...</td>\n",
       "      <td>[0.23, 0.13, 0.27, 0.37]</td>\n",
       "      <td>0.13</td>\n",
       "      <td>0.072</td>\n",
       "      <td>17</td>\n",
       "      <td>A3MD34XEB4H6JF</td>\n",
       "    </tr>\n",
       "    <tr>\n",
       "      <th>1978</th>\n",
       "      <td>[1, 0]</td>\n",
       "      <td>1</td>\n",
       "      <td>[0.15, 0.13, 0.11, 0.12, 0.04, 0.22, 0.11, 0.0...</td>\n",
       "      <td>[0.39, 0.34, 0.16, 0.11]</td>\n",
       "      <td>0.13</td>\n",
       "      <td>0.072</td>\n",
       "      <td>18</td>\n",
       "      <td>A3MD34XEB4H6JF</td>\n",
       "    </tr>\n",
       "    <tr>\n",
       "      <th>1979</th>\n",
       "      <td>[0, 4, 24]</td>\n",
       "      <td>7</td>\n",
       "      <td>[0.15, 0.15, 0.16, 0.18, 0.14, 0.13, 0.13, 0.0...</td>\n",
       "      <td>[0.86, 0.01, 0.07, 0.06]</td>\n",
       "      <td>0.13</td>\n",
       "      <td>0.072</td>\n",
       "      <td>19</td>\n",
       "      <td>A3MD34XEB4H6JF</td>\n",
       "    </tr>\n",
       "    <tr>\n",
       "      <th>1980</th>\n",
       "      <td>[2, 1, 0, 3, 7, 6, 5, 4, 8, 9, 10, 11]</td>\n",
       "      <td>1</td>\n",
       "      <td>[4.13, 6.41, 9.42, 2.5, 3.63, 4.71, 6.8, 2.31,...</td>\n",
       "      <td>[0.22, 0.29, 0.37, 0.12]</td>\n",
       "      <td>5.00</td>\n",
       "      <td>2.994</td>\n",
       "      <td>0</td>\n",
       "      <td>A2AWBDW9V1E9KT</td>\n",
       "    </tr>\n",
       "    <tr>\n",
       "      <th>1981</th>\n",
       "      <td>[2, 6, 10, 14, 18, 22, 26, 13, 12, 15, 1, 0, 3]</td>\n",
       "      <td>4</td>\n",
       "      <td>[7.5, 5.89, 8.16, 6.98, 7.32, 5.95, 7.66, 7.4,...</td>\n",
       "      <td>[0.09, 0.02, 0.88, 0.01]</td>\n",
       "      <td>5.00</td>\n",
       "      <td>2.994</td>\n",
       "      <td>1</td>\n",
       "      <td>A2AWBDW9V1E9KT</td>\n",
       "    </tr>\n",
       "    <tr>\n",
       "      <th>1982</th>\n",
       "      <td>[3, 7, 11, 15, 19, 23, 27, 22, 21, 20, 10, 9, 8]</td>\n",
       "      <td>6</td>\n",
       "      <td>[5.56, 2.97, 2.83, 4.87, 5.35, 4.39, 8.16, 4.1...</td>\n",
       "      <td>[0.29, 0.19, 0.15, 0.37]</td>\n",
       "      <td>5.00</td>\n",
       "      <td>2.994</td>\n",
       "      <td>2</td>\n",
       "      <td>A2AWBDW9V1E9KT</td>\n",
       "    </tr>\n",
       "    <tr>\n",
       "      <th>1983</th>\n",
       "      <td>[3, 7, 11, 15, 19, 23, 27, 6, 5, 4, 2, 1, 0, 1...</td>\n",
       "      <td>2</td>\n",
       "      <td>[3.37, 7.2, 0.04, 8.84, 2.74, 2.94, 5.11, 9.57...</td>\n",
       "      <td>[0.01, 0.02, 0.07, 0.9]</td>\n",
       "      <td>5.00</td>\n",
       "      <td>2.994</td>\n",
       "      <td>3</td>\n",
       "      <td>A2AWBDW9V1E9KT</td>\n",
       "    </tr>\n",
       "    <tr>\n",
       "      <th>1984</th>\n",
       "      <td>[2, 6, 10, 14, 18, 22, 26, 21, 20, 23, 9, 8, 11]</td>\n",
       "      <td>6</td>\n",
       "      <td>[5.19, 1.81, 6.12, 7.32, 7.51, 6.59, 4.98, 4.8...</td>\n",
       "      <td>[0.1, 0.03, 0.85, 0.02]</td>\n",
       "      <td>5.00</td>\n",
       "      <td>2.994</td>\n",
       "      <td>4</td>\n",
       "      <td>A2AWBDW9V1E9KT</td>\n",
       "    </tr>\n",
       "    <tr>\n",
       "      <th>1985</th>\n",
       "      <td>[2, 6, 10, 14, 18, 22, 26, 5, 4, 7, 17, 16, 19...</td>\n",
       "      <td>7</td>\n",
       "      <td>[7.81, 9.0, 3.1, 5.91, 5.1, 1.85, 6.67, 3.0, 5...</td>\n",
       "      <td>[0.2, 0.13, 0.38, 0.29]</td>\n",
       "      <td>5.00</td>\n",
       "      <td>2.994</td>\n",
       "      <td>5</td>\n",
       "      <td>A2AWBDW9V1E9KT</td>\n",
       "    </tr>\n",
       "    <tr>\n",
       "      <th>1986</th>\n",
       "      <td>[3, 7, 11, 15, 19, 23, 27, 0, 4, 8, 12, 16, 20...</td>\n",
       "      <td>3</td>\n",
       "      <td>[4.84, 1.65, 6.69, 6.52, 1.74, 3.81, 4.03, 2.0...</td>\n",
       "      <td>[0.38, 0.17, 0.13, 0.32]</td>\n",
       "      <td>5.00</td>\n",
       "      <td>2.994</td>\n",
       "      <td>6</td>\n",
       "      <td>A2AWBDW9V1E9KT</td>\n",
       "    </tr>\n",
       "    <tr>\n",
       "      <th>1987</th>\n",
       "      <td>[2, 6, 10, 14, 18, 22, 26, 9, 8, 11, 25, 24, 27]</td>\n",
       "      <td>7</td>\n",
       "      <td>[5.27, 5.97, 3.85, 1.75, 6.64, 3.92, 3.56, 5.8...</td>\n",
       "      <td>[0.05, 0.06, 0.85, 0.04]</td>\n",
       "      <td>5.00</td>\n",
       "      <td>2.994</td>\n",
       "      <td>7</td>\n",
       "      <td>A2AWBDW9V1E9KT</td>\n",
       "    </tr>\n",
       "    <tr>\n",
       "      <th>1988</th>\n",
       "      <td>[1, 5, 9, 13, 17, 21, 25, 0, 2, 3, 16, 18, 19,...</td>\n",
       "      <td>1</td>\n",
       "      <td>[5.14, 6.76, 4.3, 1.51, 0.17, 0.15, 8.96, 9.75...</td>\n",
       "      <td>[0.03, 0.91, 0.05, 0.01]</td>\n",
       "      <td>5.00</td>\n",
       "      <td>2.994</td>\n",
       "      <td>8</td>\n",
       "      <td>A2AWBDW9V1E9KT</td>\n",
       "    </tr>\n",
       "    <tr>\n",
       "      <th>1989</th>\n",
       "      <td>[2, 6, 10, 14, 18, 22, 26, 13, 12, 15, 25, 24,...</td>\n",
       "      <td>7</td>\n",
       "      <td>[3.73, 1.9, 3.75, 8.53, 6.48, 4.41, 3.48, 2.85...</td>\n",
       "      <td>[0.29, 0.21, 0.34, 0.16]</td>\n",
       "      <td>5.00</td>\n",
       "      <td>2.994</td>\n",
       "      <td>9</td>\n",
       "      <td>A2AWBDW9V1E9KT</td>\n",
       "    </tr>\n",
       "    <tr>\n",
       "      <th>1990</th>\n",
       "      <td>[]</td>\n",
       "      <td>4</td>\n",
       "      <td>[0.12, 0.01, 0.1, 0.1, 0.13, 0.06, 0.17, 0.14,...</td>\n",
       "      <td>[0.32, 0.23, 0.18, 0.27]</td>\n",
       "      <td>0.13</td>\n",
       "      <td>0.072</td>\n",
       "      <td>10</td>\n",
       "      <td>A2AWBDW9V1E9KT</td>\n",
       "    </tr>\n",
       "    <tr>\n",
       "      <th>1991</th>\n",
       "      <td>[]</td>\n",
       "      <td>4</td>\n",
       "      <td>[0.07, 0.12, 0.09, 0.17, 0.08, 0.06, 0.06, 0.0...</td>\n",
       "      <td>[0.02, 0.88, 0.06, 0.04]</td>\n",
       "      <td>0.13</td>\n",
       "      <td>0.072</td>\n",
       "      <td>11</td>\n",
       "      <td>A2AWBDW9V1E9KT</td>\n",
       "    </tr>\n",
       "    <tr>\n",
       "      <th>1992</th>\n",
       "      <td>[]</td>\n",
       "      <td>4</td>\n",
       "      <td>[0.15, 0.17, 0.12, 0.09, 0.12, 0.16, 0.24, 0.1...</td>\n",
       "      <td>[0.14, 0.34, 0.22, 0.3]</td>\n",
       "      <td>0.13</td>\n",
       "      <td>0.072</td>\n",
       "      <td>12</td>\n",
       "      <td>A2AWBDW9V1E9KT</td>\n",
       "    </tr>\n",
       "    <tr>\n",
       "      <th>1993</th>\n",
       "      <td>[]</td>\n",
       "      <td>4</td>\n",
       "      <td>[0.19, 0.05, 0.1, 0.19, 0.13, 0.07, 0.08, 0.22...</td>\n",
       "      <td>[0.01, 0.94, 0.04, 0.01]</td>\n",
       "      <td>0.13</td>\n",
       "      <td>0.072</td>\n",
       "      <td>13</td>\n",
       "      <td>A2AWBDW9V1E9KT</td>\n",
       "    </tr>\n",
       "    <tr>\n",
       "      <th>1994</th>\n",
       "      <td>[]</td>\n",
       "      <td>4</td>\n",
       "      <td>[0.2, 0.09, 0.16, 0.2, 0.13, 0.1, 0.14, 0.22, ...</td>\n",
       "      <td>[0.26, 0.26, 0.33, 0.15]</td>\n",
       "      <td>0.13</td>\n",
       "      <td>0.072</td>\n",
       "      <td>14</td>\n",
       "      <td>A2AWBDW9V1E9KT</td>\n",
       "    </tr>\n",
       "    <tr>\n",
       "      <th>1995</th>\n",
       "      <td>[]</td>\n",
       "      <td>6</td>\n",
       "      <td>[0.08, 0.05, 0.24, 0.19, 0.14, 0.07, 0.12, 0.1...</td>\n",
       "      <td>[0.01, 0.08, 0.06, 0.85]</td>\n",
       "      <td>0.13</td>\n",
       "      <td>0.072</td>\n",
       "      <td>15</td>\n",
       "      <td>A2AWBDW9V1E9KT</td>\n",
       "    </tr>\n",
       "    <tr>\n",
       "      <th>1996</th>\n",
       "      <td>[]</td>\n",
       "      <td>1</td>\n",
       "      <td>[0.06, 0.13, 0.16, 0.24, 0.13, 0.17, 0.15, 0.2...</td>\n",
       "      <td>[0.12, 0.01, 0.01, 0.86]</td>\n",
       "      <td>0.13</td>\n",
       "      <td>0.072</td>\n",
       "      <td>16</td>\n",
       "      <td>A2AWBDW9V1E9KT</td>\n",
       "    </tr>\n",
       "    <tr>\n",
       "      <th>1997</th>\n",
       "      <td>[]</td>\n",
       "      <td>1</td>\n",
       "      <td>[0.07, 0.12, 0.13, 0.19, 0.17, 0.12, 0.14, 0.0...</td>\n",
       "      <td>[0.26, 0.23, 0.24, 0.27]</td>\n",
       "      <td>0.13</td>\n",
       "      <td>0.072</td>\n",
       "      <td>17</td>\n",
       "      <td>A2AWBDW9V1E9KT</td>\n",
       "    </tr>\n",
       "    <tr>\n",
       "      <th>1998</th>\n",
       "      <td>[]</td>\n",
       "      <td>6</td>\n",
       "      <td>[0.22, 0.12, 0.09, 0.22, 0.17, 0.19, 0.23, 0.0...</td>\n",
       "      <td>[0.39, 0.3, 0.17, 0.14]</td>\n",
       "      <td>0.13</td>\n",
       "      <td>0.072</td>\n",
       "      <td>18</td>\n",
       "      <td>A2AWBDW9V1E9KT</td>\n",
       "    </tr>\n",
       "    <tr>\n",
       "      <th>1999</th>\n",
       "      <td>[]</td>\n",
       "      <td>7</td>\n",
       "      <td>[0.13, 0.11, 0.23, 0.24, 0.18, 0.17, 0.13, 0.1...</td>\n",
       "      <td>[0.86, 0.01, 0.08, 0.05]</td>\n",
       "      <td>0.13</td>\n",
       "      <td>0.072</td>\n",
       "      <td>19</td>\n",
       "      <td>A2AWBDW9V1E9KT</td>\n",
       "    </tr>\n",
       "  </tbody>\n",
       "</table>\n",
       "<p>2000 rows × 8 columns</p>\n",
       "</div>"
      ],
      "text/plain": [
       "                                                 clicks  decision  \\\n",
       "0                                                    []         1   \n",
       "1                                                    []         6   \n",
       "2                                                    []         4   \n",
       "3                                                    []         4   \n",
       "4                                                    []         5   \n",
       "5                                                    []         2   \n",
       "6                                                    []         6   \n",
       "7                                                    []         5   \n",
       "8                                                    []         5   \n",
       "9                                                  [15]         4   \n",
       "10                            [5, 17, 25, 13, 9, 1, 21]         1   \n",
       "11                                                 [11]         3   \n",
       "12                                                   []         6   \n",
       "13                           [3, 11, 7, 15, 19, 23, 27]         4   \n",
       "14                           [2, 6, 10, 14, 18, 22, 26]         6   \n",
       "15                           [3, 7, 11, 15, 19, 23, 27]         5   \n",
       "16                            [0, 4, 8, 16, 12, 20, 24]         5   \n",
       "17                                                   []         3   \n",
       "18                                                   []         2   \n",
       "19                                                   []         3   \n",
       "20                                          [10, 18, 2]         1   \n",
       "21                                           [1, 17, 9]         3   \n",
       "22                                                  [2]         1   \n",
       "23                                       [3, 5, 15, 21]         6   \n",
       "24                                           [3, 0, 12]         4   \n",
       "25                                   [1, 9, 17, 25, 13]         4   \n",
       "26                                                  [1]         1   \n",
       "27                                               [1, 9]         3   \n",
       "28                                       [0, 16, 8, 24]         4   \n",
       "29                                              [3, 19]         3   \n",
       "...                                                 ...       ...   \n",
       "1970                          [0, 24, 4, 20, 2, 26, 14]         1   \n",
       "1971                                 [0, 12, 8, 11, 24]         3   \n",
       "1972                        [3, 27, 11, 23, 21, 22, 20]         6   \n",
       "1973                                  [3, 1, 25, 27, 2]         1   \n",
       "1974                                      [2, 6, 5, 26]         7   \n",
       "1975                                     [3, 27, 1, 15]         1   \n",
       "1976                                    [2, 26, 21, 23]         6   \n",
       "1977                               [3, 2, 6, 7, 10, 11]         1   \n",
       "1978                                             [1, 0]         1   \n",
       "1979                                         [0, 4, 24]         7   \n",
       "1980             [2, 1, 0, 3, 7, 6, 5, 4, 8, 9, 10, 11]         1   \n",
       "1981    [2, 6, 10, 14, 18, 22, 26, 13, 12, 15, 1, 0, 3]         4   \n",
       "1982   [3, 7, 11, 15, 19, 23, 27, 22, 21, 20, 10, 9, 8]         6   \n",
       "1983  [3, 7, 11, 15, 19, 23, 27, 6, 5, 4, 2, 1, 0, 1...         2   \n",
       "1984   [2, 6, 10, 14, 18, 22, 26, 21, 20, 23, 9, 8, 11]         6   \n",
       "1985  [2, 6, 10, 14, 18, 22, 26, 5, 4, 7, 17, 16, 19...         7   \n",
       "1986  [3, 7, 11, 15, 19, 23, 27, 0, 4, 8, 12, 16, 20...         3   \n",
       "1987   [2, 6, 10, 14, 18, 22, 26, 9, 8, 11, 25, 24, 27]         7   \n",
       "1988  [1, 5, 9, 13, 17, 21, 25, 0, 2, 3, 16, 18, 19,...         1   \n",
       "1989  [2, 6, 10, 14, 18, 22, 26, 13, 12, 15, 25, 24,...         7   \n",
       "1990                                                 []         4   \n",
       "1991                                                 []         4   \n",
       "1992                                                 []         4   \n",
       "1993                                                 []         4   \n",
       "1994                                                 []         4   \n",
       "1995                                                 []         6   \n",
       "1996                                                 []         1   \n",
       "1997                                                 []         1   \n",
       "1998                                                 []         6   \n",
       "1999                                                 []         7   \n",
       "\n",
       "                                           ground_truth  \\\n",
       "0     [0.16, 0.2, 0.16, 0.07, 0.1, 0.2, 0.12, 0.11, ...   \n",
       "1     [0.08, 0.18, 0.14, 0.16, 0.03, 0.14, 0.01, 0.1...   \n",
       "2     [0.11, 0.2, 0.17, 0.08, 0.18, 0.16, 0.12, 0.03...   \n",
       "3     [0.06, 0.17, 0.19, 0.14, 0.07, 0.18, 0.15, 0.0...   \n",
       "4     [0.09, 0.09, 0.11, 0.13, 0.2, 0.09, 0.24, 0.08...   \n",
       "5     [0.03, 0.1, 0.02, 0.13, 0.1, 0.11, 0.16, 0.03,...   \n",
       "6     [0.15, 0.08, 0.18, 0.01, 0.06, 0.2, 0.1, 0.2, ...   \n",
       "7     [0.12, 0.22, 0.16, 0.13, 0.08, 0.05, 0.08, 0.1...   \n",
       "8     [0.09, 0.12, 0.15, 0.16, 0.16, 0.02, 0.19, 0.0...   \n",
       "9     [0.09, 0.1, 0.09, 0.19, 0.16, 0.1, 0.05, 0.12,...   \n",
       "10    [1.83, 5.28, 2.85, 3.52, 5.37, 3.97, 5.21, 7.9...   \n",
       "11    [4.31, 5.58, 0.27, 3.93, 1.46, 6.19, 4.49, 3.7...   \n",
       "12    [2.16, 0.22, 6.67, 1.65, 6.7, 5.48, 4.92, 4.64...   \n",
       "13    [5.48, 7.93, 1.86, 5.57, 3.31, 4.44, 3.22, 1.9...   \n",
       "14    [3.49, 1.4, 2.55, 7.76, 5.53, 8.97, 3.4, 7.01,...   \n",
       "15    [4.34, 1.66, 8.41, 3.47, 4.94, 2.07, 3.55, 4.6...   \n",
       "16    [4.81, 8.31, 6.72, 2.04, 3.93, 4.19, 3.68, 4.2...   \n",
       "17    [2.96, 3.15, 8.41, 0.4, 6.55, 5.69, 3.96, 3.63...   \n",
       "18    [7.58, 4.76, 8.54, 8.34, 5.58, 5.58, 4.29, 7.7...   \n",
       "19    [4.76, 8.14, 8.15, 5.28, 2.58, 6.38, 6.25, 3.0...   \n",
       "20    [0.09, 0.08, 0.18, 0.2, 0.11, 0.18, 0.08, 0.12...   \n",
       "21    [0.12, 0.1, 0.1, 0.06, 0.12, 0.04, 0.11, 0.18,...   \n",
       "22    [0.16, 0.15, 0.22, 0.2, 0.14, 0.16, 0.12, 0.22...   \n",
       "23    [0.09, 0.08, 0.2, 0.04, 0.05, 0.1, 0.21, 0.18,...   \n",
       "24    [0.06, 0.07, 0.1, 0.03, 0.18, 0.17, 0.05, 0.14...   \n",
       "25    [0.08, 0.14, 0.17, 0.18, 0.09, 0.18, 0.16, 0.2...   \n",
       "26    [0.2, 0.21, 0.05, 0.18, 0.12, 0.12, 0.16, 0.11...   \n",
       "27    [0.2, 0.1, 0.16, 0.17, 0.13, 0.07, 0.04, 0.02,...   \n",
       "28    [0.12, 0.11, 0.08, 0.02, 0.09, 0.11, 0.17, 0.0...   \n",
       "29    [0.06, 0.08, 0.12, 0.1, 0.09, 0.06, 0.19, 0.09...   \n",
       "...                                                 ...   \n",
       "1970  [0.13, 0.2, 0.05, 0.2, 0.01, 0.14, 0.18, 0.22,...   \n",
       "1971  [0.1, 0.1, 0.22, 0.11, 0.06, 0.22, 0.16, 0.14,...   \n",
       "1972  [0.12, 0.15, 0.06, 0.09, 0.15, 0.11, 0.12, 0.1...   \n",
       "1973  [0.14, 0.23, 0.19, 0.05, 0.19, 0.11, 0.07, 0.2...   \n",
       "1974  [0.15, 0.09, 0.1, 0.1, 0.24, 0.05, 0.1, 0.1, 0...   \n",
       "1975  [0.12, 0.05, 0.04, 0.24, 0.1, 0.11, 0.21, 0.07...   \n",
       "1976  [0.02, 0.14, 0.02, 0.22, 0.12, 0.19, 0.19, 0.1...   \n",
       "1977  [0.14, 0.1, 0.06, 0.16, 0.23, 0.17, 0.12, 0.04...   \n",
       "1978  [0.15, 0.13, 0.11, 0.12, 0.04, 0.22, 0.11, 0.0...   \n",
       "1979  [0.15, 0.15, 0.16, 0.18, 0.14, 0.13, 0.13, 0.0...   \n",
       "1980  [4.13, 6.41, 9.42, 2.5, 3.63, 4.71, 6.8, 2.31,...   \n",
       "1981  [7.5, 5.89, 8.16, 6.98, 7.32, 5.95, 7.66, 7.4,...   \n",
       "1982  [5.56, 2.97, 2.83, 4.87, 5.35, 4.39, 8.16, 4.1...   \n",
       "1983  [3.37, 7.2, 0.04, 8.84, 2.74, 2.94, 5.11, 9.57...   \n",
       "1984  [5.19, 1.81, 6.12, 7.32, 7.51, 6.59, 4.98, 4.8...   \n",
       "1985  [7.81, 9.0, 3.1, 5.91, 5.1, 1.85, 6.67, 3.0, 5...   \n",
       "1986  [4.84, 1.65, 6.69, 6.52, 1.74, 3.81, 4.03, 2.0...   \n",
       "1987  [5.27, 5.97, 3.85, 1.75, 6.64, 3.92, 3.56, 5.8...   \n",
       "1988  [5.14, 6.76, 4.3, 1.51, 0.17, 0.15, 8.96, 9.75...   \n",
       "1989  [3.73, 1.9, 3.75, 8.53, 6.48, 4.41, 3.48, 2.85...   \n",
       "1990  [0.12, 0.01, 0.1, 0.1, 0.13, 0.06, 0.17, 0.14,...   \n",
       "1991  [0.07, 0.12, 0.09, 0.17, 0.08, 0.06, 0.06, 0.0...   \n",
       "1992  [0.15, 0.17, 0.12, 0.09, 0.12, 0.16, 0.24, 0.1...   \n",
       "1993  [0.19, 0.05, 0.1, 0.19, 0.13, 0.07, 0.08, 0.22...   \n",
       "1994  [0.2, 0.09, 0.16, 0.2, 0.13, 0.1, 0.14, 0.22, ...   \n",
       "1995  [0.08, 0.05, 0.24, 0.19, 0.14, 0.07, 0.12, 0.1...   \n",
       "1996  [0.06, 0.13, 0.16, 0.24, 0.13, 0.17, 0.15, 0.2...   \n",
       "1997  [0.07, 0.12, 0.13, 0.19, 0.17, 0.12, 0.14, 0.0...   \n",
       "1998  [0.22, 0.12, 0.09, 0.22, 0.17, 0.19, 0.23, 0.0...   \n",
       "1999  [0.13, 0.11, 0.23, 0.24, 0.18, 0.17, 0.13, 0.1...   \n",
       "\n",
       "                 outcome_probs  reward_mu  reward_sigma  trial_index  \\\n",
       "0     [0.16, 0.19, 0.39, 0.26]       0.13         0.072            0   \n",
       "1     [0.35, 0.27, 0.24, 0.14]       0.13         0.072            1   \n",
       "2     [0.06, 0.05, 0.86, 0.03]       0.13         0.072            2   \n",
       "3      [0.02, 0.9, 0.02, 0.06]       0.13         0.072            3   \n",
       "4      [0.08, 0.9, 0.01, 0.01]       0.13         0.072            4   \n",
       "5     [0.01, 0.01, 0.07, 0.91]       0.13         0.072            5   \n",
       "6      [0.3, 0.23, 0.25, 0.22]       0.13         0.072            6   \n",
       "7     [0.32, 0.11, 0.33, 0.24]       0.13         0.072            7   \n",
       "8     [0.28, 0.12, 0.37, 0.23]       0.13         0.072            8   \n",
       "9     [0.04, 0.05, 0.06, 0.85]       0.13         0.072            9   \n",
       "10    [0.08, 0.85, 0.05, 0.02]       5.00         2.994           10   \n",
       "11    [0.25, 0.15, 0.22, 0.38]       5.00         2.994           11   \n",
       "12    [0.28, 0.23, 0.18, 0.31]       5.00         2.994           12   \n",
       "13    [0.07, 0.03, 0.05, 0.85]       5.00         2.994           13   \n",
       "14    [0.03, 0.03, 0.89, 0.05]       5.00         2.994           14   \n",
       "15     [0.02, 0.03, 0.05, 0.9]       5.00         2.994           15   \n",
       "16    [0.87, 0.05, 0.04, 0.04]       5.00         2.994           16   \n",
       "17    [0.14, 0.16, 0.38, 0.32]       5.00         2.994           17   \n",
       "18     [0.32, 0.11, 0.3, 0.27]       5.00         2.994           18   \n",
       "19    [0.37, 0.26, 0.16, 0.21]       5.00         2.994           19   \n",
       "20     [0.1, 0.04, 0.85, 0.01]       0.13         0.072            0   \n",
       "21     [0.1, 0.85, 0.02, 0.03]       0.13         0.072            1   \n",
       "22      [0.26, 0.14, 0.3, 0.3]       0.13         0.072            2   \n",
       "23    [0.17, 0.27, 0.21, 0.35]       0.13         0.072            3   \n",
       "24    [0.34, 0.12, 0.22, 0.32]       0.13         0.072            4   \n",
       "25    [0.04, 0.85, 0.07, 0.04]       0.13         0.072            5   \n",
       "26    [0.02, 0.85, 0.04, 0.09]       0.13         0.072            6   \n",
       "27    [0.27, 0.39, 0.13, 0.21]       0.13         0.072            7   \n",
       "28    [0.36, 0.19, 0.16, 0.29]       0.13         0.072            8   \n",
       "29    [0.01, 0.08, 0.04, 0.87]       0.13         0.072            9   \n",
       "...                        ...        ...           ...          ...   \n",
       "1970  [0.85, 0.02, 0.12, 0.01]       0.13         0.072           10   \n",
       "1971  [0.86, 0.03, 0.04, 0.07]       0.13         0.072           11   \n",
       "1972    [0.21, 0.2, 0.2, 0.39]       0.13         0.072           12   \n",
       "1973  [0.16, 0.24, 0.31, 0.29]       0.13         0.072           13   \n",
       "1974  [0.05, 0.09, 0.85, 0.01]       0.13         0.072           14   \n",
       "1975  [0.05, 0.07, 0.01, 0.87]       0.13         0.072           15   \n",
       "1976  [0.34, 0.13, 0.37, 0.16]       0.13         0.072           16   \n",
       "1977  [0.23, 0.13, 0.27, 0.37]       0.13         0.072           17   \n",
       "1978  [0.39, 0.34, 0.16, 0.11]       0.13         0.072           18   \n",
       "1979  [0.86, 0.01, 0.07, 0.06]       0.13         0.072           19   \n",
       "1980  [0.22, 0.29, 0.37, 0.12]       5.00         2.994            0   \n",
       "1981  [0.09, 0.02, 0.88, 0.01]       5.00         2.994            1   \n",
       "1982  [0.29, 0.19, 0.15, 0.37]       5.00         2.994            2   \n",
       "1983   [0.01, 0.02, 0.07, 0.9]       5.00         2.994            3   \n",
       "1984   [0.1, 0.03, 0.85, 0.02]       5.00         2.994            4   \n",
       "1985   [0.2, 0.13, 0.38, 0.29]       5.00         2.994            5   \n",
       "1986  [0.38, 0.17, 0.13, 0.32]       5.00         2.994            6   \n",
       "1987  [0.05, 0.06, 0.85, 0.04]       5.00         2.994            7   \n",
       "1988  [0.03, 0.91, 0.05, 0.01]       5.00         2.994            8   \n",
       "1989  [0.29, 0.21, 0.34, 0.16]       5.00         2.994            9   \n",
       "1990  [0.32, 0.23, 0.18, 0.27]       0.13         0.072           10   \n",
       "1991  [0.02, 0.88, 0.06, 0.04]       0.13         0.072           11   \n",
       "1992   [0.14, 0.34, 0.22, 0.3]       0.13         0.072           12   \n",
       "1993  [0.01, 0.94, 0.04, 0.01]       0.13         0.072           13   \n",
       "1994  [0.26, 0.26, 0.33, 0.15]       0.13         0.072           14   \n",
       "1995  [0.01, 0.08, 0.06, 0.85]       0.13         0.072           15   \n",
       "1996  [0.12, 0.01, 0.01, 0.86]       0.13         0.072           16   \n",
       "1997  [0.26, 0.23, 0.24, 0.27]       0.13         0.072           17   \n",
       "1998   [0.39, 0.3, 0.17, 0.14]       0.13         0.072           18   \n",
       "1999  [0.86, 0.01, 0.08, 0.05]       0.13         0.072           19   \n",
       "\n",
       "            workerid  \n",
       "0     A2HSCKH5NKN5LP  \n",
       "1     A2HSCKH5NKN5LP  \n",
       "2     A2HSCKH5NKN5LP  \n",
       "3     A2HSCKH5NKN5LP  \n",
       "4     A2HSCKH5NKN5LP  \n",
       "5     A2HSCKH5NKN5LP  \n",
       "6     A2HSCKH5NKN5LP  \n",
       "7     A2HSCKH5NKN5LP  \n",
       "8     A2HSCKH5NKN5LP  \n",
       "9     A2HSCKH5NKN5LP  \n",
       "10    A2HSCKH5NKN5LP  \n",
       "11    A2HSCKH5NKN5LP  \n",
       "12    A2HSCKH5NKN5LP  \n",
       "13    A2HSCKH5NKN5LP  \n",
       "14    A2HSCKH5NKN5LP  \n",
       "15    A2HSCKH5NKN5LP  \n",
       "16    A2HSCKH5NKN5LP  \n",
       "17    A2HSCKH5NKN5LP  \n",
       "18    A2HSCKH5NKN5LP  \n",
       "19    A2HSCKH5NKN5LP  \n",
       "20     A8RDXT4ZILHQT  \n",
       "21     A8RDXT4ZILHQT  \n",
       "22     A8RDXT4ZILHQT  \n",
       "23     A8RDXT4ZILHQT  \n",
       "24     A8RDXT4ZILHQT  \n",
       "25     A8RDXT4ZILHQT  \n",
       "26     A8RDXT4ZILHQT  \n",
       "27     A8RDXT4ZILHQT  \n",
       "28     A8RDXT4ZILHQT  \n",
       "29     A8RDXT4ZILHQT  \n",
       "...              ...  \n",
       "1970  A3MD34XEB4H6JF  \n",
       "1971  A3MD34XEB4H6JF  \n",
       "1972  A3MD34XEB4H6JF  \n",
       "1973  A3MD34XEB4H6JF  \n",
       "1974  A3MD34XEB4H6JF  \n",
       "1975  A3MD34XEB4H6JF  \n",
       "1976  A3MD34XEB4H6JF  \n",
       "1977  A3MD34XEB4H6JF  \n",
       "1978  A3MD34XEB4H6JF  \n",
       "1979  A3MD34XEB4H6JF  \n",
       "1980  A2AWBDW9V1E9KT  \n",
       "1981  A2AWBDW9V1E9KT  \n",
       "1982  A2AWBDW9V1E9KT  \n",
       "1983  A2AWBDW9V1E9KT  \n",
       "1984  A2AWBDW9V1E9KT  \n",
       "1985  A2AWBDW9V1E9KT  \n",
       "1986  A2AWBDW9V1E9KT  \n",
       "1987  A2AWBDW9V1E9KT  \n",
       "1988  A2AWBDW9V1E9KT  \n",
       "1989  A2AWBDW9V1E9KT  \n",
       "1990  A2AWBDW9V1E9KT  \n",
       "1991  A2AWBDW9V1E9KT  \n",
       "1992  A2AWBDW9V1E9KT  \n",
       "1993  A2AWBDW9V1E9KT  \n",
       "1994  A2AWBDW9V1E9KT  \n",
       "1995  A2AWBDW9V1E9KT  \n",
       "1996  A2AWBDW9V1E9KT  \n",
       "1997  A2AWBDW9V1E9KT  \n",
       "1998  A2AWBDW9V1E9KT  \n",
       "1999  A2AWBDW9V1E9KT  \n",
       "\n",
       "[2000 rows x 8 columns]"
      ]
     },
     "execution_count": 408,
     "metadata": {},
     "output_type": "execute_result"
    }
   ],
   "source": [
    "df"
   ]
  },
  {
   "cell_type": "code",
   "execution_count": 432,
   "metadata": {},
   "outputs": [],
   "source": [
    "j = 0\n",
    "participants = dict()\n",
    "for i, row in df.iterrows():\n",
    "    stakes = 'high' if env.reward.mu == 5.0 else 'low'\n",
    "    n_gambles = int(len(row['ground_truth'])/len(row['outcome_probs']))\n",
    "    env = make_env(gambles=n_gambles, ground_truth=row['ground_truth'], cost=0.01, dist=row['outcome_probs'], stakes=stakes)\n",
    "    if row['workerid'] in participants.keys():\n",
    "        participants[row['workerid']].append((env,row['clicks']))\n",
    "    else:\n",
    "        participants[row['workerid']] =[(env,row['clicks'])]"
   ]
  },
  {
   "cell_type": "code",
   "execution_count": 433,
   "metadata": {
    "collapsed": true
   },
   "outputs": [],
   "source": [
    "data = participants[p] "
   ]
  },
  {
   "cell_type": "code",
   "execution_count": 462,
   "metadata": {
    "scrolled": true
   },
   "outputs": [
    {
     "data": {
      "text/plain": [
       "[(<oldmouselab.OldMouselabEnv at 0x7c09da9e0198>, [5, 21, 25, 13, 15, 27]),\n",
       " (<oldmouselab.OldMouselabEnv at 0x7c09da9e00f0>, [0, 2, 12, 14, 24, 26]),\n",
       " (<oldmouselab.OldMouselabEnv at 0x7c09da9e05f8>, [3, 1]),\n",
       " (<oldmouselab.OldMouselabEnv at 0x7c09da9e07b8>, [1, 21, 23, 3]),\n",
       " (<oldmouselab.OldMouselabEnv at 0x7c09da9e08d0>, [26, 14, 18, 6]),\n",
       " (<oldmouselab.OldMouselabEnv at 0x7c09da9e0828>, [5, 13, 21, 25]),\n",
       " (<oldmouselab.OldMouselabEnv at 0x7c09da9e0048>, [5, 7, 9, 11, 25, 27]),\n",
       " (<oldmouselab.OldMouselabEnv at 0x7c09da9e06d8>, [5, 4]),\n",
       " (<oldmouselab.OldMouselabEnv at 0x7c09da9e07f0>, [6, 2, 18, 26]),\n",
       " (<oldmouselab.OldMouselabEnv at 0x7c09da9e04e0>, [6, 14, 18, 26]),\n",
       " (<oldmouselab.OldMouselabEnv at 0x7c09da9e02b0>, [3, 2, 14, 15, 27, 26]),\n",
       " (<oldmouselab.OldMouselabEnv at 0x7c09da9e0b70>, [1, 5, 9, 13, 17, 21, 25]),\n",
       " (<oldmouselab.OldMouselabEnv at 0x7c09da9e0080>,\n",
       "  [5, 7, 15, 27, 25, 13, 4, 12, 16, 9, 24]),\n",
       " (<oldmouselab.OldMouselabEnv at 0x7c09da9e03c8>,\n",
       "  [3, 7, 15, 12, 13, 27, 25, 24]),\n",
       " (<oldmouselab.OldMouselabEnv at 0x7c09da9e0208>, [1, 13, 9, 21, 5, 17, 25]),\n",
       " (<oldmouselab.OldMouselabEnv at 0x7c09daa46470>, [1, 5, 13, 12]),\n",
       " (<oldmouselab.OldMouselabEnv at 0x7c09daa46cc0>,\n",
       "  [3, 1, 13, 15, 27, 25, 26, 10, 9, 11, 5, 7]),\n",
       " (<oldmouselab.OldMouselabEnv at 0x7c09daa46c50>, [3, 11, 15, 23, 27]),\n",
       " (<oldmouselab.OldMouselabEnv at 0x7c09daa46160>, [3, 7, 11, 19, 27]),\n",
       " (<oldmouselab.OldMouselabEnv at 0x7c09daa462e8>,\n",
       "  [1, 9, 13, 15, 12, 24, 25, 27])]"
      ]
     },
     "execution_count": 462,
     "metadata": {},
     "output_type": "execute_result"
    }
   ],
   "source": [
    "data"
   ]
  },
  {
   "cell_type": "code",
   "execution_count": 469,
   "metadata": {},
   "outputs": [],
   "source": [
    "r_lls = []\n",
    "parts = list(participants.keys())"
   ]
  },
  {
   "cell_type": "code",
   "execution_count": 470,
   "metadata": {},
   "outputs": [
    {
     "name": "stdout",
     "output_type": "stream",
     "text": [
      "A2HSCKH5NKN5LP\n",
      "A8RDXT4ZILHQT\n"
     ]
    },
    {
     "ename": "KeyboardInterrupt",
     "evalue": "",
     "output_type": "error",
     "traceback": [
      "\u001b[0;31m---------------------------------------------------------------------------\u001b[0m",
      "\u001b[0;31mKeyboardInterrupt\u001b[0m                         Traceback (most recent call last)",
      "\u001b[0;32m<ipython-input-470-232ffb14aef3>\u001b[0m in \u001b[0;36m<module>\u001b[0;34m()\u001b[0m\n\u001b[1;32m      1\u001b[0m \u001b[0;32mfor\u001b[0m \u001b[0mp\u001b[0m \u001b[0;32min\u001b[0m \u001b[0mparts\u001b[0m\u001b[0;34m:\u001b[0m\u001b[0;34m\u001b[0m\u001b[0m\n\u001b[1;32m      2\u001b[0m     \u001b[0mprint\u001b[0m\u001b[0;34m(\u001b[0m\u001b[0mp\u001b[0m\u001b[0;34m)\u001b[0m\u001b[0;34m\u001b[0m\u001b[0m\n\u001b[0;32m----> 3\u001b[0;31m     \u001b[0mr_lls\u001b[0m\u001b[0;34m.\u001b[0m\u001b[0mappend\u001b[0m\u001b[0;34m(\u001b[0m\u001b[0mwrap_sum_ll\u001b[0m\u001b[0;34m(\u001b[0m\u001b[0mp\u001b[0m\u001b[0;34m,\u001b[0m \u001b[0;36m1\u001b[0m\u001b[0;34m)\u001b[0m\u001b[0;34m)\u001b[0m\u001b[0;34m\u001b[0m\u001b[0m\n\u001b[0m",
      "\u001b[0;32m<ipython-input-461-030d8dc16a72>\u001b[0m in \u001b[0;36mwrap_sum_ll\u001b[0;34m(p, p_error)\u001b[0m\n\u001b[1;32m      2\u001b[0m     \u001b[0mdata\u001b[0m \u001b[0;34m=\u001b[0m \u001b[0mparticipants\u001b[0m\u001b[0;34m[\u001b[0m\u001b[0mp\u001b[0m\u001b[0;34m]\u001b[0m\u001b[0;34m\u001b[0m\u001b[0m\n\u001b[1;32m      3\u001b[0m     return sum(dc_log_likelihood(env, trial, p_error)\n\u001b[0;32m----> 4\u001b[0;31m                     for env,trial in data)\n\u001b[0m",
      "\u001b[0;32m<ipython-input-461-030d8dc16a72>\u001b[0m in \u001b[0;36m<genexpr>\u001b[0;34m(.0)\u001b[0m\n\u001b[1;32m      2\u001b[0m     \u001b[0mdata\u001b[0m \u001b[0;34m=\u001b[0m \u001b[0mparticipants\u001b[0m\u001b[0;34m[\u001b[0m\u001b[0mp\u001b[0m\u001b[0;34m]\u001b[0m\u001b[0;34m\u001b[0m\u001b[0m\n\u001b[1;32m      3\u001b[0m     return sum(dc_log_likelihood(env, trial, p_error)\n\u001b[0;32m----> 4\u001b[0;31m                     for env,trial in data)\n\u001b[0m",
      "\u001b[0;32m<ipython-input-460-cd023547431c>\u001b[0m in \u001b[0;36mdc_log_likelihood\u001b[0;34m(env, trial, p_error)\u001b[0m\n\u001b[1;32m      1\u001b[0m \u001b[0;32mdef\u001b[0m \u001b[0mdc_log_likelihood\u001b[0m\u001b[0;34m(\u001b[0m\u001b[0menv\u001b[0m\u001b[0;34m,\u001b[0m \u001b[0mtrial\u001b[0m\u001b[0;34m,\u001b[0m \u001b[0mp_error\u001b[0m\u001b[0;34m)\u001b[0m\u001b[0;34m:\u001b[0m\u001b[0;34m\u001b[0m\u001b[0m\n\u001b[0;32m----> 2\u001b[0;31m     \u001b[0mdone\u001b[0m\u001b[0;34m,\u001b[0m \u001b[0moption_seqs\u001b[0m\u001b[0;34m,\u001b[0m \u001b[0mlikelihoods\u001b[0m \u001b[0;34m=\u001b[0m \u001b[0mwrap_po\u001b[0m\u001b[0;34m(\u001b[0m\u001b[0menv\u001b[0m\u001b[0;34m,\u001b[0m\u001b[0mtrial\u001b[0m\u001b[0;34m,\u001b[0m\u001b[0mp_rand\u001b[0m\u001b[0;34m=\u001b[0m\u001b[0mp_error\u001b[0m\u001b[0;34m)\u001b[0m\u001b[0;34m\u001b[0m\u001b[0m\n\u001b[0m\u001b[1;32m      3\u001b[0m     \u001b[0;32mreturn\u001b[0m \u001b[0mnp\u001b[0m\u001b[0;34m.\u001b[0m\u001b[0mlog\u001b[0m\u001b[0;34m(\u001b[0m\u001b[0mnp\u001b[0m\u001b[0;34m.\u001b[0m\u001b[0msum\u001b[0m\u001b[0;34m(\u001b[0m\u001b[0mlikelihoods\u001b[0m\u001b[0;34m)\u001b[0m\u001b[0;34m)\u001b[0m\u001b[0;34m\u001b[0m\u001b[0m\n",
      "\u001b[0;32m<ipython-input-452-e67b0f4cfabe>\u001b[0m in \u001b[0;36mwrap_po\u001b[0;34m(env, click_sequence, p_rand)\u001b[0m\n\u001b[1;32m     37\u001b[0m     \u001b[0;32mif\u001b[0m \u001b[0mclick_sequence\u001b[0m \u001b[0;34m==\u001b[0m \u001b[0;34m[\u001b[0m\u001b[0;34m]\u001b[0m \u001b[0;32mor\u001b[0m \u001b[0mclick_sequence\u001b[0m\u001b[0;34m[\u001b[0m\u001b[0;34m-\u001b[0m\u001b[0;36m1\u001b[0m\u001b[0;34m]\u001b[0m \u001b[0;34m!=\u001b[0m \u001b[0menv\u001b[0m\u001b[0;34m.\u001b[0m\u001b[0mterm_action\u001b[0m\u001b[0;34m:\u001b[0m\u001b[0;34m\u001b[0m\u001b[0m\n\u001b[1;32m     38\u001b[0m         \u001b[0mclick_sequence\u001b[0m \u001b[0;34m=\u001b[0m \u001b[0mclick_sequence\u001b[0m\u001b[0;34m+\u001b[0m\u001b[0;34m[\u001b[0m\u001b[0menv\u001b[0m\u001b[0;34m.\u001b[0m\u001b[0mterm_action\u001b[0m\u001b[0;34m]\u001b[0m\u001b[0;34m\u001b[0m\u001b[0m\n\u001b[0;32m---> 39\u001b[0;31m     \u001b[0;32mreturn\u001b[0m \u001b[0mparse_options_clean\u001b[0m\u001b[0;34m(\u001b[0m\u001b[0menv\u001b[0m\u001b[0;34m.\u001b[0m\u001b[0mground_truth\u001b[0m\u001b[0;34m,\u001b[0m\u001b[0menv\u001b[0m\u001b[0;34m.\u001b[0m\u001b[0mdist\u001b[0m\u001b[0;34m,\u001b[0m\u001b[0menv\u001b[0m\u001b[0;34m.\u001b[0m\u001b[0mcost\u001b[0m\u001b[0;34m,\u001b[0m\u001b[0mstakes\u001b[0m\u001b[0;34m,\u001b[0m\u001b[0;34m[\u001b[0m\u001b[0;34m]\u001b[0m\u001b[0;34m,\u001b[0m\u001b[0mclick_sequence\u001b[0m\u001b[0;34m)\u001b[0m\u001b[0;34m\u001b[0m\u001b[0m\n\u001b[0m",
      "\u001b[0;32m<ipython-input-452-e67b0f4cfabe>\u001b[0m in \u001b[0;36mparse_options_clean\u001b[0;34m(init_state, dist, cost, stakes, pre_acts, click_sequence)\u001b[0m\n\u001b[1;32m     25\u001b[0m             \u001b[0;32mfor\u001b[0m \u001b[0minst\u001b[0m \u001b[0;32min\u001b[0m \u001b[0moption_insts\u001b[0m\u001b[0;34m[\u001b[0m\u001b[0moption\u001b[0m\u001b[0;34m]\u001b[0m\u001b[0;34m:\u001b[0m\u001b[0;34m\u001b[0m\u001b[0m\n\u001b[1;32m     26\u001b[0m                 \u001b[0;32mif\u001b[0m \u001b[0mnp\u001b[0m\u001b[0;34m.\u001b[0m\u001b[0marray_equal\u001b[0m\u001b[0;34m(\u001b[0m\u001b[0mclick_sequence\u001b[0m\u001b[0;34m[\u001b[0m\u001b[0;34m:\u001b[0m\u001b[0mi\u001b[0m\u001b[0;34m]\u001b[0m\u001b[0;34m,\u001b[0m\u001b[0minst\u001b[0m\u001b[0;34m)\u001b[0m\u001b[0;34m:\u001b[0m\u001b[0;34m\u001b[0m\u001b[0m\n\u001b[0;32m---> 27\u001b[0;31m                     \u001b[0mwill_done\u001b[0m\u001b[0;34m,\u001b[0m \u001b[0mremaining\u001b[0m\u001b[0;34m,\u001b[0m \u001b[0mrem_likelihoods\u001b[0m \u001b[0;34m=\u001b[0m \u001b[0;34m(\u001b[0m\u001b[0mparse_options_clean\u001b[0m\u001b[0;34m(\u001b[0m\u001b[0minit_state\u001b[0m\u001b[0;34m,\u001b[0m\u001b[0mdist\u001b[0m\u001b[0;34m,\u001b[0m\u001b[0mcost\u001b[0m\u001b[0;34m,\u001b[0m\u001b[0mstakes\u001b[0m\u001b[0;34m,\u001b[0m\u001b[0mpre_acts\u001b[0m\u001b[0;34m+\u001b[0m\u001b[0mclick_sequence\u001b[0m\u001b[0;34m[\u001b[0m\u001b[0;34m:\u001b[0m\u001b[0mi\u001b[0m\u001b[0;34m]\u001b[0m\u001b[0;34m,\u001b[0m\u001b[0mclick_sequence\u001b[0m\u001b[0;34m[\u001b[0m\u001b[0mi\u001b[0m\u001b[0;34m:\u001b[0m\u001b[0;34m]\u001b[0m\u001b[0;34m)\u001b[0m\u001b[0;34m)\u001b[0m\u001b[0;34m\u001b[0m\u001b[0m\n\u001b[0m\u001b[1;32m     28\u001b[0m                     \u001b[0mdone\u001b[0m \u001b[0;34m=\u001b[0m \u001b[0mdone\u001b[0m \u001b[0;32mor\u001b[0m \u001b[0mwill_done\u001b[0m\u001b[0;34m\u001b[0m\u001b[0m\n\u001b[1;32m     29\u001b[0m                     \u001b[0;32mif\u001b[0m \u001b[0mdone\u001b[0m\u001b[0;34m:\u001b[0m\u001b[0;34m\u001b[0m\u001b[0m\n",
      "\u001b[0;32m<ipython-input-452-e67b0f4cfabe>\u001b[0m in \u001b[0;36mparse_options_clean\u001b[0;34m(init_state, dist, cost, stakes, pre_acts, click_sequence)\u001b[0m\n\u001b[1;32m     25\u001b[0m             \u001b[0;32mfor\u001b[0m \u001b[0minst\u001b[0m \u001b[0;32min\u001b[0m \u001b[0moption_insts\u001b[0m\u001b[0;34m[\u001b[0m\u001b[0moption\u001b[0m\u001b[0;34m]\u001b[0m\u001b[0;34m:\u001b[0m\u001b[0;34m\u001b[0m\u001b[0m\n\u001b[1;32m     26\u001b[0m                 \u001b[0;32mif\u001b[0m \u001b[0mnp\u001b[0m\u001b[0;34m.\u001b[0m\u001b[0marray_equal\u001b[0m\u001b[0;34m(\u001b[0m\u001b[0mclick_sequence\u001b[0m\u001b[0;34m[\u001b[0m\u001b[0;34m:\u001b[0m\u001b[0mi\u001b[0m\u001b[0;34m]\u001b[0m\u001b[0;34m,\u001b[0m\u001b[0minst\u001b[0m\u001b[0;34m)\u001b[0m\u001b[0;34m:\u001b[0m\u001b[0;34m\u001b[0m\u001b[0m\n\u001b[0;32m---> 27\u001b[0;31m                     \u001b[0mwill_done\u001b[0m\u001b[0;34m,\u001b[0m \u001b[0mremaining\u001b[0m\u001b[0;34m,\u001b[0m \u001b[0mrem_likelihoods\u001b[0m \u001b[0;34m=\u001b[0m \u001b[0;34m(\u001b[0m\u001b[0mparse_options_clean\u001b[0m\u001b[0;34m(\u001b[0m\u001b[0minit_state\u001b[0m\u001b[0;34m,\u001b[0m\u001b[0mdist\u001b[0m\u001b[0;34m,\u001b[0m\u001b[0mcost\u001b[0m\u001b[0;34m,\u001b[0m\u001b[0mstakes\u001b[0m\u001b[0;34m,\u001b[0m\u001b[0mpre_acts\u001b[0m\u001b[0;34m+\u001b[0m\u001b[0mclick_sequence\u001b[0m\u001b[0;34m[\u001b[0m\u001b[0;34m:\u001b[0m\u001b[0mi\u001b[0m\u001b[0;34m]\u001b[0m\u001b[0;34m,\u001b[0m\u001b[0mclick_sequence\u001b[0m\u001b[0;34m[\u001b[0m\u001b[0mi\u001b[0m\u001b[0;34m:\u001b[0m\u001b[0;34m]\u001b[0m\u001b[0;34m)\u001b[0m\u001b[0;34m)\u001b[0m\u001b[0;34m\u001b[0m\u001b[0m\n\u001b[0m\u001b[1;32m     28\u001b[0m                     \u001b[0mdone\u001b[0m \u001b[0;34m=\u001b[0m \u001b[0mdone\u001b[0m \u001b[0;32mor\u001b[0m \u001b[0mwill_done\u001b[0m\u001b[0;34m\u001b[0m\u001b[0m\n\u001b[1;32m     29\u001b[0m                     \u001b[0;32mif\u001b[0m \u001b[0mdone\u001b[0m\u001b[0;34m:\u001b[0m\u001b[0;34m\u001b[0m\u001b[0m\n",
      "\u001b[0;32m<ipython-input-452-e67b0f4cfabe>\u001b[0m in \u001b[0;36mparse_options_clean\u001b[0;34m(init_state, dist, cost, stakes, pre_acts, click_sequence)\u001b[0m\n\u001b[1;32m     25\u001b[0m             \u001b[0;32mfor\u001b[0m \u001b[0minst\u001b[0m \u001b[0;32min\u001b[0m \u001b[0moption_insts\u001b[0m\u001b[0;34m[\u001b[0m\u001b[0moption\u001b[0m\u001b[0;34m]\u001b[0m\u001b[0;34m:\u001b[0m\u001b[0;34m\u001b[0m\u001b[0m\n\u001b[1;32m     26\u001b[0m                 \u001b[0;32mif\u001b[0m \u001b[0mnp\u001b[0m\u001b[0;34m.\u001b[0m\u001b[0marray_equal\u001b[0m\u001b[0;34m(\u001b[0m\u001b[0mclick_sequence\u001b[0m\u001b[0;34m[\u001b[0m\u001b[0;34m:\u001b[0m\u001b[0mi\u001b[0m\u001b[0;34m]\u001b[0m\u001b[0;34m,\u001b[0m\u001b[0minst\u001b[0m\u001b[0;34m)\u001b[0m\u001b[0;34m:\u001b[0m\u001b[0;34m\u001b[0m\u001b[0m\n\u001b[0;32m---> 27\u001b[0;31m                     \u001b[0mwill_done\u001b[0m\u001b[0;34m,\u001b[0m \u001b[0mremaining\u001b[0m\u001b[0;34m,\u001b[0m \u001b[0mrem_likelihoods\u001b[0m \u001b[0;34m=\u001b[0m \u001b[0;34m(\u001b[0m\u001b[0mparse_options_clean\u001b[0m\u001b[0;34m(\u001b[0m\u001b[0minit_state\u001b[0m\u001b[0;34m,\u001b[0m\u001b[0mdist\u001b[0m\u001b[0;34m,\u001b[0m\u001b[0mcost\u001b[0m\u001b[0;34m,\u001b[0m\u001b[0mstakes\u001b[0m\u001b[0;34m,\u001b[0m\u001b[0mpre_acts\u001b[0m\u001b[0;34m+\u001b[0m\u001b[0mclick_sequence\u001b[0m\u001b[0;34m[\u001b[0m\u001b[0;34m:\u001b[0m\u001b[0mi\u001b[0m\u001b[0;34m]\u001b[0m\u001b[0;34m,\u001b[0m\u001b[0mclick_sequence\u001b[0m\u001b[0;34m[\u001b[0m\u001b[0mi\u001b[0m\u001b[0;34m:\u001b[0m\u001b[0;34m]\u001b[0m\u001b[0;34m)\u001b[0m\u001b[0;34m)\u001b[0m\u001b[0;34m\u001b[0m\u001b[0m\n\u001b[0m\u001b[1;32m     28\u001b[0m                     \u001b[0mdone\u001b[0m \u001b[0;34m=\u001b[0m \u001b[0mdone\u001b[0m \u001b[0;32mor\u001b[0m \u001b[0mwill_done\u001b[0m\u001b[0;34m\u001b[0m\u001b[0m\n\u001b[1;32m     29\u001b[0m                     \u001b[0;32mif\u001b[0m \u001b[0mdone\u001b[0m\u001b[0;34m:\u001b[0m\u001b[0;34m\u001b[0m\u001b[0m\n",
      "\u001b[0;32m<ipython-input-452-e67b0f4cfabe>\u001b[0m in \u001b[0;36mparse_options_clean\u001b[0;34m(init_state, dist, cost, stakes, pre_acts, click_sequence)\u001b[0m\n\u001b[1;32m     25\u001b[0m             \u001b[0;32mfor\u001b[0m \u001b[0minst\u001b[0m \u001b[0;32min\u001b[0m \u001b[0moption_insts\u001b[0m\u001b[0;34m[\u001b[0m\u001b[0moption\u001b[0m\u001b[0;34m]\u001b[0m\u001b[0;34m:\u001b[0m\u001b[0;34m\u001b[0m\u001b[0m\n\u001b[1;32m     26\u001b[0m                 \u001b[0;32mif\u001b[0m \u001b[0mnp\u001b[0m\u001b[0;34m.\u001b[0m\u001b[0marray_equal\u001b[0m\u001b[0;34m(\u001b[0m\u001b[0mclick_sequence\u001b[0m\u001b[0;34m[\u001b[0m\u001b[0;34m:\u001b[0m\u001b[0mi\u001b[0m\u001b[0;34m]\u001b[0m\u001b[0;34m,\u001b[0m\u001b[0minst\u001b[0m\u001b[0;34m)\u001b[0m\u001b[0;34m:\u001b[0m\u001b[0;34m\u001b[0m\u001b[0m\n\u001b[0;32m---> 27\u001b[0;31m                     \u001b[0mwill_done\u001b[0m\u001b[0;34m,\u001b[0m \u001b[0mremaining\u001b[0m\u001b[0;34m,\u001b[0m \u001b[0mrem_likelihoods\u001b[0m \u001b[0;34m=\u001b[0m \u001b[0;34m(\u001b[0m\u001b[0mparse_options_clean\u001b[0m\u001b[0;34m(\u001b[0m\u001b[0minit_state\u001b[0m\u001b[0;34m,\u001b[0m\u001b[0mdist\u001b[0m\u001b[0;34m,\u001b[0m\u001b[0mcost\u001b[0m\u001b[0;34m,\u001b[0m\u001b[0mstakes\u001b[0m\u001b[0;34m,\u001b[0m\u001b[0mpre_acts\u001b[0m\u001b[0;34m+\u001b[0m\u001b[0mclick_sequence\u001b[0m\u001b[0;34m[\u001b[0m\u001b[0;34m:\u001b[0m\u001b[0mi\u001b[0m\u001b[0;34m]\u001b[0m\u001b[0;34m,\u001b[0m\u001b[0mclick_sequence\u001b[0m\u001b[0;34m[\u001b[0m\u001b[0mi\u001b[0m\u001b[0;34m:\u001b[0m\u001b[0;34m]\u001b[0m\u001b[0;34m)\u001b[0m\u001b[0;34m)\u001b[0m\u001b[0;34m\u001b[0m\u001b[0m\n\u001b[0m\u001b[1;32m     28\u001b[0m                     \u001b[0mdone\u001b[0m \u001b[0;34m=\u001b[0m \u001b[0mdone\u001b[0m \u001b[0;32mor\u001b[0m \u001b[0mwill_done\u001b[0m\u001b[0;34m\u001b[0m\u001b[0m\n\u001b[1;32m     29\u001b[0m                     \u001b[0;32mif\u001b[0m \u001b[0mdone\u001b[0m\u001b[0;34m:\u001b[0m\u001b[0;34m\u001b[0m\u001b[0m\n",
      "\u001b[0;32m<ipython-input-452-e67b0f4cfabe>\u001b[0m in \u001b[0;36mparse_options_clean\u001b[0;34m(init_state, dist, cost, stakes, pre_acts, click_sequence)\u001b[0m\n\u001b[1;32m     25\u001b[0m             \u001b[0;32mfor\u001b[0m \u001b[0minst\u001b[0m \u001b[0;32min\u001b[0m \u001b[0moption_insts\u001b[0m\u001b[0;34m[\u001b[0m\u001b[0moption\u001b[0m\u001b[0;34m]\u001b[0m\u001b[0;34m:\u001b[0m\u001b[0;34m\u001b[0m\u001b[0m\n\u001b[1;32m     26\u001b[0m                 \u001b[0;32mif\u001b[0m \u001b[0mnp\u001b[0m\u001b[0;34m.\u001b[0m\u001b[0marray_equal\u001b[0m\u001b[0;34m(\u001b[0m\u001b[0mclick_sequence\u001b[0m\u001b[0;34m[\u001b[0m\u001b[0;34m:\u001b[0m\u001b[0mi\u001b[0m\u001b[0;34m]\u001b[0m\u001b[0;34m,\u001b[0m\u001b[0minst\u001b[0m\u001b[0;34m)\u001b[0m\u001b[0;34m:\u001b[0m\u001b[0;34m\u001b[0m\u001b[0m\n\u001b[0;32m---> 27\u001b[0;31m                     \u001b[0mwill_done\u001b[0m\u001b[0;34m,\u001b[0m \u001b[0mremaining\u001b[0m\u001b[0;34m,\u001b[0m \u001b[0mrem_likelihoods\u001b[0m \u001b[0;34m=\u001b[0m \u001b[0;34m(\u001b[0m\u001b[0mparse_options_clean\u001b[0m\u001b[0;34m(\u001b[0m\u001b[0minit_state\u001b[0m\u001b[0;34m,\u001b[0m\u001b[0mdist\u001b[0m\u001b[0;34m,\u001b[0m\u001b[0mcost\u001b[0m\u001b[0;34m,\u001b[0m\u001b[0mstakes\u001b[0m\u001b[0;34m,\u001b[0m\u001b[0mpre_acts\u001b[0m\u001b[0;34m+\u001b[0m\u001b[0mclick_sequence\u001b[0m\u001b[0;34m[\u001b[0m\u001b[0;34m:\u001b[0m\u001b[0mi\u001b[0m\u001b[0;34m]\u001b[0m\u001b[0;34m,\u001b[0m\u001b[0mclick_sequence\u001b[0m\u001b[0;34m[\u001b[0m\u001b[0mi\u001b[0m\u001b[0;34m:\u001b[0m\u001b[0;34m]\u001b[0m\u001b[0;34m)\u001b[0m\u001b[0;34m)\u001b[0m\u001b[0;34m\u001b[0m\u001b[0m\n\u001b[0m\u001b[1;32m     28\u001b[0m                     \u001b[0mdone\u001b[0m \u001b[0;34m=\u001b[0m \u001b[0mdone\u001b[0m \u001b[0;32mor\u001b[0m \u001b[0mwill_done\u001b[0m\u001b[0;34m\u001b[0m\u001b[0m\n\u001b[1;32m     29\u001b[0m                     \u001b[0;32mif\u001b[0m \u001b[0mdone\u001b[0m\u001b[0;34m:\u001b[0m\u001b[0;34m\u001b[0m\u001b[0m\n",
      "\u001b[0;32m<ipython-input-452-e67b0f4cfabe>\u001b[0m in \u001b[0;36mparse_options_clean\u001b[0;34m(init_state, dist, cost, stakes, pre_acts, click_sequence)\u001b[0m\n\u001b[1;32m      9\u001b[0m \u001b[0;34m\u001b[0m\u001b[0m\n\u001b[1;32m     10\u001b[0m         \u001b[0menvc\u001b[0m \u001b[0;34m=\u001b[0m \u001b[0mmake_env\u001b[0m\u001b[0;34m(\u001b[0m\u001b[0mgambles\u001b[0m\u001b[0;34m=\u001b[0m\u001b[0mint\u001b[0m\u001b[0;34m(\u001b[0m\u001b[0mlen\u001b[0m\u001b[0;34m(\u001b[0m\u001b[0minit_state\u001b[0m\u001b[0;34m)\u001b[0m\u001b[0;34m/\u001b[0m\u001b[0mlen\u001b[0m\u001b[0;34m(\u001b[0m\u001b[0mdist\u001b[0m\u001b[0;34m)\u001b[0m\u001b[0;34m)\u001b[0m\u001b[0;34m,\u001b[0m \u001b[0mground_truth\u001b[0m\u001b[0;34m=\u001b[0m\u001b[0minit_state\u001b[0m\u001b[0;34m,\u001b[0m \u001b[0mcost\u001b[0m\u001b[0;34m=\u001b[0m\u001b[0mcost\u001b[0m\u001b[0;34m,\u001b[0m \u001b[0mdist\u001b[0m\u001b[0;34m=\u001b[0m\u001b[0mdist\u001b[0m\u001b[0;34m,\u001b[0m \u001b[0mstakes\u001b[0m\u001b[0;34m=\u001b[0m\u001b[0mstakes\u001b[0m\u001b[0;34m)\u001b[0m\u001b[0;34m\u001b[0m\u001b[0m\n\u001b[0;32m---> 11\u001b[0;31m         \u001b[0menvc\u001b[0m\u001b[0;34m.\u001b[0m\u001b[0mreset\u001b[0m\u001b[0;34m(\u001b[0m\u001b[0;34m)\u001b[0m\u001b[0;34m\u001b[0m\u001b[0m\n\u001b[0m\u001b[1;32m     12\u001b[0m         \u001b[0;32mfor\u001b[0m \u001b[0ma\u001b[0m \u001b[0;32min\u001b[0m \u001b[0mpre_acts\u001b[0m\u001b[0;34m:\u001b[0m\u001b[0;34m\u001b[0m\u001b[0m\n\u001b[1;32m     13\u001b[0m             \u001b[0menvc\u001b[0m\u001b[0;34m.\u001b[0m\u001b[0m_step\u001b[0m\u001b[0;34m(\u001b[0m\u001b[0ma\u001b[0m\u001b[0;34m)\u001b[0m\u001b[0;34m\u001b[0m\u001b[0m\n",
      "\u001b[0;32m/usr/local/conda3/lib/python3.6/site-packages/gym/core.py\u001b[0m in \u001b[0;36mreset\u001b[0;34m(self)\u001b[0m\n\u001b[1;32m    102\u001b[0m             \u001b[0mspace\u001b[0m\u001b[0;34m.\u001b[0m\u001b[0;34m\u001b[0m\u001b[0m\n\u001b[1;32m    103\u001b[0m         \"\"\"\n\u001b[0;32m--> 104\u001b[0;31m         \u001b[0;32mreturn\u001b[0m \u001b[0mself\u001b[0m\u001b[0;34m.\u001b[0m\u001b[0m_reset\u001b[0m\u001b[0;34m(\u001b[0m\u001b[0;34m)\u001b[0m\u001b[0;34m\u001b[0m\u001b[0m\n\u001b[0m\u001b[1;32m    105\u001b[0m \u001b[0;34m\u001b[0m\u001b[0m\n\u001b[1;32m    106\u001b[0m     \u001b[0;32mdef\u001b[0m \u001b[0mrender\u001b[0m\u001b[0;34m(\u001b[0m\u001b[0mself\u001b[0m\u001b[0;34m,\u001b[0m \u001b[0mmode\u001b[0m\u001b[0;34m=\u001b[0m\u001b[0;34m'human'\u001b[0m\u001b[0;34m,\u001b[0m \u001b[0mclose\u001b[0m\u001b[0;34m=\u001b[0m\u001b[0;32mFalse\u001b[0m\u001b[0;34m)\u001b[0m\u001b[0;34m:\u001b[0m\u001b[0;34m\u001b[0m\u001b[0m\n",
      "\u001b[0;32m~/research/MCRL/python/oldmouselab.py\u001b[0m in \u001b[0;36m_reset\u001b[0;34m(self)\u001b[0m\n\u001b[1;32m     80\u001b[0m         \u001b[0;31m# todo: include max_mu\u001b[0m\u001b[0;34m\u001b[0m\u001b[0;34m\u001b[0m\u001b[0m\n\u001b[1;32m     81\u001b[0m         \u001b[0;31m# tmp: Works only for Normal\u001b[0m\u001b[0;34m\u001b[0m\u001b[0;34m\u001b[0m\u001b[0m\n\u001b[0;32m---> 82\u001b[0;31m         \u001b[0mself\u001b[0m\u001b[0;34m.\u001b[0m\u001b[0mvars\u001b[0m \u001b[0;34m=\u001b[0m \u001b[0mnp\u001b[0m\u001b[0;34m.\u001b[0m\u001b[0msum\u001b[0m\u001b[0;34m(\u001b[0m\u001b[0mself\u001b[0m\u001b[0;34m.\u001b[0m\u001b[0mdist\u001b[0m\u001b[0;34m**\u001b[0m\u001b[0;36m2\u001b[0m\u001b[0;34m*\u001b[0m\u001b[0mself\u001b[0m\u001b[0;34m.\u001b[0m\u001b[0mreward\u001b[0m\u001b[0;34m.\u001b[0m\u001b[0msigma\u001b[0m\u001b[0;34m**\u001b[0m\u001b[0;36m2\u001b[0m\u001b[0;34m)\u001b[0m\u001b[0;34m*\u001b[0m\u001b[0mnp\u001b[0m\u001b[0;34m.\u001b[0m\u001b[0mones\u001b[0m\u001b[0;34m(\u001b[0m\u001b[0mself\u001b[0m\u001b[0;34m.\u001b[0m\u001b[0mgambles\u001b[0m\u001b[0;34m)\u001b[0m\u001b[0;34m\u001b[0m\u001b[0m\n\u001b[0m\u001b[1;32m     83\u001b[0m         \u001b[0;32mreturn\u001b[0m \u001b[0mself\u001b[0m\u001b[0;34m.\u001b[0m\u001b[0m_state\u001b[0m\u001b[0;34m\u001b[0m\u001b[0m\n\u001b[1;32m     84\u001b[0m \u001b[0;34m\u001b[0m\u001b[0m\n",
      "\u001b[0;31mKeyboardInterrupt\u001b[0m: "
     ]
    }
   ],
   "source": [
    "for p in parts:\n",
    "    print(p)\n",
    "    r_lls.append(wrap_sum_ll(p, 1)) "
   ]
  },
  {
   "cell_type": "code",
   "execution_count": 467,
   "metadata": {
    "collapsed": true
   },
   "outputs": [],
   "source": [
    "import copy"
   ]
  },
  {
   "cell_type": "code",
   "execution_count": 484,
   "metadata": {},
   "outputs": [],
   "source": [
    "sm = []\n",
    "probses = []\n",
    "for p in parts:\n",
    "    data = participants[p]\n",
    "    probs = []\n",
    "    for episode in data:\n",
    "        env, trial = copy.deepcopy(episode)\n",
    "        trial = trial+[env.term_action]\n",
    "        prob = 1\n",
    "        for a in trial:\n",
    "            prob*=1/len(list(env.actions(env._state)))\n",
    "            env.step(a)\n",
    "        probs.append(prob)\n",
    "    probses.append(probs)\n",
    "    sm.append(np.log(np.prod(probs,dtype=np.float128)))"
   ]
  },
  {
   "cell_type": "code",
   "execution_count": 485,
   "metadata": {},
   "outputs": [
    {
     "data": {
      "text/plain": [
       "[-186.55834681360302311,\n",
       " -415.12751293373600731,\n",
       " -70.678121109904684723,\n",
       " -269.90022346988832957,\n",
       " -332.40046656027136032,\n",
       " -544.22860194363583153,\n",
       " -367.93190724044591827,\n",
       " -604.88842103788115451,\n",
       " -699.18599455266860304,\n",
       " -368.96539752421140998,\n",
       " -477.4026441600996836,\n",
       " -264.48320406059489088,\n",
       " -309.06162849099231921,\n",
       " -362.6437923369705536,\n",
       " -437.20247861513427032,\n",
       " -635.32149497810598932,\n",
       " -518.48020379822771114,\n",
       " -241.26216802811697945,\n",
       " -299.60304601143091582,\n",
       " -811.7387036083828849,\n",
       " -423.62852893787495362,\n",
       " -369.38272348910061471,\n",
       " -512.82979066147810449,\n",
       " -878.78139886530327196,\n",
       " -775.38099358642899139,\n",
       " -353.0087121339904298,\n",
       " -571.39323974953368851,\n",
       " -348.52075937464472974,\n",
       " -651.34221470543643345,\n",
       " -415.88107843705621675,\n",
       " -357.1071282779744463,\n",
       " -242.18651846163371365,\n",
       " -536.46259057272865284,\n",
       " -695.00122544843192379,\n",
       " -67.345916599729480821,\n",
       " -199.06219041377048633,\n",
       " -67.345916599729480821,\n",
       " -474.68551317219129951,\n",
       " -556.77453242340562278,\n",
       " -603.44330387224859058,\n",
       " -590.55440057366594331,\n",
       " -644.62583393842233398,\n",
       " -583.69964731826255222,\n",
       " -239.89854950250164267,\n",
       " -583.97098548917566735,\n",
       " -417.35393154640452923,\n",
       " -67.345916599729480821,\n",
       " -841.53727429893264456,\n",
       " -251.64692147427536952,\n",
       " -550.0790209167650136,\n",
       " -212.86364961944037558,\n",
       " -448.99137192329128476,\n",
       " -406.17946794683516559,\n",
       " -363.16395612297673051,\n",
       " -83.628984169146642222,\n",
       " -659.40615244990823224,\n",
       " -656.7229405069761663,\n",
       " -708.92448223526296019,\n",
       " -74.010325620079888617,\n",
       " -486.99292568798230157,\n",
       " -383.04970230673947368,\n",
       " -497.7825423546295161,\n",
       " -791.26255644895408525,\n",
       " -263.95304139989413705,\n",
       " -381.84492198744228425,\n",
       " -250.25927097980552882,\n",
       " -487.72020549134929132,\n",
       " -352.07061430191416423,\n",
       " -569.82723207608176019,\n",
       " -305.69804173913481593,\n",
       " -502.49751976097936099,\n",
       " -658.90846876788333769,\n",
       " -569.76951696116866147,\n",
       " -434.45801962872990423,\n",
       " -343.68618024081067533,\n",
       " -431.54858195392092748,\n",
       " -675.17023635926402886,\n",
       " -391.35046705343204446,\n",
       " -292.7109750816301528,\n",
       " -196.24320211749988047,\n",
       " -733.28653918249239424,\n",
       " -500.57764315524174309,\n",
       " -90.411176225153433501,\n",
       " -342.21034847897220094,\n",
       " -600.22533792875906483,\n",
       " -103.14797123496404857,\n",
       " -730.56286640238772973,\n",
       " -470.48346408860045897,\n",
       " -561.61771496199946241,\n",
       " -575.60047203016200595,\n",
       " -441.56769298720393474,\n",
       " -372.76536249253400843,\n",
       " -148.72283509909262815,\n",
       " -746.24334797154483145,\n",
       " -509.54985533763940975,\n",
       " -720.95541428776632548,\n",
       " -365.36881145163370468,\n",
       " -600.13836171517303431,\n",
       " -480.95552677007896472,\n",
       " -523.90501027842477411]"
      ]
     },
     "execution_count": 485,
     "metadata": {},
     "output_type": "execute_result"
    }
   ],
   "source": [
    "sm"
   ]
  },
  {
   "cell_type": "code",
   "execution_count": 490,
   "metadata": {},
   "outputs": [
    {
     "data": {
      "text/plain": [
       "-44586.332420088116766"
      ]
     },
     "execution_count": 490,
     "metadata": {},
     "output_type": "execute_result"
    }
   ],
   "source": [
    "np.sum(sm)"
   ]
  },
  {
   "cell_type": "code",
   "execution_count": 491,
   "metadata": {},
   "outputs": [
    {
     "ename": "KeyboardInterrupt",
     "evalue": "",
     "output_type": "error",
     "traceback": [
      "\u001b[0;31m---------------------------------------------------------------------------\u001b[0m",
      "\u001b[0;31mKeyboardInterrupt\u001b[0m                         Traceback (most recent call last)",
      "\u001b[0;32m<ipython-input-491-cadce60f57ae>\u001b[0m in \u001b[0;36m<module>\u001b[0;34m()\u001b[0m\n\u001b[0;32m----> 1\u001b[0;31m \u001b[0;34m[\u001b[0m\u001b[0mdc_log_likelihood\u001b[0m\u001b[0;34m(\u001b[0m\u001b[0menv\u001b[0m\u001b[0;34m,\u001b[0m \u001b[0mtrial\u001b[0m\u001b[0;34m,\u001b[0m \u001b[0mp_error\u001b[0m\u001b[0;34m)\u001b[0m \u001b[0;32mfor\u001b[0m \u001b[0menv\u001b[0m\u001b[0;34m,\u001b[0m\u001b[0mtrial\u001b[0m \u001b[0;32min\u001b[0m \u001b[0mparticipants\u001b[0m\u001b[0;34m[\u001b[0m\u001b[0mparts\u001b[0m\u001b[0;34m[\u001b[0m\u001b[0;36m93\u001b[0m\u001b[0;34m]\u001b[0m\u001b[0;34m]\u001b[0m\u001b[0;34m]\u001b[0m\u001b[0;34m\u001b[0m\u001b[0m\n\u001b[0m",
      "\u001b[0;32m<ipython-input-491-cadce60f57ae>\u001b[0m in \u001b[0;36m<listcomp>\u001b[0;34m(.0)\u001b[0m\n\u001b[0;32m----> 1\u001b[0;31m \u001b[0;34m[\u001b[0m\u001b[0mdc_log_likelihood\u001b[0m\u001b[0;34m(\u001b[0m\u001b[0menv\u001b[0m\u001b[0;34m,\u001b[0m \u001b[0mtrial\u001b[0m\u001b[0;34m,\u001b[0m \u001b[0mp_error\u001b[0m\u001b[0;34m)\u001b[0m \u001b[0;32mfor\u001b[0m \u001b[0menv\u001b[0m\u001b[0;34m,\u001b[0m\u001b[0mtrial\u001b[0m \u001b[0;32min\u001b[0m \u001b[0mparticipants\u001b[0m\u001b[0;34m[\u001b[0m\u001b[0mparts\u001b[0m\u001b[0;34m[\u001b[0m\u001b[0;36m93\u001b[0m\u001b[0;34m]\u001b[0m\u001b[0;34m]\u001b[0m\u001b[0;34m]\u001b[0m\u001b[0;34m\u001b[0m\u001b[0m\n\u001b[0m",
      "\u001b[0;32m<ipython-input-460-cd023547431c>\u001b[0m in \u001b[0;36mdc_log_likelihood\u001b[0;34m(env, trial, p_error)\u001b[0m\n\u001b[1;32m      1\u001b[0m \u001b[0;32mdef\u001b[0m \u001b[0mdc_log_likelihood\u001b[0m\u001b[0;34m(\u001b[0m\u001b[0menv\u001b[0m\u001b[0;34m,\u001b[0m \u001b[0mtrial\u001b[0m\u001b[0;34m,\u001b[0m \u001b[0mp_error\u001b[0m\u001b[0;34m)\u001b[0m\u001b[0;34m:\u001b[0m\u001b[0;34m\u001b[0m\u001b[0m\n\u001b[0;32m----> 2\u001b[0;31m     \u001b[0mdone\u001b[0m\u001b[0;34m,\u001b[0m \u001b[0moption_seqs\u001b[0m\u001b[0;34m,\u001b[0m \u001b[0mlikelihoods\u001b[0m \u001b[0;34m=\u001b[0m \u001b[0mwrap_po\u001b[0m\u001b[0;34m(\u001b[0m\u001b[0menv\u001b[0m\u001b[0;34m,\u001b[0m\u001b[0mtrial\u001b[0m\u001b[0;34m,\u001b[0m\u001b[0mp_rand\u001b[0m\u001b[0;34m=\u001b[0m\u001b[0mp_error\u001b[0m\u001b[0;34m)\u001b[0m\u001b[0;34m\u001b[0m\u001b[0m\n\u001b[0m\u001b[1;32m      3\u001b[0m     \u001b[0;32mreturn\u001b[0m \u001b[0mnp\u001b[0m\u001b[0;34m.\u001b[0m\u001b[0mlog\u001b[0m\u001b[0;34m(\u001b[0m\u001b[0mnp\u001b[0m\u001b[0;34m.\u001b[0m\u001b[0msum\u001b[0m\u001b[0;34m(\u001b[0m\u001b[0mlikelihoods\u001b[0m\u001b[0;34m)\u001b[0m\u001b[0;34m)\u001b[0m\u001b[0;34m\u001b[0m\u001b[0m\n",
      "\u001b[0;32m<ipython-input-452-e67b0f4cfabe>\u001b[0m in \u001b[0;36mwrap_po\u001b[0;34m(env, click_sequence, p_rand)\u001b[0m\n\u001b[1;32m     37\u001b[0m     \u001b[0;32mif\u001b[0m \u001b[0mclick_sequence\u001b[0m \u001b[0;34m==\u001b[0m \u001b[0;34m[\u001b[0m\u001b[0;34m]\u001b[0m \u001b[0;32mor\u001b[0m \u001b[0mclick_sequence\u001b[0m\u001b[0;34m[\u001b[0m\u001b[0;34m-\u001b[0m\u001b[0;36m1\u001b[0m\u001b[0;34m]\u001b[0m \u001b[0;34m!=\u001b[0m \u001b[0menv\u001b[0m\u001b[0;34m.\u001b[0m\u001b[0mterm_action\u001b[0m\u001b[0;34m:\u001b[0m\u001b[0;34m\u001b[0m\u001b[0m\n\u001b[1;32m     38\u001b[0m         \u001b[0mclick_sequence\u001b[0m \u001b[0;34m=\u001b[0m \u001b[0mclick_sequence\u001b[0m\u001b[0;34m+\u001b[0m\u001b[0;34m[\u001b[0m\u001b[0menv\u001b[0m\u001b[0;34m.\u001b[0m\u001b[0mterm_action\u001b[0m\u001b[0;34m]\u001b[0m\u001b[0;34m\u001b[0m\u001b[0m\n\u001b[0;32m---> 39\u001b[0;31m     \u001b[0;32mreturn\u001b[0m \u001b[0mparse_options_clean\u001b[0m\u001b[0;34m(\u001b[0m\u001b[0menv\u001b[0m\u001b[0;34m.\u001b[0m\u001b[0mground_truth\u001b[0m\u001b[0;34m,\u001b[0m\u001b[0menv\u001b[0m\u001b[0;34m.\u001b[0m\u001b[0mdist\u001b[0m\u001b[0;34m,\u001b[0m\u001b[0menv\u001b[0m\u001b[0;34m.\u001b[0m\u001b[0mcost\u001b[0m\u001b[0;34m,\u001b[0m\u001b[0mstakes\u001b[0m\u001b[0;34m,\u001b[0m\u001b[0;34m[\u001b[0m\u001b[0;34m]\u001b[0m\u001b[0;34m,\u001b[0m\u001b[0mclick_sequence\u001b[0m\u001b[0;34m)\u001b[0m\u001b[0;34m\u001b[0m\u001b[0m\n\u001b[0m",
      "\u001b[0;32m<ipython-input-452-e67b0f4cfabe>\u001b[0m in \u001b[0;36mparse_options_clean\u001b[0;34m(init_state, dist, cost, stakes, pre_acts, click_sequence)\u001b[0m\n\u001b[1;32m     25\u001b[0m             \u001b[0;32mfor\u001b[0m \u001b[0minst\u001b[0m \u001b[0;32min\u001b[0m \u001b[0moption_insts\u001b[0m\u001b[0;34m[\u001b[0m\u001b[0moption\u001b[0m\u001b[0;34m]\u001b[0m\u001b[0;34m:\u001b[0m\u001b[0;34m\u001b[0m\u001b[0m\n\u001b[1;32m     26\u001b[0m                 \u001b[0;32mif\u001b[0m \u001b[0mnp\u001b[0m\u001b[0;34m.\u001b[0m\u001b[0marray_equal\u001b[0m\u001b[0;34m(\u001b[0m\u001b[0mclick_sequence\u001b[0m\u001b[0;34m[\u001b[0m\u001b[0;34m:\u001b[0m\u001b[0mi\u001b[0m\u001b[0;34m]\u001b[0m\u001b[0;34m,\u001b[0m\u001b[0minst\u001b[0m\u001b[0;34m)\u001b[0m\u001b[0;34m:\u001b[0m\u001b[0;34m\u001b[0m\u001b[0m\n\u001b[0;32m---> 27\u001b[0;31m                     \u001b[0mwill_done\u001b[0m\u001b[0;34m,\u001b[0m \u001b[0mremaining\u001b[0m\u001b[0;34m,\u001b[0m \u001b[0mrem_likelihoods\u001b[0m \u001b[0;34m=\u001b[0m \u001b[0;34m(\u001b[0m\u001b[0mparse_options_clean\u001b[0m\u001b[0;34m(\u001b[0m\u001b[0minit_state\u001b[0m\u001b[0;34m,\u001b[0m\u001b[0mdist\u001b[0m\u001b[0;34m,\u001b[0m\u001b[0mcost\u001b[0m\u001b[0;34m,\u001b[0m\u001b[0mstakes\u001b[0m\u001b[0;34m,\u001b[0m\u001b[0mpre_acts\u001b[0m\u001b[0;34m+\u001b[0m\u001b[0mclick_sequence\u001b[0m\u001b[0;34m[\u001b[0m\u001b[0;34m:\u001b[0m\u001b[0mi\u001b[0m\u001b[0;34m]\u001b[0m\u001b[0;34m,\u001b[0m\u001b[0mclick_sequence\u001b[0m\u001b[0;34m[\u001b[0m\u001b[0mi\u001b[0m\u001b[0;34m:\u001b[0m\u001b[0;34m]\u001b[0m\u001b[0;34m)\u001b[0m\u001b[0;34m)\u001b[0m\u001b[0;34m\u001b[0m\u001b[0m\n\u001b[0m\u001b[1;32m     28\u001b[0m                     \u001b[0mdone\u001b[0m \u001b[0;34m=\u001b[0m \u001b[0mdone\u001b[0m \u001b[0;32mor\u001b[0m \u001b[0mwill_done\u001b[0m\u001b[0;34m\u001b[0m\u001b[0m\n\u001b[1;32m     29\u001b[0m                     \u001b[0;32mif\u001b[0m \u001b[0mdone\u001b[0m\u001b[0;34m:\u001b[0m\u001b[0;34m\u001b[0m\u001b[0m\n",
      "\u001b[0;32m<ipython-input-452-e67b0f4cfabe>\u001b[0m in \u001b[0;36mparse_options_clean\u001b[0;34m(init_state, dist, cost, stakes, pre_acts, click_sequence)\u001b[0m\n\u001b[1;32m     25\u001b[0m             \u001b[0;32mfor\u001b[0m \u001b[0minst\u001b[0m \u001b[0;32min\u001b[0m \u001b[0moption_insts\u001b[0m\u001b[0;34m[\u001b[0m\u001b[0moption\u001b[0m\u001b[0;34m]\u001b[0m\u001b[0;34m:\u001b[0m\u001b[0;34m\u001b[0m\u001b[0m\n\u001b[1;32m     26\u001b[0m                 \u001b[0;32mif\u001b[0m \u001b[0mnp\u001b[0m\u001b[0;34m.\u001b[0m\u001b[0marray_equal\u001b[0m\u001b[0;34m(\u001b[0m\u001b[0mclick_sequence\u001b[0m\u001b[0;34m[\u001b[0m\u001b[0;34m:\u001b[0m\u001b[0mi\u001b[0m\u001b[0;34m]\u001b[0m\u001b[0;34m,\u001b[0m\u001b[0minst\u001b[0m\u001b[0;34m)\u001b[0m\u001b[0;34m:\u001b[0m\u001b[0;34m\u001b[0m\u001b[0m\n\u001b[0;32m---> 27\u001b[0;31m                     \u001b[0mwill_done\u001b[0m\u001b[0;34m,\u001b[0m \u001b[0mremaining\u001b[0m\u001b[0;34m,\u001b[0m \u001b[0mrem_likelihoods\u001b[0m \u001b[0;34m=\u001b[0m \u001b[0;34m(\u001b[0m\u001b[0mparse_options_clean\u001b[0m\u001b[0;34m(\u001b[0m\u001b[0minit_state\u001b[0m\u001b[0;34m,\u001b[0m\u001b[0mdist\u001b[0m\u001b[0;34m,\u001b[0m\u001b[0mcost\u001b[0m\u001b[0;34m,\u001b[0m\u001b[0mstakes\u001b[0m\u001b[0;34m,\u001b[0m\u001b[0mpre_acts\u001b[0m\u001b[0;34m+\u001b[0m\u001b[0mclick_sequence\u001b[0m\u001b[0;34m[\u001b[0m\u001b[0;34m:\u001b[0m\u001b[0mi\u001b[0m\u001b[0;34m]\u001b[0m\u001b[0;34m,\u001b[0m\u001b[0mclick_sequence\u001b[0m\u001b[0;34m[\u001b[0m\u001b[0mi\u001b[0m\u001b[0;34m:\u001b[0m\u001b[0;34m]\u001b[0m\u001b[0;34m)\u001b[0m\u001b[0;34m)\u001b[0m\u001b[0;34m\u001b[0m\u001b[0m\n\u001b[0m\u001b[1;32m     28\u001b[0m                     \u001b[0mdone\u001b[0m \u001b[0;34m=\u001b[0m \u001b[0mdone\u001b[0m \u001b[0;32mor\u001b[0m \u001b[0mwill_done\u001b[0m\u001b[0;34m\u001b[0m\u001b[0m\n\u001b[1;32m     29\u001b[0m                     \u001b[0;32mif\u001b[0m \u001b[0mdone\u001b[0m\u001b[0;34m:\u001b[0m\u001b[0;34m\u001b[0m\u001b[0m\n",
      "\u001b[0;32m<ipython-input-452-e67b0f4cfabe>\u001b[0m in \u001b[0;36mparse_options_clean\u001b[0;34m(init_state, dist, cost, stakes, pre_acts, click_sequence)\u001b[0m\n\u001b[1;32m     25\u001b[0m             \u001b[0;32mfor\u001b[0m \u001b[0minst\u001b[0m \u001b[0;32min\u001b[0m \u001b[0moption_insts\u001b[0m\u001b[0;34m[\u001b[0m\u001b[0moption\u001b[0m\u001b[0;34m]\u001b[0m\u001b[0;34m:\u001b[0m\u001b[0;34m\u001b[0m\u001b[0m\n\u001b[1;32m     26\u001b[0m                 \u001b[0;32mif\u001b[0m \u001b[0mnp\u001b[0m\u001b[0;34m.\u001b[0m\u001b[0marray_equal\u001b[0m\u001b[0;34m(\u001b[0m\u001b[0mclick_sequence\u001b[0m\u001b[0;34m[\u001b[0m\u001b[0;34m:\u001b[0m\u001b[0mi\u001b[0m\u001b[0;34m]\u001b[0m\u001b[0;34m,\u001b[0m\u001b[0minst\u001b[0m\u001b[0;34m)\u001b[0m\u001b[0;34m:\u001b[0m\u001b[0;34m\u001b[0m\u001b[0m\n\u001b[0;32m---> 27\u001b[0;31m                     \u001b[0mwill_done\u001b[0m\u001b[0;34m,\u001b[0m \u001b[0mremaining\u001b[0m\u001b[0;34m,\u001b[0m \u001b[0mrem_likelihoods\u001b[0m \u001b[0;34m=\u001b[0m \u001b[0;34m(\u001b[0m\u001b[0mparse_options_clean\u001b[0m\u001b[0;34m(\u001b[0m\u001b[0minit_state\u001b[0m\u001b[0;34m,\u001b[0m\u001b[0mdist\u001b[0m\u001b[0;34m,\u001b[0m\u001b[0mcost\u001b[0m\u001b[0;34m,\u001b[0m\u001b[0mstakes\u001b[0m\u001b[0;34m,\u001b[0m\u001b[0mpre_acts\u001b[0m\u001b[0;34m+\u001b[0m\u001b[0mclick_sequence\u001b[0m\u001b[0;34m[\u001b[0m\u001b[0;34m:\u001b[0m\u001b[0mi\u001b[0m\u001b[0;34m]\u001b[0m\u001b[0;34m,\u001b[0m\u001b[0mclick_sequence\u001b[0m\u001b[0;34m[\u001b[0m\u001b[0mi\u001b[0m\u001b[0;34m:\u001b[0m\u001b[0;34m]\u001b[0m\u001b[0;34m)\u001b[0m\u001b[0;34m)\u001b[0m\u001b[0;34m\u001b[0m\u001b[0m\n\u001b[0m\u001b[1;32m     28\u001b[0m                     \u001b[0mdone\u001b[0m \u001b[0;34m=\u001b[0m \u001b[0mdone\u001b[0m \u001b[0;32mor\u001b[0m \u001b[0mwill_done\u001b[0m\u001b[0;34m\u001b[0m\u001b[0m\n\u001b[1;32m     29\u001b[0m                     \u001b[0;32mif\u001b[0m \u001b[0mdone\u001b[0m\u001b[0;34m:\u001b[0m\u001b[0;34m\u001b[0m\u001b[0m\n",
      "\u001b[0;32m<ipython-input-452-e67b0f4cfabe>\u001b[0m in \u001b[0;36mparse_options_clean\u001b[0;34m(init_state, dist, cost, stakes, pre_acts, click_sequence)\u001b[0m\n\u001b[1;32m     31\u001b[0m                             \u001b[0moption_seqs\u001b[0m\u001b[0;34m.\u001b[0m\u001b[0mappend\u001b[0m\u001b[0;34m(\u001b[0m\u001b[0;34m[\u001b[0m\u001b[0moption\u001b[0m\u001b[0;34m]\u001b[0m\u001b[0;34m+\u001b[0m\u001b[0mremaining\u001b[0m\u001b[0;34m[\u001b[0m\u001b[0mk\u001b[0m\u001b[0;34m]\u001b[0m\u001b[0;34m)\u001b[0m\u001b[0;34m\u001b[0m\u001b[0m\n\u001b[1;32m     32\u001b[0m                             \u001b[0ml_opt_seq\u001b[0m \u001b[0;34m=\u001b[0m \u001b[0;34m(\u001b[0m\u001b[0;36m1\u001b[0m\u001b[0;34m-\u001b[0m\u001b[0mp_rand\u001b[0m\u001b[0;34m)\u001b[0m\u001b[0;34m*\u001b[0m\u001b[0mbeta\u001b[0m \u001b[0;34m+\u001b[0m \u001b[0mp_rand\u001b[0m\u001b[0;34m*\u001b[0m\u001b[0malpha\u001b[0m\u001b[0;34m\u001b[0m\u001b[0m\n\u001b[0;32m---> 33\u001b[0;31m                             \u001b[0mlikelihoods\u001b[0m\u001b[0;34m.\u001b[0m\u001b[0mappend\u001b[0m\u001b[0;34m(\u001b[0m\u001b[0ml_opt_seq\u001b[0m\u001b[0;34m*\u001b[0m\u001b[0mrem_likelihoods\u001b[0m\u001b[0;34m[\u001b[0m\u001b[0mk\u001b[0m\u001b[0;34m]\u001b[0m\u001b[0;34m/\u001b[0m\u001b[0mn_insts\u001b[0m\u001b[0;34m)\u001b[0m\u001b[0;34m\u001b[0m\u001b[0m\n\u001b[0m\u001b[1;32m     34\u001b[0m         \u001b[0mmemo\u001b[0m\u001b[0;34m[\u001b[0m\u001b[0;34m(\u001b[0m\u001b[0mtuple\u001b[0m\u001b[0;34m(\u001b[0m\u001b[0mpre_acts\u001b[0m\u001b[0;34m)\u001b[0m\u001b[0;34m,\u001b[0m\u001b[0mtuple\u001b[0m\u001b[0;34m(\u001b[0m\u001b[0mclick_sequence\u001b[0m\u001b[0;34m)\u001b[0m\u001b[0;34m)\u001b[0m\u001b[0;34m]\u001b[0m \u001b[0;34m=\u001b[0m \u001b[0mdone\u001b[0m\u001b[0;34m,\u001b[0m \u001b[0moption_seqs\u001b[0m\u001b[0;34m,\u001b[0m \u001b[0mlikelihoods\u001b[0m\u001b[0;34m\u001b[0m\u001b[0m\n\u001b[1;32m     35\u001b[0m         \u001b[0;32mreturn\u001b[0m \u001b[0mdone\u001b[0m\u001b[0;34m,\u001b[0m \u001b[0moption_seqs\u001b[0m\u001b[0;34m,\u001b[0m \u001b[0mlikelihoods\u001b[0m\u001b[0;34m\u001b[0m\u001b[0m\n",
      "\u001b[0;31mKeyboardInterrupt\u001b[0m: "
     ]
    }
   ],
   "source": [
    "[dc_log_likelihood(env, trial, p_error) for env,trial in participants[parts[93]]]"
   ]
  },
  {
   "cell_type": "code",
   "execution_count": 475,
   "metadata": {
    "collapsed": true
   },
   "outputs": [],
   "source": [
    "def mle(data):\n",
    "# You can adjust the temperature bounds if you think the MLE\n",
    "# is not in the bounds below. Don't change the p_error bounds.\n",
    "    bounds = [\n",
    "        (0, 0.25)  # p_error\n",
    "    ]\n",
    "    def loss(x):\n",
    "        temp, p_error = x\n",
    "        return -sum(dc_log_likelihood(env, trial, p_error)\n",
    "                    for env, trial in data)\n",
    "    res = scipy.optimize.minimize(loss, (.01,),bounds = bounds,\n",
    "                                 options={'maxiter':100,'disp':True})\n",
    "    p_error = res.x\n",
    "    return {'p_error': res.x[1], 'logp': -res.fun}"
   ]
  },
  {
   "cell_type": "code",
   "execution_count": null,
   "metadata": {
    "collapsed": true
   },
   "outputs": [],
   "source": [
    "def mle_wrap(p):\n",
    "    print(p)\n",
    "    d = mle(participants[p])\n",
    "    d['participant'] = p\n",
    "    return d"
   ]
  },
  {
   "cell_type": "code",
   "execution_count": null,
   "metadata": {
    "collapsed": true
   },
   "outputs": [],
   "source": [
    "mles = Parallel(n_jobs=60)(delayed(mle_wrap)(p)\n",
    "                           for p in participants.keys())"
   ]
  }
 ],
 "metadata": {
  "kernelspec": {
   "display_name": "Python 3",
   "language": "python",
   "name": "python3"
  },
  "language_info": {
   "codemirror_mode": {
    "name": "ipython",
    "version": 3
   },
   "file_extension": ".py",
   "mimetype": "text/x-python",
   "name": "python",
   "nbconvert_exporter": "python",
   "pygments_lexer": "ipython3",
   "version": "3.6.4"
  }
 },
 "nbformat": 4,
 "nbformat_minor": 2
}
