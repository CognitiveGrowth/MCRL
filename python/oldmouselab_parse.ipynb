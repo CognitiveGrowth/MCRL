{
 "cells": [
  {
   "cell_type": "code",
   "execution_count": 1,
   "metadata": {},
   "outputs": [],
   "source": [
    "%matplotlib inline\n",
    "import matplotlib.pyplot as plt\n",
    "import numpy as np\n",
    "import pandas as pd\n",
    "import seaborn as sns\n",
    "import scipy.stats\n",
    "from scipy.stats import norm\n",
    "import scipy.integrate as integrate\n",
    "\n",
    "import gym\n",
    "from gym import spaces\n",
    "\n",
    "import random\n",
    "import itertools as it\n",
    "from joblib import Parallel, delayed\n",
    "from toolz import memoize\n",
    "from contracts import contract\n",
    "from collections import namedtuple, defaultdict, deque, Counter\n",
    "\n",
    "import warnings\n",
    "warnings.filterwarnings(\"ignore\", \n",
    "                        message=\"The objective has been evaluated at this point before.\")\n",
    "\n",
    "from agents import Agent\n",
    "from oldmouselab import OldMouselabEnv\n",
    "from policies import FixedPlanPolicy, LiederPolicy\n",
    "from evaluation import *\n",
    "from omdc_util import *\n",
    "from distributions import cmax, smax, sample, expectation, Normal, PointMass, SampleDist, Normal, Categorical"
   ]
  },
  {
   "cell_type": "code",
   "execution_count": 2,
   "metadata": {
    "collapsed": true
   },
   "outputs": [],
   "source": [
    "def hd_dist(attributes):\n",
    "    dist = [1,]*attributes\n",
    "    dist[0] = np.random.randint(85,97)\n",
    "    for i in range(1,attributes-1):\n",
    "        dist[i] += np.random.randint(0,100-np.sum(dist))\n",
    "    dist[-1] += 100-np.sum(dist)\n",
    "    dist = np.around(np.array(dist)/100,decimals=2)\n",
    "    np.random.shuffle(dist)\n",
    "    return dist\n",
    "\n",
    "def ld_dist(attributes):\n",
    "    constrain = True\n",
    "    while constrain:\n",
    "        dist = [np.random.randint(10,50) for _ in range(attributes)]\n",
    "        dist = np.around(np.array(dist)/sum(dist),decimals=2)\n",
    "        constrain = np.min(dist) <= 0.10 or np.max(dist) >= 0.40\n",
    "    np.random.shuffle(dist)\n",
    "    return dist"
   ]
  },
  {
   "cell_type": "code",
   "execution_count": 3,
   "metadata": {
    "collapsed": true
   },
   "outputs": [],
   "source": [
    "gambles = 7\n",
    "attributes = 4\n",
    "high_stakes = Normal((9.99+0.01)/2, 0.3*(9.99-0.01))\n",
    "low_stakes = Normal((0.25+0.01)/2, 0.3*(0.25-0.01))\n",
    "reward = high_stakes\n",
    "cost=.03\n",
    "\n",
    "#set to 20 for sanity check\n",
    "n_train = 20\n",
    "n_test = 20\n",
    "\n",
    "train_envs_hd = [OldMouselabEnv(gambles, hd_dist(attributes), reward, cost) for _ in range(n_train)]\n",
    "train_envs_ld = [OldMouselabEnv(gambles, ld_dist(attributes), reward, cost) for _ in range(n_train)]\n",
    "train_envs = train_envs_hd+train_envs_ld \n",
    "\n",
    "test_envs_hd =  [OldMouselabEnv(gambles, hd_dist(attributes), reward, cost) for _ in range(n_train)]\n",
    "test_envs_ld = [OldMouselabEnv(gambles, ld_dist(attributes), reward, cost) for _ in range(n_train)]\n",
    "test_envs = test_envs_hd+test_envs_ld \n",
    "\n",
    "term_action = train_envs[0].term_action"
   ]
  },
  {
   "cell_type": "code",
   "execution_count": 4,
   "metadata": {
    "collapsed": true
   },
   "outputs": [],
   "source": [
    "bo_pol_theta = np.load('data/high_stakes_3cents.npy')\n",
    "bo_pol = LiederPolicy(list(bo_pol_theta))"
   ]
  },
  {
   "cell_type": "code",
   "execution_count": 5,
   "metadata": {
    "collapsed": true
   },
   "outputs": [],
   "source": [
    "agent = Agent()\n",
    "def run_env(policy, env):\n",
    "    agent.register(env)\n",
    "    agent.register(policy)\n",
    "    tr = agent.run_episode()\n",
    "#     print(tr)\n",
    "    return {'util': tr['return'], 'actions': tr['actions'],\n",
    "            'observations': len(tr['actions']) - 1, 'ground_truth': env.ground_truth}\n",
    "\n",
    "def action_coordinate(env, action):\n",
    "    return (action//env.outcomes,action%env.outcomes)\n",
    "\n",
    "def p_grid(env, actions):\n",
    "    grid = np.zeros((env.gambles+1,env.outcomes))\n",
    "    grid[0,:] = env.dist\n",
    "    for i in range(len(actions[:-1])):\n",
    "        gamble, outcome = action_coordinate(env,actions[i]) \n",
    "        grid[gamble+1, outcome] = i+1\n",
    "    return grid"
   ]
  },
  {
   "cell_type": "markdown",
   "metadata": {},
   "source": [
    "# BMPS Run"
   ]
  },
  {
   "cell_type": "code",
   "execution_count": 19,
   "metadata": {},
   "outputs": [
    {
     "data": {
      "text/plain": [
       "{'actions': [2,\n",
       "  6,\n",
       "  10,\n",
       "  14,\n",
       "  18,\n",
       "  22,\n",
       "  26,\n",
       "  9,\n",
       "  25,\n",
       "  11,\n",
       "  27,\n",
       "  8,\n",
       "  13,\n",
       "  21,\n",
       "  23,\n",
       "  20,\n",
       "  15,\n",
       "  24,\n",
       "  1,\n",
       "  3,\n",
       "  5,\n",
       "  28],\n",
       " 'ground_truth': array([ -0.54 ,   6.997,   3.468,   3.171,  10.512,   3.075,   3.225,   5.417,   2.533,   8.301,   5.649,   2.666,   4.335,   4.55 ,   4.328,   5.184,  12.329,   3.819,   1.904,   5.086,   2.257,\n",
       "          6.948,   4.081,   4.633,   6.33 ,   3.996,   8.754,   3.026]),\n",
       " 'observations': 21,\n",
       " 'util': 4.9380335869757719}"
      ]
     },
     "execution_count": 19,
     "metadata": {},
     "output_type": "execute_result"
    }
   ],
   "source": [
    "train_envs[21].reset()\n",
    "trace = run_env(bo_pol, train_envs[21])\n",
    "trace"
   ]
  },
  {
   "cell_type": "code",
   "execution_count": 20,
   "metadata": {},
   "outputs": [
    {
     "data": {
      "text/plain": [
       "array([ 0.17,  0.27,  0.3 ,  0.26])"
      ]
     },
     "execution_count": 20,
     "metadata": {},
     "output_type": "execute_result"
    }
   ],
   "source": [
    "train_envs[21].dist"
   ]
  },
  {
   "cell_type": "code",
   "execution_count": 21,
   "metadata": {},
   "outputs": [
    {
     "data": {
      "text/plain": [
       "array([[Norm(5.00, 2.99), 6.9968832316956426, 3.4679869287369995, 3.1705854226419756],\n",
       "       [Norm(5.00, 2.99), 3.0754120800467213, 3.2250433259077607, Norm(5.00, 2.99)],\n",
       "       [2.5333603734218157, 8.3006676078030939, 5.6486372548577819, 2.6657422797617527],\n",
       "       [Norm(5.00, 2.99), 4.5495495057475406, 4.3284366648253858, 5.1844002318269613],\n",
       "       [Norm(5.00, 2.99), Norm(5.00, 2.99), 1.9042385445329972, Norm(5.00, 2.99)],\n",
       "       [2.2570549631896046, 6.947908273977033, 4.080768922234733, 4.63324843565879],\n",
       "       [6.3300067548706025, 3.9960887648433654, 8.7538455729102722, 3.026287693334536]], dtype=object)"
      ]
     },
     "execution_count": 21,
     "metadata": {},
     "output_type": "execute_result"
    }
   ],
   "source": [
    "train_envs[21].grid()"
   ]
  },
  {
   "cell_type": "code",
   "execution_count": 22,
   "metadata": {
    "scrolled": true
   },
   "outputs": [
    {
     "data": {
      "text/plain": [
       "array([[  0.17,   0.27,   0.3 ,   0.26],\n",
       "       [  0.  ,  19.  ,   1.  ,  20.  ],\n",
       "       [  0.  ,  21.  ,   2.  ,   0.  ],\n",
       "       [ 12.  ,   8.  ,   3.  ,  10.  ],\n",
       "       [  0.  ,  13.  ,   4.  ,  17.  ],\n",
       "       [  0.  ,   0.  ,   5.  ,   0.  ],\n",
       "       [ 16.  ,  14.  ,   6.  ,  15.  ],\n",
       "       [ 18.  ,   9.  ,   7.  ,  11.  ]])"
      ]
     },
     "execution_count": 22,
     "metadata": {},
     "output_type": "execute_result"
    }
   ],
   "source": [
    "p_grid(train_envs[21],trace['actions'])"
   ]
  },
  {
   "cell_type": "markdown",
   "metadata": {},
   "source": [
    "# DC Run"
   ]
  },
  {
   "cell_type": "code",
   "execution_count": 23,
   "metadata": {},
   "outputs": [
    {
     "data": {
      "text/plain": [
       "{'actions': [26,\n",
       "  25,\n",
       "  27,\n",
       "  6,\n",
       "  18,\n",
       "  22,\n",
       "  10,\n",
       "  9,\n",
       "  11,\n",
       "  8,\n",
       "  14,\n",
       "  2,\n",
       "  24,\n",
       "  13,\n",
       "  15,\n",
       "  21,\n",
       "  23,\n",
       "  20,\n",
       "  1,\n",
       "  3,\n",
       "  5,\n",
       "  7,\n",
       "  28],\n",
       " 'ground_truth': array([ -0.54 ,   6.997,   3.468,   3.171,  10.512,   3.075,   3.225,   5.417,   2.533,   8.301,   5.649,   2.666,   4.335,   4.55 ,   4.328,   5.184,  12.329,   3.819,   1.904,   5.086,   2.257,\n",
       "          6.948,   4.081,   4.633,   6.33 ,   3.996,   8.754,   3.026]),\n",
       " 'observations': 22,\n",
       " 'options': [(6, 1),\n",
       "  (6, 1),\n",
       "  (6, 1),\n",
       "  (1, 1),\n",
       "  (4, 1),\n",
       "  (5, 1),\n",
       "  (2, 1),\n",
       "  (2, 1),\n",
       "  (2, 1),\n",
       "  (2, 1),\n",
       "  (3, 1),\n",
       "  (0, 1),\n",
       "  (6, 1),\n",
       "  (3, 2),\n",
       "  (5, 2),\n",
       "  (5, 1),\n",
       "  (0, 2),\n",
       "  (1, 2),\n",
       "  (-99, 1)],\n",
       " 'util': 4.9080335869757716}"
      ]
     },
     "execution_count": 23,
     "metadata": {},
     "output_type": "execute_result"
    }
   ],
   "source": [
    "train_envs[21].reset()\n",
    "trace = run_dc(train_envs[21])\n",
    "trace"
   ]
  },
  {
   "cell_type": "code",
   "execution_count": 24,
   "metadata": {},
   "outputs": [
    {
     "data": {
      "text/plain": [
       "array([ 0.17,  0.27,  0.3 ,  0.26])"
      ]
     },
     "execution_count": 24,
     "metadata": {},
     "output_type": "execute_result"
    }
   ],
   "source": [
    "train_envs[21].dist"
   ]
  },
  {
   "cell_type": "code",
   "execution_count": 25,
   "metadata": {},
   "outputs": [
    {
     "data": {
      "text/plain": [
       "array([[Norm(5.00, 2.99), 6.9968832316956426, 3.4679869287369995, 3.1705854226419756],\n",
       "       [Norm(5.00, 2.99), 3.0754120800467213, 3.2250433259077607, 5.4173103451602973],\n",
       "       [2.5333603734218157, 8.3006676078030939, 5.6486372548577819, 2.6657422797617527],\n",
       "       [Norm(5.00, 2.99), 4.5495495057475406, 4.3284366648253858, 5.1844002318269613],\n",
       "       [Norm(5.00, 2.99), Norm(5.00, 2.99), 1.9042385445329972, Norm(5.00, 2.99)],\n",
       "       [2.2570549631896046, 6.947908273977033, 4.080768922234733, 4.63324843565879],\n",
       "       [6.3300067548706025, 3.9960887648433654, 8.7538455729102722, 3.026287693334536]], dtype=object)"
      ]
     },
     "execution_count": 25,
     "metadata": {},
     "output_type": "execute_result"
    }
   ],
   "source": [
    "train_envs[21].grid()"
   ]
  },
  {
   "cell_type": "code",
   "execution_count": 26,
   "metadata": {},
   "outputs": [
    {
     "data": {
      "text/plain": [
       "array([[  0.17,   0.27,   0.3 ,   0.26],\n",
       "       [  0.  ,  19.  ,  12.  ,  20.  ],\n",
       "       [  0.  ,  21.  ,   4.  ,  22.  ],\n",
       "       [ 10.  ,   8.  ,   7.  ,   9.  ],\n",
       "       [  0.  ,  14.  ,  11.  ,  15.  ],\n",
       "       [  0.  ,   0.  ,   5.  ,   0.  ],\n",
       "       [ 18.  ,  16.  ,   6.  ,  17.  ],\n",
       "       [ 13.  ,   2.  ,   1.  ,   3.  ]])"
      ]
     },
     "execution_count": 26,
     "metadata": {},
     "output_type": "execute_result"
    }
   ],
   "source": [
    "p_grid(train_envs[21],trace['actions'])"
   ]
  },
  {
   "cell_type": "markdown",
   "metadata": {},
   "source": [
    "# Parsing"
   ]
  },
  {
   "cell_type": "code",
   "execution_count": 32,
   "metadata": {},
   "outputs": [],
   "source": [
    "gambles = 7\n",
    "attributes = 4\n",
    "def make_hs_env(gambles=7, cost=.03, ground_truth=False, dist=hd_dist(4)):\n",
    "    hs = Normal((9.99+0.01)/2, 0.3*(9.99-0.01))\n",
    "    return OldMouselabEnv(gambles, dist, hs, cost, ground_truth= ground_truth) "
   ]
  },
  {
   "cell_type": "code",
   "execution_count": 34,
   "metadata": {
    "scrolled": true
   },
   "outputs": [],
   "source": [
    "env2 = make_hs_env(ground_truth=env.ground_truth,dist=env.dist)"
   ]
  },
  {
   "cell_type": "code",
   "execution_count": 40,
   "metadata": {},
   "outputs": [
    {
     "data": {
      "text/plain": [
       "array([ -0.54 ,   6.997,   3.468,   3.171,  10.512,   3.075,   3.225,   5.417,   2.533,   8.301,   5.649,   2.666,   4.335,   4.55 ,   4.328,   5.184,  12.329,   3.819,   1.904,   5.086,   2.257,\n",
       "         6.948,   4.081,   4.633,   6.33 ,   3.996,   8.754,   3.026])"
      ]
     },
     "execution_count": 40,
     "metadata": {},
     "output_type": "execute_result"
    }
   ],
   "source": [
    "env.ground_truth"
   ]
  },
  {
   "cell_type": "code",
   "execution_count": 41,
   "metadata": {},
   "outputs": [
    {
     "data": {
      "text/plain": [
       "array([ -0.54 ,   6.997,   3.468,   3.171,  10.512,   3.075,   3.225,   5.417,   2.533,   8.301,   5.649,   2.666,   4.335,   4.55 ,   4.328,   5.184,  12.329,   3.819,   1.904,   5.086,   2.257,\n",
       "         6.948,   4.081,   4.633,   6.33 ,   3.996,   8.754,   3.026])"
      ]
     },
     "execution_count": 41,
     "metadata": {},
     "output_type": "execute_result"
    }
   ],
   "source": [
    "env2.ground_truth"
   ]
  },
  {
   "cell_type": "code",
   "execution_count": 42,
   "metadata": {},
   "outputs": [
    {
     "data": {
      "text/plain": [
       "{'actions': [2,\n",
       "  6,\n",
       "  10,\n",
       "  14,\n",
       "  18,\n",
       "  22,\n",
       "  26,\n",
       "  9,\n",
       "  25,\n",
       "  11,\n",
       "  27,\n",
       "  8,\n",
       "  13,\n",
       "  21,\n",
       "  23,\n",
       "  20,\n",
       "  15,\n",
       "  24,\n",
       "  1,\n",
       "  3,\n",
       "  5,\n",
       "  28],\n",
       " 'ground_truth': array([ -0.54 ,   6.997,   3.468,   3.171,  10.512,   3.075,   3.225,   5.417,   2.533,   8.301,   5.649,   2.666,   4.335,   4.55 ,   4.328,   5.184,  12.329,   3.819,   1.904,   5.086,   2.257,\n",
       "          6.948,   4.081,   4.633,   6.33 ,   3.996,   8.754,   3.026]),\n",
       " 'observations': 21,\n",
       " 'util': 4.9380335869757719}"
      ]
     },
     "execution_count": 42,
     "metadata": {},
     "output_type": "execute_result"
    }
   ],
   "source": [
    "trace = run_env(bo_pol, env)\n",
    "trace"
   ]
  },
  {
   "cell_type": "code",
   "execution_count": 43,
   "metadata": {},
   "outputs": [
    {
     "data": {
      "text/plain": [
       "{'actions': [2,\n",
       "  6,\n",
       "  10,\n",
       "  14,\n",
       "  18,\n",
       "  22,\n",
       "  26,\n",
       "  9,\n",
       "  25,\n",
       "  11,\n",
       "  27,\n",
       "  24,\n",
       "  8,\n",
       "  13,\n",
       "  21,\n",
       "  23,\n",
       "  20,\n",
       "  1,\n",
       "  3,\n",
       "  15,\n",
       "  5,\n",
       "  28],\n",
       " 'ground_truth': array([ -0.54 ,   6.997,   3.468,   3.171,  10.512,   3.075,   3.225,   5.417,   2.533,   8.301,   5.649,   2.666,   4.335,   4.55 ,   4.328,   5.184,  12.329,   3.819,   1.904,   5.086,   2.257,\n",
       "          6.948,   4.081,   4.633,   6.33 ,   3.996,   8.754,   3.026]),\n",
       " 'observations': 21,\n",
       " 'util': 4.9380335869757719}"
      ]
     },
     "execution_count": 43,
     "metadata": {},
     "output_type": "execute_result"
    }
   ],
   "source": [
    "trace = run_env(bo_pol, env2)\n",
    "trace"
   ]
  },
  {
   "cell_type": "code",
   "execution_count": 27,
   "metadata": {
    "collapsed": true
   },
   "outputs": [],
   "source": [
    "def wrap_po(env,click_sequence,t=1,p_rand=0):\n",
    "    memo = dict()\n",
    "    def parse_options_clean(init_state,dist,pre_acts,click_sequence,t=1,p_err=0.001):\n",
    "        if click_sequence == []: \n",
    "            return True, [[]], [1]\n",
    "        if (tuple(pre_acts),tuple(click_sequence),tuple(dist),t,p_err) in memo:\n",
    "            return memo[(tuple(pre_acts),tuple(click_sequence),t,p_err)]\n",
    "        \n",
    "        envc = make_hs_env(ground_truth=init_state, dist=dist)\n",
    "        envc.reset()\n",
    "        for a in pre_acts:\n",
    "            envc._step(a)\n",
    "\n",
    "        option_seqs = []\n",
    "        likelihoods = []\n",
    "        done = False\n",
    "        options, option_insts, option_utils,n_available_clicks = get_all_options(envc)\n",
    "\n",
    "        for i,j in product(range(1,min(len(envc.paths[0]),len(click_sequence))+1),range(len(options))):  \n",
    "            option = options[j]\n",
    "#             n_insts = 1 if option == (-1,1) else len(option_insts[option])\n",
    "            n_insts = len(option_insts[option])\n",
    "            for inst in option_insts[option]:      \n",
    "                if np.array_equal(click_sequence[:i],inst): \n",
    "                    will_done, remaining, rem_likelihoods = (parse_options_clean\n",
    "                                  (init_state,pre_acts+click_sequence[:i],click_sequence[i:],t,p_rand))\n",
    "                    done = done or will_done  \n",
    "                    if done:\n",
    "                        for k in range(len(remaining)): \n",
    "                            option_seqs.append([option]+remaining[k]) \n",
    "#                             l_opt_seq = ((1-p_rand)*np.exp(1/t*option_utils[j])/np.sum(np.exp(1/t*option_utils))\n",
    "#                                         + p_rand*np.prod([1/(n_available_clicks-k) for k in range(option[1])]))\n",
    "                            alpha = 1 if option == (-1,1) else 0 \n",
    "                            l_opt_seq = ((1-p_rand)*np.exp(1/t*option_utils[j])/np.sum(np.exp(1/t*option_utils))\n",
    "                                    + p_rand*alpha)\n",
    "                            likelihoods.append(l_opt_seq*rem_likelihoods[k]/n_insts)\n",
    "                            \n",
    "        memo[(tuple(pre_acts),tuple(click_sequence),t,p_err)] = done, option_seqs, likelihoods\n",
    "        return done, option_seqs, likelihoods\n",
    "    return parse_options_clean(env.ground_truth,[],click_sequence+[env.term_action],t,p_rand)"
   ]
  },
  {
   "cell_type": "code",
   "execution_count": 30,
   "metadata": {},
   "outputs": [],
   "source": [
    "env = train_envs[21]"
   ]
  },
  {
   "cell_type": "code",
   "execution_count": 28,
   "metadata": {},
   "outputs": [
    {
     "data": {
      "text/plain": [
       "[26,\n",
       " 25,\n",
       " 27,\n",
       " 6,\n",
       " 18,\n",
       " 22,\n",
       " 10,\n",
       " 9,\n",
       " 11,\n",
       " 8,\n",
       " 14,\n",
       " 2,\n",
       " 24,\n",
       " 13,\n",
       " 15,\n",
       " 21,\n",
       " 23,\n",
       " 20,\n",
       " 1,\n",
       " 3,\n",
       " 5,\n",
       " 7,\n",
       " 28]"
      ]
     },
     "execution_count": 28,
     "metadata": {},
     "output_type": "execute_result"
    }
   ],
   "source": [
    "trace['actions']"
   ]
  },
  {
   "cell_type": "code",
   "execution_count": null,
   "metadata": {
    "collapsed": true
   },
   "outputs": [],
   "source": [
    "a,b,c = wrap_po(env,trial,t=2,p_rand=0.01,branching=[3,1,2])"
   ]
  }
 ],
 "metadata": {
  "kernelspec": {
   "display_name": "Python 3",
   "language": "python",
   "name": "python3"
  },
  "language_info": {
   "codemirror_mode": {
    "name": "ipython",
    "version": 3
   },
   "file_extension": ".py",
   "mimetype": "text/x-python",
   "name": "python",
   "nbconvert_exporter": "python",
   "pygments_lexer": "ipython3",
   "version": "3.6.2"
  }
 },
 "nbformat": 4,
 "nbformat_minor": 2
}
