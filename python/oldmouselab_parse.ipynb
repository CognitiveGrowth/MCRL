{
 "cells": [
  {
   "cell_type": "code",
   "execution_count": 1,
   "metadata": {},
   "outputs": [],
   "source": [
    "%matplotlib inline\n",
    "import matplotlib.pyplot as plt\n",
    "import numpy as np\n",
    "import pandas as pd\n",
    "import seaborn as sns\n",
    "import scipy.stats\n",
    "from scipy.stats import norm\n",
    "import scipy.integrate as integrate\n",
    "\n",
    "import gym\n",
    "from gym import spaces\n",
    "\n",
    "import random\n",
    "import itertools as it\n",
    "from itertools import product\n",
    "from joblib import Parallel, delayed\n",
    "from toolz import memoize\n",
    "from contracts import contract\n",
    "from collections import namedtuple, defaultdict, deque, Counter\n",
    "\n",
    "import warnings\n",
    "warnings.filterwarnings(\"ignore\", \n",
    "                        message=\"The objective has been evaluated at this point before.\")\n",
    "\n",
    "from agents import Agent\n",
    "from oldmouselab import OldMouselabEnv\n",
    "from policies import FixedPlanPolicy, LiederPolicy\n",
    "from evaluation import *\n",
    "from omdc_util import *\n",
    "from distributions import cmax, smax, sample, expectation, Normal, TruncatedNormal, PointMass, SampleDist, Normal, Categorical"
   ]
  },
  {
   "cell_type": "code",
   "execution_count": 5,
   "metadata": {},
   "outputs": [],
   "source": [
    "import ipyparallel as ipp \n",
    "rc = ipp.Client(profile='default', cluster_id='')\n",
    "ipp.register_joblib_backend()"
   ]
  },
  {
   "cell_type": "code",
   "execution_count": 6,
   "metadata": {},
   "outputs": [],
   "source": [
    "def hd_dist(attributes):\n",
    "    dist = [1,]*attributes\n",
    "    dist[0] = np.random.randint(85,97)\n",
    "    for i in range(1,attributes-1):\n",
    "        dist[i] += np.random.randint(0,100-np.sum(dist))\n",
    "    dist[-1] += 100-np.sum(dist)\n",
    "    dist = np.around(np.array(dist)/100,decimals=2)\n",
    "    np.random.shuffle(dist)\n",
    "    return dist\n",
    "\n",
    "def ld_dist(attributes):\n",
    "    constrain = True\n",
    "    while constrain:\n",
    "        dist = [np.random.randint(10,50) for _ in range(attributes)]\n",
    "        dist = np.around(np.array(dist)/sum(dist),decimals=2)\n",
    "        constrain = np.min(dist) <= 0.10 or np.max(dist) >= 0.40\n",
    "    np.random.shuffle(dist)\n",
    "    return dist"
   ]
  },
  {
   "cell_type": "code",
   "execution_count": 7,
   "metadata": {},
   "outputs": [],
   "source": [
    "gambles = 7\n",
    "attributes = 4\n",
    "high_stakes = TruncatedNormal((9.99+0.01)/2, 0.3*(9.99-0.01),0.01,9.99)\n",
    "low_stakes = TruncatedNormal((0.25+0.01)/2, 0.3*(0.25-0.01),0.01,0.25)\n",
    "reward = high_stakes\n",
    "cost=.03\n",
    "\n",
    "#set to 20 for sanity check\n",
    "n_train = 20\n",
    "n_test = 20\n",
    "\n",
    "train_envs_hd = [OldMouselabEnv(gambles, hd_dist(attributes), reward, cost) for _ in range(n_train)]\n",
    "train_envs_ld = [OldMouselabEnv(gambles, ld_dist(attributes), reward, cost) for _ in range(n_train)]\n",
    "train_envs = train_envs_hd+train_envs_ld \n",
    "\n",
    "test_envs_hd =  [OldMouselabEnv(gambles, hd_dist(attributes), reward, cost) for _ in range(n_train)]\n",
    "test_envs_ld = [OldMouselabEnv(gambles, ld_dist(attributes), reward, cost) for _ in range(n_train)]\n",
    "test_envs = test_envs_hd+test_envs_ld \n",
    "\n",
    "term_action = train_envs[0].term_action"
   ]
  },
  {
   "cell_type": "code",
   "execution_count": 8,
   "metadata": {},
   "outputs": [],
   "source": [
    "bo_pol_theta = np.load('data/om_bmps_pols/best/hs_hd_1cents.npy')\n",
    "bo_pol = LiederPolicy(list(bo_pol_theta))"
   ]
  },
  {
   "cell_type": "code",
   "execution_count": 9,
   "metadata": {},
   "outputs": [],
   "source": [
    "agent = Agent()\n",
    "def run_env(policy, env):\n",
    "    agent.register(env)\n",
    "    agent.register(policy)\n",
    "    tr = agent.run_episode()\n",
    "#     print(tr)\n",
    "    return {'util': tr['return'], 'actions': tr['actions'],\n",
    "            'observations': len(tr['actions']) - 1, 'ground_truth': env.ground_truth}\n",
    "\n",
    "def action_coordinate(env, action):\n",
    "    return (action//env.outcomes,action%env.outcomes)\n",
    "\n",
    "def p_grid(env, actions):\n",
    "    grid = np.zeros((env.gambles+1,env.outcomes))\n",
    "    grid[0,:] = env.dist\n",
    "    for i in range(len(actions[:-1])):\n",
    "        gamble, outcome = action_coordinate(env,actions[i]) \n",
    "        grid[gamble+1, outcome] = i+1\n",
    "    return grid"
   ]
  },
  {
   "cell_type": "markdown",
   "metadata": {},
   "source": [
    "# BMPS Run"
   ]
  },
  {
   "cell_type": "code",
   "execution_count": 10,
   "metadata": {},
   "outputs": [
    {
     "data": {
      "text/plain": [
       "{'actions': [1, 5, 9, 13, 10, 14, 11, 17, 21, 28],\n",
       " 'ground_truth': array([6.232, 4.143, 6.703, 8.741, 7.313, 5.916, 3.641, 4.641, 8.306, 8.402, 6.132, 8.566, 4.376, 6.839, 6.25 , 8.518, 4.638, 7.33 , 6.62 , 1.532, 8.28 , 1.173, 3.232, 3.266, 2.941, 2.091, 8.289,\n",
       "        7.248]),\n",
       " 'observations': 9,\n",
       " 'util': 7.010738263987953}"
      ]
     },
     "execution_count": 10,
     "metadata": {},
     "output_type": "execute_result"
    }
   ],
   "source": [
    "train_envs[21].reset()\n",
    "trace = run_env(bo_pol, train_envs[21])\n",
    "trace"
   ]
  },
  {
   "cell_type": "code",
   "execution_count": 11,
   "metadata": {},
   "outputs": [
    {
     "data": {
      "text/plain": [
       "array([0.18, 0.36, 0.24, 0.22])"
      ]
     },
     "execution_count": 11,
     "metadata": {},
     "output_type": "execute_result"
    }
   ],
   "source": [
    "train_envs[21].dist"
   ]
  },
  {
   "cell_type": "code",
   "execution_count": 12,
   "metadata": {},
   "outputs": [
    {
     "data": {
      "text/plain": [
       "array([[TNorm(5.00, 2.99,[0.01,9.99]), 4.14326783014364, TNorm(5.00, 2.99,[0.01,9.99]), TNorm(5.00, 2.99,[0.01,9.99])],\n",
       "       [TNorm(5.00, 2.99,[0.01,9.99]), 5.916257672589262, TNorm(5.00, 2.99,[0.01,9.99]), TNorm(5.00, 2.99,[0.01,9.99])],\n",
       "       [TNorm(5.00, 2.99,[0.01,9.99]), 8.401830218607623, 6.131778712164349, 8.56569315622621],\n",
       "       [TNorm(5.00, 2.99,[0.01,9.99]), 6.8385177101359025, 6.250219553552345, TNorm(5.00, 2.99,[0.01,9.99])],\n",
       "       [TNorm(5.00, 2.99,[0.01,9.99]), 7.329814725724805, TNorm(5.00, 2.99,[0.01,9.99]), TNorm(5.00, 2.99,[0.01,9.99])],\n",
       "       [TNorm(5.00, 2.99,[0.01,9.99]), 1.1731174611429962, TNorm(5.00, 2.99,[0.01,9.99]), TNorm(5.00, 2.99,[0.01,9.99])],\n",
       "       [TNorm(5.00, 2.99,[0.01,9.99]), TNorm(5.00, 2.99,[0.01,9.99]), TNorm(5.00, 2.99,[0.01,9.99]), TNorm(5.00, 2.99,[0.01,9.99])]], dtype=object)"
      ]
     },
     "execution_count": 12,
     "metadata": {},
     "output_type": "execute_result"
    }
   ],
   "source": [
    "train_envs[21].grid()"
   ]
  },
  {
   "cell_type": "code",
   "execution_count": 13,
   "metadata": {
    "scrolled": true
   },
   "outputs": [
    {
     "data": {
      "text/plain": [
       "array([[0.18, 0.36, 0.24, 0.22],\n",
       "       [0.  , 1.  , 0.  , 0.  ],\n",
       "       [0.  , 2.  , 0.  , 0.  ],\n",
       "       [0.  , 3.  , 5.  , 7.  ],\n",
       "       [0.  , 4.  , 6.  , 0.  ],\n",
       "       [0.  , 8.  , 0.  , 0.  ],\n",
       "       [0.  , 9.  , 0.  , 0.  ],\n",
       "       [0.  , 0.  , 0.  , 0.  ]])"
      ]
     },
     "execution_count": 13,
     "metadata": {},
     "output_type": "execute_result"
    }
   ],
   "source": [
    "p_grid(train_envs[21],trace['actions'])"
   ]
  },
  {
   "cell_type": "markdown",
   "metadata": {},
   "source": [
    "# DC Run"
   ]
  },
  {
   "cell_type": "code",
   "execution_count": 14,
   "metadata": {},
   "outputs": [
    {
     "data": {
      "text/plain": [
       "{'actions': [5, 6, 1, 9, 10, 11, 8, 28],\n",
       " 'ground_truth': array([6.232, 4.143, 6.703, 8.741, 7.313, 5.916, 3.641, 4.641, 8.306, 8.402, 6.132, 8.566, 4.376, 6.839, 6.25 , 8.518, 4.638, 7.33 , 6.62 , 1.532, 8.28 , 1.173, 3.232, 3.266, 2.941, 2.091, 8.289,\n",
       "        7.248]),\n",
       " 'observations': 7,\n",
       " 'options': [(1, 1), (1, 1), (0, 1), (2, 1), (2, 1), (2, 1), (2, 1), (-99, 1)],\n",
       " 'util': 7.665733355700672}"
      ]
     },
     "execution_count": 14,
     "metadata": {},
     "output_type": "execute_result"
    }
   ],
   "source": [
    "train_envs[21].reset()\n",
    "trace = run_dc(train_envs[21])\n",
    "trace"
   ]
  },
  {
   "cell_type": "code",
   "execution_count": 15,
   "metadata": {},
   "outputs": [
    {
     "data": {
      "text/plain": [
       "array([0.18, 0.36, 0.24, 0.22])"
      ]
     },
     "execution_count": 15,
     "metadata": {},
     "output_type": "execute_result"
    }
   ],
   "source": [
    "train_envs[21].dist"
   ]
  },
  {
   "cell_type": "code",
   "execution_count": 16,
   "metadata": {},
   "outputs": [
    {
     "data": {
      "text/plain": [
       "array([[TNorm(5.00, 2.99,[0.01,9.99]), 4.14326783014364, TNorm(5.00, 2.99,[0.01,9.99]), TNorm(5.00, 2.99,[0.01,9.99])],\n",
       "       [TNorm(5.00, 2.99,[0.01,9.99]), 5.916257672589262, 3.6407289514742835, TNorm(5.00, 2.99,[0.01,9.99])],\n",
       "       [8.30552828729288, 8.401830218607623, 6.131778712164349, 8.56569315622621],\n",
       "       [TNorm(5.00, 2.99,[0.01,9.99]), TNorm(5.00, 2.99,[0.01,9.99]), TNorm(5.00, 2.99,[0.01,9.99]), TNorm(5.00, 2.99,[0.01,9.99])],\n",
       "       [TNorm(5.00, 2.99,[0.01,9.99]), TNorm(5.00, 2.99,[0.01,9.99]), TNorm(5.00, 2.99,[0.01,9.99]), TNorm(5.00, 2.99,[0.01,9.99])],\n",
       "       [TNorm(5.00, 2.99,[0.01,9.99]), TNorm(5.00, 2.99,[0.01,9.99]), TNorm(5.00, 2.99,[0.01,9.99]), TNorm(5.00, 2.99,[0.01,9.99])],\n",
       "       [TNorm(5.00, 2.99,[0.01,9.99]), TNorm(5.00, 2.99,[0.01,9.99]), TNorm(5.00, 2.99,[0.01,9.99]), TNorm(5.00, 2.99,[0.01,9.99])]], dtype=object)"
      ]
     },
     "execution_count": 16,
     "metadata": {},
     "output_type": "execute_result"
    }
   ],
   "source": [
    "train_envs[21].grid()"
   ]
  },
  {
   "cell_type": "code",
   "execution_count": 17,
   "metadata": {},
   "outputs": [
    {
     "data": {
      "text/plain": [
       "array([[0.18, 0.36, 0.24, 0.22],\n",
       "       [0.  , 3.  , 0.  , 0.  ],\n",
       "       [0.  , 1.  , 2.  , 0.  ],\n",
       "       [7.  , 4.  , 5.  , 6.  ],\n",
       "       [0.  , 0.  , 0.  , 0.  ],\n",
       "       [0.  , 0.  , 0.  , 0.  ],\n",
       "       [0.  , 0.  , 0.  , 0.  ],\n",
       "       [0.  , 0.  , 0.  , 0.  ]])"
      ]
     },
     "execution_count": 17,
     "metadata": {},
     "output_type": "execute_result"
    }
   ],
   "source": [
    "p_grid(train_envs[21],trace['actions'])"
   ]
  },
  {
   "cell_type": "markdown",
   "metadata": {},
   "source": [
    "# Parsing"
   ]
  },
  {
   "cell_type": "code",
   "execution_count": 18,
   "metadata": {},
   "outputs": [],
   "source": [
    "def make_env(gambles=7, cost=.01, ground_truth=False, dist=hd_dist(3), stakes = 'high'):\n",
    "    reward = TruncatedNormal((9.99+0.01)/2, 0.3*(9.99-0.01),0.01,9.99) if stakes == 'high' else Normal((0.25+0.01)/2, 0.3*(0.25-0.01),0.01,0.25)\n",
    "    return OldMouselabEnv(gambles, dist, reward, cost, ground_truth = ground_truth) "
   ]
  },
  {
   "cell_type": "code",
   "execution_count": 19,
   "metadata": {},
   "outputs": [],
   "source": [
    "env = train_envs[21]"
   ]
  },
  {
   "cell_type": "code",
   "execution_count": 20,
   "metadata": {
    "scrolled": true
   },
   "outputs": [],
   "source": [
    "env2 = make_env(ground_truth=env.ground_truth,dist=env.dist)"
   ]
  },
  {
   "cell_type": "code",
   "execution_count": 21,
   "metadata": {},
   "outputs": [
    {
     "data": {
      "text/plain": [
       "array([6.232, 4.143, 6.703, 8.741, 7.313, 5.916, 3.641, 4.641, 8.306, 8.402, 6.132, 8.566, 4.376, 6.839, 6.25 , 8.518, 4.638, 7.33 , 6.62 , 1.532, 8.28 , 1.173, 3.232, 3.266, 2.941, 2.091, 8.289,\n",
       "       7.248])"
      ]
     },
     "execution_count": 21,
     "metadata": {},
     "output_type": "execute_result"
    }
   ],
   "source": [
    "env.ground_truth"
   ]
  },
  {
   "cell_type": "code",
   "execution_count": 22,
   "metadata": {},
   "outputs": [
    {
     "data": {
      "text/plain": [
       "array([6.232, 4.143, 6.703, 8.741, 7.313, 5.916, 3.641, 4.641, 8.306, 8.402, 6.132, 8.566, 4.376, 6.839, 6.25 , 8.518, 4.638, 7.33 , 6.62 , 1.532, 8.28 , 1.173, 3.232, 3.266, 2.941, 2.091, 8.289,\n",
       "       7.248])"
      ]
     },
     "execution_count": 22,
     "metadata": {},
     "output_type": "execute_result"
    }
   ],
   "source": [
    "env2.ground_truth"
   ]
  },
  {
   "cell_type": "code",
   "execution_count": 23,
   "metadata": {},
   "outputs": [
    {
     "data": {
      "text/plain": [
       "{'actions': [1, 5, 9, 13, 10, 14, 11, 17, 21, 28],\n",
       " 'ground_truth': array([6.232, 4.143, 6.703, 8.741, 7.313, 5.916, 3.641, 4.641, 8.306, 8.402, 6.132, 8.566, 4.376, 6.839, 6.25 , 8.518, 4.638, 7.33 , 6.62 , 1.532, 8.28 , 1.173, 3.232, 3.266, 2.941, 2.091, 8.289,\n",
       "        7.248]),\n",
       " 'observations': 9,\n",
       " 'util': 7.010738263987953}"
      ]
     },
     "execution_count": 23,
     "metadata": {},
     "output_type": "execute_result"
    }
   ],
   "source": [
    "trace = run_env(bo_pol, env)\n",
    "trace"
   ]
  },
  {
   "cell_type": "code",
   "execution_count": 24,
   "metadata": {},
   "outputs": [
    {
     "data": {
      "text/plain": [
       "{'actions': [1, 5, 9, 13, 10, 14, 11, 17, 21, 25, 18, 19, 15, 12, 8, 28],\n",
       " 'ground_truth': array([6.232, 4.143, 6.703, 8.741, 7.313, 5.916, 3.641, 4.641, 8.306, 8.402, 6.132, 8.566, 4.376, 6.839, 6.25 , 8.518, 4.638, 7.33 , 6.62 , 1.532, 8.28 , 1.173, 3.232, 3.266, 2.941, 2.091, 8.289,\n",
       "        7.248]),\n",
       " 'observations': 15,\n",
       " 'util': 7.7257333557006715}"
      ]
     },
     "execution_count": 24,
     "metadata": {},
     "output_type": "execute_result"
    }
   ],
   "source": [
    "trace = run_env(bo_pol, env2)\n",
    "trace"
   ]
  },
  {
   "cell_type": "code",
   "execution_count": 91,
   "metadata": {},
   "outputs": [],
   "source": [
    "def wrap_po2(env,click_sequence,p_rand=0):\n",
    "    memo = dict()\n",
    "    def parse_options_clean(init_state,dist,cost,stakes,pre_acts,click_sequence):\n",
    "        if click_sequence == []: \n",
    "            return True, [[]], [1]\n",
    "        \n",
    "        if (tuple(pre_acts),tuple(click_sequence)) in memo:       \n",
    "            return memo[(tuple(pre_acts),tuple(click_sequence))]   \n",
    "        \n",
    "        envc = make_env(gambles=int(len(init_state)/len(dist)), ground_truth=init_state, cost=cost, dist=dist, stakes=stakes)\n",
    "        envc.reset()\n",
    "        for a in pre_acts:\n",
    "            envc._step(a)\n",
    "\n",
    "        option_seqs = []\n",
    "        likelihoods = []\n",
    "        done = False\n",
    "        options, option_insts, option_utils, n_available_clicks,_,_,_ = get_all_options(envc)\n",
    "        \n",
    "        for i,j in product(range(1,min(len(dist),len(click_sequence))+1),range(len(options))):\n",
    "            option = options[j]\n",
    "            if option_utils[j] == np.max(option_utils) or option == (-1,1):\n",
    "                n_insts = len(option_insts[option])\n",
    "                alpha = 1.0 if option == (-1,1) else 0.0\n",
    "                beta = 1.0/np.sum(option_utils == np.max(option_utils)) if option_utils[j] == np.max(option_utils) else 0.0\n",
    "                for inst in option_insts[option]:\n",
    "                    if np.array_equal(click_sequence[:i],inst): \n",
    "                        will_done, remaining, rem_likelihoods = (parse_options_clean(init_state,dist,cost,stakes,pre_acts+click_sequence[:i],click_sequence[i:]))\n",
    "                        done = done or will_done  \n",
    "                        if done:\n",
    "                            for k in range(len(remaining)):\n",
    "                                option_seqs.append([option]+remaining[k]) \n",
    "                                l_opt_seq = (1-p_rand)*beta + p_rand*alpha\n",
    "                                likelihoods.append(l_opt_seq*rem_likelihoods[k]/n_insts)               \n",
    "        memo[(tuple(pre_acts),tuple(click_sequence))] = done, option_seqs, likelihoods\n",
    "        return done, option_seqs, likelihoods\n",
    "    \n",
    "    stakes = 'high' if env.reward.mu == 5.0 else 'low'\n",
    "    if click_sequence == [] or click_sequence[-1] != env.term_action:\n",
    "        click_sequence = click_sequence+[env.term_action]\n",
    "    return parse_options_clean(env.ground_truth,env.dist,env.cost,stakes,[],click_sequence)"
   ]
  },
  {
   "cell_type": "code",
   "execution_count": 92,
   "metadata": {},
   "outputs": [],
   "source": [
    "env = OldMouselabEnv(4, ld_dist(3), reward, cost)"
   ]
  },
  {
   "cell_type": "code",
   "execution_count": 93,
   "metadata": {},
   "outputs": [
    {
     "data": {
      "text/plain": [
       "[1, 0, 2, 12]"
      ]
     },
     "execution_count": 93,
     "metadata": {},
     "output_type": "execute_result"
    }
   ],
   "source": [
    "env.reset()\n",
    "trace = run_dc(env)\n",
    "click_seq = trace['actions']\n",
    "click_seq"
   ]
  },
  {
   "cell_type": "code",
   "execution_count": 94,
   "metadata": {},
   "outputs": [
    {
     "data": {
      "text/plain": [
       "[(0, 1), (0, 1), (0, 1), (-99, 1)]"
      ]
     },
     "execution_count": 94,
     "metadata": {},
     "output_type": "execute_result"
    }
   ],
   "source": [
    "trace['options']"
   ]
  },
  {
   "cell_type": "code",
   "execution_count": 95,
   "metadata": {},
   "outputs": [],
   "source": [
    "a,b,c = wrap_po(env,click_seq,p_rand=0)"
   ]
  },
  {
   "cell_type": "code",
   "execution_count": 96,
   "metadata": {},
   "outputs": [
    {
     "data": {
      "text/plain": [
       "[[(0, 1), (0, 1), (0, 1), (-1, 1)],\n",
       " [(0, 1), (0, 1), (0, 1), (-99, 1)],\n",
       " [(0, 1), (0, 1), (-1, 1), (-1, 1)],\n",
       " [(0, 1), (0, 1), (-1, 1), (-99, 1)],\n",
       " [(0, 1), (-1, 1), (0, 1), (-1, 1)],\n",
       " [(0, 1), (-1, 1), (0, 1), (-99, 1)],\n",
       " [(0, 1), (-1, 1), (-1, 1), (-1, 1)],\n",
       " [(0, 1), (-1, 1), (-1, 1), (-99, 1)],\n",
       " [(0, 1), (0, 2), (-1, 1)],\n",
       " [(0, 1), (0, 2), (-99, 1)],\n",
       " [(-1, 1), (0, 1), (0, 1), (-1, 1)],\n",
       " [(-1, 1), (0, 1), (0, 1), (-99, 1)],\n",
       " [(-1, 1), (0, 1), (-1, 1), (-1, 1)],\n",
       " [(-1, 1), (0, 1), (-1, 1), (-99, 1)],\n",
       " [(-1, 1), (-1, 1), (0, 1), (-1, 1)],\n",
       " [(-1, 1), (-1, 1), (0, 1), (-99, 1)],\n",
       " [(-1, 1), (-1, 1), (-1, 1), (-1, 1)],\n",
       " [(-1, 1), (-1, 1), (-1, 1), (-99, 1)],\n",
       " [(-1, 1), (0, 2), (-1, 1)],\n",
       " [(-1, 1), (0, 2), (-99, 1)],\n",
       " [(0, 2), (0, 1), (-1, 1)],\n",
       " [(0, 2), (0, 1), (-99, 1)],\n",
       " [(0, 2), (-1, 1), (-1, 1)],\n",
       " [(0, 2), (-1, 1), (-99, 1)],\n",
       " [(0, 3), (-1, 1)],\n",
       " [(0, 3), (-99, 1)]]"
      ]
     },
     "execution_count": 96,
     "metadata": {},
     "output_type": "execute_result"
    }
   ],
   "source": [
    "b"
   ]
  },
  {
   "cell_type": "code",
   "execution_count": 97,
   "metadata": {
    "scrolled": true
   },
   "outputs": [
    {
     "data": {
      "text/plain": [
       "[([(0, 1), (0, 1), (0, 1), (-99, 1)], 0.25)]"
      ]
     },
     "execution_count": 97,
     "metadata": {},
     "output_type": "execute_result"
    }
   ],
   "source": [
    "list(zip(list(np.array(b)[np.array(c)!=0]),np.array(c)[np.array(c)!=0]))"
   ]
  },
  {
   "cell_type": "code",
   "execution_count": 98,
   "metadata": {
    "scrolled": true
   },
   "outputs": [],
   "source": [
    "env.reset()\n",
    "a,b,c = wrap_po2(env,click_seq,p_rand=0)"
   ]
  },
  {
   "cell_type": "code",
   "execution_count": 99,
   "metadata": {},
   "outputs": [
    {
     "data": {
      "text/plain": [
       "[[(0, 1), (0, 1), (0, 1), (-1, 1)],\n",
       " [(0, 1), (0, 1), (0, 1), (-99, 1)],\n",
       " [(0, 1), (0, 1), (-1, 1), (-1, 1)],\n",
       " [(0, 1), (0, 1), (-1, 1), (-99, 1)],\n",
       " [(0, 1), (-1, 1), (0, 1), (-1, 1)],\n",
       " [(0, 1), (-1, 1), (0, 1), (-99, 1)],\n",
       " [(0, 1), (-1, 1), (-1, 1), (-1, 1)],\n",
       " [(0, 1), (-1, 1), (-1, 1), (-99, 1)],\n",
       " [(-1, 1), (0, 1), (0, 1), (-1, 1)],\n",
       " [(-1, 1), (0, 1), (0, 1), (-99, 1)],\n",
       " [(-1, 1), (0, 1), (-1, 1), (-1, 1)],\n",
       " [(-1, 1), (0, 1), (-1, 1), (-99, 1)],\n",
       " [(-1, 1), (-1, 1), (0, 1), (-1, 1)],\n",
       " [(-1, 1), (-1, 1), (0, 1), (-99, 1)],\n",
       " [(-1, 1), (-1, 1), (-1, 1), (-1, 1)],\n",
       " [(-1, 1), (-1, 1), (-1, 1), (-99, 1)]]"
      ]
     },
     "execution_count": 99,
     "metadata": {},
     "output_type": "execute_result"
    }
   ],
   "source": [
    "b"
   ]
  },
  {
   "cell_type": "code",
   "execution_count": 100,
   "metadata": {},
   "outputs": [
    {
     "data": {
      "text/plain": [
       "[(array([[  0,   1],\n",
       "         [  0,   1],\n",
       "         [  0,   1],\n",
       "         [-99,   1]]), 0.25)]"
      ]
     },
     "execution_count": 100,
     "metadata": {},
     "output_type": "execute_result"
    }
   ],
   "source": [
    "list(zip(list(np.array(b)[np.array(c)!=0]),np.array(c)[np.array(c)!=0]))"
   ]
  },
  {
   "cell_type": "code",
   "execution_count": 103,
   "metadata": {},
   "outputs": [],
   "source": [
    "def dc_log_likelihood(env, trial, p_error):\n",
    "    done, option_seqs, likelihoods = wrap_po2(env,trial,p_rand=p_error)\n",
    "    return np.log(np.sum(likelihoods))"
   ]
  },
  {
   "cell_type": "code",
   "execution_count": 104,
   "metadata": {},
   "outputs": [],
   "source": [
    "def wrap_sum_ll(p, p_error):\n",
    "    data = participants[p]\n",
    "    return sum(dc_log_likelihood(env, trial, p_error)\n",
    "                    for env,trial in data)"
   ]
  },
  {
   "cell_type": "markdown",
   "metadata": {},
   "source": [
    "# Apply to Data"
   ]
  },
  {
   "cell_type": "code",
   "execution_count": 105,
   "metadata": {},
   "outputs": [],
   "source": [
    "import json\n",
    "df = pd.read_csv('../risky_choice/data/03242018/trials.csv', index_col=0)\n",
    "for col in ['outcome_probs', 'ground_truth', 'clicks']:\n",
    "    df[col] = df[col].apply(json.loads)"
   ]
  },
  {
   "cell_type": "code",
   "execution_count": 106,
   "metadata": {},
   "outputs": [
    {
     "data": {
      "text/html": [
       "<div>\n",
       "<style scoped>\n",
       "    .dataframe tbody tr th:only-of-type {\n",
       "        vertical-align: middle;\n",
       "    }\n",
       "\n",
       "    .dataframe tbody tr th {\n",
       "        vertical-align: top;\n",
       "    }\n",
       "\n",
       "    .dataframe thead th {\n",
       "        text-align: right;\n",
       "    }\n",
       "</style>\n",
       "<table border=\"1\" class=\"dataframe\">\n",
       "  <thead>\n",
       "    <tr style=\"text-align: right;\">\n",
       "      <th></th>\n",
       "      <th>clicks</th>\n",
       "      <th>decision</th>\n",
       "      <th>ground_truth</th>\n",
       "      <th>outcome_probs</th>\n",
       "      <th>reward_mu</th>\n",
       "      <th>reward_sigma</th>\n",
       "      <th>trial_index</th>\n",
       "      <th>workerid</th>\n",
       "    </tr>\n",
       "  </thead>\n",
       "  <tbody>\n",
       "    <tr>\n",
       "      <th>0</th>\n",
       "      <td>[]</td>\n",
       "      <td>1</td>\n",
       "      <td>[0.16, 0.2, 0.16, 0.07, 0.1, 0.2, 0.12, 0.11, ...</td>\n",
       "      <td>[0.16, 0.19, 0.39, 0.26]</td>\n",
       "      <td>0.13</td>\n",
       "      <td>0.072</td>\n",
       "      <td>0</td>\n",
       "      <td>A2HSCKH5NKN5LP</td>\n",
       "    </tr>\n",
       "    <tr>\n",
       "      <th>1</th>\n",
       "      <td>[]</td>\n",
       "      <td>6</td>\n",
       "      <td>[0.08, 0.18, 0.14, 0.16, 0.03, 0.14, 0.01, 0.1...</td>\n",
       "      <td>[0.35, 0.27, 0.24, 0.14]</td>\n",
       "      <td>0.13</td>\n",
       "      <td>0.072</td>\n",
       "      <td>1</td>\n",
       "      <td>A2HSCKH5NKN5LP</td>\n",
       "    </tr>\n",
       "    <tr>\n",
       "      <th>2</th>\n",
       "      <td>[]</td>\n",
       "      <td>4</td>\n",
       "      <td>[0.11, 0.2, 0.17, 0.08, 0.18, 0.16, 0.12, 0.03...</td>\n",
       "      <td>[0.06, 0.05, 0.86, 0.03]</td>\n",
       "      <td>0.13</td>\n",
       "      <td>0.072</td>\n",
       "      <td>2</td>\n",
       "      <td>A2HSCKH5NKN5LP</td>\n",
       "    </tr>\n",
       "    <tr>\n",
       "      <th>3</th>\n",
       "      <td>[]</td>\n",
       "      <td>4</td>\n",
       "      <td>[0.06, 0.17, 0.19, 0.14, 0.07, 0.18, 0.15, 0.0...</td>\n",
       "      <td>[0.02, 0.9, 0.02, 0.06]</td>\n",
       "      <td>0.13</td>\n",
       "      <td>0.072</td>\n",
       "      <td>3</td>\n",
       "      <td>A2HSCKH5NKN5LP</td>\n",
       "    </tr>\n",
       "    <tr>\n",
       "      <th>4</th>\n",
       "      <td>[]</td>\n",
       "      <td>5</td>\n",
       "      <td>[0.09, 0.09, 0.11, 0.13, 0.2, 0.09, 0.24, 0.08...</td>\n",
       "      <td>[0.08, 0.9, 0.01, 0.01]</td>\n",
       "      <td>0.13</td>\n",
       "      <td>0.072</td>\n",
       "      <td>4</td>\n",
       "      <td>A2HSCKH5NKN5LP</td>\n",
       "    </tr>\n",
       "    <tr>\n",
       "      <th>5</th>\n",
       "      <td>[]</td>\n",
       "      <td>2</td>\n",
       "      <td>[0.03, 0.1, 0.02, 0.13, 0.1, 0.11, 0.16, 0.03,...</td>\n",
       "      <td>[0.01, 0.01, 0.07, 0.91]</td>\n",
       "      <td>0.13</td>\n",
       "      <td>0.072</td>\n",
       "      <td>5</td>\n",
       "      <td>A2HSCKH5NKN5LP</td>\n",
       "    </tr>\n",
       "    <tr>\n",
       "      <th>6</th>\n",
       "      <td>[]</td>\n",
       "      <td>6</td>\n",
       "      <td>[0.15, 0.08, 0.18, 0.01, 0.06, 0.2, 0.1, 0.2, ...</td>\n",
       "      <td>[0.3, 0.23, 0.25, 0.22]</td>\n",
       "      <td>0.13</td>\n",
       "      <td>0.072</td>\n",
       "      <td>6</td>\n",
       "      <td>A2HSCKH5NKN5LP</td>\n",
       "    </tr>\n",
       "    <tr>\n",
       "      <th>7</th>\n",
       "      <td>[]</td>\n",
       "      <td>5</td>\n",
       "      <td>[0.12, 0.22, 0.16, 0.13, 0.08, 0.05, 0.08, 0.1...</td>\n",
       "      <td>[0.32, 0.11, 0.33, 0.24]</td>\n",
       "      <td>0.13</td>\n",
       "      <td>0.072</td>\n",
       "      <td>7</td>\n",
       "      <td>A2HSCKH5NKN5LP</td>\n",
       "    </tr>\n",
       "    <tr>\n",
       "      <th>8</th>\n",
       "      <td>[]</td>\n",
       "      <td>5</td>\n",
       "      <td>[0.09, 0.12, 0.15, 0.16, 0.16, 0.02, 0.19, 0.0...</td>\n",
       "      <td>[0.28, 0.12, 0.37, 0.23]</td>\n",
       "      <td>0.13</td>\n",
       "      <td>0.072</td>\n",
       "      <td>8</td>\n",
       "      <td>A2HSCKH5NKN5LP</td>\n",
       "    </tr>\n",
       "    <tr>\n",
       "      <th>9</th>\n",
       "      <td>[15]</td>\n",
       "      <td>4</td>\n",
       "      <td>[0.09, 0.1, 0.09, 0.19, 0.16, 0.1, 0.05, 0.12,...</td>\n",
       "      <td>[0.04, 0.05, 0.06, 0.85]</td>\n",
       "      <td>0.13</td>\n",
       "      <td>0.072</td>\n",
       "      <td>9</td>\n",
       "      <td>A2HSCKH5NKN5LP</td>\n",
       "    </tr>\n",
       "    <tr>\n",
       "      <th>10</th>\n",
       "      <td>[5, 17, 25, 13, 9, 1, 21]</td>\n",
       "      <td>1</td>\n",
       "      <td>[1.83, 5.28, 2.85, 3.52, 5.37, 3.97, 5.21, 7.9...</td>\n",
       "      <td>[0.08, 0.85, 0.05, 0.02]</td>\n",
       "      <td>5.00</td>\n",
       "      <td>2.994</td>\n",
       "      <td>10</td>\n",
       "      <td>A2HSCKH5NKN5LP</td>\n",
       "    </tr>\n",
       "    <tr>\n",
       "      <th>11</th>\n",
       "      <td>[11]</td>\n",
       "      <td>3</td>\n",
       "      <td>[4.31, 5.58, 0.27, 3.93, 1.46, 6.19, 4.49, 3.7...</td>\n",
       "      <td>[0.25, 0.15, 0.22, 0.38]</td>\n",
       "      <td>5.00</td>\n",
       "      <td>2.994</td>\n",
       "      <td>11</td>\n",
       "      <td>A2HSCKH5NKN5LP</td>\n",
       "    </tr>\n",
       "    <tr>\n",
       "      <th>12</th>\n",
       "      <td>[]</td>\n",
       "      <td>6</td>\n",
       "      <td>[2.16, 0.22, 6.67, 1.65, 6.7, 5.48, 4.92, 4.64...</td>\n",
       "      <td>[0.28, 0.23, 0.18, 0.31]</td>\n",
       "      <td>5.00</td>\n",
       "      <td>2.994</td>\n",
       "      <td>12</td>\n",
       "      <td>A2HSCKH5NKN5LP</td>\n",
       "    </tr>\n",
       "    <tr>\n",
       "      <th>13</th>\n",
       "      <td>[3, 11, 7, 15, 19, 23, 27]</td>\n",
       "      <td>4</td>\n",
       "      <td>[5.48, 7.93, 1.86, 5.57, 3.31, 4.44, 3.22, 1.9...</td>\n",
       "      <td>[0.07, 0.03, 0.05, 0.85]</td>\n",
       "      <td>5.00</td>\n",
       "      <td>2.994</td>\n",
       "      <td>13</td>\n",
       "      <td>A2HSCKH5NKN5LP</td>\n",
       "    </tr>\n",
       "    <tr>\n",
       "      <th>14</th>\n",
       "      <td>[2, 6, 10, 14, 18, 22, 26]</td>\n",
       "      <td>6</td>\n",
       "      <td>[3.49, 1.4, 2.55, 7.76, 5.53, 8.97, 3.4, 7.01,...</td>\n",
       "      <td>[0.03, 0.03, 0.89, 0.05]</td>\n",
       "      <td>5.00</td>\n",
       "      <td>2.994</td>\n",
       "      <td>14</td>\n",
       "      <td>A2HSCKH5NKN5LP</td>\n",
       "    </tr>\n",
       "    <tr>\n",
       "      <th>15</th>\n",
       "      <td>[3, 7, 11, 15, 19, 23, 27]</td>\n",
       "      <td>5</td>\n",
       "      <td>[4.34, 1.66, 8.41, 3.47, 4.94, 2.07, 3.55, 4.6...</td>\n",
       "      <td>[0.02, 0.03, 0.05, 0.9]</td>\n",
       "      <td>5.00</td>\n",
       "      <td>2.994</td>\n",
       "      <td>15</td>\n",
       "      <td>A2HSCKH5NKN5LP</td>\n",
       "    </tr>\n",
       "    <tr>\n",
       "      <th>16</th>\n",
       "      <td>[0, 4, 8, 16, 12, 20, 24]</td>\n",
       "      <td>5</td>\n",
       "      <td>[4.81, 8.31, 6.72, 2.04, 3.93, 4.19, 3.68, 4.2...</td>\n",
       "      <td>[0.87, 0.05, 0.04, 0.04]</td>\n",
       "      <td>5.00</td>\n",
       "      <td>2.994</td>\n",
       "      <td>16</td>\n",
       "      <td>A2HSCKH5NKN5LP</td>\n",
       "    </tr>\n",
       "    <tr>\n",
       "      <th>17</th>\n",
       "      <td>[]</td>\n",
       "      <td>3</td>\n",
       "      <td>[2.96, 3.15, 8.41, 0.4, 6.55, 5.69, 3.96, 3.63...</td>\n",
       "      <td>[0.14, 0.16, 0.38, 0.32]</td>\n",
       "      <td>5.00</td>\n",
       "      <td>2.994</td>\n",
       "      <td>17</td>\n",
       "      <td>A2HSCKH5NKN5LP</td>\n",
       "    </tr>\n",
       "    <tr>\n",
       "      <th>18</th>\n",
       "      <td>[]</td>\n",
       "      <td>2</td>\n",
       "      <td>[7.58, 4.76, 8.54, 8.34, 5.58, 5.58, 4.29, 7.7...</td>\n",
       "      <td>[0.32, 0.11, 0.3, 0.27]</td>\n",
       "      <td>5.00</td>\n",
       "      <td>2.994</td>\n",
       "      <td>18</td>\n",
       "      <td>A2HSCKH5NKN5LP</td>\n",
       "    </tr>\n",
       "    <tr>\n",
       "      <th>19</th>\n",
       "      <td>[]</td>\n",
       "      <td>3</td>\n",
       "      <td>[4.76, 8.14, 8.15, 5.28, 2.58, 6.38, 6.25, 3.0...</td>\n",
       "      <td>[0.37, 0.26, 0.16, 0.21]</td>\n",
       "      <td>5.00</td>\n",
       "      <td>2.994</td>\n",
       "      <td>19</td>\n",
       "      <td>A2HSCKH5NKN5LP</td>\n",
       "    </tr>\n",
       "    <tr>\n",
       "      <th>20</th>\n",
       "      <td>[10, 18, 2]</td>\n",
       "      <td>1</td>\n",
       "      <td>[0.09, 0.08, 0.18, 0.2, 0.11, 0.18, 0.08, 0.12...</td>\n",
       "      <td>[0.1, 0.04, 0.85, 0.01]</td>\n",
       "      <td>0.13</td>\n",
       "      <td>0.072</td>\n",
       "      <td>0</td>\n",
       "      <td>A8RDXT4ZILHQT</td>\n",
       "    </tr>\n",
       "    <tr>\n",
       "      <th>21</th>\n",
       "      <td>[1, 17, 9]</td>\n",
       "      <td>3</td>\n",
       "      <td>[0.12, 0.1, 0.1, 0.06, 0.12, 0.04, 0.11, 0.18,...</td>\n",
       "      <td>[0.1, 0.85, 0.02, 0.03]</td>\n",
       "      <td>0.13</td>\n",
       "      <td>0.072</td>\n",
       "      <td>1</td>\n",
       "      <td>A8RDXT4ZILHQT</td>\n",
       "    </tr>\n",
       "    <tr>\n",
       "      <th>22</th>\n",
       "      <td>[2]</td>\n",
       "      <td>1</td>\n",
       "      <td>[0.16, 0.15, 0.22, 0.2, 0.14, 0.16, 0.12, 0.22...</td>\n",
       "      <td>[0.26, 0.14, 0.3, 0.3]</td>\n",
       "      <td>0.13</td>\n",
       "      <td>0.072</td>\n",
       "      <td>2</td>\n",
       "      <td>A8RDXT4ZILHQT</td>\n",
       "    </tr>\n",
       "    <tr>\n",
       "      <th>23</th>\n",
       "      <td>[3, 5, 15, 21]</td>\n",
       "      <td>6</td>\n",
       "      <td>[0.09, 0.08, 0.2, 0.04, 0.05, 0.1, 0.21, 0.18,...</td>\n",
       "      <td>[0.17, 0.27, 0.21, 0.35]</td>\n",
       "      <td>0.13</td>\n",
       "      <td>0.072</td>\n",
       "      <td>3</td>\n",
       "      <td>A8RDXT4ZILHQT</td>\n",
       "    </tr>\n",
       "    <tr>\n",
       "      <th>24</th>\n",
       "      <td>[3, 0, 12]</td>\n",
       "      <td>4</td>\n",
       "      <td>[0.06, 0.07, 0.1, 0.03, 0.18, 0.17, 0.05, 0.14...</td>\n",
       "      <td>[0.34, 0.12, 0.22, 0.32]</td>\n",
       "      <td>0.13</td>\n",
       "      <td>0.072</td>\n",
       "      <td>4</td>\n",
       "      <td>A8RDXT4ZILHQT</td>\n",
       "    </tr>\n",
       "    <tr>\n",
       "      <th>25</th>\n",
       "      <td>[1, 9, 17, 25, 13]</td>\n",
       "      <td>4</td>\n",
       "      <td>[0.08, 0.14, 0.17, 0.18, 0.09, 0.18, 0.16, 0.2...</td>\n",
       "      <td>[0.04, 0.85, 0.07, 0.04]</td>\n",
       "      <td>0.13</td>\n",
       "      <td>0.072</td>\n",
       "      <td>5</td>\n",
       "      <td>A8RDXT4ZILHQT</td>\n",
       "    </tr>\n",
       "    <tr>\n",
       "      <th>26</th>\n",
       "      <td>[1]</td>\n",
       "      <td>1</td>\n",
       "      <td>[0.2, 0.21, 0.05, 0.18, 0.12, 0.12, 0.16, 0.11...</td>\n",
       "      <td>[0.02, 0.85, 0.04, 0.09]</td>\n",
       "      <td>0.13</td>\n",
       "      <td>0.072</td>\n",
       "      <td>6</td>\n",
       "      <td>A8RDXT4ZILHQT</td>\n",
       "    </tr>\n",
       "    <tr>\n",
       "      <th>27</th>\n",
       "      <td>[1, 9]</td>\n",
       "      <td>3</td>\n",
       "      <td>[0.2, 0.1, 0.16, 0.17, 0.13, 0.07, 0.04, 0.02,...</td>\n",
       "      <td>[0.27, 0.39, 0.13, 0.21]</td>\n",
       "      <td>0.13</td>\n",
       "      <td>0.072</td>\n",
       "      <td>7</td>\n",
       "      <td>A8RDXT4ZILHQT</td>\n",
       "    </tr>\n",
       "    <tr>\n",
       "      <th>28</th>\n",
       "      <td>[0, 16, 8, 24]</td>\n",
       "      <td>4</td>\n",
       "      <td>[0.12, 0.11, 0.08, 0.02, 0.09, 0.11, 0.17, 0.0...</td>\n",
       "      <td>[0.36, 0.19, 0.16, 0.29]</td>\n",
       "      <td>0.13</td>\n",
       "      <td>0.072</td>\n",
       "      <td>8</td>\n",
       "      <td>A8RDXT4ZILHQT</td>\n",
       "    </tr>\n",
       "    <tr>\n",
       "      <th>29</th>\n",
       "      <td>[3, 19]</td>\n",
       "      <td>3</td>\n",
       "      <td>[0.06, 0.08, 0.12, 0.1, 0.09, 0.06, 0.19, 0.09...</td>\n",
       "      <td>[0.01, 0.08, 0.04, 0.87]</td>\n",
       "      <td>0.13</td>\n",
       "      <td>0.072</td>\n",
       "      <td>9</td>\n",
       "      <td>A8RDXT4ZILHQT</td>\n",
       "    </tr>\n",
       "    <tr>\n",
       "      <th>...</th>\n",
       "      <td>...</td>\n",
       "      <td>...</td>\n",
       "      <td>...</td>\n",
       "      <td>...</td>\n",
       "      <td>...</td>\n",
       "      <td>...</td>\n",
       "      <td>...</td>\n",
       "      <td>...</td>\n",
       "    </tr>\n",
       "    <tr>\n",
       "      <th>1970</th>\n",
       "      <td>[0, 24, 4, 20, 2, 26, 14]</td>\n",
       "      <td>1</td>\n",
       "      <td>[0.13, 0.2, 0.05, 0.2, 0.01, 0.14, 0.18, 0.22,...</td>\n",
       "      <td>[0.85, 0.02, 0.12, 0.01]</td>\n",
       "      <td>0.13</td>\n",
       "      <td>0.072</td>\n",
       "      <td>10</td>\n",
       "      <td>A3MD34XEB4H6JF</td>\n",
       "    </tr>\n",
       "    <tr>\n",
       "      <th>1971</th>\n",
       "      <td>[0, 12, 8, 11, 24]</td>\n",
       "      <td>3</td>\n",
       "      <td>[0.1, 0.1, 0.22, 0.11, 0.06, 0.22, 0.16, 0.14,...</td>\n",
       "      <td>[0.86, 0.03, 0.04, 0.07]</td>\n",
       "      <td>0.13</td>\n",
       "      <td>0.072</td>\n",
       "      <td>11</td>\n",
       "      <td>A3MD34XEB4H6JF</td>\n",
       "    </tr>\n",
       "    <tr>\n",
       "      <th>1972</th>\n",
       "      <td>[3, 27, 11, 23, 21, 22, 20]</td>\n",
       "      <td>6</td>\n",
       "      <td>[0.12, 0.15, 0.06, 0.09, 0.15, 0.11, 0.12, 0.1...</td>\n",
       "      <td>[0.21, 0.2, 0.2, 0.39]</td>\n",
       "      <td>0.13</td>\n",
       "      <td>0.072</td>\n",
       "      <td>12</td>\n",
       "      <td>A3MD34XEB4H6JF</td>\n",
       "    </tr>\n",
       "    <tr>\n",
       "      <th>1973</th>\n",
       "      <td>[3, 1, 25, 27, 2]</td>\n",
       "      <td>1</td>\n",
       "      <td>[0.14, 0.23, 0.19, 0.05, 0.19, 0.11, 0.07, 0.2...</td>\n",
       "      <td>[0.16, 0.24, 0.31, 0.29]</td>\n",
       "      <td>0.13</td>\n",
       "      <td>0.072</td>\n",
       "      <td>13</td>\n",
       "      <td>A3MD34XEB4H6JF</td>\n",
       "    </tr>\n",
       "    <tr>\n",
       "      <th>1974</th>\n",
       "      <td>[2, 6, 5, 26]</td>\n",
       "      <td>7</td>\n",
       "      <td>[0.15, 0.09, 0.1, 0.1, 0.24, 0.05, 0.1, 0.1, 0...</td>\n",
       "      <td>[0.05, 0.09, 0.85, 0.01]</td>\n",
       "      <td>0.13</td>\n",
       "      <td>0.072</td>\n",
       "      <td>14</td>\n",
       "      <td>A3MD34XEB4H6JF</td>\n",
       "    </tr>\n",
       "    <tr>\n",
       "      <th>1975</th>\n",
       "      <td>[3, 27, 1, 15]</td>\n",
       "      <td>1</td>\n",
       "      <td>[0.12, 0.05, 0.04, 0.24, 0.1, 0.11, 0.21, 0.07...</td>\n",
       "      <td>[0.05, 0.07, 0.01, 0.87]</td>\n",
       "      <td>0.13</td>\n",
       "      <td>0.072</td>\n",
       "      <td>15</td>\n",
       "      <td>A3MD34XEB4H6JF</td>\n",
       "    </tr>\n",
       "    <tr>\n",
       "      <th>1976</th>\n",
       "      <td>[2, 26, 21, 23]</td>\n",
       "      <td>6</td>\n",
       "      <td>[0.02, 0.14, 0.02, 0.22, 0.12, 0.19, 0.19, 0.1...</td>\n",
       "      <td>[0.34, 0.13, 0.37, 0.16]</td>\n",
       "      <td>0.13</td>\n",
       "      <td>0.072</td>\n",
       "      <td>16</td>\n",
       "      <td>A3MD34XEB4H6JF</td>\n",
       "    </tr>\n",
       "    <tr>\n",
       "      <th>1977</th>\n",
       "      <td>[3, 2, 6, 7, 10, 11]</td>\n",
       "      <td>1</td>\n",
       "      <td>[0.14, 0.1, 0.06, 0.16, 0.23, 0.17, 0.12, 0.04...</td>\n",
       "      <td>[0.23, 0.13, 0.27, 0.37]</td>\n",
       "      <td>0.13</td>\n",
       "      <td>0.072</td>\n",
       "      <td>17</td>\n",
       "      <td>A3MD34XEB4H6JF</td>\n",
       "    </tr>\n",
       "    <tr>\n",
       "      <th>1978</th>\n",
       "      <td>[1, 0]</td>\n",
       "      <td>1</td>\n",
       "      <td>[0.15, 0.13, 0.11, 0.12, 0.04, 0.22, 0.11, 0.0...</td>\n",
       "      <td>[0.39, 0.34, 0.16, 0.11]</td>\n",
       "      <td>0.13</td>\n",
       "      <td>0.072</td>\n",
       "      <td>18</td>\n",
       "      <td>A3MD34XEB4H6JF</td>\n",
       "    </tr>\n",
       "    <tr>\n",
       "      <th>1979</th>\n",
       "      <td>[0, 4, 24]</td>\n",
       "      <td>7</td>\n",
       "      <td>[0.15, 0.15, 0.16, 0.18, 0.14, 0.13, 0.13, 0.0...</td>\n",
       "      <td>[0.86, 0.01, 0.07, 0.06]</td>\n",
       "      <td>0.13</td>\n",
       "      <td>0.072</td>\n",
       "      <td>19</td>\n",
       "      <td>A3MD34XEB4H6JF</td>\n",
       "    </tr>\n",
       "    <tr>\n",
       "      <th>1980</th>\n",
       "      <td>[2, 1, 0, 3, 7, 6, 5, 4, 8, 9, 10, 11]</td>\n",
       "      <td>1</td>\n",
       "      <td>[4.13, 6.41, 9.42, 2.5, 3.63, 4.71, 6.8, 2.31,...</td>\n",
       "      <td>[0.22, 0.29, 0.37, 0.12]</td>\n",
       "      <td>5.00</td>\n",
       "      <td>2.994</td>\n",
       "      <td>0</td>\n",
       "      <td>A2AWBDW9V1E9KT</td>\n",
       "    </tr>\n",
       "    <tr>\n",
       "      <th>1981</th>\n",
       "      <td>[2, 6, 10, 14, 18, 22, 26, 13, 12, 15, 1, 0, 3]</td>\n",
       "      <td>4</td>\n",
       "      <td>[7.5, 5.89, 8.16, 6.98, 7.32, 5.95, 7.66, 7.4,...</td>\n",
       "      <td>[0.09, 0.02, 0.88, 0.01]</td>\n",
       "      <td>5.00</td>\n",
       "      <td>2.994</td>\n",
       "      <td>1</td>\n",
       "      <td>A2AWBDW9V1E9KT</td>\n",
       "    </tr>\n",
       "    <tr>\n",
       "      <th>1982</th>\n",
       "      <td>[3, 7, 11, 15, 19, 23, 27, 22, 21, 20, 10, 9, 8]</td>\n",
       "      <td>6</td>\n",
       "      <td>[5.56, 2.97, 2.83, 4.87, 5.35, 4.39, 8.16, 4.1...</td>\n",
       "      <td>[0.29, 0.19, 0.15, 0.37]</td>\n",
       "      <td>5.00</td>\n",
       "      <td>2.994</td>\n",
       "      <td>2</td>\n",
       "      <td>A2AWBDW9V1E9KT</td>\n",
       "    </tr>\n",
       "    <tr>\n",
       "      <th>1983</th>\n",
       "      <td>[3, 7, 11, 15, 19, 23, 27, 6, 5, 4, 2, 1, 0, 1...</td>\n",
       "      <td>2</td>\n",
       "      <td>[3.37, 7.2, 0.04, 8.84, 2.74, 2.94, 5.11, 9.57...</td>\n",
       "      <td>[0.01, 0.02, 0.07, 0.9]</td>\n",
       "      <td>5.00</td>\n",
       "      <td>2.994</td>\n",
       "      <td>3</td>\n",
       "      <td>A2AWBDW9V1E9KT</td>\n",
       "    </tr>\n",
       "    <tr>\n",
       "      <th>1984</th>\n",
       "      <td>[2, 6, 10, 14, 18, 22, 26, 21, 20, 23, 9, 8, 11]</td>\n",
       "      <td>6</td>\n",
       "      <td>[5.19, 1.81, 6.12, 7.32, 7.51, 6.59, 4.98, 4.8...</td>\n",
       "      <td>[0.1, 0.03, 0.85, 0.02]</td>\n",
       "      <td>5.00</td>\n",
       "      <td>2.994</td>\n",
       "      <td>4</td>\n",
       "      <td>A2AWBDW9V1E9KT</td>\n",
       "    </tr>\n",
       "    <tr>\n",
       "      <th>1985</th>\n",
       "      <td>[2, 6, 10, 14, 18, 22, 26, 5, 4, 7, 17, 16, 19...</td>\n",
       "      <td>7</td>\n",
       "      <td>[7.81, 9.0, 3.1, 5.91, 5.1, 1.85, 6.67, 3.0, 5...</td>\n",
       "      <td>[0.2, 0.13, 0.38, 0.29]</td>\n",
       "      <td>5.00</td>\n",
       "      <td>2.994</td>\n",
       "      <td>5</td>\n",
       "      <td>A2AWBDW9V1E9KT</td>\n",
       "    </tr>\n",
       "    <tr>\n",
       "      <th>1986</th>\n",
       "      <td>[3, 7, 11, 15, 19, 23, 27, 0, 4, 8, 12, 16, 20...</td>\n",
       "      <td>3</td>\n",
       "      <td>[4.84, 1.65, 6.69, 6.52, 1.74, 3.81, 4.03, 2.0...</td>\n",
       "      <td>[0.38, 0.17, 0.13, 0.32]</td>\n",
       "      <td>5.00</td>\n",
       "      <td>2.994</td>\n",
       "      <td>6</td>\n",
       "      <td>A2AWBDW9V1E9KT</td>\n",
       "    </tr>\n",
       "    <tr>\n",
       "      <th>1987</th>\n",
       "      <td>[2, 6, 10, 14, 18, 22, 26, 9, 8, 11, 25, 24, 27]</td>\n",
       "      <td>7</td>\n",
       "      <td>[5.27, 5.97, 3.85, 1.75, 6.64, 3.92, 3.56, 5.8...</td>\n",
       "      <td>[0.05, 0.06, 0.85, 0.04]</td>\n",
       "      <td>5.00</td>\n",
       "      <td>2.994</td>\n",
       "      <td>7</td>\n",
       "      <td>A2AWBDW9V1E9KT</td>\n",
       "    </tr>\n",
       "    <tr>\n",
       "      <th>1988</th>\n",
       "      <td>[1, 5, 9, 13, 17, 21, 25, 0, 2, 3, 16, 18, 19,...</td>\n",
       "      <td>1</td>\n",
       "      <td>[5.14, 6.76, 4.3, 1.51, 0.17, 0.15, 8.96, 9.75...</td>\n",
       "      <td>[0.03, 0.91, 0.05, 0.01]</td>\n",
       "      <td>5.00</td>\n",
       "      <td>2.994</td>\n",
       "      <td>8</td>\n",
       "      <td>A2AWBDW9V1E9KT</td>\n",
       "    </tr>\n",
       "    <tr>\n",
       "      <th>1989</th>\n",
       "      <td>[2, 6, 10, 14, 18, 22, 26, 13, 12, 15, 25, 24,...</td>\n",
       "      <td>7</td>\n",
       "      <td>[3.73, 1.9, 3.75, 8.53, 6.48, 4.41, 3.48, 2.85...</td>\n",
       "      <td>[0.29, 0.21, 0.34, 0.16]</td>\n",
       "      <td>5.00</td>\n",
       "      <td>2.994</td>\n",
       "      <td>9</td>\n",
       "      <td>A2AWBDW9V1E9KT</td>\n",
       "    </tr>\n",
       "    <tr>\n",
       "      <th>1990</th>\n",
       "      <td>[]</td>\n",
       "      <td>4</td>\n",
       "      <td>[0.12, 0.01, 0.1, 0.1, 0.13, 0.06, 0.17, 0.14,...</td>\n",
       "      <td>[0.32, 0.23, 0.18, 0.27]</td>\n",
       "      <td>0.13</td>\n",
       "      <td>0.072</td>\n",
       "      <td>10</td>\n",
       "      <td>A2AWBDW9V1E9KT</td>\n",
       "    </tr>\n",
       "    <tr>\n",
       "      <th>1991</th>\n",
       "      <td>[]</td>\n",
       "      <td>4</td>\n",
       "      <td>[0.07, 0.12, 0.09, 0.17, 0.08, 0.06, 0.06, 0.0...</td>\n",
       "      <td>[0.02, 0.88, 0.06, 0.04]</td>\n",
       "      <td>0.13</td>\n",
       "      <td>0.072</td>\n",
       "      <td>11</td>\n",
       "      <td>A2AWBDW9V1E9KT</td>\n",
       "    </tr>\n",
       "    <tr>\n",
       "      <th>1992</th>\n",
       "      <td>[]</td>\n",
       "      <td>4</td>\n",
       "      <td>[0.15, 0.17, 0.12, 0.09, 0.12, 0.16, 0.24, 0.1...</td>\n",
       "      <td>[0.14, 0.34, 0.22, 0.3]</td>\n",
       "      <td>0.13</td>\n",
       "      <td>0.072</td>\n",
       "      <td>12</td>\n",
       "      <td>A2AWBDW9V1E9KT</td>\n",
       "    </tr>\n",
       "    <tr>\n",
       "      <th>1993</th>\n",
       "      <td>[]</td>\n",
       "      <td>4</td>\n",
       "      <td>[0.19, 0.05, 0.1, 0.19, 0.13, 0.07, 0.08, 0.22...</td>\n",
       "      <td>[0.01, 0.94, 0.04, 0.01]</td>\n",
       "      <td>0.13</td>\n",
       "      <td>0.072</td>\n",
       "      <td>13</td>\n",
       "      <td>A2AWBDW9V1E9KT</td>\n",
       "    </tr>\n",
       "    <tr>\n",
       "      <th>1994</th>\n",
       "      <td>[]</td>\n",
       "      <td>4</td>\n",
       "      <td>[0.2, 0.09, 0.16, 0.2, 0.13, 0.1, 0.14, 0.22, ...</td>\n",
       "      <td>[0.26, 0.26, 0.33, 0.15]</td>\n",
       "      <td>0.13</td>\n",
       "      <td>0.072</td>\n",
       "      <td>14</td>\n",
       "      <td>A2AWBDW9V1E9KT</td>\n",
       "    </tr>\n",
       "    <tr>\n",
       "      <th>1995</th>\n",
       "      <td>[]</td>\n",
       "      <td>6</td>\n",
       "      <td>[0.08, 0.05, 0.24, 0.19, 0.14, 0.07, 0.12, 0.1...</td>\n",
       "      <td>[0.01, 0.08, 0.06, 0.85]</td>\n",
       "      <td>0.13</td>\n",
       "      <td>0.072</td>\n",
       "      <td>15</td>\n",
       "      <td>A2AWBDW9V1E9KT</td>\n",
       "    </tr>\n",
       "    <tr>\n",
       "      <th>1996</th>\n",
       "      <td>[]</td>\n",
       "      <td>1</td>\n",
       "      <td>[0.06, 0.13, 0.16, 0.24, 0.13, 0.17, 0.15, 0.2...</td>\n",
       "      <td>[0.12, 0.01, 0.01, 0.86]</td>\n",
       "      <td>0.13</td>\n",
       "      <td>0.072</td>\n",
       "      <td>16</td>\n",
       "      <td>A2AWBDW9V1E9KT</td>\n",
       "    </tr>\n",
       "    <tr>\n",
       "      <th>1997</th>\n",
       "      <td>[]</td>\n",
       "      <td>1</td>\n",
       "      <td>[0.07, 0.12, 0.13, 0.19, 0.17, 0.12, 0.14, 0.0...</td>\n",
       "      <td>[0.26, 0.23, 0.24, 0.27]</td>\n",
       "      <td>0.13</td>\n",
       "      <td>0.072</td>\n",
       "      <td>17</td>\n",
       "      <td>A2AWBDW9V1E9KT</td>\n",
       "    </tr>\n",
       "    <tr>\n",
       "      <th>1998</th>\n",
       "      <td>[]</td>\n",
       "      <td>6</td>\n",
       "      <td>[0.22, 0.12, 0.09, 0.22, 0.17, 0.19, 0.23, 0.0...</td>\n",
       "      <td>[0.39, 0.3, 0.17, 0.14]</td>\n",
       "      <td>0.13</td>\n",
       "      <td>0.072</td>\n",
       "      <td>18</td>\n",
       "      <td>A2AWBDW9V1E9KT</td>\n",
       "    </tr>\n",
       "    <tr>\n",
       "      <th>1999</th>\n",
       "      <td>[]</td>\n",
       "      <td>7</td>\n",
       "      <td>[0.13, 0.11, 0.23, 0.24, 0.18, 0.17, 0.13, 0.1...</td>\n",
       "      <td>[0.86, 0.01, 0.08, 0.05]</td>\n",
       "      <td>0.13</td>\n",
       "      <td>0.072</td>\n",
       "      <td>19</td>\n",
       "      <td>A2AWBDW9V1E9KT</td>\n",
       "    </tr>\n",
       "  </tbody>\n",
       "</table>\n",
       "<p>2000 rows × 8 columns</p>\n",
       "</div>"
      ],
      "text/plain": [
       "                                                 clicks  decision  \\\n",
       "0                                                    []         1   \n",
       "1                                                    []         6   \n",
       "2                                                    []         4   \n",
       "3                                                    []         4   \n",
       "4                                                    []         5   \n",
       "5                                                    []         2   \n",
       "6                                                    []         6   \n",
       "7                                                    []         5   \n",
       "8                                                    []         5   \n",
       "9                                                  [15]         4   \n",
       "10                            [5, 17, 25, 13, 9, 1, 21]         1   \n",
       "11                                                 [11]         3   \n",
       "12                                                   []         6   \n",
       "13                           [3, 11, 7, 15, 19, 23, 27]         4   \n",
       "14                           [2, 6, 10, 14, 18, 22, 26]         6   \n",
       "15                           [3, 7, 11, 15, 19, 23, 27]         5   \n",
       "16                            [0, 4, 8, 16, 12, 20, 24]         5   \n",
       "17                                                   []         3   \n",
       "18                                                   []         2   \n",
       "19                                                   []         3   \n",
       "20                                          [10, 18, 2]         1   \n",
       "21                                           [1, 17, 9]         3   \n",
       "22                                                  [2]         1   \n",
       "23                                       [3, 5, 15, 21]         6   \n",
       "24                                           [3, 0, 12]         4   \n",
       "25                                   [1, 9, 17, 25, 13]         4   \n",
       "26                                                  [1]         1   \n",
       "27                                               [1, 9]         3   \n",
       "28                                       [0, 16, 8, 24]         4   \n",
       "29                                              [3, 19]         3   \n",
       "...                                                 ...       ...   \n",
       "1970                          [0, 24, 4, 20, 2, 26, 14]         1   \n",
       "1971                                 [0, 12, 8, 11, 24]         3   \n",
       "1972                        [3, 27, 11, 23, 21, 22, 20]         6   \n",
       "1973                                  [3, 1, 25, 27, 2]         1   \n",
       "1974                                      [2, 6, 5, 26]         7   \n",
       "1975                                     [3, 27, 1, 15]         1   \n",
       "1976                                    [2, 26, 21, 23]         6   \n",
       "1977                               [3, 2, 6, 7, 10, 11]         1   \n",
       "1978                                             [1, 0]         1   \n",
       "1979                                         [0, 4, 24]         7   \n",
       "1980             [2, 1, 0, 3, 7, 6, 5, 4, 8, 9, 10, 11]         1   \n",
       "1981    [2, 6, 10, 14, 18, 22, 26, 13, 12, 15, 1, 0, 3]         4   \n",
       "1982   [3, 7, 11, 15, 19, 23, 27, 22, 21, 20, 10, 9, 8]         6   \n",
       "1983  [3, 7, 11, 15, 19, 23, 27, 6, 5, 4, 2, 1, 0, 1...         2   \n",
       "1984   [2, 6, 10, 14, 18, 22, 26, 21, 20, 23, 9, 8, 11]         6   \n",
       "1985  [2, 6, 10, 14, 18, 22, 26, 5, 4, 7, 17, 16, 19...         7   \n",
       "1986  [3, 7, 11, 15, 19, 23, 27, 0, 4, 8, 12, 16, 20...         3   \n",
       "1987   [2, 6, 10, 14, 18, 22, 26, 9, 8, 11, 25, 24, 27]         7   \n",
       "1988  [1, 5, 9, 13, 17, 21, 25, 0, 2, 3, 16, 18, 19,...         1   \n",
       "1989  [2, 6, 10, 14, 18, 22, 26, 13, 12, 15, 25, 24,...         7   \n",
       "1990                                                 []         4   \n",
       "1991                                                 []         4   \n",
       "1992                                                 []         4   \n",
       "1993                                                 []         4   \n",
       "1994                                                 []         4   \n",
       "1995                                                 []         6   \n",
       "1996                                                 []         1   \n",
       "1997                                                 []         1   \n",
       "1998                                                 []         6   \n",
       "1999                                                 []         7   \n",
       "\n",
       "                                           ground_truth  \\\n",
       "0     [0.16, 0.2, 0.16, 0.07, 0.1, 0.2, 0.12, 0.11, ...   \n",
       "1     [0.08, 0.18, 0.14, 0.16, 0.03, 0.14, 0.01, 0.1...   \n",
       "2     [0.11, 0.2, 0.17, 0.08, 0.18, 0.16, 0.12, 0.03...   \n",
       "3     [0.06, 0.17, 0.19, 0.14, 0.07, 0.18, 0.15, 0.0...   \n",
       "4     [0.09, 0.09, 0.11, 0.13, 0.2, 0.09, 0.24, 0.08...   \n",
       "5     [0.03, 0.1, 0.02, 0.13, 0.1, 0.11, 0.16, 0.03,...   \n",
       "6     [0.15, 0.08, 0.18, 0.01, 0.06, 0.2, 0.1, 0.2, ...   \n",
       "7     [0.12, 0.22, 0.16, 0.13, 0.08, 0.05, 0.08, 0.1...   \n",
       "8     [0.09, 0.12, 0.15, 0.16, 0.16, 0.02, 0.19, 0.0...   \n",
       "9     [0.09, 0.1, 0.09, 0.19, 0.16, 0.1, 0.05, 0.12,...   \n",
       "10    [1.83, 5.28, 2.85, 3.52, 5.37, 3.97, 5.21, 7.9...   \n",
       "11    [4.31, 5.58, 0.27, 3.93, 1.46, 6.19, 4.49, 3.7...   \n",
       "12    [2.16, 0.22, 6.67, 1.65, 6.7, 5.48, 4.92, 4.64...   \n",
       "13    [5.48, 7.93, 1.86, 5.57, 3.31, 4.44, 3.22, 1.9...   \n",
       "14    [3.49, 1.4, 2.55, 7.76, 5.53, 8.97, 3.4, 7.01,...   \n",
       "15    [4.34, 1.66, 8.41, 3.47, 4.94, 2.07, 3.55, 4.6...   \n",
       "16    [4.81, 8.31, 6.72, 2.04, 3.93, 4.19, 3.68, 4.2...   \n",
       "17    [2.96, 3.15, 8.41, 0.4, 6.55, 5.69, 3.96, 3.63...   \n",
       "18    [7.58, 4.76, 8.54, 8.34, 5.58, 5.58, 4.29, 7.7...   \n",
       "19    [4.76, 8.14, 8.15, 5.28, 2.58, 6.38, 6.25, 3.0...   \n",
       "20    [0.09, 0.08, 0.18, 0.2, 0.11, 0.18, 0.08, 0.12...   \n",
       "21    [0.12, 0.1, 0.1, 0.06, 0.12, 0.04, 0.11, 0.18,...   \n",
       "22    [0.16, 0.15, 0.22, 0.2, 0.14, 0.16, 0.12, 0.22...   \n",
       "23    [0.09, 0.08, 0.2, 0.04, 0.05, 0.1, 0.21, 0.18,...   \n",
       "24    [0.06, 0.07, 0.1, 0.03, 0.18, 0.17, 0.05, 0.14...   \n",
       "25    [0.08, 0.14, 0.17, 0.18, 0.09, 0.18, 0.16, 0.2...   \n",
       "26    [0.2, 0.21, 0.05, 0.18, 0.12, 0.12, 0.16, 0.11...   \n",
       "27    [0.2, 0.1, 0.16, 0.17, 0.13, 0.07, 0.04, 0.02,...   \n",
       "28    [0.12, 0.11, 0.08, 0.02, 0.09, 0.11, 0.17, 0.0...   \n",
       "29    [0.06, 0.08, 0.12, 0.1, 0.09, 0.06, 0.19, 0.09...   \n",
       "...                                                 ...   \n",
       "1970  [0.13, 0.2, 0.05, 0.2, 0.01, 0.14, 0.18, 0.22,...   \n",
       "1971  [0.1, 0.1, 0.22, 0.11, 0.06, 0.22, 0.16, 0.14,...   \n",
       "1972  [0.12, 0.15, 0.06, 0.09, 0.15, 0.11, 0.12, 0.1...   \n",
       "1973  [0.14, 0.23, 0.19, 0.05, 0.19, 0.11, 0.07, 0.2...   \n",
       "1974  [0.15, 0.09, 0.1, 0.1, 0.24, 0.05, 0.1, 0.1, 0...   \n",
       "1975  [0.12, 0.05, 0.04, 0.24, 0.1, 0.11, 0.21, 0.07...   \n",
       "1976  [0.02, 0.14, 0.02, 0.22, 0.12, 0.19, 0.19, 0.1...   \n",
       "1977  [0.14, 0.1, 0.06, 0.16, 0.23, 0.17, 0.12, 0.04...   \n",
       "1978  [0.15, 0.13, 0.11, 0.12, 0.04, 0.22, 0.11, 0.0...   \n",
       "1979  [0.15, 0.15, 0.16, 0.18, 0.14, 0.13, 0.13, 0.0...   \n",
       "1980  [4.13, 6.41, 9.42, 2.5, 3.63, 4.71, 6.8, 2.31,...   \n",
       "1981  [7.5, 5.89, 8.16, 6.98, 7.32, 5.95, 7.66, 7.4,...   \n",
       "1982  [5.56, 2.97, 2.83, 4.87, 5.35, 4.39, 8.16, 4.1...   \n",
       "1983  [3.37, 7.2, 0.04, 8.84, 2.74, 2.94, 5.11, 9.57...   \n",
       "1984  [5.19, 1.81, 6.12, 7.32, 7.51, 6.59, 4.98, 4.8...   \n",
       "1985  [7.81, 9.0, 3.1, 5.91, 5.1, 1.85, 6.67, 3.0, 5...   \n",
       "1986  [4.84, 1.65, 6.69, 6.52, 1.74, 3.81, 4.03, 2.0...   \n",
       "1987  [5.27, 5.97, 3.85, 1.75, 6.64, 3.92, 3.56, 5.8...   \n",
       "1988  [5.14, 6.76, 4.3, 1.51, 0.17, 0.15, 8.96, 9.75...   \n",
       "1989  [3.73, 1.9, 3.75, 8.53, 6.48, 4.41, 3.48, 2.85...   \n",
       "1990  [0.12, 0.01, 0.1, 0.1, 0.13, 0.06, 0.17, 0.14,...   \n",
       "1991  [0.07, 0.12, 0.09, 0.17, 0.08, 0.06, 0.06, 0.0...   \n",
       "1992  [0.15, 0.17, 0.12, 0.09, 0.12, 0.16, 0.24, 0.1...   \n",
       "1993  [0.19, 0.05, 0.1, 0.19, 0.13, 0.07, 0.08, 0.22...   \n",
       "1994  [0.2, 0.09, 0.16, 0.2, 0.13, 0.1, 0.14, 0.22, ...   \n",
       "1995  [0.08, 0.05, 0.24, 0.19, 0.14, 0.07, 0.12, 0.1...   \n",
       "1996  [0.06, 0.13, 0.16, 0.24, 0.13, 0.17, 0.15, 0.2...   \n",
       "1997  [0.07, 0.12, 0.13, 0.19, 0.17, 0.12, 0.14, 0.0...   \n",
       "1998  [0.22, 0.12, 0.09, 0.22, 0.17, 0.19, 0.23, 0.0...   \n",
       "1999  [0.13, 0.11, 0.23, 0.24, 0.18, 0.17, 0.13, 0.1...   \n",
       "\n",
       "                 outcome_probs  reward_mu  reward_sigma  trial_index  \\\n",
       "0     [0.16, 0.19, 0.39, 0.26]       0.13         0.072            0   \n",
       "1     [0.35, 0.27, 0.24, 0.14]       0.13         0.072            1   \n",
       "2     [0.06, 0.05, 0.86, 0.03]       0.13         0.072            2   \n",
       "3      [0.02, 0.9, 0.02, 0.06]       0.13         0.072            3   \n",
       "4      [0.08, 0.9, 0.01, 0.01]       0.13         0.072            4   \n",
       "5     [0.01, 0.01, 0.07, 0.91]       0.13         0.072            5   \n",
       "6      [0.3, 0.23, 0.25, 0.22]       0.13         0.072            6   \n",
       "7     [0.32, 0.11, 0.33, 0.24]       0.13         0.072            7   \n",
       "8     [0.28, 0.12, 0.37, 0.23]       0.13         0.072            8   \n",
       "9     [0.04, 0.05, 0.06, 0.85]       0.13         0.072            9   \n",
       "10    [0.08, 0.85, 0.05, 0.02]       5.00         2.994           10   \n",
       "11    [0.25, 0.15, 0.22, 0.38]       5.00         2.994           11   \n",
       "12    [0.28, 0.23, 0.18, 0.31]       5.00         2.994           12   \n",
       "13    [0.07, 0.03, 0.05, 0.85]       5.00         2.994           13   \n",
       "14    [0.03, 0.03, 0.89, 0.05]       5.00         2.994           14   \n",
       "15     [0.02, 0.03, 0.05, 0.9]       5.00         2.994           15   \n",
       "16    [0.87, 0.05, 0.04, 0.04]       5.00         2.994           16   \n",
       "17    [0.14, 0.16, 0.38, 0.32]       5.00         2.994           17   \n",
       "18     [0.32, 0.11, 0.3, 0.27]       5.00         2.994           18   \n",
       "19    [0.37, 0.26, 0.16, 0.21]       5.00         2.994           19   \n",
       "20     [0.1, 0.04, 0.85, 0.01]       0.13         0.072            0   \n",
       "21     [0.1, 0.85, 0.02, 0.03]       0.13         0.072            1   \n",
       "22      [0.26, 0.14, 0.3, 0.3]       0.13         0.072            2   \n",
       "23    [0.17, 0.27, 0.21, 0.35]       0.13         0.072            3   \n",
       "24    [0.34, 0.12, 0.22, 0.32]       0.13         0.072            4   \n",
       "25    [0.04, 0.85, 0.07, 0.04]       0.13         0.072            5   \n",
       "26    [0.02, 0.85, 0.04, 0.09]       0.13         0.072            6   \n",
       "27    [0.27, 0.39, 0.13, 0.21]       0.13         0.072            7   \n",
       "28    [0.36, 0.19, 0.16, 0.29]       0.13         0.072            8   \n",
       "29    [0.01, 0.08, 0.04, 0.87]       0.13         0.072            9   \n",
       "...                        ...        ...           ...          ...   \n",
       "1970  [0.85, 0.02, 0.12, 0.01]       0.13         0.072           10   \n",
       "1971  [0.86, 0.03, 0.04, 0.07]       0.13         0.072           11   \n",
       "1972    [0.21, 0.2, 0.2, 0.39]       0.13         0.072           12   \n",
       "1973  [0.16, 0.24, 0.31, 0.29]       0.13         0.072           13   \n",
       "1974  [0.05, 0.09, 0.85, 0.01]       0.13         0.072           14   \n",
       "1975  [0.05, 0.07, 0.01, 0.87]       0.13         0.072           15   \n",
       "1976  [0.34, 0.13, 0.37, 0.16]       0.13         0.072           16   \n",
       "1977  [0.23, 0.13, 0.27, 0.37]       0.13         0.072           17   \n",
       "1978  [0.39, 0.34, 0.16, 0.11]       0.13         0.072           18   \n",
       "1979  [0.86, 0.01, 0.07, 0.06]       0.13         0.072           19   \n",
       "1980  [0.22, 0.29, 0.37, 0.12]       5.00         2.994            0   \n",
       "1981  [0.09, 0.02, 0.88, 0.01]       5.00         2.994            1   \n",
       "1982  [0.29, 0.19, 0.15, 0.37]       5.00         2.994            2   \n",
       "1983   [0.01, 0.02, 0.07, 0.9]       5.00         2.994            3   \n",
       "1984   [0.1, 0.03, 0.85, 0.02]       5.00         2.994            4   \n",
       "1985   [0.2, 0.13, 0.38, 0.29]       5.00         2.994            5   \n",
       "1986  [0.38, 0.17, 0.13, 0.32]       5.00         2.994            6   \n",
       "1987  [0.05, 0.06, 0.85, 0.04]       5.00         2.994            7   \n",
       "1988  [0.03, 0.91, 0.05, 0.01]       5.00         2.994            8   \n",
       "1989  [0.29, 0.21, 0.34, 0.16]       5.00         2.994            9   \n",
       "1990  [0.32, 0.23, 0.18, 0.27]       0.13         0.072           10   \n",
       "1991  [0.02, 0.88, 0.06, 0.04]       0.13         0.072           11   \n",
       "1992   [0.14, 0.34, 0.22, 0.3]       0.13         0.072           12   \n",
       "1993  [0.01, 0.94, 0.04, 0.01]       0.13         0.072           13   \n",
       "1994  [0.26, 0.26, 0.33, 0.15]       0.13         0.072           14   \n",
       "1995  [0.01, 0.08, 0.06, 0.85]       0.13         0.072           15   \n",
       "1996  [0.12, 0.01, 0.01, 0.86]       0.13         0.072           16   \n",
       "1997  [0.26, 0.23, 0.24, 0.27]       0.13         0.072           17   \n",
       "1998   [0.39, 0.3, 0.17, 0.14]       0.13         0.072           18   \n",
       "1999  [0.86, 0.01, 0.08, 0.05]       0.13         0.072           19   \n",
       "\n",
       "            workerid  \n",
       "0     A2HSCKH5NKN5LP  \n",
       "1     A2HSCKH5NKN5LP  \n",
       "2     A2HSCKH5NKN5LP  \n",
       "3     A2HSCKH5NKN5LP  \n",
       "4     A2HSCKH5NKN5LP  \n",
       "5     A2HSCKH5NKN5LP  \n",
       "6     A2HSCKH5NKN5LP  \n",
       "7     A2HSCKH5NKN5LP  \n",
       "8     A2HSCKH5NKN5LP  \n",
       "9     A2HSCKH5NKN5LP  \n",
       "10    A2HSCKH5NKN5LP  \n",
       "11    A2HSCKH5NKN5LP  \n",
       "12    A2HSCKH5NKN5LP  \n",
       "13    A2HSCKH5NKN5LP  \n",
       "14    A2HSCKH5NKN5LP  \n",
       "15    A2HSCKH5NKN5LP  \n",
       "16    A2HSCKH5NKN5LP  \n",
       "17    A2HSCKH5NKN5LP  \n",
       "18    A2HSCKH5NKN5LP  \n",
       "19    A2HSCKH5NKN5LP  \n",
       "20     A8RDXT4ZILHQT  \n",
       "21     A8RDXT4ZILHQT  \n",
       "22     A8RDXT4ZILHQT  \n",
       "23     A8RDXT4ZILHQT  \n",
       "24     A8RDXT4ZILHQT  \n",
       "25     A8RDXT4ZILHQT  \n",
       "26     A8RDXT4ZILHQT  \n",
       "27     A8RDXT4ZILHQT  \n",
       "28     A8RDXT4ZILHQT  \n",
       "29     A8RDXT4ZILHQT  \n",
       "...              ...  \n",
       "1970  A3MD34XEB4H6JF  \n",
       "1971  A3MD34XEB4H6JF  \n",
       "1972  A3MD34XEB4H6JF  \n",
       "1973  A3MD34XEB4H6JF  \n",
       "1974  A3MD34XEB4H6JF  \n",
       "1975  A3MD34XEB4H6JF  \n",
       "1976  A3MD34XEB4H6JF  \n",
       "1977  A3MD34XEB4H6JF  \n",
       "1978  A3MD34XEB4H6JF  \n",
       "1979  A3MD34XEB4H6JF  \n",
       "1980  A2AWBDW9V1E9KT  \n",
       "1981  A2AWBDW9V1E9KT  \n",
       "1982  A2AWBDW9V1E9KT  \n",
       "1983  A2AWBDW9V1E9KT  \n",
       "1984  A2AWBDW9V1E9KT  \n",
       "1985  A2AWBDW9V1E9KT  \n",
       "1986  A2AWBDW9V1E9KT  \n",
       "1987  A2AWBDW9V1E9KT  \n",
       "1988  A2AWBDW9V1E9KT  \n",
       "1989  A2AWBDW9V1E9KT  \n",
       "1990  A2AWBDW9V1E9KT  \n",
       "1991  A2AWBDW9V1E9KT  \n",
       "1992  A2AWBDW9V1E9KT  \n",
       "1993  A2AWBDW9V1E9KT  \n",
       "1994  A2AWBDW9V1E9KT  \n",
       "1995  A2AWBDW9V1E9KT  \n",
       "1996  A2AWBDW9V1E9KT  \n",
       "1997  A2AWBDW9V1E9KT  \n",
       "1998  A2AWBDW9V1E9KT  \n",
       "1999  A2AWBDW9V1E9KT  \n",
       "\n",
       "[2000 rows x 8 columns]"
      ]
     },
     "execution_count": 106,
     "metadata": {},
     "output_type": "execute_result"
    }
   ],
   "source": [
    "df"
   ]
  },
  {
   "cell_type": "code",
   "execution_count": 107,
   "metadata": {},
   "outputs": [],
   "source": [
    "j = 0\n",
    "participants = dict()\n",
    "for i, row in df.iterrows():\n",
    "    stakes = 'high' if env.reward.mu == 5.0 else 'low'\n",
    "    n_gambles = int(len(row['ground_truth'])/len(row['outcome_probs']))\n",
    "    env = make_env(gambles=n_gambles, ground_truth=row['ground_truth'], cost=0.01, dist=row['outcome_probs'], stakes=stakes)\n",
    "    if row['workerid'] in participants.keys():\n",
    "        participants[row['workerid']].append((env,row['clicks']))\n",
    "    else:\n",
    "        participants[row['workerid']] =[(env,row['clicks'])]"
   ]
  },
  {
   "cell_type": "code",
   "execution_count": 108,
   "metadata": {},
   "outputs": [],
   "source": [
    "parts = list(participants.keys())"
   ]
  },
  {
   "cell_type": "code",
   "execution_count": 109,
   "metadata": {},
   "outputs": [],
   "source": [
    "p=parts[0]"
   ]
  },
  {
   "cell_type": "code",
   "execution_count": 110,
   "metadata": {},
   "outputs": [],
   "source": [
    "data = participants[p] "
   ]
  },
  {
   "cell_type": "code",
   "execution_count": 111,
   "metadata": {
    "scrolled": true
   },
   "outputs": [
    {
     "data": {
      "text/plain": [
       "[(<oldmouselab.OldMouselabEnv at 0x2b865fe62048>, [4, 5, 9, 17]),\n",
       " (<oldmouselab.OldMouselabEnv at 0x2b865fe624a8>, [17, 1, 9, 21, 25, 5, 13]),\n",
       " (<oldmouselab.OldMouselabEnv at 0x2b865fe624e0>,\n",
       "  [24, 22, 17, 15, 9, 6, 3, 25, 26, 27]),\n",
       " (<oldmouselab.OldMouselabEnv at 0x2b865fe62550>,\n",
       "  [0, 1, 2, 3, 9, 14, 19, 23, 27, 11, 7]),\n",
       " (<oldmouselab.OldMouselabEnv at 0x2b865fe625c0>, [2, 6, 10, 14, 18, 22, 26]),\n",
       " (<oldmouselab.OldMouselabEnv at 0x2b865fe62630>, [2, 6, 10, 14, 18, 22, 26]),\n",
       " (<oldmouselab.OldMouselabEnv at 0x2b865fe626a0>, [1, 5, 9, 13, 17, 21, 25]),\n",
       " (<oldmouselab.OldMouselabEnv at 0x2b865fe62710>, [1, 5, 9, 13, 17, 21, 25]),\n",
       " (<oldmouselab.OldMouselabEnv at 0x2b865fe62780>,\n",
       "  [3, 7, 11, 15, 19, 23, 27, 1]),\n",
       " (<oldmouselab.OldMouselabEnv at 0x2b865fe627f0>,\n",
       "  [3, 7, 11, 15, 9, 19, 23, 27, 17]),\n",
       " (<oldmouselab.OldMouselabEnv at 0x2b865fe62860>, [1, 5, 9, 17, 21, 13]),\n",
       " (<oldmouselab.OldMouselabEnv at 0x2b865fe628d0>, []),\n",
       " (<oldmouselab.OldMouselabEnv at 0x2b865fe62940>, []),\n",
       " (<oldmouselab.OldMouselabEnv at 0x2b865fe629b0>, []),\n",
       " (<oldmouselab.OldMouselabEnv at 0x2b865fe62a20>, []),\n",
       " (<oldmouselab.OldMouselabEnv at 0x2b865fe62a90>, []),\n",
       " (<oldmouselab.OldMouselabEnv at 0x2b865fe62b00>, []),\n",
       " (<oldmouselab.OldMouselabEnv at 0x2b865fe62b70>, []),\n",
       " (<oldmouselab.OldMouselabEnv at 0x2b865fe62be0>, []),\n",
       " (<oldmouselab.OldMouselabEnv at 0x2b865fe62c50>, [])]"
      ]
     },
     "execution_count": 111,
     "metadata": {},
     "output_type": "execute_result"
    }
   ],
   "source": [
    "data"
   ]
  },
  {
   "cell_type": "code",
   "execution_count": 112,
   "metadata": {},
   "outputs": [],
   "source": [
    "import copy"
   ]
  },
  {
   "cell_type": "code",
   "execution_count": 221,
   "metadata": {},
   "outputs": [],
   "source": [
    "sm = []\n",
    "probses = []\n",
    "for p in parts:\n",
    "    data = participants[p]\n",
    "    probs = []\n",
    "    for episode in data:\n",
    "        env, trial = copy.deepcopy(episode)\n",
    "        trial = trial+[env.term_action]\n",
    "        prob = 1\n",
    "        for a in trial:\n",
    "            prob*=1/len(list(env.actions(env._state)))\n",
    "            env.step(a)\n",
    "        probs.append(prob)\n",
    "    probses.append(probs)\n",
    "    sm.append(np.sum(np.log(probs,dtype=np.float128)))"
   ]
  },
  {
   "cell_type": "code",
   "execution_count": 222,
   "metadata": {},
   "outputs": [
    {
     "data": {
      "text/plain": [
       "[-332.4004665602713603,\n",
       " -67.34591659972948082,\n",
       " -343.68618024081067533,\n",
       " -480.95552677007896472,\n",
       " -391.35046705343204446,\n",
       " -417.35393154640452923,\n",
       " -367.93190724044591824,\n",
       " -635.3214949781059893,\n",
       " -708.9244822352629602,\n",
       " -841.53727429893264456,\n",
       " -699.18599455266860304,\n",
       " -583.9709854891756673,\n",
       " -603.4433038722485905,\n",
       " -746.24334797154483145,\n",
       " -239.89854950250164269,\n",
       " -352.0706143019141642,\n",
       " -103.147971234964048556,\n",
       " -644.6258339384223339,\n",
       " -733.2865391824923943,\n",
       " -550.07902091676501355,\n",
       " -497.7825423546295161,\n",
       " -556.7745324234056228,\n",
       " -348.52075937464472974,\n",
       " -536.46259057272865284,\n",
       " -590.55440057366594336,\n",
       " -242.18651846163371363,\n",
       " -486.9929256879823016,\n",
       " -368.96539752421140995,\n",
       " -600.1383617151730343,\n",
       " -415.12751293373600733,\n",
       " -561.6177149619994624,\n",
       " -357.10712827797444627,\n",
       " -263.95304139989413705,\n",
       " -250.25927097980552882,\n",
       " -264.48320406059489085,\n",
       " -474.68551317219129948,\n",
       " -509.54985533763940972,\n",
       " -90.411176225153433494,\n",
       " -775.3809935864289914,\n",
       " -448.99137192329128476,\n",
       " -148.72283509909262815,\n",
       " -512.8297906614781045,\n",
       " -199.06219041377048631,\n",
       " -363.16395612297673048,\n",
       " -362.6437923369705536,\n",
       " -569.7695169611686614,\n",
       " -342.2103484789722009,\n",
       " -67.34591659972948082,\n",
       " -730.5628664023877297,\n",
       " -212.86364961944037555,\n",
       " -241.26216802811697945,\n",
       " -500.5776431552417431,\n",
       " -431.54858195392092746,\n",
       " -251.64692147427536949,\n",
       " -575.60047203016200595,\n",
       " -369.3827234891006147,\n",
       " -299.6030460114309158,\n",
       " -269.90022346988832955,\n",
       " -878.78139886530327196,\n",
       " -415.88107843705621672,\n",
       " -372.76536249253400843,\n",
       " -470.48346408860045897,\n",
       " -659.40615244990823224,\n",
       " -383.04970230673947368,\n",
       " -74.01032562007988862,\n",
       " -695.00122544843192374,\n",
       " -67.34591659972948082,\n",
       " -487.7202054913492913,\n",
       " -523.9050102784247741,\n",
       " -502.49751976097936096,\n",
       " -441.5676929872039347,\n",
       " -720.9554142877663254,\n",
       " -83.62898416914664221,\n",
       " -658.9084687678833376,\n",
       " -437.2024786151342703,\n",
       " -600.2253379287590648,\n",
       " -186.55834681360302313,\n",
       " -196.24320211749988048,\n",
       " -406.1794679468351656,\n",
       " -656.7229405069761663,\n",
       " -569.8272320760817602,\n",
       " -423.62852893787495365,\n",
       " -571.39323974953368845,\n",
       " -651.3422147054364334,\n",
       " -544.22860194363583153,\n",
       " -365.36881145163370468,\n",
       " -434.4580196287299042,\n",
       " -477.4026441600996836,\n",
       " -70.678121109904684716,\n",
       " -309.0616284909923192,\n",
       " -791.26255644895408525,\n",
       " -811.7387036083828849,\n",
       " -305.6980417391348159,\n",
       " -518.48020379822771114,\n",
       " -604.88842103788115445,\n",
       " -583.6996473182625522,\n",
       " -353.00871213399042975,\n",
       " -675.1702363592640289,\n",
       " -292.71097508163015274,\n",
       " -381.84492198744228425]"
      ]
     },
     "execution_count": 222,
     "metadata": {},
     "output_type": "execute_result"
    }
   ],
   "source": [
    "sm"
   ]
  },
  {
   "cell_type": "code",
   "execution_count": 223,
   "metadata": {
    "scrolled": true
   },
   "outputs": [],
   "source": [
    "ll_rand = np.sum(sm)"
   ]
  },
  {
   "cell_type": "code",
   "execution_count": 116,
   "metadata": {},
   "outputs": [
    {
     "name": "stdout",
     "output_type": "stream",
     "text": [
      "-332.40046656027124\n",
      "-67.34591659972948\n",
      "-343.6861802408107\n",
      "-480.9555267700791\n",
      "-391.350467053432\n",
      "-417.3539315464046\n",
      "-367.9319072404459\n",
      "-635.3214949781059\n",
      "-708.924482235263\n",
      "-841.537274298933\n",
      "-699.1859945526686\n",
      "-583.9709854891757\n",
      "-603.4433038722487\n",
      "-746.2433479715447\n",
      "-239.89854950250165\n",
      "-352.0706143019142\n",
      "-103.14797123496405\n",
      "-644.6258339384224\n",
      "-733.2865391824923\n",
      "-550.0790209167651\n",
      "-497.7825423546295\n",
      "-556.7745324234055\n",
      "-348.5207593746448\n",
      "-536.4625905727287\n",
      "-590.5544005736659\n",
      "-242.18651846163363\n",
      "-486.9929256879824\n",
      "-368.96539752421137\n",
      "-600.1383617151731\n",
      "-415.12751293373606\n",
      "-561.6177149619995\n",
      "-357.10712827797437\n",
      "-263.9530413998941\n",
      "-250.25927097980554\n",
      "-264.48320406059486\n",
      "-474.68551317219124\n",
      "-509.5498553376394\n",
      "-90.41117622515344\n",
      "-775.380993586429\n",
      "-448.9913719232913\n",
      "-148.7228350990926\n",
      "-512.8297906614781\n",
      "-199.06219041377048\n",
      "-363.1639561229767\n",
      "-362.6437923369706\n",
      "-569.7695169611687\n",
      "-342.2103484789722\n",
      "-67.34591659972948\n",
      "-730.5628664023877\n",
      "-212.8636496194404\n",
      "-241.262168028117\n",
      "-500.5776431552416\n",
      "-431.5485819539209\n",
      "-251.64692147427533\n",
      "-575.6004720301621\n",
      "-369.3827234891005\n",
      "-299.6030460114308\n",
      "-269.9002234698882\n",
      "-878.7813988653033\n",
      "-415.88107843705626\n",
      "-372.76536249253405\n",
      "-470.48346408860044\n",
      "-659.4061524499082\n",
      "-383.0497023067395\n",
      "-74.0103256200799\n",
      "-695.001225448432\n",
      "-67.34591659972948\n",
      "-487.7202054913492\n",
      "-523.9050102784247\n",
      "-502.4975197609793\n",
      "-441.56769298720394\n",
      "-720.9554142877663\n",
      "-83.62898416914665\n",
      "-658.9084687678835\n",
      "-437.2024786151342\n",
      "-600.2253379287592\n",
      "-186.55834681360298\n",
      "-196.24320211749966\n",
      "-406.17946794683525\n",
      "-656.7229405069763\n",
      "-569.8272320760818\n",
      "-423.62852893787505\n",
      "-571.3932397495338\n",
      "-651.3422147054364\n",
      "-544.2286019436358\n",
      "-365.3688114516337\n",
      "-434.4580196287299\n",
      "-477.4026441600997\n",
      "-70.6781211099047\n",
      "-309.0616284909923\n",
      "-791.262556448954\n",
      "-811.7387036083829\n",
      "-305.6980417391348\n",
      "-518.4802037982278\n",
      "-604.8884210378812\n",
      "-583.6996473182626\n",
      "-353.0087121339903\n",
      "-675.1702363592641\n",
      "-292.7109750816301\n",
      "-381.8449219874423\n"
     ]
    }
   ],
   "source": [
    "sm = []\n",
    "for p in parts:\n",
    "    sll = wrap_sum_ll(p, 1)\n",
    "    print(sll)\n",
    "    sm.append(sll)"
   ]
  },
  {
   "cell_type": "code",
   "execution_count": 117,
   "metadata": {},
   "outputs": [
    {
     "data": {
      "text/plain": [
       "-44586.332420088125"
      ]
     },
     "execution_count": 117,
     "metadata": {},
     "output_type": "execute_result"
    }
   ],
   "source": [
    "np.sum(sm)"
   ]
  },
  {
   "cell_type": "markdown",
   "metadata": {},
   "source": [
    "# MLE Analysis"
   ]
  },
  {
   "cell_type": "code",
   "execution_count": 203,
   "metadata": {},
   "outputs": [],
   "source": [
    "def mle(data):\n",
    "# You can adjust the temperature bounds if you think the MLE\n",
    "# is not in the bounds below. Don't change the p_error bounds.\n",
    "    bounds = [\n",
    "        (0, 0.5)  # p_error\n",
    "    ]\n",
    "    def loss(x):\n",
    "        p_error = x\n",
    "        return -sum(dc_log_likelihood(env, trial, p_error)\n",
    "                    for env, trial in data)\n",
    "    res = scipy.optimize.minimize(loss, (.01,),bounds = bounds,\n",
    "                                 options={'maxiter':500,'disp':True})\n",
    "    p_error = res.x\n",
    "    return {'p_error': res.x[0], 'logp': -res.fun}"
   ]
  },
  {
   "cell_type": "code",
   "execution_count": 204,
   "metadata": {},
   "outputs": [],
   "source": [
    "p = parts[0]"
   ]
  },
  {
   "cell_type": "code",
   "execution_count": 205,
   "metadata": {},
   "outputs": [
    {
     "data": {
      "text/plain": [
       "'A2YAYHZYI7M3HD'"
      ]
     },
     "execution_count": 205,
     "metadata": {},
     "output_type": "execute_result"
    }
   ],
   "source": [
    "p"
   ]
  },
  {
   "cell_type": "code",
   "execution_count": 206,
   "metadata": {},
   "outputs": [],
   "source": [
    "def mle_wrap(p):\n",
    "    try:\n",
    "        d = np.load('data/mles/ll4_'+p+'.npy').item()\n",
    "    except:     \n",
    "        print(p)\n",
    "        d = mle(participants[p])\n",
    "        d['participant'] = p\n",
    "        np.save('data/mles/ll4_'+p,d)\n",
    "    print(d)\n",
    "    return d"
   ]
  },
  {
   "cell_type": "code",
   "execution_count": 207,
   "metadata": {},
   "outputs": [
    {
     "name": "stdout",
     "output_type": "stream",
     "text": [
      "{'p_error': 0.5, 'participant': 'A2YAYHZYI7M3HD', 'logp': -335.7967183212359}\n"
     ]
    },
    {
     "data": {
      "text/plain": [
       "{'logp': -335.7967183212359, 'p_error': 0.5, 'participant': 'A2YAYHZYI7M3HD'}"
      ]
     },
     "execution_count": 207,
     "metadata": {},
     "output_type": "execute_result"
    }
   ],
   "source": [
    "mle_wrap(p)"
   ]
  },
  {
   "cell_type": "code",
   "execution_count": 208,
   "metadata": {},
   "outputs": [
    {
     "name": "stdout",
     "output_type": "stream",
     "text": [
      "{'p_error': 0.5, 'participant': 'A2YAYHZYI7M3HD', 'logp': -335.7967183212359}\n",
      "{'p_error': 0.5, 'participant': 'AT7THGIGM9XN5', 'logp': -294.5516756829117}\n",
      "{'p_error': 0.5, 'participant': 'A3MD34XEB4H6JF', 'logp': -456.2908309896481}\n",
      "{'p_error': 0.5, 'participant': 'A1YSYI926BBOHW', 'logp': -81.2088602109284}\n",
      "{'p_error': 0.5, 'participant': 'A3SOJWB6AZWZV9', 'logp': -350.3850301698782}\n",
      "{'p_error': 0.5, 'participant': 'AUOLR6JOD7STS', 'logp': -376.14247690067907}\n",
      "{'p_error': 0.4634331250840182, 'participant': 'A353STSNL3BYS6', 'logp': -300.7908245023345}\n",
      "{'p_error': 0.5, 'participant': 'A1BAEJW3MDJ7FQ', 'logp': -564.3162397899449}\n",
      "{'p_error': 0.5, 'participant': 'A1MJVTR0PCKBWW', 'logp': -494.9951843383284}\n",
      "{'p_error': 0.5, 'participant': 'A3FOL78K2EQYVN', 'logp': -677.4745558023182}\n",
      "{'p_error': 0.4204234387855232, 'participant': 'A2A7O6KYJ9GS8A', 'logp': -485.6583266890473}\n",
      "{'p_error': 0.5, 'participant': 'A3JOUIM3CDC1DZ', 'logp': -577.8453956612015}\n",
      "{'p_error': 0.5, 'participant': 'A2GOK2TYJIHR8', 'logp': -838.4647275444598}\n",
      "{'p_error': 0.5, 'participant': 'AQOXSP4W3ITSW', 'logp': -217.78257425855148}\n",
      "{'p_error': 0.4554097261637095, 'participant': 'A2S75O867RJG0I', 'logp': -287.73853094571473}\n",
      "{'p_error': 0.5, 'participant': 'A1HKYY6XI2OHO1', 'logp': -102.76810014371851}\n",
      "{'p_error': 0.5, 'participant': 'A1WL3NZ50YEOWP', 'logp': -850.3488903393285}\n",
      "{'p_error': 0.45838596488982547, 'participant': 'A2CF2BD4Q0ZDJN', 'logp': -378.601536591414}\n",
      "{'p_error': 0.5, 'participant': 'AL83KKXUORS9Y', 'logp': -336.7501103457834}\n",
      "{'p_error': 0.5, 'participant': 'AJDMNI5LT1VKR', 'logp': -456.19293138578416}\n",
      "{'p_error': 0.4648575951279392, 'participant': 'A2TI9CGVG147MZ', 'logp': -440.24447383268847}\n",
      "{'p_error': 0.5, 'participant': 'A2UOJVCT74AZ9S', 'logp': -520.1058572698058}\n",
      "{'p_error': 0.5, 'participant': 'A16OTH6EQHJFA', 'logp': -404.4252193775032}\n",
      "{'p_error': 0.5, 'participant': 'A7SXWHGK8B40R', 'logp': -216.87101070845196}\n",
      "{'p_error': 0.5, 'participant': 'ATUY1BTU5BQDE', 'logp': -302.6394669042019}\n",
      "{'p_error': 0.5, 'participant': 'A2EOOF9D135HQ1', 'logp': -517.4695391638687}\n",
      "{'p_error': 0.3371482885051445, 'participant': 'A11MAQOTZ6X2A6', 'logp': -256.11805327736795}\n",
      "{'p_error': 0.5, 'participant': 'A4JDANAGZXH6R', 'logp': -261.2103386630596}\n",
      "{'p_error': 0.5, 'participant': 'A10M4SVDCER758', 'logp': -553.5535943630575}\n",
      "{'p_error': 0.5, 'participant': 'A8RDXT4ZILHQT', 'logp': -364.8833265144313}\n",
      "{'p_error': 0.5, 'participant': 'A2ZKUU1KLDSGL0', 'logp': -511.5564606094579}\n",
      "{'p_error': 0.5, 'participant': 'A94DL4GI8ZBUO', 'logp': -625.0080795558329}\n",
      "{'p_error': 0.4566259260366619, 'participant': 'A1506T1PAYRT16', 'logp': -225.97919148100127}\n",
      "{'p_error': 0.5, 'participant': 'AMPMTF5IAAMK8', 'logp': -211.91194616600893}\n",
      "{'p_error': 0.4234076729515192, 'participant': 'A2QFER053G7FZZ', 'logp': -368.62553112979896}\n",
      "{'p_error': 0.5, 'participant': 'AIOOOO5OXWXKM', 'logp': -796.8154595765378}\n",
      "{'p_error': 0.5, 'participant': 'A1MAAPY9K1G1YR', 'logp': -436.73805710314934}\n",
      "{'p_error': 0.5, 'participant': 'A2R7F3TSU5BL1', 'logp': -104.72878973539207}\n",
      "{'p_error': 0.5, 'participant': 'A3N7R7P9HP2YB6', 'logp': -502.68191715047953}\n",
      "{'p_error': 0.5, 'participant': 'A1JLYIQ4HT4KQC', 'logp': -876.6365952682917}\n",
      "{'p_error': 0.5, 'participant': 'A2OVX9UW5WANQE', 'logp': -130.57378878078643}\n",
      "{'p_error': 0.4376287476157722, 'participant': 'A28CZ3YYL41JAZ', 'logp': -168.22149821343297}\n",
      "{'p_error': 0.5, 'participant': 'A11TREGDHSUSJW', 'logp': -738.4219168983}\n",
      "{'p_error': 0.5, 'participant': 'A12SMSQ6D5227J', 'logp': -244.91331147986938}\n",
      "{'p_error': 0.5, 'participant': 'A1TO8F0HIM1OBQ', 'logp': -192.37155665171923}\n",
      "{'p_error': 0.5, 'participant': 'AE0LA2Z8PAVG1', 'logp': -335.31708859786113}\n",
      "{'p_error': 0.5, 'participant': 'A6TSV1WPP3GG3', 'logp': -81.2088602109284}\n",
      "{'p_error': 0.5, 'participant': 'A37S96RT1P1IT2', 'logp': -415.9347962693371}\n",
      "{'p_error': 0.5, 'participant': 'A2A4UAFZ5LW71K', 'logp': -324.96253163009357}\n",
      "{'p_error': 0.34287591613416074, 'participant': 'AEHONA1BIY9JB', 'logp': -257.59115784895516}\n",
      "{'p_error': 0.47907315519305643, 'participant': 'A1PUHCEBSOWETV', 'logp': -246.01505174854466}\n",
      "{'p_error': 0.5, 'participant': 'A1R5W4RQZTROD8', 'logp': -502.41804866626103}\n",
      "{'p_error': 0.5, 'participant': 'A53NU6G63H6ZQ', 'logp': -364.7862184905535}\n",
      "{'p_error': 0.5, 'participant': 'A2C39KTRMOM1XZ', 'logp': -548.1713320637026}\n",
      "{'p_error': 0.5, 'participant': 'A1OBB3PWYWK9KK', 'logp': -261.3102719091711}\n",
      "{'p_error': 0.5, 'participant': 'AYF8B7WJO2YQU', 'logp': -412.9987696570563}\n",
      "{'p_error': 0.5, 'participant': 'A2WAQLPXT615HQ', 'logp': -743.5865888720996}\n",
      "{'p_error': 0.5, 'participant': 'A8KX1HFH8NE2Q', 'logp': -501.45956689998593}\n",
      "{'p_error': 0.395063672142039, 'participant': 'A2GOYSTIL3LOV1', 'logp': -481.8888284832646}\n",
      "{'p_error': 0.3970244307869474, 'participant': 'A3CDJ8PZX578GQ', 'logp': -296.8450315967284}\n",
      "{'p_error': 0.4542486143506469, 'participant': 'A2E746SZEOVYXS', 'logp': -284.7399494172653}\n",
      "{'p_error': 0.5, 'participant': 'A1TSPXCPRHR73P', 'logp': -392.4070178933901}\n",
      "{'p_error': 0.5, 'participant': 'A2AWBDW9V1E9KT', 'logp': -477.3887040291296}\n",
      "{'p_error': 0.5, 'participant': 'AA1NQOU3UEG1M', 'logp': -230.87058802804586}\n",
      "{'p_error': 0.5, 'participant': 'A2JP9IKRHNLRPI', 'logp': -398.74492851260794}\n",
      "{'p_error': 0.5, 'participant': 'A2JHF7CU91EVXW', 'logp': -629.3069138648694}\n",
      "{'p_error': 0.5, 'participant': 'A1BMZUNL98C5GL', 'logp': -89.2595635923987}\n",
      "{'p_error': 0.5, 'participant': 'A2RWLFIP23FZA7', 'logp': -98.72407146163822}\n",
      "{'p_error': 0.4043780081238338, 'participant': 'A1DWQO9X2ZQ35G', 'logp': -348.9583997652377}\n",
      "{'p_error': 0.5, 'participant': 'AS6G83OZEFHY', 'logp': -81.2088602109284}\n",
      "{'p_error': 0.5, 'participant': 'A1640H4RXH8NZE', 'logp': -398.8895298763675}\n",
      "{'p_error': 0.5, 'participant': 'A2XSGALF8O9ISQ', 'logp': -470.23650096336047}\n",
      "{'p_error': 0.5, 'participant': 'A37JA32OJCPHML', 'logp': -414.3595701476868}\n",
      "{'p_error': 0.5, 'participant': 'AV22FQTJNBUZT', 'logp': -744.0298138948566}\n",
      "{'p_error': 0.4829748018330728, 'participant': 'A2KI7W45F6HRVY', 'logp': -522.9034952564588}\n",
      "{'p_error': 0.5, 'participant': 'ACGZDI611LU0I', 'logp': -557.0639010581142}\n",
      "{'p_error': 0.5, 'participant': 'A2MD4K1YFYBLZN', 'logp': -226.14238191483633}\n",
      "{'p_error': 0.4132187094448632, 'participant': 'A2HSCKH5NKN5LP', 'logp': -146.04205367697833}\n",
      "{'p_error': 0.5, 'participant': 'A1PLBPA6W1RZFD', 'logp': -394.0732456918285}\n",
      "{'p_error': 0.4530086645596684, 'participant': 'A3EIVR2LS7CCWB', 'logp': -436.351717447427}\n",
      "{'p_error': 0.5, 'participant': 'A1B592DM38HTL4', 'logp': -472.9727536135609}\n",
      "{'p_error': 0.45670017671386337, 'participant': 'A18SI5095GGGWT', 'logp': -458.3067543217456}\n",
      "{'p_error': 0.5, 'participant': 'AYFOAD75CRBKE', 'logp': -557.2537071307314}\n",
      "{'p_error': 0.49150400369558744, 'participant': 'A7JY83XLBASTQ', 'logp': -348.6412507440058}\n",
      "{'p_error': 0.48283380043425655, 'participant': 'A2HHGI5CNSS5PD', 'logp': -494.23116332513746}\n",
      "{'p_error': 0.5, 'participant': 'A3KA3A3M7LPMPA', 'logp': -405.97332688466787}\n",
      "{'p_error': 0.35444435700686605, 'participant': 'A38NKLE8WK7RKY', 'logp': -276.498093051181}\n",
      "{'p_error': 0.5, 'participant': 'A2JIRC73O88L0U', 'logp': -267.1872337200835}\n",
      "{'p_error': 0.4059986676662613, 'participant': 'A3VOSFN1XRFF01', 'logp': -335.01742070753147}\n",
      "{'p_error': 0.5, 'participant': 'A0017268R9SKD8U2Y3F', 'logp': -84.11206911558526}\n",
      "{'p_error': 0.5, 'participant': 'AW0MG225VXWCN', 'logp': -872.9788089867882}\n",
      "{'p_error': 0.4790455657770073, 'participant': 'AHIM8PGYOIN0K', 'logp': -474.6777842782907}\n",
      "{'p_error': 0.5, 'participant': 'A2CJYS92WX7HN6', 'logp': -317.4623489729651}\n",
      "{'p_error': 0.5, 'participant': 'A1BH6H9WRK49I', 'logp': -847.6074983380907}\n",
      "{'p_error': 0.5, 'participant': 'A29AN71PV9UQAC', 'logp': -484.8926847865186}\n",
      "{'p_error': 0.5, 'participant': 'A1HNE8HESW1O0H', 'logp': -302.10631852539257}\n",
      "{'p_error': 0.5, 'participant': 'A3NHJPE6326P9V', 'logp': -318.2171454142701}\n",
      "{'p_error': 0.5, 'participant': 'A2N4A7XM3N1MM4', 'logp': -490.4948807984074}\n",
      "{'p_error': 0.5, 'participant': 'A2VQ1WGHLLLNJ1', 'logp': -710.1382561612098}\n",
      "{'p_error': 0.5, 'participant': 'A2MKXI4KCRRI7Y', 'logp': -343.4828157792272}\n"
     ]
    }
   ],
   "source": [
    "mles = Parallel(n_jobs=100)(delayed(mle_wrap)(p) for p in parts)"
   ]
  },
  {
   "cell_type": "code",
   "execution_count": 209,
   "metadata": {},
   "outputs": [],
   "source": [
    "ll_dc = np.sum([p['logp'] for p in mles])"
   ]
  },
  {
   "cell_type": "markdown",
   "metadata": {},
   "source": [
    "# Model Comparison"
   ]
  },
  {
   "cell_type": "code",
   "execution_count": 216,
   "metadata": {},
   "outputs": [],
   "source": [
    "obses = []\n",
    "for p in parts:\n",
    "    data = participants[p]\n",
    "    obssm = 0\n",
    "    for env,trial in data:\n",
    "        obssm+= len(trial)+1\n",
    "    obses.append(obssm)"
   ]
  },
  {
   "cell_type": "code",
   "execution_count": 218,
   "metadata": {
    "scrolled": true
   },
   "outputs": [
    {
     "data": {
      "text/plain": [
       "14710"
      ]
     },
     "execution_count": 218,
     "metadata": {},
     "output_type": "execute_result"
    }
   ],
   "source": [
    "np.sum(obses)"
   ]
  },
  {
   "cell_type": "markdown",
   "metadata": {},
   "source": [
    "## DC Statistics"
   ]
  },
  {
   "cell_type": "markdown",
   "metadata": {},
   "source": [
    "### Overall"
   ]
  },
  {
   "cell_type": "code",
   "execution_count": 224,
   "metadata": {
    "scrolled": true
   },
   "outputs": [
    {
     "data": {
      "text/plain": [
       "-40415.25616479107"
      ]
     },
     "execution_count": 224,
     "metadata": {},
     "output_type": "execute_result"
    }
   ],
   "source": [
    "ll_dc"
   ]
  },
  {
   "cell_type": "code",
   "execution_count": 219,
   "metadata": {
    "scrolled": true
   },
   "outputs": [],
   "source": [
    "bic_dc = -2*ll_dc + len(mles) * (np.log(np.sum(obses))-np.log(2*np.pi))"
   ]
  },
  {
   "cell_type": "code",
   "execution_count": 220,
   "metadata": {},
   "outputs": [
    {
     "data": {
      "text/plain": [
       "81606.35290430076"
      ]
     },
     "execution_count": 220,
     "metadata": {},
     "output_type": "execute_result"
    }
   ],
   "source": [
    "bic_dc"
   ]
  },
  {
   "cell_type": "code",
   "execution_count": 228,
   "metadata": {},
   "outputs": [],
   "source": [
    "aic_dc = -2*ll_dc + 2*len(mles)"
   ]
  },
  {
   "cell_type": "code",
   "execution_count": 229,
   "metadata": {},
   "outputs": [
    {
     "data": {
      "text/plain": [
       "81030.51232958214"
      ]
     },
     "execution_count": 229,
     "metadata": {},
     "output_type": "execute_result"
    }
   ],
   "source": [
    "aic_dc"
   ]
  },
  {
   "cell_type": "markdown",
   "metadata": {},
   "source": [
    "### Individual Statistics"
   ]
  },
  {
   "cell_type": "code",
   "execution_count": 233,
   "metadata": {},
   "outputs": [],
   "source": [
    "ll_dcs = [p['logp'] for p in mles]"
   ]
  },
  {
   "cell_type": "code",
   "execution_count": 245,
   "metadata": {},
   "outputs": [
    {
     "data": {
      "text/plain": [
       "True"
      ]
     },
     "execution_count": 245,
     "metadata": {},
     "output_type": "execute_result"
    }
   ],
   "source": [
    "parts == [p['participant'] for p in mles]"
   ]
  },
  {
   "cell_type": "code",
   "execution_count": 239,
   "metadata": {},
   "outputs": [],
   "source": [
    "bic_dc_inds = -2*np.array(ll_dcs) + np.log(np.array(obses)) - np.log(2*np.pi)"
   ]
  },
  {
   "cell_type": "code",
   "execution_count": 240,
   "metadata": {},
   "outputs": [
    {
     "data": {
      "text/plain": [
       "array([ 674.39 ,  163.576,  591.929,  915.748,  755.235,  703.792,  604.471,  974.777, 1358.625, 1680.795, 1159.358, 1132.093,  993.405, 1704.564,  438.018,  578.321,  207.132, 1110.626, 1597.459,\n",
       "        883.799,  760.471,  915.713,  608.123, 1038.369, 1043.631,  436.195,  812.062,  676.39 , 1253.585,  732.789, 1008.741,  515.108,  454.503,  525.014,  492.371,  740.404,  835.119,  210.916,\n",
       "       1757.169, 1026.224,  263.116,  876.726,  338.699,  652.806,  673.506, 1008.229,  517.998,  163.576, 1480.626,  387.064,  426.29 , 1099.698,  829.05 ,  464.234, 1006.302,  572.396,  494.714,\n",
       "        525.202, 1491.032,  732.602,  596.588,  800.715,  967.287,  787.764,  179.772, 1262.205,  163.576,  831.938,  958.093,  943.698,  700.992, 1491.673,  198.829, 1049.321,  800.846, 1117.553,\n",
       "        294.289,  454.666,  791.137, 1118.081,  919.957,  700.327,  876.07 ,  991.986,  949.312,  555.877,  673.095,  815.139,  169.431,  537.08 , 1699.127, 1749.888,  606.918,  973.041,  952.811,\n",
       "        984.485,  637.796, 1423.928,  639.221,  689.898])"
      ]
     },
     "execution_count": 240,
     "metadata": {},
     "output_type": "execute_result"
    }
   ],
   "source": [
    "bic_dc_inds"
   ]
  },
  {
   "cell_type": "code",
   "execution_count": 242,
   "metadata": {},
   "outputs": [
    {
     "data": {
      "text/plain": [
       "81129.28166144942"
      ]
     },
     "execution_count": 242,
     "metadata": {},
     "output_type": "execute_result"
    }
   ],
   "source": [
    "np.sum(bic_dc_inds)"
   ]
  },
  {
   "cell_type": "code",
   "execution_count": 246,
   "metadata": {},
   "outputs": [],
   "source": [
    "aic_dc_inds = -2*np.array(ll_dcs) + 2"
   ]
  },
  {
   "cell_type": "code",
   "execution_count": 247,
   "metadata": {
    "scrolled": true
   },
   "outputs": [
    {
     "data": {
      "text/plain": [
       "array([ 673.593,  164.418,  591.103,  914.582,  754.285,  702.77 ,  603.582,  973.317, 1356.949, 1678.929, 1157.691, 1130.632,  991.99 , 1702.698,  437.565,  577.477,  207.536, 1109.107, 1595.631,\n",
       "        882.489,  759.203,  914.386,  607.279, 1036.939, 1042.212,  435.742,  810.85 ,  675.5  , 1252.016,  731.767, 1007.364,  514.236,  453.958,  524.421,  491.827,  739.251,  833.87 ,  211.458,\n",
       "       1755.273, 1025.113,  263.148,  875.476,  338.443,  651.925,  672.634, 1006.836,  517.182,  164.418, 1478.844,  386.743,  425.824, 1098.343,  827.998,  463.741, 1004.919,  571.48 ,  494.03 ,\n",
       "        524.621, 1489.173,  731.572,  595.69 ,  799.49 ,  965.778,  786.814,  180.519, 1260.614,  164.418,  830.719,  956.777,  942.473,  699.917, 1490.06 ,  199.448, 1047.807,  799.779, 1116.128,\n",
       "        294.084,  454.285,  790.146, 1116.507,  918.614,  699.283,  874.703,  990.462,  947.946,  554.996,  672.035,  813.947,  170.224,  536.374, 1697.215, 1747.958,  606.213,  971.785,  951.356,\n",
       "        982.99 ,  636.925, 1422.277,  638.434,  688.966])"
      ]
     },
     "execution_count": 247,
     "metadata": {},
     "output_type": "execute_result"
    }
   ],
   "source": [
    "aic_dc_inds"
   ]
  },
  {
   "cell_type": "code",
   "execution_count": 248,
   "metadata": {},
   "outputs": [
    {
     "data": {
      "text/plain": [
       "81030.51232958214"
      ]
     },
     "execution_count": 248,
     "metadata": {},
     "output_type": "execute_result"
    }
   ],
   "source": [
    "np.sum(aic_dc_inds)"
   ]
  },
  {
   "cell_type": "markdown",
   "metadata": {},
   "source": [
    "## Random Statistics"
   ]
  },
  {
   "cell_type": "markdown",
   "metadata": {},
   "source": [
    "### Overall"
   ]
  },
  {
   "cell_type": "code",
   "execution_count": 225,
   "metadata": {
    "scrolled": true
   },
   "outputs": [
    {
     "data": {
      "text/plain": [
       "-44586.33242008811676"
      ]
     },
     "execution_count": 225,
     "metadata": {},
     "output_type": "execute_result"
    }
   ],
   "source": [
    "ll_rand"
   ]
  },
  {
   "cell_type": "code",
   "execution_count": 226,
   "metadata": {},
   "outputs": [],
   "source": [
    "bic_rand = -2*ll_rand"
   ]
  },
  {
   "cell_type": "code",
   "execution_count": 227,
   "metadata": {},
   "outputs": [
    {
     "data": {
      "text/plain": [
       "89172.66484017623352"
      ]
     },
     "execution_count": 227,
     "metadata": {},
     "output_type": "execute_result"
    }
   ],
   "source": [
    "bic_rand"
   ]
  },
  {
   "cell_type": "code",
   "execution_count": 230,
   "metadata": {},
   "outputs": [],
   "source": [
    "aic_rand = -2*ll_rand"
   ]
  },
  {
   "cell_type": "code",
   "execution_count": 231,
   "metadata": {},
   "outputs": [
    {
     "data": {
      "text/plain": [
       "89172.66484017623352"
      ]
     },
     "execution_count": 231,
     "metadata": {},
     "output_type": "execute_result"
    }
   ],
   "source": [
    "aic_rand"
   ]
  },
  {
   "cell_type": "markdown",
   "metadata": {},
   "source": [
    "### Individual Statistcs"
   ]
  },
  {
   "cell_type": "code",
   "execution_count": 250,
   "metadata": {},
   "outputs": [],
   "source": [
    "ll_rand_inds = sm"
   ]
  },
  {
   "cell_type": "code",
   "execution_count": 251,
   "metadata": {},
   "outputs": [],
   "source": [
    "bic_rand_inds = -2*np.array(ll_rand_inds)"
   ]
  },
  {
   "cell_type": "code",
   "execution_count": 252,
   "metadata": {
    "scrolled": false
   },
   "outputs": [
    {
     "data": {
      "text/plain": [
       "array([ 664.801,  134.692,  687.372,  961.911,  782.701,  834.708,  735.864, 1270.643, 1417.849, 1683.075, 1398.372, 1167.942, 1206.887, 1492.487,  479.797,  704.141,  206.296, 1289.252, 1466.573,\n",
       "       1100.158,  995.565, 1113.549,  697.042, 1072.925, 1181.109,  484.373,  973.986,  737.931, 1200.277,  830.255, 1123.235,  714.214,  527.906,  500.519,  528.966,  949.371, 1019.1  ,  180.822,\n",
       "       1550.762,  897.983,  297.446, 1025.66 ,  398.124,  726.328,  725.288, 1139.539,  684.421,  134.692, 1461.126,  425.727,  482.524, 1001.155,  863.097,  503.294, 1151.201,  738.765,  599.206,\n",
       "        539.8  , 1757.563,  831.762,  745.531,  940.967, 1318.812,  766.099,  148.021, 1390.002,  134.692,  975.44 , 1047.81 , 1004.995,  883.135, 1441.911,  167.258, 1317.817,  874.405, 1200.451,\n",
       "        373.117,  392.486,  812.359, 1313.446, 1139.654,  847.257, 1142.786, 1302.684, 1088.457,  730.738,  868.916,  954.805,  141.356,  618.123, 1582.525, 1623.477,  611.396, 1036.96 , 1209.777,\n",
       "       1167.399,  706.017, 1350.34 ,  585.422,  763.69 ], dtype=float128)"
      ]
     },
     "execution_count": 252,
     "metadata": {},
     "output_type": "execute_result"
    }
   ],
   "source": [
    "bic_rand_inds"
   ]
  },
  {
   "cell_type": "code",
   "execution_count": 256,
   "metadata": {},
   "outputs": [],
   "source": [
    "aic_rand_inds = bic_rand_inds"
   ]
  },
  {
   "cell_type": "markdown",
   "metadata": {},
   "source": [
    "## Comparing Statistics"
   ]
  },
  {
   "cell_type": "code",
   "execution_count": 253,
   "metadata": {},
   "outputs": [
    {
     "data": {
      "text/plain": [
       "76"
      ]
     },
     "execution_count": 253,
     "metadata": {},
     "output_type": "execute_result"
    }
   ],
   "source": [
    "np.sum(bic_rand_inds > bic_dc_inds)"
   ]
  },
  {
   "cell_type": "code",
   "execution_count": 254,
   "metadata": {},
   "outputs": [
    {
     "data": {
      "text/plain": [
       "24"
      ]
     },
     "execution_count": 254,
     "metadata": {},
     "output_type": "execute_result"
    }
   ],
   "source": [
    "np.sum(bic_dc_inds > bic_rand_inds)"
   ]
  },
  {
   "cell_type": "code",
   "execution_count": 257,
   "metadata": {},
   "outputs": [
    {
     "data": {
      "text/plain": [
       "76"
      ]
     },
     "execution_count": 257,
     "metadata": {},
     "output_type": "execute_result"
    }
   ],
   "source": [
    "np.sum(aic_rand_inds > aic_dc_inds)"
   ]
  },
  {
   "cell_type": "code",
   "execution_count": 258,
   "metadata": {
    "scrolled": true
   },
   "outputs": [
    {
     "data": {
      "text/plain": [
       "24"
      ]
     },
     "execution_count": 258,
     "metadata": {},
     "output_type": "execute_result"
    }
   ],
   "source": [
    "np.sum(aic_rand_inds < aic_dc_inds)"
   ]
  },
  {
   "cell_type": "code",
   "execution_count": 262,
   "metadata": {},
   "outputs": [
    {
     "data": {
      "text/plain": [
       "True"
      ]
     },
     "execution_count": 262,
     "metadata": {},
     "output_type": "execute_result"
    }
   ],
   "source": [
    "np.array_equal(aic_rand_inds > aic_dc_inds,bic_rand_inds > bic_dc_inds)"
   ]
  },
  {
   "cell_type": "code",
   "execution_count": 264,
   "metadata": {},
   "outputs": [],
   "source": [
    "eps = [p['p_error'] for p in mles]"
   ]
  },
  {
   "cell_type": "code",
   "execution_count": 265,
   "metadata": {},
   "outputs": [
    {
     "data": {
      "text/plain": [
       "0.3371482885051445"
      ]
     },
     "execution_count": 265,
     "metadata": {},
     "output_type": "execute_result"
    }
   ],
   "source": [
    "np.min(eps)"
   ]
  },
  {
   "cell_type": "code",
   "execution_count": 266,
   "metadata": {},
   "outputs": [
    {
     "data": {
      "text/plain": [
       "0.5"
      ]
     },
     "execution_count": 266,
     "metadata": {},
     "output_type": "execute_result"
    }
   ],
   "source": [
    "np.max(eps)"
   ]
  },
  {
   "cell_type": "code",
   "execution_count": 271,
   "metadata": {},
   "outputs": [
    {
     "data": {
      "text/plain": [
       "0.0"
      ]
     },
     "execution_count": 271,
     "metadata": {},
     "output_type": "execute_result"
    }
   ],
   "source": [
    "np.exp(np.min(ll_dcs))"
   ]
  },
  {
   "cell_type": "code",
   "execution_count": 274,
   "metadata": {},
   "outputs": [
    {
     "data": {
      "text/plain": [
       "5.388155598576241e-36"
      ]
     },
     "execution_count": 274,
     "metadata": {},
     "output_type": "execute_result"
    }
   ],
   "source": [
    "np.exp(np.max(ll_dcs))"
   ]
  },
  {
   "cell_type": "code",
   "execution_count": null,
   "metadata": {},
   "outputs": [],
   "source": []
  }
 ],
 "metadata": {
  "kernelspec": {
   "display_name": "Python 3",
   "language": "python",
   "name": "python3"
  },
  "language_info": {
   "codemirror_mode": {
    "name": "ipython",
    "version": 3
   },
   "file_extension": ".py",
   "mimetype": "text/x-python",
   "name": "python",
   "nbconvert_exporter": "python",
   "pygments_lexer": "ipython3",
   "version": "3.5.4"
  }
 },
 "nbformat": 4,
 "nbformat_minor": 2
}
