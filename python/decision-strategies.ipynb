{
 "cells": [
  {
   "cell_type": "code",
   "execution_count": 20,
   "metadata": {
    "collapsed": false
   },
   "outputs": [],
   "source": [
    "%matplotlib inline\n",
    "import matplotlib.pyplot as plt\n",
    "import numpy as np\n",
    "import pandas as pd\n",
    "import seaborn as sns\n",
    "import scipy.stats\n",
    "from scipy.stats import norm\n",
    "import scipy.integrate as integrate\n",
    "import matplotlib.pyplot as plt\n",
    "\n",
    "import gym\n",
    "from gym import spaces\n",
    "\n",
    "import random\n",
    "import itertools as it\n",
    "from joblib import Parallel, delayed\n",
    "from toolz import memoize\n",
    "from contracts import contract\n",
    "from collections import namedtuple, defaultdict, deque, Counter\n",
    "\n",
    "import warnings\n",
    "warnings.filterwarnings(\"ignore\", \n",
    "                        message=\"The objective has been evaluated at this point before.\")\n",
    "\n",
    "from agents import Agent\n",
    "from oldmouselab import OldMouselabEnv\n",
    "from policies import FixedPlanPolicy, LiederPolicy\n",
    "from evaluation import *\n",
    "from distributions import cmax, smax, sample, expectation, Normal, PointMass, SampleDist, Normal, Categorical"
   ]
  },
  {
   "cell_type": "code",
   "execution_count": 21,
   "metadata": {
    "collapsed": true
   },
   "outputs": [],
   "source": [
    "def hd_dist(attributes):\n",
    "    dist = [1,]*attributes\n",
    "    dist[0] = np.random.randint(85,97)\n",
    "    for i in range(1,attributes-1):\n",
    "        dist[i] += np.random.randint(0,100-np.sum(dist))\n",
    "    dist[-1] += 100-np.sum(dist)\n",
    "    dist = np.around(np.array(dist)/100,decimals=2)\n",
    "    np.random.shuffle(dist)\n",
    "    return dist\n",
    "\n",
    "def ld_dist(attributes):\n",
    "    dist = [np.random.randint(10,40) for _ in range(attributes)]\n",
    "    dist = np.around(np.array(dist)/sum(dist),decimals=2)\n",
    "    np.random.shuffle(dist)\n",
    "    return dist"
   ]
  },
  {
   "cell_type": "code",
   "execution_count": 39,
   "metadata": {
    "collapsed": false
   },
   "outputs": [],
   "source": [
    "gambles = 7\n",
    "attributes = 4\n",
    "mu_R_high_stakes = (9.99+0.01)/2\n",
    "mu_R_low_stakes = (0.25+0.01)/2\n",
    "\n",
    "sigma_R_high_stakes = 0.3*(9.99-0.01)\n",
    "sigma_R_low_stakes = 0.3*(0.25-0.01)\n",
    "\n",
    "high_stakes = Normal(mu_R_high_stakes, sigma_R_high_stakes)\n",
    "low_stakes = Normal(mu_R_low_stakes, sigma_R_low_stakes)\n",
    "reward = high_stakes\n",
    "cost=.03\n",
    "\n",
    "n_test = 100\n",
    "\n",
    "test_envs_hd =  [OldMouselabEnv(gambles, hd_dist(attributes), reward, cost) for _ in range(n_test)]\n",
    "test_envs_ld = [OldMouselabEnv(gambles, ld_dist(attributes), reward, cost) for _ in range(n_test)]\n",
    "test_envs_all = test_envs_hd+test_envs_ld \n",
    "\n",
    "term_action = test_envs_hd[0].term_action\n",
    "nr_outcomes = attributes\n",
    "nr_alternatives = gambles"
   ]
  },
  {
   "cell_type": "code",
   "execution_count": 23,
   "metadata": {
    "collapsed": false
   },
   "outputs": [],
   "source": [
    "agent = Agent()\n",
    "def run_env(policy, env):\n",
    "    agent.register(env)\n",
    "    agent.register(policy)\n",
    "    tr = agent.run_episode()\n",
    "#     print(tr)\n",
    "    return {'util': tr['return'], 'actions': tr['actions'],\n",
    "            'observations': len(tr['actions']) - 1, 'ground_truth': env.ground_truth}\n",
    "\n",
    "def action_coordinate(env, action):\n",
    "    return (action//env.outcomes,action%env.outcomes)\n",
    "\n",
    "def p_grid(env, actions):\n",
    "    grid = np.zeros((env.gambles+1,env.outcomes))\n",
    "    grid[0,:] = env.dist\n",
    "    for i in range(len(actions[:-1])):\n",
    "        gamble, outcome = action_coordinate(env,actions[i]) \n",
    "        grid[gamble+1, outcome] = i+1\n",
    "    return grid\n",
    "\n",
    "def expected_reward_of_termination(env,actions):\n",
    "    env.reset()\n",
    "    for a in actions:\n",
    "        env.step(a)\n",
    "\n",
    "    return env.expected_term_reward()\n",
    "\n",
    "def characterize_strategy(policy,envs):\n",
    "    operations = []\n",
    "    nr_clicks = []\n",
    "    probabilities = []\n",
    "    returns = []\n",
    "    observations = []\n",
    "    grids = []\n",
    "    p_grids = []\n",
    "    p_outcomes = []\n",
    "    p_ranks = []\n",
    "    inspected_gambles = []\n",
    "    inspected_outcomes = []\n",
    "    nr_inspected_outcomes = []\n",
    "    best_outcome_only = []\n",
    "    expected_term_rewards = []\n",
    "    \n",
    "    for i in range(len(envs)):\n",
    "        envs[i].reset()\n",
    "        trace = run_env(policy, envs[i])\n",
    "        returns = returns + [trace['util']]        \n",
    "        operations = operations + [trace['actions']]\n",
    "        nr_clicks = nr_clicks + [len(trace['actions'])-1]\n",
    "        probabilities = probabilities + [envs[i].dist]\n",
    "        p_grids = p_grids + [p_grid(envs[i],trace['actions'])]\n",
    "        grids = grids + [envs[i].grid()]\n",
    "        \n",
    "        gambles = np.array([])\n",
    "        outcomes = np.array([])\n",
    "        observed_payoffs = np.array([])\n",
    "        p_outcome = np.array([])\n",
    "        p_rank = np.array([])\n",
    "        array = -envs[i].dist\n",
    "        temp = array.argsort()\n",
    "        ranks = np.empty_like(temp)\n",
    "        ranks[temp] = np.arange(len(array))+1\n",
    "        #print(ranks)\n",
    "        \n",
    "        for a in trace['actions'][:-1]:\n",
    "            gamble, outcome = action_coordinate(envs[i], a)\n",
    "            gambles = np.append(gambles,[gamble])\n",
    "            outcomes = np.append(outcomes,[outcome])\n",
    "            p_outcome = np.append(p_outcome,[envs[i].dist[outcome]])\n",
    "            p_rank = np.append(p_rank,[ranks[outcome]])\n",
    "            observed_payoffs = np.append(observed_payoffs,trace['ground_truth'][a])\n",
    "        \n",
    "        p_ranks = p_ranks + [p_rank]\n",
    "        \n",
    "        temp = np.unique(p_rank)==[1]\n",
    "        best_outcome_only.append(temp[0])        \n",
    "        observations = observations + [observed_payoffs]\n",
    "        expected_term_rewards = expected_term_rewards  + [expected_reward_of_termination(envs[i],trace['actions'][:-1])] \n",
    "        p_outcomes = p_outcomes + [p_outcome]\n",
    "        inspected_gambles = inspected_gambles + [gambles]\n",
    "        inspected_outcomes= inspected_outcomes + [outcomes]\n",
    "        nr_inspected_outcomes = nr_inspected_outcomes + [len(np.unique(outcomes))]\n",
    "    \n",
    "    return {'grids':grids,'expected_term_rewards': expected_term_rewards,'best_outcome_only': best_outcome_only,'nr_inspected_outcomes':nr_inspected_outcomes, 'p_ranks': p_ranks, 'p_outcomes': p_outcomes, 'inspected_gambles': inspected_gambles, 'inspected_outcomes': inspected_outcomes, 'p_grids': p_grids, 'returns': returns, 'observations': observations, 'operations':operations, 'nr_clicks': nr_clicks, 'probabilities': probabilities}\n",
    "    "
   ]
  },
  {
   "cell_type": "markdown",
   "metadata": {},
   "source": [
    "# High stakes, high dispersion"
   ]
  },
  {
   "cell_type": "code",
   "execution_count": 24,
   "metadata": {
    "collapsed": true
   },
   "outputs": [],
   "source": [
    "bo_pol_theta = np.load('data/high_stakes_3cents.npy')\n",
    "bo_pol_high_stakes = LiederPolicy(list(bo_pol_theta))"
   ]
  },
  {
   "cell_type": "code",
   "execution_count": 25,
   "metadata": {
    "collapsed": false
   },
   "outputs": [],
   "source": [
    "hd_hs = characterize_strategy(bo_pol_high_stakes,test_envs_hd)"
   ]
  },
  {
   "cell_type": "code",
   "execution_count": 26,
   "metadata": {
    "collapsed": false
   },
   "outputs": [
    {
     "name": "stdout",
     "output_type": "stream",
     "text": [
      "On 64.0% of the high-dispersion trials the click squences of the high-stakes policy were consistent with TTB.\n"
     ]
    }
   ],
   "source": [
    "TTB_compatible = np.array([])\n",
    "\n",
    "for i in range(n_test):\n",
    "    TTB_compatible =  np.append(TTB_compatible, [hd_hs['nr_clicks'][i]==nr_alternatives and hd_hs['best_outcome_only'][i]])\n",
    "\n",
    "print(\"On {}% of the high-dispersion trials the click squences of the high-stakes policy were consistent with TTB.\".format(100*np.mean(TTB_compatible)))"
   ]
  },
  {
   "cell_type": "code",
   "execution_count": 33,
   "metadata": {
    "collapsed": false
   },
   "outputs": [
    {
     "name": "stdout",
     "output_type": "stream",
     "text": [
      "In 100.0% of the high-dispersion problems, the high-stakes policy considered only the most probably outcome.\n",
      "\n",
      "In the high-dispersion environment the BO policy made between 1 and 8 clicks. The average number of clicks was 6.1.\n",
      "\n",
      " Example: \n",
      "[[ 0.03  0.92  0.04  0.01]\n",
      " [ 0.    4.    0.    0.  ]\n",
      " [ 0.    0.    0.    0.  ]\n",
      " [ 0.    0.    0.    0.  ]\n",
      " [ 0.    2.    0.    0.  ]\n",
      " [ 0.    3.    0.    0.  ]\n",
      " [ 0.    0.    0.    0.  ]\n",
      " [ 0.    1.    0.    0.  ]]\n",
      "[[Norm(5.00, 2.99) 11.359076289124774 Norm(5.00, 2.99) Norm(5.00, 2.99)]\n",
      " [Norm(5.00, 2.99) Norm(5.00, 2.99) Norm(5.00, 2.99) Norm(5.00, 2.99)]\n",
      " [Norm(5.00, 2.99) Norm(5.00, 2.99) Norm(5.00, 2.99) Norm(5.00, 2.99)]\n",
      " [Norm(5.00, 2.99) 2.994339972020347 Norm(5.00, 2.99) Norm(5.00, 2.99)]\n",
      " [Norm(5.00, 2.99) 2.5695526324571998 Norm(5.00, 2.99) Norm(5.00, 2.99)]\n",
      " [Norm(5.00, 2.99) Norm(5.00, 2.99) Norm(5.00, 2.99) Norm(5.00, 2.99)]\n",
      " [Norm(5.00, 2.99) 6.7063999568224704 Norm(5.00, 2.99) Norm(5.00, 2.99)]]\n"
     ]
    },
    {
     "data": {
      "image/png": "[encoded data removed]",
      "text/plain": [
       "<matplotlib.figure.Figure at 0x7f67f2d8e8d0>"
      ]
     },
     "metadata": {},
     "output_type": "display_data"
    }
   ],
   "source": [
    "print(\"In {}% of the high-dispersion problems, the high-stakes policy considered only the most probably outcome.\".format(100*np.mean(hd_hs['best_outcome_only'])))\n",
    "print(\"\")\n",
    "avg_nr_clicks_hd_hs=np.mean(hd_hs['nr_clicks'])\n",
    "min_nr_clicks_hd_hs=np.min(hd_hs['nr_clicks'])\n",
    "max_nr_clicks_hd_hs=np.max(hd_hs['nr_clicks'])\n",
    "\n",
    "print('In the high-dispersion environment the BO policy made between {} and {} clicks. The average number of clicks was {:3.2}.'.format(min_nr_clicks_hd_hs,max_nr_clicks_hd_hs,avg_nr_clicks_hd_hs))\n",
    "\n",
    "plt.figure()\n",
    "plt.hist(hd_hs['nr_clicks'])\n",
    "plt.xlabel('Number of clicks')\n",
    "plt.ylabel('Frequency out of 100')\n",
    "\n",
    "print(\"\\n Example: \")\n",
    "print(hd_hs['p_grids'][1])\n",
    "print(test_envs_hd[1].grid())"
   ]
  },
  {
   "cell_type": "code",
   "execution_count": 49,
   "metadata": {
    "collapsed": false
   },
   "outputs": [
    {
     "name": "stdout",
     "output_type": "stream",
     "text": [
      "Aspiration level after 1 clicks: 11.23160253085119\n",
      "Aspiration level after 2 clicks: 10.997075017801196\n",
      "Aspiration level after 3 clicks: 9.889621786022193\n",
      "Aspiration level after 4 clicks: 9.454653087837254\n",
      "Aspiration level after 5 clicks: 9.592152760882744\n",
      "Aspiration level after 6 clicks: 8.906897178330704\n"
     ]
    },
    {
     "data": {
      "text/plain": [
       "Text(0.5,0,'Number unexplored alternatives')"
      ]
     },
     "execution_count": 49,
     "metadata": {},
     "output_type": "execute_result"
    },
    {
     "data": {
      "image/png": "[encoded data removed]",
      "text/plain": [
       "<matplotlib.figure.Figure at 0x7f67f2b9d828>"
      ]
     },
     "metadata": {},
     "output_type": "display_data"
    }
   ],
   "source": [
    "click_nrs = np.unique(hd_hs['nr_clicks'])\n",
    "nr_clicks = np.array(hd_hs['nr_clicks'])\n",
    "expected_returns = np.array(hd_hs['expected_term_rewards'])\n",
    "\n",
    "aspiration_levels = dict()\n",
    "\n",
    "for n in click_nrs[:-2]:\n",
    "    print(\"Aspiration level after {} clicks: {}\".format(n,np.min(expected_returns[nr_clicks==n])))\n",
    "    aspiration_levels[n] = (np.min(expected_returns[nr_clicks==n])-mu_R_high_stakes)/sigma_R_high_stakes\n",
    "\n",
    "plt.figure()\n",
    "plt.plot(nr_alternatives-np.array([float(val) for val in aspiration_levels.keys()]),aspiration_levels.values())\n",
    "plt.ylabel('Aspiration Level (z-score)')\n",
    "plt.xlabel('Number unexplored alternatives')\n",
    "\n",
    "#hd_hs['observations'][2]"
   ]
  },
  {
   "cell_type": "markdown",
   "metadata": {
    "collapsed": true
   },
   "source": [
    "# High stakes, low dispersion"
   ]
  },
  {
   "cell_type": "code",
   "execution_count": 50,
   "metadata": {
    "collapsed": true
   },
   "outputs": [],
   "source": [
    "bo_pol_theta = np.load('data/high_stakes_3cents.npy')\n",
    "bo_pol_high_stakes = LiederPolicy(list(bo_pol_theta))"
   ]
  },
  {
   "cell_type": "code",
   "execution_count": 51,
   "metadata": {
    "collapsed": true
   },
   "outputs": [],
   "source": [
    "ld_hs = characterize_strategy(bo_pol_high_stakes,test_envs_ld)"
   ]
  },
  {
   "cell_type": "code",
   "execution_count": 52,
   "metadata": {
    "collapsed": false
   },
   "outputs": [
    {
     "name": "stdout",
     "output_type": "stream",
     "text": [
      "In the low-dispersion environment the BO policy made between 3.0 and 18.0 clicks. The average number of clicks was  8.9\n"
     ]
    }
   ],
   "source": [
    "avg_nr_clicks_ld_hs=np.mean(hd_hs['nr_clicks'])\n",
    "min_nr_clicks_ld_hs=np.min(hd_hs['nr_clicks'])\n",
    "max_nr_clicks_ld_hs=np.max(hd_hs['nr_clicks'])\n",
    "\n",
    "print('In the low-dispersion environment the BO policy made between {} and {} clicks. The average number of clicks was {:4.2}'.format(min_nr_clicks_ld_hs,max_nr_clicks_ld_hs,avg_nr_clicks_ld_hs))"
   ]
  },
  {
   "cell_type": "markdown",
   "metadata": {},
   "source": [
    "# Low stakes, high dispersion"
   ]
  },
  {
   "cell_type": "code",
   "execution_count": 53,
   "metadata": {
    "collapsed": false
   },
   "outputs": [
    {
     "ename": "FileNotFoundError",
     "evalue": "[Errno 2] No such file or directory: 'data/low_stakes_3cents.npy'",
     "output_type": "error",
     "traceback": [
      "\u001b[0;31m---------------------------------------------------------------------------\u001b[0m",
      "\u001b[0;31mFileNotFoundError\u001b[0m                         Traceback (most recent call last)",
      "\u001b[0;32m<ipython-input-53-90e2585bf2ac>\u001b[0m in \u001b[0;36m<module>\u001b[0;34m()\u001b[0m\n\u001b[0;32m----> 1\u001b[0;31m \u001b[0mbo_pol_theta\u001b[0m \u001b[0;34m=\u001b[0m \u001b[0mnp\u001b[0m\u001b[0;34m.\u001b[0m\u001b[0mload\u001b[0m\u001b[0;34m(\u001b[0m\u001b[0;34m'data/low_stakes_3cents.npy'\u001b[0m\u001b[0;34m)\u001b[0m\u001b[0;34m\u001b[0m\u001b[0m\n\u001b[0m\u001b[1;32m      2\u001b[0m \u001b[0mbo_pol_low_stakes\u001b[0m \u001b[0;34m=\u001b[0m \u001b[0mLiederPolicy\u001b[0m\u001b[0;34m(\u001b[0m\u001b[0mlist\u001b[0m\u001b[0;34m(\u001b[0m\u001b[0mbo_pol_theta\u001b[0m\u001b[0;34m)\u001b[0m\u001b[0;34m)\u001b[0m\u001b[0;34m\u001b[0m\u001b[0m\n",
      "\u001b[0;32m~/miniconda3/envs/mcrl/lib/python3.6/site-packages/numpy/lib/npyio.py\u001b[0m in \u001b[0;36mload\u001b[0;34m(file, mmap_mode, allow_pickle, fix_imports, encoding)\u001b[0m\n\u001b[1;32m    368\u001b[0m     \u001b[0mown_fid\u001b[0m \u001b[0;34m=\u001b[0m \u001b[0;32mFalse\u001b[0m\u001b[0;34m\u001b[0m\u001b[0m\n\u001b[1;32m    369\u001b[0m     \u001b[0;32mif\u001b[0m \u001b[0misinstance\u001b[0m\u001b[0;34m(\u001b[0m\u001b[0mfile\u001b[0m\u001b[0;34m,\u001b[0m \u001b[0mbasestring\u001b[0m\u001b[0;34m)\u001b[0m\u001b[0;34m:\u001b[0m\u001b[0;34m\u001b[0m\u001b[0m\n\u001b[0;32m--> 370\u001b[0;31m         \u001b[0mfid\u001b[0m \u001b[0;34m=\u001b[0m \u001b[0mopen\u001b[0m\u001b[0;34m(\u001b[0m\u001b[0mfile\u001b[0m\u001b[0;34m,\u001b[0m \u001b[0;34m\"rb\"\u001b[0m\u001b[0;34m)\u001b[0m\u001b[0;34m\u001b[0m\u001b[0m\n\u001b[0m\u001b[1;32m    371\u001b[0m         \u001b[0mown_fid\u001b[0m \u001b[0;34m=\u001b[0m \u001b[0;32mTrue\u001b[0m\u001b[0;34m\u001b[0m\u001b[0m\n\u001b[1;32m    372\u001b[0m     \u001b[0;32melif\u001b[0m \u001b[0mis_pathlib_path\u001b[0m\u001b[0;34m(\u001b[0m\u001b[0mfile\u001b[0m\u001b[0;34m)\u001b[0m\u001b[0;34m:\u001b[0m\u001b[0;34m\u001b[0m\u001b[0m\n",
      "\u001b[0;31mFileNotFoundError\u001b[0m: [Errno 2] No such file or directory: 'data/low_stakes_3cents.npy'"
     ]
    }
   ],
   "source": [
    "bo_pol_theta = np.load('data/low_stakes_3cents.npy')\n",
    "bo_pol_low_stakes = LiederPolicy(list(bo_pol_theta))"
   ]
  },
  {
   "cell_type": "code",
   "execution_count": null,
   "metadata": {
    "collapsed": true
   },
   "outputs": [],
   "source": [
    "hd_ls = characterize_strategy(bo_pol_low_stakes,test_envs_hd)"
   ]
  },
  {
   "cell_type": "code",
   "execution_count": null,
   "metadata": {
    "collapsed": true
   },
   "outputs": [],
   "source": [
    "avg_nr_clicks_hd_ls=np.mean(hd_ls['nr_clicks'])\n",
    "min_nr_clicks_hd_ls=np.min(hd_ls['nr_clicks'])\n",
    "max_nr_clicks_hd_ls=np.max(hd_ls['nr_clicks'])\n",
    "\n",
    "print('In the high-dispersion environment the low-stakes policy made between {} and {} clicks. The average number of clicks was {:4.2}'.format(min_nr_clicks_hd_ls,max_nr_clicks_hd_ls,avg_nr_clicks_hd_ls))"
   ]
  },
  {
   "cell_type": "markdown",
   "metadata": {},
   "source": [
    "# Low stakes, low dispersion"
   ]
  },
  {
   "cell_type": "code",
   "execution_count": null,
   "metadata": {
    "collapsed": false
   },
   "outputs": [],
   "source": [
    "bo_pol_theta = np.load('data/low_stakes_3cents.npy')\n",
    "bo_pol_low_stakes = LiederPolicy(list(bo_pol_theta))"
   ]
  },
  {
   "cell_type": "code",
   "execution_count": null,
   "metadata": {
    "collapsed": true
   },
   "outputs": [],
   "source": [
    "ld_ls = characterize_strategy(bo_pol_low_stakes,test_envs_ld)"
   ]
  },
  {
   "cell_type": "code",
   "execution_count": null,
   "metadata": {
    "collapsed": true
   },
   "outputs": [],
   "source": [
    "avg_nr_clicks_ld_ls=np.mean(ld_ls['nr_clicks'])\n",
    "min_nr_clicks_ld_ls=np.min(ld_ls['nr_clicks'])\n",
    "max_nr_clicks_ld_ls=np.max(ld_ls['nr_clicks'])\n",
    "\n",
    "print('In the low-dispersion environment the low-stakes policy made between {} and {} clicks. The average number of clicks was {:4.2}'.format(min_nr_clicks_ld_ls,max_nr_clicks_ld_ls,avg_nr_clicks_ld_ls))"
   ]
  },
  {
   "cell_type": "code",
   "execution_count": null,
   "metadata": {
    "collapsed": true
   },
   "outputs": [],
   "source": []
  }
 ],
 "metadata": {
  "kernelspec": {
   "display_name": "Python 3",
   "language": "python",
   "name": "python3"
  },
  "language_info": {
   "codemirror_mode": {
    "name": "ipython",
    "version": 3
   },
   "file_extension": ".py",
   "mimetype": "text/x-python",
   "name": "python",
   "nbconvert_exporter": "python",
   "pygments_lexer": "ipython3",
   "version": "3.6.3"
  }
 },
 "nbformat": 4,
 "nbformat_minor": 2
}
