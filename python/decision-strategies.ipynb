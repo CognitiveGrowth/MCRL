{
 "cells": [
  {
   "cell_type": "code",
   "execution_count": 2,
   "metadata": {
    "collapsed": false
   },
   "outputs": [],
   "source": [
    "%matplotlib inline\n",
    "import matplotlib.pyplot as plt\n",
    "import numpy as np\n",
    "import pandas as pd\n",
    "import seaborn as sns\n",
    "import scipy.stats\n",
    "from scipy.stats import norm\n",
    "import scipy.integrate as integrate\n",
    "import matplotlib.pyplot as plt\n",
    "import pickle\n",
    "\n",
    "import gym\n",
    "from gym import spaces\n",
    "\n",
    "import random\n",
    "import itertools as it\n",
    "from joblib import Parallel, delayed\n",
    "from toolz import memoize\n",
    "from contracts import contract\n",
    "from collections import namedtuple, defaultdict, deque, Counter\n",
    "\n",
    "import warnings\n",
    "warnings.filterwarnings(\"ignore\", \n",
    "                        message=\"The objective has been evaluated at this point before.\")\n",
    "\n",
    "from agents import Agent\n",
    "from oldmouselab import OldMouselabEnv\n",
    "from policies import FixedPlanPolicy, LiederPolicy\n",
    "from evaluation import *\n",
    "from distributions import cmax, smax, sample, expectation, Normal, PointMass, SampleDist, Normal, Categorical"
   ]
  },
  {
   "cell_type": "code",
   "execution_count": 3,
   "metadata": {
    "collapsed": true
   },
   "outputs": [],
   "source": [
    "def save_obj(obj, name ):\n",
    "    with open('data/'+ name + '.pkl', 'wb') as f:\n",
    "        pickle.dump(obj, f, pickle.HIGHEST_PROTOCOL)\n",
    "\n",
    "def load_obj(name ):\n",
    "    with open('data/' + name + '.pkl', 'rb') as f:\n",
    "        return pickle.load(f)"
   ]
  },
  {
   "cell_type": "code",
   "execution_count": 4,
   "metadata": {
    "collapsed": true
   },
   "outputs": [],
   "source": [
    "def hd_dist(attributes):\n",
    "    dist = [1,]*attributes\n",
    "    dist[0] = np.random.randint(85,97)\n",
    "    for i in range(1,attributes-1):\n",
    "        dist[i] += np.random.randint(0,100-np.sum(dist))\n",
    "    dist[-1] += 100-np.sum(dist)\n",
    "    dist = np.around(np.array(dist)/100,decimals=2)\n",
    "    np.random.shuffle(dist)\n",
    "    return dist\n",
    "\n",
    "def ld_dist(attributes):\n",
    "    dist = [np.random.randint(10,40) for _ in range(attributes)]\n",
    "    dist = np.around(np.array(dist)/sum(dist),decimals=2)\n",
    "    np.random.shuffle(dist)\n",
    "    return dist"
   ]
  },
  {
   "cell_type": "code",
   "execution_count": 5,
   "metadata": {
    "collapsed": false
   },
   "outputs": [],
   "source": [
    "gambles = 7\n",
    "attributes = 4\n",
    "mu_R_high_stakes = (9.99+0.01)/2\n",
    "mu_R_low_stakes = (0.25+0.01)/2\n",
    "\n",
    "sigma_R_high_stakes = 0.3*(9.99-0.01)\n",
    "sigma_R_low_stakes = 0.3*(0.25-0.01)\n",
    "\n",
    "high_stakes = Normal(mu_R_high_stakes, sigma_R_high_stakes)\n",
    "low_stakes = Normal(mu_R_low_stakes, sigma_R_low_stakes)\n",
    "cost=.03\n",
    "\n",
    "n_test = 100\n",
    "\n",
    "nr_outcomes = attributes\n",
    "nr_alternatives = gambles"
   ]
  },
  {
   "cell_type": "code",
   "execution_count": 6,
   "metadata": {
    "collapsed": false
   },
   "outputs": [],
   "source": [
    "agent = Agent()\n",
    "def run_env(policy, env):\n",
    "    agent.register(env)\n",
    "    agent.register(policy)\n",
    "    tr = agent.run_episode()\n",
    "#     print(tr)\n",
    "    return {'util': tr['return'], 'actions': tr['actions'],\n",
    "            'observations': len(tr['actions']) - 1, 'ground_truth': env.ground_truth}\n",
    "\n",
    "def action_coordinate(env, action):\n",
    "    #returns gamble, outcome\n",
    "    return (action//env.outcomes,action%env.outcomes)\n",
    "\n",
    "def p_grid(env, actions):\n",
    "    grid = np.zeros((env.gambles+1,env.outcomes))\n",
    "    grid[0,:] = env.dist\n",
    "    for i in range(len(actions[:-1])):\n",
    "        gamble, outcome = action_coordinate(env,actions[i]) \n",
    "        grid[gamble+1, outcome] = i+1\n",
    "    return grid\n",
    "\n",
    "def expected_reward_of_termination(env,actions):\n",
    "    env.reset()\n",
    "    for a in actions:\n",
    "        env.step(a)\n",
    "\n",
    "    return env.expected_term_reward()\n",
    "\n",
    "def characterize_strategy(policy,envs):\n",
    "    operations = []\n",
    "    nr_clicks = []\n",
    "    probabilities = []\n",
    "    returns = []\n",
    "    observations = []\n",
    "    grids = []\n",
    "    p_grids = []\n",
    "    p_outcomes = []\n",
    "    p_ranks = []\n",
    "    inspected_gambles = []\n",
    "    inspected_outcomes = []\n",
    "    nr_inspected_outcomes = []\n",
    "    best_outcome_only = []\n",
    "    expected_term_rewards = []\n",
    "    \n",
    "    transitions_within_alternative = []\n",
    "    transitions_within_attribute = []\n",
    "\n",
    "    nr_attribute_based_clicks = np.array([])\n",
    "    nr_alternative_based_clicks = np.array([])\n",
    "\n",
    "    \n",
    "    for i in range(len(envs)):\n",
    "        envs[i].reset()\n",
    "        trace = run_env(policy, envs[i])\n",
    "        returns = returns + [trace['util']]        \n",
    "        operations = operations + [trace['actions']]\n",
    "        nr_clicks = nr_clicks + [len(trace['actions'])-1]\n",
    "        probabilities = probabilities + [envs[i].dist]\n",
    "        p_grids = p_grids + [p_grid(envs[i],trace['actions'])]\n",
    "        grids = grids + [envs[i].grid()]\n",
    "        \n",
    "        within_attribute = []\n",
    "        within_alternative = []\n",
    "        \n",
    "        gambles = np.array([])\n",
    "        outcomes = np.array([])\n",
    "        observed_payoffs = np.array([])\n",
    "                \n",
    "        p_outcome = np.array([])\n",
    "        p_rank = np.array([])\n",
    "        array = -envs[i].dist\n",
    "        temp = array.argsort()\n",
    "        ranks = np.empty_like(temp)\n",
    "        ranks[temp] = np.arange(len(array))+1\n",
    "        #print(ranks)\n",
    "        \n",
    "        for a in trace['actions'][:-1]:\n",
    "            gamble, outcome = action_coordinate(envs[i], a)\n",
    "            gambles = np.append(gambles,[gamble])\n",
    "            outcomes = np.append(outcomes,[outcome])\n",
    "            p_outcome = np.append(p_outcome,[envs[i].dist[outcome]])\n",
    "            p_rank = np.append(p_rank,[ranks[outcome]])\n",
    "            observed_payoffs = np.append(observed_payoffs,trace['ground_truth'][a])\n",
    "        \n",
    "        \n",
    "        clicks = trace['actions'][:-1]\n",
    "        for c in np.arange(1,len(clicks)):\n",
    "            prev_click = clicks[c-1]\n",
    "            prev_gamble,prev_attribute = action_coordinate(envs[i], prev_click)\n",
    "            gamble,attribute =  action_coordinate(envs[i], clicks[c])\n",
    "            within_attribute = within_attribute + [attribute==prev_attribute]\n",
    "            within_alternative = within_alternative + [gamble==prev_gamble]\n",
    "        \n",
    "        p_ranks = p_ranks + [p_rank]\n",
    "        \n",
    "        transitions_within_alternative = transitions_within_alternative + [within_alternative]\n",
    "        transitions_within_attribute = transitions_within_attribute + [within_attribute]\n",
    "\n",
    "        nr_attribute_based_clicks   = np.append(nr_attribute_based_clicks,[np.sum(within_attribute)])\n",
    "        nr_alternative_based_clicks = np.append(nr_alternative_based_clicks,[np.sum(within_alternative)])\n",
    "        \n",
    "        best_outcome_only.append(np.all(np.unique(p_rank)==[1]))        \n",
    "        observations = observations + [observed_payoffs]\n",
    "        expected_term_rewards = expected_term_rewards  + [expected_reward_of_termination(envs[i],trace['actions'][:-1])] \n",
    "        p_outcomes = p_outcomes + [p_outcome]\n",
    "        inspected_gambles = inspected_gambles + [gambles]\n",
    "        inspected_outcomes= inspected_outcomes + [outcomes]\n",
    "        nr_inspected_outcomes = nr_inspected_outcomes + [len(np.unique(outcomes))]\n",
    "    \n",
    "    return {'grids':grids,'expected_term_rewards': expected_term_rewards,'best_outcome_only': best_outcome_only,\n",
    "            'nr_inspected_outcomes':nr_inspected_outcomes, 'p_ranks': p_ranks, 'p_outcomes': p_outcomes, \n",
    "            'inspected_gambles': inspected_gambles, 'inspected_outcomes': inspected_outcomes, 'p_grids': p_grids,\n",
    "            'returns': returns, 'observations': observations, 'operations':operations, 'nr_clicks': nr_clicks,\n",
    "            'nr_alternative_based_clicks':nr_alternative_based_clicks,'nr_attribute_based_clicks':nr_attribute_based_clicks,\n",
    "            'transitions_within_attribute': transitions_within_attribute, 'transitions_within_alternative': transitions_within_alternative,'probabilities': probabilities}\n",
    "    "
   ]
  },
  {
   "cell_type": "markdown",
   "metadata": {},
   "source": [
    "# High stakes, high dispersion"
   ]
  },
  {
   "cell_type": "code",
   "execution_count": 52,
   "metadata": {
    "collapsed": true
   },
   "outputs": [],
   "source": [
    "#bo_pol_theta = np.load('data/high_stakes_3cents.npy')\n",
    "bo_pol_theta = np.load('data/high_stakes_1cents.npy')\n",
    "bo_pol_high_stakes = LiederPolicy(list(bo_pol_theta))\n",
    "\n",
    "cost = 0.01\n",
    "reward = high_stakes\n",
    "hd_hs_envs =  [OldMouselabEnv(gambles, hd_dist(attributes), reward, cost) for _ in range(n_test)]\n",
    "term_action = hd_hs_envs[0].term_action"
   ]
  },
  {
   "cell_type": "code",
   "execution_count": 53,
   "metadata": {
    "collapsed": false
   },
   "outputs": [],
   "source": [
    "#hd_hs = characterize_strategy(bo_pol_high_stakes, hd_hs_envs)\n",
    "#save_obj(hd_hs,'high_dispersion_high_stakes_1cents')\n",
    "#save_obj(hd_hs_envs,'hd_hs_envs_0.5cents')\n",
    "#hd_hs = load_obj('high_dispersion_high_stakes')\n",
    "hd_hs=load_obj('high_dispersion_high_stakes_1cents')"
   ]
  },
  {
   "cell_type": "code",
   "execution_count": 8,
   "metadata": {
    "collapsed": false
   },
   "outputs": [
    {
     "name": "stdout",
     "output_type": "stream",
     "text": [
      "The resource-rational strategy reaps 102.3% of the highest possible payoffs.\n"
     ]
    }
   ],
   "source": [
    "max_EV = np.array([])\n",
    "all_actions = np.arange(28)\n",
    "#for a in all_actions:\n",
    "#    test_envs_hd[0].step(a)\n",
    "\n",
    "for i in range(len(hd_hs_envs)):\n",
    "    max_EV = np.append(max_EV,[expected_reward_of_termination(hd_hs_envs[i],all_actions)])\n",
    "    \n",
    "max_EV_hd_hs = np.mean(max_EV)\n",
    "\n",
    "print(\"The resource-rational strategy reaps {:.4}% of the highest possible payoffs.\".format(100*np.mean(hd_hs['returns'])/max_EV_hd_hs))"
   ]
  },
  {
   "cell_type": "code",
   "execution_count": 9,
   "metadata": {
    "collapsed": false
   },
   "outputs": [
    {
     "name": "stdout",
     "output_type": "stream",
     "text": [
      "On 0.0% of the high-dispersion trials the resource-rational strategy is random choice.\n",
      "On 90.0% of the high-dispersion trials the click squences of the high-stakes policy were consistent with SAT-TTB.\n",
      "On 77.0% of the high-dispersion trials the click squences of the high-stakes policy were consistent with TTB.\n",
      "On 0.0% of the high-dispersion trials the click squences of the high-stakes policy was consistent with WADD.\n"
     ]
    }
   ],
   "source": [
    "TTB_compatible = np.array([])\n",
    "WADD_compatible = np.array([])\n",
    "SAT_TTB_compatible = np.array([])\n",
    "random_choice = np.array([])\n",
    "\n",
    "for i in range(n_test):\n",
    "    TTB_compatible =  np.append(TTB_compatible, [hd_hs['nr_clicks'][i]==nr_alternatives and hd_hs['best_outcome_only'][i]])\n",
    "    WADD_compatible=  np.append(WADD_compatible,[hd_hs['nr_clicks'][i]==nr_alternatives*nr_outcomes])\n",
    "    SAT_TTB_compatible = np.append(SAT_TTB_compatible, [hd_hs['best_outcome_only'][i] and hd_hs['nr_clicks'][i]>0])\n",
    "    random_choice = np.append(random_choice, [hd_hs['nr_clicks'][i]==0])\n",
    "\n",
    "print(\"On {}% of the high-dispersion trials the resource-rational strategy is random choice.\".format(100*np.mean(random_choice)))\n",
    "print(\"On {}% of the high-dispersion trials the click squences of the high-stakes policy were consistent with SAT-TTB.\".format(100*np.mean(SAT_TTB_compatible)))\n",
    "print(\"On {}% of the high-dispersion trials the click squences of the high-stakes policy were consistent with TTB.\".format(100*np.mean(TTB_compatible)))\n",
    "print(\"On {}% of the high-dispersion trials the click squences of the high-stakes policy was consistent with WADD.\".format(100*np.mean(WADD_compatible)))"
   ]
  },
  {
   "cell_type": "code",
   "execution_count": 10,
   "metadata": {
    "collapsed": false
   },
   "outputs": [
    {
     "name": "stdout",
     "output_type": "stream",
     "text": [
      "The high-stakes policy inspected more than 7 cells in 10.0% of the trials.\n",
      "The high-stakes policy inspected more than 1 outcome in 10.0% of the high-dispersion trials.\n"
     ]
    }
   ],
   "source": [
    "print(\"The high-stakes policy inspected more than 7 cells in {}% of the trials.\".format(100*np.mean(np.array(hd_hs['nr_clicks'])>7)))\n",
    "print(\"The high-stakes policy inspected more than 1 outcome in {}% of the high-dispersion trials.\".format(100*np.mean(np.array(hd_hs['nr_inspected_outcomes'])>1)))"
   ]
  },
  {
   "cell_type": "code",
   "execution_count": 11,
   "metadata": {
    "collapsed": false
   },
   "outputs": [
    {
     "name": "stdout",
     "output_type": "stream",
     "text": [
      "False\n",
      "In   90.0% of the high-dispersion problems, the high-stakes policy considered only the most probably outcome.\n",
      "\n",
      "In the high-dispersion environment the BO policy made between 4 and 10 clicks. The average number of clicks was 7.0.\n",
      "\n",
      " Example: \n",
      "[[ 0.06  0.06  0.85  0.03]\n",
      " [ 0.    9.    5.    0.  ]\n",
      " [ 0.    0.    4.    0.  ]\n",
      " [ 0.    0.    2.    0.  ]\n",
      " [ 0.    0.    7.    0.  ]\n",
      " [ 0.    0.    3.    0.  ]\n",
      " [ 0.    8.    1.    0.  ]\n",
      " [ 0.    0.    6.    0.  ]]\n",
      "[[  4.688   3.463   8.583   1.015]\n",
      " [  2.717   3.802   7.603  10.049]\n",
      " [  5.929   7.528   7.567  12.152]\n",
      " [  7.488   7.925  -0.727  -1.613]\n",
      " [  1.239   7.209   5.663   8.446]\n",
      " [  2.055   4.487   5.698   8.765]\n",
      " [  5.564   7.986   7.423   5.673]]\n"
     ]
    },
    {
     "data": {
      "image/png": "[encoded data removed]",
      "text/plain": [
       "<matplotlib.figure.Figure at 0x7f144e086390>"
      ]
     },
     "metadata": {},
     "output_type": "display_data"
    }
   ],
   "source": [
    "print(np.all(hd_hs['best_outcome_only']))\n",
    "\n",
    "print(\"In {:6.3}% of the high-dispersion problems, the high-stakes policy considered only the most probably outcome.\".format(100*np.mean(hd_hs['best_outcome_only'])))\n",
    "print(\"\")\n",
    "avg_nr_clicks_hd_hs=np.mean(hd_hs['nr_clicks'])\n",
    "min_nr_clicks_hd_hs=np.min(hd_hs['nr_clicks'])\n",
    "max_nr_clicks_hd_hs=np.max(hd_hs['nr_clicks'])\n",
    "\n",
    "print('In the high-dispersion environment the BO policy made between {} and {} clicks. The average number of clicks was {:3.2}.'.format(min_nr_clicks_hd_hs,max_nr_clicks_hd_hs,avg_nr_clicks_hd_hs))\n",
    "\n",
    "plt.figure()\n",
    "plt.hist(hd_hs['nr_clicks'])\n",
    "plt.xlabel('Number of clicks')\n",
    "plt.ylabel('Frequency out of 100')\n",
    "\n",
    "print(\"\\n Example: \")\n",
    "print(hd_hs['p_grids'][1])\n",
    "print(hd_hs_envs[1].grid())"
   ]
  },
  {
   "cell_type": "code",
   "execution_count": 12,
   "metadata": {
    "collapsed": false
   },
   "outputs": [
    {
     "name": "stdout",
     "output_type": "stream",
     "text": [
      "The high-stakes policy inspected more than 1 outcome in 10.0% of the high-dispersion trials.\n",
      "The high-stakes policy inspected all 4 outcomes in 0.0% of the high-dispersion trials.\n"
     ]
    },
    {
     "data": {
      "image/png": "[encoded data removed]",
      "text/plain": [
       "<matplotlib.figure.Figure at 0x7f144e01acc0>"
      ]
     },
     "metadata": {},
     "output_type": "display_data"
    }
   ],
   "source": [
    "plt.figure()\n",
    "plt.hist(hd_hs['nr_inspected_outcomes'])\n",
    "plt.xlabel('Number of inspected outcomes')\n",
    "plt.ylabel('Frequency in %')\n",
    "\n",
    "#print(\"The high-stakes policy inspected more than 7 cells in {}% of the low-dispersion trials.\".format(100*np.mean(np.array(ld_hs['nr_clicks'])>7)))\n",
    "print(\"The high-stakes policy inspected more than 1 outcome in {}% of the high-dispersion trials.\".format(100*np.mean(np.array(hd_hs['nr_inspected_outcomes'])>1)))\n",
    "print(\"The high-stakes policy inspected all 4 outcomes in {}% of the high-dispersion trials.\".format(100*np.mean(np.array(hd_hs['nr_inspected_outcomes'])==4)))\n"
   ]
  },
  {
   "cell_type": "code",
   "execution_count": 13,
   "metadata": {
    "collapsed": false
   },
   "outputs": [
    {
     "name": "stdout",
     "output_type": "stream",
     "text": [
      "In the high-dispersion environment 98.6% of the clicks transitioned within the same attribute, 0.4107% transitioned within the same alternative, and the remaining 0.9901% of clicks switched both the attribute and the alternative.\n"
     ]
    }
   ],
   "source": [
    "prop_alternative_based_clicks = np.mean(np.array(hd_hs['nr_alternative_based_clicks'])/(np.array(hd_hs['nr_clicks'])-1))\n",
    "prop_attribute_based_clicks = np.mean(np.array(hd_hs['nr_attribute_based_clicks'])/(np.array(hd_hs['nr_clicks'])-1))\n",
    "prop_other = 1 - (prop_alternative_based_clicks + prop_attribute_based_clicks)\n",
    "#hd_hs['transitions_within_alternative']\n",
    "\n",
    "print('In the high-dispersion environment {:.4}% of the clicks transitioned within the same attribute, {:.4}% transitioned within the same alternative, and the remaining {:.4}% of clicks switched both the attribute and the alternative.'.format(100*prop_attribute_based_clicks,100*prop_alternative_based_clicks,100*prop_other))"
   ]
  },
  {
   "cell_type": "code",
   "execution_count": 14,
   "metadata": {
    "collapsed": false
   },
   "outputs": [
    {
     "name": "stdout",
     "output_type": "stream",
     "text": [
      "Aspiration level after 4 clicks: 11.154238765763745\n",
      "Aspiration level after 5 clicks: 11.127358827519275\n",
      "Aspiration level after 6 clicks: 10.267506528050697\n",
      "Aspiration level after 7 clicks: 5.9104971446208525\n",
      "Aspiration level after 8 clicks: 6.241637110239201\n",
      "average aspiration level: $10.3\n",
      "average aspiration level: 1.76 standard deviations above mean\n"
     ]
    },
    {
     "data": {
      "image/png": "[encoded data removed]",
      "text/plain": [
       "<matplotlib.figure.Figure at 0x7f14456a7828>"
      ]
     },
     "metadata": {},
     "output_type": "display_data"
    }
   ],
   "source": [
    "click_nrs = np.unique(hd_hs['nr_clicks'])\n",
    "nr_clicks = np.array(hd_hs['nr_clicks'])\n",
    "expected_returns = np.array(hd_hs['expected_term_rewards'])\n",
    "\n",
    "aspiration_levels = dict()\n",
    "\n",
    "for n in click_nrs[:-2]:\n",
    "    print(\"Aspiration level after {} clicks: {}\".format(n,np.min(expected_returns[nr_clicks==n])))\n",
    "    aspiration_levels[n] = (np.min(expected_returns[nr_clicks==n])-mu_R_high_stakes)/sigma_R_high_stakes\n",
    "\n",
    "plt.figure()\n",
    "plt.plot(nr_alternatives-np.array([float(val) for val in aspiration_levels.keys()]),aspiration_levels.values())\n",
    "plt.ylabel('Aspiration Level (z-score)')\n",
    "plt.xlabel('Number unexplored alternatives')\n",
    "\n",
    "#hd_hs['observations'][2]\n",
    "\n",
    "aspiration_level = np.min(expected_returns[np.array(hd_hs['nr_clicks'])<nr_alternatives])\n",
    "print('average aspiration level: ${:.3}'.format(aspiration_level))\n",
    "print('average aspiration level: {:.3} standard deviations above mean'.format((aspiration_level-mu_R_high_stakes)/sigma_R_high_stakes))"
   ]
  },
  {
   "cell_type": "code",
   "execution_count": 15,
   "metadata": {
    "collapsed": true
   },
   "outputs": [],
   "source": [
    "#Save the results\n",
    "save_obj(hd_hs, 'high_dispersion_high_stakes' )"
   ]
  },
  {
   "cell_type": "markdown",
   "metadata": {
    "collapsed": true
   },
   "source": [
    "# High stakes, low dispersion"
   ]
  },
  {
   "cell_type": "code",
   "execution_count": 16,
   "metadata": {
    "collapsed": false
   },
   "outputs": [],
   "source": [
    "bo_pol_theta = np.load('data/high_stakes_3cents.npy')\n",
    "bo_pol_high_stakes = LiederPolicy(list(bo_pol_theta))\n",
    "\n",
    "reward = high_stakes\n",
    "ld_hs_envs = [OldMouselabEnv(gambles, ld_dist(attributes), reward, cost) for _ in range(n_test)]\n",
    "\n",
    "term_action = ld_hs_envs[0].term_action"
   ]
  },
  {
   "cell_type": "code",
   "execution_count": 17,
   "metadata": {
    "collapsed": false
   },
   "outputs": [],
   "source": [
    "#ld_hs = characterize_strategy(bo_pol_high_stakes,ld_hs_envs)\n",
    "#save_obj(ld_hs,'low_dispersion_high_stakes_1cents')\n",
    "ld_hs = load_obj('low_dispersion_high_stakes_1cents')"
   ]
  },
  {
   "cell_type": "code",
   "execution_count": 18,
   "metadata": {
    "collapsed": false
   },
   "outputs": [
    {
     "name": "stdout",
     "output_type": "stream",
     "text": [
      "The resource-rational strategy reaps 92.59% of the highest possible payoffs.\n"
     ]
    }
   ],
   "source": [
    "max_EV = np.array([])\n",
    "all_actions = np.arange(28)\n",
    "#for a in all_actions:\n",
    "#    test_envs_hd[0].step(a)\n",
    "\n",
    "for i in range(len(ld_hs_envs)):\n",
    "    max_EV = np.append(max_EV,[expected_reward_of_termination(ld_hs_envs[i],all_actions)])\n",
    "    \n",
    "max_EV_ld_hs = np.mean(max_EV)\n",
    "\n",
    "np.mean(ld_hs['returns'])/max_EV_ld_hs\n",
    "\n",
    "print(\"The resource-rational strategy reaps {:.4}% of the highest possible payoffs.\".format(100*np.mean(ld_hs['returns'])/max_EV_ld_hs))"
   ]
  },
  {
   "cell_type": "code",
   "execution_count": 19,
   "metadata": {
    "collapsed": false
   },
   "outputs": [
    {
     "name": "stdout",
     "output_type": "stream",
     "text": [
      "On 0.0% of the low-dispersion trials the resource-rational strategy is random choice.\n",
      "On 0.0% of the low-dispersion trials the click squences of the high-stakes policy were consistent with SAT-TTB.\n",
      "On 0.0% of the low-dispersion trials the click squences of the high-stakes policy were consistent with TTB.\n",
      "On 0.0% of the low-dispersion trials the click squences of the high-stakes policy was consistent with WADD.\n"
     ]
    }
   ],
   "source": [
    "TTB_compatible = np.array([])\n",
    "WADD_compatible = np.array([])\n",
    "SAT_TTB_compatible = np.array([])\n",
    "random_choice = np.array([])\n",
    "\n",
    "for i in range(n_test):\n",
    "    TTB_compatible =  np.append(TTB_compatible, [ld_hs['nr_clicks'][i]==nr_alternatives and ld_hs['best_outcome_only'][i]])\n",
    "    WADD_compatible=  np.append(WADD_compatible,[ld_hs['nr_clicks'][i]==nr_alternatives*nr_outcomes])\n",
    "    SAT_TTB_compatible = np.append(SAT_TTB_compatible, [ld_hs['best_outcome_only'][i] and ld_hs['nr_clicks'][i]>0])\n",
    "    random_choice = np.append(random_choice, [ld_hs['nr_clicks'][i]==0])\n",
    "\n",
    "print(\"On {}% of the low-dispersion trials the resource-rational strategy is random choice.\".format(100*np.mean(random_choice)))\n",
    "print(\"On {}% of the low-dispersion trials the click squences of the high-stakes policy were consistent with SAT-TTB.\".format(100*np.mean(SAT_TTB_compatible)))\n",
    "print(\"On {}% of the low-dispersion trials the click squences of the high-stakes policy were consistent with TTB.\".format(100*np.mean(TTB_compatible)))\n",
    "print(\"On {}% of the low-dispersion trials the click squences of the high-stakes policy was consistent with WADD.\".format(100*np.mean(WADD_compatible)))\n"
   ]
  },
  {
   "cell_type": "code",
   "execution_count": 20,
   "metadata": {
    "collapsed": false
   },
   "outputs": [
    {
     "name": "stdout",
     "output_type": "stream",
     "text": [
      "In the low-dispersion environment 46.13% of the clicks transitioned within the same attribute, 14.88% transitioned within the same alternative, and the remaining 38.99% of clicks switched both the attribute and the alternative.\n"
     ]
    }
   ],
   "source": [
    "prop_alternative_based_clicks = np.mean(np.array(ld_hs['nr_alternative_based_clicks'])/(np.array(ld_hs['nr_clicks'])-1))\n",
    "prop_attribute_based_clicks = np.mean(np.array(ld_hs['nr_attribute_based_clicks'])/(np.array(ld_hs['nr_clicks'])-1))\n",
    "prop_other = 1 - (prop_alternative_based_clicks + prop_attribute_based_clicks)\n",
    "#ld_hs['transitions_within_alternative']\n",
    "\n",
    "print('In the low-dispersion environment {:.4}% of the clicks transitioned within the same attribute, {:.4}% transitioned within the same alternative, and the remaining {:.4}% of clicks switched both the attribute and the alternative.'.format(100*prop_attribute_based_clicks,100*prop_alternative_based_clicks,100*prop_other))"
   ]
  },
  {
   "cell_type": "code",
   "execution_count": 21,
   "metadata": {
    "collapsed": false
   },
   "outputs": [
    {
     "name": "stdout",
     "output_type": "stream",
     "text": [
      "The high-stakes policy inspected more than 1 outcome in 100.0% of the low-dispersion trials.\n",
      "The high-stakes policy inspected all 4 outcomes in 56.00000000000001% of the low-dispersion trials.\n"
     ]
    },
    {
     "data": {
      "image/png": "[encoded data removed]",
      "text/plain": [
       "<matplotlib.figure.Figure at 0x7f14455cc320>"
      ]
     },
     "metadata": {},
     "output_type": "display_data"
    }
   ],
   "source": [
    "plt.figure()\n",
    "plt.hist(ld_hs['nr_inspected_outcomes'])\n",
    "plt.xlabel('Number of inspected outcomes')\n",
    "plt.ylabel('Frequency in %')\n",
    "\n",
    "#print(\"The high-stakes policy inspected more than 7 cells in {}% of the low-dispersion trials.\".format(100*np.mean(np.array(ld_hs['nr_clicks'])>7)))\n",
    "print(\"The high-stakes policy inspected more than 1 outcome in {}% of the low-dispersion trials.\".format(100*np.mean(np.array(ld_hs['nr_inspected_outcomes'])>1)))\n",
    "print(\"The high-stakes policy inspected all 4 outcomes in {}% of the low-dispersion trials.\".format(100*np.mean(np.array(ld_hs['nr_inspected_outcomes'])==4)))\n"
   ]
  },
  {
   "cell_type": "code",
   "execution_count": 22,
   "metadata": {
    "collapsed": false
   },
   "outputs": [
    {
     "name": "stdout",
     "output_type": "stream",
     "text": [
      "In    0.0% of the low-dispersion problems, the high-stakes policy considered only the most probably outcome.\n",
      "\n",
      "In the low-dispersion environment the BO policy made between 5 and 21 clicks. The average number of clicks was 12.8.\n",
      "\n",
      " Example: \n",
      "[[ 0.172  0.323  0.172  0.333]\n",
      " [ 0.     3.     0.     0.   ]\n",
      " [ 0.     8.     0.     9.   ]\n",
      " [ 0.     0.     0.     0.   ]\n",
      " [ 0.     0.     0.     2.   ]\n",
      " [ 0.     4.     0.     5.   ]\n",
      " [ 0.     6.     0.     1.   ]\n",
      " [ 0.     7.     0.     0.   ]]\n",
      "[[ 4.561  5.685  8.157  4.688]\n",
      " [ 4.764  6.718  7.19   7.078]\n",
      " [ 8.848  4.619  9.4    8.088]\n",
      " [ 0.817  1.34   2.544  0.905]\n",
      " [ 7.231  5.473  1.215  8.027]\n",
      " [-2.684  6.776  2.821  3.228]\n",
      " [ 4.61   7.544  5.111 -2.348]]\n"
     ]
    },
    {
     "data": {
      "image/png": "[encoded data removed]",
      "text/plain": [
       "<matplotlib.figure.Figure at 0x7f1445675978>"
      ]
     },
     "metadata": {},
     "output_type": "display_data"
    }
   ],
   "source": [
    "print(\"In {:6.3}% of the low-dispersion problems, the high-stakes policy considered only the most probably outcome.\".format(100*np.mean(ld_hs['best_outcome_only'])))\n",
    "print(\"\")\n",
    "avg_nr_clicks_ld_hs=np.mean(ld_hs['nr_clicks'])\n",
    "min_nr_clicks_ld_hs=np.min(ld_hs['nr_clicks'])\n",
    "max_nr_clicks_ld_hs=np.max(ld_hs['nr_clicks'])\n",
    "\n",
    "print('In the low-dispersion environment the BO policy made between {} and {} clicks. The average number of clicks was {:4.3}.'.format(min_nr_clicks_ld_hs,max_nr_clicks_ld_hs,avg_nr_clicks_ld_hs))\n",
    "\n",
    "plt.figure()\n",
    "plt.hist(ld_hs['nr_clicks'])\n",
    "plt.xlabel('Number of clicks (out of 28)')\n",
    "plt.ylabel('Frequency out of 100')\n",
    "\n",
    "print(\"\\n Example: \")\n",
    "print(ld_hs['p_grids'][4])\n",
    "print(ld_hs_envs[4].grid())"
   ]
  },
  {
   "cell_type": "markdown",
   "metadata": {},
   "source": [
    "## Properties of the high-stakes strategy in the low-dispersion environment\n",
    "\n",
    "In high-stakes decision problems where all outcomes are almost equally likely, the LC policy does not seem to correspond to any previously proposed decision strategy. Its click sequence agreed with TTB on only 1% of the decision problems, and it corresponded to WADD on 0/100 problems.\n",
    "\n",
    "Instead, it appears to shift between searching for promising alternatives and evaluating them in detail until it finds an alternative that it deems good enough. Inspecting its click-sequences suggested the following description:\n",
    "1. It starts inspected payoffs for the most likely outcome until it has found at least two promising gambles.\n",
    "1. It then aspects the payoffs of those gambles for the second most likely outcome.\n",
    "1. If those are similar and worse, then it continues to inspect the payoffs of these gambles for the third most likely outcome.\n",
    "1. When the gambles look no longer promising, it starts inspecting other gambles.\n",
    "1. If one of them has a promising payoff, it will collect more information about that gamble.\n",
    "1. If nothing is covnincing yet, it will inspect yet another new gamble.\n",
    "1. It stops when it becomes too unlikely that something better than the current best will be found eventually.\n",
    "\n",
    "In more quantitative terms, I found that the resource-rational strategy for environments were all outcomes are almost equally likely is qualitatively different from its counterpart for the environment where one outcome is much more likely than all others. Concretely, in contrast to the resource-rational strategy for the environment with high dispersion, this strategy was predominantly compensatory in that it considered more than 1 outcome for 98% of the problems. In fact, it considered all four possible outcomes in 67% of the decisions. Furthermore, the resource-rational strategy collected significantly more information in the low-dispersion environment  than in the high dispersion environment.\n",
    "Concretely, in the low-dispersion environment, it considered about 13 of the 28 payoffs on average (range: 5–21).\n",
    "\n",
    "As before, there was a trend for the strategy’s aspiration level to decrease as the number of unknown payoffs decreased."
   ]
  },
  {
   "cell_type": "code",
   "execution_count": 23,
   "metadata": {
    "collapsed": false
   },
   "outputs": [
    {
     "name": "stdout",
     "output_type": "stream",
     "text": [
      "Aspiration level after 5 clicks: 7.8908479593171\n",
      "Aspiration level after 6 clicks: 8.109105107984629\n",
      "Aspiration level after 7 clicks: 8.552317393590382\n",
      "Aspiration level after 8 clicks: 6.3068420579255795\n",
      "Aspiration level after 9 clicks: 7.501574410356419\n",
      "Aspiration level after 10 clicks: 6.259937526838719\n",
      "Aspiration level after 11 clicks: 5.854305501011204\n",
      "Aspiration level after 12 clicks: 5.587765789560521\n",
      "Aspiration level after 13 clicks: 5.578664540588791\n",
      "Aspiration level after 14 clicks: 5.7786858958532505\n",
      "Aspiration level after 15 clicks: 6.043591131073287\n",
      "Aspiration level after 16 clicks: 6.057183744193917\n",
      "Aspiration level after 17 clicks: 5.677364259457916\n",
      "Aspiration level after 18 clicks: 5.95217845486502\n",
      "average aspiration level: $6.93\n",
      "average aspiration level: 0.643 standard deviations above mean\n"
     ]
    },
    {
     "data": {
      "image/png": "[encoded data removed]",
      "text/plain": [
       "<matplotlib.figure.Figure at 0x7f1445593e48>"
      ]
     },
     "metadata": {},
     "output_type": "display_data"
    }
   ],
   "source": [
    "click_nrs = np.unique(ld_hs['nr_clicks'])\n",
    "nr_clicks = np.array(ld_hs['nr_clicks'])\n",
    "expected_returns = np.array(ld_hs['expected_term_rewards'])\n",
    "\n",
    "aspiration_levels = dict()\n",
    "\n",
    "for n in click_nrs[:-2]:\n",
    "    print(\"Aspiration level after {} clicks: {}\".format(n,np.min(expected_returns[nr_clicks==n])))\n",
    "    aspiration_levels[n] = (np.min(expected_returns[nr_clicks==n])-mu_R_high_stakes)/sigma_R_high_stakes\n",
    "\n",
    "plt.figure()\n",
    "plt.plot(nr_alternatives*nr_outcomes-np.array([float(val) for val in aspiration_levels.keys()]),aspiration_levels.values())\n",
    "plt.ylabel('Aspiration Level (z-score)')\n",
    "plt.xlabel('Number uninspected cells')\n",
    "\n",
    "aspiration_level = np.min(expected_returns[np.array(ld_hs['nr_clicks'])<nr_alternatives])\n",
    "print('average aspiration level: ${:.3}'.format(np.mean(expected_returns)))\n",
    "print('average aspiration level: {:.3} standard deviations above mean'.format((np.mean(expected_returns)-mu_R_high_stakes)/sigma_R_high_stakes))"
   ]
  },
  {
   "cell_type": "markdown",
   "metadata": {},
   "source": [
    "# Low stakes, high dispersion"
   ]
  },
  {
   "cell_type": "code",
   "execution_count": 24,
   "metadata": {
    "collapsed": false
   },
   "outputs": [],
   "source": [
    "bo_pol_theta = np.load('data/low_stakes_1cents.npy')\n",
    "bo_pol_low_stakes = LiederPolicy(list(bo_pol_theta))\n",
    "\n",
    "cost=.01\n",
    "reward = low_stakes\n",
    "hd_ls_envs =  [OldMouselabEnv(gambles, hd_dist(attributes), reward, cost) for _ in range(n_test)]\n",
    "\n",
    "term_action = hd_ls_envs[0].term_action"
   ]
  },
  {
   "cell_type": "code",
   "execution_count": 25,
   "metadata": {
    "collapsed": false
   },
   "outputs": [],
   "source": [
    "#hd_ls = characterize_strategy(bo_pol_low_stakes,hd_ls_envs)\n",
    "#save_obj(hd_ls,'high_dispersion_low_stakes_1cents')\n",
    "hd_ls=load_obj('high_dispersion_low_stakes_1cents')\n",
    "#hd_ls = load_obj('high_dispersion_low_stakes_0.5cents')\n",
    "#save_obj(hd_ls,'high_dispersion_low_stakes_3cents')"
   ]
  },
  {
   "cell_type": "code",
   "execution_count": 26,
   "metadata": {
    "collapsed": false
   },
   "outputs": [
    {
     "name": "stdout",
     "output_type": "stream",
     "text": [
      "The resource-rational strategy reaps 75.04% of the highest possible payoffs.\n"
     ]
    }
   ],
   "source": [
    "max_EV = np.array([])\n",
    "all_actions = np.arange(28)\n",
    "#for a in all_actions:\n",
    "#    test_envs_hd[0].step(a)\n",
    "\n",
    "for i in range(len(hd_ls_envs)):\n",
    "    max_EV = np.append(max_EV,[expected_reward_of_termination(hd_ls_envs[i],all_actions)])\n",
    "    \n",
    "max_EV_hd_ls = np.mean(max_EV)\n",
    "\n",
    "np.mean(hd_ls['returns'])/max_EV_hd_ls\n",
    "\n",
    "print(\"The resource-rational strategy reaps {:.4}% of the highest possible payoffs.\".format(100*np.mean(hd_ls['returns'])/max_EV_hd_ls))"
   ]
  },
  {
   "cell_type": "code",
   "execution_count": 27,
   "metadata": {
    "collapsed": false
   },
   "outputs": [
    {
     "name": "stdout",
     "output_type": "stream",
     "text": [
      "On 0.0% of the high-dispersion trials the resource-rational strategy is random choice.\n",
      "On 100.0% of the high-dispersion trials the click squences of the low-stakes policy were consistent with SAT-TTB.\n",
      "On 21.0% of the high-dispersion trials the click squences of the low-stakes policy were consistent with TTB.\n",
      "On 0.0% of the high-dispersion trials the click squences of the low-stakes policy was consistent with WADD.\n"
     ]
    }
   ],
   "source": [
    "TTB_compatible = np.array([])\n",
    "WADD_compatible = np.array([])\n",
    "SAT_TTB_compatible = np.array([])\n",
    "random_choice = np.array([])\n",
    "\n",
    "for i in range(n_test):\n",
    "    TTB_compatible =  np.append(TTB_compatible, [hd_ls['nr_clicks'][i]==nr_alternatives and hd_ls['best_outcome_only'][i]])\n",
    "    WADD_compatible=  np.append(WADD_compatible,[hd_ls['nr_clicks'][i]==nr_alternatives*nr_outcomes])\n",
    "    SAT_TTB_compatible = np.append(SAT_TTB_compatible, [hd_ls['best_outcome_only'][i] and hd_ls['nr_clicks'][i]>0])\n",
    "    random_choice = np.append(random_choice, [hd_ls['nr_clicks'][i]==0])\n",
    "\n",
    "print(\"On {}% of the high-dispersion trials the resource-rational strategy is random choice.\".format(100*np.mean(random_choice)))\n",
    "print(\"On {}% of the high-dispersion trials the click squences of the low-stakes policy were consistent with SAT-TTB.\".format(100*np.mean(SAT_TTB_compatible)))\n",
    "print(\"On {}% of the high-dispersion trials the click squences of the low-stakes policy were consistent with TTB.\".format(100*np.mean(TTB_compatible)))\n",
    "print(\"On {}% of the high-dispersion trials the click squences of the low-stakes policy was consistent with WADD.\".format(100*np.mean(WADD_compatible)))"
   ]
  },
  {
   "cell_type": "code",
   "execution_count": 28,
   "metadata": {
    "collapsed": false
   },
   "outputs": [
    {
     "name": "stdout",
     "output_type": "stream",
     "text": [
      "In the high-dispersion environment 80.0% of the clicks transitioned within the same attribute, 0.0% transitioned within the same alternative, and the remaining 20.0% of clicks switched both the attribute and the alternative.\n"
     ]
    }
   ],
   "source": [
    "prop_alternative_based_clicks = np.mean(np.array(hd_ls['nr_alternative_based_clicks'])/(np.array(hd_ls['nr_clicks'])-1+0.00000000001))\n",
    "prop_attribute_based_clicks = np.mean(np.array(hd_ls['nr_attribute_based_clicks'])/(np.array(hd_ls['nr_clicks'])-1+0.00000000001))\n",
    "prop_other = 1 - (prop_alternative_based_clicks + prop_attribute_based_clicks)\n",
    "#hd_ls['transitions_within_alternative']\n",
    "\n",
    "print('In the high-dispersion environment {:.4}% of the clicks transitioned within the same attribute, {:.4}% transitioned within the same alternative, and the remaining {:.4}% of clicks switched both the attribute and the alternative.'.format(100*prop_attribute_based_clicks,100*prop_alternative_based_clicks,100*prop_other))"
   ]
  },
  {
   "cell_type": "code",
   "execution_count": 29,
   "metadata": {
    "collapsed": false
   },
   "outputs": [
    {
     "name": "stdout",
     "output_type": "stream",
     "text": [
      "0\n",
      "The low-stakes policy inspected exactly 7 cells in 21.0% of the high-dispersion trials.\n",
      "The low-stakes policy inspected fewer than 7 cells in 79.0% of the high-dispersion trials.\n",
      "The low-stakes policy inspected more than 7 cells in 0.0% of the high-dispersion trials.\n",
      "The low-stakes policy inspected more than 1 outcome in 0.0% of the high-dispersion trials.\n"
     ]
    },
    {
     "data": {
      "image/png": "[encoded data removed]",
      "text/plain": [
       "<matplotlib.figure.Figure at 0x7f14453cef60>"
      ]
     },
     "metadata": {},
     "output_type": "display_data"
    }
   ],
   "source": [
    "plt.figure()\n",
    "plt.hist(hd_ls['nr_inspected_outcomes'])\n",
    "plt.xlabel('Number of inspected outcomes')\n",
    "plt.ylabel('Frequency in %')\n",
    "\n",
    "print(np.sum(np.array(hd_ls['nr_inspected_outcomes'])==2))\n",
    "\n",
    "print(\"The low-stakes policy inspected exactly 7 cells in {}% of the high-dispersion trials.\".format(100*np.mean(np.array(hd_ls['nr_clicks'])==7)))\n",
    "print(\"The low-stakes policy inspected fewer than 7 cells in {}% of the high-dispersion trials.\".format(100*np.mean(np.array(hd_ls['nr_clicks'])<7)))\n",
    "print(\"The low-stakes policy inspected more than 7 cells in {}% of the high-dispersion trials.\".format(100*np.mean(np.array(hd_ls['nr_clicks'])>7)))\n",
    "print(\"The low-stakes policy inspected more than 1 outcome in {}% of the high-dispersion trials.\".format(100*np.mean(np.array(hd_ls['nr_inspected_outcomes'])>1)))"
   ]
  },
  {
   "cell_type": "code",
   "execution_count": 30,
   "metadata": {
    "collapsed": false
   },
   "outputs": [
    {
     "name": "stdout",
     "output_type": "stream",
     "text": [
      "In  1e+02% of the high-dispersion problems, the low-stakes policy considered only the most probably outcome.\n",
      "\n",
      "In the high-dispersion environment the BO policy made between 1 and 7 clicks. The average number of clicks was 3.6.\n",
      "\n",
      " Example: \n",
      "[[ 0.01  0.01  0.96  0.02]\n",
      " [ 0.    0.    1.    0.  ]\n",
      " [ 0.    0.    2.    0.  ]\n",
      " [ 0.    0.    3.    0.  ]\n",
      " [ 0.    0.    4.    0.  ]\n",
      " [ 0.    0.    5.    0.  ]\n",
      " [ 0.    0.    6.    0.  ]\n",
      " [ 0.    0.    7.    0.  ]]\n",
      "[[ 0.072  0.003 -0.036  0.156]\n",
      " [ 0.011  0.009  0.231  0.021]\n",
      " [ 0.121  0.078  0.146  0.143]\n",
      " [ 0.093  0.175  0.132  0.257]\n",
      " [ 0.078  0.04   0.051  0.167]\n",
      " [ 0.236  0.166  0.163 -0.07 ]\n",
      " [ 0.116  0.181  0.31   0.13 ]]\n"
     ]
    },
    {
     "data": {
      "image/png": "[encoded data removed]",
      "text/plain": [
       "<matplotlib.figure.Figure at 0x7f1445593f28>"
      ]
     },
     "metadata": {},
     "output_type": "display_data"
    }
   ],
   "source": [
    "print(\"In {:6.3}% of the high-dispersion problems, the low-stakes policy considered only the most probably outcome.\".format(100*np.mean(hd_ls['best_outcome_only'])))\n",
    "print(\"\")\n",
    "avg_nr_clicks_hd_ls=np.mean(hd_ls['nr_clicks'])\n",
    "min_nr_clicks_hd_ls=np.min(hd_ls['nr_clicks'])\n",
    "max_nr_clicks_hd_ls=np.max(hd_ls['nr_clicks'])\n",
    "\n",
    "print('In the high-dispersion environment the BO policy made between {} and {} clicks. The average number of clicks was {:3.2}.'.format(min_nr_clicks_hd_ls,max_nr_clicks_hd_ls,avg_nr_clicks_hd_ls))\n",
    "\n",
    "plt.figure()\n",
    "plt.hist(hd_ls['nr_clicks'])\n",
    "plt.xlabel('Number of clicks (out of 28)')\n",
    "plt.ylabel('Frequency out of 100')\n",
    "\n",
    "print(\"\\n Example: \")\n",
    "print(hd_ls['p_grids'][0])\n",
    "print(hd_ls_envs[0].grid())"
   ]
  },
  {
   "cell_type": "markdown",
   "metadata": {},
   "source": [
    "## Properties of the low-stakes strategy in the high-dispersion environment\n",
    "\n",
    "For a time cost of 0.5 cents per click the resource-rational strategy for the high-dispersion, low-stakes environment, is SAT-TTB or TTB in 100% of the trials. While this is similar to the high-dispersion, high-stakes condition, we also found a significant effect of the stakes: With lower stakes, the proportion of trials on which TTB is used decreases from 76% in the high-stakes condition to 39% in the low-stakes condition. Furthermore, strategies that inspect more than one attribute are no longer used in the low-stakes condition, and the average number of clicks decreases from 6.5 in the high-stakes conditoin to 4.5 clicks in the low-stakes condition."
   ]
  },
  {
   "cell_type": "code",
   "execution_count": 31,
   "metadata": {
    "collapsed": false
   },
   "outputs": [
    {
     "name": "stdout",
     "output_type": "stream",
     "text": [
      "Aspiration level after 1 clicks: 0.1700539239179874\n",
      "Aspiration level after 2 clicks: 0.17479858924709915\n",
      "Aspiration level after 3 clicks: 0.17878121898117824\n",
      "Aspiration level after 4 clicks: 0.1794862985717349\n",
      "Aspiration level after 5 clicks: 0.17705475814028107\n",
      "average aspiration level: $0.17\n",
      "average aspiration level: 0.556 standard deviations above mean\n"
     ]
    },
    {
     "data": {
      "image/png": "[encoded data removed]",
      "text/plain": [
       "<matplotlib.figure.Figure at 0x7f14453cec50>"
      ]
     },
     "metadata": {},
     "output_type": "display_data"
    }
   ],
   "source": [
    "click_nrs = np.unique(hd_ls['nr_clicks'])\n",
    "nr_clicks = np.array(hd_ls['nr_clicks'])\n",
    "expected_returns = np.array(hd_ls['expected_term_rewards'])\n",
    "\n",
    "aspiration_levels = dict()\n",
    "\n",
    "for n in click_nrs[:-2]:\n",
    "    print(\"Aspiration level after {} clicks: {}\".format(n,np.min(expected_returns[nr_clicks==n])))\n",
    "    aspiration_levels[n] = (np.min(expected_returns[nr_clicks==n])-mu_R_low_stakes)/sigma_R_low_stakes\n",
    "\n",
    "plt.figure()\n",
    "plt.plot(nr_alternatives*nr_outcomes-np.array([float(val) for val in aspiration_levels.keys()]),aspiration_levels.values())\n",
    "plt.ylabel('Aspiration Level (z-score)')\n",
    "plt.xlabel('Number uninspected cells')\n",
    "\n",
    "aspiration_level = np.min(expected_returns[np.array(hd_ls['nr_clicks'])<nr_alternatives])\n",
    "print('average aspiration level: ${:.3}'.format(aspiration_level))\n",
    "print('average aspiration level: {:.3} standard deviations above mean'.format((aspiration_level-mu_R_low_stakes)/sigma_R_low_stakes))\n",
    "\n",
    "#hd_hs['observations'][2]"
   ]
  },
  {
   "cell_type": "markdown",
   "metadata": {},
   "source": [
    "# Low stakes, low dispersion"
   ]
  },
  {
   "cell_type": "code",
   "execution_count": 7,
   "metadata": {
    "collapsed": false
   },
   "outputs": [],
   "source": [
    "bo_pol_theta = np.load('data/low_stakes_1cents.npy')\n",
    "bo_pol_low_stakes = LiederPolicy(list(bo_pol_theta))\n",
    "\n",
    "cost = 0.01\n",
    "reward = low_stakes\n",
    "ld_ls_envs = [OldMouselabEnv(gambles, ld_dist(attributes), reward, cost) for _ in range(n_test)]\n",
    "\n",
    "term_action = ld_ls_envs[0].term_action"
   ]
  },
  {
   "cell_type": "code",
   "execution_count": 8,
   "metadata": {
    "collapsed": false
   },
   "outputs": [],
   "source": [
    "#ld_ls = characterize_strategy(bo_pol_low_stakes,ld_ls_envs)\n",
    "#save_obj(ld_ls,'low_dispersion_low_stakes_1cents')\n",
    "ld_ls = load_obj('low_dispersion_low_stakes_1cents')"
   ]
  },
  {
   "cell_type": "code",
   "execution_count": 10,
   "metadata": {
    "collapsed": false
   },
   "outputs": [
    {
     "name": "stdout",
     "output_type": "stream",
     "text": [
      "The resource-rational strategy reaps 73.04% of the highest possible payoffs.\n"
     ]
    }
   ],
   "source": [
    "max_EV = np.array([])\n",
    "all_actions = np.arange(28)\n",
    "#for a in all_actions:\n",
    "#    test_envs_hd[0].step(a)\n",
    "\n",
    "for i in range(len(ld_ls_envs)):\n",
    "    max_EV = np.append(max_EV,[expected_reward_of_termination(ld_ls_envs[i],all_actions)])\n",
    "    \n",
    "max_EV_ld_ls = np.mean(max_EV)\n",
    "\n",
    "np.mean(ld_ls['returns'])/max_EV_ld_ls\n",
    "\n",
    "print(\"The resource-rational strategy reaps {:.4}% of the highest possible payoffs.\".format(100*np.mean(ld_ls['returns'])/max_EV_ld_ls))"
   ]
  },
  {
   "cell_type": "markdown",
   "metadata": {},
   "source": [
    "## Determine under which conditions the low-stakes policy inspects cells in the low-stakes, low-dispersion environment"
   ]
  },
  {
   "cell_type": "code",
   "execution_count": 21,
   "metadata": {
    "collapsed": false
   },
   "outputs": [
    {
     "name": "stdout",
     "output_type": "stream",
     "text": [
      "No cells are inspected if the largest probability is 0.3465 or smaller.\n",
      "Cells are inspected if the largest probability is at least 0.35.\n"
     ]
    }
   ],
   "source": [
    "nr_trials = len(ld_ls['nr_clicks'])\n",
    "\n",
    "#for t in range(nr_trials):\n",
    "np.array(ld_ls['nr_clicks'])==0\n",
    "\n",
    "max_p = np.array([])\n",
    "for t in range(nr_trials):\n",
    "    max_p = np.append(max_p, [np.max(ld_ls['p_grids'][t][0])])\n",
    "    \n",
    "\n",
    "print(\"No cells are inspected if the largest probability is {:.4} or smaller.\".format(np.max(max_p[np.array(ld_ls['nr_clicks'])==0])))\n",
    "print(\"Cells are inspected if the largest probability is at least {:.4}.\".format(np.min(max_p[np.array(ld_ls['nr_clicks'])>0])))"
   ]
  },
  {
   "cell_type": "code",
   "execution_count": 35,
   "metadata": {
    "collapsed": false
   },
   "outputs": [
    {
     "name": "stdout",
     "output_type": "stream",
     "text": [
      "On 55.00000000000001% of the low-dispersion trials the resource-rational strategy is random choice.\n",
      "On 45.0% of the low-dispersion trials the click squences of the low-stakes policy were consistent with SAT-TTB.\n",
      "On 0.0% of the low-dispersion trials the click squences of the low-stakes policy were consistent with TTB.\n",
      "On 0.0% of the low-dispersion trials the click squences of the low-stakes policy was consistent with WADD.\n"
     ]
    }
   ],
   "source": [
    "TTB_compatible = np.array([])\n",
    "WADD_compatible = np.array([])\n",
    "SAT_TTB_compatible = np.array([])\n",
    "random_choice = np.array([])\n",
    "\n",
    "for i in range(n_test):\n",
    "    TTB_compatible =  np.append(TTB_compatible, [ld_ls['nr_clicks'][i]==nr_alternatives and ld_ls['best_outcome_only'][i]])\n",
    "    WADD_compatible=  np.append(WADD_compatible,[ld_ls['nr_clicks'][i]==nr_alternatives*nr_outcomes])\n",
    "    SAT_TTB_compatible = np.append(SAT_TTB_compatible, [ld_ls['best_outcome_only'][i] and ld_ls['nr_clicks'][i]>0])\n",
    "    random_choice = np.append(random_choice, [ld_ls['nr_clicks'][i]==0])\n",
    "\n",
    "print(\"On {}% of the low-dispersion trials the resource-rational strategy is random choice.\".format(100*np.mean(random_choice)))\n",
    "print(\"On {}% of the low-dispersion trials the click squences of the low-stakes policy were consistent with SAT-TTB.\".format(100*np.mean(SAT_TTB_compatible)))\n",
    "print(\"On {}% of the low-dispersion trials the click squences of the low-stakes policy were consistent with TTB.\".format(100*np.mean(TTB_compatible)))\n",
    "print(\"On {}% of the low-dispersion trials the click squences of the low-stakes policy was consistent with WADD.\".format(100*np.mean(WADD_compatible)))"
   ]
  },
  {
   "cell_type": "code",
   "execution_count": 36,
   "metadata": {
    "collapsed": false
   },
   "outputs": [
    {
     "name": "stdout",
     "output_type": "stream",
     "text": [
      "In the low-dispersion environment 23.0% of the clicks transitioned within the same attribute, 0.0% transitioned within the same alternative, and the remaining 77.0% of clicks switched both the attribute and the alternative.\n"
     ]
    }
   ],
   "source": [
    "prop_alternative_based_clicks = np.mean(np.array(ld_ls['nr_alternative_based_clicks'])/(np.array(ld_ls['nr_clicks'])-1+0.00000001))\n",
    "prop_attribute_based_clicks = np.mean(np.array(ld_ls['nr_attribute_based_clicks'])/(np.array(ld_ls['nr_clicks'])-1+0.00000001))\n",
    "prop_other = 1 - (prop_alternative_based_clicks + prop_attribute_based_clicks)\n",
    "#ld_ls['transitions_within_alternative']\n",
    "\n",
    "print('In the low-dispersion environment {:.4}% of the clicks transitioned within the same attribute, {:.4}% transitioned within the same alternative, and the remaining {:.4}% of clicks switched both the attribute and the alternative.'.format(100*prop_attribute_based_clicks,100*prop_alternative_based_clicks,100*prop_other))"
   ]
  },
  {
   "cell_type": "code",
   "execution_count": 37,
   "metadata": {
    "collapsed": false
   },
   "outputs": [
    {
     "name": "stdout",
     "output_type": "stream",
     "text": [
      "The low-stakes policy inspected more than 7 cells in 0.0% of the low-dispersion trials.\n",
      "The low-stakes policy inspected more than 1 outcome in 0.0% of the low-dispersion trials.\n"
     ]
    },
    {
     "data": {
      "image/png": "[encoded data removed]",
      "text/plain": [
       "<matplotlib.figure.Figure at 0x7f144522ac88>"
      ]
     },
     "metadata": {},
     "output_type": "display_data"
    }
   ],
   "source": [
    "plt.figure()\n",
    "plt.hist(ld_ls['nr_inspected_outcomes'])\n",
    "plt.xlabel('Number of inspected outcomes')\n",
    "plt.ylabel('Frequency in %')\n",
    "\n",
    "print(\"The low-stakes policy inspected more than 7 cells in {}% of the low-dispersion trials.\".format(100*np.mean(np.array(ld_ls['nr_clicks'])>7)))\n",
    "print(\"The low-stakes policy inspected more than 1 outcome in {}% of the low-dispersion trials.\".format(100*np.mean(np.array(ld_ls['nr_inspected_outcomes'])>1)))"
   ]
  },
  {
   "cell_type": "code",
   "execution_count": 38,
   "metadata": {
    "collapsed": false
   },
   "outputs": [
    {
     "name": "stdout",
     "output_type": "stream",
     "text": [
      "In  1e+02% of the low-dispersion problems, the low-stakes policy considered only the most probable outcome.\n",
      "\n",
      "In the low-dispersion environment the BO policy made between 0 and 6 clicks. The average number of clicks was 0.91.\n",
      "\n",
      "On 22.0% of the low-stakes, low-dispersion environment the LC policy inspected only a single payoff.\n",
      "\n",
      "On 9.0% of the low-stakes, low-dispersion environment the LC policy inspected only two payoffs.\n",
      "\n",
      " Example: \n",
      "[[ 0.19  0.35  0.22  0.24]\n",
      " [ 0.    1.    0.    0.  ]\n",
      " [ 0.    0.    0.    0.  ]\n",
      " [ 0.    0.    0.    0.  ]\n",
      " [ 0.    0.    0.    0.  ]\n",
      " [ 0.    0.    0.    0.  ]\n",
      " [ 0.    0.    0.    0.  ]\n",
      " [ 0.    0.    0.    0.  ]]\n",
      "[[ 0.256  0.283  0.11   0.143]\n",
      " [ 0.218  0.242  0.178  0.09 ]\n",
      " [ 0.063  0.138  0.123  0.175]\n",
      " [ 0.172  0.179  0.123  0.097]\n",
      " [ 0.175  0.12   0.137 -0.038]\n",
      " [ 0.027  0.008  0.088  0.053]\n",
      " [ 0.191  0.128  0.081  0.017]]\n"
     ]
    },
    {
     "data": {
      "image/png": "[encoded data removed]",
      "text/plain": [
       "<matplotlib.figure.Figure at 0x7f14451c5e80>"
      ]
     },
     "metadata": {},
     "output_type": "display_data"
    }
   ],
   "source": [
    "print(\"In {:6.3}% of the low-dispersion problems, the low-stakes policy considered only the most probable outcome.\".format(100*np.mean(ld_ls['best_outcome_only'])))\n",
    "print(\"\")\n",
    "avg_nr_clicks_ld_ls=np.mean(ld_ls['nr_clicks'])\n",
    "min_nr_clicks_ld_ls=np.min(ld_ls['nr_clicks'])\n",
    "max_nr_clicks_ld_ls=np.max(ld_ls['nr_clicks'])\n",
    "\n",
    "print('In the low-dispersion environment the BO policy made between {} and {} clicks. The average number of clicks was {:3.2}.'.format(min_nr_clicks_ld_ls,max_nr_clicks_ld_ls,avg_nr_clicks_ld_ls))\n",
    "\n",
    "print('\\nOn {}% of the low-stakes, low-dispersion environment the LC policy inspected only a single payoff.'.format(100*np.mean(np.array(ld_ls['nr_clicks'])==1))) \n",
    "print('\\nOn {}% of the low-stakes, low-dispersion environment the LC policy inspected only two payoffs.'.format(100*np.mean(np.array(ld_ls['nr_clicks'])==2))) \n",
    "\n",
    "\n",
    "plt.figure()\n",
    "plt.hist(ld_ls['nr_clicks'],bins=np.arange(0.5,np.max(ld_ls['nr_clicks'])+0.5,1))\n",
    "plt.xlabel('Number of clicks (out of 28)')\n",
    "plt.ylabel('Frequency out of 100')\n",
    "\n",
    "print(\"\\n Example: \")\n",
    "print(ld_ls['p_grids'][13])\n",
    "print(ld_ls_envs[13].grid())"
   ]
  },
  {
   "cell_type": "markdown",
   "metadata": {},
   "source": [
    "## Properties of the low-stakes strategy in the low-dispersion environment\n",
    "\n",
    "In the *low-stakes, low-dispersion environment* with a cost of 0.5 cents per click, SAT-TTB was resource-rational for 69% of the problems. TTB was resource-rational for 6% of those problems. This means that for 63% of the problems SAT-TTB was resource-rational and did not inspect all of the outcomes. Neither random choice or WADD were resource-rational for any of these problems.\n",
    "\n",
    "Comparing these numbers to the high-dispersion environment with low-stakes reveals a 31% decrease in the use of SAT-TTB for low-dispersion compared to high-dispersion. This makes sense given that SAT-TTB is a non-compensatory strategy. \n",
    "\n",
    "Despite all outcomes being almost equally likely, the resource-rational strategy was predominantly attribute-based rather than alternative based: 68.6% of the clicks transitioned within the same attribute whereas only 0.6604% transitioned within the same alternative, and the remaining 30.74% of clicks switched both the attribute and the alternative.\n",
    "\n",
    "The number of clicks ranged from 1 to 12, and the average number of clicks was 4.1. Consistent with the small number of clicks, the aspiration level was consistently low -- at most requiring the payoff to be at last 0.154 standard deviations above the mean. This is 9 clicks fewer than in the condition with high-stakes and low-dispersion. This illustrates the effect of stakes on the resource-rational planning.\n",
    "\n",
    "In the 31% of problems where SAT-TTB was not used, it started with SAT-TTB, encountered a near-tie between two promising gambles and then started inspected those gambles' payoffs for other outcomes. Interestingly, in resolving those ties, the LC policy often inspected an additional payoff of the second-best gamble. If that payoff was low, then the it was ruled out and the current-best gamble was chosen. If the second-best gamble's second payoff was similar to the first one, then the LC policy inspected a second payoff for the current-best gamble, and so on."
   ]
  },
  {
   "cell_type": "code",
   "execution_count": 39,
   "metadata": {
    "collapsed": false
   },
   "outputs": [
    {
     "name": "stdout",
     "output_type": "stream",
     "text": [
      "Aspiration level after 0 clicks: 0.12999999999999998\n",
      "Aspiration level after 1 clicks: 0.1308783026613502\n",
      "Aspiration level after 2 clicks: 0.13357498622637456\n",
      "Aspiration level after 3 clicks: 0.14543901556354616\n",
      "Aspiration level after 4 clicks: 0.15958624148519135\n",
      "average aspiration level: $0.13\n",
      "average aspiration level: -3.85e-16 standard deviations above mean\n"
     ]
    },
    {
     "data": {
      "image/png": "[encoded data removed]",
      "text/plain": [
       "<matplotlib.figure.Figure at 0x7f14451b8358>"
      ]
     },
     "metadata": {},
     "output_type": "display_data"
    }
   ],
   "source": [
    "click_nrs = np.unique(ld_ls['nr_clicks'])\n",
    "nr_clicks = np.array(ld_ls['nr_clicks'])\n",
    "expected_returns = np.array(ld_ls['expected_term_rewards'])\n",
    "\n",
    "aspiration_levels = dict()\n",
    "\n",
    "for n in click_nrs[:-2]:\n",
    "    print(\"Aspiration level after {} clicks: {}\".format(n,np.min(expected_returns[nr_clicks==n])))\n",
    "    aspiration_levels[n] = (np.min(expected_returns[nr_clicks==n])-mu_R_low_stakes)/sigma_R_low_stakes\n",
    "\n",
    "plt.figure()\n",
    "plt.plot(nr_alternatives*nr_outcomes-np.array([float(val) for val in aspiration_levels.keys()]),aspiration_levels.values())\n",
    "plt.ylabel('Aspiration Level (z-score)')\n",
    "plt.xlabel('Number uninspected cells')\n",
    "\n",
    "aspiration_level = np.min(expected_returns[np.array(ld_ls['nr_clicks'])<nr_alternatives])\n",
    "print('average aspiration level: ${:.3}'.format(aspiration_level))\n",
    "print('average aspiration level: {:.3} standard deviations above mean'.format((aspiration_level-mu_R_low_stakes)/sigma_R_low_stakes))\n"
   ]
  },
  {
   "cell_type": "code",
   "execution_count": 40,
   "metadata": {
    "collapsed": false
   },
   "outputs": [],
   "source": [
    "#Save the results\n",
    "save_obj(ld_ls, 'high_dispersion_low_stakes' )"
   ]
  },
  {
   "cell_type": "markdown",
   "metadata": {},
   "source": [
    "## Summary statistics"
   ]
  },
  {
   "cell_type": "code",
   "execution_count": 43,
   "metadata": {
    "collapsed": false
   },
   "outputs": [
    {
     "data": {
      "text/plain": [
       "9.9049999999999994"
      ]
     },
     "execution_count": 43,
     "metadata": {},
     "output_type": "execute_result"
    }
   ],
   "source": [
    "(avg_nr_clicks_hd_hs+avg_nr_clicks_ld_hs)/2"
   ]
  },
  {
   "cell_type": "code",
   "execution_count": 44,
   "metadata": {
    "collapsed": false
   },
   "outputs": [
    {
     "data": {
      "text/plain": [
       "2.2799999999999998"
      ]
     },
     "execution_count": 44,
     "metadata": {},
     "output_type": "execute_result"
    }
   ],
   "source": [
    "(avg_nr_clicks_hd_ls+avg_nr_clicks_ld_ls)/2"
   ]
  },
  {
   "cell_type": "code",
   "execution_count": 46,
   "metadata": {
    "collapsed": false
   },
   "outputs": [
    {
     "data": {
      "text/plain": [
       "[[0.91000000000000003, 3.6499999999999999], [12.84, 6.9699999999999998]]"
      ]
     },
     "execution_count": 46,
     "metadata": {},
     "output_type": "execute_result"
    }
   ],
   "source": [
    "[[avg_nr_clicks_ld_ls,avg_nr_clicks_hd_ls],[avg_nr_clicks_ld_hs,avg_nr_clicks_hd_hs]]"
   ]
  },
  {
   "cell_type": "code",
   "execution_count": 59,
   "metadata": {
    "collapsed": false
   },
   "outputs": [
    {
     "data": {
      "text/plain": [
       "[[0.13081510007929201, 0.16715715463520681],\n",
       " [6.5405111010425401, 8.5964534744329164]]"
      ]
     },
     "execution_count": 59,
     "metadata": {},
     "output_type": "execute_result"
    }
   ],
   "source": [
    "[[np.mean(ld_ls['returns']),np.mean(hd_ls['returns'])],[np.mean(ld_hs['returns']),np.mean(hd_hs['returns'])]]"
   ]
  },
  {
   "cell_type": "code",
   "execution_count": null,
   "metadata": {
    "collapsed": true
   },
   "outputs": [],
   "source": []
  }
 ],
 "metadata": {
  "kernelspec": {
   "display_name": "Python 3",
   "language": "python",
   "name": "python3"
  },
  "language_info": {
   "codemirror_mode": {
    "name": "ipython",
    "version": 3
   },
   "file_extension": ".py",
   "mimetype": "text/x-python",
   "name": "python",
   "nbconvert_exporter": "python",
   "pygments_lexer": "ipython3",
   "version": "3.6.3"
  }
 },
 "nbformat": 4,
 "nbformat_minor": 2
}
