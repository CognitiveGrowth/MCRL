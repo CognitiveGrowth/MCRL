{
 "cells": [
  {
   "cell_type": "code",
   "execution_count": 1,
   "metadata": {
    "collapsed": false
   },
   "outputs": [],
   "source": [
    "%matplotlib inline\n",
    "import matplotlib.pyplot as plt\n",
    "import numpy as np\n",
    "import pandas as pd\n",
    "import seaborn as sns\n",
    "import scipy.stats\n",
    "from scipy.stats import norm\n",
    "import scipy.integrate as integrate\n",
    "import matplotlib.pyplot as plt\n",
    "import pickle\n",
    "from distributions import *\n",
    "\n",
    "import gym\n",
    "from gym import spaces\n",
    "\n",
    "import random\n",
    "import itertools as it\n",
    "from joblib import Parallel, delayed\n",
    "from toolz import memoize\n",
    "from contracts import contract\n",
    "from collections import namedtuple, defaultdict, deque, Counter\n",
    "\n",
    "import warnings\n",
    "warnings.filterwarnings(\"ignore\", \n",
    "                        message=\"The objective has been evaluated at this point before.\")\n",
    "\n",
    "from agents import Agent\n",
    "from oldmouselab import OldMouselabEnv\n",
    "from policies import FixedPlanPolicy, LiederPolicy\n",
    "from evaluation import *\n",
    "from distributions import cmax, smax, sample, expectation, Normal, PointMass, SampleDist, Normal, Categorical"
   ]
  },
  {
   "cell_type": "code",
   "execution_count": 2,
   "metadata": {
    "collapsed": true
   },
   "outputs": [],
   "source": [
    "def save_obj(obj, name ):\n",
    "    with open('data/'+ name + '.pkl', 'wb') as f:\n",
    "        pickle.dump(obj, f, pickle.HIGHEST_PROTOCOL)\n",
    "\n",
    "def load_obj(name ):\n",
    "    with open('data/' + name + '.pkl', 'rb') as f:\n",
    "        return pickle.load(f)"
   ]
  },
  {
   "cell_type": "code",
   "execution_count": 3,
   "metadata": {
    "collapsed": true
   },
   "outputs": [],
   "source": [
    "def hd_dist(attributes):\n",
    "    dist = [1,]*attributes\n",
    "    dist[0] = np.random.randint(85,97)\n",
    "    for i in range(1,attributes-1):\n",
    "        dist[i] += np.random.randint(0,100-np.sum(dist))\n",
    "    dist[-1] += 100-np.sum(dist)\n",
    "    dist = np.around(np.array(dist)/100,decimals=2)\n",
    "    np.random.shuffle(dist)\n",
    "    return dist\n",
    "\n",
    "def ld_dist(attributes):\n",
    "   constrain = True\n",
    "   while constrain:\n",
    "       dist = [np.random.randint(10,50) for _ in range(attributes)]\n",
    "       dist = np.around(np.array(dist)/sum(dist),decimals=2)\n",
    "       constrain = np.min(dist) <= 0.10 or np.max(dist) >= 0.40\n",
    "   np.random.shuffle(dist)\n",
    "   return dist"
   ]
  },
  {
   "cell_type": "code",
   "execution_count": 89,
   "metadata": {
    "collapsed": false
   },
   "outputs": [],
   "source": [
    "gambles = 7\n",
    "attributes = 4\n",
    "\n",
    "R_low = 0.01\n",
    "R_high_hs = 9.99\n",
    "R_high_ls = 0.25\n",
    "\n",
    "mu_R_high_stakes = (9.99+0.01)/2\n",
    "mu_R_low_stakes = (0.25+0.01)/2\n",
    "\n",
    "sigma_R_high_stakes = 0.3*(9.99-0.01)\n",
    "sigma_R_low_stakes = 0.3*(0.25-0.01)\n",
    "\n",
    "high_stakes = TruncatedNormal(mu_R_high_stakes, sigma_R_high_stakes,R_low, R_high_hs)\n",
    "low_stakes =  TruncatedNormal(mu_R_low_stakes, sigma_R_low_stakes,R_low,R_high_ls)\n",
    "cost=.01\n",
    "\n",
    "n_test = 100\n",
    "\n",
    "nr_outcomes = attributes\n",
    "nr_alternatives = gambles\n",
    "\n",
    "strategies=dict()\n",
    "strategy_frequencies = dict()"
   ]
  },
  {
   "cell_type": "code",
   "execution_count": 5,
   "metadata": {
    "collapsed": false
   },
   "outputs": [],
   "source": [
    "agent = Agent()\n",
    "def run_env(policy, env):\n",
    "    agent.register(env)\n",
    "    agent.register(policy)\n",
    "    tr = agent.run_episode()\n",
    "#     print(tr)\n",
    "    return {'util': tr['return'], 'actions': tr['actions'],\n",
    "            'observations': len(tr['actions']) - 1, 'ground_truth': env.ground_truth}\n",
    "\n",
    "def action_coordinate(env, action):\n",
    "    #returns gamble, outcome\n",
    "    return (action//env.outcomes,action%env.outcomes)\n",
    "\n",
    "def p_grid(env, actions):\n",
    "    grid = np.zeros((env.gambles+1,env.outcomes))\n",
    "    grid[0,:] = env.dist\n",
    "    for i in range(len(actions[:-1])):\n",
    "        gamble, outcome = action_coordinate(env,actions[i]) \n",
    "        grid[gamble+1, outcome] = i+1\n",
    "    return grid\n",
    "\n",
    "def expected_reward_of_termination(env,actions):\n",
    "    env.reset()\n",
    "    for a in actions:\n",
    "        env.step(a)\n",
    "\n",
    "    return env.expected_term_reward()\n",
    "\n",
    "def run_policy(policy,envs):\n",
    "    \n",
    "    traces = []\n",
    "    \n",
    "    for env in envs:    \n",
    "        env.reset()\n",
    "        traces.append(run_env(policy, env))\n",
    "    \n",
    "    return traces\n",
    "    \n",
    "\n",
    "def characterize_strategy(policy,envs):\n",
    "    operations = []\n",
    "    nr_clicks = []\n",
    "    probabilities = []\n",
    "    returns = []\n",
    "    observations = []\n",
    "    grids = []\n",
    "    p_grids = []\n",
    "    p_outcomes = []\n",
    "    p_ranks = []\n",
    "    inspected_gambles = []\n",
    "    inspected_outcomes = []\n",
    "    nr_inspected_outcomes = []\n",
    "    best_outcome_only = []\n",
    "    expected_term_rewards = []\n",
    "    TTB_plus = []\n",
    "    \n",
    "    transitions_within_alternative = []\n",
    "    transitions_within_attribute = []\n",
    "\n",
    "    nr_attribute_based_clicks = np.array([])\n",
    "    nr_alternative_based_clicks = np.array([])\n",
    "\n",
    "    \n",
    "    for i in range(len(envs)):\n",
    "        envs[i].reset()\n",
    "        trace = run_env(policy, envs[i])\n",
    "        returns = returns + [trace['util']]        \n",
    "        operations = operations + [trace['actions']]\n",
    "        nr_clicks = nr_clicks + [len(trace['actions'])-1]\n",
    "        probabilities = probabilities + [envs[i].dist]\n",
    "        p_grids = p_grids + [p_grid(envs[i],trace['actions'])]\n",
    "        grids = grids + [envs[i].grid()]\n",
    "        \n",
    "        within_attribute = []\n",
    "        within_alternative = []\n",
    "        \n",
    "        gambles = np.array([])\n",
    "        outcomes = np.array([])\n",
    "        observed_payoffs = np.array([])\n",
    "                \n",
    "        p_outcome = np.array([])\n",
    "        p_rank = np.array([])\n",
    "        array = -envs[i].dist\n",
    "        temp = array.argsort()\n",
    "        ranks = np.empty_like(temp)\n",
    "        ranks[temp] = np.arange(len(array))+1\n",
    "        #print(ranks)\n",
    "        \n",
    "        for a in trace['actions'][:-1]:\n",
    "            gamble, outcome = action_coordinate(envs[i], a)\n",
    "            gambles = np.append(gambles,[gamble])\n",
    "            outcomes = np.append(outcomes,[outcome])\n",
    "            p_outcome = np.append(p_outcome,[envs[i].dist[outcome]])\n",
    "            p_rank = np.append(p_rank,[ranks[outcome]])\n",
    "            observed_payoffs = np.append(observed_payoffs,trace['ground_truth'][a])\n",
    "        \n",
    "        \n",
    "        clicks = trace['actions'][:-1]\n",
    "        for c in np.arange(1,len(clicks)):\n",
    "            prev_click = clicks[c-1]\n",
    "            prev_gamble,prev_attribute = action_coordinate(envs[i], prev_click)\n",
    "            gamble,attribute =  action_coordinate(envs[i], clicks[c])\n",
    "            within_attribute = within_attribute + [attribute==prev_attribute]\n",
    "            within_alternative = within_alternative + [gamble==prev_gamble]\n",
    "        \n",
    "        p_ranks = p_ranks + [p_rank]\n",
    "        \n",
    "        transitions_within_alternative = transitions_within_alternative + [within_alternative]\n",
    "        transitions_within_attribute = transitions_within_attribute + [within_attribute]\n",
    "\n",
    "        nr_attribute_based_clicks   = np.append(nr_attribute_based_clicks,[np.sum(within_attribute)])\n",
    "        nr_alternative_based_clicks = np.append(nr_alternative_based_clicks,[np.sum(within_alternative)])\n",
    "        \n",
    "        best_outcome_only.append(np.all(np.unique(p_rank)==[1]))        \n",
    "        observations = observations + [observed_payoffs]\n",
    "        expected_term_rewards = expected_term_rewards  + [expected_reward_of_termination(envs[i],trace['actions'][:-1])] \n",
    "        p_outcomes = p_outcomes + [p_outcome]\n",
    "        inspected_gambles = inspected_gambles + [gambles]\n",
    "        inspected_outcomes= inspected_outcomes + [outcomes]\n",
    "        nr_inspected_outcomes = nr_inspected_outcomes + [len(np.unique(outcomes))]\n",
    "        TTB_plus += [np.all(np.unique(p_rank[:nr_alternatives-1])==[1]) and nr_clicks[-1]>nr_alternatives] \n",
    "\n",
    "    \n",
    "    return {'grids':grids,'expected_term_rewards': expected_term_rewards,'best_outcome_only': best_outcome_only,\n",
    "            'nr_inspected_outcomes':nr_inspected_outcomes, 'p_ranks': p_ranks, 'p_outcomes': p_outcomes, \n",
    "            'inspected_gambles': inspected_gambles, 'inspected_outcomes': inspected_outcomes, 'p_grids': p_grids,\n",
    "            'returns': returns, 'observations': observations, 'operations':operations, 'nr_clicks': nr_clicks,\n",
    "            'nr_alternative_based_clicks':nr_alternative_based_clicks,'nr_attribute_based_clicks':nr_attribute_based_clicks,\n",
    "            'transitions_within_attribute': transitions_within_attribute, 'TTB_plus': TTB_plus,\n",
    "            'transitions_within_alternative': transitions_within_alternative,'probabilities': probabilities}\n",
    "    "
   ]
  },
  {
   "cell_type": "markdown",
   "metadata": {},
   "source": [
    "# High stakes, high dispersion"
   ]
  },
  {
   "cell_type": "code",
   "execution_count": 66,
   "metadata": {
    "collapsed": false
   },
   "outputs": [],
   "source": [
    "#bo_pol_theta = np.load('data/high_stakes_3cents.npy')\n",
    "#bo_pol_theta = np.load('data/high_stakes_1cents.npy')\n",
    "bo_pol_theta = np.load('data/om_bmps_pols/best/hs_hd_1cents.npy')\n",
    "\n",
    "bo_pol_high_stakes = LiederPolicy(list(bo_pol_theta))\n",
    "\n",
    "cost = 0.01\n",
    "reward = high_stakes\n",
    "hd_hs_envs =  [OldMouselabEnv(gambles, hd_dist(attributes), reward, cost) for _ in range(n_test)]\n",
    "term_action = hd_hs_envs[0].term_action"
   ]
  },
  {
   "cell_type": "code",
   "execution_count": 69,
   "metadata": {
    "collapsed": false
   },
   "outputs": [],
   "source": [
    "#hd_hs = characterize_strategy(bo_pol_high_stakes, hd_hs_envs)\n",
    "#save_obj(hd_hs,'high_dispersion_high_stakes_separate_1cents')\n",
    "#save_obj(hd_hs_envs,'hd_hs_envs_0.5cents')\n",
    "#hd_hs = load_obj('high_dispersion_high_stakes')\n",
    "hd_hs=load_obj('high_dispersion_high_stakes_1cents')"
   ]
  },
  {
   "cell_type": "code",
   "execution_count": 70,
   "metadata": {
    "collapsed": false
   },
   "outputs": [
    {
     "ename": "NameError",
     "evalue": "name 'hd_hs_envs' is not defined",
     "output_type": "error",
     "traceback": [
      "\u001b[0;31m---------------------------------------------------------------------------\u001b[0m",
      "\u001b[0;31mNameError\u001b[0m                                 Traceback (most recent call last)",
      "\u001b[0;32m<ipython-input-70-42de2af02429>\u001b[0m in \u001b[0;36m<module>\u001b[0;34m()\u001b[0m\n\u001b[1;32m      4\u001b[0m \u001b[0;31m#    test_envs_hd[0].step(a)\u001b[0m\u001b[0;34m\u001b[0m\u001b[0;34m\u001b[0m\u001b[0m\n\u001b[1;32m      5\u001b[0m \u001b[0;34m\u001b[0m\u001b[0m\n\u001b[0;32m----> 6\u001b[0;31m \u001b[0;32mfor\u001b[0m \u001b[0mi\u001b[0m \u001b[0;32min\u001b[0m \u001b[0mrange\u001b[0m\u001b[0;34m(\u001b[0m\u001b[0mlen\u001b[0m\u001b[0;34m(\u001b[0m\u001b[0mhd_hs_envs\u001b[0m\u001b[0;34m)\u001b[0m\u001b[0;34m)\u001b[0m\u001b[0;34m:\u001b[0m\u001b[0;34m\u001b[0m\u001b[0m\n\u001b[0m\u001b[1;32m      7\u001b[0m     \u001b[0mmax_EV\u001b[0m \u001b[0;34m=\u001b[0m \u001b[0mnp\u001b[0m\u001b[0;34m.\u001b[0m\u001b[0mappend\u001b[0m\u001b[0;34m(\u001b[0m\u001b[0mmax_EV\u001b[0m\u001b[0;34m,\u001b[0m\u001b[0;34m[\u001b[0m\u001b[0mexpected_reward_of_termination\u001b[0m\u001b[0;34m(\u001b[0m\u001b[0mhd_hs_envs\u001b[0m\u001b[0;34m[\u001b[0m\u001b[0mi\u001b[0m\u001b[0;34m]\u001b[0m\u001b[0;34m,\u001b[0m\u001b[0mall_actions\u001b[0m\u001b[0;34m)\u001b[0m\u001b[0;34m]\u001b[0m\u001b[0;34m)\u001b[0m\u001b[0;34m\u001b[0m\u001b[0m\n\u001b[1;32m      8\u001b[0m \u001b[0;34m\u001b[0m\u001b[0m\n",
      "\u001b[0;31mNameError\u001b[0m: name 'hd_hs_envs' is not defined"
     ]
    }
   ],
   "source": [
    "max_EV = np.array([])\n",
    "all_actions = np.arange(28)\n",
    "#for a in all_actions:\n",
    "#    test_envs_hd[0].step(a)\n",
    "\n",
    "for i in range(len(hd_hs_envs)):\n",
    "    max_EV = np.append(max_EV,[expected_reward_of_termination(hd_hs_envs[i],all_actions)])\n",
    "    \n",
    "max_EV_hd_hs = np.mean(max_EV)\n",
    "\n",
    "print(\"The resource-rational strategy reaps {:.4}% of the highest possible payoffs.\".format(100*np.mean(hd_hs['returns'])/max_EV_hd_hs))"
   ]
  },
  {
   "cell_type": "code",
   "execution_count": 88,
   "metadata": {
    "collapsed": false
   },
   "outputs": [
    {
     "name": "stdout",
     "output_type": "stream",
     "text": [
      "On 0.0% of the hs-hd trials the resource-rational strategy is random choice.\n",
      "On 0.0% of the hs-hd trials the click squences of the high-stakes policy were consistent with SAT-TTB.\n",
      "On 80.0% of the hs-hd trials the click squences of the high-stakes policy were consistent with TTB.\n",
      "On 0.0% of the hs-hd trials the click squences of the high-stakes policy was consistent with WADD.\n",
      "On 0.0% of the hs-hd trials the click squences of the high-stakes policy was consistent with TTB+.\n",
      "On 11.0% of the hs-hd trials the resource-rational strategy is SAT-TTB2.\n",
      "On 7.000000000000001% of the hs-hd trials the resource-rational strategy is SAT-TTB3.\n",
      "On 0.0% of the hs-hd trials the resource-rational strategy is TTB2.\n",
      "On 0.0% of the hs-hd trials the resource-rational strategy is TTB2+.\n"
     ]
    },
    {
     "ename": "NameError",
     "evalue": "name 'strategy_frequencies' is not defined",
     "output_type": "error",
     "traceback": [
      "\u001b[0;31m---------------------------------------------------------------------------\u001b[0m",
      "\u001b[0;31mNameError\u001b[0m                                 Traceback (most recent call last)",
      "\u001b[0;32m<ipython-input-88-4e7639156945>\u001b[0m in \u001b[0;36m<module>\u001b[0;34m()\u001b[0m\n\u001b[1;32m     39\u001b[0m \u001b[0mstrategy_freq\u001b[0m\u001b[0;34m[\u001b[0m\u001b[0;34m'other'\u001b[0m\u001b[0;34m]\u001b[0m \u001b[0;34m=\u001b[0m \u001b[0;36m1\u001b[0m\u001b[0;34m-\u001b[0m\u001b[0mtotal\u001b[0m\u001b[0;34m\u001b[0m\u001b[0m\n\u001b[1;32m     40\u001b[0m \u001b[0;34m\u001b[0m\u001b[0m\n\u001b[0;32m---> 41\u001b[0;31m \u001b[0mstrategy_frequencies\u001b[0m\u001b[0;34m[\u001b[0m\u001b[0;34m'hs_hd'\u001b[0m\u001b[0;34m]\u001b[0m\u001b[0;34m=\u001b[0m\u001b[0mstrategy_freq\u001b[0m\u001b[0;34m\u001b[0m\u001b[0m\n\u001b[0m",
      "\u001b[0;31mNameError\u001b[0m: name 'strategy_frequencies' is not defined"
     ]
    }
   ],
   "source": [
    "strategies['hs_hd']=dict()\n",
    "\n",
    "strategies['hs_hd']['TTB'] = np.array([])\n",
    "strategies['hs_hd']['WADD'] = np.array([])\n",
    "strategies['hs_hd']['SAT_TTB'] = np.array([])\n",
    "strategies['hs_hd']['random_choice'] = np.array([])\n",
    "strategies['hs_hd']['SAT_TTB2'] = np.array([])\n",
    "strategies['hs_hd']['TTB2']=np.array([])\n",
    "strategies['hs_hd']['TTB2_plus']=np.array([])\n",
    "strategies['hs_hd']['SAT_TTB3'] = np.array([])\n",
    "strategies['hs_hd']['TTB_plus'] = np.array([])\n",
    "\n",
    "for i in range(n_test):\n",
    "    strategies['hs_hd']['TTB'] =  np.append(strategies['hs_hd']['TTB'], [hd_hs['nr_clicks'][i]==nr_alternatives and hd_hs['best_outcome_only'][i]])\n",
    "    strategies['hs_hd']['WADD']=  np.append(strategies['hs_hd']['WADD'],[hd_hs['nr_clicks'][i]==nr_alternatives*nr_outcomes])\n",
    "    strategies['hs_hd']['SAT_TTB'] = np.append(strategies['hs_hd']['SAT_TTB'], [hd_hs['best_outcome_only'][i] and hd_hs['nr_clicks'][i]>0 and hd_hs['nr_clicks'][i]<nr_alternatives])\n",
    "    strategies['hs_hd']['random_choice'] = np.append(strategies['hs_hd']['random_choice'], [hd_hs['nr_clicks'][i]==0])\n",
    "    strategies['hs_hd']['SAT_TTB2']=np.append(strategies['hs_hd']['SAT_TTB2'],[np.logical_and(np.all(hd_hs['p_ranks'][i]<=2), hd_hs['nr_inspected_outcomes'][i]==2 and hd_hs['nr_clicks'][i]<2*nr_alternatives) ])\n",
    "    strategies['hs_hd']['SAT_TTB3']=np.append(strategies['hs_hd']['SAT_TTB3'],[np.logical_and(np.all(hd_hs['p_ranks'][i]<=3), hd_hs['nr_inspected_outcomes'][i]==3 and hd_hs['nr_clicks'][i]<3*nr_alternatives) ])\n",
    "    strategies['hs_hd']['TTB2']=np.append(strategies['hs_hd']['TTB2'],[np.logical_and(np.all(hd_hs['p_ranks'][i]<=2),  hd_hs['nr_inspected_outcomes'][i]==2 and hd_hs['nr_clicks'][i]==2*nr_alternatives)])\n",
    "    strategies['hs_hd']['TTB2_plus']=np.append(strategies['hs_hd']['TTB2_plus'],[np.logical_and(np.all(hd_hs['p_ranks'][i][0:13]<=2),hd_hs['nr_clicks'][i]>14)])\n",
    "    strategies['hs_hd']['TTB_plus']=np.append(strategies['hs_hd']['TTB_plus'],[np.logical_and(np.all(np.unique(hd_hs['p_ranks'][i][:nr_alternatives-1])==[1]),hd_hs['nr_clicks'][-1]>nr_alternatives)])\n",
    "    \n",
    "print(\"On {}% of the hs-hd trials the resource-rational strategy is random choice.\".format(100*np.mean(strategies['hs_hd']['random_choice'])))\n",
    "print(\"On {}% of the hs-hd trials the click squences of the high-stakes policy were consistent with SAT-TTB.\".format(100*np.mean(strategies['hs_hd']['SAT_TTB'])))\n",
    "print(\"On {}% of the hs-hd trials the click squences of the high-stakes policy were consistent with TTB.\".format(100*np.mean(strategies['hs_hd']['TTB'])))\n",
    "print(\"On {}% of the hs-hd trials the click squences of the high-stakes policy was consistent with WADD.\".format(100*np.mean(strategies['hs_hd']['WADD'])))\n",
    "print(\"On {}% of the hs-hd trials the click squences of the high-stakes policy was consistent with TTB+.\".format(100*np.mean(strategies['hs_hd']['TTB_plus'])))\n",
    "print(\"On {}% of the hs-hd trials the resource-rational strategy is SAT-TTB2.\".format(100*np.mean(strategies['hs_hd']['SAT_TTB2'])))\n",
    "print(\"On {}% of the hs-hd trials the resource-rational strategy is SAT-TTB3.\".format(100*np.mean(strategies['hs_hd']['SAT_TTB3'])))\n",
    "print(\"On {}% of the hs-hd trials the resource-rational strategy is TTB2.\".format(100*np.mean(strategies['hs_hd']['TTB2'])))\n",
    "print(\"On {}% of the hs-hd trials the resource-rational strategy is TTB2+.\".format(100*np.mean(strategies['hs_hd']['TTB2_plus'])))\n",
    "\n",
    "strategy_freq=dict()\n",
    "total = 0\n",
    "for strategy in strategies['hs_hd'].keys():\n",
    "    strategy_freq[strategy]=np.mean(strategies['hs_hd'][strategy])\n",
    "    total += strategy_freq[strategy]\n",
    "strategy_freq['other'] = 1-total\n",
    "\n",
    "strategy_frequencies['hs_hd']=strategy_freq"
   ]
  },
  {
   "cell_type": "code",
   "execution_count": 61,
   "metadata": {
    "collapsed": false
   },
   "outputs": [
    {
     "name": "stdout",
     "output_type": "stream",
     "text": [
      "The high-stakes policy inspected more than 7 cells in 17.0% of the trials.\n",
      "The high-stakes policy inspected more than 1 outcome in 17.0% of the high-dispersion trials.\n"
     ]
    }
   ],
   "source": [
    "print(\"The high-stakes policy inspected more than 7 cells in {}% of the trials.\".format(100*np.mean(np.array(hd_hs['nr_clicks'])>7)))\n",
    "print(\"The high-stakes policy inspected more than 1 outcome in {}% of the high-dispersion trials.\".format(100*np.mean(np.array(hd_hs['nr_inspected_outcomes'])>1)))"
   ]
  },
  {
   "cell_type": "code",
   "execution_count": 62,
   "metadata": {
    "collapsed": false
   },
   "outputs": [
    {
     "name": "stdout",
     "output_type": "stream",
     "text": [
      "False\n",
      "In   83.0% of the high-dispersion problems, the high-stakes policy considered only the most probably outcome.\n",
      "\n",
      "In the high-dispersion environment the BO policy made between 7 and 13 clicks. The average number of clicks was 7.4.\n",
      "\n",
      " Example: \n",
      "[[ 0.85  0.02  0.07  0.06]\n",
      " [ 1.    0.    0.    0.  ]\n",
      " [ 2.    0.    0.    0.  ]\n",
      " [ 3.    0.    0.    0.  ]\n",
      " [ 4.    0.    0.    0.  ]\n",
      " [ 5.    0.    0.    0.  ]\n",
      " [ 6.    0.    0.    0.  ]\n",
      " [ 7.    0.    0.    0.  ]]\n",
      "[[9.5130859780740771 TNorm(5.00, 2.99,[0.01,9.99]) TNorm(5.00, 2.99,[0.01,9.99]) TNorm(5.00, 2.99,[0.01,9.99])]\n",
      " [7.399194486971834 TNorm(5.00, 2.99,[0.01,9.99]) TNorm(5.00, 2.99,[0.01,9.99]) TNorm(5.00, 2.99,[0.01,9.99])]\n",
      " [6.3409791060404554 TNorm(5.00, 2.99,[0.01,9.99]) TNorm(5.00, 2.99,[0.01,9.99]) TNorm(5.00, 2.99,[0.01,9.99])]\n",
      " [8.736458609617177 TNorm(5.00, 2.99,[0.01,9.99]) TNorm(5.00, 2.99,[0.01,9.99]) TNorm(5.00, 2.99,[0.01,9.99])]\n",
      " [8.6459200384585913 TNorm(5.00, 2.99,[0.01,9.99]) TNorm(5.00, 2.99,[0.01,9.99]) TNorm(5.00, 2.99,[0.01,9.99])]\n",
      " [5.8551619614744119 TNorm(5.00, 2.99,[0.01,9.99]) TNorm(5.00, 2.99,[0.01,9.99]) TNorm(5.00, 2.99,[0.01,9.99])]\n",
      " [4.1574942557749637 TNorm(5.00, 2.99,[0.01,9.99]) TNorm(5.00, 2.99,[0.01,9.99]) TNorm(5.00, 2.99,[0.01,9.99])]]\n"
     ]
    },
    {
     "data": {
      "image/png": "[encoded data removed]",
      "text/plain": [
       "<matplotlib.figure.Figure at 0x7ff80d93af60>"
      ]
     },
     "metadata": {},
     "output_type": "display_data"
    }
   ],
   "source": [
    "print(np.all(hd_hs['best_outcome_only']))\n",
    "\n",
    "print(\"In {:6.3}% of the high-dispersion problems, the high-stakes policy considered only the most probably outcome.\".format(100*np.mean(hd_hs['best_outcome_only'])))\n",
    "print(\"\")\n",
    "avg_nr_clicks_hd_hs=np.mean(hd_hs['nr_clicks'])\n",
    "min_nr_clicks_hd_hs=np.min(hd_hs['nr_clicks'])\n",
    "max_nr_clicks_hd_hs=np.max(hd_hs['nr_clicks'])\n",
    "\n",
    "print('In the high-dispersion environment the BO policy made between {} and {} clicks. The average number of clicks was {:3.2}.'.format(min_nr_clicks_hd_hs,max_nr_clicks_hd_hs,avg_nr_clicks_hd_hs))\n",
    "\n",
    "plt.figure()\n",
    "plt.hist(hd_hs['nr_clicks'])\n",
    "plt.xlabel('Number of clicks')\n",
    "plt.ylabel('Frequency out of 100')\n",
    "\n",
    "print(\"\\n Example: \")\n",
    "print(hd_hs['p_grids'][1])\n",
    "print(hd_hs_envs[1].grid())"
   ]
  },
  {
   "cell_type": "code",
   "execution_count": 14,
   "metadata": {
    "collapsed": false
   },
   "outputs": [
    {
     "name": "stdout",
     "output_type": "stream",
     "text": [
      "The high-stakes policy inspected more than 1 outcome in 20.0% of the high-dispersion trials.\n",
      "The high-stakes policy inspected 0 outcomes in 0.0% of the high-dispersion trials.\n",
      "The high-stakes policy inspected 1 outcomes in 80.0% of the high-dispersion trials.\n",
      "The high-stakes policy inspected 2 outcomes in 12.0% of the high-dispersion trials.\n",
      "The high-stakes policy inspected 3 outcomes in 8.0% of the high-dispersion trials.\n",
      "The high-stakes policy inspected 4 outcomes in 0.0% of the high-dispersion trials.\n"
     ]
    },
    {
     "data": {
      "image/png": "[encoded data removed]",
      "text/plain": [
       "<matplotlib.figure.Figure at 0x7ff80dc4d160>"
      ]
     },
     "metadata": {},
     "output_type": "display_data"
    }
   ],
   "source": [
    "plt.figure()\n",
    "plt.hist(hd_hs['nr_inspected_outcomes'])\n",
    "plt.xlabel('Number of inspected outcomes')\n",
    "plt.ylabel('Frequency in %')\n",
    "\n",
    "#print(\"The high-stakes policy inspected more than 7 cells in {}% of the hs-ld trials.\".format(100*np.mean(np.array(ld_hs['nr_clicks'])>7)))\n",
    "print(\"The high-stakes policy inspected more than 1 outcome in {}% of the high-dispersion trials.\".format(100*np.mean(np.array(hd_hs['nr_inspected_outcomes'])>1)))\n",
    "\n",
    "for n in range(5):\n",
    "    print(\"The high-stakes policy inspected {} outcomes in {}% of the high-dispersion trials.\".format(n,100*np.mean(np.array(hd_hs['nr_inspected_outcomes'])==n)))\n"
   ]
  },
  {
   "cell_type": "code",
   "execution_count": 15,
   "metadata": {
    "collapsed": false
   },
   "outputs": [
    {
     "name": "stdout",
     "output_type": "stream",
     "text": [
      "In the high-dispersion environment 96.78% of the clicks transitioned within the same attribute, 0.5409% transitioned within the same alternative, and the remaining 2.683% of clicks switched both the attribute and the alternative.\n"
     ]
    }
   ],
   "source": [
    "prop_alternative_based_clicks = np.mean(np.array(hd_hs['nr_alternative_based_clicks'])/(np.array(hd_hs['nr_clicks'])-1))\n",
    "prop_attribute_based_clicks = np.mean(np.array(hd_hs['nr_attribute_based_clicks'])/(np.array(hd_hs['nr_clicks'])-1))\n",
    "prop_other = 1 - (prop_alternative_based_clicks + prop_attribute_based_clicks)\n",
    "#hd_hs['transitions_within_alternative']\n",
    "\n",
    "print('In the high-dispersion environment {:.4}% of the clicks transitioned within the same attribute, {:.4}% transitioned within the same alternative, and the remaining {:.4}% of clicks switched both the attribute and the alternative.'.format(100*prop_attribute_based_clicks,100*prop_alternative_based_clicks,100*prop_other))"
   ]
  },
  {
   "cell_type": "code",
   "execution_count": 63,
   "metadata": {
    "collapsed": false
   },
   "outputs": [
    {
     "name": "stdout",
     "output_type": "stream",
     "text": [
      "Aspiration level after 7 clicks: 5.109080989197777\n",
      "Aspiration level after 8 clicks: 6.931360144784623\n",
      "Aspiration level after 9 clicks: 6.031150174038703\n",
      "Aspiration level after 10 clicks: 5.997662369418321\n",
      "Aspiration level after 11 clicks: 7.774629039201444\n",
      "average aspiration level: $7.89\n",
      "average aspiration level: 0.965 standard deviations above mean\n"
     ]
    },
    {
     "data": {
      "image/png": "[encoded data removed]",
      "text/plain": [
       "<matplotlib.figure.Figure at 0x7ff80dabe6a0>"
      ]
     },
     "metadata": {},
     "output_type": "display_data"
    }
   ],
   "source": [
    "click_nrs = np.unique(hd_hs['nr_clicks'])\n",
    "nr_clicks = np.array(hd_hs['nr_clicks'])\n",
    "expected_returns = np.array(hd_hs['expected_term_rewards'])\n",
    "\n",
    "aspiration_levels = dict()\n",
    "\n",
    "for n in click_nrs[:-2]:\n",
    "    print(\"Aspiration level after {} clicks: {}\".format(n,np.min(expected_returns[nr_clicks==n])))\n",
    "    aspiration_levels[n] = (np.min(expected_returns[nr_clicks==n])-mu_R_high_stakes)/sigma_R_high_stakes\n",
    "\n",
    "plt.figure()\n",
    "plt.plot(nr_alternatives-np.array([float(val) for val in aspiration_levels.keys()]),aspiration_levels.values())\n",
    "plt.ylabel('Aspiration Level (z-score)')\n",
    "plt.xlabel('Number unexplored alternatives')\n",
    "\n",
    "#hd_hs['observations'][2]\n",
    "\n",
    "aspiration_level = np.mean(expected_returns[np.array(hd_hs['nr_clicks'])==nr_alternatives])\n",
    "print('average aspiration level: ${:.3}'.format(aspiration_level))\n",
    "print('average aspiration level: {:.3} standard deviations above mean'.format((aspiration_level-mu_R_high_stakes)/sigma_R_high_stakes))"
   ]
  },
  {
   "cell_type": "markdown",
   "metadata": {
    "collapsed": true
   },
   "source": [
    "# High stakes, low dispersion"
   ]
  },
  {
   "cell_type": "code",
   "execution_count": 6,
   "metadata": {
    "collapsed": false
   },
   "outputs": [],
   "source": [
    "#bo_pol_theta = np.load('data/high_stakes_3cents.npy')\n",
    "#bo_pol_theta = np.load('data/high_stakes_1cents.npy')\n",
    "bo_pol_theta = np.load('data/om_bmps_pols/best/hs_ld_1cents.npy')\n",
    "\n",
    "bo_pol_high_stakes = LiederPolicy(list(bo_pol_theta))\n",
    "\n",
    "reward = high_stakes\n",
    "ld_hs_envs = [OldMouselabEnv(gambles, ld_dist(attributes), reward, cost) for _ in range(n_test)]\n",
    "\n",
    "term_action = ld_hs_envs[0].term_action"
   ]
  },
  {
   "cell_type": "code",
   "execution_count": 9,
   "metadata": {
    "collapsed": false
   },
   "outputs": [],
   "source": [
    "#ld_hs = characterize_strategy(bo_pol_high_stakes,ld_hs_envs)\n",
    "#save_obj(ld_hs,'low_dispersion_high_stakes_1cents_separate')\n",
    "ld_hs = load_obj('low_dispersion_high_stakes_1cents_separate')"
   ]
  },
  {
   "cell_type": "code",
   "execution_count": 10,
   "metadata": {
    "collapsed": false
   },
   "outputs": [
    {
     "name": "stdout",
     "output_type": "stream",
     "text": [
      "The resource-rational strategy reaps 96.58% of the highest possible payoffs.\n"
     ]
    }
   ],
   "source": [
    "max_EV = np.array([])\n",
    "all_actions = np.arange(28)\n",
    "#for a in all_actions:\n",
    "#    test_envs_hd[0].step(a)\n",
    "\n",
    "for i in range(len(ld_hs_envs)):\n",
    "    max_EV = np.append(max_EV,[expected_reward_of_termination(ld_hs_envs[i],all_actions)])\n",
    "    \n",
    "max_EV_ld_hs = np.mean(max_EV)\n",
    "\n",
    "np.mean(ld_hs['returns'])/max_EV_ld_hs\n",
    "\n",
    "print(\"The resource-rational strategy reaps {:.4}% of the highest possible payoffs.\".format(100*np.mean(ld_hs['returns'])/max_EV_ld_hs))"
   ]
  },
  {
   "cell_type": "code",
   "execution_count": 90,
   "metadata": {
    "collapsed": false
   },
   "outputs": [
    {
     "name": "stdout",
     "output_type": "stream",
     "text": [
      "On 0.0% of the hs-hd trials the resource-rational strategy is random choice.\n",
      "On 0.0% of the hs-hd trials the click squences of the high-stakes policy were consistent with SAT-TTB.\n",
      "On 0.0% of the hs-hd trials the click squences of the high-stakes policy were consistent with TTB.\n",
      "On 0.0% of the hs-hd trials the click squences of the high-stakes policy was consistent with WADD.\n",
      "On 32.0% of the hs-hd trials the click squences of the high-stakes policy was consistent with TTB+.\n",
      "On 8.0% of the hs-hd trials the resource-rational strategy is SAT-TTB2.\n",
      "On 31.0% of the hs-hd trials the resource-rational strategy is SAT-TTB3.\n",
      "On 0.0% of the hs-hd trials the resource-rational strategy is TTB2.\n",
      "On 2.0% of the hs-hd trials the resource-rational strategy is TTB2+.\n"
     ]
    }
   ],
   "source": [
    "strategies['hs_ld']=dict()\n",
    "\n",
    "strategies['hs_ld']['TTB'] = np.array([])\n",
    "strategies['hs_ld']['WADD'] = np.array([])\n",
    "strategies['hs_ld']['SAT_TTB'] = np.array([])\n",
    "strategies['hs_ld']['random_choice'] = np.array([])\n",
    "strategies['hs_ld']['SAT_TTB2'] = np.array([])\n",
    "strategies['hs_ld']['TTB2']=np.array([])\n",
    "strategies['hs_ld']['TTB2_plus']=np.array([])\n",
    "strategies['hs_ld']['SAT_TTB3'] = np.array([])\n",
    "strategies['hs_ld']['TTB_plus'] = np.array([])\n",
    "\n",
    "for i in range(n_test):\n",
    "    strategies['hs_ld']['TTB'] =  np.append(strategies['hs_ld']['TTB'], [ld_hs['nr_clicks'][i]==nr_alternatives and ld_hs['best_outcome_only'][i]])\n",
    "    strategies['hs_ld']['WADD']=  np.append(strategies['hs_ld']['WADD'],[ld_hs['nr_clicks'][i]==nr_alternatives*nr_outcomes])\n",
    "    strategies['hs_ld']['SAT_TTB'] = np.append(strategies['hs_ld']['SAT_TTB'], [ld_hs['best_outcome_only'][i] and ld_hs['nr_clicks'][i]>0 and ld_hs['nr_clicks'][i]<nr_alternatives])\n",
    "    strategies['hs_ld']['random_choice'] = np.append(strategies['hs_ld']['random_choice'], [ld_hs['nr_clicks'][i]==0])\n",
    "    strategies['hs_ld']['SAT_TTB2']=np.append(strategies['hs_ld']['SAT_TTB2'],[np.logical_and(np.all(ld_hs['p_ranks'][i]<=2), ld_hs['nr_inspected_outcomes'][i]==2 and ld_hs['nr_clicks'][i]<2*nr_alternatives) ])\n",
    "    strategies['hs_ld']['SAT_TTB3']=np.append(strategies['hs_ld']['SAT_TTB3'],[np.logical_and(np.all(ld_hs['p_ranks'][i]<=3), ld_hs['nr_inspected_outcomes'][i]==3 and ld_hs['nr_clicks'][i]<3*nr_alternatives) ])\n",
    "    strategies['hs_ld']['TTB2']=np.append(strategies['hs_ld']['TTB2'],[np.logical_and(np.all(ld_hs['p_ranks'][i]<=2),  ld_hs['nr_inspected_outcomes'][i]==2 and ld_hs['nr_clicks'][i]==2*nr_alternatives)])\n",
    "    strategies['hs_ld']['TTB2_plus']=np.append(strategies['hs_ld']['TTB2_plus'],[np.logical_and(np.all(ld_hs['p_ranks'][i][0:13]<=2),ld_hs['nr_clicks'][i]>14)])\n",
    "    strategies['hs_ld']['TTB_plus']=np.append(strategies['hs_ld']['TTB_plus'],[np.logical_and(np.all(np.unique(ld_hs['p_ranks'][i][:nr_alternatives-1])==[1]),ld_hs['nr_clicks'][-1]>nr_alternatives)])\n",
    "    \n",
    "print(\"On {}% of the hs-ld trials the resource-rational strategy is random choice.\".format(100*np.mean(strategies['hs_ld']['random_choice'])))\n",
    "print(\"On {}% of the hs-ld trials the click squences of the high-stakes policy were consistent with SAT-TTB.\".format(100*np.mean(strategies['hs_ld']['SAT_TTB'])))\n",
    "print(\"On {}% of the hs-ld trials the click squences of the high-stakes policy were consistent with TTB.\".format(100*np.mean(strategies['hs_ld']['TTB'])))\n",
    "print(\"On {}% of the hs-ld trials the click squences of the high-stakes policy was consistent with WADD.\".format(100*np.mean(strategies['hs_ld']['WADD'])))\n",
    "print(\"On {}% of the hs-ld trials the click squences of the high-stakes policy was consistent with TTB+.\".format(100*np.mean(strategies['hs_ld']['TTB_plus'])))\n",
    "print(\"On {}% of the hs-ld trials the resource-rational strategy is SAT-TTB2.\".format(100*np.mean(strategies['hs_ld']['SAT_TTB2'])))\n",
    "print(\"On {}% of the hs-ld trials the resource-rational strategy is SAT-TTB3.\".format(100*np.mean(strategies['hs_ld']['SAT_TTB3'])))\n",
    "print(\"On {}% of the hs-ld trials the resource-rational strategy is TTB2.\".format(100*np.mean(strategies['hs_ld']['TTB2'])))\n",
    "print(\"On {}% of the hs-ld trials the resource-rational strategy is TTB2+.\".format(100*np.mean(strategies['hs_ld']['TTB2_plus'])))\n",
    "\n",
    "strategy_freq=dict()\n",
    "total = 0\n",
    "for strategy in strategies['hs_ld'].keys():\n",
    "    strategy_freq[strategy]=np.mean(strategies['hs_ld'][strategy])\n",
    "    total += strategy_freq[strategy]\n",
    "strategy_freq['other'] = 1-total\n",
    "\n",
    "strategy_frequencies['hs_ld']=strategy_freq"
   ]
  },
  {
   "cell_type": "code",
   "execution_count": 57,
   "metadata": {
    "collapsed": false
   },
   "outputs": [
    {
     "name": "stdout",
     "output_type": "stream",
     "text": [
      "In the low-dispersion environment 49.59% of the clicks transitioned within the same attribute, 14.48% transitioned within the same alternative, and the remaining 35.92% of clicks switched both the attribute and the alternative.\n"
     ]
    },
    {
     "data": {
      "text/plain": [
       "dict_keys(['grids', 'expected_term_rewards', 'best_outcome_only', 'nr_inspected_outcomes', 'p_ranks', 'p_outcomes', 'inspected_gambles', 'inspected_outcomes', 'p_grids', 'returns', 'observations', 'operations', 'nr_clicks', 'nr_alternative_based_clicks', 'nr_attribute_based_clicks', 'transitions_within_attribute', 'TTB_plus', 'transitions_within_alternative', 'probabilities'])"
      ]
     },
     "execution_count": 57,
     "metadata": {},
     "output_type": "execute_result"
    }
   ],
   "source": [
    "prop_alternative_based_clicks = np.mean(np.array(ld_hs['nr_alternative_based_clicks'])/(np.array(ld_hs['nr_clicks'])-1))\n",
    "prop_attribute_based_clicks = np.mean(np.array(ld_hs['nr_attribute_based_clicks'])/(np.array(ld_hs['nr_clicks'])-1))\n",
    "prop_other = 1 - (prop_alternative_based_clicks + prop_attribute_based_clicks)\n",
    "#ld_hs['transitions_within_alternative']\n",
    "\n",
    "print('In the hs-ld environment {:.4}% of the clicks transitioned within the same attribute, {:.4}% transitioned within the same alternative, and the remaining {:.4}% of clicks switched both the attribute and the alternative.'.format(100*prop_attribute_based_clicks,100*prop_alternative_based_clicks,100*prop_other))\n",
    "\n",
    "ld_hs.keys()"
   ]
  },
  {
   "cell_type": "code",
   "execution_count": 13,
   "metadata": {
    "collapsed": false
   },
   "outputs": [
    {
     "name": "stdout",
     "output_type": "stream",
     "text": [
      "The high-stakes policy inspected more than 1 outcome in 100.0% of the low-dispersion trials.\n",
      "The high-stakes policy inspected 0 outcomes in 0.0% of the low-dispersion trials.\n",
      "The high-stakes policy inspected 1 outcomes in 0.0% of the low-dispersion trials.\n",
      "The high-stakes policy inspected 2 outcomes in 8.0% of the low-dispersion trials.\n",
      "The high-stakes policy inspected 3 outcomes in 34.0% of the low-dispersion trials.\n",
      "The high-stakes policy inspected 4 outcomes in 57.99999999999999% of the low-dispersion trials.\n"
     ]
    },
    {
     "data": {
      "image/png": "[encoded data removed]",
      "text/plain": [
       "<matplotlib.figure.Figure at 0x7f5656b93b00>"
      ]
     },
     "metadata": {},
     "output_type": "display_data"
    }
   ],
   "source": [
    "plt.figure()\n",
    "plt.hist(ld_hs['nr_inspected_outcomes'])\n",
    "plt.xlabel('Number of inspected outcomes')\n",
    "plt.ylabel('Frequency in %')\n",
    "\n",
    "#print(\"The high-stakes policy inspected more than 7 cells in {}% of the hs-ld trials.\".format(100*np.mean(np.array(ld_hs['nr_clicks'])>7)))\n",
    "print(\"The high-stakes policy inspected more than 1 outcome in {}% of the hs-ld trials.\".format(100*np.mean(np.array(ld_hs['nr_inspected_outcomes'])>1)))\n",
    "\n",
    "for n in range(nr_outcomes+1):\n",
    "    print(\"The high-stakes policy inspected {} outcomes in {}% of the hs-ld trials.\".format(n,100*np.mean(np.array(ld_hs['nr_inspected_outcomes'])==n)))\n"
   ]
  },
  {
   "cell_type": "code",
   "execution_count": 51,
   "metadata": {
    "collapsed": false
   },
   "outputs": [
    {
     "name": "stdout",
     "output_type": "stream",
     "text": [
      "In    0.0% of the low-dispersion problems, the high-stakes policy considered only the most probably outcome.\n",
      "\n",
      "In the low-dispersion environment the BO policy made between 5 and 23 clicks. The average number of clicks was 14.0.\n",
      "\n",
      " Example: \n",
      "[[  0.28   0.34   0.24   0.14]\n",
      " [ 11.     9.    13.     0.  ]\n",
      " [  0.     4.     0.     0.  ]\n",
      " [  8.     7.     0.     0.  ]\n",
      " [ 10.     1.    12.     0.  ]\n",
      " [  0.     2.     0.     0.  ]\n",
      " [  6.     5.     0.     0.  ]\n",
      " [  0.     3.     0.     0.  ]]\n",
      "[[ 4.112  0.937  3.288  5.731]\n",
      " [ 4.519  3.851  6.403  0.108]\n",
      " [ 9.519  9.621  5.675  2.64 ]\n",
      " [ 7.348  0.6    3.261  1.563]\n",
      " [ 2.277  4.283  2.933  5.191]\n",
      " [ 5.468  9.242  6.105  4.796]\n",
      " [ 8.255  6.368  2.487  7.189]]\n"
     ]
    },
    {
     "data": {
      "image/png": "[encoded data removed]",
      "text/plain": [
       "<matplotlib.figure.Figure at 0x7f564dcbff28>"
      ]
     },
     "metadata": {},
     "output_type": "display_data"
    }
   ],
   "source": [
    "print(\"In {:6.3}% of the hs-ld problems, the high-stakes policy considered only the most probably outcome.\".format(100*np.mean(ld_hs['best_outcome_only'])))\n",
    "print(\"\")\n",
    "avg_nr_clicks_ld_hs=np.mean(ld_hs['nr_clicks'])\n",
    "min_nr_clicks_ld_hs=np.min(ld_hs['nr_clicks'])\n",
    "max_nr_clicks_ld_hs=np.max(ld_hs['nr_clicks'])\n",
    "\n",
    "print('In the hs-ld environment the BO policy made between {} and {} clicks. The average number of clicks was {:4.3}.'.format(min_nr_clicks_ld_hs,max_nr_clicks_ld_hs,avg_nr_clicks_ld_hs))\n",
    "\n",
    "plt.figure()\n",
    "plt.hist(ld_hs['nr_clicks'])\n",
    "plt.xlabel('Number of clicks (out of 28)')\n",
    "plt.ylabel('Frequency out of 100')\n",
    "\n",
    "print(\"\\n Example: \")\n",
    "print(ld_hs['p_grids'][99])\n",
    "print(ld_hs_envs[99].grid())"
   ]
  },
  {
   "cell_type": "markdown",
   "metadata": {},
   "source": [
    "## Properties of the high-stakes strategy in the hs-ld environment\n",
    "\n",
    "In high-stakes decision problems where all outcomes are almost equally likely, the LC policy does not seem to correspond to any previously proposed decision strategy. Its click sequence agreed with TTB on only 1% of the decision problems, and it corresponded to WADD on 0/100 problems.\n",
    "\n",
    "Instead, it appears to shift between searching for promising alternatives and evaluating them in detail until it finds an alternative that it deems good enough. Inspecting its click-sequences suggested the following description:\n",
    "1. It starts inspected payoffs for the most likely outcome until it has found at least two promising gambles.\n",
    "1. It then aspects the payoffs of those gambles for the second most likely outcome.\n",
    "1. If those are similar and worse, then it continues to inspect the payoffs of these gambles for the third most likely outcome.\n",
    "1. When the gambles look no longer promising, it starts inspecting other gambles.\n",
    "1. If one of them has a promising payoff, it will collect more information about that gamble.\n",
    "1. If nothing is covnincing yet, it will inspect yet another new gamble.\n",
    "1. It stops when it becomes too unlikely that something better than the current best will be found eventually.\n",
    "\n",
    "In more quantitative terms, I found that the resource-rational strategy for environments were all outcomes are almost equally likely is qualitatively different from its counterpart for the environment where one outcome is much more likely than all others. Concretely, in contrast to the resource-rational strategy for the environment with high dispersion, this strategy was predominantly compensatory in that it considered more than 1 outcome for 98% of the problems. In fact, it considered all four possible outcomes in 67% of the decisions. Furthermore, the resource-rational strategy collected significantly more information in the hs-ld environment  than in the high dispersion environment.\n",
    "Concretely, in the hs-ld environment, it considered about 13 of the 28 payoffs on average (range: 5–21).\n",
    "\n",
    "As before, there was a trend for the strategy’s aspiration level to decrease as the number of unknown payoffs decreased."
   ]
  },
  {
   "cell_type": "code",
   "execution_count": 15,
   "metadata": {
    "collapsed": false
   },
   "outputs": [
    {
     "ename": "NameError",
     "evalue": "name 'expected_returns' is not defined",
     "output_type": "error",
     "traceback": [
      "\u001b[0;31m---------------------------------------------------------------------------\u001b[0m",
      "\u001b[0;31mNameError\u001b[0m                                 Traceback (most recent call last)",
      "\u001b[0;32m<ipython-input-15-1bb35a668b9f>\u001b[0m in \u001b[0;36m<module>\u001b[0;34m()\u001b[0m\n\u001b[0;32m----> 1\u001b[0;31m \u001b[0mnp\u001b[0m\u001b[0;34m.\u001b[0m\u001b[0mmin\u001b[0m\u001b[0;34m(\u001b[0m\u001b[0mexpected_returns\u001b[0m\u001b[0;34m[\u001b[0m\u001b[0mnr_clicks\u001b[0m\u001b[0;34m==\u001b[0m\u001b[0;36m18\u001b[0m\u001b[0;34m]\u001b[0m\u001b[0;34m)\u001b[0m\u001b[0;34m\u001b[0m\u001b[0m\n\u001b[0m",
      "\u001b[0;31mNameError\u001b[0m: name 'expected_returns' is not defined"
     ]
    }
   ],
   "source": [
    "np.min(expected_returns[nr_clicks==18])"
   ]
  },
  {
   "cell_type": "code",
   "execution_count": 16,
   "metadata": {
    "collapsed": false
   },
   "outputs": [
    {
     "name": "stdout",
     "output_type": "stream",
     "text": [
      "Aspiration level after 6 clicks: 7.558960042899113\n",
      "Aspiration level after 7 clicks: 7.481949231691408\n",
      "Aspiration level after 8 clicks: 6.441391400811116\n",
      "Aspiration level after 9 clicks: 6.196969426645201\n",
      "Aspiration level after 10 clicks: 6.7978547057325365\n",
      "Aspiration level after 11 clicks: 5.874293744783267\n",
      "Aspiration level after 12 clicks: 6.7092975978383915\n",
      "Aspiration level after 13 clicks: 6.423384559078686\n",
      "Aspiration level after 14 clicks: 6.17093650530383\n",
      "Aspiration level after 15 clicks: 6.147101149417115\n",
      "Aspiration level after 16 clicks: 6.235586112198034\n",
      "Aspiration level after 17 clicks: 5.80606457329951\n",
      "Aspiration level after 18 clicks: 5.436355529412874\n",
      "average aspiration level: $6.71\n",
      "average aspiration level: 0.57 standard deviations above mean\n"
     ]
    },
    {
     "data": {
      "image/png": "[encoded data removed]",
      "text/plain": [
       "<matplotlib.figure.Figure at 0x7fb6581d0160>"
      ]
     },
     "metadata": {},
     "output_type": "display_data"
    }
   ],
   "source": [
    "click_nrs = np.unique(ld_hs['nr_clicks'])\n",
    "nr_clicks = np.array(ld_hs['nr_clicks'])\n",
    "expected_returns = np.array(ld_hs['expected_term_rewards'])\n",
    "\n",
    "aspiration_levels = dict()\n",
    "\n",
    "for n in click_nrs[:-3]:\n",
    "    if np.sum(nr_clicks==n)>0:\n",
    "        print(\"Aspiration level after {} clicks: {}\".format(n,np.min(expected_returns[nr_clicks==n])))\n",
    "        aspiration_levels[n] = (np.min(expected_returns[nr_clicks==n])-mu_R_high_stakes)/sigma_R_high_stakes\n",
    "\n",
    "plt.figure()\n",
    "plt.plot(nr_alternatives*nr_outcomes-np.array([float(val) for val in aspiration_levels.keys()]),aspiration_levels.values())\n",
    "plt.ylabel('Aspiration Level (z-score)')\n",
    "plt.xlabel('Number uninspected cells')\n",
    "\n",
    "aspiration_level = np.min(expected_returns) #[np.array(ld_hs['nr_clicks'])]\n",
    "print('average aspiration level: ${:.3}'.format(np.mean(expected_returns)))\n",
    "print('average aspiration level: {:.3} standard deviations above mean'.format((np.mean(expected_returns)-mu_R_high_stakes)/sigma_R_high_stakes))"
   ]
  },
  {
   "cell_type": "markdown",
   "metadata": {},
   "source": [
    "# Low stakes, high dispersion"
   ]
  },
  {
   "cell_type": "code",
   "execution_count": 76,
   "metadata": {
    "collapsed": false
   },
   "outputs": [],
   "source": [
    "#bo_pol_theta = np.load('data/low_stakes_1cents.npy')\n",
    "#bo_pol_theta = np.load('data/low_stakes_trunc_1cents-2.npy')\n",
    "bo_pol_theta = np.load('data/om_bmps_pols/best/ls_hd_1cents.npy')\n",
    "bo_pol_low_stakes = LiederPolicy(list(bo_pol_theta))\n",
    "\n",
    "cost=.01\n",
    "reward = low_stakes\n",
    "hd_ls_envs =  [OldMouselabEnv(gambles, hd_dist(attributes), reward, cost) for _ in range(n_test)]\n",
    "\n",
    "term_action = hd_ls_envs[0].term_action"
   ]
  },
  {
   "cell_type": "code",
   "execution_count": 92,
   "metadata": {
    "collapsed": false
   },
   "outputs": [],
   "source": [
    "#hd_ls = characterize_strategy(bo_pol_low_stakes,hd_ls_envs)\n",
    "#save_obj(hd_ls,'high_dispersion_low_stakes_1cents_separate')\n",
    "#hd_ls=load_obj('high_dispersion_low_stakes_1cents_separate')\n",
    "#save_obj(hd_ls,'high_dispersion_low_stakes_1cents')\n",
    "hd_ls=load_obj('high_dispersion_low_stakes_1cents_separate')\n",
    "#save_obj(hd_ls,'high_dispersion_low_stakes_3cents')"
   ]
  },
  {
   "cell_type": "code",
   "execution_count": 93,
   "metadata": {
    "collapsed": false
   },
   "outputs": [
    {
     "ename": "NameError",
     "evalue": "name 'hd_ls_envs' is not defined",
     "output_type": "error",
     "traceback": [
      "\u001b[0;31m---------------------------------------------------------------------------\u001b[0m",
      "\u001b[0;31mNameError\u001b[0m                                 Traceback (most recent call last)",
      "\u001b[0;32m<ipython-input-93-c9fdddd1f4c4>\u001b[0m in \u001b[0;36m<module>\u001b[0;34m()\u001b[0m\n\u001b[1;32m      4\u001b[0m \u001b[0;31m#    test_envs_hd[0].step(a)\u001b[0m\u001b[0;34m\u001b[0m\u001b[0;34m\u001b[0m\u001b[0m\n\u001b[1;32m      5\u001b[0m \u001b[0;34m\u001b[0m\u001b[0m\n\u001b[0;32m----> 6\u001b[0;31m \u001b[0;32mfor\u001b[0m \u001b[0mi\u001b[0m \u001b[0;32min\u001b[0m \u001b[0mrange\u001b[0m\u001b[0;34m(\u001b[0m\u001b[0mlen\u001b[0m\u001b[0;34m(\u001b[0m\u001b[0mhd_ls_envs\u001b[0m\u001b[0;34m)\u001b[0m\u001b[0;34m)\u001b[0m\u001b[0;34m:\u001b[0m\u001b[0;34m\u001b[0m\u001b[0m\n\u001b[0m\u001b[1;32m      7\u001b[0m     \u001b[0mmax_EV\u001b[0m \u001b[0;34m=\u001b[0m \u001b[0mnp\u001b[0m\u001b[0;34m.\u001b[0m\u001b[0mappend\u001b[0m\u001b[0;34m(\u001b[0m\u001b[0mmax_EV\u001b[0m\u001b[0;34m,\u001b[0m\u001b[0;34m[\u001b[0m\u001b[0mexpected_reward_of_termination\u001b[0m\u001b[0;34m(\u001b[0m\u001b[0mhd_ls_envs\u001b[0m\u001b[0;34m[\u001b[0m\u001b[0mi\u001b[0m\u001b[0;34m]\u001b[0m\u001b[0;34m,\u001b[0m\u001b[0mall_actions\u001b[0m\u001b[0;34m)\u001b[0m\u001b[0;34m]\u001b[0m\u001b[0;34m)\u001b[0m\u001b[0;34m\u001b[0m\u001b[0m\n\u001b[1;32m      8\u001b[0m \u001b[0;34m\u001b[0m\u001b[0m\n",
      "\u001b[0;31mNameError\u001b[0m: name 'hd_ls_envs' is not defined"
     ]
    }
   ],
   "source": [
    "max_EV = np.array([])\n",
    "all_actions = np.arange(28)\n",
    "#for a in all_actions:\n",
    "#    test_envs_hd[0].step(a)\n",
    "\n",
    "for i in range(len(hd_ls_envs)):\n",
    "    max_EV = np.append(max_EV,[expected_reward_of_termination(hd_ls_envs[i],all_actions)])\n",
    "    \n",
    "max_EV_hd_ls = np.mean(max_EV)\n",
    "\n",
    "np.mean(hd_ls['returns'])/max_EV_hd_ls\n",
    "\n",
    "print(\"The resource-rational strategy reaps {:.4}% of the highest possible payoffs.\".format(100*np.mean(hd_ls['returns'])/max_EV_hd_ls))"
   ]
  },
  {
   "cell_type": "code",
   "execution_count": 104,
   "metadata": {
    "collapsed": false
   },
   "outputs": [
    {
     "name": "stdout",
     "output_type": "stream",
     "text": [
      "On 0.0% of the ls-hd trials the resource-rational strategy is random choice.\n",
      "On 87.0% of the ls-hd trials the click squences of the high-stakes policy were consistent with SAT-TTB.\n",
      "On 13.0% of the ls-hd trials the click squences of the high-stakes policy were consistent with TTB.\n",
      "On 0.0% of the ls-hd trials the click squences of the high-stakes policy was consistent with WADD.\n",
      "On 0.0% of the ls-hd trials the click squences of the high-stakes policy was consistent with TTB+.\n",
      "On 0.0% of the ls-hd trials the resource-rational strategy is SAT-TTB2.\n",
      "On 0.0% of the ls-hd trials the resource-rational strategy is SAT-TTB3.\n",
      "On 0.0% of the ls-hd trials the resource-rational strategy is TTB2.\n",
      "On 0.0% of the ls-hd trials the resource-rational strategy is TTB2+.\n"
     ]
    }
   ],
   "source": [
    "strategies['ls_hd']=dict()\n",
    "\n",
    "strategies['ls_hd']['TTB'] = np.array([])\n",
    "strategies['ls_hd']['WADD'] = np.array([])\n",
    "strategies['ls_hd']['SAT_TTB'] = np.array([])\n",
    "strategies['ls_hd']['random_choice'] = np.array([])\n",
    "strategies['ls_hd']['SAT_TTB2'] = np.array([])\n",
    "strategies['ls_hd']['TTB2']=np.array([])\n",
    "strategies['ls_hd']['TTB2_plus']=np.array([])\n",
    "strategies['ls_hd']['SAT_TTB3'] = np.array([])\n",
    "strategies['ls_hd']['TTB_plus'] = np.array([])\n",
    "\n",
    "for i in range(n_test):\n",
    "    strategies['ls_hd']['TTB'] =  np.append(strategies['ls_hd']['TTB'], [hd_ls['nr_clicks'][i]==nr_alternatives and hd_ls['best_outcome_only'][i]])\n",
    "    strategies['ls_hd']['WADD']=  np.append(strategies['ls_hd']['WADD'],[hd_ls['nr_clicks'][i]==nr_alternatives*nr_outcomes])\n",
    "    strategies['ls_hd']['SAT_TTB'] = np.append(strategies['ls_hd']['SAT_TTB'], [hd_ls['best_outcome_only'][i] and hd_ls['nr_clicks'][i]>0 and hd_ls['nr_clicks'][i]<nr_alternatives])\n",
    "    strategies['ls_hd']['random_choice'] = np.append(strategies['ls_hd']['random_choice'], [hd_ls['nr_clicks'][i]==0])\n",
    "    strategies['ls_hd']['SAT_TTB2']=np.append(strategies['ls_hd']['SAT_TTB2'],[np.logical_and(np.all(hd_ls['p_ranks'][i]<=2), hd_ls['nr_inspected_outcomes'][i]==2 and hd_ls['nr_clicks'][i]<2*nr_alternatives) ])\n",
    "    strategies['ls_hd']['SAT_TTB3']=np.append(strategies['ls_hd']['SAT_TTB3'],[np.logical_and(np.all(hd_ls['p_ranks'][i]<=3), hd_ls['nr_inspected_outcomes'][i]==3 and hd_ls['nr_clicks'][i]<3*nr_alternatives) ])\n",
    "    strategies['ls_hd']['TTB2']=np.append(strategies['ls_hd']['TTB2'],[np.logical_and(np.all(hd_ls['p_ranks'][i]<=2),  hd_ls['nr_inspected_outcomes'][i]==2 and hd_ls['nr_clicks'][i]==2*nr_alternatives)])\n",
    "    strategies['ls_hd']['TTB2_plus']=np.append(strategies['ls_hd']['TTB2_plus'],[np.logical_and(np.all(hd_ls['p_ranks'][i][0:13]<=2),hd_ls['nr_clicks'][i]>14)])\n",
    "    strategies['ls_hd']['TTB_plus']=np.append(strategies['ls_hd']['TTB_plus'],[np.logical_and(np.all(np.unique(hd_ls['p_ranks'][i][:nr_alternatives-1])==[1]),hd_ls['nr_clicks'][-1]>nr_alternatives)])\n",
    "    \n",
    "print(\"On {}% of the ls-hd trials the resource-rational strategy is random choice.\".format(100*np.mean(strategies['ls_hd']['random_choice'])))\n",
    "print(\"On {}% of the ls-hd trials the click squences of the high-stakes policy were consistent with SAT-TTB.\".format(100*np.mean(strategies['ls_hd']['SAT_TTB'])))\n",
    "print(\"On {}% of the ls-hd trials the click squences of the high-stakes policy were consistent with TTB.\".format(100*np.mean(strategies['ls_hd']['TTB'])))\n",
    "print(\"On {}% of the ls-hd trials the click squences of the high-stakes policy was consistent with WADD.\".format(100*np.mean(strategies['ls_hd']['WADD'])))\n",
    "print(\"On {}% of the ls-hd trials the click squences of the high-stakes policy was consistent with TTB+.\".format(100*np.mean(strategies['ls_hd']['TTB_plus'])))\n",
    "print(\"On {}% of the ls-hd trials the resource-rational strategy is SAT-TTB2.\".format(100*np.mean(strategies['ls_hd']['SAT_TTB2'])))\n",
    "print(\"On {}% of the ls-hd trials the resource-rational strategy is SAT-TTB3.\".format(100*np.mean(strategies['ls_hd']['SAT_TTB3'])))\n",
    "print(\"On {}% of the ls-hd trials the resource-rational strategy is TTB2.\".format(100*np.mean(strategies['ls_hd']['TTB2'])))\n",
    "print(\"On {}% of the ls-hd trials the resource-rational strategy is TTB2+.\".format(100*np.mean(strategies['ls_hd']['TTB2_plus'])))\n",
    "\n",
    "strategy_freq=dict()\n",
    "total = 0\n",
    "for strategy in strategies['ls_hd'].keys():\n",
    "    strategy_freq[strategy]=np.mean(strategies['ls_hd'][strategy])\n",
    "    total += strategy_freq[strategy]\n",
    "strategy_freq['other'] = 1-total\n",
    "\n",
    "strategy_frequencies['ls_hd']=strategy_freq"
   ]
  },
  {
   "cell_type": "code",
   "execution_count": 37,
   "metadata": {
    "collapsed": false
   },
   "outputs": [
    {
     "name": "stdout",
     "output_type": "stream",
     "text": [
      "In the high-dispersion environment 100.0% of the clicks transitioned within the same attribute, 0.0% transitioned within the same alternative, and the remaining 0.0% of clicks switched both the attribute and the alternative.\n"
     ]
    }
   ],
   "source": [
    "nr_clicks =np.array(hd_ls['nr_clicks'])\n",
    "alternative_based = np.array(hd_ls['nr_alternative_based_clicks'])\n",
    "attribute_based = np.array(hd_ls['nr_attribute_based_clicks'])\n",
    "\n",
    "prop_alternative_based_clicks = np.mean(alternative_based[nr_clicks>1]/(nr_clicks[nr_clicks>1]-1))\n",
    "prop_attribute_based_clicks = np.mean(attribute_based[nr_clicks>1]/(nr_clicks[nr_clicks>1]-1))\n",
    "prop_other = 1 - (prop_alternative_based_clicks + prop_attribute_based_clicks)\n",
    "#ld_ls['transitions_within_alternative']\n",
    "\n",
    "print('In the high-dispersion environment {:.4}% of the clicks transitioned within the same attribute, {:.4}% transitioned within the same alternative, and the remaining {:.4}% of clicks switched both the attribute and the alternative.'.format(100*prop_attribute_based_clicks,100*prop_alternative_based_clicks,100*prop_other))"
   ]
  },
  {
   "cell_type": "code",
   "execution_count": 26,
   "metadata": {
    "collapsed": false
   },
   "outputs": [
    {
     "name": "stdout",
     "output_type": "stream",
     "text": [
      "0\n",
      "The low-stakes policy inspected exactly 7 cells in 17.0% of the high-dispersion trials.\n",
      "The low-stakes policy inspected fewer than 7 cells in 83.0% of the high-dispersion trials.\n",
      "The low-stakes policy inspected more than 7 cells in 0.0% of the high-dispersion trials.\n",
      "The low-stakes policy inspected more than 1 outcome in 0.0% of the high-dispersion trials.\n"
     ]
    },
    {
     "data": {
      "image/png": "[encoded data removed]",
      "text/plain": [
       "<matplotlib.figure.Figure at 0x7fb660bb2d30>"
      ]
     },
     "metadata": {},
     "output_type": "display_data"
    }
   ],
   "source": [
    "plt.figure()\n",
    "plt.hist(hd_ls['nr_inspected_outcomes'])\n",
    "plt.xlabel('Number of inspected outcomes')\n",
    "plt.ylabel('Frequency in %')\n",
    "\n",
    "print(np.sum(np.array(hd_ls['nr_inspected_outcomes'])==2))\n",
    "\n",
    "print(\"The low-stakes policy inspected exactly 7 cells in {}% of the high-dispersion trials.\".format(100*np.mean(np.array(hd_ls['nr_clicks'])==7)))\n",
    "print(\"The low-stakes policy inspected fewer than 7 cells in {}% of the high-dispersion trials.\".format(100*np.mean(np.array(hd_ls['nr_clicks'])<7)))\n",
    "print(\"The low-stakes policy inspected more than 7 cells in {}% of the high-dispersion trials.\".format(100*np.mean(np.array(hd_ls['nr_clicks'])>7)))\n",
    "print(\"The low-stakes policy inspected more than 1 outcome in {}% of the high-dispersion trials.\".format(100*np.mean(np.array(hd_ls['nr_inspected_outcomes'])>1)))"
   ]
  },
  {
   "cell_type": "code",
   "execution_count": 38,
   "metadata": {
    "collapsed": false
   },
   "outputs": [
    {
     "name": "stdout",
     "output_type": "stream",
     "text": [
      "In  1e+02% of the high-dispersion problems, the low-stakes policy considered only the most probably outcome.\n",
      "\n",
      "In the high-dispersion environment the BO policy made between 1 and 7 clicks. The average number of clicks was 3.6.\n",
      "\n",
      " Example: \n",
      "[[ 0.06  0.02  0.01  0.91]\n",
      " [ 0.    0.    0.    1.  ]\n",
      " [ 0.    0.    0.    2.  ]\n",
      " [ 0.    0.    0.    3.  ]\n",
      " [ 0.    0.    0.    4.  ]\n",
      " [ 0.    0.    0.    5.  ]\n",
      " [ 0.    0.    0.    6.  ]\n",
      " [ 0.    0.    0.    7.  ]]\n",
      "[[ 0.068  0.125  0.082  0.044]\n",
      " [ 0.159  0.18   0.115  0.149]\n",
      " [ 0.126  0.119  0.159  0.066]\n",
      " [ 0.084  0.165  0.049  0.088]\n",
      " [ 0.166  0.071  0.128  0.077]\n",
      " [ 0.124  0.201  0.055  0.155]\n",
      " [ 0.175  0.15   0.109  0.168]]\n"
     ]
    },
    {
     "data": {
      "image/png": "[encoded data removed]",
      "text/plain": [
       "<matplotlib.figure.Figure at 0x7fb65819f6a0>"
      ]
     },
     "metadata": {},
     "output_type": "display_data"
    }
   ],
   "source": [
    "print(\"In {:6.3}% of the high-dispersion problems, the low-stakes policy considered only the most probably outcome.\".format(100*np.mean(hd_ls['best_outcome_only'])))\n",
    "print(\"\")\n",
    "avg_nr_clicks_hd_ls=np.mean(hd_ls['nr_clicks'])\n",
    "min_nr_clicks_hd_ls=np.min(hd_ls['nr_clicks'])\n",
    "max_nr_clicks_hd_ls=np.max(hd_ls['nr_clicks'])\n",
    "\n",
    "print('In the high-dispersion environment the BO policy made between {} and {} clicks. The average number of clicks was {:3.2}.'.format(min_nr_clicks_hd_ls,max_nr_clicks_hd_ls,avg_nr_clicks_hd_ls))\n",
    "\n",
    "plt.figure()\n",
    "plt.hist(hd_ls['nr_clicks'])\n",
    "plt.xlabel('Number of clicks (out of 28)')\n",
    "plt.ylabel('Frequency out of 100')\n",
    "\n",
    "print(\"\\n Example: \")\n",
    "print(hd_ls['p_grids'][0])\n",
    "print(hd_ls_envs[0].grid())"
   ]
  },
  {
   "cell_type": "markdown",
   "metadata": {},
   "source": [
    "## Properties of the low-stakes strategy in the high-dispersion environment\n",
    "\n",
    "For a time cost of 0.5 cents per click the resource-rational strategy for the high-dispersion, low-stakes environment, is SAT-TTB or TTB in 100% of the trials. While this is similar to the high-dispersion, high-stakes condition, we also found a significant effect of the stakes: With lower stakes, the proportion of trials on which TTB is used decreases from 76% in the high-stakes condition to 39% in the low-stakes condition. Furthermore, strategies that inspect more than one attribute are no longer used in the low-stakes condition, and the average number of clicks decreases from 6.5 in the high-stakes conditoin to 4.5 clicks in the low-stakes condition."
   ]
  },
  {
   "cell_type": "code",
   "execution_count": 39,
   "metadata": {
    "collapsed": false
   },
   "outputs": [
    {
     "name": "stdout",
     "output_type": "stream",
     "text": [
      "Aspiration level after 1 clicks: 0.1794263427669214\n",
      "Aspiration level after 2 clicks: 0.17036263451984662\n",
      "Aspiration level after 3 clicks: 0.17110541306605245\n",
      "Aspiration level after 4 clicks: 0.17921596667053946\n",
      "Aspiration level after 5 clicks: 0.172737923585995\n",
      "average aspiration level: $0.193\n",
      "average aspiration level: 0.871 standard deviations above mean\n"
     ]
    },
    {
     "data": {
      "image/png": "[encoded data removed]",
      "text/plain": [
       "<matplotlib.figure.Figure at 0x7fb660c27940>"
      ]
     },
     "metadata": {},
     "output_type": "display_data"
    }
   ],
   "source": [
    "click_nrs = np.unique(hd_ls['nr_clicks'])\n",
    "nr_clicks = np.array(hd_ls['nr_clicks'])\n",
    "expected_returns = np.array(hd_ls['expected_term_rewards'])\n",
    "\n",
    "aspiration_levels = dict()\n",
    "\n",
    "for n in click_nrs[:-2]:\n",
    "    print(\"Aspiration level after {} clicks: {}\".format(n,np.min(expected_returns[nr_clicks==n])))\n",
    "    aspiration_levels[n] = (np.min(expected_returns[nr_clicks==n])-mu_R_low_stakes)/sigma_R_low_stakes\n",
    "\n",
    "plt.figure()\n",
    "plt.plot(nr_alternatives*nr_outcomes-np.array([float(val) for val in aspiration_levels.keys()]),aspiration_levels.values())\n",
    "plt.ylabel('Aspiration Level (z-score)')\n",
    "plt.xlabel('Number uninspected cells')\n",
    "\n",
    "aspiration_level_classical = np.min(expected_returns[np.array(hd_ls['nr_clicks'])<nr_alternatives])\n",
    "aspiration_level = np.mean(expected_returns)\n",
    "print('average aspiration level: ${:.3}'.format(aspiration_level))\n",
    "print('average aspiration level: {:.3} standard deviations above mean'.format((aspiration_level-mu_R_low_stakes)/sigma_R_low_stakes))\n",
    "\n",
    "#hd_hs['observations'][2]"
   ]
  },
  {
   "cell_type": "markdown",
   "metadata": {},
   "source": [
    "# Low stakes, low dispersion"
   ]
  },
  {
   "cell_type": "code",
   "execution_count": 92,
   "metadata": {
    "collapsed": false
   },
   "outputs": [],
   "source": [
    "#bo_pol_theta = np.load('data/low_stakes_trunc_1cents-2.npy')#np.load('data/low_stakes_1cents.npy')\n",
    "#bo_pol_theta = np.load('data/ls_ld_1cents-2.npy')#np.load('data/low_stakes_1cents.npy')\n",
    "bo_pol_theta = np.load('data/om_bmps_pols/best/ls_ld_1cents.npy')\n",
    "bo_pol_low_stakes = LiederPolicy(list(bo_pol_theta))\n",
    "\n",
    "cost = 0.01\n",
    "reward = low_stakes\n",
    "\n",
    "n_test=100\n",
    "ld_ls_envs = [OldMouselabEnv(gambles, ld_dist(attributes), reward, cost) for _ in range(n_test)]\n",
    "\n",
    "term_action = ld_ls_envs[0].term_action"
   ]
  },
  {
   "cell_type": "code",
   "execution_count": 97,
   "metadata": {
    "collapsed": false
   },
   "outputs": [],
   "source": [
    "#ld_ls = characterize_strategy(bo_pol_low_stakes,ld_ls_envs)#\n",
    "#save_obj(ld_ls,'low_dispersion_low_stakes_1cents-separate')\n",
    "ld_ls = load_obj('low_dispersion_low_stakes_1cents-separate')\n",
    "#ld_ls = load_obj('low_dispersion_low_stakes_1cents')"
   ]
  },
  {
   "cell_type": "code",
   "execution_count": 98,
   "metadata": {
    "collapsed": false
   },
   "outputs": [
    {
     "ename": "NameError",
     "evalue": "name 'ld_ls_envs' is not defined",
     "output_type": "error",
     "traceback": [
      "\u001b[0;31m---------------------------------------------------------------------------\u001b[0m",
      "\u001b[0;31mNameError\u001b[0m                                 Traceback (most recent call last)",
      "\u001b[0;32m<ipython-input-98-2e9493e5362f>\u001b[0m in \u001b[0;36m<module>\u001b[0;34m()\u001b[0m\n\u001b[1;32m      4\u001b[0m \u001b[0;31m#    test_envs_hd[0].step(a)\u001b[0m\u001b[0;34m\u001b[0m\u001b[0;34m\u001b[0m\u001b[0m\n\u001b[1;32m      5\u001b[0m \u001b[0;34m\u001b[0m\u001b[0m\n\u001b[0;32m----> 6\u001b[0;31m \u001b[0;32mfor\u001b[0m \u001b[0mi\u001b[0m \u001b[0;32min\u001b[0m \u001b[0mrange\u001b[0m\u001b[0;34m(\u001b[0m\u001b[0mlen\u001b[0m\u001b[0;34m(\u001b[0m\u001b[0mld_ls_envs\u001b[0m\u001b[0;34m)\u001b[0m\u001b[0;34m)\u001b[0m\u001b[0;34m:\u001b[0m\u001b[0;34m\u001b[0m\u001b[0m\n\u001b[0m\u001b[1;32m      7\u001b[0m     \u001b[0mmax_EV\u001b[0m \u001b[0;34m=\u001b[0m \u001b[0mnp\u001b[0m\u001b[0;34m.\u001b[0m\u001b[0mappend\u001b[0m\u001b[0;34m(\u001b[0m\u001b[0mmax_EV\u001b[0m\u001b[0;34m,\u001b[0m\u001b[0;34m[\u001b[0m\u001b[0mexpected_reward_of_termination\u001b[0m\u001b[0;34m(\u001b[0m\u001b[0mld_ls_envs\u001b[0m\u001b[0;34m[\u001b[0m\u001b[0mi\u001b[0m\u001b[0;34m]\u001b[0m\u001b[0;34m,\u001b[0m\u001b[0mall_actions\u001b[0m\u001b[0;34m)\u001b[0m\u001b[0;34m]\u001b[0m\u001b[0;34m)\u001b[0m\u001b[0;34m\u001b[0m\u001b[0m\n\u001b[1;32m      8\u001b[0m \u001b[0;34m\u001b[0m\u001b[0m\n",
      "\u001b[0;31mNameError\u001b[0m: name 'ld_ls_envs' is not defined"
     ]
    }
   ],
   "source": [
    "max_EV = np.array([])\n",
    "all_actions = np.arange(28)\n",
    "#for a in all_actions:\n",
    "#    test_envs_hd[0].step(a)\n",
    "\n",
    "for i in range(len(ld_ls_envs)):\n",
    "    max_EV = np.append(max_EV,[expected_reward_of_termination(ld_ls_envs[i],all_actions)])\n",
    "    \n",
    "max_EV_ld_ls = np.mean(max_EV)\n",
    "\n",
    "np.mean(ld_ls['returns'])/max_EV_ld_ls\n",
    "\n",
    "print(\"The resource-rational strategy reaps {:.4}% of the highest possible payoffs.\".format(100*np.mean(ld_ls['returns'])/max_EV_ld_ls))"
   ]
  },
  {
   "cell_type": "markdown",
   "metadata": {},
   "source": [
    "## Determine under which conditions the low-stakes policy inspects cells in the low-stakes, ls-ld environment"
   ]
  },
  {
   "cell_type": "code",
   "execution_count": 99,
   "metadata": {
    "collapsed": false
   },
   "outputs": [
    {
     "name": "stdout",
     "output_type": "stream",
     "text": [
      "No cells are inspected if the largest probability is 0.39 or smaller.\n"
     ]
    },
    {
     "data": {
      "text/plain": [
       "1.0"
      ]
     },
     "execution_count": 99,
     "metadata": {},
     "output_type": "execute_result"
    }
   ],
   "source": [
    "nr_trials = len(ld_ls['nr_clicks'])\n",
    "\n",
    "#for t in range(nr_trials):\n",
    "np.array(ld_ls['nr_clicks'])==0\n",
    "\n",
    "max_p = np.array([])\n",
    "for t in range(nr_trials):\n",
    "    max_p = np.append(max_p, [np.max(ld_ls['p_grids'][t][0])])\n",
    "    \n",
    "\n",
    "print(\"No cells are inspected if the largest probability is {:.4} or smaller.\".format(np.max(max_p[np.array(ld_ls['nr_clicks'])==0])))\n",
    "#print(\"Cells are inspected if the largest probability is at least {:.4}.\".format(np.min(max_p[np.array(ld_ls['nr_clicks'])>0])))\n",
    "\n",
    "np.mean(np.array(ld_ls['nr_clicks'])==0)\n",
    "\n",
    "#np.min(max_p)\n",
    "#np.array(ld_ls['nr_clicks'])==0"
   ]
  },
  {
   "cell_type": "code",
   "execution_count": 100,
   "metadata": {
    "collapsed": false
   },
   "outputs": [
    {
     "name": "stdout",
     "output_type": "stream",
     "text": [
      "On 100.0% of the ls-ld trials the resource-rational strategy is random choice.\n",
      "On 0.0% of the ls-ld trials the click squences of the high-stakes policy were consistent with SAT-TTB.\n",
      "On 0.0% of the ls-ld trials the click squences of the high-stakes policy were consistent with TTB.\n",
      "On 0.0% of the ls-ld trials the click squences of the high-stakes policy was consistent with WADD.\n",
      "On 0.0% of the ls-ld trials the click squences of the high-stakes policy was consistent with TTB+.\n",
      "On 0.0% of the ls-ld trials the resource-rational strategy is SAT-TTB2.\n",
      "On 0.0% of the ls-ld trials the resource-rational strategy is SAT-TTB3.\n",
      "On 0.0% of the ls-ld trials the resource-rational strategy is TTB2.\n",
      "On 0.0% of the ls-ld trials the resource-rational strategy is TTB2+.\n"
     ]
    }
   ],
   "source": [
    "strategies['ls_ld']=dict()\n",
    "\n",
    "strategies['ls_ld']['TTB'] = np.array([])\n",
    "strategies['ls_ld']['WADD'] = np.array([])\n",
    "strategies['ls_ld']['SAT_TTB'] = np.array([])\n",
    "strategies['ls_ld']['random_choice'] = np.array([])\n",
    "strategies['ls_ld']['SAT_TTB2'] = np.array([])\n",
    "strategies['ls_ld']['TTB2']=np.array([])\n",
    "strategies['ls_ld']['TTB2_plus']=np.array([])\n",
    "strategies['ls_ld']['SAT_TTB3'] = np.array([])\n",
    "strategies['ls_ld']['TTB_plus'] = np.array([])\n",
    "\n",
    "for i in range(n_test):\n",
    "    strategies['ls_ld']['TTB'] =  np.append(strategies['ls_ld']['TTB'], [ld_ls['nr_clicks'][i]==nr_alternatives and ld_ls['best_outcome_only'][i]])\n",
    "    strategies['ls_ld']['WADD']=  np.append(strategies['ls_ld']['WADD'],[ld_ls['nr_clicks'][i]==nr_alternatives*nr_outcomes])\n",
    "    strategies['ls_ld']['SAT_TTB'] = np.append(strategies['ls_ld']['SAT_TTB'], [ld_ls['best_outcome_only'][i] and ld_ls['nr_clicks'][i]>0 and ld_ls['nr_clicks'][i]<nr_alternatives])\n",
    "    strategies['ls_ld']['random_choice'] = np.append(strategies['ls_ld']['random_choice'], [ld_ls['nr_clicks'][i]==0])\n",
    "    strategies['ls_ld']['SAT_TTB2']=np.append(strategies['ls_ld']['SAT_TTB2'],[np.logical_and(np.all(ld_ls['p_ranks'][i]<=2), ld_ls['nr_inspected_outcomes'][i]==2 and ld_ls['nr_clicks'][i]<2*nr_alternatives) ])\n",
    "    strategies['ls_ld']['SAT_TTB3']=np.append(strategies['ls_ld']['SAT_TTB3'],[np.logical_and(np.all(ld_ls['p_ranks'][i]<=3), ld_ls['nr_inspected_outcomes'][i]==3 and ld_ls['nr_clicks'][i]<3*nr_alternatives) ])\n",
    "    strategies['ls_ld']['TTB2']=np.append(strategies['ls_ld']['TTB2'],[np.logical_and(np.all(ld_ls['p_ranks'][i]<=2),  ld_ls['nr_inspected_outcomes'][i]==2 and ld_ls['nr_clicks'][i]==2*nr_alternatives)])\n",
    "    strategies['ls_ld']['TTB2_plus']=np.append(strategies['ls_ld']['TTB2_plus'],[np.logical_and(np.all(ld_ls['p_ranks'][i][0:13]<=2),ld_ls['nr_clicks'][i]>14)])\n",
    "    strategies['ls_ld']['TTB_plus']=np.append(strategies['ls_ld']['TTB_plus'],[np.logical_and(np.all(np.unique(ld_ls['p_ranks'][i][:nr_alternatives-1])==[1]),ld_ls['nr_clicks'][-1]>nr_alternatives)])\n",
    "    \n",
    "print(\"On {}% of the ls-ld trials the resource-rational strategy is random choice.\".format(100*np.mean(strategies['ls_ld']['random_choice'])))\n",
    "print(\"On {}% of the ls-ld trials the click squences of the high-stakes policy were consistent with SAT-TTB.\".format(100*np.mean(strategies['ls_ld']['SAT_TTB'])))\n",
    "print(\"On {}% of the ls-ld trials the click squences of the high-stakes policy were consistent with TTB.\".format(100*np.mean(strategies['ls_ld']['TTB'])))\n",
    "print(\"On {}% of the ls-ld trials the click squences of the high-stakes policy was consistent with WADD.\".format(100*np.mean(strategies['ls_ld']['WADD'])))\n",
    "print(\"On {}% of the ls-ld trials the click squences of the high-stakes policy was consistent with TTB+.\".format(100*np.mean(strategies['ls_ld']['TTB_plus'])))\n",
    "print(\"On {}% of the ls-ld trials the resource-rational strategy is SAT-TTB2.\".format(100*np.mean(strategies['ls_ld']['SAT_TTB2'])))\n",
    "print(\"On {}% of the ls-ld trials the resource-rational strategy is SAT-TTB3.\".format(100*np.mean(strategies['ls_ld']['SAT_TTB3'])))\n",
    "print(\"On {}% of the ls-ld trials the resource-rational strategy is TTB2.\".format(100*np.mean(strategies['ls_ld']['TTB2'])))\n",
    "print(\"On {}% of the ls-ld trials the resource-rational strategy is TTB2+.\".format(100*np.mean(strategies['ls_ld']['TTB2_plus'])))\n",
    "\n",
    "strategy_freq=dict()\n",
    "total = 0\n",
    "for strategy in strategies['ls_ld'].keys():\n",
    "    strategy_freq[strategy]=np.mean(strategies['ls_ld'][strategy])\n",
    "    total += strategy_freq[strategy]\n",
    "strategy_freq['other'] = 1-total\n",
    "\n",
    "strategy_frequencies['ls_ld']=strategy_freq"
   ]
  },
  {
   "cell_type": "code",
   "execution_count": null,
   "metadata": {
    "collapsed": false
   },
   "outputs": [],
   "source": [
    "nr_clicks =np.array(ld_ls['nr_clicks'])\n",
    "alternative_based = np.array(ld_ls['nr_alternative_based_clicks'])\n",
    "attribute_based = np.array(ld_ls['nr_attribute_based_clicks'])\n",
    "\n",
    "prop_alternative_based_clicks = np.mean(alternative_based[nr_clicks>1]/(nr_clicks[nr_clicks>1]-1))\n",
    "prop_attribute_based_clicks = np.mean(attribute_based[nr_clicks>1]/(nr_clicks[nr_clicks>1]-1))\n",
    "prop_other = 1 - (prop_alternative_based_clicks + prop_attribute_based_clicks)\n",
    "#ld_ls['transitions_within_alternative']\n",
    "\n",
    "print('In the hs-ld environment {:.4}% of the clicks transitioned within the same attribute, {:.4}% transitioned within the same alternative, and the remaining {:.4}% of clicks switched both the attribute and the alternative.'.format(100*prop_attribute_based_clicks,100*prop_alternative_based_clicks,100*prop_other))"
   ]
  },
  {
   "cell_type": "code",
   "execution_count": null,
   "metadata": {
    "collapsed": false
   },
   "outputs": [],
   "source": [
    "plt.figure()\n",
    "plt.hist(ld_ls['nr_inspected_outcomes'])\n",
    "plt.xlabel('Number of inspected outcomes')\n",
    "plt.ylabel('Frequency in %')\n",
    "\n",
    "print(\"The low-stakes policy inspected more than 7 cells in {}% of the hs-ld trials.\".format(100*np.mean(np.array(ld_ls['nr_clicks'])>7)))\n",
    "print(\"The low-stakes policy inspected more than 1 outcome in {}% of the hs-ld trials.\".format(100*np.mean(np.array(ld_ls['nr_inspected_outcomes'])>1)))"
   ]
  },
  {
   "cell_type": "code",
   "execution_count": null,
   "metadata": {
    "collapsed": false
   },
   "outputs": [],
   "source": [
    "print(\"In {:6.3}% of the hs-ld problems, the low-stakes policy considered only the most probable outcome.\".format(100*np.mean(ld_ls['best_outcome_only'])))\n",
    "print(\"\")\n",
    "avg_nr_clicks_ld_ls=np.mean(ld_ls['nr_clicks'])\n",
    "min_nr_clicks_ld_ls=np.min(ld_ls['nr_clicks'])\n",
    "max_nr_clicks_ld_ls=np.max(ld_ls['nr_clicks'])\n",
    "\n",
    "print('In the hs-ld environment the BO policy made between {} and {} clicks. The average number of clicks was {:3.2}.'.format(min_nr_clicks_ld_ls,max_nr_clicks_ld_ls,avg_nr_clicks_ld_ls))\n",
    "\n",
    "print('\\nOn {}% of the low-stakes, hs-ld environment the LC policy inspected only a single payoff.'.format(100*np.mean(np.array(ld_ls['nr_clicks'])==1))) \n",
    "print('\\nOn {}% of the low-stakes, hs-ld environment the LC policy inspected only two payoffs.'.format(100*np.mean(np.array(ld_ls['nr_clicks'])==2))) \n",
    "\n",
    "\n",
    "plt.figure()\n",
    "plt.hist(ld_ls['nr_clicks'],bins=np.arange(0.5,np.max(ld_ls['nr_clicks'])+0.5,1))\n",
    "plt.xlabel('Number of clicks (out of 28)')\n",
    "plt.ylabel('Frequency out of 100')\n",
    "\n",
    "print(\"\\n Example: \")\n",
    "print(ld_ls['p_grids'][13])\n",
    "print(ld_ls_envs[13].grid())"
   ]
  },
  {
   "cell_type": "markdown",
   "metadata": {},
   "source": [
    "## Properties of the low-stakes strategy in the hs-ld environment\n",
    "\n",
    "In the *low-stakes, hs-ld environment* with a cost of 0.5 cents per click, SAT-TTB was resource-rational for 69% of the problems. TTB was resource-rational for 6% of those problems. This means that for 63% of the problems SAT-TTB was resource-rational and did not inspect all of the outcomes. Neither random choice or WADD were resource-rational for any of these problems.\n",
    "\n",
    "Comparing these numbers to the high-dispersion environment with low-stakes reveals a 31% decrease in the use of SAT-TTB for hs-ld compared to high-dispersion. This makes sense given that SAT-TTB is a non-compensatory strategy. \n",
    "\n",
    "Despite all outcomes being almost equally likely, the resource-rational strategy was predominantly attribute-based rather than alternative based: 68.6% of the clicks transitioned within the same attribute whereas only 0.6604% transitioned within the same alternative, and the remaining 30.74% of clicks switched both the attribute and the alternative.\n",
    "\n",
    "The number of clicks ranged from 1 to 12, and the average number of clicks was 4.1. Consistent with the small number of clicks, the aspiration level was consistently low -- at most requiring the payoff to be at last 0.154 standard deviations above the mean. This is 9 clicks fewer than in the condition with high-stakes and hs-ld. This illustrates the effect of stakes on the resource-rational planning.\n",
    "\n",
    "In the 31% of problems where SAT-TTB was not used, it started with SAT-TTB, encountered a near-tie between two promising gambles and then started inspected those gambles' payoffs for other outcomes. Interestingly, in resolving those ties, the LC policy often inspected an additional payoff of the second-best gamble. If that payoff was low, then the it was ruled out and the current-best gamble was chosen. If the second-best gamble's second payoff was similar to the first one, then the LC policy inspected a second payoff for the current-best gamble, and so on."
   ]
  },
  {
   "cell_type": "code",
   "execution_count": null,
   "metadata": {
    "collapsed": false,
    "scrolled": true
   },
   "outputs": [],
   "source": [
    "click_nrs = np.unique(ld_ls['nr_clicks'])\n",
    "nr_clicks = np.array(ld_ls['nr_clicks'])\n",
    "expected_returns = np.array(ld_ls['expected_term_rewards'])\n",
    "\n",
    "aspiration_levels = dict()\n",
    "\n",
    "for n in click_nrs[:-2]:\n",
    "    print(\"Aspiration level after {} clicks: {}\".format(n,np.min(expected_returns[nr_clicks==n])))\n",
    "    aspiration_levels[n] = (np.min(expected_returns[nr_clicks==n])-mu_R_low_stakes)/sigma_R_low_stakes\n",
    "\n",
    "plt.figure()\n",
    "plt.plot(nr_alternatives*nr_outcomes-np.array([float(val) for val in aspiration_levels.keys()]),aspiration_levels.values())\n",
    "plt.ylabel('Aspiration Level (z-score)')\n",
    "plt.xlabel('Number uninspected cells')\n",
    "\n",
    "aspiration_level_classical = np.min(expected_returns[np.array(ld_ls['nr_clicks'])<nr_alternatives])\n",
    "aspiration_level = np.mean(expected_returns)\n",
    "print('average aspiration level: ${:.3}'.format(aspiration_level))\n",
    "print('average aspiration level: {:.3} standard deviations above mean'.format((aspiration_level-mu_R_low_stakes)/sigma_R_low_stakes))\n",
    "(aspiration_level-mu_R_low_stakes)/(sigma_R_low_stakes)"
   ]
  },
  {
   "cell_type": "code",
   "execution_count": null,
   "metadata": {
    "collapsed": false
   },
   "outputs": [],
   "source": [
    "ld_ls_envs = [OldMouselabEnv(gambles, ld_dist(attributes), reward, cost) for _ in range(n_test)]\n",
    "\n",
    "bo_pol_theta_prev = np.load('data/low_stakes_1cents-previous.npy')\n",
    "bo_pol_prev = LiederPolicy(list(bo_pol_theta_prev))\n",
    "\n",
    "traces_prev_ld = run_policy(bo_pol_prev,ld_ls_envs)\n",
    "traces_cur_ld = run_policy(bo_pol_low_stakes,ld_ls_envs)"
   ]
  },
  {
   "cell_type": "code",
   "execution_count": null,
   "metadata": {
    "collapsed": false
   },
   "outputs": [],
   "source": [
    "hd_ls_envs = [OldMouselabEnv(gambles, hd_dist(attributes), reward, cost) for _ in range(n_test)]\n",
    "\n",
    "traces_prev_hd = run_policy(bo_pol_prev,hd_ls_envs)\n",
    "traces_cur_hd = run_policy(bo_pol_low_stakes,hd_ls_envs)"
   ]
  },
  {
   "cell_type": "code",
   "execution_count": 32,
   "metadata": {
    "collapsed": false
   },
   "outputs": [
    {
     "name": "stdout",
     "output_type": "stream",
     "text": [
      "prev: 0.13003107979458264 +/- 0.0010507421248474847 vs. current: 0.1254577079980329 +/- 0.002014986165049964\n"
     ]
    }
   ],
   "source": [
    "net_performance_prev = np.array([])\n",
    "net_performance_cur = np.array([])\n",
    "\n",
    "for trace in traces_prev_ld:\n",
    "    net_performance_prev = np.append(net_performance_prev,trace['util'])\n",
    "    \n",
    "for trace in traces_cur_ld:\n",
    "    net_performance_cur = np.append(net_performance_cur,trace['util'])\n",
    "\n",
    "print(\"hs-ld: prev: {} +/- {} vs. current: {} +/- {}\".format(np.mean(net_performance_prev),np.std(net_performance_prev)/np.sqrt(n_test),np.mean(net_performance_cur),np.std(net_performance_cur)/np.sqrt(n_test)))\n"
   ]
  },
  {
   "cell_type": "code",
   "execution_count": 34,
   "metadata": {
    "collapsed": false
   },
   "outputs": [
    {
     "name": "stdout",
     "output_type": "stream",
     "text": [
      "high-dispersion: prev: 0.15562021490394579 +/- 0.0037600059304832645 vs. current: 0.15606472019666456 +/- 0.0036380654678772424\n"
     ]
    }
   ],
   "source": [
    "net_performance_prev = np.array([])\n",
    "net_performance_cur = np.array([])\n",
    "\n",
    "for trace in traces_prev_hd:\n",
    "    net_performance_prev = np.append(net_performance_prev,trace['util'])\n",
    "    \n",
    "for trace in traces_cur_hd:\n",
    "    net_performance_cur = np.append(net_performance_cur,trace['util'])\n",
    "\n",
    "print(\"high-dispersion: prev: {} +/- {} vs. current: {} +/- {}\".format(np.mean(net_performance_prev),np.std(net_performance_prev)/np.sqrt(n_test),np.mean(net_performance_cur),np.std(net_performance_cur)/np.sqrt(n_test)))\n"
   ]
  },
  {
   "cell_type": "markdown",
   "metadata": {},
   "source": [
    "## Save predictions"
   ]
  },
  {
   "cell_type": "code",
   "execution_count": 103,
   "metadata": {
    "collapsed": false
   },
   "outputs": [
    {
     "name": "stdout",
     "output_type": "stream",
     "text": [
      "case_study1.npy\r\n",
      "case_study2.npy\r\n",
      "case_study3.npy\r\n",
      "case_study4.npy\r\n",
      "comb_1cents.npy\r\n",
      "comb_val_1cents_results\r\n",
      "constant_high.json\r\n",
      "constant_low.json\r\n",
      "DC_high_dispersion_high_stakes_separate_1cents.pkl\r\n",
      "DC_high_dispersion_low_stakes_1cents_separate.pkl\r\n",
      "DC_low_dispersion_high_stakes_1cents_separate.pkl\r\n",
      "DC_low_dispersion_low_stakes_1cents-separate.pkl\r\n",
      "decreasing.json\r\n",
      "eval_envs_backward_planning.pkl\r\n",
      "exp_envs.csv\r\n",
      "hd_hs_envs_0.5cents.pkl\r\n",
      "high_dispersion_high_stakes_0.5cents.pkl\r\n",
      "high_dispersion_high_stakes_1cents.pkl\r\n",
      "high_dispersion_high_stakes_1cents_trunc.pkl\r\n",
      "high_dispersion_high_stakes.pkl\r\n",
      "high_dispersion_high_stakes_separate_1cents.pkl\r\n",
      "high_dispersion_low_stakes_0.5cents.pkl\r\n",
      "high_dispersion_low_stakes_1cents.pkl\r\n",
      "high_dispersion_low_stakes_1cents_separate.pkl\r\n",
      "high_dispersion_low_stakes_3cents.pkl\r\n",
      "high_dispersion_low_stakes.pkl\r\n",
      "increasing.json\r\n",
      "LC_policies_backward_planning.npy\r\n",
      "LC_policy_by_environment.npy\r\n",
      "LC_policy_weights_backward_planning.npy\r\n",
      "low_dispersion_high_stakes_0.5cents.pkl\r\n",
      "low_dispersion_high_stakes_1cents.pkl\r\n",
      "low_dispersion_high_stakes_1cents_separate.pkl\r\n",
      "low_dispersion_high_stakes_1cents_trunc.pkl\r\n",
      "low_dispersion_high_stakes.pkl\r\n",
      "low_dispersion_low_stakes_0.5cents.pkl\r\n",
      "low_dispersion_low_stakes_1cents.pkl\r\n",
      "low_dispersion_low_stakes_1cents-separate.pkl\r\n",
      "low_dispersion_low_stakes_1cents-truncated2.pkl\r\n",
      "low_dispersion_low_stakes.pkl\r\n",
      "om_bmps_pols\r\n",
      "performance_by_environment.npy\r\n",
      "policy_0.1.pkl\r\n",
      "policy_1.25.pkl\r\n",
      "policy_4.0.pkl\r\n",
      "policy_human_states_0.1.pkl\r\n",
      "policy_human_states_1.25.pkl\r\n",
      "policy_human_states_4.0.pkl\r\n",
      "results_backward_planning.npy\r\n",
      "results_variance_structures.npy\r\n",
      "strategy_frequencies_RR.pkl\r\n",
      "val_envs_1cents\r\n",
      "val_envs_1cents-2\r\n",
      "weather\r\n",
      "weights_by_environment(binary).npy\r\n",
      "weights_by_environment.npy\r\n"
     ]
    }
   ],
   "source": [
    "save_obj(strategy_frequencies, 'strategy_frequencies_RR')"
   ]
  },
  {
   "cell_type": "markdown",
   "metadata": {},
   "source": [
    "## Summary statistics"
   ]
  },
  {
   "cell_type": "code",
   "execution_count": null,
   "metadata": {
    "collapsed": false
   },
   "outputs": [],
   "source": [
    "(avg_nr_clicks_hd_hs+avg_nr_clicks_ld_hs)/2"
   ]
  },
  {
   "cell_type": "code",
   "execution_count": null,
   "metadata": {
    "collapsed": false
   },
   "outputs": [],
   "source": [
    "(avg_nr_clicks_hd_ls+avg_nr_clicks_ld_ls)/2"
   ]
  },
  {
   "cell_type": "code",
   "execution_count": null,
   "metadata": {
    "collapsed": false
   },
   "outputs": [],
   "source": [
    "[[avg_nr_clicks_ld_ls,avg_nr_clicks_hd_ls],[avg_nr_clicks_ld_hs,avg_nr_clicks_hd_hs]]"
   ]
  },
  {
   "cell_type": "code",
   "execution_count": 43,
   "metadata": {
    "collapsed": false
   },
   "outputs": [
    {
     "data": {
      "text/plain": [
       "[[0.13, 0.15886276944240951], [6.535338430287462, 7.7737579642570394]]"
      ]
     },
     "execution_count": 43,
     "metadata": {},
     "output_type": "execute_result"
    }
   ],
   "source": [
    "[[np.mean(ld_ls['returns']),np.mean(hd_ls['returns'])],[np.mean(ld_hs['returns']),np.mean(hd_hs['returns'])]]"
   ]
  },
  {
   "cell_type": "code",
   "execution_count": 45,
   "metadata": {
    "collapsed": false
   },
   "outputs": [
    {
     "data": {
      "text/plain": [
       "[[0.8461538461538461, 0.8750000000000001],\n",
       " [0.8837920489296637, 0.9292149292149292]]"
      ]
     },
     "execution_count": 45,
     "metadata": {},
     "output_type": "execute_result"
    }
   ],
   "source": [
    "[[0.11/0.13,0.14/0.16],[5.78/6.54,7.22/7.77]]"
   ]
  },
  {
   "cell_type": "code",
   "execution_count": 46,
   "metadata": {
    "collapsed": false
   },
   "outputs": [
    {
     "data": {
      "text/plain": [
       "0.88354020607460981"
      ]
     },
     "execution_count": 46,
     "metadata": {},
     "output_type": "execute_result"
    }
   ],
   "source": [
    "np.mean(np.array([0.8461538461538461, 0.8750000000000001,0.8837920489296637, 0.9292149292149292]))"
   ]
  },
  {
   "cell_type": "code",
   "execution_count": 47,
   "metadata": {
    "collapsed": false
   },
   "outputs": [
    {
     "data": {
      "text/plain": [
       "0.86057692307692313"
      ]
     },
     "execution_count": 47,
     "metadata": {},
     "output_type": "execute_result"
    }
   ],
   "source": [
    "np.mean([0.8461538461538461, 0.8750000000000001])"
   ]
  },
  {
   "cell_type": "code",
   "execution_count": 48,
   "metadata": {
    "collapsed": false
   },
   "outputs": [
    {
     "data": {
      "text/plain": [
       "0.9065034890722965"
      ]
     },
     "execution_count": 48,
     "metadata": {},
     "output_type": "execute_result"
    }
   ],
   "source": [
    "np.mean([0.8837920489296637, 0.9292149292149292])"
   ]
  },
  {
   "cell_type": "code",
   "execution_count": 49,
   "metadata": {
    "collapsed": false
   },
   "outputs": [
    {
     "data": {
      "text/plain": [
       "0.86497294754175491"
      ]
     },
     "execution_count": 49,
     "metadata": {},
     "output_type": "execute_result"
    }
   ],
   "source": [
    "np.mean([0.8461538461538461, 0.8837920489296637])"
   ]
  },
  {
   "cell_type": "code",
   "execution_count": 50,
   "metadata": {
    "collapsed": false
   },
   "outputs": [
    {
     "data": {
      "text/plain": [
       "0.90210746460746472"
      ]
     },
     "execution_count": 50,
     "metadata": {},
     "output_type": "execute_result"
    }
   ],
   "source": [
    "np.mean([0.8750000000000001, 0.9292149292149292])"
   ]
  },
  {
   "cell_type": "code",
   "execution_count": null,
   "metadata": {
    "collapsed": true
   },
   "outputs": [],
   "source": []
  }
 ],
 "metadata": {
  "kernelspec": {
   "display_name": "Python 3",
   "language": "python",
   "name": "python3"
  },
  "language_info": {
   "codemirror_mode": {
    "name": "ipython",
    "version": 3
   },
   "file_extension": ".py",
   "mimetype": "text/x-python",
   "name": "python",
   "nbconvert_exporter": "python",
   "pygments_lexer": "ipython3",
   "version": "3.6.3"
  }
 },
 "nbformat": 4,
 "nbformat_minor": 2
}
