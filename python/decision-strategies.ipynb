{
 "cells": [
  {
   "cell_type": "code",
   "execution_count": 1,
   "metadata": {
    "collapsed": false
   },
   "outputs": [],
   "source": [
    "%matplotlib inline\n",
    "import matplotlib.pyplot as plt\n",
    "import numpy as np\n",
    "import pandas as pd\n",
    "import seaborn as sns\n",
    "import scipy.stats\n",
    "from scipy.stats import norm\n",
    "import scipy.integrate as integrate\n",
    "import matplotlib.pyplot as plt\n",
    "import pickle\n",
    "\n",
    "import gym\n",
    "from gym import spaces\n",
    "\n",
    "import random\n",
    "import itertools as it\n",
    "from joblib import Parallel, delayed\n",
    "from toolz import memoize\n",
    "from contracts import contract\n",
    "from collections import namedtuple, defaultdict, deque, Counter\n",
    "\n",
    "import warnings\n",
    "warnings.filterwarnings(\"ignore\", \n",
    "                        message=\"The objective has been evaluated at this point before.\")\n",
    "\n",
    "from agents import Agent\n",
    "from oldmouselab import OldMouselabEnv\n",
    "from policies import FixedPlanPolicy, LiederPolicy\n",
    "from evaluation import *\n",
    "from distributions import cmax, smax, sample, expectation, Normal, PointMass, SampleDist, Normal, Categorical"
   ]
  },
  {
   "cell_type": "code",
   "execution_count": 2,
   "metadata": {
    "collapsed": true
   },
   "outputs": [],
   "source": [
    "def save_obj(obj, name ):\n",
    "    with open('data/'+ name + '.pkl', 'wb') as f:\n",
    "        pickle.dump(obj, f, pickle.HIGHEST_PROTOCOL)\n",
    "\n",
    "def load_obj(name ):\n",
    "    with open('data/' + name + '.pkl', 'rb') as f:\n",
    "        return pickle.load(f)"
   ]
  },
  {
   "cell_type": "code",
   "execution_count": 3,
   "metadata": {
    "collapsed": true
   },
   "outputs": [],
   "source": [
    "def hd_dist(attributes):\n",
    "    dist = [1,]*attributes\n",
    "    dist[0] = np.random.randint(85,97)\n",
    "    for i in range(1,attributes-1):\n",
    "        dist[i] += np.random.randint(0,100-np.sum(dist))\n",
    "    dist[-1] += 100-np.sum(dist)\n",
    "    dist = np.around(np.array(dist)/100,decimals=2)\n",
    "    np.random.shuffle(dist)\n",
    "    return dist\n",
    "\n",
    "def ld_dist(attributes):\n",
    "    dist = [np.random.randint(10,40) for _ in range(attributes)]\n",
    "    dist = np.around(np.array(dist)/sum(dist),decimals=2)\n",
    "    np.random.shuffle(dist)\n",
    "    return dist"
   ]
  },
  {
   "cell_type": "code",
   "execution_count": 4,
   "metadata": {
    "collapsed": false
   },
   "outputs": [],
   "source": [
    "gambles = 7\n",
    "attributes = 4\n",
    "mu_R_high_stakes = (9.99+0.01)/2\n",
    "mu_R_low_stakes = (0.25+0.01)/2\n",
    "\n",
    "sigma_R_high_stakes = 0.3*(9.99-0.01)\n",
    "sigma_R_low_stakes = 0.3*(0.25-0.01)\n",
    "\n",
    "high_stakes = Normal(mu_R_high_stakes, sigma_R_high_stakes)\n",
    "low_stakes = Normal(mu_R_low_stakes, sigma_R_low_stakes)\n",
    "cost=.03\n",
    "\n",
    "n_test = 100\n",
    "\n",
    "nr_outcomes = attributes\n",
    "nr_alternatives = gambles"
   ]
  },
  {
   "cell_type": "code",
   "execution_count": 5,
   "metadata": {
    "collapsed": false
   },
   "outputs": [],
   "source": [
    "agent = Agent()\n",
    "def run_env(policy, env):\n",
    "    agent.register(env)\n",
    "    agent.register(policy)\n",
    "    tr = agent.run_episode()\n",
    "#     print(tr)\n",
    "    return {'util': tr['return'], 'actions': tr['actions'],\n",
    "            'observations': len(tr['actions']) - 1, 'ground_truth': env.ground_truth}\n",
    "\n",
    "def action_coordinate(env, action):\n",
    "    #returns gamble, outcome\n",
    "    return (action//env.outcomes,action%env.outcomes)\n",
    "\n",
    "def p_grid(env, actions):\n",
    "    grid = np.zeros((env.gambles+1,env.outcomes))\n",
    "    grid[0,:] = env.dist\n",
    "    for i in range(len(actions[:-1])):\n",
    "        gamble, outcome = action_coordinate(env,actions[i]) \n",
    "        grid[gamble+1, outcome] = i+1\n",
    "    return grid\n",
    "\n",
    "def expected_reward_of_termination(env,actions):\n",
    "    env.reset()\n",
    "    for a in actions:\n",
    "        env.step(a)\n",
    "\n",
    "    return env.expected_term_reward()\n",
    "\n",
    "def characterize_strategy(policy,envs):\n",
    "    operations = []\n",
    "    nr_clicks = []\n",
    "    probabilities = []\n",
    "    returns = []\n",
    "    observations = []\n",
    "    grids = []\n",
    "    p_grids = []\n",
    "    p_outcomes = []\n",
    "    p_ranks = []\n",
    "    inspected_gambles = []\n",
    "    inspected_outcomes = []\n",
    "    nr_inspected_outcomes = []\n",
    "    best_outcome_only = []\n",
    "    expected_term_rewards = []\n",
    "    \n",
    "    transitions_within_alternative = []\n",
    "    transitions_within_attribute = []\n",
    "\n",
    "    nr_attribute_based_clicks = np.array([])\n",
    "    nr_alternative_based_clicks = np.array([])\n",
    "\n",
    "    \n",
    "    for i in range(len(envs)):\n",
    "        envs[i].reset()\n",
    "        trace = run_env(policy, envs[i])\n",
    "        returns = returns + [trace['util']]        \n",
    "        operations = operations + [trace['actions']]\n",
    "        nr_clicks = nr_clicks + [len(trace['actions'])-1]\n",
    "        probabilities = probabilities + [envs[i].dist]\n",
    "        p_grids = p_grids + [p_grid(envs[i],trace['actions'])]\n",
    "        grids = grids + [envs[i].grid()]\n",
    "        \n",
    "        within_attribute = []\n",
    "        within_alternative = []\n",
    "        \n",
    "        gambles = np.array([])\n",
    "        outcomes = np.array([])\n",
    "        observed_payoffs = np.array([])\n",
    "                \n",
    "        p_outcome = np.array([])\n",
    "        p_rank = np.array([])\n",
    "        array = -envs[i].dist\n",
    "        temp = array.argsort()\n",
    "        ranks = np.empty_like(temp)\n",
    "        ranks[temp] = np.arange(len(array))+1\n",
    "        #print(ranks)\n",
    "        \n",
    "        for a in trace['actions'][:-1]:\n",
    "            gamble, outcome = action_coordinate(envs[i], a)\n",
    "            gambles = np.append(gambles,[gamble])\n",
    "            outcomes = np.append(outcomes,[outcome])\n",
    "            p_outcome = np.append(p_outcome,[envs[i].dist[outcome]])\n",
    "            p_rank = np.append(p_rank,[ranks[outcome]])\n",
    "            observed_payoffs = np.append(observed_payoffs,trace['ground_truth'][a])\n",
    "        \n",
    "        \n",
    "        clicks = trace['actions'][:-1]\n",
    "        for c in np.arange(1,len(clicks)):\n",
    "            prev_click = clicks[c-1]\n",
    "            prev_gamble,prev_attribute = action_coordinate(envs[i], prev_click)\n",
    "            gamble,attribute =  action_coordinate(envs[i], clicks[c])\n",
    "            within_attribute = within_attribute + [attribute==prev_attribute]\n",
    "            within_alternative = within_alternative + [gamble==prev_gamble]\n",
    "        \n",
    "        p_ranks = p_ranks + [p_rank]\n",
    "        \n",
    "        transitions_within_alternative = transitions_within_alternative + [within_alternative]\n",
    "        transitions_within_attribute = transitions_within_attribute + [within_attribute]\n",
    "\n",
    "        nr_attribute_based_clicks   = np.append(nr_attribute_based_clicks,[np.sum(within_attribute)])\n",
    "        nr_alternative_based_clicks = np.append(nr_alternative_based_clicks,[np.sum(within_alternative)])\n",
    "        \n",
    "        best_outcome_only.append(np.all(np.unique(p_rank)==[1]))        \n",
    "        observations = observations + [observed_payoffs]\n",
    "        expected_term_rewards = expected_term_rewards  + [expected_reward_of_termination(envs[i],trace['actions'][:-1])] \n",
    "        p_outcomes = p_outcomes + [p_outcome]\n",
    "        inspected_gambles = inspected_gambles + [gambles]\n",
    "        inspected_outcomes= inspected_outcomes + [outcomes]\n",
    "        nr_inspected_outcomes = nr_inspected_outcomes + [len(np.unique(outcomes))]\n",
    "    \n",
    "    return {'grids':grids,'expected_term_rewards': expected_term_rewards,'best_outcome_only': best_outcome_only,\n",
    "            'nr_inspected_outcomes':nr_inspected_outcomes, 'p_ranks': p_ranks, 'p_outcomes': p_outcomes, \n",
    "            'inspected_gambles': inspected_gambles, 'inspected_outcomes': inspected_outcomes, 'p_grids': p_grids,\n",
    "            'returns': returns, 'observations': observations, 'operations':operations, 'nr_clicks': nr_clicks,\n",
    "            'nr_alternative_based_clicks':nr_alternative_based_clicks,'nr_attribute_based_clicks':nr_attribute_based_clicks,\n",
    "            'transitions_within_attribute': transitions_within_attribute, 'transitions_within_alternative': transitions_within_alternative,'probabilities': probabilities}\n",
    "    "
   ]
  },
  {
   "cell_type": "markdown",
   "metadata": {},
   "source": [
    "# High stakes, high dispersion"
   ]
  },
  {
   "cell_type": "code",
   "execution_count": 7,
   "metadata": {
    "collapsed": true
   },
   "outputs": [],
   "source": [
    "#bo_pol_theta = np.load('data/high_stakes_3cents.npy')\n",
    "bo_pol_theta = np.load('data/high_stakes_0.5cents.npy')\n",
    "bo_pol_high_stakes = LiederPolicy(list(bo_pol_theta))\n",
    "\n",
    "cost = 0.005\n",
    "reward = high_stakes\n",
    "hd_hs_envs =  [OldMouselabEnv(gambles, hd_dist(attributes), reward, cost) for _ in range(n_test)]\n",
    "term_action = hd_hs_envs[0].term_action"
   ]
  },
  {
   "cell_type": "code",
   "execution_count": 8,
   "metadata": {
    "collapsed": false
   },
   "outputs": [],
   "source": [
    "#hd_hs = characterize_strategy(bo_pol_high_stakes,test_envs_hd)\n",
    "#save_obj(hd_hs,'high_dispersion_high_stakes_0.5cents')\n",
    "#save_obj(hd_hs_envs,'hd_hs_envs_0.5cents')\n",
    "hd_hs = load_obj('high_dispersion_high_stakes')"
   ]
  },
  {
   "cell_type": "code",
   "execution_count": 10,
   "metadata": {
    "collapsed": false
   },
   "outputs": [
    {
     "name": "stdout",
     "output_type": "stream",
     "text": [
      "The resource-rational strategy reaps 97.55% of the highest possible payoffs.\n"
     ]
    }
   ],
   "source": [
    "max_EV = np.array([])\n",
    "all_actions = np.arange(28)\n",
    "#for a in all_actions:\n",
    "#    test_envs_hd[0].step(a)\n",
    "\n",
    "for i in range(len(hd_hs_envs)):\n",
    "    max_EV = np.append(max_EV,[expected_reward_of_termination(hd_hs_envs[i],all_actions)])\n",
    "    \n",
    "max_EV_hd_hs = np.mean(max_EV)\n",
    "\n",
    "print(\"The resource-rational strategy reaps {:.4}% of the highest possible payoffs.\".format(100*np.mean(hd_hs['returns'])/max_EV_hd_hs))"
   ]
  },
  {
   "cell_type": "code",
   "execution_count": 11,
   "metadata": {
    "collapsed": false
   },
   "outputs": [
    {
     "name": "stdout",
     "output_type": "stream",
     "text": [
      "On 0.0% of the high-dispersion trials the resource-rational strategy is random choice.\n",
      "On 100.0% of the high-dispersion trials the click squences of the high-stakes policy were consistent with SAT-TTB.\n",
      "On 77.0% of the high-dispersion trials the click squences of the high-stakes policy were consistent with TTB.\n",
      "On 0.0% of the high-dispersion trials the click squences of the high-stakes policy was consistent with WADD.\n"
     ]
    }
   ],
   "source": [
    "TTB_compatible = np.array([])\n",
    "WADD_compatible = np.array([])\n",
    "SAT_TTB_compatible = np.array([])\n",
    "random_choice = np.array([])\n",
    "\n",
    "for i in range(n_test):\n",
    "    TTB_compatible =  np.append(TTB_compatible, [hd_hs['nr_clicks'][i]==nr_alternatives and hd_hs['best_outcome_only'][i]])\n",
    "    WADD_compatible=  np.append(WADD_compatible,[hd_hs['nr_clicks'][i]==nr_alternatives*nr_outcomes])\n",
    "    SAT_TTB_compatible = np.append(SAT_TTB_compatible, [hd_hs['best_outcome_only'][i] and hd_hs['nr_clicks'][i]>0])\n",
    "    random_choice = np.append(random_choice, [hd_hs['nr_clicks'][i]==0])\n",
    "\n",
    "print(\"On {}% of the high-dispersion trials the resource-rational strategy is random choice.\".format(100*np.mean(random_choice)))\n",
    "print(\"On {}% of the high-dispersion trials the click squences of the high-stakes policy were consistent with SAT-TTB.\".format(100*np.mean(SAT_TTB_compatible)))\n",
    "print(\"On {}% of the high-dispersion trials the click squences of the high-stakes policy were consistent with TTB.\".format(100*np.mean(TTB_compatible)))\n",
    "print(\"On {}% of the high-dispersion trials the click squences of the high-stakes policy was consistent with WADD.\".format(100*np.mean(WADD_compatible)))"
   ]
  },
  {
   "cell_type": "code",
   "execution_count": 12,
   "metadata": {
    "collapsed": false
   },
   "outputs": [
    {
     "name": "stdout",
     "output_type": "stream",
     "text": [
      "The high-stakes policy inspected more than 7 cells in 8.0% of the trials.\n",
      "The high-stakes policy inspected more than 1 outcome in 8.0% of the high-dispersion trials.\n"
     ]
    }
   ],
   "source": [
    "print(\"The high-stakes policy inspected more than 7 cells in {}% of the trials.\".format(100*np.mean(np.array(hd_hs['nr_clicks'])>7)))\n",
    "print(\"The high-stakes policy inspected more than 1 outcome in {}% of the high-dispersion trials.\".format(100*np.mean(np.array(hd_hs['nr_inspected_outcomes'])>1)))"
   ]
  },
  {
   "cell_type": "code",
   "execution_count": 15,
   "metadata": {
    "collapsed": false
   },
   "outputs": [
    {
     "name": "stdout",
     "output_type": "stream",
     "text": [
      "True\n",
      "In  1e+02% of the high-dispersion problems, the high-stakes policy considered only the most probably outcome.\n",
      "\n",
      "In the high-dispersion environment the BO policy made between 2 and 9 clicks. The average number of clicks was 6.6.\n",
      "\n",
      " Example: \n",
      "[[ 0.85  0.02  0.05  0.08]\n",
      " [ 1.    0.    0.    0.  ]\n",
      " [ 3.    0.    0.    0.  ]\n",
      " [ 0.    0.    0.    0.  ]\n",
      " [ 2.    0.    0.    0.  ]\n",
      " [ 0.    0.    0.    0.  ]\n",
      " [ 0.    0.    0.    0.  ]\n",
      " [ 0.    0.    0.    0.  ]]\n",
      "[[ 5.946  1.283  8.406  7.01 ]\n",
      " [ 2.384  3.364  8.285  8.945]\n",
      " [ 6.333  9.372  3.556  4.15 ]\n",
      " [ 8.481  5.44   7.976  3.89 ]\n",
      " [ 3.853  4.379  3.891  3.377]\n",
      " [ 0.63   7.814  9.563  8.555]\n",
      " [ 3.939  5.664  0.543  4.259]]\n"
     ]
    },
    {
     "data": {
      "image/png": "[encoded data removed]",
      "text/plain": [
       "<matplotlib.figure.Figure at 0x7fedeab89160>"
      ]
     },
     "metadata": {},
     "output_type": "display_data"
    }
   ],
   "source": [
    "print(np.all(hd_hs['best_outcome_only']))\n",
    "\n",
    "print(\"In {:6.3}% of the high-dispersion problems, the high-stakes policy considered only the most probably outcome.\".format(100*np.mean(hd_hs['best_outcome_only'])))\n",
    "print(\"\")\n",
    "avg_nr_clicks_hd_hs=np.mean(hd_hs['nr_clicks'])\n",
    "min_nr_clicks_hd_hs=np.min(hd_hs['nr_clicks'])\n",
    "max_nr_clicks_hd_hs=np.max(hd_hs['nr_clicks'])\n",
    "\n",
    "print('In the high-dispersion environment the BO policy made between {} and {} clicks. The average number of clicks was {:3.2}.'.format(min_nr_clicks_hd_hs,max_nr_clicks_hd_hs,avg_nr_clicks_hd_hs))\n",
    "\n",
    "plt.figure()\n",
    "plt.hist(hd_hs['nr_clicks'])\n",
    "plt.xlabel('Number of clicks')\n",
    "plt.ylabel('Frequency out of 100')\n",
    "\n",
    "print(\"\\n Example: \")\n",
    "print(hd_hs['p_grids'][1])\n",
    "print(hd_hs_envs[1].grid())"
   ]
  },
  {
   "cell_type": "code",
   "execution_count": 16,
   "metadata": {
    "collapsed": false
   },
   "outputs": [
    {
     "name": "stdout",
     "output_type": "stream",
     "text": [
      "The high-stakes policy inspected more than 1 outcome in 8.0% of the high-dispersion trials.\n",
      "The high-stakes policy inspected all 4 outcomes in 0.0% of the high-dispersion trials.\n"
     ]
    },
    {
     "data": {
      "image/png": "[encoded data removed]",
      "text/plain": [
       "<matplotlib.figure.Figure at 0x7fedeab5b6d8>"
      ]
     },
     "metadata": {},
     "output_type": "display_data"
    }
   ],
   "source": [
    "plt.figure()\n",
    "plt.hist(hd_hs['nr_inspected_outcomes'])\n",
    "plt.xlabel('Number of inspected outcomes')\n",
    "plt.ylabel('Frequency in %')\n",
    "\n",
    "#print(\"The high-stakes policy inspected more than 7 cells in {}% of the low-dispersion trials.\".format(100*np.mean(np.array(ld_hs['nr_clicks'])>7)))\n",
    "print(\"The high-stakes policy inspected more than 1 outcome in {}% of the high-dispersion trials.\".format(100*np.mean(np.array(hd_hs['nr_inspected_outcomes'])>1)))\n",
    "print(\"The high-stakes policy inspected all 4 outcomes in {}% of the high-dispersion trials.\".format(100*np.mean(np.array(hd_hs['nr_inspected_outcomes'])==4)))\n"
   ]
  },
  {
   "cell_type": "code",
   "execution_count": 17,
   "metadata": {
    "collapsed": false
   },
   "outputs": [
    {
     "ename": "KeyError",
     "evalue": "'nr_alternative_based_clicks'",
     "output_type": "error",
     "traceback": [
      "\u001b[0;31m---------------------------------------------------------------------------\u001b[0m",
      "\u001b[0;31mKeyError\u001b[0m                                  Traceback (most recent call last)",
      "\u001b[0;32m<ipython-input-17-9863d4c8116b>\u001b[0m in \u001b[0;36m<module>\u001b[0;34m()\u001b[0m\n\u001b[0;32m----> 1\u001b[0;31m \u001b[0mprop_alternative_based_clicks\u001b[0m \u001b[0;34m=\u001b[0m \u001b[0mnp\u001b[0m\u001b[0;34m.\u001b[0m\u001b[0mmean\u001b[0m\u001b[0;34m(\u001b[0m\u001b[0mnp\u001b[0m\u001b[0;34m.\u001b[0m\u001b[0marray\u001b[0m\u001b[0;34m(\u001b[0m\u001b[0mhd_hs\u001b[0m\u001b[0;34m[\u001b[0m\u001b[0;34m'nr_alternative_based_clicks'\u001b[0m\u001b[0;34m]\u001b[0m\u001b[0;34m)\u001b[0m\u001b[0;34m/\u001b[0m\u001b[0;34m(\u001b[0m\u001b[0mnp\u001b[0m\u001b[0;34m.\u001b[0m\u001b[0marray\u001b[0m\u001b[0;34m(\u001b[0m\u001b[0mhd_hs\u001b[0m\u001b[0;34m[\u001b[0m\u001b[0;34m'nr_clicks'\u001b[0m\u001b[0;34m]\u001b[0m\u001b[0;34m)\u001b[0m\u001b[0;34m-\u001b[0m\u001b[0;36m1\u001b[0m\u001b[0;34m)\u001b[0m\u001b[0;34m)\u001b[0m\u001b[0;34m\u001b[0m\u001b[0m\n\u001b[0m\u001b[1;32m      2\u001b[0m \u001b[0mprop_attribute_based_clicks\u001b[0m \u001b[0;34m=\u001b[0m \u001b[0mnp\u001b[0m\u001b[0;34m.\u001b[0m\u001b[0mmean\u001b[0m\u001b[0;34m(\u001b[0m\u001b[0mnp\u001b[0m\u001b[0;34m.\u001b[0m\u001b[0marray\u001b[0m\u001b[0;34m(\u001b[0m\u001b[0mhd_hs\u001b[0m\u001b[0;34m[\u001b[0m\u001b[0;34m'nr_attribute_based_clicks'\u001b[0m\u001b[0;34m]\u001b[0m\u001b[0;34m)\u001b[0m\u001b[0;34m/\u001b[0m\u001b[0;34m(\u001b[0m\u001b[0mnp\u001b[0m\u001b[0;34m.\u001b[0m\u001b[0marray\u001b[0m\u001b[0;34m(\u001b[0m\u001b[0mhd_hs\u001b[0m\u001b[0;34m[\u001b[0m\u001b[0;34m'nr_clicks'\u001b[0m\u001b[0;34m]\u001b[0m\u001b[0;34m)\u001b[0m\u001b[0;34m-\u001b[0m\u001b[0;36m1\u001b[0m\u001b[0;34m)\u001b[0m\u001b[0;34m)\u001b[0m\u001b[0;34m\u001b[0m\u001b[0m\n\u001b[1;32m      3\u001b[0m \u001b[0mprop_other\u001b[0m \u001b[0;34m=\u001b[0m \u001b[0;36m1\u001b[0m \u001b[0;34m-\u001b[0m \u001b[0;34m(\u001b[0m\u001b[0mprop_alternative_based_clicks\u001b[0m \u001b[0;34m+\u001b[0m \u001b[0mprop_attribute_based_clicks\u001b[0m\u001b[0;34m)\u001b[0m\u001b[0;34m\u001b[0m\u001b[0m\n\u001b[1;32m      4\u001b[0m \u001b[0;31m#hd_hs['transitions_within_alternative']\u001b[0m\u001b[0;34m\u001b[0m\u001b[0;34m\u001b[0m\u001b[0m\n\u001b[1;32m      5\u001b[0m \u001b[0;34m\u001b[0m\u001b[0m\n",
      "\u001b[0;31mKeyError\u001b[0m: 'nr_alternative_based_clicks'"
     ]
    }
   ],
   "source": [
    "prop_alternative_based_clicks = np.mean(np.array(hd_hs['nr_alternative_based_clicks'])/(np.array(hd_hs['nr_clicks'])-1))\n",
    "prop_attribute_based_clicks = np.mean(np.array(hd_hs['nr_attribute_based_clicks'])/(np.array(hd_hs['nr_clicks'])-1))\n",
    "prop_other = 1 - (prop_alternative_based_clicks + prop_attribute_based_clicks)\n",
    "#hd_hs['transitions_within_alternative']\n",
    "\n",
    "print('In the high-dispersion environment {:.4}% of the clicks transitioned within the same attribute, {:.4}% transitioned within the same alternative, and the remaining {:.4}% of clicks switched both the attribute and the alternative.'.format(100*prop_attribute_based_clicks,100*prop_alternative_based_clicks,100*prop_other))"
   ]
  },
  {
   "cell_type": "code",
   "execution_count": 59,
   "metadata": {
    "collapsed": false
   },
   "outputs": [
    {
     "name": "stdout",
     "output_type": "stream",
     "text": [
      "Aspiration level after 2 clicks: 11.097677380787303\n",
      "Aspiration level after 3 clicks: 10.186876343582696\n",
      "Aspiration level after 4 clicks: 10.409979723520394\n",
      "Aspiration level after 5 clicks: 9.920667618186249\n",
      "Aspiration level after 6 clicks: 9.84939779370581\n",
      "Aspiration level after 7 clicks: 5.966988799391908\n",
      "average aspiration level: $9.85\n",
      "average aspiration level: 1.62 standard deviations above mean\n"
     ]
    },
    {
     "data": {
      "image/png": "[encoded data removed]",
      "text/plain": [
       "<matplotlib.figure.Figure at 0x7fedea8f4b38>"
      ]
     },
     "metadata": {},
     "output_type": "display_data"
    }
   ],
   "source": [
    "click_nrs = np.unique(hd_hs['nr_clicks'])\n",
    "nr_clicks = np.array(hd_hs['nr_clicks'])\n",
    "expected_returns = np.array(hd_hs['expected_term_rewards'])\n",
    "\n",
    "aspiration_levels = dict()\n",
    "\n",
    "for n in click_nrs[:-2]:\n",
    "    print(\"Aspiration level after {} clicks: {}\".format(n,np.min(expected_returns[nr_clicks==n])))\n",
    "    aspiration_levels[n] = (np.min(expected_returns[nr_clicks==n])-mu_R_high_stakes)/sigma_R_high_stakes\n",
    "\n",
    "plt.figure()\n",
    "plt.plot(nr_alternatives-np.array([float(val) for val in aspiration_levels.keys()]),aspiration_levels.values())\n",
    "plt.ylabel('Aspiration Level (z-score)')\n",
    "plt.xlabel('Number unexplored alternatives')\n",
    "\n",
    "#hd_hs['observations'][2]\n",
    "\n",
    "aspiration_level = np.min(expected_returns[np.array(hd_hs['nr_clicks'])<nr_alternatives])\n",
    "print('average aspiration level: ${:.3}'.format(aspiration_level))\n",
    "print('average aspiration level: {:.3} standard deviations above mean'.format((aspiration_level-mu_R_high_stakes)/sigma_R_high_stakes))"
   ]
  },
  {
   "cell_type": "code",
   "execution_count": 162,
   "metadata": {
    "collapsed": true
   },
   "outputs": [],
   "source": [
    "#Save the results\n",
    "save_obj(hd_hs, 'high_dispersion_high_stakes' )"
   ]
  },
  {
   "cell_type": "markdown",
   "metadata": {
    "collapsed": true
   },
   "source": [
    "# High stakes, low dispersion"
   ]
  },
  {
   "cell_type": "code",
   "execution_count": 25,
   "metadata": {
    "collapsed": false
   },
   "outputs": [],
   "source": [
    "bo_pol_theta = np.load('data/high_stakes_3cents.npy')\n",
    "bo_pol_high_stakes = LiederPolicy(list(bo_pol_theta))\n",
    "\n",
    "reward = high_stakes\n",
    "ld_hs_envs = [OldMouselabEnv(gambles, ld_dist(attributes), reward, cost) for _ in range(n_test)]\n",
    "\n",
    "term_action = ld_hs_envs[0].term_action"
   ]
  },
  {
   "cell_type": "code",
   "execution_count": 26,
   "metadata": {
    "collapsed": false
   },
   "outputs": [],
   "source": [
    "#ld_hs = characterize_strategy(bo_pol_high_stakes,ld_hs_envs)\n",
    "ld_hs = load_obj('low_dispersion_high_stakes')"
   ]
  },
  {
   "cell_type": "code",
   "execution_count": 28,
   "metadata": {
    "collapsed": false
   },
   "outputs": [
    {
     "name": "stdout",
     "output_type": "stream",
     "text": [
      "The resource-rational strategy reaps 94.16% of the highest possible payoffs.\n"
     ]
    }
   ],
   "source": [
    "max_EV = np.array([])\n",
    "all_actions = np.arange(28)\n",
    "#for a in all_actions:\n",
    "#    test_envs_hd[0].step(a)\n",
    "\n",
    "for i in range(len(ld_hs_envs)):\n",
    "    max_EV = np.append(max_EV,[expected_reward_of_termination(ld_hs_envs[i],all_actions)])\n",
    "    \n",
    "max_EV_ld_hs = np.mean(max_EV)\n",
    "\n",
    "np.mean(ld_hs['returns'])/max_EV_ld_hs\n",
    "\n",
    "print(\"The resource-rational strategy reaps {:.4}% of the highest possible payoffs.\".format(100*np.mean(ld_hs['returns'])/max_EV_ld_hs))"
   ]
  },
  {
   "cell_type": "code",
   "execution_count": 29,
   "metadata": {
    "collapsed": false
   },
   "outputs": [
    {
     "name": "stdout",
     "output_type": "stream",
     "text": [
      "On 1.0% of the low-dispersion trials the click squences of the high-stakes policy were consistent with TTB.\n",
      "On 0.0% of the low-dispersion trials the click squences of the high-stakes policy was consistent with WADD.\n"
     ]
    }
   ],
   "source": [
    "TTB_compatible = np.array([])\n",
    "WADD_compatible = np.array([])\n",
    "\n",
    "for i in range(n_test):\n",
    "    TTB_compatible =  np.append(TTB_compatible, [ld_hs['nr_clicks'][i]==nr_alternatives and ld_hs['best_outcome_only'][i]])\n",
    "    WADD_compatible=  np.append(WADD_compatible,[ld_hs['nr_clicks'][i]==nr_alternatives*nr_outcomes])\n",
    "\n",
    "print(\"On {}% of the low-dispersion trials the click squences of the high-stakes policy were consistent with TTB.\".format(100*np.mean(TTB_compatible)))\n",
    "print(\"On {}% of the low-dispersion trials the click squences of the high-stakes policy was consistent with WADD.\".format(100*np.mean(WADD_compatible)))"
   ]
  },
  {
   "cell_type": "code",
   "execution_count": 30,
   "metadata": {
    "collapsed": false
   },
   "outputs": [
    {
     "name": "stdout",
     "output_type": "stream",
     "text": [
      "In the low-dispersion environment 41.45% of the clicks transitioned within the same attribute, 17.86% transitioned within the same alternative, and the remaining 40.7% of clicks switched both the attribute and the alternative.\n"
     ]
    }
   ],
   "source": [
    "prop_alternative_based_clicks = np.mean(np.array(ld_hs['nr_alternative_based_clicks'])/(np.array(ld_hs['nr_clicks'])-1))\n",
    "prop_attribute_based_clicks = np.mean(np.array(ld_hs['nr_attribute_based_clicks'])/(np.array(ld_hs['nr_clicks'])-1))\n",
    "prop_other = 1 - (prop_alternative_based_clicks + prop_attribute_based_clicks)\n",
    "#ld_hs['transitions_within_alternative']\n",
    "\n",
    "print('In the low-dispersion environment {:.4}% of the clicks transitioned within the same attribute, {:.4}% transitioned within the same alternative, and the remaining {:.4}% of clicks switched both the attribute and the alternative.'.format(100*prop_attribute_based_clicks,100*prop_alternative_based_clicks,100*prop_other))"
   ]
  },
  {
   "cell_type": "code",
   "execution_count": 31,
   "metadata": {
    "collapsed": false
   },
   "outputs": [
    {
     "name": "stdout",
     "output_type": "stream",
     "text": [
      "The high-stakes policy inspected more than 1 outcome in 98.0% of the low-dispersion trials.\n",
      "The high-stakes policy inspected all 4 outcomes in 67.0% of the low-dispersion trials.\n"
     ]
    },
    {
     "data": {
      "image/png": "[encoded data removed]",
      "text/plain": [
       "<matplotlib.figure.Figure at 0x7fedea7e1400>"
      ]
     },
     "metadata": {},
     "output_type": "display_data"
    }
   ],
   "source": [
    "plt.figure()\n",
    "plt.hist(ld_hs['nr_inspected_outcomes'])\n",
    "plt.xlabel('Number of inspected outcomes')\n",
    "plt.ylabel('Frequency in %')\n",
    "\n",
    "#print(\"The high-stakes policy inspected more than 7 cells in {}% of the low-dispersion trials.\".format(100*np.mean(np.array(ld_hs['nr_clicks'])>7)))\n",
    "print(\"The high-stakes policy inspected more than 1 outcome in {}% of the low-dispersion trials.\".format(100*np.mean(np.array(ld_hs['nr_inspected_outcomes'])>1)))\n",
    "print(\"The high-stakes policy inspected all 4 outcomes in {}% of the low-dispersion trials.\".format(100*np.mean(np.array(ld_hs['nr_inspected_outcomes'])==4)))\n"
   ]
  },
  {
   "cell_type": "code",
   "execution_count": 33,
   "metadata": {
    "collapsed": false
   },
   "outputs": [
    {
     "name": "stdout",
     "output_type": "stream",
     "text": [
      "In    2.0% of the low-dispersion problems, the high-stakes policy considered only the most probably outcome.\n",
      "\n",
      "In the low-dispersion environment the BO policy made between 5 and 21 clicks. The average number of clicks was 1.3e+01.\n",
      "\n",
      " Example: \n",
      "[[  0.21   0.32   0.15   0.32]\n",
      " [  0.     0.     0.     3.  ]\n",
      " [  0.     0.     0.     0.  ]\n",
      " [  0.     1.     0.     0.  ]\n",
      " [  7.     2.     9.     6.  ]\n",
      " [  0.     0.     0.    11.  ]\n",
      " [  0.     0.     0.     0.  ]\n",
      " [  8.     5.    10.     4.  ]]\n",
      "[[  1.334   5.128   8.552   5.916]\n",
      " [  6.537   3.751   8.622   4.201]\n",
      " [  0.793   1.3     8.389   0.579]\n",
      " [  3.573   7.209   5.691  11.369]\n",
      " [  8.639  12.233   6.309   4.177]\n",
      " [ 10.288   1.204   1.069   0.113]\n",
      " [  2.273   3.46    0.686   5.708]]\n"
     ]
    },
    {
     "data": {
      "image/png": "[encoded data removed]",
      "text/plain": [
       "<matplotlib.figure.Figure at 0x7fedea763080>"
      ]
     },
     "metadata": {},
     "output_type": "display_data"
    }
   ],
   "source": [
    "print(\"In {:6.3}% of the low-dispersion problems, the high-stakes policy considered only the most probably outcome.\".format(100*np.mean(ld_hs['best_outcome_only'])))\n",
    "print(\"\")\n",
    "avg_nr_clicks_ld_hs=np.mean(ld_hs['nr_clicks'])\n",
    "min_nr_clicks_ld_hs=np.min(ld_hs['nr_clicks'])\n",
    "max_nr_clicks_ld_hs=np.max(ld_hs['nr_clicks'])\n",
    "\n",
    "print('In the low-dispersion environment the BO policy made between {} and {} clicks. The average number of clicks was {:3.2}.'.format(min_nr_clicks_ld_hs,max_nr_clicks_ld_hs,avg_nr_clicks_ld_hs))\n",
    "\n",
    "plt.figure()\n",
    "plt.hist(ld_hs['nr_clicks'])\n",
    "plt.xlabel('Number of clicks (out of 28)')\n",
    "plt.ylabel('Frequency out of 100')\n",
    "\n",
    "print(\"\\n Example: \")\n",
    "print(ld_hs['p_grids'][4])\n",
    "print(ld_hs_envs[4].grid())"
   ]
  },
  {
   "cell_type": "markdown",
   "metadata": {},
   "source": [
    "## Properties of the high-stakes strategy in the low-dispersion environment\n",
    "\n",
    "In high-stakes decision problems where all outcomes are almost equally likely, the LC policy does not seem to correspond to any previously proposed decision strategy. Its click sequence agreed with TTB on only 1% of the decision problems, and it corresponded to WADD on 0/100 problems.\n",
    "\n",
    "Instead, it appears to shift between searching for promising alternatives and evaluating them in detail until it finds an alternative that it deems good enough. Inspecting its click-sequences suggested the following description:\n",
    "1. It starts inspected payoffs for the most likely outcome until it has found at least two promising gambles.\n",
    "1. It then aspects the payoffs of those gambles for the second most likely outcome.\n",
    "1. If those are similar and worse, then it continues to inspect the payoffs of these gambles for the third most likely outcome.\n",
    "1. When the gambles look no longer promising, it starts inspecting other gambles.\n",
    "1. If one of them has a promising payoff, it will collect more information about that gamble.\n",
    "1. If nothing is covnincing yet, it will inspect yet another new gamble.\n",
    "1. It stops when it becomes too unlikely that something better than the current best will be found eventually.\n",
    "\n",
    "In more quantitative terms, I found that the resource-rational strategy for environments were all outcomes are almost equally likely is qualitatively different from its counterpart for the environment where one outcome is much more likely than all others. Concretely, in contrast to the resource-rational strategy for the environment with high dispersion, this strategy was predominantly compensatory in that it considered more than 1 outcome for 98% of the problems. In fact, it considered all four possible outcomes in 67% of the decisions. Furthermore, the resource-rational strategy collected significantly more information in the low-dispersion environment  than in the high dispersion environment.\n",
    "Concretely, in the low-dispersion environment, it considered about 13 of the 28 payoffs on average (range: 5–21).\n",
    "\n",
    "As before, there was a trend for the strategy’s aspiration level to decrease as the number of unknown payoffs decreased."
   ]
  },
  {
   "cell_type": "code",
   "execution_count": 65,
   "metadata": {
    "collapsed": false
   },
   "outputs": [
    {
     "name": "stdout",
     "output_type": "stream",
     "text": [
      "Aspiration level after 5 clicks: 8.864364401188764\n",
      "Aspiration level after 6 clicks: 8.051046119612707\n",
      "Aspiration level after 7 clicks: 7.649206956483277\n",
      "Aspiration level after 8 clicks: 6.915842839254839\n",
      "Aspiration level after 9 clicks: 7.397381766012328\n",
      "Aspiration level after 10 clicks: 7.156056375217492\n",
      "Aspiration level after 11 clicks: 6.125919440689416\n",
      "Aspiration level after 12 clicks: 6.391814991178527\n",
      "Aspiration level after 13 clicks: 6.713096284918699\n",
      "Aspiration level after 14 clicks: 6.32019769428079\n",
      "Aspiration level after 15 clicks: 6.275600335643864\n",
      "Aspiration level after 16 clicks: 5.013880492552339\n",
      "Aspiration level after 17 clicks: 5.198202457941745\n",
      "Aspiration level after 18 clicks: 6.281468283299747\n",
      "Aspiration level after 19 clicks: 5.9323528929122\n",
      "average aspiration level: $7.05\n",
      "average aspiration level: 0.685 standard deviations above mean\n"
     ]
    },
    {
     "data": {
      "image/png": "[encoded data removed]",
      "text/plain": [
       "<matplotlib.figure.Figure at 0x7fedea6e9080>"
      ]
     },
     "metadata": {},
     "output_type": "display_data"
    }
   ],
   "source": [
    "click_nrs = np.unique(ld_hs['nr_clicks'])\n",
    "nr_clicks = np.array(ld_hs['nr_clicks'])\n",
    "expected_returns = np.array(ld_hs['expected_term_rewards'])\n",
    "\n",
    "aspiration_levels = dict()\n",
    "\n",
    "for n in click_nrs[:-2]:\n",
    "    print(\"Aspiration level after {} clicks: {}\".format(n,np.min(expected_returns[nr_clicks==n])))\n",
    "    aspiration_levels[n] = (np.min(expected_returns[nr_clicks==n])-mu_R_high_stakes)/sigma_R_high_stakes\n",
    "\n",
    "plt.figure()\n",
    "plt.plot(nr_alternatives*nr_outcomes-np.array([float(val) for val in aspiration_levels.keys()]),aspiration_levels.values())\n",
    "plt.ylabel('Aspiration Level (z-score)')\n",
    "plt.xlabel('Number uninspected cells')\n",
    "\n",
    "aspiration_level = np.min(expected_returns[np.array(ld_hs['nr_clicks'])<nr_alternatives])\n",
    "print('average aspiration level: ${:.3}'.format(np.mean(expected_returns)))\n",
    "print('average aspiration level: {:.3} standard deviations above mean'.format((np.mean(expected_returns)-mu_R_high_stakes)/sigma_R_high_stakes))"
   ]
  },
  {
   "cell_type": "code",
   "execution_count": 205,
   "metadata": {
    "collapsed": false
   },
   "outputs": [],
   "source": [
    "#Save the results\n",
    "save_obj(ld_hs, 'low_dispersion_high_stakes' )"
   ]
  },
  {
   "cell_type": "markdown",
   "metadata": {},
   "source": [
    "# Low stakes, high dispersion"
   ]
  },
  {
   "cell_type": "code",
   "execution_count": 35,
   "metadata": {
    "collapsed": false
   },
   "outputs": [],
   "source": [
    "bo_pol_theta = np.load('data/low_stakes_0.5cents.npy')\n",
    "bo_pol_low_stakes = LiederPolicy(list(bo_pol_theta))\n",
    "\n",
    "cost=.005\n",
    "reward = low_stakes\n",
    "hd_ls_envs =  [OldMouselabEnv(gambles, hd_dist(attributes), reward, cost) for _ in range(n_test)]\n",
    "\n",
    "term_action = hd_ls_envs[0].term_action"
   ]
  },
  {
   "cell_type": "code",
   "execution_count": 36,
   "metadata": {
    "collapsed": false
   },
   "outputs": [],
   "source": [
    "#hd_ls = characterize_strategy(bo_pol_low_stakes,test_envs_hd)\n",
    "#save_obj(hd_ls,'high_dispersion_low_stakes_0.5cents')\n",
    "hd_ls = load_obj('high_dispersion_low_stakes_0.5cents')\n",
    "#save_obj(hd_ls,'high_dispersion_low_stakes_3cents')"
   ]
  },
  {
   "cell_type": "code",
   "execution_count": 37,
   "metadata": {
    "collapsed": false
   },
   "outputs": [
    {
     "name": "stdout",
     "output_type": "stream",
     "text": [
      "The resource-rational strategy reaps 91.13% of the highest possible payoffs.\n"
     ]
    }
   ],
   "source": [
    "max_EV = np.array([])\n",
    "all_actions = np.arange(28)\n",
    "#for a in all_actions:\n",
    "#    test_envs_hd[0].step(a)\n",
    "\n",
    "for i in range(len(hd_ls_envs)):\n",
    "    max_EV = np.append(max_EV,[expected_reward_of_termination(hd_ls_envs[i],all_actions)])\n",
    "    \n",
    "max_EV_hd_ls = np.mean(max_EV)\n",
    "\n",
    "np.mean(hd_ls['returns'])/max_EV_hd_ls\n",
    "\n",
    "print(\"The resource-rational strategy reaps {:.4}% of the highest possible payoffs.\".format(100*np.mean(hd_ls['returns'])/max_EV_hd_ls))"
   ]
  },
  {
   "cell_type": "code",
   "execution_count": 38,
   "metadata": {
    "collapsed": false
   },
   "outputs": [
    {
     "name": "stdout",
     "output_type": "stream",
     "text": [
      "On 0.0% of the high-dispersion trials the resource-rational strategy is random choice.\n",
      "On 100.0% of the high-dispersion trials the click squences of the low-stakes policy were consistent with SAT-TTB.\n",
      "On 39.0% of the high-dispersion trials the click squences of the low-stakes policy were consistent with TTB.\n",
      "On 0.0% of the high-dispersion trials the click squences of the low-stakes policy was consistent with WADD.\n"
     ]
    }
   ],
   "source": [
    "TTB_compatible = np.array([])\n",
    "WADD_compatible = np.array([])\n",
    "SAT_TTB_compatible = np.array([])\n",
    "random_choice = np.array([])\n",
    "\n",
    "for i in range(n_test):\n",
    "    TTB_compatible =  np.append(TTB_compatible, [hd_ls['nr_clicks'][i]==nr_alternatives and hd_ls['best_outcome_only'][i]])\n",
    "    WADD_compatible=  np.append(WADD_compatible,[hd_ls['nr_clicks'][i]==nr_alternatives*nr_outcomes])\n",
    "    SAT_TTB_compatible = np.append(SAT_TTB_compatible, [hd_ls['best_outcome_only'][i] and hd_ls['nr_clicks'][i]>0])\n",
    "    random_choice = np.append(random_choice, [hd_ls['nr_clicks'][i]==0])\n",
    "\n",
    "print(\"On {}% of the high-dispersion trials the resource-rational strategy is random choice.\".format(100*np.mean(random_choice)))\n",
    "print(\"On {}% of the high-dispersion trials the click squences of the low-stakes policy were consistent with SAT-TTB.\".format(100*np.mean(SAT_TTB_compatible)))\n",
    "print(\"On {}% of the high-dispersion trials the click squences of the low-stakes policy were consistent with TTB.\".format(100*np.mean(TTB_compatible)))\n",
    "print(\"On {}% of the high-dispersion trials the click squences of the low-stakes policy was consistent with WADD.\".format(100*np.mean(WADD_compatible)))"
   ]
  },
  {
   "cell_type": "code",
   "execution_count": 39,
   "metadata": {
    "collapsed": false
   },
   "outputs": [
    {
     "name": "stdout",
     "output_type": "stream",
     "text": [
      "In the high-dispersion environment 85.0% of the clicks transitioned within the same attribute, 0.0% transitioned within the same alternative, and the remaining 15.0% of clicks switched both the attribute and the alternative.\n"
     ]
    }
   ],
   "source": [
    "prop_alternative_based_clicks = np.mean(np.array(hd_ls['nr_alternative_based_clicks'])/(np.array(hd_ls['nr_clicks'])-1+0.00000000001))\n",
    "prop_attribute_based_clicks = np.mean(np.array(hd_ls['nr_attribute_based_clicks'])/(np.array(hd_ls['nr_clicks'])-1+0.00000000001))\n",
    "prop_other = 1 - (prop_alternative_based_clicks + prop_attribute_based_clicks)\n",
    "#hd_ls['transitions_within_alternative']\n",
    "\n",
    "print('In the high-dispersion environment {:.4}% of the clicks transitioned within the same attribute, {:.4}% transitioned within the same alternative, and the remaining {:.4}% of clicks switched both the attribute and the alternative.'.format(100*prop_attribute_based_clicks,100*prop_alternative_based_clicks,100*prop_other))"
   ]
  },
  {
   "cell_type": "code",
   "execution_count": 40,
   "metadata": {
    "collapsed": false
   },
   "outputs": [
    {
     "name": "stdout",
     "output_type": "stream",
     "text": [
      "0\n",
      "The low-stakes policy inspected exactly 7 cells in 39.0% of the high-dispersion trials.\n",
      "The low-stakes policy inspected fewer than 7 cells in 61.0% of the high-dispersion trials.\n",
      "The low-stakes policy inspected more than 7 cells in 0.0% of the high-dispersion trials.\n",
      "The low-stakes policy inspected more than 1 outcome in 0.0% of the high-dispersion trials.\n"
     ]
    },
    {
     "data": {
      "image/png": "[encoded data removed]",
      "text/plain": [
       "<matplotlib.figure.Figure at 0x7fedf3587e10>"
      ]
     },
     "metadata": {},
     "output_type": "display_data"
    }
   ],
   "source": [
    "plt.figure()\n",
    "plt.hist(hd_ls['nr_inspected_outcomes'])\n",
    "plt.xlabel('Number of inspected outcomes')\n",
    "plt.ylabel('Frequency in %')\n",
    "\n",
    "print(np.sum(np.array(hd_ls['nr_inspected_outcomes'])==2))\n",
    "\n",
    "print(\"The low-stakes policy inspected exactly 7 cells in {}% of the high-dispersion trials.\".format(100*np.mean(np.array(hd_ls['nr_clicks'])==7)))\n",
    "print(\"The low-stakes policy inspected fewer than 7 cells in {}% of the high-dispersion trials.\".format(100*np.mean(np.array(hd_ls['nr_clicks'])<7)))\n",
    "print(\"The low-stakes policy inspected more than 7 cells in {}% of the high-dispersion trials.\".format(100*np.mean(np.array(hd_ls['nr_clicks'])>7)))\n",
    "print(\"The low-stakes policy inspected more than 1 outcome in {}% of the high-dispersion trials.\".format(100*np.mean(np.array(hd_ls['nr_inspected_outcomes'])>1)))"
   ]
  },
  {
   "cell_type": "code",
   "execution_count": 42,
   "metadata": {
    "collapsed": false
   },
   "outputs": [
    {
     "name": "stdout",
     "output_type": "stream",
     "text": [
      "In  1e+02% of the high-dispersion problems, the low-stakes policy considered only the most probably outcome.\n",
      "\n",
      "In the high-dispersion environment the BO policy made between 1 and 7 clicks. The average number of clicks was 4.5.\n",
      "\n",
      " Example: \n",
      "[[ 0.06  0.86  0.04  0.04]\n",
      " [ 0.    1.    0.    0.  ]\n",
      " [ 0.    2.    0.    0.  ]\n",
      " [ 0.    3.    0.    0.  ]\n",
      " [ 0.    4.    0.    0.  ]\n",
      " [ 0.    5.    0.    0.  ]\n",
      " [ 0.    6.    0.    0.  ]\n",
      " [ 0.    7.    0.    0.  ]]\n",
      "[[ 0.008  0.115  0.206  0.269]\n",
      " [ 0.139  0.006  0.129  0.245]\n",
      " [ 0.072  0.165  0.14   0.108]\n",
      " [ 0.189  0.017  0.16   0.051]\n",
      " [ 0.059  0.154  0.168  0.041]\n",
      " [ 0.192  0.205  0.163  0.206]\n",
      " [ 0.104  0.126  0.102  0.103]]\n"
     ]
    },
    {
     "data": {
      "image/png": "[encoded data removed]",
      "text/plain": [
       "<matplotlib.figure.Figure at 0x7fedf351ce48>"
      ]
     },
     "metadata": {},
     "output_type": "display_data"
    }
   ],
   "source": [
    "print(\"In {:6.3}% of the high-dispersion problems, the low-stakes policy considered only the most probably outcome.\".format(100*np.mean(hd_ls['best_outcome_only'])))\n",
    "print(\"\")\n",
    "avg_nr_clicks_hd_ls=np.mean(hd_ls['nr_clicks'])\n",
    "min_nr_clicks_hd_ls=np.min(hd_ls['nr_clicks'])\n",
    "max_nr_clicks_hd_ls=np.max(hd_ls['nr_clicks'])\n",
    "\n",
    "print('In the high-dispersion environment the BO policy made between {} and {} clicks. The average number of clicks was {:3.2}.'.format(min_nr_clicks_hd_ls,max_nr_clicks_hd_ls,avg_nr_clicks_hd_ls))\n",
    "\n",
    "plt.figure()\n",
    "plt.hist(hd_ls['nr_clicks'])\n",
    "plt.xlabel('Number of clicks (out of 28)')\n",
    "plt.ylabel('Frequency out of 100')\n",
    "\n",
    "print(\"\\n Example: \")\n",
    "print(hd_ls['p_grids'][0])\n",
    "print(hd_ls_envs[0].grid())"
   ]
  },
  {
   "cell_type": "markdown",
   "metadata": {},
   "source": [
    "## Properties of the low-stakes strategy in the high-dispersion environment\n",
    "\n",
    "For a time cost of 0.5 cents per click the resource-rational strategy for the high-dispersion, low-stakes environment, is SAT-TTB or TTB in 100% of the trials. While this is similar to the high-dispersion, high-stakes condition, we also found a significant effect of the stakes: With lower stakes, the proportion of trials on which TTB is used decreases from 76% in the high-stakes condition to 39% in the low-stakes condition. Furthermore, strategies that inspect more than one attribute are no longer used in the low-stakes condition, and the average number of clicks decreases from 6.5 in the high-stakes conditoin to 4.5 clicks in the low-stakes condition."
   ]
  },
  {
   "cell_type": "code",
   "execution_count": 63,
   "metadata": {
    "collapsed": false
   },
   "outputs": [
    {
     "name": "stdout",
     "output_type": "stream",
     "text": [
      "Aspiration level after 1 clicks: 0.1945504299960404\n",
      "Aspiration level after 2 clicks: 0.19316493480155064\n",
      "Aspiration level after 3 clicks: 0.20416422694551137\n",
      "Aspiration level after 4 clicks: 0.20157877789198966\n",
      "Aspiration level after 5 clicks: 0.2095637970644173\n",
      "average aspiration level: $0.193\n",
      "average aspiration level: 0.877 standard deviations above mean\n"
     ]
    },
    {
     "data": {
      "image/png": "[encoded data removed]",
      "text/plain": [
       "<matplotlib.figure.Figure at 0x7fedf363b550>"
      ]
     },
     "metadata": {},
     "output_type": "display_data"
    }
   ],
   "source": [
    "click_nrs = np.unique(hd_ls['nr_clicks'])\n",
    "nr_clicks = np.array(hd_ls['nr_clicks'])\n",
    "expected_returns = np.array(hd_ls['expected_term_rewards'])\n",
    "\n",
    "aspiration_levels = dict()\n",
    "\n",
    "for n in click_nrs[:-2]:\n",
    "    print(\"Aspiration level after {} clicks: {}\".format(n,np.min(expected_returns[nr_clicks==n])))\n",
    "    aspiration_levels[n] = (np.min(expected_returns[nr_clicks==n])-mu_R_low_stakes)/sigma_R_low_stakes\n",
    "\n",
    "plt.figure()\n",
    "plt.plot(nr_alternatives*nr_outcomes-np.array([float(val) for val in aspiration_levels.keys()]),aspiration_levels.values())\n",
    "plt.ylabel('Aspiration Level (z-score)')\n",
    "plt.xlabel('Number uninspected cells')\n",
    "\n",
    "aspiration_level = np.min(expected_returns[np.array(hd_ls['nr_clicks'])<nr_alternatives])\n",
    "print('average aspiration level: ${:.3}'.format(aspiration_level))\n",
    "print('average aspiration level: {:.3} standard deviations above mean'.format((aspiration_level-mu_R_low_stakes)/sigma_R_low_stakes))\n",
    "\n",
    "#hd_hs['observations'][2]"
   ]
  },
  {
   "cell_type": "code",
   "execution_count": null,
   "metadata": {
    "collapsed": false
   },
   "outputs": [],
   "source": [
    "#Save the results\n",
    "save_obj(hd_ls, 'high_dispersion_low_stakes' )"
   ]
  },
  {
   "cell_type": "markdown",
   "metadata": {},
   "source": [
    "# Low stakes, low dispersion"
   ]
  },
  {
   "cell_type": "code",
   "execution_count": 46,
   "metadata": {
    "collapsed": false
   },
   "outputs": [],
   "source": [
    "bo_pol_theta = np.load('data/low_stakes_0.5cents.npy')\n",
    "bo_pol_low_stakes = LiederPolicy(list(bo_pol_theta))\n",
    "\n",
    "cost = 0.005\n",
    "reward = low_stakes\n",
    "ld_ls_envs = [OldMouselabEnv(gambles, ld_dist(attributes), reward, cost) for _ in range(n_test)]\n",
    "\n",
    "term_action = ld_ls_envs[0].term_action"
   ]
  },
  {
   "cell_type": "code",
   "execution_count": 47,
   "metadata": {
    "collapsed": false
   },
   "outputs": [],
   "source": [
    "#ld_ls = characterize_strategy(bo_pol_low_stakes,ls_ls_envs)\n",
    "#save_obj(ld_ls,'low_dispersion_low_stakes_0.5cents')\n",
    "ld_ls = load_obj('low_dispersion_low_stakes_0.5cents')"
   ]
  },
  {
   "cell_type": "code",
   "execution_count": 48,
   "metadata": {
    "collapsed": false
   },
   "outputs": [
    {
     "name": "stdout",
     "output_type": "stream",
     "text": [
      "The resource-rational strategy reaps 78.21% of the highest possible payoffs.\n"
     ]
    }
   ],
   "source": [
    "max_EV = np.array([])\n",
    "all_actions = np.arange(28)\n",
    "#for a in all_actions:\n",
    "#    test_envs_hd[0].step(a)\n",
    "\n",
    "for i in range(len(hd_ls_envs)):\n",
    "    max_EV = np.append(max_EV,[expected_reward_of_termination(ld_ls_envs[i],all_actions)])\n",
    "    \n",
    "max_EV_ld_ls = np.mean(max_EV)\n",
    "\n",
    "np.mean(ld_ls['returns'])/max_EV_ld_ls\n",
    "\n",
    "print(\"The resource-rational strategy reaps {:.4}% of the highest possible payoffs.\".format(100*np.mean(ld_ls['returns'])/max_EV_ld_ls))"
   ]
  },
  {
   "cell_type": "code",
   "execution_count": 49,
   "metadata": {
    "collapsed": false
   },
   "outputs": [
    {
     "name": "stdout",
     "output_type": "stream",
     "text": [
      "On 0.0% of the low-dispersion trials the resource-rational strategy is random choice.\n",
      "On 69.0% of the low-dispersion trials the click squences of the low-stakes policy were consistent with SAT-TTB.\n",
      "On 6.0% of the low-dispersion trials the click squences of the low-stakes policy were consistent with TTB.\n",
      "On 0.0% of the low-dispersion trials the click squences of the low-stakes policy was consistent with WADD.\n"
     ]
    }
   ],
   "source": [
    "TTB_compatible = np.array([])\n",
    "WADD_compatible = np.array([])\n",
    "SAT_TTB_compatible = np.array([])\n",
    "random_choice = np.array([])\n",
    "\n",
    "for i in range(n_test):\n",
    "    TTB_compatible =  np.append(TTB_compatible, [ld_ls['nr_clicks'][i]==nr_alternatives and ld_ls['best_outcome_only'][i]])\n",
    "    WADD_compatible=  np.append(WADD_compatible,[ld_ls['nr_clicks'][i]==nr_alternatives*nr_outcomes])\n",
    "    SAT_TTB_compatible = np.append(SAT_TTB_compatible, [ld_ls['best_outcome_only'][i] and ld_ls['nr_clicks'][i]>0])\n",
    "    random_choice = np.append(random_choice, [ld_ls['nr_clicks'][i]==0])\n",
    "\n",
    "print(\"On {}% of the low-dispersion trials the resource-rational strategy is random choice.\".format(100*np.mean(random_choice)))\n",
    "print(\"On {}% of the low-dispersion trials the click squences of the low-stakes policy were consistent with SAT-TTB.\".format(100*np.mean(SAT_TTB_compatible)))\n",
    "print(\"On {}% of the low-dispersion trials the click squences of the low-stakes policy were consistent with TTB.\".format(100*np.mean(TTB_compatible)))\n",
    "print(\"On {}% of the low-dispersion trials the click squences of the low-stakes policy was consistent with WADD.\".format(100*np.mean(WADD_compatible)))"
   ]
  },
  {
   "cell_type": "code",
   "execution_count": 50,
   "metadata": {
    "collapsed": false
   },
   "outputs": [
    {
     "name": "stdout",
     "output_type": "stream",
     "text": [
      "In the low-dispersion environment 68.6% of the clicks transitioned within the same attribute, 0.6604% transitioned within the same alternative, and the remaining 30.74% of clicks switched both the attribute and the alternative.\n"
     ]
    }
   ],
   "source": [
    "prop_alternative_based_clicks = np.mean(np.array(ld_ls['nr_alternative_based_clicks'])/(np.array(ld_ls['nr_clicks'])-1+0.00000001))\n",
    "prop_attribute_based_clicks = np.mean(np.array(ld_ls['nr_attribute_based_clicks'])/(np.array(ld_ls['nr_clicks'])-1+0.00000001))\n",
    "prop_other = 1 - (prop_alternative_based_clicks + prop_attribute_based_clicks)\n",
    "#ld_ls['transitions_within_alternative']\n",
    "\n",
    "print('In the low-dispersion environment {:.4}% of the clicks transitioned within the same attribute, {:.4}% transitioned within the same alternative, and the remaining {:.4}% of clicks switched both the attribute and the alternative.'.format(100*prop_attribute_based_clicks,100*prop_alternative_based_clicks,100*prop_other))"
   ]
  },
  {
   "cell_type": "code",
   "execution_count": 51,
   "metadata": {
    "collapsed": false
   },
   "outputs": [
    {
     "name": "stdout",
     "output_type": "stream",
     "text": [
      "The low-stakes policy inspected more than 7 cells in 16.0% of the low-dispersion trials.\n",
      "The low-stakes policy inspected more than 1 outcome in 31.0% of the low-dispersion trials.\n"
     ]
    },
    {
     "data": {
      "image/png": "[encoded data removed]",
      "text/plain": [
       "<matplotlib.figure.Figure at 0x7fedea9c1208>"
      ]
     },
     "metadata": {},
     "output_type": "display_data"
    }
   ],
   "source": [
    "plt.figure()\n",
    "plt.hist(ld_ls['nr_inspected_outcomes'])\n",
    "plt.xlabel('Number of inspected outcomes')\n",
    "plt.ylabel('Frequency in %')\n",
    "\n",
    "print(\"The low-stakes policy inspected more than 7 cells in {}% of the low-dispersion trials.\".format(100*np.mean(np.array(ld_ls['nr_clicks'])>7)))\n",
    "print(\"The low-stakes policy inspected more than 1 outcome in {}% of the low-dispersion trials.\".format(100*np.mean(np.array(ld_ls['nr_inspected_outcomes'])>1)))"
   ]
  },
  {
   "cell_type": "code",
   "execution_count": 54,
   "metadata": {
    "collapsed": false
   },
   "outputs": [
    {
     "name": "stdout",
     "output_type": "stream",
     "text": [
      "In   69.0% of the low-dispersion problems, the low-stakes policy considered only the most probable outcome.\n",
      "\n",
      "In the low-dispersion environment the BO policy made between 1 and 12 clicks. The average number of clicks was 4.1.\n",
      "\n",
      "On 23.0% of the low-stakes, low-dispersion environment the LC policy inspected only a single payoff.\n",
      "\n",
      "On 14.000000000000002% of the low-stakes, low-dispersion environment the LC policy inspected only two payoffs.\n",
      "\n",
      " Example: \n",
      "[[ 0.3   0.27  0.27  0.16]\n",
      " [ 1.    8.    0.    0.  ]\n",
      " [ 2.    0.    0.    0.  ]\n",
      " [ 3.    0.    0.    0.  ]\n",
      " [ 4.    0.    0.    0.  ]\n",
      " [ 5.    0.    0.    0.  ]\n",
      " [ 6.    0.    0.    0.  ]\n",
      " [ 7.    9.    0.    0.  ]]\n",
      "[[ 0.043  0.103  0.124  0.127]\n",
      " [ 0.14   0.133  0.027  0.231]\n",
      " [ 0.259  0.216  0.194  0.092]\n",
      " [ 0.227  0.129  0.078  0.156]\n",
      " [ 0.172  0.104  0.304  0.046]\n",
      " [ 0.095  0.159  0.071  0.098]\n",
      " [ 0.1    0.075 -0.041  0.217]]\n"
     ]
    },
    {
     "data": {
      "image/png": "[encoded data removed]",
      "text/plain": [
       "<matplotlib.figure.Figure at 0x7fedea6544e0>"
      ]
     },
     "metadata": {},
     "output_type": "display_data"
    }
   ],
   "source": [
    "print(\"In {:6.3}% of the low-dispersion problems, the low-stakes policy considered only the most probable outcome.\".format(100*np.mean(ld_ls['best_outcome_only'])))\n",
    "print(\"\")\n",
    "avg_nr_clicks_ld_ls=np.mean(ld_ls['nr_clicks'])\n",
    "min_nr_clicks_ld_ls=np.min(ld_ls['nr_clicks'])\n",
    "max_nr_clicks_ld_ls=np.max(ld_ls['nr_clicks'])\n",
    "\n",
    "print('In the low-dispersion environment the BO policy made between {} and {} clicks. The average number of clicks was {:3.2}.'.format(min_nr_clicks_ld_ls,max_nr_clicks_ld_ls,avg_nr_clicks_ld_ls))\n",
    "\n",
    "print('\\nOn {}% of the low-stakes, low-dispersion environment the LC policy inspected only a single payoff.'.format(100*np.mean(np.array(ld_ls['nr_clicks'])==1))) \n",
    "print('\\nOn {}% of the low-stakes, low-dispersion environment the LC policy inspected only two payoffs.'.format(100*np.mean(np.array(ld_ls['nr_clicks'])==2))) \n",
    "\n",
    "\n",
    "plt.figure()\n",
    "plt.hist(ld_ls['nr_clicks'],bins=np.arange(0.5,np.max(ld_ls['nr_clicks'])+0.5,1))\n",
    "plt.xlabel('Number of clicks (out of 28)')\n",
    "plt.ylabel('Frequency out of 100')\n",
    "\n",
    "print(\"\\n Example: \")\n",
    "print(ld_ls['p_grids'][13])\n",
    "print(ld_ls_envs[13].grid())"
   ]
  },
  {
   "cell_type": "markdown",
   "metadata": {},
   "source": [
    "## Properties of the low-stakes strategy in the low-dispersion environment\n",
    "\n",
    "In the *low-stakes, low-dispersion environment* with a cost of 0.5 cents per click, SAT-TTB was resource-rational for 69% of the problems. TTB was resource-rational for 6% of those problems. This means that for 63% of the problems SAT-TTB was resource-rational and did not inspect all of the outcomes. Neither random choice or WADD were resource-rational for any of these problems.\n",
    "\n",
    "Comparing these numbers to the high-dispersion environment with low-stakes reveals a 31% decrease in the use of SAT-TTB for low-dispersion compared to high-dispersion. This makes sense given that SAT-TTB is a non-compensatory strategy. \n",
    "\n",
    "Despite all outcomes being almost equally likely, the resource-rational strategy was predominantly attribute-based rather than alternative based: 68.6% of the clicks transitioned within the same attribute whereas only 0.6604% transitioned within the same alternative, and the remaining 30.74% of clicks switched both the attribute and the alternative.\n",
    "\n",
    "The number of clicks ranged from 1 to 12, and the average number of clicks was 4.1. Consistent with the small number of clicks, the aspiration level was consistently low -- at most requiring the payoff to be at last 0.154 standard deviations above the mean. This is 9 clicks fewer than in the condition with high-stakes and low-dispersion. This illustrates the effect of stakes on the resource-rational planning.\n",
    "\n",
    "In the 31% of problems where SAT-TTB was not used, it started with SAT-TTB, encountered a near-tie between two promising gambles and then started inspected those gambles' payoffs for other outcomes. Interestingly, in resolving those ties, the LC policy often inspected an additional payoff of the second-best gamble. If that payoff was low, then the it was ruled out and the current-best gamble was chosen. If the second-best gamble's second payoff was similar to the first one, then the LC policy inspected a second payoff for the current-best gamble, and so on."
   ]
  },
  {
   "cell_type": "code",
   "execution_count": 66,
   "metadata": {
    "collapsed": false
   },
   "outputs": [
    {
     "name": "stdout",
     "output_type": "stream",
     "text": [
      "Aspiration level after 1 clicks: 0.14762995821847885\n",
      "Aspiration level after 2 clicks: 0.1494922122385535\n",
      "Aspiration level after 3 clicks: 0.14913385153013956\n",
      "Aspiration level after 4 clicks: 0.15332652915249045\n",
      "Aspiration level after 5 clicks: 0.15069137044804587\n",
      "Aspiration level after 6 clicks: 0.15418077036446184\n",
      "Aspiration level after 7 clicks: 0.1347259330897186\n",
      "Aspiration level after 8 clicks: 0.1460495644031507\n",
      "Aspiration level after 9 clicks: 0.1348913274856889\n",
      "average aspiration level: $0.148\n",
      "average aspiration level: 0.245 standard deviations above mean\n"
     ]
    },
    {
     "data": {
      "image/png": "[encoded data removed]",
      "text/plain": [
       "<matplotlib.figure.Figure at 0x7fedea7cc780>"
      ]
     },
     "metadata": {},
     "output_type": "display_data"
    }
   ],
   "source": [
    "click_nrs = np.unique(ld_ls['nr_clicks'])\n",
    "nr_clicks = np.array(ld_ls['nr_clicks'])\n",
    "expected_returns = np.array(ld_ls['expected_term_rewards'])\n",
    "\n",
    "aspiration_levels = dict()\n",
    "\n",
    "for n in click_nrs[:-2]:\n",
    "    print(\"Aspiration level after {} clicks: {}\".format(n,np.min(expected_returns[nr_clicks==n])))\n",
    "    aspiration_levels[n] = (np.min(expected_returns[nr_clicks==n])-mu_R_low_stakes)/sigma_R_low_stakes\n",
    "\n",
    "plt.figure()\n",
    "plt.plot(nr_alternatives*nr_outcomes-np.array([float(val) for val in aspiration_levels.keys()]),aspiration_levels.values())\n",
    "plt.ylabel('Aspiration Level (z-score)')\n",
    "plt.xlabel('Number uninspected cells')\n",
    "\n",
    "aspiration_level = np.min(expected_returns[np.array(ld_ls['nr_clicks'])<nr_alternatives])\n",
    "print('average aspiration level: ${:.3}'.format(aspiration_level))\n",
    "print('average aspiration level: {:.3} standard deviations above mean'.format((aspiration_level-mu_R_low_stakes)/sigma_R_low_stakes))\n"
   ]
  },
  {
   "cell_type": "code",
   "execution_count": null,
   "metadata": {
    "collapsed": false
   },
   "outputs": [],
   "source": [
    "#Save the results\n",
    "save_obj(ld_ls, 'high_dispersion_low_stakes' )"
   ]
  },
  {
   "cell_type": "code",
   "execution_count": null,
   "metadata": {
    "collapsed": true
   },
   "outputs": [],
   "source": []
  }
 ],
 "metadata": {
  "kernelspec": {
   "display_name": "Python 3",
   "language": "python",
   "name": "python3"
  },
  "language_info": {
   "codemirror_mode": {
    "name": "ipython",
    "version": 3
   },
   "file_extension": ".py",
   "mimetype": "text/x-python",
   "name": "python",
   "nbconvert_exporter": "python",
   "pygments_lexer": "ipython3",
   "version": "3.6.3"
  }
 },
 "nbformat": 4,
 "nbformat_minor": 2
}
