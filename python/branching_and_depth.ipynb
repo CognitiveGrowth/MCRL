{
 "cells": [
  {
   "cell_type": "code",
   "execution_count": 2,
   "metadata": {
    "collapsed": true
   },
   "outputs": [],
   "source": [
    "%matplotlib inline\n",
    "%load_ext autoreload\n",
    "%autoreload 2\n",
    "\n",
    "import itertools as it\n",
    "from collections import Counter, defaultdict, deque\n",
    "import matplotlib.pyplot as plt\n",
    "import numpy as np\n",
    "import pandas as pd\n",
    "import seaborn as sns\n",
    "sns.set_style('white')\n",
    "sns.set_context('notebook', font_scale=1.3)\n",
    "\n",
    "from agents import Agent\n",
    "from evaluation import get_util\n",
    "# from model_utils import *\n",
    "\n",
    "# Need the `dot` command from graphviz to visualize tree with `env.render()`\n",
    "# -> install graphviz by running BOTH commands below:\n",
    "# conda install graphviz\n",
    "# pip install graphviz\n",
    "\n",
    "# make sure `dot` is in the path\n",
    "import os\n",
    "os.environ['PATH'] +=':/home/fredcallaway/miniconda3/envs/mcrl/bin/'"
   ]
  },
  {
   "cell_type": "code",
   "execution_count": 3,
   "metadata": {
    "collapsed": true
   },
   "outputs": [],
   "source": [
    "from mouselab import MouselabEnv\n",
    "from distributions import Categorical, Normal\n",
    "\n",
    "def make_envs(cost=1.00, n=100, seed=None,variance_structure=\"constant_high\",branching=[4,1,2]):\n",
    "    if seed is not None:\n",
    "        np.random.seed(seed)\n",
    "    \n",
    "    depth = len(branching)\n",
    "    \n",
    "    if variance_structure is \"constant_high\":\n",
    "        sigmas = np.concatenate( (np.array([0]),20*np.ones(depth)))\n",
    "    if variance_structure is \"increasing\":\n",
    "        sigmas = np.linspace(0,20,depth+1)\n",
    "    if variance_structure is \"decreasing\":\n",
    "        sigmas = np.linspace(20,0,depth+1)\n",
    "    if variance_structure is \"constant_low\":\n",
    "        sigmas = np.concatenate( (np.array([0]),1*np.ones(depth)))\n",
    "        \n",
    "    def reward(depth):\n",
    "        if depth > 0:\n",
    "            return Normal(0, sigmas[depth]).to_discrete(6)\n",
    "        return 0.\n",
    "\n",
    "    envs = [MouselabEnv.new_symmetric(branching, reward)\n",
    "            for _ in range(n)]\n",
    "    for env in envs:\n",
    "        env.cost=-cost\n",
    "    \n",
    "    return envs"
   ]
  }
 ],
 "metadata": {
  "kernelspec": {
   "display_name": "Python 3",
   "language": "python",
   "name": "python3"
  },
  "language_info": {
   "codemirror_mode": {
    "name": "ipython",
    "version": 3
   },
   "file_extension": ".py",
   "mimetype": "text/x-python",
   "name": "python",
   "nbconvert_exporter": "python",
   "pygments_lexer": "ipython3",
   "version": "3.6.3"
  }
 },
 "nbformat": 4,
 "nbformat_minor": 1
}
