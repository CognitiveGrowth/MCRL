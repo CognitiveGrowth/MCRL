{
 "cells": [
  {
   "cell_type": "code",
   "execution_count": 1,
   "metadata": {
    "collapsed": true
   },
   "outputs": [],
   "source": [
    "%matplotlib inline\n",
    "import matplotlib.pyplot as plt\n",
    "import numpy as np\n",
    "import pandas as pd\n",
    "import seaborn as sns\n",
    "import scipy.stats\n",
    "from scipy.stats import norm\n",
    "import scipy.integrate as integrate\n",
    "import datetime\n",
    "\n",
    "import gym\n",
    "from gym import spaces\n",
    "\n",
    "import random\n",
    "import itertools as it\n",
    "from joblib import Parallel, delayed\n",
    "from toolz import memoize\n",
    "from contracts import contract\n",
    "from collections import namedtuple, defaultdict, deque, Counter\n",
    "\n",
    "import warnings\n",
    "warnings.filterwarnings(\"ignore\", \n",
    "                        message=\"The objective has been evaluated at this point before.\")\n",
    "\n",
    "from agents import Agent\n",
    "from oldmouselab import OldMouselabEnv\n",
    "from policies import FixedPlanPolicy, LiederPolicy\n",
    "from evaluation import *\n",
    "from distributions import cmax, smax, sample, expectation, Normal, PointMass, SampleDist, TruncatedNormal, Categorical"
   ]
  },
  {
   "cell_type": "code",
   "execution_count": 2,
   "metadata": {
    "collapsed": true
   },
   "outputs": [],
   "source": [
    "gambles = 4\n",
    "attributes = [0.24,0.74,0.01,0.01]\n",
    "reward = Normal(2,1)\n",
    "cost=0.03\n",
    "env = OldMouselabEnv(gambles, attributes, reward)"
   ]
  },
  {
   "cell_type": "code",
   "execution_count": 3,
   "metadata": {
    "collapsed": true
   },
   "outputs": [],
   "source": [
    "attributes = 4\n",
    "env = OldMouselabEnv(gambles, attributes, reward, cost, randomness=1)"
   ]
  },
  {
   "cell_type": "code",
   "execution_count": 4,
   "metadata": {},
   "outputs": [
    {
     "data": {
      "text/plain": [
       "array([ 0.073,  0.338,  0.065,  0.524])"
      ]
     },
     "execution_count": 4,
     "metadata": {},
     "output_type": "execute_result"
    }
   ],
   "source": [
    "env.dist"
   ]
  },
  {
   "cell_type": "code",
   "execution_count": 5,
   "metadata": {},
   "outputs": [
    {
     "data": {
      "text/plain": [
       "array([-0.03 ,  0.029,  0.252,  0.658,  2.   ])"
      ]
     },
     "execution_count": 5,
     "metadata": {},
     "output_type": "execute_result"
    }
   ],
   "source": [
    "env.action_features(4)"
   ]
  },
  {
   "cell_type": "code",
   "execution_count": 6,
   "metadata": {},
   "outputs": [
    {
     "name": "stdout",
     "output_type": "stream",
     "text": [
      "0.649369306803\n"
     ]
    }
   ],
   "source": [
    "a = datetime.datetime.now()\n",
    "means = []\n",
    "for i in range(100):\n",
    "    means.append(env.vpi())\n",
    "t = datetime.datetime.now() - a\n",
    "print(np.mean(means))"
   ]
  },
  {
   "cell_type": "code",
   "execution_count": 7,
   "metadata": {},
   "outputs": [
    {
     "name": "stdout",
     "output_type": "stream",
     "text": [
      "0.64912782615\n"
     ]
    }
   ],
   "source": [
    "a = datetime.datetime.now()\n",
    "means = []\n",
    "for i in range(100):\n",
    "    means.append(env.vpi2())\n",
    "t = datetime.datetime.now() - a\n",
    "print(np.mean(means))"
   ]
  },
  {
   "cell_type": "code",
   "execution_count": 8,
   "metadata": {},
   "outputs": [
    {
     "name": "stdout",
     "output_type": "stream",
     "text": [
      "0:00:01.962793\n"
     ]
    }
   ],
   "source": [
    "a = datetime.datetime.now()\n",
    "for i in range(100):\n",
    "    env.vpi_action(2)\n",
    "t = datetime.datetime.now() - a\n",
    "print(t)"
   ]
  },
  {
   "cell_type": "code",
   "execution_count": 9,
   "metadata": {},
   "outputs": [
    {
     "name": "stdout",
     "output_type": "stream",
     "text": [
      "0:00:01.535858\n"
     ]
    }
   ],
   "source": [
    "a = datetime.datetime.now()\n",
    "for i in range(100):\n",
    "    env.myopic_voi(2)\n",
    "t = datetime.datetime.now() - a\n",
    "print(t)"
   ]
  },
  {
   "cell_type": "code",
   "execution_count": 10,
   "metadata": {},
   "outputs": [
    {
     "data": {
      "text/plain": [
       "[((4.4420317043077002,\n",
       "   Norm(2.00, 1.00),\n",
       "   Norm(2.00, 1.00),\n",
       "   Norm(2.00, 1.00),\n",
       "   Norm(2.00, 1.00),\n",
       "   Norm(2.00, 1.00),\n",
       "   Norm(2.00, 1.00),\n",
       "   Norm(2.00, 1.00),\n",
       "   Norm(2.00, 1.00),\n",
       "   Norm(2.00, 1.00),\n",
       "   Norm(2.00, 1.00),\n",
       "   Norm(2.00, 1.00),\n",
       "   Norm(2.00, 1.00),\n",
       "   Norm(2.00, 1.00),\n",
       "   Norm(2.00, 1.00),\n",
       "   Norm(2.00, 1.00)),\n",
       "  -0.03,\n",
       "  False,\n",
       "  {}),\n",
       " ((4.4420317043077002,\n",
       "   3.149066956978896,\n",
       "   Norm(2.00, 1.00),\n",
       "   Norm(2.00, 1.00),\n",
       "   Norm(2.00, 1.00),\n",
       "   Norm(2.00, 1.00),\n",
       "   Norm(2.00, 1.00),\n",
       "   Norm(2.00, 1.00),\n",
       "   Norm(2.00, 1.00),\n",
       "   Norm(2.00, 1.00),\n",
       "   Norm(2.00, 1.00),\n",
       "   Norm(2.00, 1.00),\n",
       "   Norm(2.00, 1.00),\n",
       "   Norm(2.00, 1.00),\n",
       "   Norm(2.00, 1.00),\n",
       "   Norm(2.00, 1.00)),\n",
       "  -0.03,\n",
       "  False,\n",
       "  {}),\n",
       " ((4.4420317043077002,\n",
       "   3.149066956978896,\n",
       "   2.5861928462151309,\n",
       "   Norm(2.00, 1.00),\n",
       "   Norm(2.00, 1.00),\n",
       "   Norm(2.00, 1.00),\n",
       "   Norm(2.00, 1.00),\n",
       "   Norm(2.00, 1.00),\n",
       "   Norm(2.00, 1.00),\n",
       "   Norm(2.00, 1.00),\n",
       "   Norm(2.00, 1.00),\n",
       "   Norm(2.00, 1.00),\n",
       "   Norm(2.00, 1.00),\n",
       "   Norm(2.00, 1.00),\n",
       "   Norm(2.00, 1.00),\n",
       "   Norm(2.00, 1.00)),\n",
       "  -0.03,\n",
       "  False,\n",
       "  {}),\n",
       " ((4.4420317043077002,\n",
       "   3.149066956978896,\n",
       "   2.5861928462151309,\n",
       "   2.0125017987061424,\n",
       "   Norm(2.00, 1.00),\n",
       "   Norm(2.00, 1.00),\n",
       "   Norm(2.00, 1.00),\n",
       "   Norm(2.00, 1.00),\n",
       "   Norm(2.00, 1.00),\n",
       "   Norm(2.00, 1.00),\n",
       "   Norm(2.00, 1.00),\n",
       "   Norm(2.00, 1.00),\n",
       "   Norm(2.00, 1.00),\n",
       "   Norm(2.00, 1.00),\n",
       "   Norm(2.00, 1.00),\n",
       "   Norm(2.00, 1.00)),\n",
       "  -0.03,\n",
       "  False,\n",
       "  {})]"
      ]
     },
     "execution_count": 10,
     "metadata": {},
     "output_type": "execute_result"
    }
   ],
   "source": [
    "env._state\n",
    "[env.step(i) for i in range(4)]"
   ]
  },
  {
   "cell_type": "code",
   "execution_count": 11,
   "metadata": {},
   "outputs": [
    {
     "data": {
      "text/plain": [
       "('__term_state__', 2.6111064974273672, True, {})"
      ]
     },
     "execution_count": 11,
     "metadata": {},
     "output_type": "execute_result"
    }
   ],
   "source": [
    "env.step(16)"
   ]
  },
  {
   "cell_type": "code",
   "execution_count": 12,
   "metadata": {},
   "outputs": [
    {
     "data": {
      "text/plain": [
       "array([ 4.442,  3.149,  2.586,  2.013,  1.608,  1.293,  3.802,  3.492,  2.225,  1.875,  1.944,  2.205,  3.222,  1.173,  1.648,  2.634])"
      ]
     },
     "execution_count": 12,
     "metadata": {},
     "output_type": "execute_result"
    }
   ],
   "source": [
    "env.ground_truth"
   ]
  },
  {
   "cell_type": "code",
   "execution_count": 13,
   "metadata": {},
   "outputs": [
    {
     "data": {
      "text/plain": [
       "(Norm(2.00, 1.00),\n",
       " Norm(2.00, 1.00),\n",
       " Norm(2.00, 1.00),\n",
       " Norm(2.00, 1.00),\n",
       " Norm(2.00, 1.00),\n",
       " Norm(2.00, 1.00),\n",
       " Norm(2.00, 1.00),\n",
       " Norm(2.00, 1.00),\n",
       " Norm(2.00, 1.00),\n",
       " Norm(2.00, 1.00),\n",
       " Norm(2.00, 1.00),\n",
       " Norm(2.00, 1.00),\n",
       " Norm(2.00, 1.00),\n",
       " Norm(2.00, 1.00),\n",
       " Norm(2.00, 1.00),\n",
       " Norm(2.00, 1.00))"
      ]
     },
     "execution_count": 13,
     "metadata": {},
     "output_type": "execute_result"
    }
   ],
   "source": [
    "env.reset()"
   ]
  },
  {
   "cell_type": "code",
   "execution_count": 14,
   "metadata": {
    "scrolled": true
   },
   "outputs": [
    {
     "data": {
      "text/plain": [
       "array([ 0.398,  0.398,  0.398,  0.398])"
      ]
     },
     "execution_count": 14,
     "metadata": {},
     "output_type": "execute_result"
    }
   ],
   "source": [
    "env.vars"
   ]
  },
  {
   "cell_type": "code",
   "execution_count": 15,
   "metadata": {},
   "outputs": [
    {
     "data": {
      "text/plain": [
       "2.0"
      ]
     },
     "execution_count": 15,
     "metadata": {},
     "output_type": "execute_result"
    }
   ],
   "source": [
    "expectation(env.term_reward())"
   ]
  },
  {
   "cell_type": "markdown",
   "metadata": {},
   "source": [
    "# GT, SR"
   ]
  },
  {
   "cell_type": "code",
   "execution_count": 47,
   "metadata": {
    "collapsed": true
   },
   "outputs": [],
   "source": [
    "env = OldMouselabEnv(gambles, attributes, reward, cost, randomness=1, ground_truth = None, sample_term_reward = True)"
   ]
  },
  {
   "cell_type": "code",
   "execution_count": 48,
   "metadata": {},
   "outputs": [
    {
     "data": {
      "text/plain": [
       "(Norm(2.00, 1.00),\n",
       " Norm(2.00, 1.00),\n",
       " Norm(2.00, 1.00),\n",
       " Norm(2.00, 1.00),\n",
       " Norm(2.00, 1.00),\n",
       " Norm(2.00, 1.00),\n",
       " Norm(2.00, 1.00),\n",
       " Norm(2.00, 1.00),\n",
       " Norm(2.00, 1.00),\n",
       " Norm(2.00, 1.00),\n",
       " Norm(2.00, 1.00),\n",
       " Norm(2.00, 1.00),\n",
       " Norm(2.00, 1.00),\n",
       " Norm(2.00, 1.00),\n",
       " Norm(2.00, 1.00),\n",
       " Norm(2.00, 1.00))"
      ]
     },
     "execution_count": 48,
     "metadata": {},
     "output_type": "execute_result"
    }
   ],
   "source": [
    "env._state"
   ]
  },
  {
   "cell_type": "code",
   "execution_count": 49,
   "metadata": {},
   "outputs": [
    {
     "data": {
      "text/plain": [
       "[((2.6943879453559783,\n",
       "   Norm(2.00, 1.00),\n",
       "   Norm(2.00, 1.00),\n",
       "   Norm(2.00, 1.00),\n",
       "   Norm(2.00, 1.00),\n",
       "   Norm(2.00, 1.00),\n",
       "   Norm(2.00, 1.00),\n",
       "   Norm(2.00, 1.00),\n",
       "   Norm(2.00, 1.00),\n",
       "   Norm(2.00, 1.00),\n",
       "   Norm(2.00, 1.00),\n",
       "   Norm(2.00, 1.00),\n",
       "   Norm(2.00, 1.00),\n",
       "   Norm(2.00, 1.00),\n",
       "   Norm(2.00, 1.00),\n",
       "   Norm(2.00, 1.00)),\n",
       "  -0.03,\n",
       "  False,\n",
       "  {}),\n",
       " ((2.6943879453559783,\n",
       "   3.7339911676854687,\n",
       "   Norm(2.00, 1.00),\n",
       "   Norm(2.00, 1.00),\n",
       "   Norm(2.00, 1.00),\n",
       "   Norm(2.00, 1.00),\n",
       "   Norm(2.00, 1.00),\n",
       "   Norm(2.00, 1.00),\n",
       "   Norm(2.00, 1.00),\n",
       "   Norm(2.00, 1.00),\n",
       "   Norm(2.00, 1.00),\n",
       "   Norm(2.00, 1.00),\n",
       "   Norm(2.00, 1.00),\n",
       "   Norm(2.00, 1.00),\n",
       "   Norm(2.00, 1.00),\n",
       "   Norm(2.00, 1.00)),\n",
       "  -0.03,\n",
       "  False,\n",
       "  {}),\n",
       " ((2.6943879453559783,\n",
       "   3.7339911676854687,\n",
       "   1.1083413597965912,\n",
       "   Norm(2.00, 1.00),\n",
       "   Norm(2.00, 1.00),\n",
       "   Norm(2.00, 1.00),\n",
       "   Norm(2.00, 1.00),\n",
       "   Norm(2.00, 1.00),\n",
       "   Norm(2.00, 1.00),\n",
       "   Norm(2.00, 1.00),\n",
       "   Norm(2.00, 1.00),\n",
       "   Norm(2.00, 1.00),\n",
       "   Norm(2.00, 1.00),\n",
       "   Norm(2.00, 1.00),\n",
       "   Norm(2.00, 1.00),\n",
       "   Norm(2.00, 1.00)),\n",
       "  -0.03,\n",
       "  False,\n",
       "  {}),\n",
       " ((2.6943879453559783,\n",
       "   3.7339911676854687,\n",
       "   1.1083413597965912,\n",
       "   1.8396801419061977,\n",
       "   Norm(2.00, 1.00),\n",
       "   Norm(2.00, 1.00),\n",
       "   Norm(2.00, 1.00),\n",
       "   Norm(2.00, 1.00),\n",
       "   Norm(2.00, 1.00),\n",
       "   Norm(2.00, 1.00),\n",
       "   Norm(2.00, 1.00),\n",
       "   Norm(2.00, 1.00),\n",
       "   Norm(2.00, 1.00),\n",
       "   Norm(2.00, 1.00),\n",
       "   Norm(2.00, 1.00),\n",
       "   Norm(2.00, 1.00)),\n",
       "  -0.03,\n",
       "  False,\n",
       "  {}),\n",
       " ((2.6943879453559783,\n",
       "   3.7339911676854687,\n",
       "   1.1083413597965912,\n",
       "   1.8396801419061977,\n",
       "   2.0442896986083343,\n",
       "   Norm(2.00, 1.00),\n",
       "   Norm(2.00, 1.00),\n",
       "   Norm(2.00, 1.00),\n",
       "   Norm(2.00, 1.00),\n",
       "   Norm(2.00, 1.00),\n",
       "   Norm(2.00, 1.00),\n",
       "   Norm(2.00, 1.00),\n",
       "   Norm(2.00, 1.00),\n",
       "   Norm(2.00, 1.00),\n",
       "   Norm(2.00, 1.00),\n",
       "   Norm(2.00, 1.00)),\n",
       "  -0.03,\n",
       "  False,\n",
       "  {}),\n",
       " ((2.6943879453559783,\n",
       "   3.7339911676854687,\n",
       "   1.1083413597965912,\n",
       "   1.8396801419061977,\n",
       "   2.0442896986083343,\n",
       "   1.8209548899478829,\n",
       "   Norm(2.00, 1.00),\n",
       "   Norm(2.00, 1.00),\n",
       "   Norm(2.00, 1.00),\n",
       "   Norm(2.00, 1.00),\n",
       "   Norm(2.00, 1.00),\n",
       "   Norm(2.00, 1.00),\n",
       "   Norm(2.00, 1.00),\n",
       "   Norm(2.00, 1.00),\n",
       "   Norm(2.00, 1.00),\n",
       "   Norm(2.00, 1.00)),\n",
       "  -0.03,\n",
       "  False,\n",
       "  {})]"
      ]
     },
     "execution_count": 49,
     "metadata": {},
     "output_type": "execute_result"
    }
   ],
   "source": [
    "[env.step(i) for i in range(6)]"
   ]
  },
  {
   "cell_type": "code",
   "execution_count": 50,
   "metadata": {},
   "outputs": [
    {
     "data": {
      "text/plain": [
       "array([[2.6943879453559783, 3.7339911676854687, 1.1083413597965912, 1.8396801419061977],\n",
       "       [2.0442896986083343, 1.8209548899478829, Norm(2.00, 1.00), Norm(2.00, 1.00)],\n",
       "       [Norm(2.00, 1.00), Norm(2.00, 1.00), Norm(2.00, 1.00), Norm(2.00, 1.00)],\n",
       "       [Norm(2.00, 1.00), Norm(2.00, 1.00), Norm(2.00, 1.00), Norm(2.00, 1.00)]], dtype=object)"
      ]
     },
     "execution_count": 50,
     "metadata": {},
     "output_type": "execute_result"
    }
   ],
   "source": [
    "env.grid()"
   ]
  },
  {
   "cell_type": "code",
   "execution_count": 51,
   "metadata": {},
   "outputs": [
    {
     "data": {
      "text/plain": [
       "('__term_state__', 1.6116856571274651, True, {})"
      ]
     },
     "execution_count": 51,
     "metadata": {},
     "output_type": "execute_result"
    }
   ],
   "source": [
    "env.step(16)"
   ]
  },
  {
   "cell_type": "code",
   "execution_count": 52,
   "metadata": {},
   "outputs": [
    {
     "data": {
      "text/plain": [
       "array([ 2.694,  3.734,  1.108,  1.84 ,  2.044,  1.821,  2.324,  1.611,  1.469,  1.389,  2.044,  1.169,  1.103,  3.1  ,  1.072,  2.426])"
      ]
     },
     "execution_count": 52,
     "metadata": {},
     "output_type": "execute_result"
    }
   ],
   "source": [
    "env.ground_truth"
   ]
  },
  {
   "cell_type": "code",
   "execution_count": 53,
   "metadata": {},
   "outputs": [],
   "source": [
    "gt_grid = env.ground_truth.reshape(gambles,attributes)"
   ]
  },
  {
   "cell_type": "code",
   "execution_count": 56,
   "metadata": {},
   "outputs": [
    {
     "data": {
      "text/plain": [
       "1.6116856571274651"
      ]
     },
     "execution_count": 56,
     "metadata": {},
     "output_type": "execute_result"
    }
   ],
   "source": [
    "env.dist.dot(gt_grid[np.argmax(env.mus)])"
   ]
  },
  {
   "cell_type": "code",
   "execution_count": 57,
   "metadata": {},
   "outputs": [
    {
     "data": {
      "text/plain": [
       "[1.96518404061367, 1.9904433567878979, 2.0, 2.0]"
      ]
     },
     "execution_count": 57,
     "metadata": {},
     "output_type": "execute_result"
    }
   ],
   "source": [
    "env.mus"
   ]
  },
  {
   "cell_type": "markdown",
   "metadata": {},
   "source": [
    "# $\\neg$GT, SR"
   ]
  },
  {
   "cell_type": "code",
   "execution_count": 71,
   "metadata": {
    "collapsed": true
   },
   "outputs": [],
   "source": [
    "env = OldMouselabEnv(gambles, attributes, reward, cost, randomness=1, ground_truth = False, sample_term_reward = True)"
   ]
  },
  {
   "cell_type": "code",
   "execution_count": 72,
   "metadata": {},
   "outputs": [
    {
     "data": {
      "text/plain": [
       "(Norm(2.00, 1.00),\n",
       " Norm(2.00, 1.00),\n",
       " Norm(2.00, 1.00),\n",
       " Norm(2.00, 1.00),\n",
       " Norm(2.00, 1.00),\n",
       " Norm(2.00, 1.00),\n",
       " Norm(2.00, 1.00),\n",
       " Norm(2.00, 1.00),\n",
       " Norm(2.00, 1.00),\n",
       " Norm(2.00, 1.00),\n",
       " Norm(2.00, 1.00),\n",
       " Norm(2.00, 1.00),\n",
       " Norm(2.00, 1.00),\n",
       " Norm(2.00, 1.00),\n",
       " Norm(2.00, 1.00),\n",
       " Norm(2.00, 1.00))"
      ]
     },
     "execution_count": 72,
     "metadata": {},
     "output_type": "execute_result"
    }
   ],
   "source": [
    "env._state"
   ]
  },
  {
   "cell_type": "code",
   "execution_count": 73,
   "metadata": {},
   "outputs": [
    {
     "data": {
      "text/plain": [
       "[((3.378434054458368,\n",
       "   Norm(2.00, 1.00),\n",
       "   Norm(2.00, 1.00),\n",
       "   Norm(2.00, 1.00),\n",
       "   Norm(2.00, 1.00),\n",
       "   Norm(2.00, 1.00),\n",
       "   Norm(2.00, 1.00),\n",
       "   Norm(2.00, 1.00),\n",
       "   Norm(2.00, 1.00),\n",
       "   Norm(2.00, 1.00),\n",
       "   Norm(2.00, 1.00),\n",
       "   Norm(2.00, 1.00),\n",
       "   Norm(2.00, 1.00),\n",
       "   Norm(2.00, 1.00),\n",
       "   Norm(2.00, 1.00),\n",
       "   Norm(2.00, 1.00)),\n",
       "  -0.03,\n",
       "  False,\n",
       "  {}),\n",
       " ((3.378434054458368,\n",
       "   1.8906258685471413,\n",
       "   Norm(2.00, 1.00),\n",
       "   Norm(2.00, 1.00),\n",
       "   Norm(2.00, 1.00),\n",
       "   Norm(2.00, 1.00),\n",
       "   Norm(2.00, 1.00),\n",
       "   Norm(2.00, 1.00),\n",
       "   Norm(2.00, 1.00),\n",
       "   Norm(2.00, 1.00),\n",
       "   Norm(2.00, 1.00),\n",
       "   Norm(2.00, 1.00),\n",
       "   Norm(2.00, 1.00),\n",
       "   Norm(2.00, 1.00),\n",
       "   Norm(2.00, 1.00),\n",
       "   Norm(2.00, 1.00)),\n",
       "  -0.03,\n",
       "  False,\n",
       "  {}),\n",
       " ((3.378434054458368,\n",
       "   1.8906258685471413,\n",
       "   1.4907697796379693,\n",
       "   Norm(2.00, 1.00),\n",
       "   Norm(2.00, 1.00),\n",
       "   Norm(2.00, 1.00),\n",
       "   Norm(2.00, 1.00),\n",
       "   Norm(2.00, 1.00),\n",
       "   Norm(2.00, 1.00),\n",
       "   Norm(2.00, 1.00),\n",
       "   Norm(2.00, 1.00),\n",
       "   Norm(2.00, 1.00),\n",
       "   Norm(2.00, 1.00),\n",
       "   Norm(2.00, 1.00),\n",
       "   Norm(2.00, 1.00),\n",
       "   Norm(2.00, 1.00)),\n",
       "  -0.03,\n",
       "  False,\n",
       "  {}),\n",
       " ((3.378434054458368,\n",
       "   1.8906258685471413,\n",
       "   1.4907697796379693,\n",
       "   1.4307838097081216,\n",
       "   Norm(2.00, 1.00),\n",
       "   Norm(2.00, 1.00),\n",
       "   Norm(2.00, 1.00),\n",
       "   Norm(2.00, 1.00),\n",
       "   Norm(2.00, 1.00),\n",
       "   Norm(2.00, 1.00),\n",
       "   Norm(2.00, 1.00),\n",
       "   Norm(2.00, 1.00),\n",
       "   Norm(2.00, 1.00),\n",
       "   Norm(2.00, 1.00),\n",
       "   Norm(2.00, 1.00),\n",
       "   Norm(2.00, 1.00)),\n",
       "  -0.03,\n",
       "  False,\n",
       "  {}),\n",
       " ((3.378434054458368,\n",
       "   1.8906258685471413,\n",
       "   1.4907697796379693,\n",
       "   1.4307838097081216,\n",
       "   3.1019516881516203,\n",
       "   Norm(2.00, 1.00),\n",
       "   Norm(2.00, 1.00),\n",
       "   Norm(2.00, 1.00),\n",
       "   Norm(2.00, 1.00),\n",
       "   Norm(2.00, 1.00),\n",
       "   Norm(2.00, 1.00),\n",
       "   Norm(2.00, 1.00),\n",
       "   Norm(2.00, 1.00),\n",
       "   Norm(2.00, 1.00),\n",
       "   Norm(2.00, 1.00),\n",
       "   Norm(2.00, 1.00)),\n",
       "  -0.03,\n",
       "  False,\n",
       "  {}),\n",
       " ((3.378434054458368,\n",
       "   1.8906258685471413,\n",
       "   1.4907697796379693,\n",
       "   1.4307838097081216,\n",
       "   3.1019516881516203,\n",
       "   1.9588118677227733,\n",
       "   Norm(2.00, 1.00),\n",
       "   Norm(2.00, 1.00),\n",
       "   Norm(2.00, 1.00),\n",
       "   Norm(2.00, 1.00),\n",
       "   Norm(2.00, 1.00),\n",
       "   Norm(2.00, 1.00),\n",
       "   Norm(2.00, 1.00),\n",
       "   Norm(2.00, 1.00),\n",
       "   Norm(2.00, 1.00),\n",
       "   Norm(2.00, 1.00)),\n",
       "  -0.03,\n",
       "  False,\n",
       "  {})]"
      ]
     },
     "execution_count": 73,
     "metadata": {},
     "output_type": "execute_result"
    }
   ],
   "source": [
    "[env.step(i) for i in range(6)]"
   ]
  },
  {
   "cell_type": "code",
   "execution_count": 74,
   "metadata": {},
   "outputs": [
    {
     "data": {
      "text/plain": [
       "array([[3.378434054458368, 1.8906258685471413, 1.4907697796379693, 1.4307838097081216],\n",
       "       [3.1019516881516203, 1.9588118677227733, Norm(2.00, 1.00), Norm(2.00, 1.00)],\n",
       "       [Norm(2.00, 1.00), Norm(2.00, 1.00), Norm(2.00, 1.00), Norm(2.00, 1.00)],\n",
       "       [Norm(2.00, 1.00), Norm(2.00, 1.00), Norm(2.00, 1.00), Norm(2.00, 1.00)]], dtype=object)"
      ]
     },
     "execution_count": 74,
     "metadata": {},
     "output_type": "execute_result"
    }
   ],
   "source": [
    "env.grid()"
   ]
  },
  {
   "cell_type": "code",
   "execution_count": 75,
   "metadata": {
    "scrolled": true
   },
   "outputs": [
    {
     "data": {
      "text/plain": [
       "('__term_state__', 2.4613271588973094, True, {})"
      ]
     },
     "execution_count": 75,
     "metadata": {},
     "output_type": "execute_result"
    }
   ],
   "source": [
    "env.step(16)"
   ]
  },
  {
   "cell_type": "code",
   "execution_count": 76,
   "metadata": {
    "scrolled": true
   },
   "outputs": [
    {
     "data": {
      "text/plain": [
       "False"
      ]
     },
     "execution_count": 76,
     "metadata": {},
     "output_type": "execute_result"
    }
   ],
   "source": [
    "env.ground_truth"
   ]
  },
  {
   "cell_type": "markdown",
   "metadata": {},
   "source": [
    "# $\\neg$GT, $\\neg$SR"
   ]
  },
  {
   "cell_type": "code",
   "execution_count": 109,
   "metadata": {
    "collapsed": true
   },
   "outputs": [],
   "source": [
    "env = OldMouselabEnv(gambles, attributes, reward, cost, randomness=1, ground_truth = False)"
   ]
  },
  {
   "cell_type": "code",
   "execution_count": 110,
   "metadata": {
    "scrolled": true
   },
   "outputs": [
    {
     "data": {
      "text/plain": [
       "(Norm(2.00, 1.00),\n",
       " Norm(2.00, 1.00),\n",
       " Norm(2.00, 1.00),\n",
       " Norm(2.00, 1.00),\n",
       " Norm(2.00, 1.00),\n",
       " Norm(2.00, 1.00),\n",
       " Norm(2.00, 1.00),\n",
       " Norm(2.00, 1.00),\n",
       " Norm(2.00, 1.00),\n",
       " Norm(2.00, 1.00),\n",
       " Norm(2.00, 1.00),\n",
       " Norm(2.00, 1.00),\n",
       " Norm(2.00, 1.00),\n",
       " Norm(2.00, 1.00),\n",
       " Norm(2.00, 1.00),\n",
       " Norm(2.00, 1.00))"
      ]
     },
     "execution_count": 110,
     "metadata": {},
     "output_type": "execute_result"
    }
   ],
   "source": [
    "env._state"
   ]
  },
  {
   "cell_type": "code",
   "execution_count": 117,
   "metadata": {
    "scrolled": false
   },
   "outputs": [
    {
     "data": {
      "text/plain": [
       "(Norm(2.00, 1.00),\n",
       " Norm(2.00, 1.00),\n",
       " Norm(2.00, 1.00),\n",
       " Norm(2.00, 1.00),\n",
       " Norm(2.00, 1.00),\n",
       " Norm(2.00, 1.00),\n",
       " Norm(2.00, 1.00),\n",
       " Norm(2.00, 1.00),\n",
       " Norm(2.00, 1.00),\n",
       " Norm(2.00, 1.00),\n",
       " Norm(2.00, 1.00),\n",
       " Norm(2.00, 1.00),\n",
       " Norm(2.00, 1.00),\n",
       " Norm(2.00, 1.00),\n",
       " Norm(2.00, 1.00),\n",
       " Norm(2.00, 1.00))"
      ]
     },
     "execution_count": 117,
     "metadata": {},
     "output_type": "execute_result"
    }
   ],
   "source": [
    "env.reset()"
   ]
  },
  {
   "cell_type": "code",
   "execution_count": 118,
   "metadata": {},
   "outputs": [
    {
     "data": {
      "text/plain": [
       "[((3.0665573493603078,\n",
       "   Norm(2.00, 1.00),\n",
       "   Norm(2.00, 1.00),\n",
       "   Norm(2.00, 1.00),\n",
       "   Norm(2.00, 1.00),\n",
       "   Norm(2.00, 1.00),\n",
       "   Norm(2.00, 1.00),\n",
       "   Norm(2.00, 1.00),\n",
       "   Norm(2.00, 1.00),\n",
       "   Norm(2.00, 1.00),\n",
       "   Norm(2.00, 1.00),\n",
       "   Norm(2.00, 1.00),\n",
       "   Norm(2.00, 1.00),\n",
       "   Norm(2.00, 1.00),\n",
       "   Norm(2.00, 1.00),\n",
       "   Norm(2.00, 1.00)),\n",
       "  -0.03,\n",
       "  False,\n",
       "  {}),\n",
       " ((3.0665573493603078,\n",
       "   3.753863666154312,\n",
       "   Norm(2.00, 1.00),\n",
       "   Norm(2.00, 1.00),\n",
       "   Norm(2.00, 1.00),\n",
       "   Norm(2.00, 1.00),\n",
       "   Norm(2.00, 1.00),\n",
       "   Norm(2.00, 1.00),\n",
       "   Norm(2.00, 1.00),\n",
       "   Norm(2.00, 1.00),\n",
       "   Norm(2.00, 1.00),\n",
       "   Norm(2.00, 1.00),\n",
       "   Norm(2.00, 1.00),\n",
       "   Norm(2.00, 1.00),\n",
       "   Norm(2.00, 1.00),\n",
       "   Norm(2.00, 1.00)),\n",
       "  -0.03,\n",
       "  False,\n",
       "  {}),\n",
       " ((3.0665573493603078,\n",
       "   3.753863666154312,\n",
       "   1.5725900117679668,\n",
       "   Norm(2.00, 1.00),\n",
       "   Norm(2.00, 1.00),\n",
       "   Norm(2.00, 1.00),\n",
       "   Norm(2.00, 1.00),\n",
       "   Norm(2.00, 1.00),\n",
       "   Norm(2.00, 1.00),\n",
       "   Norm(2.00, 1.00),\n",
       "   Norm(2.00, 1.00),\n",
       "   Norm(2.00, 1.00),\n",
       "   Norm(2.00, 1.00),\n",
       "   Norm(2.00, 1.00),\n",
       "   Norm(2.00, 1.00),\n",
       "   Norm(2.00, 1.00)),\n",
       "  -0.03,\n",
       "  False,\n",
       "  {}),\n",
       " ((3.0665573493603078,\n",
       "   3.753863666154312,\n",
       "   1.5725900117679668,\n",
       "   1.4552015089803207,\n",
       "   Norm(2.00, 1.00),\n",
       "   Norm(2.00, 1.00),\n",
       "   Norm(2.00, 1.00),\n",
       "   Norm(2.00, 1.00),\n",
       "   Norm(2.00, 1.00),\n",
       "   Norm(2.00, 1.00),\n",
       "   Norm(2.00, 1.00),\n",
       "   Norm(2.00, 1.00),\n",
       "   Norm(2.00, 1.00),\n",
       "   Norm(2.00, 1.00),\n",
       "   Norm(2.00, 1.00),\n",
       "   Norm(2.00, 1.00)),\n",
       "  -0.03,\n",
       "  False,\n",
       "  {}),\n",
       " ((3.0665573493603078,\n",
       "   3.753863666154312,\n",
       "   1.5725900117679668,\n",
       "   1.4552015089803207,\n",
       "   0.7929337358155275,\n",
       "   Norm(2.00, 1.00),\n",
       "   Norm(2.00, 1.00),\n",
       "   Norm(2.00, 1.00),\n",
       "   Norm(2.00, 1.00),\n",
       "   Norm(2.00, 1.00),\n",
       "   Norm(2.00, 1.00),\n",
       "   Norm(2.00, 1.00),\n",
       "   Norm(2.00, 1.00),\n",
       "   Norm(2.00, 1.00),\n",
       "   Norm(2.00, 1.00),\n",
       "   Norm(2.00, 1.00)),\n",
       "  -0.03,\n",
       "  False,\n",
       "  {}),\n",
       " ((3.0665573493603078,\n",
       "   3.753863666154312,\n",
       "   1.5725900117679668,\n",
       "   1.4552015089803207,\n",
       "   0.7929337358155275,\n",
       "   3.3725707020205182,\n",
       "   Norm(2.00, 1.00),\n",
       "   Norm(2.00, 1.00),\n",
       "   Norm(2.00, 1.00),\n",
       "   Norm(2.00, 1.00),\n",
       "   Norm(2.00, 1.00),\n",
       "   Norm(2.00, 1.00),\n",
       "   Norm(2.00, 1.00),\n",
       "   Norm(2.00, 1.00),\n",
       "   Norm(2.00, 1.00),\n",
       "   Norm(2.00, 1.00)),\n",
       "  -0.03,\n",
       "  False,\n",
       "  {})]"
      ]
     },
     "execution_count": 118,
     "metadata": {},
     "output_type": "execute_result"
    }
   ],
   "source": [
    "[env.step(i) for i in range(6)]"
   ]
  },
  {
   "cell_type": "code",
   "execution_count": 119,
   "metadata": {},
   "outputs": [
    {
     "data": {
      "text/plain": [
       "array([[3.0665573493603078, 3.753863666154312, 1.5725900117679668, 1.4552015089803207],\n",
       "       [0.7929337358155275, 3.3725707020205182, Norm(2.00, 1.00), Norm(2.00, 1.00)],\n",
       "       [Norm(2.00, 1.00), Norm(2.00, 1.00), Norm(2.00, 1.00), Norm(2.00, 1.00)],\n",
       "       [Norm(2.00, 1.00), Norm(2.00, 1.00), Norm(2.00, 1.00), Norm(2.00, 1.00)]], dtype=object)"
      ]
     },
     "execution_count": 119,
     "metadata": {},
     "output_type": "execute_result"
    }
   ],
   "source": [
    "env.grid()"
   ]
  },
  {
   "cell_type": "code",
   "execution_count": 120,
   "metadata": {
    "scrolled": true
   },
   "outputs": [
    {
     "data": {
      "text/plain": [
       "('__term_state__', 2.0, True, {})"
      ]
     },
     "execution_count": 120,
     "metadata": {},
     "output_type": "execute_result"
    }
   ],
   "source": [
    "env.step(16)"
   ]
  },
  {
   "cell_type": "code",
   "execution_count": 121,
   "metadata": {
    "scrolled": true
   },
   "outputs": [
    {
     "data": {
      "text/plain": [
       "False"
      ]
     },
     "execution_count": 121,
     "metadata": {},
     "output_type": "execute_result"
    }
   ],
   "source": [
    "env.ground_truth"
   ]
  },
  {
   "cell_type": "code",
   "execution_count": 122,
   "metadata": {},
   "outputs": [
    {
     "data": {
      "text/plain": [
       "[1.6030738630292483, 1.9537916839850449, 2.0, 2.0]"
      ]
     },
     "execution_count": 122,
     "metadata": {},
     "output_type": "execute_result"
    }
   ],
   "source": [
    "env.mus"
   ]
  },
  {
   "cell_type": "code",
   "execution_count": 123,
   "metadata": {
    "scrolled": true
   },
   "outputs": [
    {
     "data": {
      "text/plain": [
       "array([ 0.041,  0.002,  0.654,  0.303])"
      ]
     },
     "execution_count": 123,
     "metadata": {},
     "output_type": "execute_result"
    }
   ],
   "source": [
    "env.dist"
   ]
  },
  {
   "cell_type": "markdown",
   "metadata": {},
   "source": [
    "# GT, $\\neg$SR"
   ]
  },
  {
   "cell_type": "code",
   "execution_count": 164,
   "metadata": {
    "collapsed": true
   },
   "outputs": [],
   "source": [
    "env = OldMouselabEnv(gambles, attributes, reward, cost, randomness=1, ground_truth = None)"
   ]
  },
  {
   "cell_type": "code",
   "execution_count": 165,
   "metadata": {
    "scrolled": true
   },
   "outputs": [
    {
     "data": {
      "text/plain": [
       "(Norm(2.00, 1.00),\n",
       " Norm(2.00, 1.00),\n",
       " Norm(2.00, 1.00),\n",
       " Norm(2.00, 1.00),\n",
       " Norm(2.00, 1.00),\n",
       " Norm(2.00, 1.00),\n",
       " Norm(2.00, 1.00),\n",
       " Norm(2.00, 1.00),\n",
       " Norm(2.00, 1.00),\n",
       " Norm(2.00, 1.00),\n",
       " Norm(2.00, 1.00),\n",
       " Norm(2.00, 1.00),\n",
       " Norm(2.00, 1.00),\n",
       " Norm(2.00, 1.00),\n",
       " Norm(2.00, 1.00),\n",
       " Norm(2.00, 1.00))"
      ]
     },
     "execution_count": 165,
     "metadata": {},
     "output_type": "execute_result"
    }
   ],
   "source": [
    "env._state"
   ]
  },
  {
   "cell_type": "code",
   "execution_count": 166,
   "metadata": {},
   "outputs": [
    {
     "data": {
      "text/plain": [
       "[((2.5393907523692065,\n",
       "   Norm(2.00, 1.00),\n",
       "   Norm(2.00, 1.00),\n",
       "   Norm(2.00, 1.00),\n",
       "   Norm(2.00, 1.00),\n",
       "   Norm(2.00, 1.00),\n",
       "   Norm(2.00, 1.00),\n",
       "   Norm(2.00, 1.00),\n",
       "   Norm(2.00, 1.00),\n",
       "   Norm(2.00, 1.00),\n",
       "   Norm(2.00, 1.00),\n",
       "   Norm(2.00, 1.00),\n",
       "   Norm(2.00, 1.00),\n",
       "   Norm(2.00, 1.00),\n",
       "   Norm(2.00, 1.00),\n",
       "   Norm(2.00, 1.00)),\n",
       "  -0.03,\n",
       "  False,\n",
       "  {}),\n",
       " ((2.5393907523692065,\n",
       "   1.5629486208841425,\n",
       "   Norm(2.00, 1.00),\n",
       "   Norm(2.00, 1.00),\n",
       "   Norm(2.00, 1.00),\n",
       "   Norm(2.00, 1.00),\n",
       "   Norm(2.00, 1.00),\n",
       "   Norm(2.00, 1.00),\n",
       "   Norm(2.00, 1.00),\n",
       "   Norm(2.00, 1.00),\n",
       "   Norm(2.00, 1.00),\n",
       "   Norm(2.00, 1.00),\n",
       "   Norm(2.00, 1.00),\n",
       "   Norm(2.00, 1.00),\n",
       "   Norm(2.00, 1.00),\n",
       "   Norm(2.00, 1.00)),\n",
       "  -0.03,\n",
       "  False,\n",
       "  {}),\n",
       " ((2.5393907523692065,\n",
       "   1.5629486208841425,\n",
       "   2.9862812006671833,\n",
       "   Norm(2.00, 1.00),\n",
       "   Norm(2.00, 1.00),\n",
       "   Norm(2.00, 1.00),\n",
       "   Norm(2.00, 1.00),\n",
       "   Norm(2.00, 1.00),\n",
       "   Norm(2.00, 1.00),\n",
       "   Norm(2.00, 1.00),\n",
       "   Norm(2.00, 1.00),\n",
       "   Norm(2.00, 1.00),\n",
       "   Norm(2.00, 1.00),\n",
       "   Norm(2.00, 1.00),\n",
       "   Norm(2.00, 1.00),\n",
       "   Norm(2.00, 1.00)),\n",
       "  -0.03,\n",
       "  False,\n",
       "  {}),\n",
       " ((2.5393907523692065,\n",
       "   1.5629486208841425,\n",
       "   2.9862812006671833,\n",
       "   0.8459585859269918,\n",
       "   Norm(2.00, 1.00),\n",
       "   Norm(2.00, 1.00),\n",
       "   Norm(2.00, 1.00),\n",
       "   Norm(2.00, 1.00),\n",
       "   Norm(2.00, 1.00),\n",
       "   Norm(2.00, 1.00),\n",
       "   Norm(2.00, 1.00),\n",
       "   Norm(2.00, 1.00),\n",
       "   Norm(2.00, 1.00),\n",
       "   Norm(2.00, 1.00),\n",
       "   Norm(2.00, 1.00),\n",
       "   Norm(2.00, 1.00)),\n",
       "  -0.03,\n",
       "  False,\n",
       "  {}),\n",
       " ((2.5393907523692065,\n",
       "   1.5629486208841425,\n",
       "   2.9862812006671833,\n",
       "   0.8459585859269918,\n",
       "   0.81750436846740149,\n",
       "   Norm(2.00, 1.00),\n",
       "   Norm(2.00, 1.00),\n",
       "   Norm(2.00, 1.00),\n",
       "   Norm(2.00, 1.00),\n",
       "   Norm(2.00, 1.00),\n",
       "   Norm(2.00, 1.00),\n",
       "   Norm(2.00, 1.00),\n",
       "   Norm(2.00, 1.00),\n",
       "   Norm(2.00, 1.00),\n",
       "   Norm(2.00, 1.00),\n",
       "   Norm(2.00, 1.00)),\n",
       "  -0.03,\n",
       "  False,\n",
       "  {}),\n",
       " ((2.5393907523692065,\n",
       "   1.5629486208841425,\n",
       "   2.9862812006671833,\n",
       "   0.8459585859269918,\n",
       "   0.81750436846740149,\n",
       "   1.5596043670470483,\n",
       "   Norm(2.00, 1.00),\n",
       "   Norm(2.00, 1.00),\n",
       "   Norm(2.00, 1.00),\n",
       "   Norm(2.00, 1.00),\n",
       "   Norm(2.00, 1.00),\n",
       "   Norm(2.00, 1.00),\n",
       "   Norm(2.00, 1.00),\n",
       "   Norm(2.00, 1.00),\n",
       "   Norm(2.00, 1.00),\n",
       "   Norm(2.00, 1.00)),\n",
       "  -0.03,\n",
       "  False,\n",
       "  {})]"
      ]
     },
     "execution_count": 166,
     "metadata": {},
     "output_type": "execute_result"
    }
   ],
   "source": [
    "[env.step(i) for i in range(6)]"
   ]
  },
  {
   "cell_type": "code",
   "execution_count": 167,
   "metadata": {},
   "outputs": [
    {
     "data": {
      "text/plain": [
       "array([[2.5393907523692065, 1.5629486208841425, 2.9862812006671833, 0.8459585859269918],\n",
       "       [0.81750436846740149, 1.5596043670470483, Norm(2.00, 1.00), Norm(2.00, 1.00)],\n",
       "       [Norm(2.00, 1.00), Norm(2.00, 1.00), Norm(2.00, 1.00), Norm(2.00, 1.00)],\n",
       "       [Norm(2.00, 1.00), Norm(2.00, 1.00), Norm(2.00, 1.00), Norm(2.00, 1.00)]], dtype=object)"
      ]
     },
     "execution_count": 167,
     "metadata": {},
     "output_type": "execute_result"
    }
   ],
   "source": [
    "env.grid()"
   ]
  },
  {
   "cell_type": "code",
   "execution_count": 168,
   "metadata": {
    "scrolled": true
   },
   "outputs": [
    {
     "data": {
      "text/plain": [
       "('__term_state__', 2.0, True, {})"
      ]
     },
     "execution_count": 168,
     "metadata": {},
     "output_type": "execute_result"
    }
   ],
   "source": [
    "env.step(16)"
   ]
  },
  {
   "cell_type": "code",
   "execution_count": 169,
   "metadata": {
    "scrolled": true
   },
   "outputs": [
    {
     "data": {
      "text/plain": [
       "array([ 2.539,  1.563,  2.986,  0.846,  0.818,  1.56 ,  1.654,  1.759,  2.059,  1.907,  1.908,  2.345,  2.228,  1.825,  3.274,  2.694])"
      ]
     },
     "execution_count": 169,
     "metadata": {},
     "output_type": "execute_result"
    }
   ],
   "source": [
    "env.ground_truth"
   ]
  },
  {
   "cell_type": "code",
   "execution_count": 170,
   "metadata": {},
   "outputs": [
    {
     "data": {
      "text/plain": [
       "[1.855641065211922, 1.5332240082439264, 2.0, 2.0]"
      ]
     },
     "execution_count": 170,
     "metadata": {},
     "output_type": "execute_result"
    }
   ],
   "source": [
    "env.mus"
   ]
  },
  {
   "cell_type": "code",
   "execution_count": 171,
   "metadata": {},
   "outputs": [
    {
     "data": {
      "text/plain": [
       "array([ 0.35 ,  0.121,  0.155,  0.375])"
      ]
     },
     "execution_count": 171,
     "metadata": {},
     "output_type": "execute_result"
    }
   ],
   "source": [
    "env.dist"
   ]
  }
 ],
 "metadata": {
  "kernelspec": {
   "display_name": "Python 3",
   "language": "python",
   "name": "python3"
  },
  "language_info": {
   "codemirror_mode": {
    "name": "ipython",
    "version": 3
   },
   "file_extension": ".py",
   "mimetype": "text/x-python",
   "name": "python",
   "nbconvert_exporter": "python",
   "pygments_lexer": "ipython3",
   "version": "3.6.2"
  }
 },
 "nbformat": 4,
 "nbformat_minor": 2
}
