{
 "cells": [
  {
   "cell_type": "code",
   "execution_count": 1,
   "metadata": {
    "collapsed": true
   },
   "outputs": [],
   "source": [
    "import numpy as np\n",
    "import scipy.misc\n",
    "import scipy.io\n",
    "import matplotlib.pyplot as plt\n",
    "%matplotlib inline\n",
    "from functools import lru_cache"
   ]
  },
  {
   "cell_type": "code",
   "execution_count": 46,
   "metadata": {
    "collapsed": true
   },
   "outputs": [],
   "source": [
    "class Labeler(object):\n",
    "    \"\"\"Assigns unique integer labels.\"\"\"\n",
    "    def __init__(self, init=()):\n",
    "        self._labels = {}\n",
    "        self._xs = []\n",
    "        for x in init:\n",
    "            self.label(x)\n",
    "    \n",
    "    def __contains__(self, x):\n",
    "        return x in self._labels\n",
    "    \n",
    "    def __len__(self):\n",
    "        return len(self._labels)\n",
    "\n",
    "    def label(self, x):\n",
    "        if x not in self._labels:\n",
    "            self._labels[x] = len(self._labels)\n",
    "            self._xs.append(x)\n",
    "        return self._labels[x]\n",
    "\n",
    "    def unlabel(self, label):\n",
    "        return self._xs[label]\n",
    "\n",
    "    __call__ = label"
   ]
  },
  {
   "cell_type": "code",
   "execution_count": 53,
   "metadata": {
    "collapsed": false
   },
   "outputs": [],
   "source": [
    "initial_state = ((0,0), (0,0), (0, 0))  # (alpha, beta) for each arm\n",
    "final_state = label(0)\n",
    "\n",
    "n_arm = 2\n",
    "n_action = n_arm + 1\n",
    "cost = 0.01\n",
    "term_action = n_arm\n",
    "\n",
    "T = defaultdict(lambda: defaultdict(lambda: np.zeros(n_action))) # s, s1, a\n",
    "R = defaultdict(lambda: np.zeros(n_action)) # s, a\n",
    "\n",
    "label = Labeler()\n",
    "\n",
    "def outcomes(s, a):\n",
    "    alpha, beta = state[a]\n",
    "    s1 = state[:a] + ((alpha + obs, beta + 1 - obs),) + state[a+1:]\n",
    "    return sorted(s1)  # state space reduction\n",
    "\n",
    "def visit(s):\n",
    "    if label(s) in T:  # already done\n",
    "        return\n",
    "    for a in range(n_arm):\n",
    "        for prob, s1 in outcomes(s, a):       \n",
    "            T[label(s)][label(s1)][a] = prob\n",
    "            R[label(s)][a] = cost\n",
    "            visit(s1)\n",
    "    T[label(s)][final_state][a] = 1\n",
    "    R[label(s)][term_action] = -1  # expectation of best arm\n",
    "    \n",
    "visit(initial_state)"
   ]
  },
  {
   "cell_type": "code",
   "execution_count": 48,
   "metadata": {
    "collapsed": false
   },
   "outputs": [
    {
     "ename": "TypeError",
     "evalue": "object of type 'Labeler' has no len()",
     "output_type": "error",
     "traceback": [
      "\u001b[0;31m---------------------------------------------------------------------------\u001b[0m",
      "\u001b[0;31mTypeError\u001b[0m                                 Traceback (most recent call last)",
      "\u001b[0;32m<ipython-input-48-8195a0c2fe5f>\u001b[0m in \u001b[0;36m<module>\u001b[0;34m()\u001b[0m\n\u001b[0;32m----> 1\u001b[0;31m \u001b[0mn_state\u001b[0m \u001b[0;34m=\u001b[0m \u001b[0mlen\u001b[0m\u001b[0;34m(\u001b[0m\u001b[0mlabel\u001b[0m\u001b[0;34m)\u001b[0m\u001b[0;34m\u001b[0m\u001b[0m\n\u001b[0m\u001b[1;32m      2\u001b[0m \u001b[0mT1\u001b[0m \u001b[0;34m=\u001b[0m \u001b[0mnp\u001b[0m\u001b[0;34m.\u001b[0m\u001b[0mzeros\u001b[0m\u001b[0;34m(\u001b[0m\u001b[0;34m(\u001b[0m\u001b[0mn_state\u001b[0m\u001b[0;34m,\u001b[0m \u001b[0mn_state\u001b[0m\u001b[0;34m,\u001b[0m \u001b[0mn_action\u001b[0m\u001b[0;34m)\u001b[0m\u001b[0;34m)\u001b[0m\u001b[0;34m\u001b[0m\u001b[0m\n\u001b[1;32m      3\u001b[0m \u001b[0mR1\u001b[0m \u001b[0;34m=\u001b[0m \u001b[0mnp\u001b[0m\u001b[0;34m.\u001b[0m\u001b[0mzeros\u001b[0m\u001b[0;34m(\u001b[0m\u001b[0;34m(\u001b[0m\u001b[0mn_state\u001b[0m\u001b[0;34m,\u001b[0m \u001b[0mn_action\u001b[0m\u001b[0;34m)\u001b[0m\u001b[0;34m)\u001b[0m\u001b[0;34m\u001b[0m\u001b[0m\n\u001b[1;32m      4\u001b[0m \u001b[0;31m# Move values from T and R into T1 and R1\u001b[0m\u001b[0;34m\u001b[0m\u001b[0;34m\u001b[0m\u001b[0m\n",
      "\u001b[0;31mTypeError\u001b[0m: object of type 'Labeler' has no len()"
     ]
    }
   ],
   "source": [
    "n_state = len(label)\n",
    "T1 = np.zeros((n_state, n_state, n_action))\n",
    "R1 = np.zeros((n_state, n_action))\n",
    "# Move values from T and R into T1 and R1"
   ]
  }
 ],
 "metadata": {
  "anaconda-cloud": {},
  "kernelspec": {
   "display_name": "Python [default]",
   "language": "python",
   "name": "python3"
  },
  "language_info": {
   "codemirror_mode": {
    "name": "ipython",
    "version": 3
   },
   "file_extension": ".py",
   "mimetype": "text/x-python",
   "name": "python",
   "nbconvert_exporter": "python",
   "pygments_lexer": "ipython3",
   "version": "3.5.2"
  }
 },
 "nbformat": 4,
 "nbformat_minor": 2
}
