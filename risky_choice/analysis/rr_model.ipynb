{
 "cells": [
  {
   "cell_type": "code",
   "execution_count": 1,
   "metadata": {
    "collapsed": false
   },
   "outputs": [],
   "source": [
    "%matplotlib inline\n",
    "%load_ext autoreload\n",
    "%autoreload 2\n",
    "\n",
    "import matplotlib.pyplot as plt\n",
    "import numpy as np\n",
    "import pandas as pd\n",
    "import seaborn as sns\n",
    "sns.set_style('white')\n",
    "sns.set_context('notebook', font_scale=1.3)\n",
    "\n",
    "import itertools as it\n",
    "from collections import Counter, defaultdict, deque"
   ]
  },
  {
   "cell_type": "code",
   "execution_count": 4,
   "metadata": {
    "collapsed": false
   },
   "outputs": [
    {
     "name": "stdout",
     "output_type": "stream",
     "text": [
      "/home/fredcallaway/mcrl/risky_choice\n"
     ]
    }
   ],
   "source": [
    "cd .."
   ]
  },
  {
   "cell_type": "code",
   "execution_count": 5,
   "metadata": {
    "collapsed": false
   },
   "outputs": [],
   "source": [
    "import json\n",
    "df = pd.read_csv('data/03242018/trials.csv', index_col=0)\n",
    "for col in ['outcome_probs', 'ground_truth', 'clicks']:\n",
    "    df[col] = df[col].apply(json.loads)"
   ]
  },
  {
   "cell_type": "code",
   "execution_count": 10,
   "metadata": {
    "collapsed": false
   },
   "outputs": [
    {
     "name": "stdout",
     "output_type": "stream",
     "text": [
      "/home/fredcallaway/mcrl/python\n"
     ]
    }
   ],
   "source": [
    "cd ../python"
   ]
  },
  {
   "cell_type": "code",
   "execution_count": 11,
   "metadata": {
    "collapsed": false
   },
   "outputs": [],
   "source": [
    "from oldmouselab import OldMouselabEnv\n",
    "from distributions import TruncatedNormal\n",
    "from policies import LiederPolicy\n",
    "from evaluation import read_ombo_policy\n",
    "from agents import Agent\n",
    "\n",
    "N_GAMBLE = 7\n",
    "N_OUTCOME = 4\n",
    "N_CELL = N_GAMBLE * N_OUTCOME"
   ]
  },
  {
   "cell_type": "code",
   "execution_count": 12,
   "metadata": {
    "collapsed": false
   },
   "outputs": [
    {
     "name": "stderr",
     "output_type": "stream",
     "text": [
      " 32%|███▏      | 63/200 [00:12<00:27,  5.01it/s]/home/fredcallaway/miniconda3/lib/python3.6/site-packages/scipy/integrate/quadpack.py:364: IntegrationWarning: The integral is probably divergent, or slowly convergent.\n",
      "  warnings.warn(msg, IntegrationWarning)\n",
      " 48%|████▊     | 95/200 [01:03<01:09,  1.50it/s]/home/fredcallaway/miniconda3/lib/python3.6/site-packages/scipy/integrate/quadpack.py:364: IntegrationWarning: The integral is probably divergent, or slowly convergent.\n",
      "  warnings.warn(msg, IntegrationWarning)\n",
      " 77%|███████▋  | 154/200 [02:20<00:42,  1.09it/s]/home/fredcallaway/miniconda3/lib/python3.6/site-packages/scipy/integrate/quadpack.py:364: IntegrationWarning: The integral is probably divergent, or slowly convergent.\n",
      "  warnings.warn(msg, IntegrationWarning)\n",
      "100%|██████████| 200/200 [03:32<00:00,  1.06s/it]\n"
     ]
    }
   ],
   "source": [
    "from tqdm import tqdm\n",
    "\n",
    "def expand(row_idx):\n",
    "    def loop():\n",
    "        for i, row in df.iloc[list(row_idx)].iterrows():\n",
    "            env = OldMouselabEnv(\n",
    "                N_GAMBLE, row.outcome_probs, cost=.01, ground_truth=row.ground_truth,\n",
    "                reward=TruncatedNormal(row.reward_mu, row.reward_sigma, 0.01,9.99)\n",
    "            )\n",
    "            pol = read_ombo_policy(row.reward_mu, row.reward_sigma, row.outcome_probs)\n",
    "            agent = Agent()\n",
    "            agent.register(env)\n",
    "            agent.register(pol)\n",
    "\n",
    "            for a in [*row.clicks, env.term_action]:\n",
    "                prefs = np.array([pol.preference(a) for a in range(N_CELL + 1)])\n",
    "                prefs -= prefs.max()\n",
    "\n",
    "                yield {'action': a, 'state': env._state, 'prefs': prefs,\n",
    "                       'workerid': row.workerid, 'trial_index': row.trial_index}\n",
    "                env.step(a)\n",
    "    return pd.DataFrame(loop())\n",
    "\n",
    "from toolz import partition_all\n",
    "chunks = list(partition_all(10, range(len(df))))\n",
    "\n",
    "from joblib import Parallel, delayed\n",
    "jobs = tqdm([delayed(expand)(c) for c in chunks])\n",
    "results = Parallel(30)(jobs)\n",
    "action_df = pd.concat(results)"
   ]
  },
  {
   "cell_type": "code",
   "execution_count": 47,
   "metadata": {
    "collapsed": false
   },
   "outputs": [],
   "source": [
    "def n_options(prefs):\n",
    "    return np.sum(prefs > -90)\n",
    "\n",
    "action_df['n_options'] = action_df.prefs.apply(n_options)\n",
    "action_df['p_rand'] = 1 / action_df.n_options.as_matrix()"
   ]
  },
  {
   "cell_type": "code",
   "execution_count": 48,
   "metadata": {
    "collapsed": false
   },
   "outputs": [],
   "source": [
    "def opt_actions(prefs, tol=.01):\n",
    "    return prefs > -tol\n",
    "\n",
    "def optimal_likelihood(row):\n",
    "    opt_acts = opt_actions(row.prefs)\n",
    "    return opt_acts[row.action] / opt_acts.sum()\n",
    "    \n",
    "\n",
    "action_df['p_opt'] = action_df.apply(optimal_likelihood, axis=1)"
   ]
  },
  {
   "cell_type": "code",
   "execution_count": 49,
   "metadata": {
    "collapsed": false
   },
   "outputs": [],
   "source": [
    "def epsilon_greedy_loglike(data, eps):\n",
    "    like = eps * data.p_rand.as_matrix() + (1-eps) * data.p_opt.as_matrix()\n",
    "    return np.log(like).sum(-1)\n",
    "\n",
    "def max_likelihood(data):\n",
    "    eps = np.linspace(0,0.5)[1:]\n",
    "    logp = epsilon_greedy_loglike(data, eps[:, None])\n",
    "    \n",
    "    best_idx = np.argmax(logp)\n",
    "    return {'eps': eps[best_idx], \n",
    "            'p_opt': logp[best_idx], \n",
    "            'baseline': epsilon_greedy_loglike(data, 1)}\n",
    "\n",
    "ind_results = action_df.groupby('workerid').apply(max_likelihood)\n",
    "ind_results = pd.DataFrame(list(ind_results), index=ind_results.index)\n",
    "\n",
    "# np.exp(logp / len(action_df))"
   ]
  },
  {
   "cell_type": "code",
   "execution_count": 55,
   "metadata": {
    "collapsed": false
   },
   "outputs": [
    {
     "data": {
      "text/plain": [
       "100"
      ]
     },
     "execution_count": 55,
     "metadata": {},
     "output_type": "execute_result"
    }
   ],
   "source": [
    "len(ind_results)"
   ]
  },
  {
   "cell_type": "code",
   "execution_count": 58,
   "metadata": {
    "collapsed": true
   },
   "outputs": [],
   "source": [
    "(ind_results\n",
    " .rename(columns={'p_opt': 'log_likelihood', 'eps': 'epsilon'})\n",
    " .to_csv('~/mcrl/risky_choice/results/RR_individual_mle.csv')\n",
    ")"
   ]
  },
  {
   "cell_type": "code",
   "execution_count": 46,
   "metadata": {
    "collapsed": false
   },
   "outputs": [
    {
     "name": "stderr",
     "output_type": "stream",
     "text": [
      "/home/fredcallaway/miniconda3/lib/python3.6/site-packages/ipykernel_launcher.py:5: RuntimeWarning: divide by zero encountered in log\n",
      "  \"\"\"\n"
     ]
    },
    {
     "data": {
      "text/plain": [
       "[<matplotlib.lines.Line2D at 0x7fafc84d01d0>]"
      ]
     },
     "execution_count": 46,
     "metadata": {},
     "output_type": "execute_result"
    },
    {
     "data": {
      "image/png": "[encoded data removed]",
      "text/plain": [
       "<matplotlib.figure.Figure at 0x7fafc862dc18>"
      ]
     },
     "metadata": {},
     "output_type": "display_data"
    }
   ],
   "source": [
    "eps = np.linspace(0,1)\n",
    "logp = epsilon_greedy_loglike(action_df, eps[:, None])\n",
    "likelihood = np.exp(logp / len(action_df))\n",
    "plt.plot(eps, likelihood)"
   ]
  },
  {
   "cell_type": "code",
   "execution_count": 200,
   "metadata": {
    "collapsed": true
   },
   "outputs": [],
   "source": [
    "prefs = np.stack(action_df.prefs)\n",
    "opt_acts = opt_actions(prefs)\n",
    "action_df['click_is_opt'] = opt_acts[:, :-1].any(1)\n",
    "action_df['term_is_opt'] = opt_acts[:, -1]"
   ]
  },
  {
   "cell_type": "code",
   "execution_count": 201,
   "metadata": {
    "collapsed": false
   },
   "outputs": [
    {
     "data": {
      "text/plain": [
       "0.51040108769544523"
      ]
     },
     "execution_count": 201,
     "metadata": {},
     "output_type": "execute_result"
    }
   ],
   "source": [
    "action_df['term_action'] = action_df.action == 28\n",
    "action_df['optimal'] = action_df.p_opt > 0\n",
    "action_df.optimal.mean()"
   ]
  },
  {
   "cell_type": "code",
   "execution_count": 199,
   "metadata": {
    "collapsed": false
   },
   "outputs": [
    {
     "data": {
      "text/html": [
       "<div>\n",
       "<style>\n",
       "    .dataframe thead tr:only-child th {\n",
       "        text-align: right;\n",
       "    }\n",
       "\n",
       "    .dataframe thead th {\n",
       "        text-align: left;\n",
       "    }\n",
       "\n",
       "    .dataframe tbody tr th {\n",
       "        vertical-align: top;\n",
       "    }\n",
       "</style>\n",
       "<table border=\"1\" class=\"dataframe\">\n",
       "  <thead>\n",
       "    <tr style=\"text-align: right;\">\n",
       "      <th>term_is_opt</th>\n",
       "      <th>False</th>\n",
       "      <th>True</th>\n",
       "    </tr>\n",
       "    <tr>\n",
       "      <th>term_action</th>\n",
       "      <th></th>\n",
       "      <th></th>\n",
       "    </tr>\n",
       "  </thead>\n",
       "  <tbody>\n",
       "    <tr>\n",
       "      <th>False</th>\n",
       "      <td>0.592786</td>\n",
       "      <td>0.221908</td>\n",
       "    </tr>\n",
       "    <tr>\n",
       "      <th>True</th>\n",
       "      <td>0.000000</td>\n",
       "      <td>1.000000</td>\n",
       "    </tr>\n",
       "  </tbody>\n",
       "</table>\n",
       "</div>"
      ],
      "text/plain": [
       "term_is_opt     False     True \n",
       "term_action                    \n",
       "False        0.592786  0.221908\n",
       "True         0.000000  1.000000"
      ]
     },
     "execution_count": 199,
     "metadata": {},
     "output_type": "execute_result"
    }
   ],
   "source": [
    "action_df.groupby(['term_action', 'term_is_opt']).optimal.mean().unstack()"
   ]
  },
  {
   "cell_type": "code",
   "execution_count": 257,
   "metadata": {
    "collapsed": false
   },
   "outputs": [
    {
     "name": "stdout",
     "output_type": "stream",
     "text": [
      "0    1.0\n"
     ]
    }
   ],
   "source": [
    "tbl = dd.groupby(['term_action', 'term_is_opt']).apply(len) / len(dd)\n",
    "print(tbl.get((1, 0), 0),'  ', tbl.get((0, 1), 0))"
   ]
  },
  {
   "cell_type": "code",
   "execution_count": null,
   "metadata": {
    "collapsed": true
   },
   "outputs": [],
   "source": [
    "1"
   ]
  },
  {
   "cell_type": "code",
   "execution_count": 258,
   "metadata": {
    "collapsed": false
   },
   "outputs": [
    {
     "name": "stdout",
     "output_type": "stream",
     "text": [
      "high dispersion  high stakes\n",
      "\n",
      "0.103977272727    0.441477272727\n",
      "\n",
      "\n",
      "high dispersion  low stakes\n",
      "\n",
      "0.483957219251    0.371657754011\n",
      "\n",
      "\n",
      "low dispersion  high stakes\n",
      "\n",
      "0.0947765212709    0.128971459343\n",
      "\n",
      "\n",
      "low dispersion  low stakes\n",
      "\n",
      "0    1.0\n",
      "\n",
      "\n"
     ]
    }
   ],
   "source": [
    "errors = action_df.query('not optimal').copy()\n",
    "for (d, s), dd in errors.groupby(['dispersion', 'stakes']):\n",
    "    print(f'{d} dispersion  {s} stakes\\n')\n",
    "    tbl = dd.groupby(['term_action', 'term_is_opt']).apply(len) / len(dd)\n",
    "    print(tbl.get((1, 0), 0),'  ', tbl.get((0, 1), 0))\n",
    "    print('\\n')"
   ]
  },
  {
   "cell_type": "code",
   "execution_count": 191,
   "metadata": {
    "collapsed": false
   },
   "outputs": [
    {
     "data": {
      "text/plain": [
       "0.3816995279089142"
      ]
     },
     "execution_count": 191,
     "metadata": {},
     "output_type": "execute_result"
    }
   ],
   "source": [
    "df = df.set_index(['workerid', 'trial_index'])\n",
    "action_df = action_df.set_index(['workerid', 'trial_index'])\n",
    "df['stakes'] = df.reward_mu.apply(lambda x: 'high' if x == 5.0 else 'low')\n",
    "df['dispersion'] = df.outcome_probs.apply(lambda x: 'high' if np.max(x) >= 0.85 else 'low')\n",
    "for c in 'stakes', 'dispersion':\n",
    "    action_df[c] = df[c]"
   ]
  },
  {
   "cell_type": "code",
   "execution_count": null,
   "metadata": {
    "collapsed": true
   },
   "outputs": [],
   "source": [
    "\n",
    "\n",
    "\n",
    "\n",
    "\n",
    "\n",
    "\n",
    "\n",
    "\n",
    "\n",
    "\n",
    "\n",
    "\n",
    "\n"
   ]
  },
  {
   "cell_type": "code",
   "execution_count": null,
   "metadata": {
    "collapsed": true
   },
   "outputs": [],
   "source": []
  }
 ],
 "metadata": {
  "anaconda-cloud": {},
  "kernelspec": {
   "display_name": "Python 3",
   "language": "python",
   "name": "python3"
  },
  "language_info": {
   "codemirror_mode": {
    "name": "ipython",
    "version": 3
   },
   "file_extension": ".py",
   "mimetype": "text/x-python",
   "name": "python",
   "nbconvert_exporter": "python",
   "pygments_lexer": "ipython3",
   "version": "3.6.2"
  },
  "nav_menu": {},
  "toc": {
   "navigate_menu": true,
   "number_sections": true,
   "sideBar": true,
   "threshold": 6,
   "toc_cell": false,
   "toc_section_display": "block",
   "toc_window_display": false
  }
 },
 "nbformat": 4,
 "nbformat_minor": 1
}
