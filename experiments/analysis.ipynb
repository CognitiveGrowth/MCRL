{
 "cells": [
  {
   "cell_type": "code",
   "execution_count": 58,
   "metadata": {
    "collapsed": false
   },
   "outputs": [
    {
     "name": "stdout",
     "output_type": "stream",
     "text": [
      "The rpy2.ipython extension is already loaded. To reload it, use:\n",
      "  %reload_ext rpy2.ipython\n"
     ]
    }
   ],
   "source": [
    "%matplotlib inline\n",
    "\n",
    "import matplotlib.pyplot as plt\n",
    "import numpy as np\n",
    "import pandas as pd\n",
    "import seaborn as sns\n",
    "sns.set_style('white')\n",
    "sns.set_context('notebook', font_scale=1.3)\n",
    "\n",
    "import itertools as it\n",
    "from collections import Counter, defaultdict, deque\n",
    "\n",
    "import json\n",
    "import time\n",
    "import itertools as it\n",
    "import sys\n",
    "sys.path.append('lib')\n",
    "from analysis_utils import *\n",
    "\n",
    "import rpy2.robjects as ro\n",
    "from rpy2.robjects import pandas2ri\n",
    "pandas2ri.activate()\n",
    "from rpy2.robjects.conversion import ri2py\n",
    "%load_ext rpy2.ipython"
   ]
  },
  {
   "cell_type": "markdown",
   "metadata": {},
   "source": [
    "# Todo \n",
    "- make PR_type a string for all versions"
   ]
  },
  {
   "cell_type": "code",
   "execution_count": 80,
   "metadata": {
    "collapsed": false
   },
   "outputs": [],
   "source": [
    "def combine(*vs):\n",
    "    def loop():\n",
    "        first_pid = 0\n",
    "        for v in vs:\n",
    "            df = pd.read_csv('data/human/0.{}/mouselab-mdp.csv'.format(v))\n",
    "            pdf = pd.read_csv('data/human/0.{}/participants.csv'.format(v))\n",
    "            df.pid += first_pid\n",
    "            pdf.pid += first_pid\n",
    "            first_pid += max(pdf.pid.max(), df.pid.max()) + 1\n",
    "            yield df, pdf\n",
    "    dfs, pdfs = zip(*loop())\n",
    "    df = pd.concat(dfs).reset_index()\n",
    "    pdf = pd.concat(pdfs).reset_index().set_index('pid', drop=False)\n",
    "    return df, pdf\n",
    "\n",
    "df, pdf = combine(6)\n",
    "\n",
    "completed = list(pdf.query('completed').pid)\n",
    "df = df.query('pid == @completed')\n",
    "pdf = pdf.query('pid == @completed')\n",
    "\n",
    "df.trial_index = df.trial_index.astype(int)\n",
    "df.trial_i = df.trial_i.astype(int)\n",
    "df['version'] = list(pdf.version.loc[df.pid])\n",
    "df['info_cost'] = list(pdf.info_cost.loc[df.pid])\n",
    "df['PR_type'] = list(pdf.PR_type.loc[df.pid])\n",
    "df['message'] = list(pdf.message.loc[df.pid])\n",
    "\n",
    "\n",
    "from toolz.curried import *\n",
    "from ast import literal_eval\n",
    "df['clicks'] = df.queries.apply(literal_eval).apply(\n",
    "    lambda x: np.array(x['click']['state']['target'])\n",
    ")\n",
    "df['click_times'] = df.queries.apply(literal_eval).apply(\n",
    "    lambda x: np.array(x['click']['state']['time'])\n",
    ")\n",
    "df.action_times = df.action_times.apply(literal_eval)\n",
    "df['n_click'] = df.clicks.apply(len)\n",
    "df.delays = df.delays.apply(literal_eval)\n",
    "\n",
    "pdf['time'] = df.groupby('pid').time_elapsed.max() / 60000\n",
    "pdf.score = df.groupby('pid').score.sum()"
   ]
  },
  {
   "cell_type": "code",
   "execution_count": 81,
   "metadata": {
    "collapsed": false
   },
   "outputs": [],
   "source": [
    "# identifiers = pd.read_csv('data/human_raw/0.6/identifiers.csv')\n",
    "# pdf = pdf.join(identifiers.set_index('pid'))\n",
    "# sys.path.append('bin')\n",
    "# from compensation import Compensator\n",
    "# comp = Compensator()\n",
    "# for i, row in pdf.iterrows():\n",
    "#     comp.approve(row.assignment_id)\n",
    "#     if row.bonus > 0:\n",
    "#         comp.grant_bonus(row.worker_id, row.assignment_id, round(row.bonus, 2))"
   ]
  },
  {
   "cell_type": "code",
   "execution_count": 82,
   "metadata": {
    "collapsed": false
   },
   "outputs": [],
   "source": [
    "def before_first(row):\n",
    "    try:\n",
    "        a1 = row.action_times[0]\n",
    "        return sum(row.click_times < a1)\n",
    "    except:\n",
    "        return None\n",
    "\n",
    "df['early_click'] = df.apply(before_first, axis=1)"
   ]
  },
  {
   "cell_type": "code",
   "execution_count": 83,
   "metadata": {
    "collapsed": false
   },
   "outputs": [
    {
     "data": {
      "text/plain": [
       "<seaborn.axisgrid.FacetGrid at 0x112369ba8>"
      ]
     },
     "execution_count": 83,
     "metadata": {},
     "output_type": "execute_result"
    },
    {
     "data": {
      "image/png": "[encoded data removed]",
      "text/plain": [
       "<matplotlib.figure.Figure at 0x112311208>"
      ]
     },
     "metadata": {},
     "output_type": "display_data"
    }
   ],
   "source": [
    "PALETTE = ['#bbbbbb'] + sns.palettes.SEABORN_PALETTES['deep']\n",
    "sns.set_palette(PALETTE)\n",
    "PR_ORDER = 'none objectLevel featureBased'.split()\n",
    "# PR_ORDER = ['objectLevel', 'featureBased']\n",
    "\n",
    "sns.factorplot('info_cost', 'score', hue='PR_type', data=df, \n",
    "               kind='bar', hue_order=PR_ORDER)"
   ]
  },
  {
   "cell_type": "code",
   "execution_count": 89,
   "metadata": {
    "collapsed": false
   },
   "outputs": [],
   "source": [
    "INFO_COSTS = [0.01, 1.00, 2.50]\n",
    "def comparison(kind):\n",
    "    comp = pd.read_csv('data/stimuli/exp1/{}.csv'.format(kind), header=None)\n",
    "    comp.columns = INFO_COSTS\n",
    "    return comp.stack()[df[['trial_i', 'info_cost']].as_matrix()].as_matrix()\n",
    "\n",
    "df['optimal'] = comparison('optimal')\n",
    "df['worst'] = comparison('worst')\n",
    "\n",
    "# df['optimal'] = list(optimal.loc[df.trial_i])\n",
    "df['regret'] = df.score - df.optimal\n",
    "df['trial_mean'] = list(df.groupby('trial_i').score.mean().loc[df.trial_i])\n",
    "df['centered_score'] = df.score - df.trial_mean\n",
    "\n",
    "# (R-R_min)/(R_max-R_min)\n",
    "df['relative_score'] = (df.score - df.worst) / (df.optimal - df.worst)"
   ]
  },
  {
   "cell_type": "code",
   "execution_count": 91,
   "metadata": {
    "collapsed": false
   },
   "outputs": [],
   "source": [
    "cols = 'pid info_cost PR_type message trial_index trial_i score relative_score n_click early_click'.split()\n",
    "df[cols].to_csv('data/human/0.6/trials.csv')"
   ]
  },
  {
   "cell_type": "code",
   "execution_count": 65,
   "metadata": {
    "collapsed": false
   },
   "outputs": [
    {
     "data": {
      "text/plain": [
       "<seaborn.axisgrid.FacetGrid at 0x11192b828>"
      ]
     },
     "execution_count": 65,
     "metadata": {},
     "output_type": "execute_result"
    },
    {
     "data": {
      "image/png": "[encoded data removed]",
      "text/plain": [
       "<matplotlib.figure.Figure at 0x11192b710>"
      ]
     },
     "metadata": {},
     "output_type": "display_data"
    }
   ],
   "source": [
    "sns.factorplot('trial_index', 'relative_score', hue='PR_type', data=df,\n",
    "               col='info_cost', size=4,\n",
    "               dodge=.5, markers='.', ci=95, estimator=np.mean,\n",
    "               hue_order=PR_ORDER, palette=PALETTE)"
   ]
  },
  {
   "cell_type": "code",
   "execution_count": 66,
   "metadata": {
    "collapsed": false
   },
   "outputs": [],
   "source": [
    "rdf = df2r(df, \n",
    "           ['info_cost', 'trial_index', 'score', 'n_click', 'pid', 'trial_i', 'PR_type'])"
   ]
  },
  {
   "cell_type": "code",
   "execution_count": 243,
   "metadata": {
    "collapsed": false
   },
   "outputs": [
    {
     "name": "stdout",
     "output_type": "stream",
     "text": [
      "\n",
      "Error in eval(expr, envir, enclos) : object 'PR_type' not found\n"
     ]
    },
    {
     "name": "stderr",
     "output_type": "stream",
     "text": [
      "/usr/local/lib/miniconda3/lib/python3.5/site-packages/rpy2/rinterface/__init__.py:186: RRuntimeWarning: Error in eval(expr, envir, enclos) : object 'PR_type' not found\n",
      "\n",
      "  warnings.warn(x, RRuntimeWarning)\n"
     ]
    }
   ],
   "source": [
    "%%R -i rdf\n",
    "require(lme4)\n",
    "require(car)\n",
    "# rdf$info_cost = as.factor(rdf$info_cost)\n",
    "Anova(lmer('score ~ trial_index * PR_type + (1|pid) + (1|trial_i)', \n",
    "           data=rdf\n",
    "           # data=subset(rdf, info_cost == 2.80)\n",
    "                      ))"
   ]
  },
  {
   "cell_type": "code",
   "execution_count": 238,
   "metadata": {
    "collapsed": false
   },
   "outputs": [
    {
     "name": "stdout",
     "output_type": "stream",
     "text": [
      "\n",
      "Error in eval(expr, envir, enclos) : object 'PR_type' not found\n"
     ]
    }
   ],
   "source": [
    "%%R -i rdf\n",
    "summary(lm('score ~ info_cost * trial_index * PR_type', \n",
    "           data=subset(rdf, info_cost > 0)\n",
    "                      ))"
   ]
  },
  {
   "cell_type": "code",
   "execution_count": 382,
   "metadata": {
    "collapsed": false
   },
   "outputs": [
    {
     "name": "stdout",
     "output_type": "stream",
     "text": [
      "Optimization terminated successfully.\n",
      "         Current function value: 2314.381831"
     ]
    },
    {
     "name": "stderr",
     "output_type": "stream",
     "text": [
      "/usr/local/lib/miniconda3/lib/python3.5/site-packages/pymc3/sampling.py:163: UserWarning: Instantiated step methods cannot be automatically initialized. init argument ignored.\n",
      "  warnings.warn('Instantiated step methods cannot be automatically initialized. init argument ignored.')\n",
      "  4%|▍         | 82/2000 [00:00<00:11, 173.13it/s]"
     ]
    },
    {
     "name": "stdout",
     "output_type": "stream",
     "text": [
      "\n",
      "         Iterations: 47\n",
      "         Function evaluations: 55\n",
      "         Gradient evaluations: 55\n"
     ]
    },
    {
     "name": "stderr",
     "output_type": "stream",
     "text": [
      "\n"
     ]
    }
   ],
   "source": [
    "# from pymc3 import *\n",
    "\n",
    "# with Model():\n",
    "#     glm.GLM.from_formula('score ~ PR_type * trial_index', data=df)\n",
    "#     start = find_MAP()\n",
    "#     step = NUTS(scaling=start)\n",
    "#     trace = sample(2000, step)\n",
    "    \n",
    "\n",
    "# full = t['PR_type[T.fullObservation]']\n",
    "# none = t['PR_type[T.none]']\n",
    "# (none > 0).mean()"
   ]
  }
 ],
 "metadata": {
  "anaconda-cloud": {},
  "kernelspec": {
   "display_name": "Python [default]",
   "language": "python",
   "name": "python3"
  },
  "language_info": {
   "codemirror_mode": {
    "name": "ipython",
    "version": 3
   },
   "file_extension": ".py",
   "mimetype": "text/x-python",
   "name": "python",
   "nbconvert_exporter": "python",
   "pygments_lexer": "ipython3",
   "version": "3.5.2"
  },
  "nav_menu": {},
  "toc": {
   "navigate_menu": true,
   "number_sections": true,
   "sideBar": true,
   "threshold": 6,
   "toc_cell": false,
   "toc_section_display": "block",
   "toc_window_display": false
  }
 },
 "nbformat": 4,
 "nbformat_minor": 0
}
