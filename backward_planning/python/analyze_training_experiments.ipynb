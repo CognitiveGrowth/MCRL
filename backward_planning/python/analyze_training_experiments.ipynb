{
 "cells": [
  {
   "cell_type": "code",
   "execution_count": 2,
   "metadata": {
    "collapsed": false
   },
   "outputs": [
    {
     "name": "stdout",
     "output_type": "stream",
     "text": [
      "Error importing rpy2\n"
     ]
    }
   ],
   "source": [
    "%matplotlib inline\n",
    "%load_ext autoreload\n",
    "%autoreload 2\n",
    "\n",
    "import matplotlib.pyplot as plt\n",
    "import numpy as np\n",
    "import pandas as pd\n",
    "import seaborn as sns\n",
    "import scipy.stats as stats\n",
    "import matplotlib as plt\n",
    "\n",
    "sns.set_style('white')\n",
    "sns.set_context('notebook', font_scale=1.3)\n",
    "\n",
    "import itertools as it\n",
    "from collections import Counter, defaultdict, deque\n",
    "\n",
    "import sys\n",
    "from analysis_utils import *"
   ]
  },
  {
   "cell_type": "markdown",
   "metadata": {},
   "source": [
    "### First Training Experiment"
   ]
  },
  {
   "cell_type": "code",
   "execution_count": null,
   "metadata": {
    "collapsed": false
   },
   "outputs": [],
   "source": [
    "VERSION = '1A.5'\n",
    "data = get_data(VERSION, '../experiment/data')\n",
    "#ids = pd.read_csv(f'../experiment/data/human_raw/{VERSION}/identifiers.csv').set_index('pid')\n",
    "\n",
    "TRIALS = pd.read_json('../experiment/experiment/static/json/rewards/increasing.json').set_index('trial_id').stateRewards\n",
    "\n",
    "pdf = data['participants']\n",
    "mdf = data['mouselab-mdp']\n",
    "\n",
    "pretest = mdf.query('block == \"pre_test\"').copy()\n",
    "training = mdf.query('block == \"training\"').copy()\n",
    "posttest = mdf.query('block == \"test\"').copy()\n",
    "pretest_and_training = mdf.query('block == \"pre_test\" or block == \"training\"').copy()\n",
    "\n",
    "pretest.trial_index -= pretest.trial_index.min()\n",
    "pretest.trial_index = pretest.trial_index.astype(int) + 1 \n",
    "pretest.trial_id = pretest.trial_id.astype(int)\n",
    "\n",
    "training.trial_index -= training.trial_index.min()\n",
    "training.trial_index = training.trial_index.astype(int)\n",
    "training.trial_id = training.trial_id.astype(int)\n",
    "\n",
    "posttest.trial_index -= posttest.trial_index.min()\n",
    "posttest.trial_index = posttest.trial_index.astype(int) + 1 \n",
    "posttest.trial_id = posttest.trial_id.astype(int)\n",
    "\n",
    "pretest_and_training.trial_index -= pretest_and_training.trial_index.min()\n",
    "pretest_and_training.trial_index = pretest_and_training.trial_index.astype(int)\n",
    "pretest_and_training.trial_id = pretest_and_training.trial_id.astype(int)\n",
    "\n",
    "\n",
    "pdf['total_time'] = data['survey-text'].time_elapsed / 60000\n",
    "\n",
    "def extract(q):\n",
    "    return list(map(int, q['click']['state']['target']))\n",
    "\n",
    "pretest['clicks'] = pretest.queries.apply(extract)\n",
    "pretest['n_clicks'] = pretest.clicks.apply(len)\n",
    "\n",
    "training['clicks'] = training.queries.apply(extract)\n",
    "training['n_clicks'] = training.clicks.apply(len)\n",
    "\n",
    "posttest['clicks'] = posttest.queries.apply(extract)\n",
    "posttest['n_clicks'] = posttest.clicks.apply(len)\n",
    "\n",
    "pretest_and_training['clicks'] = pretest_and_training.queries.apply(extract)\n",
    "pretest_and_training['n_clicks'] = pretest_and_training.clicks.apply(len)\n",
    "\n",
    "pdf['n_clicks'] = posttest.groupby('pid').n_clicks.mean()\n",
    "pdf['score'] = posttest.groupby('pid').score.sum()"
   ]
  },
  {
   "cell_type": "code",
   "execution_count": null,
   "metadata": {
    "collapsed": false
   },
   "outputs": [],
   "source": [
    "len(pdf['pid'])"
   ]
  },
  {
   "cell_type": "code",
   "execution_count": null,
   "metadata": {
    "collapsed": false,
    "scrolled": true
   },
   "outputs": [],
   "source": [
    "pdf['pay'] = (0.75 + pdf.bonus)\n",
    "pdf['wage'] = pdf.pay / (pdf.total_time / 60)\n",
    "print(f'{pdf.wage.mean():.2f}  {pdf.wage.min():.2f}  {pdf.wage.std():.2f}')\n",
    "\n",
    "sns.lmplot('n_clicks', 'wage', data=pdf)\n",
    "plt.axhline(pdf.wage.mean(), c='r', ls='--')\n",
    "\n",
    "print(pdf.bonus.mean())\n",
    "print(pdf.bonus.std())\n",
    "\n",
    "print(pdf.total_time.mean())\n",
    "print(pdf.total_time.std())"
   ]
  },
  {
   "cell_type": "code",
   "execution_count": null,
   "metadata": {
    "collapsed": false
   },
   "outputs": [],
   "source": [
    "feedback_group  = pdf.query(\"with_feedback == True\")\n",
    "control_group = pdf.query(\"with_feedback == False\")\n",
    "\n",
    "n_feedback = len(feedback_group.pid)\n",
    "n_control =  len(control_group.pid)\n",
    "print('n_feedback: {}'.format(n_feedback))\n",
    "print('n_control: {}'.format(n_control))\n",
    "\n",
    "avg_score_training=posttest[posttest['pid'].isin(feedback_group.pid)].score.mean()\n",
    "avg_score_control=posttest[posttest['pid'].isin(control_group.pid)].score.mean()\n",
    "\n",
    "N_feedback = len(posttest[posttest['pid'].isin(feedback_group.pid)].score)\n",
    "N_control = len(posttest[posttest['pid'].isin(control_group.pid)].score)\n",
    "\n",
    "#t-test!!\n",
    "t,p = stats.ttest_ind(posttest[posttest['pid'].isin(feedback_group.pid)].score,posttest[posttest['pid'].isin(control_group.pid)].score)\n",
    "\n",
    "print(\"Participants who received feedback performed significantly better in the posttest than participants who didn't ({:3.1f} vs. {:3.1f}, t({})={:3.1f}, p={:4.4f}).\".\n",
    "      format(avg_score_training,avg_score_control,N_feedback+N_control-2,t,p))\n",
    "\n",
    "#print(posttest[posttest['pid'].isin(feedback_group.pid)].score.std()/np.sqrt(n_feedback * 20))\n",
    "#print(posttest[posttest['pid'].isin(control_group.pid)].score.std()/np.sqrt(n_control * 20))"
   ]
  },
  {
   "cell_type": "code",
   "execution_count": null,
   "metadata": {
    "collapsed": false
   },
   "outputs": [],
   "source": [
    "#print(pretest.score.mean())\n",
    "#print(posttest.score.mean())\n",
    "\n",
    "pretest[\"with_feedback\"]=pd.Series(pretest['pid'].isin(feedback_group.pid))\n",
    "training[\"with_feedback\"]=pd.Series(training['pid'].isin(feedback_group.pid))\n",
    "posttest[\"with_feedback\"]=pd.Series(posttest['pid'].isin(feedback_group.pid))\n",
    "pretest_and_training[\"with_feedback\"]=pd.Series(pretest_and_training['pid'].isin(feedback_group.pid))\n",
    "\n",
    "sns.set(font_scale=2)\n",
    "sns.factorplot(x='trial_index', y='score', hue='with_feedback', data=pretest_and_training, size=8)\n",
    "plt.xlabel('Trial Number')\n",
    "plt.title('Learning Curves in Training Block')\n",
    "plt.ylabel('Score')\n",
    "\n",
    "matplotlib.rcParams.update({'font.size': 22})\n",
    "\n",
    "plt.figure()\n",
    "sns.barplot(y='score', x='with_feedback',data=posttest)\n",
    "plt.xlabel('')\n",
    "plt.xticks([0,1],['No Feedback','Feedback'])\n",
    "plt.ylabel('Avg. Score (points/trial)')\n",
    "plt.title('Performance in the Post Test')\n",
    "\n",
    "#print(n_feedback)\n",
    "#print(n_control)"
   ]
  },
  {
   "cell_type": "code",
   "execution_count": null,
   "metadata": {
    "collapsed": false
   },
   "outputs": [],
   "source": [
    "import statsmodels.formula.api as smf\n",
    "\n",
    "model = smf.ols('score ~ trial_index * with_feedback', data=pretest_and_training).fit()\n",
    "model.summary()"
   ]
  },
  {
   "cell_type": "code",
   "execution_count": null,
   "metadata": {
    "collapsed": false
   },
   "outputs": [],
   "source": [
    "pids = pdf.pid\n",
    "improvement = np.array([])\n",
    "received_FB = np.array([])\n",
    "for p in pids:\n",
    "    improvement = np.append(improvement,[pretest_and_training.query(\"trial_index==10 and pid == {}\".format(p)).score.mean() - pretest_and_training.query(\"trial_index==0 and pid == {}\".format(p)).score.mean()]) \n",
    "    received_FB = np.append(received_FB, [p in feedback_group.pid])   \n",
    "\n",
    "avg_improvement_with_FB = np.mean(improvement[received_FB==True])\n",
    "avg_improvement_without_FB = np.mean(improvement[received_FB==False])\n",
    "\n",
    "t,p = stats.ttest_ind(improvement[received_FB==True],improvement[received_FB==False])\n",
    "df = n_feedback+n_control-2\n",
    "print(\"Participants in the feedback condition improved significantly more during the training block than participants in the control condition (+{:4.3} vs. +{:4.3}  t({})={:4.3}, p={:4.3}).\".format(avg_improvement_with_FB,avg_improvement_without_FB,df,t,p))"
   ]
  },
  {
   "cell_type": "markdown",
   "metadata": {},
   "source": [
    "## Analyze the effect of training on post-test strategy"
   ]
  },
  {
   "cell_type": "code",
   "execution_count": null,
   "metadata": {
    "collapsed": false
   },
   "outputs": [],
   "source": [
    "import statsmodels.stats.proportion as proportion\n",
    "\n",
    "trial_ids = posttest['clicks'].keys()\n",
    "\n",
    "level_of_first_click = np.array([])\n",
    "nr_clicks = np.array([])\n",
    "\n",
    "nodes_by_level = dict()\n",
    "nodes_by_level[0]=[0]\n",
    "nodes_by_level[1]=[1,5,9]\n",
    "nodes_by_level[2]=[2,6,10]\n",
    "nodes_by_level[3]=[3,4,7,8,11,12]\n",
    "\n",
    "for t in trial_ids:\n",
    "    clicks = posttest['clicks'][t]\n",
    "    \n",
    "    nr_clicks = np.append(nr_clicks,[len(clicks)])\n",
    "    \n",
    "    if len(clicks)>0:    \n",
    "        first_click = clicks[0]\n",
    "        for l in range(len(nodes_by_level)):\n",
    "            if first_click in nodes_by_level[l]:\n",
    "                level_of_first_click = np.append(level_of_first_click,[l])\n",
    "    else:\n",
    "            level_of_first_click = np.append(level_of_first_click,[0])\n",
    "\n",
    "posttest['level_of_first_click'] = pd.Series(level_of_first_click)\n",
    "            \n",
    "np.mean(level_of_first_click[posttest.with_feedback]==3)\n",
    "np.mean(level_of_first_click[posttest.with_feedback==False]==3)\n",
    "\n",
    "plt.figure()\n",
    "sns.distplot(level_of_first_click[posttest.with_feedback==True], color='green', kde=False, rug=True,label='with feedback');\n",
    "sns.distplot(level_of_first_click[posttest.with_feedback==False], color='red', kde=False, rug=True,label='no feedback');\n",
    "plt.legend()\n",
    "plt.xlabel('Level of the first click (0: no click, 3: leaf node)')\n",
    "\n",
    "click_levels = [0,1,2,3]\n",
    "z = dict()\n",
    "p = dict()\n",
    "\n",
    "nr_observations_by_level_FB = np.array(click_levels)\n",
    "nr_observations_by_level_noFB = np.array(click_levels)\n",
    "\n",
    "for l in click_levels:\n",
    "    counts= np.array([ np.sum(level_of_first_click[posttest.with_feedback==True]==l),\n",
    "             np.sum(level_of_first_click[posttest.with_feedback==False]==l)])\n",
    "    \n",
    "    nobs = np.array([ len(level_of_first_click[posttest.with_feedback==True]),\n",
    "             len(level_of_first_click[posttest.with_feedback==False])])\n",
    "    \n",
    "    nr_observations_by_level_FB[l] = counts[0]\n",
    "    nr_observations_by_level_noFB[l] = counts[1]\n",
    "\n",
    "    \n",
    "    z[l],p[l] = proportion.proportions_ztest(counts, nobs)\n",
    "\n",
    "    print('{:5.2}% vs. {:5.2}% (Z={:4.3}, p={:4.3})'.format(100*counts[0]/nobs[0], 100*counts[1]/nobs[1], z[l],p[l]))\n",
    "\n",
    "plt.figure()\n",
    "sns.barplot(x='with_feedback',y='n_clicks',data=posttest)\n",
    "\n",
    "avg_nr_clicks_FB=posttest[posttest['pid'].isin(feedback_group.pid)].n_clicks.mean()\n",
    "avg_nr_clicks_noFB=posttest[posttest['pid'].isin(control_group.pid)].n_clicks.mean()\n",
    "\n",
    "std_nr_clicks_FB=posttest[posttest['pid'].isin(feedback_group.pid)].n_clicks.std()\n",
    "std_nr_clicks_noFB=posttest[posttest['pid'].isin(control_group.pid)].n_clicks.std()\n",
    "\n",
    "\n",
    "t,p = stats.ttest_ind(posttest[posttest['pid'].isin(feedback_group.pid)].n_clicks,posttest[posttest['pid'].isin(control_group.pid)].n_clicks)\n",
    "print(\"{:3.2} +- {:3.2} vs. {:3.2} +- {:3.2} (t({})={:3.2}, p={:5.4})\".format(\n",
    "        avg_nr_clicks_FB,avg_nr_clicks_noFB,std_nr_clicks_FB,std_nr_clicks_noFB,\n",
    "        N_feedback+N_control-2, t, p))"
   ]
  },
  {
   "cell_type": "code",
   "execution_count": null,
   "metadata": {
    "collapsed": false
   },
   "outputs": [],
   "source": [
    "#todo: test if FB increased the frequency of backward planning beyond reducing the frequency of no planning\n",
    "\n",
    "click_levels = [1,2,3]\n",
    "\n",
    "rel_freq_FB = np.array([0.0,0.0,0.0])\n",
    "rel_freq_no_FB = np.array([0.0,0.0,0.0])\n",
    "\n",
    "z = dict()\n",
    "p = dict()\n",
    "\n",
    "for l in click_levels:  \n",
    "    print(l)\n",
    "    rel_freq_FB[l-1] = float(nr_observations_by_level_FB[l])/float(np.sum(nr_observations_by_level_FB[1:]))\n",
    "    rel_freq_no_FB[l-1] = float(nr_observations_by_level_noFB[l])/float(np.sum(nr_observations_by_level_noFB[1:]))\n",
    "    counts = [nr_observations_by_level_FB[l], nr_observations_by_level_noFB[l]]\n",
    "    nobs = [np.sum(nr_observations_by_level_FB[1:]),np.sum(nr_observations_by_level_noFB[1:])]\n",
    "    z[l],p[l] = proportion.proportions_ztest(counts, nobs)\n",
    "    print('{:5.3}% vs. {:5.3}% (Z={:4.3}, p={:4.3})'.format(100*counts[0]/nobs[0], 100*counts[1]/nobs[1], z[l],p[l]))\n",
    "\n",
    "                                                          \n",
    "\n",
    "sns.barplot(x=[1,2,3],y=rel_freq_no_FB,label='no feedback')\n",
    "plt.xlabel('Started planning from step #')\n",
    "plt.title('Without Feedback')\n",
    "plt.ylabel('Frequency of First Click')\n",
    "\n",
    "plt.figure()\n",
    "sns.barplot(x=[1,2,3],y=rel_freq_FB,label='feedback')    \n",
    "#plt.legend()\n",
    "plt.xlabel('Started planning from step #')\n",
    "plt.title('With Feedback')\n",
    "plt.ylabel('Frequency of First Click')\n",
    "\n"
   ]
  },
  {
   "cell_type": "markdown",
   "metadata": {},
   "source": [
    "## Near-Transfer Experiment"
   ]
  },
  {
   "cell_type": "code",
   "execution_count": null,
   "metadata": {
    "collapsed": false
   },
   "outputs": [],
   "source": [
    "VERSION = 'T1.1'\n",
    "data = get_data(VERSION, '../near_transfer/data')\n",
    "#ids = pd.read_csv(f'../experiment/data/human_raw/{VERSION}/identifiers.csv').set_index('pid')\n",
    "\n",
    "TRAINING_TRIALS = pd.read_json('../near_transfer/experiment/static/json/mcrl_trials/increasing.json').set_index('trial_id').stateRewards\n",
    "TEST_TRIALS = pd.read_json('../near_transfer/experiment/static/json/rewards/31123_increasing1.json').set_index('trial_id').stateRewards\n",
    "\n",
    "pdf = data['participants']\n",
    "mdf = data['mouselab-mdp']\n",
    "\n",
    "pretest = mdf.query('block == \"pre_test\"').copy()\n",
    "training = mdf.query('block == \"training\"').copy()\n",
    "posttest = mdf.query('block == \"test\"').copy()\n",
    "pretest_and_training = mdf.query('block == \"pre_test\" or block == \"training\"').copy()\n",
    "\n",
    "pretest.trial_index -= pretest.trial_index.min()\n",
    "pretest.trial_index = pretest.trial_index.astype(int) + 1 \n",
    "pretest.trial_id = pretest.trial_id.astype(int)\n",
    "\n",
    "training.trial_index -= training.trial_index.min()\n",
    "training.trial_index = training.trial_index.astype(int)\n",
    "training.trial_id = training.trial_id.astype(int)\n",
    "\n",
    "posttest.trial_index -= posttest.trial_index.min()\n",
    "posttest.trial_index = posttest.trial_index.astype(int) + 1 \n",
    "posttest.trial_id = posttest.trial_id.astype(int)\n",
    "\n",
    "pretest_and_training.trial_index -= pretest_and_training.trial_index.min()\n",
    "pretest_and_training.trial_index = pretest_and_training.trial_index.astype(int)\n",
    "pretest_and_training.trial_id = pretest_and_training.trial_id.astype(int)\n",
    "\n",
    "\n",
    "pdf['total_time'] = data['survey-text'].time_elapsed / 60000\n",
    "\n",
    "def extract(q):\n",
    "    return list(map(int, q['click']['state']['target']))\n",
    "\n",
    "pretest['clicks'] = pretest.queries.apply(extract)\n",
    "pretest['n_clicks'] = pretest.clicks.apply(len)\n",
    "\n",
    "training['clicks'] = training.queries.apply(extract)\n",
    "training['n_clicks'] = training.clicks.apply(len)\n",
    "\n",
    "posttest['clicks'] = posttest.queries.apply(extract)\n",
    "posttest['n_clicks'] = posttest.clicks.apply(len)\n",
    "\n",
    "pretest_and_training['clicks'] = pretest_and_training.queries.apply(extract)\n",
    "pretest_and_training['n_clicks'] = pretest_and_training.clicks.apply(len)\n",
    "\n",
    "pdf['n_clicks'] = posttest.groupby('pid').n_clicks.mean()\n",
    "pdf['score'] = posttest.groupby('pid').score.sum()\n",
    "\n",
    "nr_participants = len(pdf['pid'])"
   ]
  },
  {
   "cell_type": "code",
   "execution_count": null,
   "metadata": {
    "collapsed": false
   },
   "outputs": [],
   "source": [
    "pdf['pay'] = (0.8 + pdf.bonus)\n",
    "pdf['wage'] = pdf.pay / (pdf.total_time / 60)\n",
    "\n",
    "print(f'Average wage: {pdf.wage.mean():.2f}, Minimum wage:  {pdf.wage.min():.2f}, STD of wage:  {pdf.wage.std():.2f}')\n",
    "\n",
    "sns.lmplot('n_clicks', 'wage', data=pdf)\n",
    "plt.axhline(pdf.wage.mean(), c='r', ls='--')\n",
    "\n",
    "print(\"Average bonus: ${:5.4} +/- ${:4.3}\".format(pdf.bonus.mean(),pdf.bonus.std()))\n",
    "\n",
    "print(\"Average duration: {:4.3} +/- {:4.3} minutes\".format(pdf.total_time.mean(),pdf.total_time.std()))"
   ]
  },
  {
   "cell_type": "code",
   "execution_count": null,
   "metadata": {
    "collapsed": false
   },
   "outputs": [],
   "source": [
    "feedback_group  = pdf.query(\"with_feedback == True\")\n",
    "control_group = pdf.query(\"with_feedback == False\")\n",
    "\n",
    "n_feedback = len(feedback_group.pid)\n",
    "n_control =  len(control_group.pid)\n",
    "print('n_feedback: {}'.format(n_feedback))\n",
    "print('n_control: {}'.format(n_control))\n",
    "\n",
    "avg_score_training=posttest[posttest['pid'].isin(feedback_group.pid)].score.mean()\n",
    "avg_score_control=posttest[posttest['pid'].isin(control_group.pid)].score.mean()\n",
    "\n",
    "N_feedback = len(posttest[posttest['pid'].isin(feedback_group.pid)].score)\n",
    "N_control = len(posttest[posttest['pid'].isin(control_group.pid)].score)\n",
    "\n",
    "#t-test!!\n",
    "t,p = stats.ttest_ind(posttest[posttest['pid'].isin(feedback_group.pid)].score,posttest[posttest['pid'].isin(control_group.pid)].score)\n",
    "\n",
    "print(\"Participants who received feedback in the training block performed significantly better in the transfer task than participants who didn't ({:3.1f} $/trial vs. {:3.1f} $/trial, t({})={:3.1f}, p={:4.4f}).\".\n",
    "      format(avg_score_training,avg_score_control,N_feedback+N_control-2,t,p))\n",
    "\n",
    "#print(posttest[posttest['pid'].isin(feedback_group.pid)].score.std()/np.sqrt(n_feedback * 20))\n",
    "#print(posttest[posttest['pid'].isin(control_group.pid)].score.std()/np.sqrt(n_control * 20))"
   ]
  },
  {
   "cell_type": "code",
   "execution_count": null,
   "metadata": {
    "collapsed": false
   },
   "outputs": [],
   "source": []
  },
  {
   "cell_type": "code",
   "execution_count": null,
   "metadata": {
    "collapsed": false
   },
   "outputs": [],
   "source": [
    "#print(pretest.score.mean())\n",
    "#print(posttest.score.mean())\n",
    "\n",
    "pretest[\"with_feedback\"]=pd.Series(pretest['pid'].isin(feedback_group.pid))\n",
    "training[\"with_feedback\"]=pd.Series(training['pid'].isin(feedback_group.pid))\n",
    "posttest[\"with_feedback\"]=pd.Series(posttest['pid'].isin(feedback_group.pid))\n",
    "pretest_and_training[\"with_feedback\"]=pd.Series(pretest_and_training['pid'].isin(feedback_group.pid))\n",
    "\n",
    "\n",
    "posttest.to_pickle('posttest_experiment2')\n",
    "\n",
    "\n",
    "sns.set(font_scale=2)\n",
    "sns.factorplot(x='trial_index', y='score', hue='with_feedback', data=pretest_and_training, size=8)\n",
    "plt.xlabel('Trial Number')\n",
    "plt.title('Learning Curves in Training Block')\n",
    "plt.ylabel('Score')\n",
    "\n",
    "matplotlib.rcParams.update({'font.size': 22})\n",
    "\n",
    "plt.figure()\n",
    "sns.barplot(y='score', x='with_feedback',data=posttest)\n",
    "plt.xlabel('')\n",
    "plt.xticks([0,1],['Control','Cognitive Tutor'])\n",
    "plt.ylabel('Avg. Score (points/trial)')\n",
    "plt.title('Performance on the Transfer Task')\n",
    "\n",
    "#print(n_feedback)\n",
    "#print(n_control)"
   ]
  },
  {
   "cell_type": "code",
   "execution_count": null,
   "metadata": {
    "collapsed": false
   },
   "outputs": [],
   "source": [
    "import statsmodels.formula.api as smf\n",
    "\n",
    "model = smf.ols('score ~ trial_index * with_feedback', data=pretest_and_training).fit()\n",
    "model.summary()\n",
    "\n",
    "#1.2146+1.1878"
   ]
  },
  {
   "cell_type": "code",
   "execution_count": null,
   "metadata": {
    "collapsed": false
   },
   "outputs": [],
   "source": [
    "pids = pdf.pid\n",
    "improvement = np.array([])\n",
    "received_FB = np.array([])\n",
    "for p in pids:\n",
    "    improvement = np.append(improvement,[pretest_and_training.query(\"trial_index==10 and pid == {}\".format(p)).score.mean() - pretest_and_training.query(\"trial_index==1 and pid == {}\".format(p)).score.mean()]) \n",
    "    received_FB = np.append(received_FB, [p in feedback_group.pid])   \n",
    "\n",
    "avg_improvement_with_FB = np.mean(improvement[received_FB==True])\n",
    "avg_improvement_without_FB = np.mean(improvement[received_FB==False])\n",
    "\n",
    "t,p = stats.ttest_ind(improvement[received_FB==True],improvement[received_FB==False])\n",
    "df = n_feedback+n_control-2\n",
    "print(\"Participants in the feedback condition improved significantly more during the training block than participants in the control condition (+{:4.3} vs. +{:4.3}  t({})={:4.3}, p={:4.3}).\".format(avg_improvement_with_FB,avg_improvement_without_FB,df,t,p))"
   ]
  },
  {
   "cell_type": "code",
   "execution_count": null,
   "metadata": {
    "collapsed": false
   },
   "outputs": [],
   "source": [
    "pids = pdf.pid\n",
    "improvement = np.array([])\n",
    "received_FB = np.array([])\n",
    "for p in pids:\n",
    "    improvement = np.append(improvement,[posttest.query(\"pid == {}\".format(p)).score.mean() - pretest.query(\"pid == {}\".format(p)).score.mean()]) \n",
    "    received_FB = np.append(received_FB, [p in feedback_group.pid])   \n",
    "\n",
    "posttest['improvement']=pd.Series(improvement)\n",
    "posttest['received_FB']=pd.Series(received_FB)\n",
    "    \n",
    "avg_improvement_with_FB = np.mean(improvement[received_FB==True])\n",
    "avg_improvement_without_FB = np.mean(improvement[received_FB==False])\n",
    "\n",
    "t,p = stats.ttest_ind(improvement[received_FB==True],improvement[received_FB==False])\n",
    "df = n_feedback+n_control-2\n",
    "print(\"Participants in the feedback condition improved significantly more on the transfer task than participants in the control condition (+{:4.3} vs. +{:4.3},  t({})={:4.3}, p={:4.3}).\".format(avg_improvement_with_FB,avg_improvement_without_FB,df,t,p))\n",
    "\n",
    "matplotlib.rcParams.update({'font.size': 22})\n",
    "\n",
    "plt.figure()\n",
    "sns.barplot(y='improvement', x='received_FB',data=posttest,ci=95,n_boot=1000)\n",
    "plt.xlabel('')\n",
    "plt.xticks([0,1],['Control','Cognitive Tutor'])\n",
    "plt.ylabel('Post - Pre (points/trial)')\n",
    "plt.title('Performance on the Transfer Task')\n",
    "\n",
    "\n",
    "sns.set(font_scale=2)\n",
    "sns.factorplot(x='trial_index', y='score', hue='with_feedback', data=posttest, size=8)\n",
    "plt.xlabel('Trial Number')\n",
    "plt.title('Learning Curves in Transfer Block')\n",
    "plt.ylabel('Score')"
   ]
  },
  {
   "cell_type": "code",
   "execution_count": null,
   "metadata": {
    "collapsed": false
   },
   "outputs": [],
   "source": [
    "plt.figure()\n",
    "sns.distplot(posttest[posttest.with_feedback].score,color='g',label='tutor')\n",
    "sns.distplot(posttest[posttest.with_feedback==False].score,color='r',label='control')\n",
    "plt.legend(loc='upper left')\n",
    "plt.xlabel('performance on transfer task')\n",
    "plt.ylabel('Relative Frequency')"
   ]
  },
  {
   "cell_type": "code",
   "execution_count": null,
   "metadata": {
    "collapsed": false
   },
   "outputs": [],
   "source": [
    "import statsmodels.stats.proportion as proportion\n",
    "\n",
    "trial_ids = posttest['clicks'].keys()\n",
    "\n",
    "level_of_first_click = np.array([])\n",
    "nr_clicks = np.array([])\n",
    "\n",
    "#3-1-1-2-3 environment\n",
    "nodes_by_level = dict()\n",
    "nodes_by_level[0]=[0]\n",
    "nodes_by_level[1]=[1,12,23]\n",
    "nodes_by_level[2]=[2,13,24]\n",
    "nodes_by_level[3]=[3,14,25]\n",
    "nodes_by_level[4]=[4,8,15,19,26,30]\n",
    "nodes_by_level[5]=[5,6,7,9,10,11,16,17,18,20,21,22,27,28,29,31,32,33]\n",
    "\n",
    "for t in trial_ids:\n",
    "    clicks = posttest['clicks'][t]\n",
    "    \n",
    "    nr_clicks = np.append(nr_clicks,[len(clicks)])\n",
    "    \n",
    "    if len(clicks)>0:    \n",
    "        first_click = clicks[0]\n",
    "        for l in range(len(nodes_by_level)):\n",
    "            if first_click in nodes_by_level[l]:\n",
    "                level_of_first_click = np.append(level_of_first_click,[l])\n",
    "    else:\n",
    "            level_of_first_click = np.append(level_of_first_click,[0])\n",
    "\n",
    "posttest['level_of_first_click'] = pd.Series(level_of_first_click)\n",
    "            \n",
    "np.mean(level_of_first_click[posttest.with_feedback==True]==3)\n",
    "np.mean(level_of_first_click[posttest.with_feedback==False]==3)\n",
    "\n",
    "plt.figure()\n",
    "sns.distplot(level_of_first_click[posttest.with_feedback==True], color='green', kde=False, rug=True,label='with feedback');\n",
    "sns.distplot(level_of_first_click[posttest.with_feedback==False], color='red', kde=False, rug=True,label='no feedback');\n",
    "plt.legend()\n",
    "plt.xlabel('Level of the first click (0: no click, 5: leaf node)')\n",
    "\n",
    "click_levels = [0,1,2,3,4,5]\n",
    "leaf_level = 5;\n",
    "z = dict()\n",
    "p = dict()\n",
    "\n",
    "nr_observations_by_level_FB = np.array(click_levels)\n",
    "nr_observations_by_level_noFB = np.array(click_levels)\n",
    "\n",
    "for l in click_levels:\n",
    "    counts= np.array([ np.sum(level_of_first_click[posttest.with_feedback==True]==l),\n",
    "             np.sum(level_of_first_click[posttest.with_feedback==False]==l)])\n",
    "    \n",
    "    nobs = np.array([ len(level_of_first_click[posttest.with_feedback==True]),\n",
    "             len(level_of_first_click[posttest.with_feedback==False])])\n",
    "    \n",
    "    nr_observations_by_level_FB[l] = counts[0]\n",
    "    nr_observations_by_level_noFB[l] = counts[1]\n",
    "\n",
    "    \n",
    "    z[l],p[l] = proportion.proportions_ztest(counts, nobs)\n",
    "\n",
    "    print('level {}: {:5.2}% vs. {:5.2}% (Z={:4.3}, p={:4.3})'.format(l,100*counts[0]/nobs[0], 100*counts[1]/nobs[1], z[l],p[l]))\n",
    "\n",
    "plt.figure()\n",
    "sns.barplot(x='with_feedback',y='n_clicks',data=posttest)\n",
    "\n",
    "avg_nr_clicks_FB=posttest[posttest['pid'].isin(feedback_group.pid)].n_clicks.mean()\n",
    "avg_nr_clicks_noFB=posttest[posttest['pid'].isin(control_group.pid)].n_clicks.mean()\n",
    "\n",
    "std_nr_clicks_FB=posttest[posttest['pid'].isin(feedback_group.pid)].n_clicks.std()\n",
    "std_nr_clicks_noFB=posttest[posttest['pid'].isin(control_group.pid)].n_clicks.std()\n",
    "\n",
    "\n",
    "t,p = stats.ttest_ind(posttest[posttest['pid'].isin(feedback_group.pid)].n_clicks,posttest[posttest['pid'].isin(control_group.pid)].n_clicks)\n",
    "print(\"Avg. nr. clicks: {:3.2} +- {:3.2} vs. {:3.2} +- {:3.2} (t({})={:3.2}, p={:5.4})\".format(\n",
    "        avg_nr_clicks_FB,avg_nr_clicks_noFB,std_nr_clicks_FB,std_nr_clicks_noFB,\n",
    "        N_feedback+N_control-2, t, p))"
   ]
  },
  {
   "cell_type": "code",
   "execution_count": null,
   "metadata": {
    "collapsed": false
   },
   "outputs": [],
   "source": [
    "#todo: test if FB increased the frequency of backward planning beyond reducing the frequency of no planning\n",
    "\n",
    "click_levels = [1,2,3,4,5]\n",
    "\n",
    "rel_freq_FB = np.array([0.0,0.0,0.0,0.0,0.0])\n",
    "rel_freq_no_FB = np.array([0.0,0.0,0.0,0.0,0.0])\n",
    "\n",
    "z = dict()\n",
    "p = dict()\n",
    "\n",
    "for l in click_levels:  \n",
    "    print(l)\n",
    "    rel_freq_FB[l-1] = float(nr_observations_by_level_FB[l])/float(np.sum(nr_observations_by_level_FB[1:]))\n",
    "    rel_freq_no_FB[l-1] = float(nr_observations_by_level_noFB[l])/float(np.sum(nr_observations_by_level_noFB[1:]))\n",
    "    counts = [nr_observations_by_level_FB[l], nr_observations_by_level_noFB[l]]\n",
    "    nobs = [np.sum(nr_observations_by_level_FB[1:]),np.sum(nr_observations_by_level_noFB[1:])]\n",
    "    z[l],p[l] = proportion.proportions_ztest(counts, nobs)\n",
    "    print('{:5.3}% vs. {:5.3}% (Z={:4.3}, p={:4.3})'.format(100*counts[0]/nobs[0], 100*counts[1]/nobs[1], z[l],p[l]))\n",
    "\n",
    "                                                          \n",
    "sns.barplot(x=[1,2,3,4,5],y=rel_freq_no_FB,label='no feedback')\n",
    "plt.xlabel('Started planning from step #')\n",
    "plt.title('Without Feedback')\n",
    "plt.ylabel('Frequency of First Click')\n",
    "\n",
    "plt.figure()\n",
    "sns.barplot(x=[1,2,3,4,5],y=rel_freq_FB,label='feedback')    \n",
    "#plt.legend()\n",
    "plt.xlabel('Started planning from step #')\n",
    "plt.title('With Feedback')\n",
    "plt.ylabel('Frequency of First Click')"
   ]
  },
  {
   "cell_type": "markdown",
   "metadata": {},
   "source": [
    "# Retention Experiment"
   ]
  },
  {
   "cell_type": "code",
   "execution_count": 86,
   "metadata": {
    "collapsed": false
   },
   "outputs": [
    {
     "name": "stdout",
     "output_type": "stream",
     "text": [
      "50 participants in the experimental group.\n",
      "49 participants in the control group.\n"
     ]
    }
   ],
   "source": [
    "VERSION = 'R0.9'\n",
    "data = get_data(VERSION, '../retention/data')\n",
    "#ids = pd.read_csv(f'../experiment/data/human_raw/{VERSION}/identifiers.csv').set_index('pid')\n",
    "\n",
    "TRAINING_TRIALS = pd.read_json('../retention/experiment/static/json/mcrl_trials/increasing.json').set_index('trial_id').stateRewards\n",
    "TEST_TRIALS = pd.read_json('../retention/experiment/static/json/rewards/31123_increasing1.json').set_index('trial_id').stateRewards\n",
    "\n",
    "pdf = data['participants']#.query('pid != 62').copy()\n",
    "mdf = data['mouselab-mdp']#.query('pid != 62').copy()\n",
    "\n",
    "pretest = mdf.query('block == \"pre_test\"').copy()\n",
    "training = mdf.query('block == \"training\"').copy()\n",
    "posttest = mdf.query('block == \"test\"').copy()\n",
    "pretest_and_training = mdf.query('block == \"pre_test\" or block == \"training\"').copy()\n",
    "\n",
    "pretest.trial_index -= pretest.trial_index.min()\n",
    "pretest.trial_index = pretest.trial_index.astype(int) + 1 \n",
    "pretest.trial_id = pretest.trial_id.astype(int)\n",
    "\n",
    "training.trial_index -= training.trial_index.min()\n",
    "training.trial_index = training.trial_index.astype(int)\n",
    "training.trial_id = training.trial_id.astype(int)\n",
    "\n",
    "posttest.trial_index -= posttest.trial_index.min()\n",
    "posttest.trial_index = posttest.trial_index.astype(int) + 1 \n",
    "posttest.trial_id = posttest.trial_id.astype(int)\n",
    "\n",
    "pretest_and_training.trial_index -= pretest_and_training.trial_index.min()\n",
    "pretest_and_training.trial_index = pretest_and_training.trial_index.astype(int)\n",
    "pretest_and_training.trial_id = pretest_and_training.trial_id.astype(int)\n",
    "\n",
    "\n",
    "pdf['total_time'] = data['survey-text'].time_elapsed / 60000\n",
    "\n",
    "def extract(q):\n",
    "    return list(map(int, q['click']['state']['target']))\n",
    "\n",
    "pretest['clicks'] = pretest.queries.apply(extract)\n",
    "pretest['n_clicks'] = pretest.clicks.apply(len)\n",
    "\n",
    "training['clicks'] = training.queries.apply(extract)\n",
    "training['n_clicks'] = training.clicks.apply(len)\n",
    "\n",
    "posttest['clicks'] = posttest.queries.apply(extract)\n",
    "posttest['n_clicks'] = posttest.clicks.apply(len)\n",
    "\n",
    "pretest_and_training['clicks'] = pretest_and_training.queries.apply(extract)\n",
    "pretest_and_training['n_clicks'] = pretest_and_training.clicks.apply(len)\n",
    "\n",
    "pdf['n_clicks'] = posttest.groupby('pid').n_clicks.mean()\n",
    "pdf['score'] = posttest.groupby('pid').score.sum()\n",
    "\n",
    "stage = []\n",
    "start_times = pdf['startTime']\n",
    "for t in start_times:\n",
    "    if t[0:3]=='Wed' or t[0:3]==\"Fri\":\n",
    "        stage.append(1)\n",
    "    else:\n",
    "        stage.append(2)\n",
    "\n",
    "pdf['stage']=pd.Series(stage)\n",
    "\n",
    "excluded = 62\n",
    "experimental_group = set(pdf.query('feedback == True and stage==1' ).pid)\n",
    "control_group = set(pdf.query('feedback == False and stage==1').pid)\n",
    "control_group.remove(excluded)\n",
    "\n",
    "posttest['with_feedback']=pd.Series(posttest['pid'].isin(experimental_group))\n",
    "\n",
    "nr_participants = len(pdf['pid'])\n",
    "print(\"{} participants in the experimental group.\".format(len(experimental_group)))\n",
    "print(\"{} participants in the control group.\".format(len(control_group)))"
   ]
  },
  {
   "cell_type": "code",
   "execution_count": 87,
   "metadata": {
    "collapsed": false
   },
   "outputs": [
    {
     "name": "stdout",
     "output_type": "stream",
     "text": [
      "Average total time: 16.3 +/- 5.4 minutes\n",
      "Average bonus: $2.29 +/- $0.8748\n"
     ]
    }
   ],
   "source": [
    "pay_df = pd.DataFrame()\n",
    "\n",
    "pay = np.array(pdf.query('stage==2').bonus)\n",
    "pay_df['pid'] = pdf.query('stage==2').pid\n",
    "\n",
    "base_pay = np.array([])\n",
    "for t in pdf.query(\"stage==2\").startTime:\n",
    "    if t[0:3]=='Sat':\n",
    "        base_pay=np.append(base_pay,[0.21])\n",
    "    else:\n",
    "        base_pay=np.append(base_pay,[0.11])\n",
    "\n",
    "pay_df['total_pay'] = pd.Series(pay + base_pay)\n",
    "pay_df['bonus'] = pay_df['total_pay'] - (1.89 + base_pay)\n",
    "\n",
    "total_time = np.array([])\n",
    "\n",
    "for p in pay_df['pid']:\n",
    "    total_time = np.append(total_time,[pdf.query('pid=={}'.format(p)).total_time.sum()])\n",
    "    \n",
    "pay_df['total_time']=pd.Series(total_time)\n",
    "\n",
    "pay_df['wage']=pd.Series(pay_df.total_pay/ pay_df.total_time)\n",
    "\n",
    "print(\"Average total time: {:4.3} +/- {:3.2} minutes\".format(pay_df.total_time.mean(),pay_df.total_time.std()))\n",
    "print(\"Average bonus: ${:4.3} +/- ${:5.4}\".format(pay_df.bonus.mean(),pay_df.bonus.std()))\n"
   ]
  },
  {
   "cell_type": "markdown",
   "metadata": {},
   "source": [
    "len(set(posttest[posttest['pid'].isin(control_group)].pid))"
   ]
  },
  {
   "cell_type": "code",
   "execution_count": 90,
   "metadata": {
    "collapsed": false
   },
   "outputs": [
    {
     "name": "stdout",
     "output_type": "stream",
     "text": [
      "n_feedback: 43\n",
      "n_control: 36\n",
      "After about 24h, participants who had received feedback in the training block still performed significantly better on the transfer task than participants who had practiced without feedback (39.9 $/trial vs. 29.1 $/trial, t(1578)=7.8, p=0.0000).\n"
     ]
    }
   ],
   "source": [
    "n_feedback = len(set(posttest[posttest['pid'].isin(experimental_group)].pid))\n",
    "n_control =  len(set(posttest[posttest['pid'].isin(control_group)].pid))\n",
    "print('n_feedback: {}'.format(n_feedback))\n",
    "print('n_control: {}'.format(n_control))\n",
    "\n",
    "avg_score_training=posttest[posttest['pid'].isin(experimental_group)].score.mean()\n",
    "avg_score_control=posttest[posttest['pid'].isin(control_group)].score.mean()\n",
    "\n",
    "N_feedback = len(posttest[posttest['pid'].isin(experimental_group)].score)\n",
    "N_control = len(posttest[posttest['pid'].isin(control_group)].score)\n",
    "\n",
    "t,p = stats.ttest_ind(posttest[posttest['pid'].isin(experimental_group)].score,posttest[posttest['pid'].isin(control_group)].score)\n",
    "\n",
    "print(\"After about 24h, participants who had received feedback in the training block still performed significantly better on the transfer task than participants who had practiced without feedback ({:3.1f} $/trial vs. {:3.1f} $/trial, t({})={:3.1f}, p={:4.4f}).\".\n",
    "      format(avg_score_training,avg_score_control,N_feedback+N_control-2,t,p))\n",
    "\n",
    "#print(posttest[posttest['pid'].isin(feedback_group.pid)].score.std()/np.sqrt(n_feedback * 20))\n",
    "#print(posttest[posttest['pid'].isin(control_group.pid)].score.std()/np.sqrt(n_control * 20))"
   ]
  },
  {
   "cell_type": "code",
   "execution_count": 89,
   "metadata": {
    "collapsed": false
   },
   "outputs": [
    {
     "data": {
      "text/plain": [
       "Text(0.5,1,'Performance on the Transfer Task after 24 hours')"
      ]
     },
     "execution_count": 89,
     "metadata": {},
     "output_type": "execute_result"
    },
    {
     "data": {
      "image/png": "[encoded data removed]",
      "text/plain": [
       "<matplotlib.figure.Figure at 0x7fd55b8d47b8>"
      ]
     },
     "metadata": {},
     "output_type": "display_data"
    }
   ],
   "source": [
    "plt.figure()\n",
    "sns.barplot(y='score', x='with_feedback',data=posttest)\n",
    "plt.xlabel('')\n",
    "plt.xticks([0,1],['Control','Cognitive Tutor'])\n",
    "plt.ylabel('Avg. Score (points/trial)')\n",
    "plt.title('Performance on the Transfer Task after 24 hours')"
   ]
  },
  {
   "cell_type": "code",
   "execution_count": 91,
   "metadata": {
    "collapsed": false
   },
   "outputs": [
    {
     "name": "stdout",
     "output_type": "stream",
     "text": [
      "The retained benefit of 11.77 +/- 1.88 was about 97.4% of the immediate benefit of 12.1 +/- 3.55\n",
      "Given the large within-group variability in transfer task performance, the difference between immediate and retained transfer benefits was not statistically significant (Z=0.0579, p=0.4769).\n"
     ]
    }
   ],
   "source": [
    "# Compare retained transfer effect to immediate transfer effect\n",
    "\n",
    "posttest_experiment2=pd.read_pickle('posttest_experiment2')\n",
    "\n",
    "immediate_benefit = posttest_experiment2.query('with_feedback == True').score.mean()-posttest_experiment2.query('with_feedback == False').score.mean()\n",
    "sem_immediate_benefit = posttest_experiment2.query('with_feedback == True').score.std()/np.sqrt(len( posttest_experiment2.query('with_feedback == True').score)) + posttest_experiment2.query('with_feedback == False').score.std()/np.sqrt(len( posttest_experiment2.query('with_feedback == True').score)) \n",
    "retained_benefit = posttest.query('with_feedback == True').score.mean()-posttest.query('with_feedback == False').score.mean()\n",
    "sem_retained_benefit = posttest.query('with_feedback == True').score.std()/np.sqrt(len( posttest.query('with_feedback == True').score))+posttest.query('with_feedback == False').score.std()/np.sqrt(len( posttest.query('with_feedback == True').score)) \n",
    "\n",
    "relative_retention = retained_benefit / immediate_benefit *100\n",
    "\n",
    "z = (immediate_benefit-retained_benefit)/(sem_immediate_benefit+sem_retained_benefit) \n",
    "p = 1 - stats.norm.cdf(z)\n",
    "\n",
    "print(\"The retained benefit of {:5.4} +/- {:4.3} was about {:4.3}% of the immediate benefit of {:4.3} +/- {:4.3}\".format(retained_benefit,sem_retained_benefit,relative_retention,immediate_benefit,sem_immediate_benefit))\n",
    "\n",
    "print(\"Given the large within-group variability in transfer task performance, the difference between immediate and retained transfer benefits was not statistically significant (Z={:4.3}, p={:4.4}).\".format(z,p))\n"
   ]
  },
  {
   "cell_type": "code",
   "execution_count": 92,
   "metadata": {
    "collapsed": false
   },
   "outputs": [
    {
     "name": "stdout",
     "output_type": "stream",
     "text": [
      "Participants in the feedback condition improved significantly more on the transfer task than participants in the control condition (+33.9 vs. +23.9,  t(77)=1.83, p=0.0684).\n"
     ]
    },
    {
     "data": {
      "text/plain": [
       "Text(0.5,1,'Improvement on the Transfer Task after 24h')"
      ]
     },
     "execution_count": 92,
     "metadata": {},
     "output_type": "execute_result"
    },
    {
     "data": {
      "image/png": "[encoded data removed]",
      "text/plain": [
       "<matplotlib.figure.Figure at 0x7fd549089978>"
      ]
     },
     "metadata": {},
     "output_type": "display_data"
    }
   ],
   "source": [
    "pids = pdf.pid\n",
    "improvement = np.array([])\n",
    "received_FB = np.array([])\n",
    "for p in pids:\n",
    "    improvement = np.append(improvement,[posttest.query(\"pid == {}\".format(p)).score.mean() - pretest.query(\"pid == {}\".format(p)).score.mean()]) \n",
    "    received_FB = np.append(received_FB, [p in experimental_group])   \n",
    "\n",
    "posttest['improvement']=pd.Series(improvement)\n",
    "posttest['received_FB']=pd.Series(received_FB)\n",
    "    \n",
    "avg_improvement_with_FB = np.nanmean(improvement[received_FB==True])\n",
    "avg_improvement_without_FB = np.nanmean(improvement[received_FB==False])\n",
    "\n",
    "t,p = stats.ttest_ind(improvement[received_FB==True],improvement[received_FB==False],nan_policy='omit')\n",
    "df = n_feedback+n_control-2\n",
    "print(\"Participants in the feedback condition improved significantly more on the transfer task than participants in the control condition (+{:4.3} vs. +{:4.3},  t({})={:4.3}, p={:4.3}).\".format(avg_improvement_with_FB,avg_improvement_without_FB,df,t,p))\n",
    "\n",
    "matplotlib.rcParams.update({'font.size': 22})\n",
    "\n",
    "plt.figure()\n",
    "sns.barplot(y='improvement', x='received_FB',data=posttest,ci=95,n_boot=1000)\n",
    "plt.xlabel('')\n",
    "plt.xticks([0,1],['Control','Cognitive Tutor'])\n",
    "plt.ylabel('Post - Pre (points/trial)')\n",
    "plt.title('Improvement on the Transfer Task after 24h')"
   ]
  },
  {
   "cell_type": "code",
   "execution_count": 93,
   "metadata": {
    "collapsed": false
   },
   "outputs": [
    {
     "data": {
      "text/plain": [
       "Text(0,0.5,'Relative Frequency')"
      ]
     },
     "execution_count": 93,
     "metadata": {},
     "output_type": "execute_result"
    },
    {
     "data": {
      "image/png": "[encoded data removed]",
      "text/plain": [
       "<matplotlib.figure.Figure at 0x7fd54a1d82e8>"
      ]
     },
     "metadata": {},
     "output_type": "display_data"
    }
   ],
   "source": [
    "plt.figure()\n",
    "sns.distplot(posttest[posttest.with_feedback].score,color='g',label='tutor')\n",
    "sns.distplot(posttest[posttest.with_feedback==False].score,color='r',label='control')\n",
    "plt.legend(loc='upper left')\n",
    "plt.xlabel('performance on transfer task')\n",
    "plt.ylabel('Relative Frequency')"
   ]
  },
  {
   "cell_type": "code",
   "execution_count": 96,
   "metadata": {
    "collapsed": false
   },
   "outputs": [
    {
     "name": "stdout",
     "output_type": "stream",
     "text": [
      "level 0:   2.4% vs. 1.8e+01% (Z=-10.4, p=3.06e-25)\n",
      "level 1:   2.3% vs. 2.1e+01% (Z=-11.9, p=1.21e-32)\n",
      "level 2:  0.12% vs.  0.54% (Z=-1.52, p=0.13)\n",
      "level 3:   2.7% vs.   1.9% (Z=1.04, p=0.299)\n",
      "level 4:  0.23% vs.  0.27% (Z=-0.151, p=0.88)\n",
      "level 5: 9.2e+01% vs. 5.9e+01% (Z=15.8, p=1.93e-56)\n",
      "Avg. nr. clicks: 12.7 +- 7.3 vs. 7.8 +- 6.6 (t(1578)= 14.8, p=1.442e-46)\n"
     ]
    },
    {
     "data": {
      "image/png": "[encoded data removed]",
      "text/plain": [
       "<matplotlib.figure.Figure at 0x7fd55c587748>"
      ]
     },
     "metadata": {},
     "output_type": "display_data"
    },
    {
     "data": {
      "image/png": "[encoded data removed]",
      "text/plain": [
       "<matplotlib.figure.Figure at 0x7fd55ea41da0>"
      ]
     },
     "metadata": {},
     "output_type": "display_data"
    },
    {
     "data": {
      "image/png": "[encoded data removed]",
      "text/plain": [
       "<matplotlib.figure.Figure at 0x7fd55b5661d0>"
      ]
     },
     "metadata": {},
     "output_type": "display_data"
    },
    {
     "data": {
      "image/png": "[encoded data removed]",
      "text/plain": [
       "<matplotlib.figure.Figure at 0x7fd55f7bdcc0>"
      ]
     },
     "metadata": {},
     "output_type": "display_data"
    }
   ],
   "source": [
    "import statsmodels.stats.proportion as proportion\n",
    "\n",
    "trial_ids = posttest['clicks'].keys()\n",
    "\n",
    "level_of_first_click = np.array([])\n",
    "nr_clicks = np.array([])\n",
    "\n",
    "#3-1-1-2-3 environment\n",
    "nodes_by_level = dict()\n",
    "nodes_by_level[0]=[0]\n",
    "nodes_by_level[1]=[1,12,23]\n",
    "nodes_by_level[2]=[2,13,24]\n",
    "nodes_by_level[3]=[3,14,25]\n",
    "nodes_by_level[4]=[4,8,15,19,26,30]\n",
    "nodes_by_level[5]=[5,6,7,9,10,11,16,17,18,20,21,22,27,28,29,31,32,33]\n",
    "\n",
    "for t in trial_ids:\n",
    "    clicks = posttest['clicks'][t]\n",
    "    \n",
    "    nr_clicks = np.append(nr_clicks,[len(clicks)])\n",
    "    \n",
    "    if len(clicks)>0:    \n",
    "        first_click = clicks[0]\n",
    "        for l in range(len(nodes_by_level)):\n",
    "            if first_click in nodes_by_level[l]:\n",
    "                level_of_first_click = np.append(level_of_first_click,[l])\n",
    "    else:\n",
    "            level_of_first_click = np.append(level_of_first_click,[0])\n",
    "\n",
    "posttest['level_of_first_click'] = pd.Series(level_of_first_click)\n",
    "            \n",
    "np.mean(level_of_first_click[posttest.with_feedback==True]==3)\n",
    "np.mean(level_of_first_click[posttest.with_feedback==False]==3)\n",
    "\n",
    "plt.figure()\n",
    "sns.distplot(level_of_first_click[posttest.with_feedback==True], color='green', kde=False, rug=True,label='with feedback');\n",
    "plt.legend()\n",
    "plt.xlabel('Level of the first click (0: no click, 5: leaf node)')\n",
    "sns.distplot(level_of_first_click[posttest.with_feedback==False], color='red', kde=False, rug=True,label='no feedback');\n",
    "plt.legend()\n",
    "plt.xlabel('Level of the first click (0: no click, 5: leaf node)')\n",
    "\n",
    "click_levels = [0,1,2,3,4,5]\n",
    "leaf_level = 5;\n",
    "z = dict()\n",
    "p = dict()\n",
    "\n",
    "nr_observations_by_level_FB = np.array(click_levels)\n",
    "nr_observations_by_level_noFB = np.array(click_levels)\n",
    "\n",
    "for l in click_levels:\n",
    "    counts= np.array([ np.sum(level_of_first_click[posttest.with_feedback==True]==l),\n",
    "             np.sum(level_of_first_click[posttest.with_feedback==False]==l)])\n",
    "    \n",
    "    nobs = np.array([ len(level_of_first_click[posttest.with_feedback==True]),\n",
    "             len(level_of_first_click[posttest.with_feedback==False])])\n",
    "    \n",
    "    nr_observations_by_level_FB[l] = counts[0]\n",
    "    nr_observations_by_level_noFB[l] = counts[1]\n",
    "\n",
    "    \n",
    "    z[l],p[l] = proportion.proportions_ztest(counts, nobs)\n",
    "\n",
    "    print('level {}: {:5.2}% vs. {:5.2}% (Z={:4.3}, p={:4.3})'.format(l,100*counts[0]/nobs[0], 100*counts[1]/nobs[1], z[l],p[l]))\n",
    "\n",
    "#plt.figure()\n",
    "#sns.barplot(nr_observations_by_level_FB)\n",
    "#plt.figure()\n",
    "#sns.barplot(nr_observations_by_level_noFB)\n",
    "\n",
    "rel_nr_obs_by_level_FB = []\n",
    "rel_nr_obs_by_level_noFB = []\n",
    "\n",
    "total_nr_observations_FB = np.sum(nr_observations_by_level_FB)\n",
    "total_nr_observations_noFB = np.sum(nr_observations_by_level_noFB)\n",
    "\n",
    "for l in range(6):\n",
    "   rel_nr_obs_by_level_FB.append(nr_observations_by_level_FB[l]/total_nr_observations_FB) \n",
    "   rel_nr_obs_by_level_noFB.append(nr_observations_by_level_noFB[l]/total_nr_observations_noFB) \n",
    "\n",
    "temp=pd.DataFrame()\n",
    "temp['level']=pd.Series([0,1,2,3,4,5])\n",
    "temp['frequency_with_FB']=pd.Series(rel_nr_obs_by_level_FB)\n",
    "temp['frequency_without_FB']=pd.Series(rel_nr_obs_by_level_noFB)\n",
    "\n",
    "plt.figure()\n",
    "sns.barplot(x='level',y='frequency_with_FB',data=temp)\n",
    "plt.ylim([0,1])\n",
    "plt.ylabel('Relative Frequency')\n",
    "plt.title('Training with cognitive tutor')\n",
    "\n",
    "plt.figure()\n",
    "sns.barplot(x='level',y='frequency_without_FB',data=temp)\n",
    "plt.ylim([0,1])\n",
    "plt.xlabel('level of first click')\n",
    "plt.ylabel('Relative Frequency')\n",
    "plt.title('Control group')\n",
    "\n",
    "    \n",
    "plt.figure()\n",
    "sns.barplot(x='with_feedback',y='n_clicks',data=posttest)\n",
    "\n",
    "avg_nr_clicks_FB=posttest[posttest['pid'].isin(experimental_group)].n_clicks.mean()\n",
    "avg_nr_clicks_noFB=posttest[posttest['pid'].isin(control_group)].n_clicks.mean()\n",
    "\n",
    "std_nr_clicks_FB=posttest[posttest['pid'].isin(experimental_group)].n_clicks.std()\n",
    "std_nr_clicks_noFB=posttest[posttest['pid'].isin(control_group)].n_clicks.std()\n",
    "\n",
    "\n",
    "t,p = stats.ttest_ind(posttest[posttest['pid'].isin(experimental_group)].n_clicks,posttest[posttest['pid'].isin(control_group)].n_clicks)\n",
    "print(\"Avg. nr. clicks: {:4.3} +- {:3.2} vs. {:3.2} +- {:3.2} (t({})={:5.3}, p={:5.4})\".format(\n",
    "        avg_nr_clicks_FB,avg_nr_clicks_noFB,std_nr_clicks_FB,std_nr_clicks_noFB,\n",
    "        N_feedback+N_control-2, t, p))"
   ]
  },
  {
   "cell_type": "code",
   "execution_count": 43,
   "metadata": {
    "collapsed": false
   },
   "outputs": [
    {
     "data": {
      "text/plain": [
       "[0.0,\n",
       " 0.023809523809523808,\n",
       " 0.0,\n",
       " 0.052380952380952382,\n",
       " 0.0023809523809523812,\n",
       " 0.92142857142857137]"
      ]
     },
     "execution_count": 43,
     "metadata": {},
     "output_type": "execute_result"
    }
   ],
   "source": [
    "rel_nr_obs_by_level_FB"
   ]
  },
  {
   "cell_type": "code",
   "execution_count": 95,
   "metadata": {
    "collapsed": false
   },
   "outputs": [
    {
     "name": "stdout",
     "output_type": "stream",
     "text": [
      "1\n",
      " 2.38% vs.  25.5% (Z=-13.3, p=2.52e-40)\n",
      "2\n",
      "0.119% vs. 0.657% (Z=-1.72, p=0.0851)\n",
      "3\n",
      " 2.74% vs.   2.3% (Z=0.527, p=0.598)\n",
      "4\n",
      "0.238% vs. 0.328% (Z=-0.322, p=0.747)\n",
      "5\n",
      " 94.5% vs.  71.3% (Z=12.1, p=6.02e-34)\n"
     ]
    },
    {
     "data": {
      "text/plain": [
       "(0, 1)"
      ]
     },
     "execution_count": 95,
     "metadata": {},
     "output_type": "execute_result"
    },
    {
     "data": {
      "image/png": "[encoded data removed]",
      "text/plain": [
       "<matplotlib.figure.Figure at 0x7fd5487642e8>"
      ]
     },
     "metadata": {},
     "output_type": "display_data"
    },
    {
     "data": {
      "image/png": "[encoded data removed]",
      "text/plain": [
       "<matplotlib.figure.Figure at 0x7fd55fc96400>"
      ]
     },
     "metadata": {},
     "output_type": "display_data"
    }
   ],
   "source": [
    "#todo: test if FB increased the frequency of backward planning beyond reducing the frequency of no planning\n",
    "\n",
    "click_levels = [1,2,3,4,5]\n",
    "\n",
    "rel_freq_FB = np.array([0.0,0.0,0.0,0.0,0.0])\n",
    "rel_freq_no_FB = np.array([0.0,0.0,0.0,0.0,0.0])\n",
    "\n",
    "z = dict()\n",
    "p = dict()\n",
    "\n",
    "for l in click_levels:  \n",
    "    print(l)\n",
    "    rel_freq_FB[l-1] = float(nr_observations_by_level_FB[l])/float(np.sum(nr_observations_by_level_FB[1:]))\n",
    "    rel_freq_no_FB[l-1] = float(nr_observations_by_level_noFB[l])/float(np.sum(nr_observations_by_level_noFB[1:]))\n",
    "    counts = [nr_observations_by_level_FB[l], nr_observations_by_level_noFB[l]]\n",
    "    nobs = [np.sum(nr_observations_by_level_FB[1:]),np.sum(nr_observations_by_level_noFB[1:])]\n",
    "    z[l],p[l] = proportion.proportions_ztest(counts, nobs)\n",
    "    print('{:5.3}% vs. {:5.3}% (Z={:4.3}, p={:4.3})'.format(100*counts[0]/nobs[0], 100*counts[1]/nobs[1], z[l],p[l]))\n",
    "\n",
    "                                                          \n",
    "sns.barplot(x=[1,2,3,4,5],y=rel_freq_no_FB,label='no feedback')\n",
    "plt.xlabel('Started planning from step #')\n",
    "plt.title('Without Feedback')\n",
    "plt.ylabel('Frequency of First Click')\n",
    "plt.ylim([0,1])\n",
    "\n",
    "plt.figure()\n",
    "sns.barplot(x=[1,2,3,4,5],y=rel_freq_FB,label='feedback')    \n",
    "#plt.legend()\n",
    "plt.xlabel('Started planning from step #')\n",
    "plt.title('With Feedback')\n",
    "plt.ylabel('Frequency of First Click')\n",
    "plt.ylim([0,1])"
   ]
  },
  {
   "cell_type": "code",
   "execution_count": null,
   "metadata": {
    "collapsed": true
   },
   "outputs": [],
   "source": []
  }
 ],
 "metadata": {
  "anaconda-cloud": {},
  "kernelspec": {
   "display_name": "Python 3",
   "language": "python",
   "name": "python3"
  },
  "language_info": {
   "codemirror_mode": {
    "name": "ipython",
    "version": 3
   },
   "file_extension": ".py",
   "mimetype": "text/x-python",
   "name": "python",
   "nbconvert_exporter": "python",
   "pygments_lexer": "ipython3",
   "version": "3.6.3"
  },
  "nav_menu": {},
  "toc": {
   "navigate_menu": true,
   "number_sections": true,
   "sideBar": true,
   "threshold": 6,
   "toc_cell": false,
   "toc_section_display": "block",
   "toc_window_display": false
  }
 },
 "nbformat": 4,
 "nbformat_minor": 1
}
