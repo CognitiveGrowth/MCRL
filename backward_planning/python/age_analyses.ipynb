{
 "cells": [
  {
   "cell_type": "code",
   "execution_count": 1,
   "metadata": {
    "collapsed": true
   },
   "outputs": [],
   "source": [
    "import numpy as np\n",
    "import pandas as pd\n",
    "import seaborn as sns\n",
    "from scipy import stats\n",
    "import matplotlib.pyplot as plt\n",
    "import csv\n",
    "%matplotlib inline"
   ]
  },
  {
   "cell_type": "code",
   "execution_count": 2,
   "metadata": {
    "collapsed": false
   },
   "outputs": [
    {
     "data": {
      "text/plain": [
       "'C:\\\\Users\\\\piichan\\\\Documents\\\\Berkeley\\\\CoCoSci Lab\\\\mcrl\\\\mcrl\\\\backward_planning\\\\python'"
      ]
     },
     "execution_count": 2,
     "metadata": {},
     "output_type": "execute_result"
    }
   ],
   "source": [
    "pwd"
   ]
  },
  {
   "cell_type": "code",
   "execution_count": 3,
   "metadata": {
    "collapsed": false
   },
   "outputs": [
    {
     "name": "stdout",
     "output_type": "stream",
     "text": [
      "C:\\Users\\piichan\\Documents\\Berkeley\\CoCoSci Lab\\mcrl\\mcrl\\backward_planning\\experiment1\\data\\human\\1A.5\n"
     ]
    }
   ],
   "source": [
    "cd ../experiment1/data/human/1A.5"
   ]
  },
  {
   "cell_type": "markdown",
   "metadata": {},
   "source": [
    "## Data from 1A.5\n",
    "- similar to cogsci\n",
    "- 10 training trials (some with feedback, some without), 20 test trials (no feedback)"
   ]
  },
  {
   "cell_type": "code",
   "execution_count": 4,
   "metadata": {
    "collapsed": true
   },
   "outputs": [],
   "source": [
    "backwards_survey = pd.read_csv('survey.csv')\n",
    "ages = backwards_survey['8'][:119]"
   ]
  },
  {
   "cell_type": "code",
   "execution_count": 5,
   "metadata": {
    "collapsed": false
   },
   "outputs": [
    {
     "data": {
      "text/plain": [
       "array([ 20.,  20.,  21.,  21.,  21.,  23.,  23.,  23.,  23.,  23.,  23.,\n",
       "        24.,  25.,  25.,  25.,  25.,  25.,  25.,  25.,  26.,  26.,  26.,\n",
       "        26.,  26.,  27.,  27.,  28.,  28.,  28.,  28.,  28.,  28.,  28.,\n",
       "        28.,  28.,  28.,  28.,  29.,  29.,  29.,  29.,  30.,  30.,  30.,\n",
       "        30.,  31.,  31.,  31.,  31.,  31.,  31.,  32.,  32.,  32.,  32.,\n",
       "        33.,  33.,  33.,  33.,  33.,  33.,  33.,  34.,  34.,  34.,  34.,\n",
       "        35.,  35.,  35.,  35.,  35.,  36.,  36.,  36.,  36.,  37.,  37.,\n",
       "        37.,  37.,  38.,  38.,  38.,  39.,  39.,  39.,  40.,  41.,  41.,\n",
       "        41.,  41.,  42.,  42.,  42.,  42.,  42.,  42.,  42.,  43.,  43.,\n",
       "        44.,  44.,  46.,  46.,  47.,  48.,  49.,  51.,  52.,  52.,  52.,\n",
       "        54.,  57.,  61.,  61.,  64.,  68.])"
      ]
     },
     "execution_count": 5,
     "metadata": {},
     "output_type": "execute_result"
    }
   ],
   "source": [
    "ages_cleaned = ages.dropna()\n",
    "np.sort(ages_cleaned)"
   ]
  },
  {
   "cell_type": "code",
   "execution_count": 6,
   "metadata": {
    "collapsed": false
   },
   "outputs": [
    {
     "data": {
      "text/plain": [
       "(array([  0.,   0.,   0.,   0.,   0.,   0.,   0.,   0.,   0.,   0.,   2.,\n",
       "          3.,   0.,   6.,   1.,   7.,   5.,   2.,  11.,   4.,   4.,   6.,\n",
       "          4.,   7.,   4.,   5.,   4.,   4.,   3.,   3.,   1.,   4.,   7.,\n",
       "          2.,   2.,   0.,   2.,   1.,   1.,   1.,   0.,   1.,   3.,   0.,\n",
       "          1.,   0.,   0.,   1.,   0.,   0.,   0.,   2.,   0.,   0.,   1.,\n",
       "          0.,   0.,   0.,   1.,   0.,   0.,   0.,   0.,   0.,   0.,   0.,\n",
       "          0.,   0.,   0.]),\n",
       " array([10, 11, 12, 13, 14, 15, 16, 17, 18, 19, 20, 21, 22, 23, 24, 25, 26,\n",
       "        27, 28, 29, 30, 31, 32, 33, 34, 35, 36, 37, 38, 39, 40, 41, 42, 43,\n",
       "        44, 45, 46, 47, 48, 49, 50, 51, 52, 53, 54, 55, 56, 57, 58, 59, 60,\n",
       "        61, 62, 63, 64, 65, 66, 67, 68, 69, 70, 71, 72, 73, 74, 75, 76, 77,\n",
       "        78, 79]),\n",
       " <a list of 69 Patch objects>)"
      ]
     },
     "execution_count": 6,
     "metadata": {},
     "output_type": "execute_result"
    },
    {
     "data": {
      "image/png": "[encoded data removed]",
      "text/plain": [
       "<matplotlib.figure.Figure at 0x28070b69588>"
      ]
     },
     "metadata": {},
     "output_type": "display_data"
    }
   ],
   "source": [
    "plt.figure()\n",
    "plt.hist(ages_cleaned, bins=np.arange(10, 80))"
   ]
  },
  {
   "cell_type": "code",
   "execution_count": 7,
   "metadata": {
    "collapsed": false
   },
   "outputs": [
    {
     "data": {
      "text/html": [
       "<div>\n",
       "<style scoped>\n",
       "    .dataframe tbody tr th:only-of-type {\n",
       "        vertical-align: middle;\n",
       "    }\n",
       "\n",
       "    .dataframe tbody tr th {\n",
       "        vertical-align: top;\n",
       "    }\n",
       "\n",
       "    .dataframe thead th {\n",
       "        text-align: right;\n",
       "    }\n",
       "</style>\n",
       "<table border=\"1\" class=\"dataframe\">\n",
       "  <thead>\n",
       "    <tr style=\"text-align: right;\">\n",
       "      <th></th>\n",
       "      <th>action_times</th>\n",
       "      <th>actions</th>\n",
       "      <th>block</th>\n",
       "      <th>path</th>\n",
       "      <th>queries</th>\n",
       "      <th>rewards</th>\n",
       "      <th>rt</th>\n",
       "      <th>score</th>\n",
       "      <th>simulation_mode</th>\n",
       "      <th>state_rewards</th>\n",
       "      <th>time_elapsed</th>\n",
       "      <th>trial_index</th>\n",
       "      <th>trial_time</th>\n",
       "      <th>trial_id</th>\n",
       "      <th>trial_type</th>\n",
       "      <th>pid</th>\n",
       "    </tr>\n",
       "  </thead>\n",
       "  <tbody>\n",
       "    <tr>\n",
       "      <th>0</th>\n",
       "      <td>[11407, 13565, 16237]</td>\n",
       "      <td>[u'up', u'up', u'right']</td>\n",
       "      <td>pre_test</td>\n",
       "      <td>[u'0', u'1', u'2', u'3']</td>\n",
       "      <td>{u'mouseover': {u'state': {u'target': [], u'ti...</td>\n",
       "      <td>[-4, 4, 24]</td>\n",
       "      <td>[11399, 1638, 2141]</td>\n",
       "      <td>24.0</td>\n",
       "      <td>[None, None, None]</td>\n",
       "      <td>[u'', -4, 4, 24, 24, -2, -4, 48, -24, -4, 8, -...</td>\n",
       "      <td>105163</td>\n",
       "      <td>0.0</td>\n",
       "      <td>27011.0</td>\n",
       "      <td>-4.874666e+18</td>\n",
       "      <td>mouselab-mdp</td>\n",
       "      <td>0</td>\n",
       "    </tr>\n",
       "    <tr>\n",
       "      <th>1</th>\n",
       "      <td>[14286, 63761, 65379]</td>\n",
       "      <td>[u'left', u'left', u'up']</td>\n",
       "      <td>training</td>\n",
       "      <td>[u'0', u'9', u'10', u'11']</td>\n",
       "      <td>{u'mouseover': {u'state': {u'target': [], u'ti...</td>\n",
       "      <td>[-4, 4, 48]</td>\n",
       "      <td>[14277, 6954, 1091]</td>\n",
       "      <td>48.0</td>\n",
       "      <td>[None, None, None]</td>\n",
       "      <td>[u'', -2, -4, 48, 24, 2, 4, -48, 48, -4, 4, 48...</td>\n",
       "      <td>200161</td>\n",
       "      <td>1.0</td>\n",
       "      <td>79154.0</td>\n",
       "      <td>7.946552e+18</td>\n",
       "      <td>mouselab-mdp</td>\n",
       "      <td>0</td>\n",
       "    </tr>\n",
       "    <tr>\n",
       "      <th>2</th>\n",
       "      <td>[9878, 54493, 55901]</td>\n",
       "      <td>[u'left', u'left', u'down']</td>\n",
       "      <td>training</td>\n",
       "      <td>[u'0', u'9', u'10', u'12']</td>\n",
       "      <td>{u'mouseover': {u'state': {u'target': [], u'ti...</td>\n",
       "      <td>[-2, -4, 24]</td>\n",
       "      <td>[9873, 2089, 895]</td>\n",
       "      <td>18.0</td>\n",
       "      <td>[None, None, None]</td>\n",
       "      <td>[u'', 4, 4, -48, 48, -2, 4, -48, -24, -2, -4, ...</td>\n",
       "      <td>261346</td>\n",
       "      <td>2.0</td>\n",
       "      <td>60098.0</td>\n",
       "      <td>-5.006810e+18</td>\n",
       "      <td>mouselab-mdp</td>\n",
       "      <td>0</td>\n",
       "    </tr>\n",
       "    <tr>\n",
       "      <th>3</th>\n",
       "      <td>[31434, 32468, 33765]</td>\n",
       "      <td>[u'left', u'left', u'up']</td>\n",
       "      <td>training</td>\n",
       "      <td>[u'0', u'9', u'10', u'11']</td>\n",
       "      <td>{u'mouseover': {u'state': {u'target': [], u'ti...</td>\n",
       "      <td>[-2, 8, 24]</td>\n",
       "      <td>[31430, 506, 769]</td>\n",
       "      <td>23.0</td>\n",
       "      <td>[None, None, None]</td>\n",
       "      <td>[u'', 2, 4, -24, -48, -2, -4, -24, -24, -2, 8,...</td>\n",
       "      <td>299462</td>\n",
       "      <td>3.0</td>\n",
       "      <td>37033.0</td>\n",
       "      <td>1.182386e+16</td>\n",
       "      <td>mouselab-mdp</td>\n",
       "      <td>0</td>\n",
       "    </tr>\n",
       "    <tr>\n",
       "      <th>4</th>\n",
       "      <td>[10192, 30207, 31577]</td>\n",
       "      <td>[u'left', u'left', u'up']</td>\n",
       "      <td>training</td>\n",
       "      <td>[u'0', u'9', u'10', u'11']</td>\n",
       "      <td>{u'mouseover': {u'state': {u'target': [], u'ti...</td>\n",
       "      <td>[-2, -4, 24]</td>\n",
       "      <td>[10187, 1486, 855]</td>\n",
       "      <td>17.0</td>\n",
       "      <td>[None, None, None]</td>\n",
       "      <td>[u'', -2, -8, 24, 48, -2, 8, -24, -24, -2, -4,...</td>\n",
       "      <td>335391</td>\n",
       "      <td>4.0</td>\n",
       "      <td>34849.0</td>\n",
       "      <td>-3.603402e+18</td>\n",
       "      <td>mouselab-mdp</td>\n",
       "      <td>0</td>\n",
       "    </tr>\n",
       "  </tbody>\n",
       "</table>\n",
       "</div>"
      ],
      "text/plain": [
       "            action_times                      actions     block  \\\n",
       "0  [11407, 13565, 16237]     [u'up', u'up', u'right']  pre_test   \n",
       "1  [14286, 63761, 65379]    [u'left', u'left', u'up']  training   \n",
       "2   [9878, 54493, 55901]  [u'left', u'left', u'down']  training   \n",
       "3  [31434, 32468, 33765]    [u'left', u'left', u'up']  training   \n",
       "4  [10192, 30207, 31577]    [u'left', u'left', u'up']  training   \n",
       "\n",
       "                         path  \\\n",
       "0    [u'0', u'1', u'2', u'3']   \n",
       "1  [u'0', u'9', u'10', u'11']   \n",
       "2  [u'0', u'9', u'10', u'12']   \n",
       "3  [u'0', u'9', u'10', u'11']   \n",
       "4  [u'0', u'9', u'10', u'11']   \n",
       "\n",
       "                                             queries       rewards  \\\n",
       "0  {u'mouseover': {u'state': {u'target': [], u'ti...   [-4, 4, 24]   \n",
       "1  {u'mouseover': {u'state': {u'target': [], u'ti...   [-4, 4, 48]   \n",
       "2  {u'mouseover': {u'state': {u'target': [], u'ti...  [-2, -4, 24]   \n",
       "3  {u'mouseover': {u'state': {u'target': [], u'ti...   [-2, 8, 24]   \n",
       "4  {u'mouseover': {u'state': {u'target': [], u'ti...  [-2, -4, 24]   \n",
       "\n",
       "                    rt  score     simulation_mode  \\\n",
       "0  [11399, 1638, 2141]   24.0  [None, None, None]   \n",
       "1  [14277, 6954, 1091]   48.0  [None, None, None]   \n",
       "2    [9873, 2089, 895]   18.0  [None, None, None]   \n",
       "3    [31430, 506, 769]   23.0  [None, None, None]   \n",
       "4   [10187, 1486, 855]   17.0  [None, None, None]   \n",
       "\n",
       "                                       state_rewards  time_elapsed  \\\n",
       "0  [u'', -4, 4, 24, 24, -2, -4, 48, -24, -4, 8, -...        105163   \n",
       "1  [u'', -2, -4, 48, 24, 2, 4, -48, 48, -4, 4, 48...        200161   \n",
       "2  [u'', 4, 4, -48, 48, -2, 4, -48, -24, -2, -4, ...        261346   \n",
       "3  [u'', 2, 4, -24, -48, -2, -4, -24, -24, -2, 8,...        299462   \n",
       "4  [u'', -2, -8, 24, 48, -2, 8, -24, -24, -2, -4,...        335391   \n",
       "\n",
       "   trial_index  trial_time      trial_id    trial_type  pid  \n",
       "0          0.0     27011.0 -4.874666e+18  mouselab-mdp    0  \n",
       "1          1.0     79154.0  7.946552e+18  mouselab-mdp    0  \n",
       "2          2.0     60098.0 -5.006810e+18  mouselab-mdp    0  \n",
       "3          3.0     37033.0  1.182386e+16  mouselab-mdp    0  \n",
       "4          4.0     34849.0 -3.603402e+18  mouselab-mdp    0  "
      ]
     },
     "execution_count": 7,
     "metadata": {},
     "output_type": "execute_result"
    }
   ],
   "source": [
    "backwards_data = pd.read_csv('mouselab-mdp.csv')\n",
    "bw_test_data = backwards_data[backwards_data['block']=='test']\n",
    "bw_train_data = backwards_data[backwards_data['block']=='training']\n",
    "backwards_data.head()"
   ]
  },
  {
   "cell_type": "code",
   "execution_count": 8,
   "metadata": {
    "collapsed": false
   },
   "outputs": [
    {
     "data": {
      "text/html": [
       "<div>\n",
       "<style scoped>\n",
       "    .dataframe tbody tr th:only-of-type {\n",
       "        vertical-align: middle;\n",
       "    }\n",
       "\n",
       "    .dataframe tbody tr th {\n",
       "        vertical-align: top;\n",
       "    }\n",
       "\n",
       "    .dataframe thead th {\n",
       "        text-align: right;\n",
       "    }\n",
       "</style>\n",
       "<table border=\"1\" class=\"dataframe\">\n",
       "  <thead>\n",
       "    <tr style=\"text-align: right;\">\n",
       "      <th></th>\n",
       "      <th>bonus</th>\n",
       "      <th>bonusRate</th>\n",
       "      <th>branching</th>\n",
       "      <th>completed</th>\n",
       "      <th>condition</th>\n",
       "      <th>inspectCost</th>\n",
       "      <th>pid</th>\n",
       "      <th>startTime</th>\n",
       "      <th>with_feedback</th>\n",
       "      <th>version</th>\n",
       "    </tr>\n",
       "  </thead>\n",
       "  <tbody>\n",
       "    <tr>\n",
       "      <th>0</th>\n",
       "      <td>1.48</td>\n",
       "      <td>0.002</td>\n",
       "      <td>312</td>\n",
       "      <td>True</td>\n",
       "      <td>1.0</td>\n",
       "      <td>1</td>\n",
       "      <td>0</td>\n",
       "      <td>Wed Feb 28 2018 12:37:15 GMT-0500 (EST)</td>\n",
       "      <td>True</td>\n",
       "      <td>1A.5</td>\n",
       "    </tr>\n",
       "    <tr>\n",
       "      <th>1</th>\n",
       "      <td>1.74</td>\n",
       "      <td>0.002</td>\n",
       "      <td>312</td>\n",
       "      <td>True</td>\n",
       "      <td>1.0</td>\n",
       "      <td>1</td>\n",
       "      <td>1</td>\n",
       "      <td>Tue Feb 27 2018 19:01:38 GMT-0500 (Eastern Sta...</td>\n",
       "      <td>True</td>\n",
       "      <td>1A.5</td>\n",
       "    </tr>\n",
       "    <tr>\n",
       "      <th>2</th>\n",
       "      <td>1.02</td>\n",
       "      <td>0.002</td>\n",
       "      <td>312</td>\n",
       "      <td>True</td>\n",
       "      <td>1.0</td>\n",
       "      <td>1</td>\n",
       "      <td>2</td>\n",
       "      <td>Tue Feb 27 2018 18:02:03 GMT-0600 (Central Sta...</td>\n",
       "      <td>True</td>\n",
       "      <td>1A.5</td>\n",
       "    </tr>\n",
       "    <tr>\n",
       "      <th>3</th>\n",
       "      <td>1.77</td>\n",
       "      <td>0.002</td>\n",
       "      <td>312</td>\n",
       "      <td>True</td>\n",
       "      <td>1.0</td>\n",
       "      <td>1</td>\n",
       "      <td>3</td>\n",
       "      <td>Tue Feb 27 2018 14:02:37 GMT-0800 (Pacific Sta...</td>\n",
       "      <td>True</td>\n",
       "      <td>1A.5</td>\n",
       "    </tr>\n",
       "    <tr>\n",
       "      <th>4</th>\n",
       "      <td>1.68</td>\n",
       "      <td>0.002</td>\n",
       "      <td>312</td>\n",
       "      <td>True</td>\n",
       "      <td>1.0</td>\n",
       "      <td>1</td>\n",
       "      <td>4</td>\n",
       "      <td>Wed Feb 28 2018 12:29:44 GMT-0500 (Eastern Sta...</td>\n",
       "      <td>True</td>\n",
       "      <td>1A.5</td>\n",
       "    </tr>\n",
       "  </tbody>\n",
       "</table>\n",
       "</div>"
      ],
      "text/plain": [
       "   bonus  bonusRate  branching  completed  condition  inspectCost  pid  \\\n",
       "0   1.48      0.002        312       True        1.0            1    0   \n",
       "1   1.74      0.002        312       True        1.0            1    1   \n",
       "2   1.02      0.002        312       True        1.0            1    2   \n",
       "3   1.77      0.002        312       True        1.0            1    3   \n",
       "4   1.68      0.002        312       True        1.0            1    4   \n",
       "\n",
       "                                           startTime with_feedback version  \n",
       "0            Wed Feb 28 2018 12:37:15 GMT-0500 (EST)          True    1A.5  \n",
       "1  Tue Feb 27 2018 19:01:38 GMT-0500 (Eastern Sta...          True    1A.5  \n",
       "2  Tue Feb 27 2018 18:02:03 GMT-0600 (Central Sta...          True    1A.5  \n",
       "3  Tue Feb 27 2018 14:02:37 GMT-0800 (Pacific Sta...          True    1A.5  \n",
       "4  Wed Feb 28 2018 12:29:44 GMT-0500 (Eastern Sta...          True    1A.5  "
      ]
     },
     "execution_count": 8,
     "metadata": {},
     "output_type": "execute_result"
    }
   ],
   "source": [
    "pdf = pd.read_csv('participants.csv')\n",
    "pdf.head()"
   ]
  },
  {
   "cell_type": "code",
   "execution_count": 9,
   "metadata": {
    "collapsed": false
   },
   "outputs": [
    {
     "name": "stdout",
     "output_type": "stream",
     "text": [
      "123\n"
     ]
    }
   ],
   "source": [
    "perf = bw_test_data[['pid','score', 'trial_index']]\n",
    "p_feedback = pdf[['pid', 'with_feedback']]\n",
    "avg_score = pd.DataFrame(perf.groupby('pid')['score'].mean())\n",
    "age_score = avg_score.merge(backwards_survey.set_index('Unnamed: 0')[['8']], how='outer', left_index=True, right_index=True)\n",
    "age_score = age_score.merge(p_feedback.set_index('pid'), how='outer', left_index=True, right_index=True)\n",
    "age_score = age_score.rename(columns={'8':'age'})\n",
    "print(len(age_score['age']))"
   ]
  },
  {
   "cell_type": "code",
   "execution_count": 10,
   "metadata": {
    "collapsed": false
   },
   "outputs": [
    {
     "data": {
      "text/html": [
       "<div>\n",
       "<style scoped>\n",
       "    .dataframe tbody tr th:only-of-type {\n",
       "        vertical-align: middle;\n",
       "    }\n",
       "\n",
       "    .dataframe tbody tr th {\n",
       "        vertical-align: top;\n",
       "    }\n",
       "\n",
       "    .dataframe thead th {\n",
       "        text-align: right;\n",
       "    }\n",
       "</style>\n",
       "<table border=\"1\" class=\"dataframe\">\n",
       "  <thead>\n",
       "    <tr style=\"text-align: right;\">\n",
       "      <th></th>\n",
       "      <th>score</th>\n",
       "      <th>age</th>\n",
       "      <th>with_feedback</th>\n",
       "    </tr>\n",
       "  </thead>\n",
       "  <tbody>\n",
       "    <tr>\n",
       "      <th>50.0</th>\n",
       "      <td>37.90</td>\n",
       "      <td>32.000000</td>\n",
       "      <td>NaN</td>\n",
       "    </tr>\n",
       "    <tr>\n",
       "      <th>52.0</th>\n",
       "      <td>43.05</td>\n",
       "      <td>27.000000</td>\n",
       "      <td>NaN</td>\n",
       "    </tr>\n",
       "    <tr>\n",
       "      <th>81.0</th>\n",
       "      <td>42.30</td>\n",
       "      <td>NaN</td>\n",
       "      <td>NaN</td>\n",
       "    </tr>\n",
       "    <tr>\n",
       "      <th>100.0</th>\n",
       "      <td>41.85</td>\n",
       "      <td>37.000000</td>\n",
       "      <td>NaN</td>\n",
       "    </tr>\n",
       "    <tr>\n",
       "      <th>103.0</th>\n",
       "      <td>39.20</td>\n",
       "      <td>28.000000</td>\n",
       "      <td>NaN</td>\n",
       "    </tr>\n",
       "    <tr>\n",
       "      <th>106.0</th>\n",
       "      <td>26.25</td>\n",
       "      <td>26.000000</td>\n",
       "      <td>NaN</td>\n",
       "    </tr>\n",
       "    <tr>\n",
       "      <th>NaN</th>\n",
       "      <td>NaN</td>\n",
       "      <td>34.715517</td>\n",
       "      <td>NaN</td>\n",
       "    </tr>\n",
       "    <tr>\n",
       "      <th>NaN</th>\n",
       "      <td>NaN</td>\n",
       "      <td>9.820835</td>\n",
       "      <td>NaN</td>\n",
       "    </tr>\n",
       "    <tr>\n",
       "      <th>NaN</th>\n",
       "      <td>NaN</td>\n",
       "      <td>68.000000</td>\n",
       "      <td>NaN</td>\n",
       "    </tr>\n",
       "    <tr>\n",
       "      <th>NaN</th>\n",
       "      <td>NaN</td>\n",
       "      <td>20.000000</td>\n",
       "      <td>NaN</td>\n",
       "    </tr>\n",
       "  </tbody>\n",
       "</table>\n",
       "</div>"
      ],
      "text/plain": [
       "        score        age with_feedback\n",
       " 50.0   37.90  32.000000           NaN\n",
       " 52.0   43.05  27.000000           NaN\n",
       " 81.0   42.30        NaN           NaN\n",
       " 100.0  41.85  37.000000           NaN\n",
       " 103.0  39.20  28.000000           NaN\n",
       " 106.0  26.25  26.000000           NaN\n",
       "NaN       NaN  34.715517           NaN\n",
       "NaN       NaN   9.820835           NaN\n",
       "NaN       NaN  68.000000           NaN\n",
       "NaN       NaN  20.000000           NaN"
      ]
     },
     "execution_count": 10,
     "metadata": {},
     "output_type": "execute_result"
    }
   ],
   "source": [
    "age_score[age_score['with_feedback'].isna()]"
   ]
  },
  {
   "cell_type": "code",
   "execution_count": 11,
   "metadata": {
    "collapsed": false
   },
   "outputs": [
    {
     "name": "stdout",
     "output_type": "stream",
     "text": [
      "111\n"
     ]
    },
    {
     "data": {
      "text/html": [
       "<div>\n",
       "<style scoped>\n",
       "    .dataframe tbody tr th:only-of-type {\n",
       "        vertical-align: middle;\n",
       "    }\n",
       "\n",
       "    .dataframe tbody tr th {\n",
       "        vertical-align: top;\n",
       "    }\n",
       "\n",
       "    .dataframe thead th {\n",
       "        text-align: right;\n",
       "    }\n",
       "</style>\n",
       "<table border=\"1\" class=\"dataframe\">\n",
       "  <thead>\n",
       "    <tr style=\"text-align: right;\">\n",
       "      <th></th>\n",
       "      <th>score</th>\n",
       "      <th>age</th>\n",
       "      <th>with_feedback</th>\n",
       "    </tr>\n",
       "  </thead>\n",
       "  <tbody>\n",
       "    <tr>\n",
       "      <th>0.0</th>\n",
       "      <td>34.55</td>\n",
       "      <td>39.0</td>\n",
       "      <td>True</td>\n",
       "    </tr>\n",
       "    <tr>\n",
       "      <th>1.0</th>\n",
       "      <td>41.05</td>\n",
       "      <td>31.0</td>\n",
       "      <td>True</td>\n",
       "    </tr>\n",
       "    <tr>\n",
       "      <th>2.0</th>\n",
       "      <td>23.10</td>\n",
       "      <td>51.0</td>\n",
       "      <td>True</td>\n",
       "    </tr>\n",
       "    <tr>\n",
       "      <th>3.0</th>\n",
       "      <td>41.75</td>\n",
       "      <td>33.0</td>\n",
       "      <td>True</td>\n",
       "    </tr>\n",
       "    <tr>\n",
       "      <th>4.0</th>\n",
       "      <td>39.40</td>\n",
       "      <td>33.0</td>\n",
       "      <td>True</td>\n",
       "    </tr>\n",
       "    <tr>\n",
       "      <th>5.0</th>\n",
       "      <td>42.55</td>\n",
       "      <td>25.0</td>\n",
       "      <td>False</td>\n",
       "    </tr>\n",
       "    <tr>\n",
       "      <th>6.0</th>\n",
       "      <td>23.60</td>\n",
       "      <td>23.0</td>\n",
       "      <td>False</td>\n",
       "    </tr>\n",
       "    <tr>\n",
       "      <th>7.0</th>\n",
       "      <td>44.20</td>\n",
       "      <td>41.0</td>\n",
       "      <td>True</td>\n",
       "    </tr>\n",
       "    <tr>\n",
       "      <th>8.0</th>\n",
       "      <td>43.65</td>\n",
       "      <td>40.0</td>\n",
       "      <td>True</td>\n",
       "    </tr>\n",
       "    <tr>\n",
       "      <th>9.0</th>\n",
       "      <td>39.90</td>\n",
       "      <td>42.0</td>\n",
       "      <td>True</td>\n",
       "    </tr>\n",
       "    <tr>\n",
       "      <th>10.0</th>\n",
       "      <td>38.80</td>\n",
       "      <td>61.0</td>\n",
       "      <td>False</td>\n",
       "    </tr>\n",
       "  </tbody>\n",
       "</table>\n",
       "</div>"
      ],
      "text/plain": [
       "      score   age with_feedback\n",
       "0.0   34.55  39.0          True\n",
       "1.0   41.05  31.0          True\n",
       "2.0   23.10  51.0          True\n",
       "3.0   41.75  33.0          True\n",
       "4.0   39.40  33.0          True\n",
       "5.0   42.55  25.0         False\n",
       "6.0   23.60  23.0         False\n",
       "7.0   44.20  41.0          True\n",
       "8.0   43.65  40.0          True\n",
       "9.0   39.90  42.0          True\n",
       "10.0  38.80  61.0         False"
      ]
     },
     "execution_count": 11,
     "metadata": {},
     "output_type": "execute_result"
    }
   ],
   "source": [
    "age_score = age_score.dropna(axis=0, how='any')\n",
    "print(len(age_score['age']))\n",
    "age_score[:10]"
   ]
  },
  {
   "cell_type": "code",
   "execution_count": 12,
   "metadata": {
    "collapsed": true
   },
   "outputs": [],
   "source": [
    "first_five = perf[perf['trial_index'] < 16.0]\n",
    "last_five = perf[perf['trial_index'] > 25.0]\n",
    "age_score['first_five'] = first_five.groupby('pid')['score'].mean()\n",
    "age_score['last_five'] = last_five.groupby('pid')['score'].mean()\n",
    "age_score['improvement'] = age_score['last_five'] - age_score['first_five']\n",
    "with_fb = age_score.query(\"with_feedback == True\")\n",
    "without_fb = age_score.query(\"with_feedback==False\")"
   ]
  },
  {
   "cell_type": "code",
   "execution_count": 13,
   "metadata": {
    "collapsed": false
   },
   "outputs": [
    {
     "name": "stdout",
     "output_type": "stream",
     "text": [
      "Stats for With Feedback\n",
      "Pearson:  (-0.33381623217776335, 0.011927302321066768)\n",
      "SpearmanrResult(correlation=-0.016292180912003438, pvalue=0.90513469013517167)\n",
      "Pearson:  (-0.27856805302592885, 0.039453586261443317)\n",
      "SpearmanrResult(correlation=-0.33479164108037363, pvalue=0.012475135922460358)\n"
     ]
    }
   ],
   "source": [
    "print(\"Stats for With Feedback\")\n",
    "print('Pearson: ', stats.pearsonr(with_fb['age'], with_fb['score']))\n",
    "print(stats.spearmanr(with_fb['age'], with_fb['score']))\n",
    "print('Pearson: ', stats.pearsonr(without_fb['age'], without_fb['score']))\n",
    "print(stats.spearmanr(without_fb['age'], without_fb['score']))"
   ]
  },
  {
   "cell_type": "code",
   "execution_count": 14,
   "metadata": {
    "collapsed": false
   },
   "outputs": [
    {
     "data": {
      "text/plain": [
       "<matplotlib.legend.Legend at 0x280716f0c50>"
      ]
     },
     "execution_count": 14,
     "metadata": {},
     "output_type": "execute_result"
    },
    {
     "data": {
      "image/png": "[encoded data removed]",
      "text/plain": [
       "<matplotlib.figure.Figure at 0x28070fae400>"
      ]
     },
     "metadata": {},
     "output_type": "display_data"
    }
   ],
   "source": [
    "plt.figure(figsize=(10,8))\n",
    "plt.scatter(with_fb['age'], with_fb['improvement'], c='b', label='With Feedback')\n",
    "plt.scatter(without_fb['age'],without_fb['improvement'], c='r', label='Without Feedback')\n",
    "plt.xlabel('age')\n",
    "plt.ylabel(\"improvement over test trials in 1A.5\")\n",
    "plt.legend()"
   ]
  },
  {
   "cell_type": "code",
   "execution_count": 15,
   "metadata": {
    "collapsed": false
   },
   "outputs": [
    {
     "name": "stdout",
     "output_type": "stream",
     "text": [
      "Stats for With Feedback\n",
      "Pearson:  (-0.36890450250807666, 0.0051454279481335918)\n",
      "SpearmanrResult(correlation=-0.37815581270640919, pvalue=0.0040585218020627338)\n",
      "Stats for Without Feedback\n",
      "Pearson:  (-0.21601109475228042, 0.11320526604790372)\n",
      "SpearmanrResult(correlation=-0.081866611930476868, pvalue=0.55238334668439371)\n"
     ]
    }
   ],
   "source": [
    "print(\"Stats for With Feedback\")\n",
    "print('Pearson: ', stats.pearsonr(with_fb['age'], with_fb['improvement']))\n",
    "print(stats.spearmanr(with_fb['age'], with_fb['improvement']))\n",
    "print(\"Stats for Without Feedback\")\n",
    "print('Pearson: ', stats.pearsonr(without_fb['age'], without_fb['improvement']))\n",
    "print(stats.spearmanr(without_fb['age'], without_fb['improvement']))"
   ]
  },
  {
   "cell_type": "markdown",
   "metadata": {
    "collapsed": true
   },
   "source": [
    "The above calculates \"improvement\" as the difference between the last five trials and the first five trials in the test block. The next few cells will calculate improvement as the last five trials in the test block minus performance in the pretest block."
   ]
  },
  {
   "cell_type": "code",
   "execution_count": 16,
   "metadata": {
    "collapsed": false
   },
   "outputs": [
    {
     "name": "stdout",
     "output_type": "stream",
     "text": [
      "119\n",
      "111\n"
     ]
    }
   ],
   "source": [
    "pre_test_perf = backwards_data[backwards_data['block'] == 'pre_test']\n",
    "pre_test_perf = pre_test_perf[['score', 'pid']].set_index(\"pid\")\n",
    "pre_test_perf = pre_test_perf.rename(columns={'score':'pretest'})\n",
    "age_score = age_score.merge(pre_test_perf, how='outer', left_index=True, right_index=True)\n",
    "age_score['diff'] = age_score['score'] - age_score['pretest']\n",
    "print(len(age_score))\n",
    "age_score = age_score.dropna()\n",
    "print(len(age_score))"
   ]
  },
  {
   "cell_type": "code",
   "execution_count": 17,
   "metadata": {
    "collapsed": false
   },
   "outputs": [
    {
     "data": {
      "text/html": [
       "<div>\n",
       "<style scoped>\n",
       "    .dataframe tbody tr th:only-of-type {\n",
       "        vertical-align: middle;\n",
       "    }\n",
       "\n",
       "    .dataframe tbody tr th {\n",
       "        vertical-align: top;\n",
       "    }\n",
       "\n",
       "    .dataframe thead th {\n",
       "        text-align: right;\n",
       "    }\n",
       "</style>\n",
       "<table border=\"1\" class=\"dataframe\">\n",
       "  <thead>\n",
       "    <tr style=\"text-align: right;\">\n",
       "      <th></th>\n",
       "      <th>score</th>\n",
       "      <th>age</th>\n",
       "      <th>with_feedback</th>\n",
       "      <th>first_five</th>\n",
       "      <th>last_five</th>\n",
       "      <th>improvement</th>\n",
       "      <th>pretest</th>\n",
       "      <th>diff</th>\n",
       "    </tr>\n",
       "  </thead>\n",
       "  <tbody>\n",
       "    <tr>\n",
       "      <th>0.0</th>\n",
       "      <td>34.55</td>\n",
       "      <td>39.0</td>\n",
       "      <td>True</td>\n",
       "      <td>36.0</td>\n",
       "      <td>24.6</td>\n",
       "      <td>-11.4</td>\n",
       "      <td>24.0</td>\n",
       "      <td>10.55</td>\n",
       "    </tr>\n",
       "    <tr>\n",
       "      <th>1.0</th>\n",
       "      <td>41.05</td>\n",
       "      <td>31.0</td>\n",
       "      <td>True</td>\n",
       "      <td>38.2</td>\n",
       "      <td>38.4</td>\n",
       "      <td>0.2</td>\n",
       "      <td>52.0</td>\n",
       "      <td>-10.95</td>\n",
       "    </tr>\n",
       "    <tr>\n",
       "      <th>2.0</th>\n",
       "      <td>23.10</td>\n",
       "      <td>51.0</td>\n",
       "      <td>True</td>\n",
       "      <td>42.2</td>\n",
       "      <td>12.8</td>\n",
       "      <td>-29.4</td>\n",
       "      <td>24.0</td>\n",
       "      <td>-0.90</td>\n",
       "    </tr>\n",
       "    <tr>\n",
       "      <th>3.0</th>\n",
       "      <td>41.75</td>\n",
       "      <td>33.0</td>\n",
       "      <td>True</td>\n",
       "      <td>49.0</td>\n",
       "      <td>40.6</td>\n",
       "      <td>-8.4</td>\n",
       "      <td>26.0</td>\n",
       "      <td>15.75</td>\n",
       "    </tr>\n",
       "    <tr>\n",
       "      <th>4.0</th>\n",
       "      <td>39.40</td>\n",
       "      <td>33.0</td>\n",
       "      <td>True</td>\n",
       "      <td>42.8</td>\n",
       "      <td>39.2</td>\n",
       "      <td>-3.6</td>\n",
       "      <td>21.0</td>\n",
       "      <td>18.40</td>\n",
       "    </tr>\n",
       "  </tbody>\n",
       "</table>\n",
       "</div>"
      ],
      "text/plain": [
       "     score   age with_feedback  first_five  last_five  improvement  pretest  \\\n",
       "0.0  34.55  39.0          True        36.0       24.6        -11.4     24.0   \n",
       "1.0  41.05  31.0          True        38.2       38.4          0.2     52.0   \n",
       "2.0  23.10  51.0          True        42.2       12.8        -29.4     24.0   \n",
       "3.0  41.75  33.0          True        49.0       40.6         -8.4     26.0   \n",
       "4.0  39.40  33.0          True        42.8       39.2         -3.6     21.0   \n",
       "\n",
       "      diff  \n",
       "0.0  10.55  \n",
       "1.0 -10.95  \n",
       "2.0  -0.90  \n",
       "3.0  15.75  \n",
       "4.0  18.40  "
      ]
     },
     "execution_count": 17,
     "metadata": {},
     "output_type": "execute_result"
    }
   ],
   "source": [
    "age_score.head()"
   ]
  },
  {
   "cell_type": "code",
   "execution_count": 18,
   "metadata": {
    "collapsed": true
   },
   "outputs": [],
   "source": [
    "with_fb = age_score.query(\"with_feedback == True\")\n",
    "without_fb = age_score.query(\"with_feedback==False\")"
   ]
  },
  {
   "cell_type": "code",
   "execution_count": 19,
   "metadata": {
    "collapsed": true
   },
   "outputs": [],
   "source": [
    "from sklearn.linear_model import LinearRegression\n",
    "model = LinearRegression()\n",
    "model.fit(with_fb[['age']], with_fb['diff'])\n",
    "with_fb_pred = model.predict(with_fb[['age']])\n",
    "model.fit(without_fb[['age']], without_fb['diff'])\n",
    "without_fb_pred = model.predict(without_fb[['age']])"
   ]
  },
  {
   "cell_type": "code",
   "execution_count": 143,
   "metadata": {
    "collapsed": false
   },
   "outputs": [
    {
     "data": {
      "image/png": "[encoded data removed]",
      "text/plain": [
       "<matplotlib.figure.Figure at 0x2807da73e48>"
      ]
     },
     "metadata": {},
     "output_type": "display_data"
    }
   ],
   "source": [
    "f = plt.figure(figsize=(10, 10))\n",
    "ax1 = plt.subplot(121)\n",
    "plt.scatter(with_fb['age'], with_fb['diff'], c='b', label='With Feedback')\n",
    "plt.plot(with_fb['age'], with_fb_pred)\n",
    "plt.xlabel(\"age\", fontsize=12)\n",
    "plt.ylabel(\"Improvement between Pretest and Test\", fontsize=12)\n",
    "plt.title(\"With Feedback\")\n",
    "x0,x1 = ax1.get_xlim()\n",
    "y0,y1 = ax1.get_ylim()\n",
    "ax1.set_aspect(abs(x1-x0)/abs(y1-y0))\n",
    "ax2 = plt.subplot(122)\n",
    "plt.scatter(without_fb['age'],without_fb['diff'], c='r', label='Difference')\n",
    "plt.plot(without_fb['age'], without_fb_pred, c='r', label='Linear Regression')\n",
    "plt.xlabel('age', fontsize=12)\n",
    "plt.title('Without Feedback')\n",
    "x0,x1 = ax2.get_xlim()\n",
    "y0,y1 = ax2.get_ylim()\n",
    "ax2.set_aspect(abs(x1-x0)/abs(y1-y0))"
   ]
  },
  {
   "cell_type": "code",
   "execution_count": 21,
   "metadata": {
    "collapsed": false
   },
   "outputs": [
    {
     "name": "stdout",
     "output_type": "stream",
     "text": [
      "Stats for With Feedback\n",
      "Pearson:  (0.20514070083422578, 0.12934503636314754)\n",
      "SpearmanrResult(correlation=0.26351125502854916, pvalue=0.049728020083810741)\n",
      "Stats for Without Feedback\n",
      "Pearson:  (-0.036851287227979167, 0.7893845748507079)\n",
      "SpearmanrResult(correlation=-0.046152812507828558, pvalue=0.73793057883798974)\n"
     ]
    }
   ],
   "source": [
    "print(\"Stats for With Feedback\")\n",
    "print('Pearson: ', stats.pearsonr(with_fb['age'], with_fb['diff']))\n",
    "print(stats.spearmanr(with_fb['age'], with_fb['diff']))\n",
    "print(\"Stats for Without Feedback\")\n",
    "print('Pearson: ', stats.pearsonr(without_fb['age'], without_fb['diff']))\n",
    "print(stats.spearmanr(without_fb['age'], without_fb['diff']))"
   ]
  },
  {
   "cell_type": "code",
   "execution_count": 22,
   "metadata": {
    "collapsed": false
   },
   "outputs": [
    {
     "name": "stderr",
     "output_type": "stream",
     "text": [
      "C:\\Users\\piichan\\Anaconda3\\lib\\site-packages\\pandas\\core\\generic.py:3643: SettingWithCopyWarning: \n",
      "A value is trying to be set on a copy of a slice from a DataFrame.\n",
      "Try using .loc[row_indexer,col_indexer] = value instead\n",
      "\n",
      "See the caveats in the documentation: http://pandas.pydata.org/pandas-docs/stable/indexing.html#indexing-view-versus-copy\n",
      "  self[name] = value\n"
     ]
    },
    {
     "data": {
      "text/html": [
       "<div>\n",
       "<style scoped>\n",
       "    .dataframe tbody tr th:only-of-type {\n",
       "        vertical-align: middle;\n",
       "    }\n",
       "\n",
       "    .dataframe tbody tr th {\n",
       "        vertical-align: top;\n",
       "    }\n",
       "\n",
       "    .dataframe thead th {\n",
       "        text-align: right;\n",
       "    }\n",
       "</style>\n",
       "<table border=\"1\" class=\"dataframe\">\n",
       "  <thead>\n",
       "    <tr style=\"text-align: right;\">\n",
       "      <th></th>\n",
       "      <th>pid</th>\n",
       "      <th>score</th>\n",
       "      <th>trial_index</th>\n",
       "    </tr>\n",
       "  </thead>\n",
       "  <tbody>\n",
       "    <tr>\n",
       "      <th>11</th>\n",
       "      <td>0</td>\n",
       "      <td>44.0</td>\n",
       "      <td>0.0</td>\n",
       "    </tr>\n",
       "    <tr>\n",
       "      <th>12</th>\n",
       "      <td>0</td>\n",
       "      <td>18.0</td>\n",
       "      <td>1.0</td>\n",
       "    </tr>\n",
       "    <tr>\n",
       "      <th>13</th>\n",
       "      <td>0</td>\n",
       "      <td>32.0</td>\n",
       "      <td>2.0</td>\n",
       "    </tr>\n",
       "    <tr>\n",
       "      <th>14</th>\n",
       "      <td>0</td>\n",
       "      <td>48.0</td>\n",
       "      <td>3.0</td>\n",
       "    </tr>\n",
       "    <tr>\n",
       "      <th>15</th>\n",
       "      <td>0</td>\n",
       "      <td>38.0</td>\n",
       "      <td>4.0</td>\n",
       "    </tr>\n",
       "  </tbody>\n",
       "</table>\n",
       "</div>"
      ],
      "text/plain": [
       "    pid  score  trial_index\n",
       "11    0   44.0          0.0\n",
       "12    0   18.0          1.0\n",
       "13    0   32.0          2.0\n",
       "14    0   48.0          3.0\n",
       "15    0   38.0          4.0"
      ]
     },
     "execution_count": 22,
     "metadata": {},
     "output_type": "execute_result"
    }
   ],
   "source": [
    "perf.trial_index -= perf.trial_index.min()\n",
    "perf.head()"
   ]
  },
  {
   "cell_type": "code",
   "execution_count": 23,
   "metadata": {
    "collapsed": true
   },
   "outputs": [],
   "source": [
    "age_df = backwards_survey[['Unnamed: 0', '8']]\n",
    "age_df = age_df.rename(columns={'Unnamed: 0': 'pid', '8': 'age'})"
   ]
  },
  {
   "cell_type": "code",
   "execution_count": 24,
   "metadata": {
    "collapsed": false
   },
   "outputs": [
    {
     "name": "stderr",
     "output_type": "stream",
     "text": [
      "C:\\Users\\piichan\\Anaconda3\\lib\\site-packages\\pandas\\core\\generic.py:3643: SettingWithCopyWarning: \n",
      "A value is trying to be set on a copy of a slice from a DataFrame.\n",
      "Try using .loc[row_indexer,col_indexer] = value instead\n",
      "\n",
      "See the caveats in the documentation: http://pandas.pydata.org/pandas-docs/stable/indexing.html#indexing-view-versus-copy\n",
      "  self[name] = value\n"
     ]
    }
   ],
   "source": [
    "training = bw_train_data[['pid','score', 'trial_index']]\n",
    "training.trial_index -= training.trial_index.min()"
   ]
  },
  {
   "cell_type": "code",
   "execution_count": 25,
   "metadata": {
    "collapsed": true,
    "scrolled": true
   },
   "outputs": [],
   "source": [
    "learning = training.merge(age_df, how='outer', left_on='pid', right_on='pid')\n",
    "learning = learning.dropna()"
   ]
  },
  {
   "cell_type": "code",
   "execution_count": 26,
   "metadata": {
    "collapsed": false
   },
   "outputs": [
    {
     "data": {
      "text/html": [
       "<div>\n",
       "<style scoped>\n",
       "    .dataframe tbody tr th:only-of-type {\n",
       "        vertical-align: middle;\n",
       "    }\n",
       "\n",
       "    .dataframe tbody tr th {\n",
       "        vertical-align: top;\n",
       "    }\n",
       "\n",
       "    .dataframe thead th {\n",
       "        text-align: right;\n",
       "    }\n",
       "</style>\n",
       "<table border=\"1\" class=\"dataframe\">\n",
       "  <thead>\n",
       "    <tr style=\"text-align: right;\">\n",
       "      <th></th>\n",
       "      <th>pid</th>\n",
       "      <th>score</th>\n",
       "      <th>trial_index</th>\n",
       "      <th>age</th>\n",
       "      <th>with_feedback</th>\n",
       "    </tr>\n",
       "  </thead>\n",
       "  <tbody>\n",
       "    <tr>\n",
       "      <th>0</th>\n",
       "      <td>0</td>\n",
       "      <td>48.0</td>\n",
       "      <td>0.0</td>\n",
       "      <td>39.0</td>\n",
       "      <td>True</td>\n",
       "    </tr>\n",
       "    <tr>\n",
       "      <th>1</th>\n",
       "      <td>0</td>\n",
       "      <td>18.0</td>\n",
       "      <td>1.0</td>\n",
       "      <td>39.0</td>\n",
       "      <td>True</td>\n",
       "    </tr>\n",
       "    <tr>\n",
       "      <th>2</th>\n",
       "      <td>0</td>\n",
       "      <td>23.0</td>\n",
       "      <td>2.0</td>\n",
       "      <td>39.0</td>\n",
       "      <td>True</td>\n",
       "    </tr>\n",
       "    <tr>\n",
       "      <th>3</th>\n",
       "      <td>0</td>\n",
       "      <td>17.0</td>\n",
       "      <td>3.0</td>\n",
       "      <td>39.0</td>\n",
       "      <td>True</td>\n",
       "    </tr>\n",
       "    <tr>\n",
       "      <th>4</th>\n",
       "      <td>0</td>\n",
       "      <td>20.0</td>\n",
       "      <td>4.0</td>\n",
       "      <td>39.0</td>\n",
       "      <td>True</td>\n",
       "    </tr>\n",
       "  </tbody>\n",
       "</table>\n",
       "</div>"
      ],
      "text/plain": [
       "  pid  score  trial_index   age with_feedback\n",
       "0   0   48.0          0.0  39.0          True\n",
       "1   0   18.0          1.0  39.0          True\n",
       "2   0   23.0          2.0  39.0          True\n",
       "3   0   17.0          3.0  39.0          True\n",
       "4   0   20.0          4.0  39.0          True"
      ]
     },
     "execution_count": 26,
     "metadata": {},
     "output_type": "execute_result"
    }
   ],
   "source": [
    "learning = learning.merge(pdf[['pid', 'with_feedback']], how='left', left_on='pid', right_on='pid')\n",
    "learning.head()"
   ]
  },
  {
   "cell_type": "code",
   "execution_count": 27,
   "metadata": {
    "collapsed": false
   },
   "outputs": [
    {
     "data": {
      "text/plain": [
       "56.0"
      ]
     },
     "execution_count": 27,
     "metadata": {},
     "output_type": "execute_result"
    }
   ],
   "source": [
    "fb = learning[learning['with_feedback']==True]\n",
    "no_fb = learning[learning['with_feedback']==False]\n",
    "len(fb['pid'])/10"
   ]
  },
  {
   "cell_type": "code",
   "execution_count": 28,
   "metadata": {
    "collapsed": true
   },
   "outputs": [],
   "source": [
    "age = np.zeros(56)\n",
    "slopes = np.zeros(56)\n",
    "\n",
    "for i in np.arange(56):\n",
    "    x = np.arange(10)\n",
    "    y = fb.iloc[i*10:(i+1)*10, 1]\n",
    "    age[i] = fb.iloc[i*10, 3]\n",
    "    slope, intercept, r_value, p_value, std_err = stats.linregress(x,y)\n",
    "    slopes[i] = slope"
   ]
  },
  {
   "cell_type": "code",
   "execution_count": 29,
   "metadata": {
    "collapsed": true
   },
   "outputs": [],
   "source": [
    "age2 = np.zeros(55)\n",
    "slopes2 = np.zeros(55)\n",
    "\n",
    "for i in np.arange(55):\n",
    "    x = np.arange(10)\n",
    "    y = no_fb.iloc[i*10:(i+1)*10, 1]\n",
    "    age2[i] = no_fb.iloc[i*10, 3]\n",
    "    slope, intercept, r_value, p_value, std_err = stats.linregress(x,y)\n",
    "    slopes2[i] = slope"
   ]
  },
  {
   "cell_type": "code",
   "execution_count": 30,
   "metadata": {
    "collapsed": true
   },
   "outputs": [],
   "source": [
    "age_slopes = pd.DataFrame()\n",
    "age_slopes['age'] = age\n",
    "age_slopes['slope'] = slopes\n",
    "age_slopes['with_feedback'] = True"
   ]
  },
  {
   "cell_type": "code",
   "execution_count": 31,
   "metadata": {
    "collapsed": false
   },
   "outputs": [
    {
     "data": {
      "text/html": [
       "<div>\n",
       "<style scoped>\n",
       "    .dataframe tbody tr th:only-of-type {\n",
       "        vertical-align: middle;\n",
       "    }\n",
       "\n",
       "    .dataframe tbody tr th {\n",
       "        vertical-align: top;\n",
       "    }\n",
       "\n",
       "    .dataframe thead th {\n",
       "        text-align: right;\n",
       "    }\n",
       "</style>\n",
       "<table border=\"1\" class=\"dataframe\">\n",
       "  <thead>\n",
       "    <tr style=\"text-align: right;\">\n",
       "      <th></th>\n",
       "      <th>index</th>\n",
       "      <th>age</th>\n",
       "      <th>slope</th>\n",
       "      <th>with_feedback</th>\n",
       "    </tr>\n",
       "  </thead>\n",
       "  <tbody>\n",
       "    <tr>\n",
       "      <th>0</th>\n",
       "      <td>53</td>\n",
       "      <td>21.0</td>\n",
       "      <td>-1.509091</td>\n",
       "      <td>False</td>\n",
       "    </tr>\n",
       "    <tr>\n",
       "      <th>1</th>\n",
       "      <td>1</td>\n",
       "      <td>23.0</td>\n",
       "      <td>6.242424</td>\n",
       "      <td>False</td>\n",
       "    </tr>\n",
       "    <tr>\n",
       "      <th>2</th>\n",
       "      <td>32</td>\n",
       "      <td>23.0</td>\n",
       "      <td>1.709091</td>\n",
       "      <td>False</td>\n",
       "    </tr>\n",
       "    <tr>\n",
       "      <th>3</th>\n",
       "      <td>9</td>\n",
       "      <td>23.0</td>\n",
       "      <td>0.515152</td>\n",
       "      <td>False</td>\n",
       "    </tr>\n",
       "    <tr>\n",
       "      <th>4</th>\n",
       "      <td>27</td>\n",
       "      <td>24.0</td>\n",
       "      <td>-0.800000</td>\n",
       "      <td>False</td>\n",
       "    </tr>\n",
       "  </tbody>\n",
       "</table>\n",
       "</div>"
      ],
      "text/plain": [
       "   index   age     slope  with_feedback\n",
       "0     53  21.0 -1.509091          False\n",
       "1      1  23.0  6.242424          False\n",
       "2     32  23.0  1.709091          False\n",
       "3      9  23.0  0.515152          False\n",
       "4     27  24.0 -0.800000          False"
      ]
     },
     "execution_count": 31,
     "metadata": {},
     "output_type": "execute_result"
    }
   ],
   "source": [
    "age_slopes2 = pd.DataFrame()\n",
    "age_slopes2['age'] = age2\n",
    "age_slopes2['slope'] = slopes2\n",
    "age_slopes2['with_feedback'] = False\n",
    "age_slopes2 = age_slopes2.sort_values('age').reset_index()\n",
    "age_slopes2.head()"
   ]
  },
  {
   "cell_type": "code",
   "execution_count": 32,
   "metadata": {
    "collapsed": false
   },
   "outputs": [
    {
     "data": {
      "text/html": [
       "<div>\n",
       "<style scoped>\n",
       "    .dataframe tbody tr th:only-of-type {\n",
       "        vertical-align: middle;\n",
       "    }\n",
       "\n",
       "    .dataframe tbody tr th {\n",
       "        vertical-align: top;\n",
       "    }\n",
       "\n",
       "    .dataframe thead th {\n",
       "        text-align: right;\n",
       "    }\n",
       "</style>\n",
       "<table border=\"1\" class=\"dataframe\">\n",
       "  <thead>\n",
       "    <tr style=\"text-align: right;\">\n",
       "      <th></th>\n",
       "      <th>index</th>\n",
       "      <th>age</th>\n",
       "      <th>slope</th>\n",
       "      <th>with_feedback</th>\n",
       "    </tr>\n",
       "  </thead>\n",
       "  <tbody>\n",
       "    <tr>\n",
       "      <th>0</th>\n",
       "      <td>47</td>\n",
       "      <td>20.0</td>\n",
       "      <td>-3.296970</td>\n",
       "      <td>True</td>\n",
       "    </tr>\n",
       "    <tr>\n",
       "      <th>1</th>\n",
       "      <td>10</td>\n",
       "      <td>20.0</td>\n",
       "      <td>2.618182</td>\n",
       "      <td>True</td>\n",
       "    </tr>\n",
       "    <tr>\n",
       "      <th>2</th>\n",
       "      <td>37</td>\n",
       "      <td>21.0</td>\n",
       "      <td>0.363636</td>\n",
       "      <td>True</td>\n",
       "    </tr>\n",
       "    <tr>\n",
       "      <th>3</th>\n",
       "      <td>15</td>\n",
       "      <td>21.0</td>\n",
       "      <td>-0.472727</td>\n",
       "      <td>True</td>\n",
       "    </tr>\n",
       "    <tr>\n",
       "      <th>4</th>\n",
       "      <td>21</td>\n",
       "      <td>23.0</td>\n",
       "      <td>-4.115152</td>\n",
       "      <td>True</td>\n",
       "    </tr>\n",
       "  </tbody>\n",
       "</table>\n",
       "</div>"
      ],
      "text/plain": [
       "   index   age     slope  with_feedback\n",
       "0     47  20.0 -3.296970           True\n",
       "1     10  20.0  2.618182           True\n",
       "2     37  21.0  0.363636           True\n",
       "3     15  21.0 -0.472727           True\n",
       "4     21  23.0 -4.115152           True"
      ]
     },
     "execution_count": 32,
     "metadata": {},
     "output_type": "execute_result"
    }
   ],
   "source": [
    "age_slopes = age_slopes.sort_values('age').reset_index()\n",
    "age_slopes.head()"
   ]
  },
  {
   "cell_type": "code",
   "execution_count": 34,
   "metadata": {
    "collapsed": false
   },
   "outputs": [
    {
     "data": {
      "text/html": [
       "<div>\n",
       "<style scoped>\n",
       "    .dataframe tbody tr th:only-of-type {\n",
       "        vertical-align: middle;\n",
       "    }\n",
       "\n",
       "    .dataframe tbody tr th {\n",
       "        vertical-align: top;\n",
       "    }\n",
       "\n",
       "    .dataframe thead th {\n",
       "        text-align: right;\n",
       "    }\n",
       "</style>\n",
       "<table border=\"1\" class=\"dataframe\">\n",
       "  <thead>\n",
       "    <tr style=\"text-align: right;\">\n",
       "      <th></th>\n",
       "      <th>index</th>\n",
       "      <th>age</th>\n",
       "      <th>slope</th>\n",
       "      <th>with_feedback</th>\n",
       "    </tr>\n",
       "  </thead>\n",
       "  <tbody>\n",
       "    <tr>\n",
       "      <th>0</th>\n",
       "      <td>47</td>\n",
       "      <td>20.0</td>\n",
       "      <td>-3.296970</td>\n",
       "      <td>True</td>\n",
       "    </tr>\n",
       "    <tr>\n",
       "      <th>1</th>\n",
       "      <td>10</td>\n",
       "      <td>20.0</td>\n",
       "      <td>2.618182</td>\n",
       "      <td>True</td>\n",
       "    </tr>\n",
       "    <tr>\n",
       "      <th>2</th>\n",
       "      <td>37</td>\n",
       "      <td>21.0</td>\n",
       "      <td>0.363636</td>\n",
       "      <td>True</td>\n",
       "    </tr>\n",
       "    <tr>\n",
       "      <th>3</th>\n",
       "      <td>15</td>\n",
       "      <td>21.0</td>\n",
       "      <td>-0.472727</td>\n",
       "      <td>True</td>\n",
       "    </tr>\n",
       "    <tr>\n",
       "      <th>4</th>\n",
       "      <td>21</td>\n",
       "      <td>23.0</td>\n",
       "      <td>-4.115152</td>\n",
       "      <td>True</td>\n",
       "    </tr>\n",
       "  </tbody>\n",
       "</table>\n",
       "</div>"
      ],
      "text/plain": [
       "   index   age     slope with_feedback\n",
       "0     47  20.0 -3.296970          True\n",
       "1     10  20.0  2.618182          True\n",
       "2     37  21.0  0.363636          True\n",
       "3     15  21.0 -0.472727          True\n",
       "4     21  23.0 -4.115152          True"
      ]
     },
     "execution_count": 34,
     "metadata": {},
     "output_type": "execute_result"
    }
   ],
   "source": [
    "fb_and_no_fb = age_slopes.merge(age_slopes2, how='outer')\n",
    "fb_and_no_fb.head()"
   ]
  },
  {
   "cell_type": "code",
   "execution_count": 113,
   "metadata": {
    "collapsed": false
   },
   "outputs": [
    {
     "data": {
      "text/html": [
       "<div>\n",
       "<style scoped>\n",
       "    .dataframe tbody tr th:only-of-type {\n",
       "        vertical-align: middle;\n",
       "    }\n",
       "\n",
       "    .dataframe tbody tr th {\n",
       "        vertical-align: top;\n",
       "    }\n",
       "\n",
       "    .dataframe thead th {\n",
       "        text-align: right;\n",
       "    }\n",
       "</style>\n",
       "<table border=\"1\" class=\"dataframe\">\n",
       "  <thead>\n",
       "    <tr style=\"text-align: right;\">\n",
       "      <th></th>\n",
       "      <th>index</th>\n",
       "      <th>age</th>\n",
       "      <th>slope</th>\n",
       "      <th>with_feedback</th>\n",
       "    </tr>\n",
       "  </thead>\n",
       "  <tbody>\n",
       "    <tr>\n",
       "      <th>0</th>\n",
       "      <td>47</td>\n",
       "      <td>20</td>\n",
       "      <td>-3.296970</td>\n",
       "      <td>True</td>\n",
       "    </tr>\n",
       "    <tr>\n",
       "      <th>1</th>\n",
       "      <td>10</td>\n",
       "      <td>20</td>\n",
       "      <td>2.618182</td>\n",
       "      <td>True</td>\n",
       "    </tr>\n",
       "    <tr>\n",
       "      <th>2</th>\n",
       "      <td>37</td>\n",
       "      <td>21</td>\n",
       "      <td>0.363636</td>\n",
       "      <td>True</td>\n",
       "    </tr>\n",
       "    <tr>\n",
       "      <th>3</th>\n",
       "      <td>15</td>\n",
       "      <td>21</td>\n",
       "      <td>-0.472727</td>\n",
       "      <td>True</td>\n",
       "    </tr>\n",
       "    <tr>\n",
       "      <th>4</th>\n",
       "      <td>21</td>\n",
       "      <td>23</td>\n",
       "      <td>-4.115152</td>\n",
       "      <td>True</td>\n",
       "    </tr>\n",
       "    <tr>\n",
       "      <th>5</th>\n",
       "      <td>45</td>\n",
       "      <td>23</td>\n",
       "      <td>0.066667</td>\n",
       "      <td>True</td>\n",
       "    </tr>\n",
       "    <tr>\n",
       "      <th>6</th>\n",
       "      <td>17</td>\n",
       "      <td>23</td>\n",
       "      <td>0.060606</td>\n",
       "      <td>True</td>\n",
       "    </tr>\n",
       "    <tr>\n",
       "      <th>7</th>\n",
       "      <td>29</td>\n",
       "      <td>25</td>\n",
       "      <td>0.072727</td>\n",
       "      <td>True</td>\n",
       "    </tr>\n",
       "    <tr>\n",
       "      <th>8</th>\n",
       "      <td>22</td>\n",
       "      <td>25</td>\n",
       "      <td>0.696970</td>\n",
       "      <td>True</td>\n",
       "    </tr>\n",
       "    <tr>\n",
       "      <th>9</th>\n",
       "      <td>52</td>\n",
       "      <td>26</td>\n",
       "      <td>-6.866667</td>\n",
       "      <td>True</td>\n",
       "    </tr>\n",
       "    <tr>\n",
       "      <th>10</th>\n",
       "      <td>8</td>\n",
       "      <td>26</td>\n",
       "      <td>9.187879</td>\n",
       "      <td>True</td>\n",
       "    </tr>\n",
       "    <tr>\n",
       "      <th>11</th>\n",
       "      <td>13</td>\n",
       "      <td>26</td>\n",
       "      <td>-1.666667</td>\n",
       "      <td>True</td>\n",
       "    </tr>\n",
       "    <tr>\n",
       "      <th>12</th>\n",
       "      <td>27</td>\n",
       "      <td>28</td>\n",
       "      <td>-1.533333</td>\n",
       "      <td>True</td>\n",
       "    </tr>\n",
       "    <tr>\n",
       "      <th>13</th>\n",
       "      <td>49</td>\n",
       "      <td>28</td>\n",
       "      <td>0.351515</td>\n",
       "      <td>True</td>\n",
       "    </tr>\n",
       "    <tr>\n",
       "      <th>14</th>\n",
       "      <td>31</td>\n",
       "      <td>28</td>\n",
       "      <td>7.527273</td>\n",
       "      <td>True</td>\n",
       "    </tr>\n",
       "    <tr>\n",
       "      <th>15</th>\n",
       "      <td>54</td>\n",
       "      <td>29</td>\n",
       "      <td>1.060606</td>\n",
       "      <td>True</td>\n",
       "    </tr>\n",
       "    <tr>\n",
       "      <th>16</th>\n",
       "      <td>9</td>\n",
       "      <td>29</td>\n",
       "      <td>-1.024242</td>\n",
       "      <td>True</td>\n",
       "    </tr>\n",
       "    <tr>\n",
       "      <th>17</th>\n",
       "      <td>34</td>\n",
       "      <td>30</td>\n",
       "      <td>1.145455</td>\n",
       "      <td>True</td>\n",
       "    </tr>\n",
       "    <tr>\n",
       "      <th>18</th>\n",
       "      <td>35</td>\n",
       "      <td>30</td>\n",
       "      <td>3.557576</td>\n",
       "      <td>True</td>\n",
       "    </tr>\n",
       "    <tr>\n",
       "      <th>19</th>\n",
       "      <td>39</td>\n",
       "      <td>31</td>\n",
       "      <td>5.539394</td>\n",
       "      <td>True</td>\n",
       "    </tr>\n",
       "    <tr>\n",
       "      <th>20</th>\n",
       "      <td>30</td>\n",
       "      <td>31</td>\n",
       "      <td>4.351515</td>\n",
       "      <td>True</td>\n",
       "    </tr>\n",
       "    <tr>\n",
       "      <th>21</th>\n",
       "      <td>1</td>\n",
       "      <td>31</td>\n",
       "      <td>-0.333333</td>\n",
       "      <td>True</td>\n",
       "    </tr>\n",
       "    <tr>\n",
       "      <th>22</th>\n",
       "      <td>11</td>\n",
       "      <td>31</td>\n",
       "      <td>-0.715152</td>\n",
       "      <td>True</td>\n",
       "    </tr>\n",
       "    <tr>\n",
       "      <th>23</th>\n",
       "      <td>46</td>\n",
       "      <td>32</td>\n",
       "      <td>5.381818</td>\n",
       "      <td>True</td>\n",
       "    </tr>\n",
       "    <tr>\n",
       "      <th>24</th>\n",
       "      <td>55</td>\n",
       "      <td>32</td>\n",
       "      <td>3.909091</td>\n",
       "      <td>True</td>\n",
       "    </tr>\n",
       "    <tr>\n",
       "      <th>25</th>\n",
       "      <td>12</td>\n",
       "      <td>32</td>\n",
       "      <td>-4.787879</td>\n",
       "      <td>True</td>\n",
       "    </tr>\n",
       "    <tr>\n",
       "      <th>26</th>\n",
       "      <td>51</td>\n",
       "      <td>33</td>\n",
       "      <td>-0.678788</td>\n",
       "      <td>True</td>\n",
       "    </tr>\n",
       "    <tr>\n",
       "      <th>27</th>\n",
       "      <td>3</td>\n",
       "      <td>33</td>\n",
       "      <td>-0.272727</td>\n",
       "      <td>True</td>\n",
       "    </tr>\n",
       "    <tr>\n",
       "      <th>28</th>\n",
       "      <td>4</td>\n",
       "      <td>33</td>\n",
       "      <td>0.472727</td>\n",
       "      <td>True</td>\n",
       "    </tr>\n",
       "    <tr>\n",
       "      <th>29</th>\n",
       "      <td>38</td>\n",
       "      <td>33</td>\n",
       "      <td>6.115152</td>\n",
       "      <td>True</td>\n",
       "    </tr>\n",
       "    <tr>\n",
       "      <th>...</th>\n",
       "      <td>...</td>\n",
       "      <td>...</td>\n",
       "      <td>...</td>\n",
       "      <td>...</td>\n",
       "    </tr>\n",
       "    <tr>\n",
       "      <th>81</th>\n",
       "      <td>31</td>\n",
       "      <td>33</td>\n",
       "      <td>-9.587879</td>\n",
       "      <td>False</td>\n",
       "    </tr>\n",
       "    <tr>\n",
       "      <th>82</th>\n",
       "      <td>44</td>\n",
       "      <td>33</td>\n",
       "      <td>-0.096970</td>\n",
       "      <td>False</td>\n",
       "    </tr>\n",
       "    <tr>\n",
       "      <th>83</th>\n",
       "      <td>26</td>\n",
       "      <td>35</td>\n",
       "      <td>0.678788</td>\n",
       "      <td>False</td>\n",
       "    </tr>\n",
       "    <tr>\n",
       "      <th>84</th>\n",
       "      <td>6</td>\n",
       "      <td>35</td>\n",
       "      <td>-3.890909</td>\n",
       "      <td>False</td>\n",
       "    </tr>\n",
       "    <tr>\n",
       "      <th>85</th>\n",
       "      <td>29</td>\n",
       "      <td>35</td>\n",
       "      <td>1.321212</td>\n",
       "      <td>False</td>\n",
       "    </tr>\n",
       "    <tr>\n",
       "      <th>86</th>\n",
       "      <td>7</td>\n",
       "      <td>36</td>\n",
       "      <td>4.957576</td>\n",
       "      <td>False</td>\n",
       "    </tr>\n",
       "    <tr>\n",
       "      <th>87</th>\n",
       "      <td>15</td>\n",
       "      <td>36</td>\n",
       "      <td>-3.175758</td>\n",
       "      <td>False</td>\n",
       "    </tr>\n",
       "    <tr>\n",
       "      <th>88</th>\n",
       "      <td>28</td>\n",
       "      <td>37</td>\n",
       "      <td>-3.921212</td>\n",
       "      <td>False</td>\n",
       "    </tr>\n",
       "    <tr>\n",
       "      <th>89</th>\n",
       "      <td>22</td>\n",
       "      <td>37</td>\n",
       "      <td>0.824242</td>\n",
       "      <td>False</td>\n",
       "    </tr>\n",
       "    <tr>\n",
       "      <th>90</th>\n",
       "      <td>46</td>\n",
       "      <td>37</td>\n",
       "      <td>2.054545</td>\n",
       "      <td>False</td>\n",
       "    </tr>\n",
       "    <tr>\n",
       "      <th>91</th>\n",
       "      <td>3</td>\n",
       "      <td>38</td>\n",
       "      <td>2.915152</td>\n",
       "      <td>False</td>\n",
       "    </tr>\n",
       "    <tr>\n",
       "      <th>92</th>\n",
       "      <td>17</td>\n",
       "      <td>38</td>\n",
       "      <td>7.412121</td>\n",
       "      <td>False</td>\n",
       "    </tr>\n",
       "    <tr>\n",
       "      <th>93</th>\n",
       "      <td>30</td>\n",
       "      <td>38</td>\n",
       "      <td>4.212121</td>\n",
       "      <td>False</td>\n",
       "    </tr>\n",
       "    <tr>\n",
       "      <th>94</th>\n",
       "      <td>51</td>\n",
       "      <td>39</td>\n",
       "      <td>-6.848485</td>\n",
       "      <td>False</td>\n",
       "    </tr>\n",
       "    <tr>\n",
       "      <th>95</th>\n",
       "      <td>42</td>\n",
       "      <td>41</td>\n",
       "      <td>0.048485</td>\n",
       "      <td>False</td>\n",
       "    </tr>\n",
       "    <tr>\n",
       "      <th>96</th>\n",
       "      <td>19</td>\n",
       "      <td>41</td>\n",
       "      <td>6.672727</td>\n",
       "      <td>False</td>\n",
       "    </tr>\n",
       "    <tr>\n",
       "      <th>97</th>\n",
       "      <td>10</td>\n",
       "      <td>42</td>\n",
       "      <td>1.575758</td>\n",
       "      <td>False</td>\n",
       "    </tr>\n",
       "    <tr>\n",
       "      <th>98</th>\n",
       "      <td>36</td>\n",
       "      <td>42</td>\n",
       "      <td>5.393939</td>\n",
       "      <td>False</td>\n",
       "    </tr>\n",
       "    <tr>\n",
       "      <th>99</th>\n",
       "      <td>37</td>\n",
       "      <td>43</td>\n",
       "      <td>3.993939</td>\n",
       "      <td>False</td>\n",
       "    </tr>\n",
       "    <tr>\n",
       "      <th>100</th>\n",
       "      <td>41</td>\n",
       "      <td>43</td>\n",
       "      <td>9.624242</td>\n",
       "      <td>False</td>\n",
       "    </tr>\n",
       "    <tr>\n",
       "      <th>101</th>\n",
       "      <td>45</td>\n",
       "      <td>44</td>\n",
       "      <td>0.375758</td>\n",
       "      <td>False</td>\n",
       "    </tr>\n",
       "    <tr>\n",
       "      <th>102</th>\n",
       "      <td>8</td>\n",
       "      <td>46</td>\n",
       "      <td>1.775758</td>\n",
       "      <td>False</td>\n",
       "    </tr>\n",
       "    <tr>\n",
       "      <th>103</th>\n",
       "      <td>54</td>\n",
       "      <td>46</td>\n",
       "      <td>-2.896970</td>\n",
       "      <td>False</td>\n",
       "    </tr>\n",
       "    <tr>\n",
       "      <th>104</th>\n",
       "      <td>38</td>\n",
       "      <td>47</td>\n",
       "      <td>1.175758</td>\n",
       "      <td>False</td>\n",
       "    </tr>\n",
       "    <tr>\n",
       "      <th>105</th>\n",
       "      <td>52</td>\n",
       "      <td>49</td>\n",
       "      <td>10.993939</td>\n",
       "      <td>False</td>\n",
       "    </tr>\n",
       "    <tr>\n",
       "      <th>106</th>\n",
       "      <td>11</td>\n",
       "      <td>52</td>\n",
       "      <td>6.636364</td>\n",
       "      <td>False</td>\n",
       "    </tr>\n",
       "    <tr>\n",
       "      <th>107</th>\n",
       "      <td>18</td>\n",
       "      <td>57</td>\n",
       "      <td>1.321212</td>\n",
       "      <td>False</td>\n",
       "    </tr>\n",
       "    <tr>\n",
       "      <th>108</th>\n",
       "      <td>4</td>\n",
       "      <td>61</td>\n",
       "      <td>-0.993939</td>\n",
       "      <td>False</td>\n",
       "    </tr>\n",
       "    <tr>\n",
       "      <th>109</th>\n",
       "      <td>2</td>\n",
       "      <td>61</td>\n",
       "      <td>-1.084848</td>\n",
       "      <td>False</td>\n",
       "    </tr>\n",
       "    <tr>\n",
       "      <th>110</th>\n",
       "      <td>34</td>\n",
       "      <td>68</td>\n",
       "      <td>3.090909</td>\n",
       "      <td>False</td>\n",
       "    </tr>\n",
       "  </tbody>\n",
       "</table>\n",
       "<p>111 rows × 4 columns</p>\n",
       "</div>"
      ],
      "text/plain": [
       "     index  age      slope with_feedback\n",
       "0       47   20  -3.296970          True\n",
       "1       10   20   2.618182          True\n",
       "2       37   21   0.363636          True\n",
       "3       15   21  -0.472727          True\n",
       "4       21   23  -4.115152          True\n",
       "5       45   23   0.066667          True\n",
       "6       17   23   0.060606          True\n",
       "7       29   25   0.072727          True\n",
       "8       22   25   0.696970          True\n",
       "9       52   26  -6.866667          True\n",
       "10       8   26   9.187879          True\n",
       "11      13   26  -1.666667          True\n",
       "12      27   28  -1.533333          True\n",
       "13      49   28   0.351515          True\n",
       "14      31   28   7.527273          True\n",
       "15      54   29   1.060606          True\n",
       "16       9   29  -1.024242          True\n",
       "17      34   30   1.145455          True\n",
       "18      35   30   3.557576          True\n",
       "19      39   31   5.539394          True\n",
       "20      30   31   4.351515          True\n",
       "21       1   31  -0.333333          True\n",
       "22      11   31  -0.715152          True\n",
       "23      46   32   5.381818          True\n",
       "24      55   32   3.909091          True\n",
       "25      12   32  -4.787879          True\n",
       "26      51   33  -0.678788          True\n",
       "27       3   33  -0.272727          True\n",
       "28       4   33   0.472727          True\n",
       "29      38   33   6.115152          True\n",
       "..     ...  ...        ...           ...\n",
       "81      31   33  -9.587879         False\n",
       "82      44   33  -0.096970         False\n",
       "83      26   35   0.678788         False\n",
       "84       6   35  -3.890909         False\n",
       "85      29   35   1.321212         False\n",
       "86       7   36   4.957576         False\n",
       "87      15   36  -3.175758         False\n",
       "88      28   37  -3.921212         False\n",
       "89      22   37   0.824242         False\n",
       "90      46   37   2.054545         False\n",
       "91       3   38   2.915152         False\n",
       "92      17   38   7.412121         False\n",
       "93      30   38   4.212121         False\n",
       "94      51   39  -6.848485         False\n",
       "95      42   41   0.048485         False\n",
       "96      19   41   6.672727         False\n",
       "97      10   42   1.575758         False\n",
       "98      36   42   5.393939         False\n",
       "99      37   43   3.993939         False\n",
       "100     41   43   9.624242         False\n",
       "101     45   44   0.375758         False\n",
       "102      8   46   1.775758         False\n",
       "103     54   46  -2.896970         False\n",
       "104     38   47   1.175758         False\n",
       "105     52   49  10.993939         False\n",
       "106     11   52   6.636364         False\n",
       "107     18   57   1.321212         False\n",
       "108      4   61  -0.993939         False\n",
       "109      2   61  -1.084848         False\n",
       "110     34   68   3.090909         False\n",
       "\n",
       "[111 rows x 4 columns]"
      ]
     },
     "execution_count": 113,
     "metadata": {},
     "output_type": "execute_result"
    }
   ],
   "source": [
    "fb_and_no_fb.astype({\"age\":int})"
   ]
  },
  {
   "cell_type": "code",
   "execution_count": 75,
   "metadata": {
    "collapsed": false
   },
   "outputs": [
    {
     "data": {
      "text/plain": [
       "<seaborn.axisgrid.FacetGrid at 0x2807738c470>"
      ]
     },
     "execution_count": 75,
     "metadata": {},
     "output_type": "execute_result"
    },
    {
     "data": {
      "image/png": "[encoded data removed]",
      "text/plain": [
       "<matplotlib.figure.Figure at 0x280773803c8>"
      ]
     },
     "metadata": {},
     "output_type": "display_data"
    }
   ],
   "source": [
    "sns.lmplot(x='age', y='score', hue='with_feedback', data=age_score)"
   ]
  },
  {
   "cell_type": "code",
   "execution_count": 125,
   "metadata": {
    "collapsed": false
   },
   "outputs": [
    {
     "data": {
      "text/plain": [
       "<seaborn.axisgrid.FacetGrid at 0x2807bf3ae10>"
      ]
     },
     "execution_count": 125,
     "metadata": {},
     "output_type": "execute_result"
    },
    {
     "data": {
      "image/png": "[encoded data removed]",
      "text/plain": [
       "<matplotlib.figure.Figure at 0x2807bf3ad30>"
      ]
     },
     "metadata": {},
     "output_type": "display_data"
    }
   ],
   "source": [
    "#age_slopes.plot('age', 'slope', kind='scatter')\n",
    "g = sns.factorplot(x='age', y='slope',hue='with_feedback', data=fb_and_no_fb, size=8)\n",
    "g.set_xticklabels(rotation=70)"
   ]
  },
  {
   "cell_type": "code",
   "execution_count": 171,
   "metadata": {
    "collapsed": false
   },
   "outputs": [
    {
     "data": {
      "text/html": [
       "<div>\n",
       "<style scoped>\n",
       "    .dataframe tbody tr th:only-of-type {\n",
       "        vertical-align: middle;\n",
       "    }\n",
       "\n",
       "    .dataframe tbody tr th {\n",
       "        vertical-align: top;\n",
       "    }\n",
       "\n",
       "    .dataframe thead th {\n",
       "        text-align: right;\n",
       "    }\n",
       "</style>\n",
       "<table border=\"1\" class=\"dataframe\">\n",
       "  <thead>\n",
       "    <tr style=\"text-align: right;\">\n",
       "      <th></th>\n",
       "      <th>index</th>\n",
       "      <th>age</th>\n",
       "      <th>slope</th>\n",
       "      <th>with_feedback</th>\n",
       "    </tr>\n",
       "  </thead>\n",
       "  <tbody>\n",
       "    <tr>\n",
       "      <th>0</th>\n",
       "      <td>53</td>\n",
       "      <td>21.0</td>\n",
       "      <td>-1.509091</td>\n",
       "      <td>False</td>\n",
       "    </tr>\n",
       "    <tr>\n",
       "      <th>1</th>\n",
       "      <td>1</td>\n",
       "      <td>23.0</td>\n",
       "      <td>6.242424</td>\n",
       "      <td>False</td>\n",
       "    </tr>\n",
       "    <tr>\n",
       "      <th>2</th>\n",
       "      <td>32</td>\n",
       "      <td>23.0</td>\n",
       "      <td>1.709091</td>\n",
       "      <td>False</td>\n",
       "    </tr>\n",
       "    <tr>\n",
       "      <th>3</th>\n",
       "      <td>9</td>\n",
       "      <td>23.0</td>\n",
       "      <td>0.515152</td>\n",
       "      <td>False</td>\n",
       "    </tr>\n",
       "    <tr>\n",
       "      <th>4</th>\n",
       "      <td>27</td>\n",
       "      <td>24.0</td>\n",
       "      <td>-0.800000</td>\n",
       "      <td>False</td>\n",
       "    </tr>\n",
       "  </tbody>\n",
       "</table>\n",
       "</div>"
      ],
      "text/plain": [
       "   index   age     slope  with_feedback\n",
       "0     53  21.0 -1.509091          False\n",
       "1      1  23.0  6.242424          False\n",
       "2     32  23.0  1.709091          False\n",
       "3      9  23.0  0.515152          False\n",
       "4     27  24.0 -0.800000          False"
      ]
     },
     "execution_count": 171,
     "metadata": {},
     "output_type": "execute_result"
    }
   ],
   "source": [
    "np.unique(np.sort(np.concatenate((age,age2))))\n",
    "np.arange(20, 70)\n",
    "age_slopes2.head()"
   ]
  },
  {
   "cell_type": "code",
   "execution_count": 180,
   "metadata": {
    "collapsed": false
   },
   "outputs": [
    {
     "data": {
      "text/plain": [
       "[15, 70, -15, 15]"
      ]
     },
     "execution_count": 180,
     "metadata": {},
     "output_type": "execute_result"
    },
    {
     "data": {
      "image/png": "[encoded data removed]",
      "text/plain": [
       "<matplotlib.figure.Figure at 0x2807da2b2b0>"
      ]
     },
     "metadata": {},
     "output_type": "display_data"
    }
   ],
   "source": [
    "fig = plt.figure(figsize=(10, 8))\n",
    "plt.plot(age_slopes['age'], age_slopes['slope'], marker='o', label='With Feedback')\n",
    "plt.plot(age_slopes2['age'], age_slopes2['slope'], marker='o', label='Without Feedback')\n",
    "plt.legend()\n",
    "plt.xlabel('age')\n",
    "plt.ylabel('Slope of Learning Curve')\n",
    "plt.axis([15, 70, -15, 15])"
   ]
  },
  {
   "cell_type": "code",
   "execution_count": 35,
   "metadata": {
    "collapsed": true
   },
   "outputs": [
    {
     "name": "stdout",
     "output_type": "stream",
     "text": [
      "Pearson:  (0.19009946801210492, 0.16052067763065234)\n",
      "SpearmanrResult(correlation=0.28534788065632088, pvalue=0.033029419612700547)\n"
     ]
    }
   ],
   "source": [
    "print('Pearson: ', stats.pearsonr(age_slopes['age'], age_slopes['slope']))\n",
    "print(stats.spearmanr(age_slopes['age'], age_slopes['slope']))"
   ]
  },
  {
   "cell_type": "code",
   "execution_count": 36,
   "metadata": {
    "collapsed": true
   },
   "outputs": [],
   "source": [
    "age = np.zeros(55)\n",
    "slopes = np.zeros(55)\n",
    "\n",
    "for i in np.arange(55):\n",
    "    x = np.arange(10)\n",
    "    y = no_fb.iloc[i*10:(i+1)*10, 1]\n",
    "    age[i] = no_fb.iloc[i*10, 3]\n",
    "    slope, intercept, r_value, p_value, std_err = stats.linregress(x,y)\n",
    "    slopes[i] = slope"
   ]
  },
  {
   "cell_type": "code",
   "execution_count": 37,
   "metadata": {
    "collapsed": true
   },
   "outputs": [],
   "source": [
    "age_slopes_no_fb = pd.DataFrame()\n",
    "age_slopes_no_fb['age'] = age\n",
    "age_slopes_no_fb['slope'] = slopes\n",
    "age_slopes_no_fb['with_feedback'] = False"
   ]
  },
  {
   "cell_type": "code",
   "execution_count": 38,
   "metadata": {
    "collapsed": true
   },
   "outputs": [],
   "source": [
    "age_slopes_no_fb = age_slopes_no_fb.sort_values('age')"
   ]
  },
  {
   "cell_type": "code",
   "execution_count": 39,
   "metadata": {
    "collapsed": false
   },
   "outputs": [
    {
     "data": {
      "text/plain": [
       "<matplotlib.axes._subplots.AxesSubplot at 0x2ae488e6780>"
      ]
     },
     "execution_count": 39,
     "metadata": {},
     "output_type": "execute_result"
    },
    {
     "data": {
      "image/png": "[encoded data removed]",
      "text/plain": [
       "<matplotlib.figure.Figure at 0x2ae488a2630>"
      ]
     },
     "metadata": {},
     "output_type": "display_data"
    }
   ],
   "source": [
    "age_slopes_no_fb.plot('age', 'slope', kind='scatter')\n"
   ]
  },
  {
   "cell_type": "code",
   "execution_count": 40,
   "metadata": {
    "collapsed": false
   },
   "outputs": [
    {
     "name": "stdout",
     "output_type": "stream",
     "text": [
      "Pearson:  (0.2389507243350727, 0.078925918638530657)\n",
      "SpearmanrResult(correlation=0.26889829200728776, pvalue=0.047130314237252662)\n"
     ]
    }
   ],
   "source": [
    "print('Pearson: ', stats.pearsonr(age_slopes_no_fb['age'], age_slopes_no_fb['slope']))\n",
    "print(stats.spearmanr(age_slopes_no_fb['age'], age_slopes_no_fb['slope']))"
   ]
  },
  {
   "cell_type": "code",
   "execution_count": 41,
   "metadata": {
    "collapsed": false
   },
   "outputs": [
    {
     "data": {
      "text/html": [
       "<table class=\"simpletable\">\n",
       "<caption>OLS Regression Results</caption>\n",
       "<tr>\n",
       "  <th>Dep. Variable:</th>          <td>score</td>      <th>  R-squared:         </th> <td>   0.073</td> \n",
       "</tr>\n",
       "<tr>\n",
       "  <th>Model:</th>                   <td>OLS</td>       <th>  Adj. R-squared:    </th> <td>   0.067</td> \n",
       "</tr>\n",
       "<tr>\n",
       "  <th>Method:</th>             <td>Least Squares</td>  <th>  F-statistic:       </th> <td>   12.34</td> \n",
       "</tr>\n",
       "<tr>\n",
       "  <th>Date:</th>             <td>Tue, 24 Apr 2018</td> <th>  Prob (F-statistic):</th> <td>2.88e-15</td> \n",
       "</tr>\n",
       "<tr>\n",
       "  <th>Time:</th>                 <td>14:27:18</td>     <th>  Log-Likelihood:    </th> <td> -5362.2</td> \n",
       "</tr>\n",
       "<tr>\n",
       "  <th>No. Observations:</th>      <td>  1110</td>      <th>  AIC:               </th> <td>1.074e+04</td>\n",
       "</tr>\n",
       "<tr>\n",
       "  <th>Df Residuals:</th>          <td>  1102</td>      <th>  BIC:               </th> <td>1.078e+04</td>\n",
       "</tr>\n",
       "<tr>\n",
       "  <th>Df Model:</th>              <td>     7</td>      <th>                     </th>     <td> </td>    \n",
       "</tr>\n",
       "<tr>\n",
       "  <th>Covariance Type:</th>      <td>nonrobust</td>    <th>                     </th>     <td> </td>    \n",
       "</tr>\n",
       "</table>\n",
       "<table class=\"simpletable\">\n",
       "<tr>\n",
       "                    <td></td>                       <th>coef</th>     <th>std err</th>      <th>t</th>      <th>P>|t|</th>  <th>[0.025</th>    <th>0.975]</th>  \n",
       "</tr>\n",
       "<tr>\n",
       "  <th>Intercept</th>                             <td>   42.6317</td> <td>    8.495</td> <td>    5.018</td> <td> 0.000</td> <td>   25.963</td> <td>   59.300</td>\n",
       "</tr>\n",
       "<tr>\n",
       "  <th>with_feedback[T.True]</th>                 <td>   -0.4487</td> <td>   12.540</td> <td>   -0.036</td> <td> 0.971</td> <td>  -25.054</td> <td>   24.157</td>\n",
       "</tr>\n",
       "<tr>\n",
       "  <th>trial_index</th>                           <td>   -2.5886</td> <td>    1.591</td> <td>   -1.627</td> <td> 0.104</td> <td>   -5.711</td> <td>    0.534</td>\n",
       "</tr>\n",
       "<tr>\n",
       "  <th>trial_index:with_feedback[T.True]</th>     <td>    1.7711</td> <td>    2.349</td> <td>    0.754</td> <td> 0.451</td> <td>   -2.838</td> <td>    6.380</td>\n",
       "</tr>\n",
       "<tr>\n",
       "  <th>age</th>                                   <td>   -0.8321</td> <td>    0.229</td> <td>   -3.637</td> <td> 0.000</td> <td>   -1.281</td> <td>   -0.383</td>\n",
       "</tr>\n",
       "<tr>\n",
       "  <th>with_feedback[T.True]:age</th>             <td>    0.2338</td> <td>    0.346</td> <td>    0.675</td> <td> 0.500</td> <td>   -0.446</td> <td>    0.913</td>\n",
       "</tr>\n",
       "<tr>\n",
       "  <th>trial_index:age</th>                       <td>    0.0938</td> <td>    0.043</td> <td>    2.189</td> <td> 0.029</td> <td>    0.010</td> <td>    0.178</td>\n",
       "</tr>\n",
       "<tr>\n",
       "  <th>trial_index:with_feedback[T.True]:age</th> <td>   -0.0220</td> <td>    0.065</td> <td>   -0.339</td> <td> 0.734</td> <td>   -0.149</td> <td>    0.105</td>\n",
       "</tr>\n",
       "</table>\n",
       "<table class=\"simpletable\">\n",
       "<tr>\n",
       "  <th>Omnibus:</th>       <td>158.237</td> <th>  Durbin-Watson:     </th> <td>   1.611</td>\n",
       "</tr>\n",
       "<tr>\n",
       "  <th>Prob(Omnibus):</th> <td> 0.000</td>  <th>  Jarque-Bera (JB):  </th> <td> 227.520</td>\n",
       "</tr>\n",
       "<tr>\n",
       "  <th>Skew:</th>          <td>-1.083</td>  <th>  Prob(JB):          </th> <td>3.93e-50</td>\n",
       "</tr>\n",
       "<tr>\n",
       "  <th>Kurtosis:</th>      <td> 3.474</td>  <th>  Cond. No.          </th> <td>3.48e+03</td>\n",
       "</tr>\n",
       "</table>"
      ],
      "text/plain": [
       "<class 'statsmodels.iolib.summary.Summary'>\n",
       "\"\"\"\n",
       "                            OLS Regression Results                            \n",
       "==============================================================================\n",
       "Dep. Variable:                  score   R-squared:                       0.073\n",
       "Model:                            OLS   Adj. R-squared:                  0.067\n",
       "Method:                 Least Squares   F-statistic:                     12.34\n",
       "Date:                Tue, 24 Apr 2018   Prob (F-statistic):           2.88e-15\n",
       "Time:                        14:27:18   Log-Likelihood:                -5362.2\n",
       "No. Observations:                1110   AIC:                         1.074e+04\n",
       "Df Residuals:                    1102   BIC:                         1.078e+04\n",
       "Df Model:                           7                                         \n",
       "Covariance Type:            nonrobust                                         \n",
       "=========================================================================================================\n",
       "                                            coef    std err          t      P>|t|      [0.025      0.975]\n",
       "---------------------------------------------------------------------------------------------------------\n",
       "Intercept                                42.6317      8.495      5.018      0.000      25.963      59.300\n",
       "with_feedback[T.True]                    -0.4487     12.540     -0.036      0.971     -25.054      24.157\n",
       "trial_index                              -2.5886      1.591     -1.627      0.104      -5.711       0.534\n",
       "trial_index:with_feedback[T.True]         1.7711      2.349      0.754      0.451      -2.838       6.380\n",
       "age                                      -0.8321      0.229     -3.637      0.000      -1.281      -0.383\n",
       "with_feedback[T.True]:age                 0.2338      0.346      0.675      0.500      -0.446       0.913\n",
       "trial_index:age                           0.0938      0.043      2.189      0.029       0.010       0.178\n",
       "trial_index:with_feedback[T.True]:age    -0.0220      0.065     -0.339      0.734      -0.149       0.105\n",
       "==============================================================================\n",
       "Omnibus:                      158.237   Durbin-Watson:                   1.611\n",
       "Prob(Omnibus):                  0.000   Jarque-Bera (JB):              227.520\n",
       "Skew:                          -1.083   Prob(JB):                     3.93e-50\n",
       "Kurtosis:                       3.474   Cond. No.                     3.48e+03\n",
       "==============================================================================\n",
       "\n",
       "Warnings:\n",
       "[1] Standard Errors assume that the covariance matrix of the errors is correctly specified.\n",
       "[2] The condition number is large, 3.48e+03. This might indicate that there are\n",
       "strong multicollinearity or other numerical problems.\n",
       "\"\"\""
      ]
     },
     "execution_count": 41,
     "metadata": {},
     "output_type": "execute_result"
    }
   ],
   "source": [
    "import statsmodels.formula.api as smf\n",
    "\n",
    "model = smf.ols('score ~ trial_index * with_feedback * age', data=learning).fit()\n",
    "model.summary()"
   ]
  },
  {
   "cell_type": "code",
   "execution_count": 42,
   "metadata": {
    "collapsed": false
   },
   "outputs": [
    {
     "name": "stderr",
     "output_type": "stream",
     "text": [
      "C:\\Users\\piichan\\Anaconda3\\lib\\site-packages\\statsmodels\\compat\\pandas.py:56: FutureWarning: The pandas.core.datetools module is deprecated and will be removed in a future version. Please use the pandas.tseries module instead.\n",
      "  from pandas.core import datetools\n",
      "C:\\Users\\piichan\\Anaconda3\\lib\\site-packages\\scipy\\stats\\_distn_infrastructure.py:879: RuntimeWarning: invalid value encountered in greater\n",
      "  return (self.a < x) & (x < self.b)\n",
      "C:\\Users\\piichan\\Anaconda3\\lib\\site-packages\\scipy\\stats\\_distn_infrastructure.py:879: RuntimeWarning: invalid value encountered in less\n",
      "  return (self.a < x) & (x < self.b)\n",
      "C:\\Users\\piichan\\Anaconda3\\lib\\site-packages\\scipy\\stats\\_distn_infrastructure.py:1821: RuntimeWarning: invalid value encountered in less_equal\n",
      "  cond2 = cond0 & (x <= self.a)\n"
     ]
    }
   ],
   "source": [
    "import statsmodels.api as sm\n",
    "aov_table = sm.stats.anova_lm(model)"
   ]
  },
  {
   "cell_type": "code",
   "execution_count": 43,
   "metadata": {
    "collapsed": false
   },
   "outputs": [
    {
     "name": "stdout",
     "output_type": "stream",
     "text": [
      "                                   df        sum_sq       mean_sq          F  \\\n",
      "with_feedback                     1.0  4.464229e+04  44642.286446  48.204072   \n",
      "trial_index                       1.0  1.321201e+04  13212.012039  14.266133   \n",
      "trial_index:with_feedback         1.0  1.820972e+03   1820.972223   1.966259   \n",
      "age                               1.0  1.336658e+04  13366.579434  14.433032   \n",
      "with_feedback:age                 1.0  4.841451e+02    484.145108   0.522773   \n",
      "trial_index:age                   1.0  6.343972e+03   6343.971733   6.850126   \n",
      "trial_index:with_feedback:age     1.0  1.065987e+02    106.598686   0.115104   \n",
      "Residual                       1102.0  1.020574e+06    926.110277        NaN   \n",
      "\n",
      "                                     PR(>F)  \n",
      "with_feedback                  6.548089e-12  \n",
      "trial_index                    1.671759e-04  \n",
      "trial_index:with_feedback      1.611272e-01  \n",
      "age                            1.531697e-04  \n",
      "with_feedback:age              4.698148e-01  \n",
      "trial_index:age                8.984895e-03  \n",
      "trial_index:with_feedback:age  7.344715e-01  \n",
      "Residual                                NaN  \n"
     ]
    }
   ],
   "source": [
    "print(aov_table)"
   ]
  },
  {
   "cell_type": "code",
   "execution_count": 44,
   "metadata": {
    "collapsed": true
   },
   "outputs": [],
   "source": [
    "learning = learning.merge(age_score.reset_index()[['index','pretest']], how='left', left_on='pid', right_on='index')"
   ]
  },
  {
   "cell_type": "code",
   "execution_count": 45,
   "metadata": {
    "collapsed": false
   },
   "outputs": [
    {
     "data": {
      "text/html": [
       "<table class=\"simpletable\">\n",
       "<caption>OLS Regression Results</caption>\n",
       "<tr>\n",
       "  <th>Dep. Variable:</th>          <td>score</td>      <th>  R-squared:         </th> <td>   0.080</td> \n",
       "</tr>\n",
       "<tr>\n",
       "  <th>Model:</th>                   <td>OLS</td>       <th>  Adj. R-squared:    </th> <td>   0.067</td> \n",
       "</tr>\n",
       "<tr>\n",
       "  <th>Method:</th>             <td>Least Squares</td>  <th>  F-statistic:       </th> <td>   6.330</td> \n",
       "</tr>\n",
       "<tr>\n",
       "  <th>Date:</th>             <td>Tue, 24 Apr 2018</td> <th>  Prob (F-statistic):</th> <td>5.01e-13</td> \n",
       "</tr>\n",
       "<tr>\n",
       "  <th>Time:</th>                 <td>14:27:22</td>     <th>  Log-Likelihood:    </th> <td> -5357.9</td> \n",
       "</tr>\n",
       "<tr>\n",
       "  <th>No. Observations:</th>      <td>  1110</td>      <th>  AIC:               </th> <td>1.075e+04</td>\n",
       "</tr>\n",
       "<tr>\n",
       "  <th>Df Residuals:</th>          <td>  1094</td>      <th>  BIC:               </th> <td>1.083e+04</td>\n",
       "</tr>\n",
       "<tr>\n",
       "  <th>Df Model:</th>              <td>    15</td>      <th>                     </th>     <td> </td>    \n",
       "</tr>\n",
       "<tr>\n",
       "  <th>Covariance Type:</th>      <td>nonrobust</td>    <th>                     </th>     <td> </td>    \n",
       "</tr>\n",
       "</table>\n",
       "<table class=\"simpletable\">\n",
       "<tr>\n",
       "                        <td></td>                           <th>coef</th>     <th>std err</th>      <th>t</th>      <th>P>|t|</th>  <th>[0.025</th>    <th>0.975]</th>  \n",
       "</tr>\n",
       "<tr>\n",
       "  <th>Intercept</th>                                     <td>   43.5929</td> <td>    9.451</td> <td>    4.612</td> <td> 0.000</td> <td>   25.048</td> <td>   62.138</td>\n",
       "</tr>\n",
       "<tr>\n",
       "  <th>with_feedback[T.True]</th>                         <td>   -5.9330</td> <td>   13.700</td> <td>   -0.433</td> <td> 0.665</td> <td>  -32.814</td> <td>   20.948</td>\n",
       "</tr>\n",
       "<tr>\n",
       "  <th>trial_index</th>                                   <td>   -3.6208</td> <td>    1.770</td> <td>   -2.045</td> <td> 0.041</td> <td>   -7.095</td> <td>   -0.147</td>\n",
       "</tr>\n",
       "<tr>\n",
       "  <th>trial_index:with_feedback[T.True]</th>             <td>    3.5874</td> <td>    2.566</td> <td>    1.398</td> <td> 0.162</td> <td>   -1.448</td> <td>    8.623</td>\n",
       "</tr>\n",
       "<tr>\n",
       "  <th>age</th>                                           <td>   -0.8455</td> <td>    0.249</td> <td>   -3.398</td> <td> 0.001</td> <td>   -1.334</td> <td>   -0.357</td>\n",
       "</tr>\n",
       "<tr>\n",
       "  <th>with_feedback[T.True]:age</th>                     <td>    0.3513</td> <td>    0.369</td> <td>    0.953</td> <td> 0.341</td> <td>   -0.372</td> <td>    1.075</td>\n",
       "</tr>\n",
       "<tr>\n",
       "  <th>trial_index:age</th>                               <td>    0.1153</td> <td>    0.047</td> <td>    2.474</td> <td> 0.014</td> <td>    0.024</td> <td>    0.207</td>\n",
       "</tr>\n",
       "<tr>\n",
       "  <th>trial_index:with_feedback[T.True]:age</th>         <td>   -0.0605</td> <td>    0.069</td> <td>   -0.877</td> <td> 0.381</td> <td>   -0.196</td> <td>    0.075</td>\n",
       "</tr>\n",
       "<tr>\n",
       "  <th>pretest</th>                                       <td>   -0.0389</td> <td>    0.264</td> <td>   -0.147</td> <td> 0.883</td> <td>   -0.557</td> <td>    0.479</td>\n",
       "</tr>\n",
       "<tr>\n",
       "  <th>with_feedback[T.True]:pretest</th>                 <td>    0.1272</td> <td>    0.364</td> <td>    0.349</td> <td> 0.727</td> <td>   -0.587</td> <td>    0.841</td>\n",
       "</tr>\n",
       "<tr>\n",
       "  <th>trial_index:pretest</th>                           <td>    0.0589</td> <td>    0.049</td> <td>    1.190</td> <td> 0.234</td> <td>   -0.038</td> <td>    0.156</td>\n",
       "</tr>\n",
       "<tr>\n",
       "  <th>trial_index:with_feedback[T.True]:pretest</th>     <td>   -0.0979</td> <td>    0.068</td> <td>   -1.437</td> <td> 0.151</td> <td>   -0.232</td> <td>    0.036</td>\n",
       "</tr>\n",
       "<tr>\n",
       "  <th>age:pretest</th>                                   <td>-5.914e-05</td> <td>    0.007</td> <td>   -0.009</td> <td> 0.993</td> <td>   -0.013</td> <td>    0.013</td>\n",
       "</tr>\n",
       "<tr>\n",
       "  <th>with_feedback[T.True]:age:pretest</th>             <td>    0.0003</td> <td>    0.010</td> <td>    0.036</td> <td> 0.972</td> <td>   -0.019</td> <td>    0.020</td>\n",
       "</tr>\n",
       "<tr>\n",
       "  <th>trial_index:age:pretest</th>                       <td>   -0.0011</td> <td>    0.001</td> <td>   -0.880</td> <td> 0.379</td> <td>   -0.004</td> <td>    0.001</td>\n",
       "</tr>\n",
       "<tr>\n",
       "  <th>trial_index:with_feedback[T.True]:age:pretest</th> <td>    0.0019</td> <td>    0.002</td> <td>    1.027</td> <td> 0.305</td> <td>   -0.002</td> <td>    0.005</td>\n",
       "</tr>\n",
       "</table>\n",
       "<table class=\"simpletable\">\n",
       "<tr>\n",
       "  <th>Omnibus:</th>       <td>159.098</td> <th>  Durbin-Watson:     </th> <td>   1.630</td>\n",
       "</tr>\n",
       "<tr>\n",
       "  <th>Prob(Omnibus):</th> <td> 0.000</td>  <th>  Jarque-Bera (JB):  </th> <td> 229.001</td>\n",
       "</tr>\n",
       "<tr>\n",
       "  <th>Skew:</th>          <td>-1.083</td>  <th>  Prob(JB):          </th> <td>1.88e-50</td>\n",
       "</tr>\n",
       "<tr>\n",
       "  <th>Kurtosis:</th>      <td> 3.514</td>  <th>  Cond. No.          </th> <td>1.39e+05</td>\n",
       "</tr>\n",
       "</table>"
      ],
      "text/plain": [
       "<class 'statsmodels.iolib.summary.Summary'>\n",
       "\"\"\"\n",
       "                            OLS Regression Results                            \n",
       "==============================================================================\n",
       "Dep. Variable:                  score   R-squared:                       0.080\n",
       "Model:                            OLS   Adj. R-squared:                  0.067\n",
       "Method:                 Least Squares   F-statistic:                     6.330\n",
       "Date:                Tue, 24 Apr 2018   Prob (F-statistic):           5.01e-13\n",
       "Time:                        14:27:22   Log-Likelihood:                -5357.9\n",
       "No. Observations:                1110   AIC:                         1.075e+04\n",
       "Df Residuals:                    1094   BIC:                         1.083e+04\n",
       "Df Model:                          15                                         \n",
       "Covariance Type:            nonrobust                                         \n",
       "=================================================================================================================\n",
       "                                                    coef    std err          t      P>|t|      [0.025      0.975]\n",
       "-----------------------------------------------------------------------------------------------------------------\n",
       "Intercept                                        43.5929      9.451      4.612      0.000      25.048      62.138\n",
       "with_feedback[T.True]                            -5.9330     13.700     -0.433      0.665     -32.814      20.948\n",
       "trial_index                                      -3.6208      1.770     -2.045      0.041      -7.095      -0.147\n",
       "trial_index:with_feedback[T.True]                 3.5874      2.566      1.398      0.162      -1.448       8.623\n",
       "age                                              -0.8455      0.249     -3.398      0.001      -1.334      -0.357\n",
       "with_feedback[T.True]:age                         0.3513      0.369      0.953      0.341      -0.372       1.075\n",
       "trial_index:age                                   0.1153      0.047      2.474      0.014       0.024       0.207\n",
       "trial_index:with_feedback[T.True]:age            -0.0605      0.069     -0.877      0.381      -0.196       0.075\n",
       "pretest                                          -0.0389      0.264     -0.147      0.883      -0.557       0.479\n",
       "with_feedback[T.True]:pretest                     0.1272      0.364      0.349      0.727      -0.587       0.841\n",
       "trial_index:pretest                               0.0589      0.049      1.190      0.234      -0.038       0.156\n",
       "trial_index:with_feedback[T.True]:pretest        -0.0979      0.068     -1.437      0.151      -0.232       0.036\n",
       "age:pretest                                   -5.914e-05      0.007     -0.009      0.993      -0.013       0.013\n",
       "with_feedback[T.True]:age:pretest                 0.0003      0.010      0.036      0.972      -0.019       0.020\n",
       "trial_index:age:pretest                          -0.0011      0.001     -0.880      0.379      -0.004       0.001\n",
       "trial_index:with_feedback[T.True]:age:pretest     0.0019      0.002      1.027      0.305      -0.002       0.005\n",
       "==============================================================================\n",
       "Omnibus:                      159.098   Durbin-Watson:                   1.630\n",
       "Prob(Omnibus):                  0.000   Jarque-Bera (JB):              229.001\n",
       "Skew:                          -1.083   Prob(JB):                     1.88e-50\n",
       "Kurtosis:                       3.514   Cond. No.                     1.39e+05\n",
       "==============================================================================\n",
       "\n",
       "Warnings:\n",
       "[1] Standard Errors assume that the covariance matrix of the errors is correctly specified.\n",
       "[2] The condition number is large, 1.39e+05. This might indicate that there are\n",
       "strong multicollinearity or other numerical problems.\n",
       "\"\"\""
      ]
     },
     "execution_count": 45,
     "metadata": {},
     "output_type": "execute_result"
    }
   ],
   "source": [
    "import statsmodels.formula.api as smf\n",
    "\n",
    "model = smf.ols('score ~ trial_index * with_feedback * age * pretest', data=learning).fit()\n",
    "model.summary()"
   ]
  },
  {
   "cell_type": "code",
   "execution_count": 46,
   "metadata": {
    "collapsed": false
   },
   "outputs": [
    {
     "name": "stdout",
     "output_type": "stream",
     "text": [
      "                                           df        sum_sq       mean_sq  \\\n",
      "with_feedback                             1.0  4.464229e+04  44642.286446   \n",
      "trial_index                               1.0  1.321201e+04  13212.012039   \n",
      "trial_index:with_feedback                 1.0  1.820972e+03   1820.972223   \n",
      "age                                       1.0  1.336658e+04  13366.579434   \n",
      "with_feedback:age                         1.0  4.841451e+02    484.145108   \n",
      "trial_index:age                           1.0  6.343972e+03   6343.971733   \n",
      "trial_index:with_feedback:age             1.0  1.065987e+02    106.598686   \n",
      "pretest                                   1.0  1.779011e+03   1779.010991   \n",
      "with_feedback:pretest                     1.0  5.244868e+00      5.244868   \n",
      "trial_index:pretest                       1.0  3.145176e+01     31.451761   \n",
      "trial_index:with_feedback:pretest         1.0  2.383361e+03   2383.361001   \n",
      "age:pretest                               1.0  9.198570e+01     91.985702   \n",
      "with_feedback:age:pretest                 1.0  2.598178e+03   2598.178479   \n",
      "trial_index:age:pretest                   1.0  4.812953e+01     48.129525   \n",
      "trial_index:with_feedback:age:pretest     1.0  9.764289e+02    976.428916   \n",
      "Residual                               1094.0  1.012660e+06    925.648751   \n",
      "\n",
      "                                               F        PR(>F)  \n",
      "with_feedback                          48.228106  6.496253e-12  \n",
      "trial_index                            14.273246  1.666164e-04  \n",
      "trial_index:with_feedback               1.967239  1.610249e-01  \n",
      "age                                    14.440228  1.526521e-04  \n",
      "with_feedback:age                       0.523033  4.697052e-01  \n",
      "trial_index:age                         6.853541  8.968733e-03  \n",
      "trial_index:with_feedback:age           0.115161  7.344083e-01  \n",
      "pretest                                 1.921907  1.659290e-01  \n",
      "with_feedback:pretest                   0.005666  9.400106e-01  \n",
      "trial_index:pretest                     0.033978  8.537876e-01  \n",
      "trial_index:with_feedback:pretest       2.574801  1.088664e-01  \n",
      "age:pretest                             0.099374  7.526419e-01  \n",
      "with_feedback:age:pretest               2.806873  9.414694e-02  \n",
      "trial_index:age:pretest                 0.051995  8.196693e-01  \n",
      "trial_index:with_feedback:age:pretest   1.054859  3.046177e-01  \n",
      "Residual                                     NaN           NaN  \n"
     ]
    },
    {
     "name": "stderr",
     "output_type": "stream",
     "text": [
      "C:\\Users\\piichan\\Anaconda3\\lib\\site-packages\\scipy\\stats\\_distn_infrastructure.py:879: RuntimeWarning: invalid value encountered in greater\n",
      "  return (self.a < x) & (x < self.b)\n",
      "C:\\Users\\piichan\\Anaconda3\\lib\\site-packages\\scipy\\stats\\_distn_infrastructure.py:879: RuntimeWarning: invalid value encountered in less\n",
      "  return (self.a < x) & (x < self.b)\n",
      "C:\\Users\\piichan\\Anaconda3\\lib\\site-packages\\scipy\\stats\\_distn_infrastructure.py:1821: RuntimeWarning: invalid value encountered in less_equal\n",
      "  cond2 = cond0 & (x <= self.a)\n"
     ]
    }
   ],
   "source": [
    "aov_table = sm.stats.anova_lm(model)\n",
    "print(aov_table)"
   ]
  },
  {
   "cell_type": "code",
   "execution_count": 47,
   "metadata": {
    "collapsed": false
   },
   "outputs": [
    {
     "name": "stdout",
     "output_type": "stream",
     "text": [
      "SpearmanrResult(correlation=-0.21697614049389299, pvalue=0.022170719048598079)\n"
     ]
    },
    {
     "data": {
      "image/png": "[encoded data removed]",
      "text/plain": [
       "<matplotlib.figure.Figure at 0x2ae4b8e1588>"
      ]
     },
     "metadata": {},
     "output_type": "display_data"
    }
   ],
   "source": [
    "plt.figure(figsize=(10,8))\n",
    "plt.scatter(age_score['age'], age_score['pretest'])\n",
    "print(stats.spearmanr(age_score['age'], age_score['pretest']))"
   ]
  },
  {
   "cell_type": "code",
   "execution_count": 155,
   "metadata": {
    "collapsed": false
   },
   "outputs": [
    {
     "data": {
      "text/plain": [
       "12"
      ]
     },
     "execution_count": 155,
     "metadata": {},
     "output_type": "execute_result"
    }
   ],
   "source": [
    "p_ages = np.sort(np.concatenate((age, age2)))\n",
    "len(p_ages[(p_ages>47)])"
   ]
  },
  {
   "cell_type": "code",
   "execution_count": 157,
   "metadata": {
    "collapsed": false
   },
   "outputs": [
    {
     "data": {
      "text/plain": [
       "12"
      ]
     },
     "execution_count": 157,
     "metadata": {},
     "output_type": "execute_result"
    }
   ],
   "source": [
    "len(p_ages[p_ages<25])"
   ]
  },
  {
   "cell_type": "code",
   "execution_count": 50,
   "metadata": {
    "collapsed": false
   },
   "outputs": [
    {
     "data": {
      "text/plain": [
       "'C:\\\\Users\\\\piichan\\\\Documents\\\\Berkeley\\\\CoCoSci Lab\\\\mcrl\\\\mcrl\\\\backward_planning\\\\experiment1\\\\data\\\\human\\\\1A.5'"
      ]
     },
     "execution_count": 50,
     "metadata": {},
     "output_type": "execute_result"
    }
   ],
   "source": [
    "pwd"
   ]
  },
  {
   "cell_type": "code",
   "execution_count": 51,
   "metadata": {
    "collapsed": false
   },
   "outputs": [
    {
     "name": "stdout",
     "output_type": "stream",
     "text": [
      "C:\\Users\\piichan\\Documents\\Berkeley\\CoCoSci Lab\\mcrl\\mcrl\\backward_planning\\age_planning\\data\\human\\A1.0\n"
     ]
    }
   ],
   "source": [
    "cd ../../../../age_planning/data/human/A1.0"
   ]
  },
  {
   "cell_type": "markdown",
   "metadata": {},
   "source": [
    "## A1.0"
   ]
  },
  {
   "cell_type": "code",
   "execution_count": 52,
   "metadata": {
    "collapsed": false
   },
   "outputs": [
    {
     "data": {
      "text/html": [
       "<div>\n",
       "<style scoped>\n",
       "    .dataframe tbody tr th:only-of-type {\n",
       "        vertical-align: middle;\n",
       "    }\n",
       "\n",
       "    .dataframe tbody tr th {\n",
       "        vertical-align: top;\n",
       "    }\n",
       "\n",
       "    .dataframe thead th {\n",
       "        text-align: right;\n",
       "    }\n",
       "</style>\n",
       "<table border=\"1\" class=\"dataframe\">\n",
       "  <thead>\n",
       "    <tr style=\"text-align: right;\">\n",
       "      <th></th>\n",
       "      <th>Unnamed: 0</th>\n",
       "      <th>0</th>\n",
       "      <th>1</th>\n",
       "      <th>2</th>\n",
       "      <th>3</th>\n",
       "      <th>4</th>\n",
       "      <th>5</th>\n",
       "      <th>6</th>\n",
       "      <th>7</th>\n",
       "      <th>8</th>\n",
       "      <th>9</th>\n",
       "      <th>10</th>\n",
       "      <th>11</th>\n",
       "      <th>12</th>\n",
       "    </tr>\n",
       "  </thead>\n",
       "  <tbody>\n",
       "    <tr>\n",
       "      <th>0</th>\n",
       "      <td>0</td>\n",
       "      <td>25</td>\n",
       "      <td>female</td>\n",
       "      <td>full time</td>\n",
       "      <td>USA</td>\n",
       "      <td>1</td>\n",
       "      <td>NaN</td>\n",
       "      <td>NaN</td>\n",
       "      <td>NaN</td>\n",
       "      <td>NaN</td>\n",
       "      <td>NaN</td>\n",
       "      <td>NaN</td>\n",
       "      <td>NaN</td>\n",
       "      <td>NaN</td>\n",
       "    </tr>\n",
       "    <tr>\n",
       "      <th>1</th>\n",
       "      <td>1</td>\n",
       "      <td>30</td>\n",
       "      <td>female</td>\n",
       "      <td>freelance</td>\n",
       "      <td>usa</td>\n",
       "      <td>5</td>\n",
       "      <td>NaN</td>\n",
       "      <td>NaN</td>\n",
       "      <td>NaN</td>\n",
       "      <td>NaN</td>\n",
       "      <td>NaN</td>\n",
       "      <td>NaN</td>\n",
       "      <td>NaN</td>\n",
       "      <td>NaN</td>\n",
       "    </tr>\n",
       "    <tr>\n",
       "      <th>2</th>\n",
       "      <td>2</td>\n",
       "      <td>36</td>\n",
       "      <td>Male</td>\n",
       "      <td>Self-Employed</td>\n",
       "      <td>United States of America</td>\n",
       "      <td>1</td>\n",
       "      <td>NaN</td>\n",
       "      <td>NaN</td>\n",
       "      <td>NaN</td>\n",
       "      <td>NaN</td>\n",
       "      <td>NaN</td>\n",
       "      <td>NaN</td>\n",
       "      <td>NaN</td>\n",
       "      <td>NaN</td>\n",
       "    </tr>\n",
       "    <tr>\n",
       "      <th>3</th>\n",
       "      <td>3</td>\n",
       "      <td>24</td>\n",
       "      <td>female</td>\n",
       "      <td>employed part-time</td>\n",
       "      <td>USA</td>\n",
       "      <td>1</td>\n",
       "      <td>i decided the small nodes didn't have much val...</td>\n",
       "      <td>I realized that the end nodes had the highest ...</td>\n",
       "      <td>One of the outer nodes</td>\n",
       "      <td>I stopped clicking when I found a +48 because ...</td>\n",
       "      <td>No</td>\n",
       "      <td>no</td>\n",
       "      <td>How to create a strategy to earn the most poin...</td>\n",
       "      <td>NaN</td>\n",
       "    </tr>\n",
       "    <tr>\n",
       "      <th>4</th>\n",
       "      <td>4</td>\n",
       "      <td>28</td>\n",
       "      <td>male</td>\n",
       "      <td>self-employed</td>\n",
       "      <td>United States</td>\n",
       "      <td>3</td>\n",
       "      <td>NaN</td>\n",
       "      <td>NaN</td>\n",
       "      <td>NaN</td>\n",
       "      <td>NaN</td>\n",
       "      <td>NaN</td>\n",
       "      <td>NaN</td>\n",
       "      <td>NaN</td>\n",
       "      <td>NaN</td>\n",
       "    </tr>\n",
       "  </tbody>\n",
       "</table>\n",
       "</div>"
      ],
      "text/plain": [
       "   Unnamed: 0   0       1                   2                         3  4  \\\n",
       "0           0  25  female           full time                       USA  1   \n",
       "1           1  30  female           freelance                       usa  5   \n",
       "2           2  36    Male       Self-Employed  United States of America  1   \n",
       "3           3  24  female  employed part-time                       USA  1   \n",
       "4           4  28    male       self-employed             United States  3   \n",
       "\n",
       "                                                   5  \\\n",
       "0                                                NaN   \n",
       "1                                                NaN   \n",
       "2                                                NaN   \n",
       "3  i decided the small nodes didn't have much val...   \n",
       "4                                                NaN   \n",
       "\n",
       "                                                   6                       7  \\\n",
       "0                                                NaN                     NaN   \n",
       "1                                                NaN                     NaN   \n",
       "2                                                NaN                     NaN   \n",
       "3  I realized that the end nodes had the highest ...  One of the outer nodes   \n",
       "4                                                NaN                     NaN   \n",
       "\n",
       "                                                   8    9   10  \\\n",
       "0                                                NaN  NaN  NaN   \n",
       "1                                                NaN  NaN  NaN   \n",
       "2                                                NaN  NaN  NaN   \n",
       "3  I stopped clicking when I found a +48 because ...   No   no   \n",
       "4                                                NaN  NaN  NaN   \n",
       "\n",
       "                                                  11   12  \n",
       "0                                                NaN  NaN  \n",
       "1                                                NaN  NaN  \n",
       "2                                                NaN  NaN  \n",
       "3  How to create a strategy to earn the most poin...  NaN  \n",
       "4                                                NaN  NaN  "
      ]
     },
     "execution_count": 52,
     "metadata": {},
     "output_type": "execute_result"
    }
   ],
   "source": [
    "pretest_survey = pd.read_csv('survey.csv')\n",
    "pretest_survey.head()"
   ]
  },
  {
   "cell_type": "code",
   "execution_count": 53,
   "metadata": {
    "collapsed": false
   },
   "outputs": [
    {
     "data": {
      "text/html": [
       "<div>\n",
       "<style scoped>\n",
       "    .dataframe tbody tr th:only-of-type {\n",
       "        vertical-align: middle;\n",
       "    }\n",
       "\n",
       "    .dataframe tbody tr th {\n",
       "        vertical-align: top;\n",
       "    }\n",
       "\n",
       "    .dataframe thead th {\n",
       "        text-align: right;\n",
       "    }\n",
       "</style>\n",
       "<table border=\"1\" class=\"dataframe\">\n",
       "  <thead>\n",
       "    <tr style=\"text-align: right;\">\n",
       "      <th></th>\n",
       "      <th>Unnamed: 0</th>\n",
       "      <th>0</th>\n",
       "      <th>1</th>\n",
       "      <th>2</th>\n",
       "      <th>3</th>\n",
       "      <th>4</th>\n",
       "      <th>5</th>\n",
       "      <th>6</th>\n",
       "      <th>7</th>\n",
       "      <th>8</th>\n",
       "      <th>9</th>\n",
       "      <th>10</th>\n",
       "      <th>11</th>\n",
       "      <th>12</th>\n",
       "    </tr>\n",
       "  </thead>\n",
       "  <tbody>\n",
       "    <tr>\n",
       "      <th>343</th>\n",
       "      <td>343</td>\n",
       "      <td>30</td>\n",
       "      <td>Female</td>\n",
       "      <td>Part Time</td>\n",
       "      <td>USA</td>\n",
       "      <td>3</td>\n",
       "      <td>NaN</td>\n",
       "      <td>NaN</td>\n",
       "      <td>NaN</td>\n",
       "      <td>NaN</td>\n",
       "      <td>NaN</td>\n",
       "      <td>NaN</td>\n",
       "      <td>NaN</td>\n",
       "      <td>NaN</td>\n",
       "    </tr>\n",
       "    <tr>\n",
       "      <th>344</th>\n",
       "      <td>344</td>\n",
       "      <td>30</td>\n",
       "      <td>male</td>\n",
       "      <td>employed , warehouse manager and sales associate</td>\n",
       "      <td>USA</td>\n",
       "      <td>3</td>\n",
       "      <td>NaN</td>\n",
       "      <td>NaN</td>\n",
       "      <td>NaN</td>\n",
       "      <td>NaN</td>\n",
       "      <td>NaN</td>\n",
       "      <td>NaN</td>\n",
       "      <td>NaN</td>\n",
       "      <td>NaN</td>\n",
       "    </tr>\n",
       "    <tr>\n",
       "      <th>345</th>\n",
       "      <td>345</td>\n",
       "      <td>32</td>\n",
       "      <td>Male</td>\n",
       "      <td>Employed Full-Time</td>\n",
       "      <td>United States of America</td>\n",
       "      <td>1</td>\n",
       "      <td>NaN</td>\n",
       "      <td>NaN</td>\n",
       "      <td>NaN</td>\n",
       "      <td>NaN</td>\n",
       "      <td>NaN</td>\n",
       "      <td>NaN</td>\n",
       "      <td>NaN</td>\n",
       "      <td>NaN</td>\n",
       "    </tr>\n",
       "    <tr>\n",
       "      <th>346</th>\n",
       "      <td>346</td>\n",
       "      <td>39</td>\n",
       "      <td>female</td>\n",
       "      <td>homemaker</td>\n",
       "      <td>United States</td>\n",
       "      <td>6</td>\n",
       "      <td>NaN</td>\n",
       "      <td>NaN</td>\n",
       "      <td>NaN</td>\n",
       "      <td>NaN</td>\n",
       "      <td>NaN</td>\n",
       "      <td>NaN</td>\n",
       "      <td>NaN</td>\n",
       "      <td>NaN</td>\n",
       "    </tr>\n",
       "    <tr>\n",
       "      <th>347</th>\n",
       "      <td>347</td>\n",
       "      <td>25</td>\n",
       "      <td>female</td>\n",
       "      <td>full time</td>\n",
       "      <td>US</td>\n",
       "      <td>2</td>\n",
       "      <td>NaN</td>\n",
       "      <td>NaN</td>\n",
       "      <td>NaN</td>\n",
       "      <td>NaN</td>\n",
       "      <td>NaN</td>\n",
       "      <td>NaN</td>\n",
       "      <td>NaN</td>\n",
       "      <td>NaN</td>\n",
       "    </tr>\n",
       "  </tbody>\n",
       "</table>\n",
       "</div>"
      ],
      "text/plain": [
       "     Unnamed: 0   0       1                                                 2  \\\n",
       "343         343  30  Female                                         Part Time   \n",
       "344         344  30    male  employed , warehouse manager and sales associate   \n",
       "345         345  32    Male                                Employed Full-Time   \n",
       "346         346  39  female                                         homemaker   \n",
       "347         347  25  female                                         full time   \n",
       "\n",
       "                            3  4    5    6    7    8    9   10   11   12  \n",
       "343                       USA  3  NaN  NaN  NaN  NaN  NaN  NaN  NaN  NaN  \n",
       "344                       USA  3  NaN  NaN  NaN  NaN  NaN  NaN  NaN  NaN  \n",
       "345  United States of America  1  NaN  NaN  NaN  NaN  NaN  NaN  NaN  NaN  \n",
       "346             United States  6  NaN  NaN  NaN  NaN  NaN  NaN  NaN  NaN  \n",
       "347                        US  2  NaN  NaN  NaN  NaN  NaN  NaN  NaN  NaN  "
      ]
     },
     "execution_count": 53,
     "metadata": {},
     "output_type": "execute_result"
    }
   ],
   "source": [
    "pretest_survey.tail()"
   ]
  },
  {
   "cell_type": "code",
   "execution_count": 54,
   "metadata": {
    "collapsed": false
   },
   "outputs": [
    {
     "data": {
      "text/plain": [
       "array([19, 19, 19, 19, 19, 20, 20, 20, 20, 20, 20, 21, 21, 21, 21, 21, 21,\n",
       "       21, 21, 22, 22, 22, 22, 22, 22, 22, 22, 22, 23, 23, 23, 23, 23, 23,\n",
       "       23, 23, 23, 23, 23, 23, 23, 23, 24, 24, 24, 24, 24, 24, 24, 24, 24,\n",
       "       24, 24, 24, 24, 25, 25, 25, 25, 25, 25, 25, 25, 25, 25, 25, 25, 25,\n",
       "       25, 25, 25, 25, 25, 25, 25, 25, 25, 26, 26, 26, 26, 26, 26, 26, 26,\n",
       "       26, 26, 27, 27, 27, 27, 27, 27, 27, 27, 27, 27, 27, 27, 27, 27, 27,\n",
       "       27, 27, 27, 27, 27, 27, 28, 28, 28, 28, 28, 28, 28, 28, 28, 28, 28,\n",
       "       28, 28, 28, 28, 28, 28, 28, 28, 29, 29, 29, 29, 29, 29, 29, 29, 29,\n",
       "       29, 29, 29, 29, 29, 29, 29, 29, 30, 30, 30, 30, 30, 30, 30, 30, 30,\n",
       "       30, 30, 30, 30, 30, 30, 30, 30, 30, 30, 30, 30, 30, 30, 30, 30, 31,\n",
       "       31, 31, 31, 31, 31, 31, 31, 31, 31, 31, 31, 31, 31, 31, 31, 31, 31,\n",
       "       31, 31, 31, 32, 32, 32, 32, 32, 32, 32, 32, 32, 32, 32, 32, 33, 33,\n",
       "       33, 33, 33, 33, 33, 33, 33, 33, 33, 33, 33, 34, 34, 34, 34, 34, 34,\n",
       "       34, 34, 34, 34, 34, 35, 35, 35, 35, 35, 35, 35, 35, 35, 35, 35, 35,\n",
       "       36, 36, 36, 36, 36, 36, 36, 36, 36, 36, 36, 36, 37, 37, 37, 37, 37,\n",
       "       38, 38, 38, 38, 38, 38, 38, 39, 39, 39, 39, 39, 39, 39, 40, 40, 40,\n",
       "       40, 40, 40, 41, 41, 41, 41, 41, 41, 41, 42, 42, 42, 42, 43, 43, 43,\n",
       "       43, 44, 44, 44, 44, 44, 44, 44, 45, 45, 45, 45, 45, 45, 45, 45, 45,\n",
       "       46, 46, 46, 47, 47, 47, 47, 48, 48, 48, 49, 49, 49, 49, 50, 50, 50,\n",
       "       50, 51, 51, 52, 52, 52, 53, 53, 54, 54, 55, 55, 57, 58, 58, 58, 59,\n",
       "       60, 61, 61, 62, 64, 66, 70, 70], dtype=int64)"
      ]
     },
     "execution_count": 54,
     "metadata": {},
     "output_type": "execute_result"
    }
   ],
   "source": [
    "pretest_ages = pretest_survey['0']\n",
    "np.sort(pretest_ages)"
   ]
  },
  {
   "cell_type": "code",
   "execution_count": 55,
   "metadata": {
    "collapsed": false
   },
   "outputs": [
    {
     "data": {
      "text/plain": [
       "55.02857142857143"
      ]
     },
     "execution_count": 55,
     "metadata": {},
     "output_type": "execute_result"
    }
   ],
   "source": [
    "np.mean(pretest_ages[pretest_ages>47])"
   ]
  },
  {
   "cell_type": "code",
   "execution_count": 56,
   "metadata": {
    "collapsed": false
   },
   "outputs": [
    {
     "data": {
      "text/html": [
       "<div>\n",
       "<style scoped>\n",
       "    .dataframe tbody tr th:only-of-type {\n",
       "        vertical-align: middle;\n",
       "    }\n",
       "\n",
       "    .dataframe tbody tr th {\n",
       "        vertical-align: top;\n",
       "    }\n",
       "\n",
       "    .dataframe thead th {\n",
       "        text-align: right;\n",
       "    }\n",
       "</style>\n",
       "<table border=\"1\" class=\"dataframe\">\n",
       "  <thead>\n",
       "    <tr style=\"text-align: right;\">\n",
       "      <th></th>\n",
       "      <th>Unnamed: 0</th>\n",
       "      <th>bonus</th>\n",
       "      <th>bonusRate</th>\n",
       "      <th>branching</th>\n",
       "      <th>completed</th>\n",
       "      <th>condition</th>\n",
       "      <th>inspectCost</th>\n",
       "      <th>pid</th>\n",
       "      <th>startTime</th>\n",
       "      <th>with_feedback</th>\n",
       "      <th>version</th>\n",
       "    </tr>\n",
       "  </thead>\n",
       "  <tbody>\n",
       "    <tr>\n",
       "      <th>343</th>\n",
       "      <td>343</td>\n",
       "      <td>0.0</td>\n",
       "      <td>0.0015</td>\n",
       "      <td>312</td>\n",
       "      <td>True</td>\n",
       "      <td>1</td>\n",
       "      <td>1</td>\n",
       "      <td>343</td>\n",
       "      <td>Sat Apr 07 2018 00:18:00 GMT-0500 (CDT)</td>\n",
       "      <td>True</td>\n",
       "      <td>A1.0</td>\n",
       "    </tr>\n",
       "    <tr>\n",
       "      <th>344</th>\n",
       "      <td>344</td>\n",
       "      <td>0.0</td>\n",
       "      <td>0.0015</td>\n",
       "      <td>312</td>\n",
       "      <td>True</td>\n",
       "      <td>0</td>\n",
       "      <td>1</td>\n",
       "      <td>344</td>\n",
       "      <td>Wed Apr 04 2018 17:06:36 GMT-0400 (Eastern Day...</td>\n",
       "      <td>False</td>\n",
       "      <td>A1.0</td>\n",
       "    </tr>\n",
       "    <tr>\n",
       "      <th>345</th>\n",
       "      <td>345</td>\n",
       "      <td>0.0</td>\n",
       "      <td>0.0015</td>\n",
       "      <td>312</td>\n",
       "      <td>True</td>\n",
       "      <td>1</td>\n",
       "      <td>1</td>\n",
       "      <td>345</td>\n",
       "      <td>Fri Apr 06 2018 17:36:09 GMT-0400 (Eastern Day...</td>\n",
       "      <td>True</td>\n",
       "      <td>A1.0</td>\n",
       "    </tr>\n",
       "    <tr>\n",
       "      <th>346</th>\n",
       "      <td>346</td>\n",
       "      <td>0.0</td>\n",
       "      <td>0.0015</td>\n",
       "      <td>312</td>\n",
       "      <td>True</td>\n",
       "      <td>0</td>\n",
       "      <td>1</td>\n",
       "      <td>346</td>\n",
       "      <td>Wed Apr 04 2018 15:19:11 GMT-0400 (Eastern Day...</td>\n",
       "      <td>False</td>\n",
       "      <td>A1.0</td>\n",
       "    </tr>\n",
       "    <tr>\n",
       "      <th>347</th>\n",
       "      <td>347</td>\n",
       "      <td>0.0</td>\n",
       "      <td>0.0015</td>\n",
       "      <td>312</td>\n",
       "      <td>True</td>\n",
       "      <td>1</td>\n",
       "      <td>1</td>\n",
       "      <td>347</td>\n",
       "      <td>Thu Apr 05 2018 11:30:24 GMT-0400 (EDT)</td>\n",
       "      <td>True</td>\n",
       "      <td>A1.0</td>\n",
       "    </tr>\n",
       "  </tbody>\n",
       "</table>\n",
       "</div>"
      ],
      "text/plain": [
       "     Unnamed: 0  bonus  bonusRate  branching  completed  condition  \\\n",
       "343         343    0.0     0.0015        312       True          1   \n",
       "344         344    0.0     0.0015        312       True          0   \n",
       "345         345    0.0     0.0015        312       True          1   \n",
       "346         346    0.0     0.0015        312       True          0   \n",
       "347         347    0.0     0.0015        312       True          1   \n",
       "\n",
       "     inspectCost  pid                                          startTime  \\\n",
       "343            1  343            Sat Apr 07 2018 00:18:00 GMT-0500 (CDT)   \n",
       "344            1  344  Wed Apr 04 2018 17:06:36 GMT-0400 (Eastern Day...   \n",
       "345            1  345  Fri Apr 06 2018 17:36:09 GMT-0400 (Eastern Day...   \n",
       "346            1  346  Wed Apr 04 2018 15:19:11 GMT-0400 (Eastern Day...   \n",
       "347            1  347            Thu Apr 05 2018 11:30:24 GMT-0400 (EDT)   \n",
       "\n",
       "     with_feedback version  \n",
       "343           True    A1.0  \n",
       "344          False    A1.0  \n",
       "345           True    A1.0  \n",
       "346          False    A1.0  \n",
       "347           True    A1.0  "
      ]
     },
     "execution_count": 56,
     "metadata": {},
     "output_type": "execute_result"
    }
   ],
   "source": [
    "pdf = pd.read_csv('participants.csv')\n",
    "pdf.tail()"
   ]
  },
  {
   "cell_type": "code",
   "execution_count": 57,
   "metadata": {
    "collapsed": false
   },
   "outputs": [
    {
     "data": {
      "text/html": [
       "<div>\n",
       "<style scoped>\n",
       "    .dataframe tbody tr th:only-of-type {\n",
       "        vertical-align: middle;\n",
       "    }\n",
       "\n",
       "    .dataframe tbody tr th {\n",
       "        vertical-align: top;\n",
       "    }\n",
       "\n",
       "    .dataframe thead th {\n",
       "        text-align: right;\n",
       "    }\n",
       "</style>\n",
       "<table border=\"1\" class=\"dataframe\">\n",
       "  <thead>\n",
       "    <tr style=\"text-align: right;\">\n",
       "      <th></th>\n",
       "      <th>pid</th>\n",
       "      <th>responses</th>\n",
       "      <th>rt</th>\n",
       "      <th>time_elapsed</th>\n",
       "    </tr>\n",
       "  </thead>\n",
       "  <tbody>\n",
       "    <tr>\n",
       "      <th>0</th>\n",
       "      <td>0</td>\n",
       "      <td>{\"Q0\":\"female\",\"Q1\":\"25\",\"Q2\":\"USA\",\"Q3\":\"full...</td>\n",
       "      <td>16668</td>\n",
       "      <td>16685</td>\n",
       "    </tr>\n",
       "    <tr>\n",
       "      <th>1</th>\n",
       "      <td>1</td>\n",
       "      <td>{\"Q0\":\"female\",\"Q1\":\"30\",\"Q2\":\"usa\",\"Q3\":\"free...</td>\n",
       "      <td>15039</td>\n",
       "      <td>15052</td>\n",
       "    </tr>\n",
       "    <tr>\n",
       "      <th>2</th>\n",
       "      <td>2</td>\n",
       "      <td>{\"Q0\":\"Male\",\"Q1\":\"36\",\"Q2\":\"United States of ...</td>\n",
       "      <td>34450</td>\n",
       "      <td>34484</td>\n",
       "    </tr>\n",
       "    <tr>\n",
       "      <th>3</th>\n",
       "      <td>3</td>\n",
       "      <td>{\"Q0\":\"female\",\"Q1\":\"24\",\"Q2\":\"USA\",\"Q3\":\"empl...</td>\n",
       "      <td>17488</td>\n",
       "      <td>17511</td>\n",
       "    </tr>\n",
       "    <tr>\n",
       "      <th>4</th>\n",
       "      <td>3</td>\n",
       "      <td>{\"Q0\":\"I realized that the end nodes had the h...</td>\n",
       "      <td>108674</td>\n",
       "      <td>629984</td>\n",
       "    </tr>\n",
       "  </tbody>\n",
       "</table>\n",
       "</div>"
      ],
      "text/plain": [
       "   pid                                          responses      rt  \\\n",
       "0    0  {\"Q0\":\"female\",\"Q1\":\"25\",\"Q2\":\"USA\",\"Q3\":\"full...   16668   \n",
       "1    1  {\"Q0\":\"female\",\"Q1\":\"30\",\"Q2\":\"usa\",\"Q3\":\"free...   15039   \n",
       "2    2  {\"Q0\":\"Male\",\"Q1\":\"36\",\"Q2\":\"United States of ...   34450   \n",
       "3    3  {\"Q0\":\"female\",\"Q1\":\"24\",\"Q2\":\"USA\",\"Q3\":\"empl...   17488   \n",
       "4    3  {\"Q0\":\"I realized that the end nodes had the h...  108674   \n",
       "\n",
       "   time_elapsed  \n",
       "0         16685  \n",
       "1         15052  \n",
       "2         34484  \n",
       "3         17511  \n",
       "4        629984  "
      ]
     },
     "execution_count": 57,
     "metadata": {},
     "output_type": "execute_result"
    }
   ],
   "source": [
    "time_info = pd.read_csv('survey-text.csv')\n",
    "time_info.head()"
   ]
  },
  {
   "cell_type": "code",
   "execution_count": 58,
   "metadata": {
    "collapsed": true
   },
   "outputs": [],
   "source": [
    "minutes_spent = time_info.groupby('pid')['time_elapsed'].max()/60000"
   ]
  },
  {
   "cell_type": "code",
   "execution_count": 59,
   "metadata": {
    "collapsed": false
   },
   "outputs": [
    {
     "data": {
      "text/plain": [
       "12.116152747252752"
      ]
     },
     "execution_count": 59,
     "metadata": {},
     "output_type": "execute_result"
    }
   ],
   "source": [
    "np.mean(minutes_spent[minutes_spent>3])"
   ]
  },
  {
   "cell_type": "code",
   "execution_count": 60,
   "metadata": {
    "collapsed": false
   },
   "outputs": [],
   "source": [
    "# pdf_ids = pdf.merge(pretest_survey[['Unnamed: 0', '0']], left_on='pid', right_on='Unnamed: 0')\n",
    "# pdf_ids.head()"
   ]
  },
  {
   "cell_type": "code",
   "execution_count": 61,
   "metadata": {
    "collapsed": false
   },
   "outputs": [],
   "source": [
    "#set bonuses to 0 for those who didn't qualify\n",
    "# pdf_ids['bonus'].where((pdf_ids['0']<25) | (pdf_ids['0']>47), 0, inplace=True)\n",
    "# pdf_ids.head()"
   ]
  },
  {
   "cell_type": "code",
   "execution_count": 62,
   "metadata": {
    "collapsed": false
   },
   "outputs": [],
   "source": [
    "# pdf_ids.drop(labels=['Unnamed: 0_x','Unnamed: 0_y', '0'],axis=1, inplace=True)\n",
    "# pdf_ids.head()"
   ]
  },
  {
   "cell_type": "code",
   "execution_count": 63,
   "metadata": {
    "collapsed": true
   },
   "outputs": [],
   "source": [
    "#pdf_ids.to_csv('participants.csv')"
   ]
  },
  {
   "cell_type": "code",
   "execution_count": 64,
   "metadata": {
    "collapsed": false
   },
   "outputs": [],
   "source": [
    "# bonuses = pdf_ids[pdf_ids['bonus'] != 0]['bonus']\n",
    "# np.mean(bonuses)"
   ]
  },
  {
   "cell_type": "code",
   "execution_count": 65,
   "metadata": {
    "collapsed": false
   },
   "outputs": [
    {
     "data": {
      "text/plain": [
       "array(['Big Man', 'F', 'FEMALE', 'Female', 'Female ', 'M', 'MALE', 'Make',\n",
       "       'Male', 'Man', 'Non-binary', 'female', 'female`', 'm', 'male',\n",
       "       'non-binary', 'transgender'], dtype=object)"
      ]
     },
     "execution_count": 65,
     "metadata": {},
     "output_type": "execute_result"
    }
   ],
   "source": [
    "np.unique(pretest_survey['1'])"
   ]
  },
  {
   "cell_type": "code",
   "execution_count": null,
   "metadata": {
    "collapsed": false
   },
   "outputs": [],
   "source": []
  },
  {
   "cell_type": "code",
   "execution_count": null,
   "metadata": {
    "collapsed": true
   },
   "outputs": [],
   "source": []
  }
 ],
 "metadata": {
  "kernelspec": {
   "display_name": "Python 3",
   "language": "python",
   "name": "python3"
  },
  "language_info": {
   "codemirror_mode": {
    "name": "ipython",
    "version": 3
   },
   "file_extension": ".py",
   "mimetype": "text/x-python",
   "name": "python",
   "nbconvert_exporter": "python",
   "pygments_lexer": "ipython3",
   "version": "3.5.4"
  }
 },
 "nbformat": 4,
 "nbformat_minor": 1
}
