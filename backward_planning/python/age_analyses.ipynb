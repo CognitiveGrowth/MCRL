{
 "cells": [
  {
   "cell_type": "code",
   "execution_count": 1,
   "metadata": {
    "collapsed": false
   },
   "outputs": [],
   "source": [
    "import numpy as np\n",
    "import pandas as pd\n",
    "import seaborn as sns\n",
    "from scipy import stats\n",
    "import matplotlib.pyplot as plt\n",
    "import csv\n",
    "%matplotlib inline"
   ]
  },
  {
   "cell_type": "code",
   "execution_count": 2,
   "metadata": {
    "collapsed": false
   },
   "outputs": [
    {
     "data": {
      "text/plain": [
       "'C:\\\\Users\\\\piichan\\\\Documents\\\\Berkeley\\\\CoCoSci Lab\\\\mcrl\\\\mcrl\\\\backward_planning\\\\python'"
      ]
     },
     "execution_count": 2,
     "metadata": {},
     "output_type": "execute_result"
    }
   ],
   "source": [
    "pwd"
   ]
  },
  {
   "cell_type": "code",
   "execution_count": 3,
   "metadata": {
    "collapsed": false
   },
   "outputs": [
    {
     "name": "stdout",
     "output_type": "stream",
     "text": [
      "C:\\Users\\piichan\\Documents\\Berkeley\\CoCoSci Lab\\mcrl\\mcrl\\backward_planning\\experiment1\\data\\human\\1A.5\n"
     ]
    }
   ],
   "source": [
    "cd ../experiment1/data/human/1A.5"
   ]
  },
  {
   "cell_type": "markdown",
   "metadata": {},
   "source": [
    "## Data from 1A.5\n",
    "- similar to cogsci\n",
    "- 10 training trials (some with feedback, some without), 20 test trials (no feedback)"
   ]
  },
  {
   "cell_type": "code",
   "execution_count": 4,
   "metadata": {
    "collapsed": false
   },
   "outputs": [],
   "source": [
    "backwards_survey = pd.read_csv('survey.csv')\n",
    "ages = backwards_survey['8'][:119]"
   ]
  },
  {
   "cell_type": "code",
   "execution_count": 5,
   "metadata": {
    "collapsed": false
   },
   "outputs": [
    {
     "data": {
      "text/plain": [
       "array([ 20.,  20.,  21.,  21.,  21.,  23.,  23.,  23.,  23.,  23.,  23.,\n",
       "        24.,  25.,  25.,  25.,  25.,  25.,  25.,  25.,  26.,  26.,  26.,\n",
       "        26.,  26.,  27.,  27.,  28.,  28.,  28.,  28.,  28.,  28.,  28.,\n",
       "        28.,  28.,  28.,  28.,  29.,  29.,  29.,  29.,  30.,  30.,  30.,\n",
       "        30.,  31.,  31.,  31.,  31.,  31.,  31.,  32.,  32.,  32.,  32.,\n",
       "        33.,  33.,  33.,  33.,  33.,  33.,  33.,  34.,  34.,  34.,  34.,\n",
       "        35.,  35.,  35.,  35.,  35.,  36.,  36.,  36.,  36.,  37.,  37.,\n",
       "        37.,  37.,  38.,  38.,  38.,  39.,  39.,  39.,  40.,  41.,  41.,\n",
       "        41.,  41.,  42.,  42.,  42.,  42.,  42.,  42.,  42.,  43.,  43.,\n",
       "        44.,  44.,  46.,  46.,  47.,  48.,  49.,  51.,  52.,  52.,  52.,\n",
       "        54.,  57.,  61.,  61.,  64.,  68.])"
      ]
     },
     "execution_count": 5,
     "metadata": {},
     "output_type": "execute_result"
    }
   ],
   "source": [
    "ages_cleaned = ages.dropna()\n",
    "np.sort(ages_cleaned)"
   ]
  },
  {
   "cell_type": "code",
   "execution_count": 6,
   "metadata": {
    "collapsed": false
   },
   "outputs": [
    {
     "data": {
      "text/plain": [
       "(array([  2.,   3.,   0.,   6.,   1.,   7.,   5.,   2.,  11.,   4.,   4.,\n",
       "          6.,   4.,   7.,   4.,   5.,   4.,   4.,   3.,   3.,   1.,   4.,\n",
       "          7.,   2.,   2.,   0.,   2.,   1.,   1.,   1.,   0.,   1.,   3.,\n",
       "          0.,   1.,   0.,   0.,   1.,   0.,   0.,   0.,   2.,   0.,   0.,\n",
       "          1.,   0.,   0.,   1.]),\n",
       " array([ 20.,  21.,  22.,  23.,  24.,  25.,  26.,  27.,  28.,  29.,  30.,\n",
       "         31.,  32.,  33.,  34.,  35.,  36.,  37.,  38.,  39.,  40.,  41.,\n",
       "         42.,  43.,  44.,  45.,  46.,  47.,  48.,  49.,  50.,  51.,  52.,\n",
       "         53.,  54.,  55.,  56.,  57.,  58.,  59.,  60.,  61.,  62.,  63.,\n",
       "         64.,  65.,  66.,  67.,  68.]),\n",
       " <a list of 48 Patch objects>)"
      ]
     },
     "execution_count": 6,
     "metadata": {},
     "output_type": "execute_result"
    },
    {
     "data": {
      "image/png": "[encoded data removed]",
      "text/plain": [
       "<matplotlib.figure.Figure at 0x1d22f957d68>"
      ]
     },
     "metadata": {},
     "output_type": "display_data"
    }
   ],
   "source": [
    "plt.figure()\n",
    "plt.hist(ages_cleaned, bins=np.arange(np.min(ages_cleaned), np.max(ages_cleaned)+1))"
   ]
  },
  {
   "cell_type": "code",
   "execution_count": 7,
   "metadata": {
    "collapsed": false
   },
   "outputs": [
    {
     "data": {
      "text/html": [
       "<div>\n",
       "<style scoped>\n",
       "    .dataframe tbody tr th:only-of-type {\n",
       "        vertical-align: middle;\n",
       "    }\n",
       "\n",
       "    .dataframe tbody tr th {\n",
       "        vertical-align: top;\n",
       "    }\n",
       "\n",
       "    .dataframe thead th {\n",
       "        text-align: right;\n",
       "    }\n",
       "</style>\n",
       "<table border=\"1\" class=\"dataframe\">\n",
       "  <thead>\n",
       "    <tr style=\"text-align: right;\">\n",
       "      <th></th>\n",
       "      <th>action_times</th>\n",
       "      <th>actions</th>\n",
       "      <th>block</th>\n",
       "      <th>path</th>\n",
       "      <th>queries</th>\n",
       "      <th>rewards</th>\n",
       "      <th>rt</th>\n",
       "      <th>score</th>\n",
       "      <th>simulation_mode</th>\n",
       "      <th>state_rewards</th>\n",
       "      <th>time_elapsed</th>\n",
       "      <th>trial_index</th>\n",
       "      <th>trial_time</th>\n",
       "      <th>trial_id</th>\n",
       "      <th>trial_type</th>\n",
       "      <th>pid</th>\n",
       "    </tr>\n",
       "  </thead>\n",
       "  <tbody>\n",
       "    <tr>\n",
       "      <th>0</th>\n",
       "      <td>[11407, 13565, 16237]</td>\n",
       "      <td>[u'up', u'up', u'right']</td>\n",
       "      <td>pre_test</td>\n",
       "      <td>[u'0', u'1', u'2', u'3']</td>\n",
       "      <td>{u'mouseover': {u'state': {u'target': [], u'ti...</td>\n",
       "      <td>[-4, 4, 24]</td>\n",
       "      <td>[11399, 1638, 2141]</td>\n",
       "      <td>24.0</td>\n",
       "      <td>[None, None, None]</td>\n",
       "      <td>[u'', -4, 4, 24, 24, -2, -4, 48, -24, -4, 8, -...</td>\n",
       "      <td>105163</td>\n",
       "      <td>0.0</td>\n",
       "      <td>27011.0</td>\n",
       "      <td>-4.874666e+18</td>\n",
       "      <td>mouselab-mdp</td>\n",
       "      <td>0</td>\n",
       "    </tr>\n",
       "    <tr>\n",
       "      <th>1</th>\n",
       "      <td>[14286, 63761, 65379]</td>\n",
       "      <td>[u'left', u'left', u'up']</td>\n",
       "      <td>training</td>\n",
       "      <td>[u'0', u'9', u'10', u'11']</td>\n",
       "      <td>{u'mouseover': {u'state': {u'target': [], u'ti...</td>\n",
       "      <td>[-4, 4, 48]</td>\n",
       "      <td>[14277, 6954, 1091]</td>\n",
       "      <td>48.0</td>\n",
       "      <td>[None, None, None]</td>\n",
       "      <td>[u'', -2, -4, 48, 24, 2, 4, -48, 48, -4, 4, 48...</td>\n",
       "      <td>200161</td>\n",
       "      <td>1.0</td>\n",
       "      <td>79154.0</td>\n",
       "      <td>7.946552e+18</td>\n",
       "      <td>mouselab-mdp</td>\n",
       "      <td>0</td>\n",
       "    </tr>\n",
       "    <tr>\n",
       "      <th>2</th>\n",
       "      <td>[9878, 54493, 55901]</td>\n",
       "      <td>[u'left', u'left', u'down']</td>\n",
       "      <td>training</td>\n",
       "      <td>[u'0', u'9', u'10', u'12']</td>\n",
       "      <td>{u'mouseover': {u'state': {u'target': [], u'ti...</td>\n",
       "      <td>[-2, -4, 24]</td>\n",
       "      <td>[9873, 2089, 895]</td>\n",
       "      <td>18.0</td>\n",
       "      <td>[None, None, None]</td>\n",
       "      <td>[u'', 4, 4, -48, 48, -2, 4, -48, -24, -2, -4, ...</td>\n",
       "      <td>261346</td>\n",
       "      <td>2.0</td>\n",
       "      <td>60098.0</td>\n",
       "      <td>-5.006810e+18</td>\n",
       "      <td>mouselab-mdp</td>\n",
       "      <td>0</td>\n",
       "    </tr>\n",
       "    <tr>\n",
       "      <th>3</th>\n",
       "      <td>[31434, 32468, 33765]</td>\n",
       "      <td>[u'left', u'left', u'up']</td>\n",
       "      <td>training</td>\n",
       "      <td>[u'0', u'9', u'10', u'11']</td>\n",
       "      <td>{u'mouseover': {u'state': {u'target': [], u'ti...</td>\n",
       "      <td>[-2, 8, 24]</td>\n",
       "      <td>[31430, 506, 769]</td>\n",
       "      <td>23.0</td>\n",
       "      <td>[None, None, None]</td>\n",
       "      <td>[u'', 2, 4, -24, -48, -2, -4, -24, -24, -2, 8,...</td>\n",
       "      <td>299462</td>\n",
       "      <td>3.0</td>\n",
       "      <td>37033.0</td>\n",
       "      <td>1.182386e+16</td>\n",
       "      <td>mouselab-mdp</td>\n",
       "      <td>0</td>\n",
       "    </tr>\n",
       "    <tr>\n",
       "      <th>4</th>\n",
       "      <td>[10192, 30207, 31577]</td>\n",
       "      <td>[u'left', u'left', u'up']</td>\n",
       "      <td>training</td>\n",
       "      <td>[u'0', u'9', u'10', u'11']</td>\n",
       "      <td>{u'mouseover': {u'state': {u'target': [], u'ti...</td>\n",
       "      <td>[-2, -4, 24]</td>\n",
       "      <td>[10187, 1486, 855]</td>\n",
       "      <td>17.0</td>\n",
       "      <td>[None, None, None]</td>\n",
       "      <td>[u'', -2, -8, 24, 48, -2, 8, -24, -24, -2, -4,...</td>\n",
       "      <td>335391</td>\n",
       "      <td>4.0</td>\n",
       "      <td>34849.0</td>\n",
       "      <td>-3.603402e+18</td>\n",
       "      <td>mouselab-mdp</td>\n",
       "      <td>0</td>\n",
       "    </tr>\n",
       "  </tbody>\n",
       "</table>\n",
       "</div>"
      ],
      "text/plain": [
       "            action_times                      actions     block  \\\n",
       "0  [11407, 13565, 16237]     [u'up', u'up', u'right']  pre_test   \n",
       "1  [14286, 63761, 65379]    [u'left', u'left', u'up']  training   \n",
       "2   [9878, 54493, 55901]  [u'left', u'left', u'down']  training   \n",
       "3  [31434, 32468, 33765]    [u'left', u'left', u'up']  training   \n",
       "4  [10192, 30207, 31577]    [u'left', u'left', u'up']  training   \n",
       "\n",
       "                         path  \\\n",
       "0    [u'0', u'1', u'2', u'3']   \n",
       "1  [u'0', u'9', u'10', u'11']   \n",
       "2  [u'0', u'9', u'10', u'12']   \n",
       "3  [u'0', u'9', u'10', u'11']   \n",
       "4  [u'0', u'9', u'10', u'11']   \n",
       "\n",
       "                                             queries       rewards  \\\n",
       "0  {u'mouseover': {u'state': {u'target': [], u'ti...   [-4, 4, 24]   \n",
       "1  {u'mouseover': {u'state': {u'target': [], u'ti...   [-4, 4, 48]   \n",
       "2  {u'mouseover': {u'state': {u'target': [], u'ti...  [-2, -4, 24]   \n",
       "3  {u'mouseover': {u'state': {u'target': [], u'ti...   [-2, 8, 24]   \n",
       "4  {u'mouseover': {u'state': {u'target': [], u'ti...  [-2, -4, 24]   \n",
       "\n",
       "                    rt  score     simulation_mode  \\\n",
       "0  [11399, 1638, 2141]   24.0  [None, None, None]   \n",
       "1  [14277, 6954, 1091]   48.0  [None, None, None]   \n",
       "2    [9873, 2089, 895]   18.0  [None, None, None]   \n",
       "3    [31430, 506, 769]   23.0  [None, None, None]   \n",
       "4   [10187, 1486, 855]   17.0  [None, None, None]   \n",
       "\n",
       "                                       state_rewards  time_elapsed  \\\n",
       "0  [u'', -4, 4, 24, 24, -2, -4, 48, -24, -4, 8, -...        105163   \n",
       "1  [u'', -2, -4, 48, 24, 2, 4, -48, 48, -4, 4, 48...        200161   \n",
       "2  [u'', 4, 4, -48, 48, -2, 4, -48, -24, -2, -4, ...        261346   \n",
       "3  [u'', 2, 4, -24, -48, -2, -4, -24, -24, -2, 8,...        299462   \n",
       "4  [u'', -2, -8, 24, 48, -2, 8, -24, -24, -2, -4,...        335391   \n",
       "\n",
       "   trial_index  trial_time      trial_id    trial_type  pid  \n",
       "0          0.0     27011.0 -4.874666e+18  mouselab-mdp    0  \n",
       "1          1.0     79154.0  7.946552e+18  mouselab-mdp    0  \n",
       "2          2.0     60098.0 -5.006810e+18  mouselab-mdp    0  \n",
       "3          3.0     37033.0  1.182386e+16  mouselab-mdp    0  \n",
       "4          4.0     34849.0 -3.603402e+18  mouselab-mdp    0  "
      ]
     },
     "execution_count": 7,
     "metadata": {},
     "output_type": "execute_result"
    }
   ],
   "source": [
    "backwards_data = pd.read_csv('mouselab-mdp.csv')\n",
    "bw_test_data = backwards_data[backwards_data['block']=='test']\n",
    "bw_train_data = backwards_data[backwards_data['block']=='training']\n",
    "backwards_data.head()"
   ]
  },
  {
   "cell_type": "code",
   "execution_count": 8,
   "metadata": {
    "collapsed": false
   },
   "outputs": [
    {
     "data": {
      "text/html": [
       "<div>\n",
       "<style scoped>\n",
       "    .dataframe tbody tr th:only-of-type {\n",
       "        vertical-align: middle;\n",
       "    }\n",
       "\n",
       "    .dataframe tbody tr th {\n",
       "        vertical-align: top;\n",
       "    }\n",
       "\n",
       "    .dataframe thead th {\n",
       "        text-align: right;\n",
       "    }\n",
       "</style>\n",
       "<table border=\"1\" class=\"dataframe\">\n",
       "  <thead>\n",
       "    <tr style=\"text-align: right;\">\n",
       "      <th></th>\n",
       "      <th>bonus</th>\n",
       "      <th>bonusRate</th>\n",
       "      <th>branching</th>\n",
       "      <th>completed</th>\n",
       "      <th>condition</th>\n",
       "      <th>inspectCost</th>\n",
       "      <th>pid</th>\n",
       "      <th>startTime</th>\n",
       "      <th>with_feedback</th>\n",
       "      <th>version</th>\n",
       "    </tr>\n",
       "  </thead>\n",
       "  <tbody>\n",
       "    <tr>\n",
       "      <th>0</th>\n",
       "      <td>1.48</td>\n",
       "      <td>0.002</td>\n",
       "      <td>312</td>\n",
       "      <td>True</td>\n",
       "      <td>1.0</td>\n",
       "      <td>1</td>\n",
       "      <td>0</td>\n",
       "      <td>Wed Feb 28 2018 12:37:15 GMT-0500 (EST)</td>\n",
       "      <td>True</td>\n",
       "      <td>1A.5</td>\n",
       "    </tr>\n",
       "    <tr>\n",
       "      <th>1</th>\n",
       "      <td>1.74</td>\n",
       "      <td>0.002</td>\n",
       "      <td>312</td>\n",
       "      <td>True</td>\n",
       "      <td>1.0</td>\n",
       "      <td>1</td>\n",
       "      <td>1</td>\n",
       "      <td>Tue Feb 27 2018 19:01:38 GMT-0500 (Eastern Sta...</td>\n",
       "      <td>True</td>\n",
       "      <td>1A.5</td>\n",
       "    </tr>\n",
       "    <tr>\n",
       "      <th>2</th>\n",
       "      <td>1.02</td>\n",
       "      <td>0.002</td>\n",
       "      <td>312</td>\n",
       "      <td>True</td>\n",
       "      <td>1.0</td>\n",
       "      <td>1</td>\n",
       "      <td>2</td>\n",
       "      <td>Tue Feb 27 2018 18:02:03 GMT-0600 (Central Sta...</td>\n",
       "      <td>True</td>\n",
       "      <td>1A.5</td>\n",
       "    </tr>\n",
       "    <tr>\n",
       "      <th>3</th>\n",
       "      <td>1.77</td>\n",
       "      <td>0.002</td>\n",
       "      <td>312</td>\n",
       "      <td>True</td>\n",
       "      <td>1.0</td>\n",
       "      <td>1</td>\n",
       "      <td>3</td>\n",
       "      <td>Tue Feb 27 2018 14:02:37 GMT-0800 (Pacific Sta...</td>\n",
       "      <td>True</td>\n",
       "      <td>1A.5</td>\n",
       "    </tr>\n",
       "    <tr>\n",
       "      <th>4</th>\n",
       "      <td>1.68</td>\n",
       "      <td>0.002</td>\n",
       "      <td>312</td>\n",
       "      <td>True</td>\n",
       "      <td>1.0</td>\n",
       "      <td>1</td>\n",
       "      <td>4</td>\n",
       "      <td>Wed Feb 28 2018 12:29:44 GMT-0500 (Eastern Sta...</td>\n",
       "      <td>True</td>\n",
       "      <td>1A.5</td>\n",
       "    </tr>\n",
       "  </tbody>\n",
       "</table>\n",
       "</div>"
      ],
      "text/plain": [
       "   bonus  bonusRate  branching  completed  condition  inspectCost  pid  \\\n",
       "0   1.48      0.002        312       True        1.0            1    0   \n",
       "1   1.74      0.002        312       True        1.0            1    1   \n",
       "2   1.02      0.002        312       True        1.0            1    2   \n",
       "3   1.77      0.002        312       True        1.0            1    3   \n",
       "4   1.68      0.002        312       True        1.0            1    4   \n",
       "\n",
       "                                           startTime with_feedback version  \n",
       "0            Wed Feb 28 2018 12:37:15 GMT-0500 (EST)          True    1A.5  \n",
       "1  Tue Feb 27 2018 19:01:38 GMT-0500 (Eastern Sta...          True    1A.5  \n",
       "2  Tue Feb 27 2018 18:02:03 GMT-0600 (Central Sta...          True    1A.5  \n",
       "3  Tue Feb 27 2018 14:02:37 GMT-0800 (Pacific Sta...          True    1A.5  \n",
       "4  Wed Feb 28 2018 12:29:44 GMT-0500 (Eastern Sta...          True    1A.5  "
      ]
     },
     "execution_count": 8,
     "metadata": {},
     "output_type": "execute_result"
    }
   ],
   "source": [
    "pdf = pd.read_csv('participants.csv')\n",
    "pdf.head()"
   ]
  },
  {
   "cell_type": "code",
   "execution_count": 9,
   "metadata": {
    "collapsed": false
   },
   "outputs": [
    {
     "name": "stdout",
     "output_type": "stream",
     "text": [
      "123\n"
     ]
    }
   ],
   "source": [
    "perf = bw_test_data[['pid','score', 'trial_index']]\n",
    "p_feedback = pdf[['pid', 'with_feedback']]\n",
    "avg_score = pd.DataFrame(perf.groupby('pid')['score'].mean())\n",
    "age_score = avg_score.merge(backwards_survey.set_index('Unnamed: 0')[['8']], how='outer', left_index=True, right_index=True)\n",
    "age_score = age_score.merge(p_feedback.set_index('pid'), how='outer', left_index=True, right_index=True)\n",
    "age_score = age_score.rename(columns={'8':'age'})\n",
    "print(len(age_score['age']))"
   ]
  },
  {
   "cell_type": "code",
   "execution_count": 10,
   "metadata": {
    "collapsed": false
   },
   "outputs": [
    {
     "data": {
      "text/html": [
       "<div>\n",
       "<style scoped>\n",
       "    .dataframe tbody tr th:only-of-type {\n",
       "        vertical-align: middle;\n",
       "    }\n",
       "\n",
       "    .dataframe tbody tr th {\n",
       "        vertical-align: top;\n",
       "    }\n",
       "\n",
       "    .dataframe thead th {\n",
       "        text-align: right;\n",
       "    }\n",
       "</style>\n",
       "<table border=\"1\" class=\"dataframe\">\n",
       "  <thead>\n",
       "    <tr style=\"text-align: right;\">\n",
       "      <th></th>\n",
       "      <th>score</th>\n",
       "      <th>age</th>\n",
       "      <th>with_feedback</th>\n",
       "    </tr>\n",
       "  </thead>\n",
       "  <tbody>\n",
       "    <tr>\n",
       "      <th>50.0</th>\n",
       "      <td>37.90</td>\n",
       "      <td>32.000000</td>\n",
       "      <td>NaN</td>\n",
       "    </tr>\n",
       "    <tr>\n",
       "      <th>52.0</th>\n",
       "      <td>43.05</td>\n",
       "      <td>27.000000</td>\n",
       "      <td>NaN</td>\n",
       "    </tr>\n",
       "    <tr>\n",
       "      <th>81.0</th>\n",
       "      <td>42.30</td>\n",
       "      <td>NaN</td>\n",
       "      <td>NaN</td>\n",
       "    </tr>\n",
       "    <tr>\n",
       "      <th>100.0</th>\n",
       "      <td>41.85</td>\n",
       "      <td>37.000000</td>\n",
       "      <td>NaN</td>\n",
       "    </tr>\n",
       "    <tr>\n",
       "      <th>103.0</th>\n",
       "      <td>39.20</td>\n",
       "      <td>28.000000</td>\n",
       "      <td>NaN</td>\n",
       "    </tr>\n",
       "    <tr>\n",
       "      <th>106.0</th>\n",
       "      <td>26.25</td>\n",
       "      <td>26.000000</td>\n",
       "      <td>NaN</td>\n",
       "    </tr>\n",
       "    <tr>\n",
       "      <th>NaN</th>\n",
       "      <td>NaN</td>\n",
       "      <td>34.715517</td>\n",
       "      <td>NaN</td>\n",
       "    </tr>\n",
       "    <tr>\n",
       "      <th>NaN</th>\n",
       "      <td>NaN</td>\n",
       "      <td>9.820835</td>\n",
       "      <td>NaN</td>\n",
       "    </tr>\n",
       "    <tr>\n",
       "      <th>NaN</th>\n",
       "      <td>NaN</td>\n",
       "      <td>68.000000</td>\n",
       "      <td>NaN</td>\n",
       "    </tr>\n",
       "    <tr>\n",
       "      <th>NaN</th>\n",
       "      <td>NaN</td>\n",
       "      <td>20.000000</td>\n",
       "      <td>NaN</td>\n",
       "    </tr>\n",
       "  </tbody>\n",
       "</table>\n",
       "</div>"
      ],
      "text/plain": [
       "        score        age with_feedback\n",
       " 50.0   37.90  32.000000           NaN\n",
       " 52.0   43.05  27.000000           NaN\n",
       " 81.0   42.30        NaN           NaN\n",
       " 100.0  41.85  37.000000           NaN\n",
       " 103.0  39.20  28.000000           NaN\n",
       " 106.0  26.25  26.000000           NaN\n",
       "NaN       NaN  34.715517           NaN\n",
       "NaN       NaN   9.820835           NaN\n",
       "NaN       NaN  68.000000           NaN\n",
       "NaN       NaN  20.000000           NaN"
      ]
     },
     "execution_count": 10,
     "metadata": {},
     "output_type": "execute_result"
    }
   ],
   "source": [
    "age_score[age_score['with_feedback'].isna()]"
   ]
  },
  {
   "cell_type": "code",
   "execution_count": 11,
   "metadata": {
    "collapsed": false
   },
   "outputs": [
    {
     "name": "stdout",
     "output_type": "stream",
     "text": [
      "111\n"
     ]
    },
    {
     "data": {
      "text/html": [
       "<div>\n",
       "<style scoped>\n",
       "    .dataframe tbody tr th:only-of-type {\n",
       "        vertical-align: middle;\n",
       "    }\n",
       "\n",
       "    .dataframe tbody tr th {\n",
       "        vertical-align: top;\n",
       "    }\n",
       "\n",
       "    .dataframe thead th {\n",
       "        text-align: right;\n",
       "    }\n",
       "</style>\n",
       "<table border=\"1\" class=\"dataframe\">\n",
       "  <thead>\n",
       "    <tr style=\"text-align: right;\">\n",
       "      <th></th>\n",
       "      <th>score</th>\n",
       "      <th>age</th>\n",
       "      <th>with_feedback</th>\n",
       "    </tr>\n",
       "  </thead>\n",
       "  <tbody>\n",
       "    <tr>\n",
       "      <th>0.0</th>\n",
       "      <td>34.55</td>\n",
       "      <td>39.0</td>\n",
       "      <td>True</td>\n",
       "    </tr>\n",
       "    <tr>\n",
       "      <th>1.0</th>\n",
       "      <td>41.05</td>\n",
       "      <td>31.0</td>\n",
       "      <td>True</td>\n",
       "    </tr>\n",
       "    <tr>\n",
       "      <th>2.0</th>\n",
       "      <td>23.10</td>\n",
       "      <td>51.0</td>\n",
       "      <td>True</td>\n",
       "    </tr>\n",
       "    <tr>\n",
       "      <th>3.0</th>\n",
       "      <td>41.75</td>\n",
       "      <td>33.0</td>\n",
       "      <td>True</td>\n",
       "    </tr>\n",
       "    <tr>\n",
       "      <th>4.0</th>\n",
       "      <td>39.40</td>\n",
       "      <td>33.0</td>\n",
       "      <td>True</td>\n",
       "    </tr>\n",
       "    <tr>\n",
       "      <th>5.0</th>\n",
       "      <td>42.55</td>\n",
       "      <td>25.0</td>\n",
       "      <td>False</td>\n",
       "    </tr>\n",
       "    <tr>\n",
       "      <th>6.0</th>\n",
       "      <td>23.60</td>\n",
       "      <td>23.0</td>\n",
       "      <td>False</td>\n",
       "    </tr>\n",
       "    <tr>\n",
       "      <th>7.0</th>\n",
       "      <td>44.20</td>\n",
       "      <td>41.0</td>\n",
       "      <td>True</td>\n",
       "    </tr>\n",
       "    <tr>\n",
       "      <th>8.0</th>\n",
       "      <td>43.65</td>\n",
       "      <td>40.0</td>\n",
       "      <td>True</td>\n",
       "    </tr>\n",
       "    <tr>\n",
       "      <th>9.0</th>\n",
       "      <td>39.90</td>\n",
       "      <td>42.0</td>\n",
       "      <td>True</td>\n",
       "    </tr>\n",
       "    <tr>\n",
       "      <th>10.0</th>\n",
       "      <td>38.80</td>\n",
       "      <td>61.0</td>\n",
       "      <td>False</td>\n",
       "    </tr>\n",
       "  </tbody>\n",
       "</table>\n",
       "</div>"
      ],
      "text/plain": [
       "      score   age with_feedback\n",
       "0.0   34.55  39.0          True\n",
       "1.0   41.05  31.0          True\n",
       "2.0   23.10  51.0          True\n",
       "3.0   41.75  33.0          True\n",
       "4.0   39.40  33.0          True\n",
       "5.0   42.55  25.0         False\n",
       "6.0   23.60  23.0         False\n",
       "7.0   44.20  41.0          True\n",
       "8.0   43.65  40.0          True\n",
       "9.0   39.90  42.0          True\n",
       "10.0  38.80  61.0         False"
      ]
     },
     "execution_count": 11,
     "metadata": {},
     "output_type": "execute_result"
    }
   ],
   "source": [
    "age_score = age_score.dropna(axis=0, how='any')\n",
    "print(len(age_score['age']))\n",
    "age_score[:10]"
   ]
  },
  {
   "cell_type": "code",
   "execution_count": 12,
   "metadata": {
    "collapsed": false
   },
   "outputs": [],
   "source": [
    "first_five = perf[perf['trial_index'] < 16.0]\n",
    "last_five = perf[perf['trial_index'] > 25.0]\n",
    "age_score['first_five'] = first_five.groupby('pid')['score'].mean()\n",
    "age_score['last_five'] = last_five.groupby('pid')['score'].mean()\n",
    "age_score['improvement'] = age_score['last_five'] - age_score['first_five']\n",
    "with_fb = age_score.query(\"with_feedback == True\")\n",
    "without_fb = age_score.query(\"with_feedback==False\")"
   ]
  },
  {
   "cell_type": "code",
   "execution_count": 13,
   "metadata": {
    "collapsed": false
   },
   "outputs": [
    {
     "name": "stdout",
     "output_type": "stream",
     "text": [
      "Stats for With Feedback\n",
      "Pearson:  (-0.33381623217776335, 0.011927302321066768)\n",
      "SpearmanrResult(correlation=-0.016292180912003438, pvalue=0.90513469013517167)\n",
      "Pearson:  (-0.27856805302592885, 0.039453586261443317)\n",
      "SpearmanrResult(correlation=-0.33479164108037363, pvalue=0.012475135922460358)\n"
     ]
    }
   ],
   "source": [
    "print(\"Stats for With Feedback\")\n",
    "print('Pearson: ', stats.pearsonr(with_fb['age'], with_fb['score']))\n",
    "print(stats.spearmanr(with_fb['age'], with_fb['score']))\n",
    "print('Pearson: ', stats.pearsonr(without_fb['age'], without_fb['score']))\n",
    "print(stats.spearmanr(without_fb['age'], without_fb['score']))"
   ]
  },
  {
   "cell_type": "code",
   "execution_count": 14,
   "metadata": {
    "collapsed": false
   },
   "outputs": [
    {
     "name": "stdout",
     "output_type": "stream",
     "text": [
      "Stats for With Feedback\n",
      "Pearson:  (-0.36890450250807666, 0.0051454279481335918)\n",
      "SpearmanrResult(correlation=-0.37815581270640919, pvalue=0.0040585218020627338)\n",
      "Stats for Without Feedback\n",
      "Pearson:  (-0.21601109475228042, 0.11320526604790372)\n",
      "SpearmanrResult(correlation=-0.081866611930476868, pvalue=0.55238334668439371)\n"
     ]
    },
    {
     "data": {
      "image/png": "[encoded data removed]",
      "text/plain": [
       "<matplotlib.figure.Figure at 0x1d230022780>"
      ]
     },
     "metadata": {},
     "output_type": "display_data"
    }
   ],
   "source": [
    "plt.figure(figsize=(10,8))\n",
    "plt.scatter(with_fb['age'], with_fb['improvement'], c='b', label='With Feedback')\n",
    "plt.scatter(without_fb['age'],without_fb['improvement'], c='r', label='Without Feedback')\n",
    "plt.xlabel('age')\n",
    "plt.ylabel(\"improvement over test trials in 1A.5\")\n",
    "plt.legend()\n",
    "print(\"Stats for With Feedback\")\n",
    "print('Pearson: ', stats.pearsonr(with_fb['age'], with_fb['improvement']))\n",
    "print(stats.spearmanr(with_fb['age'], with_fb['improvement']))\n",
    "print(\"Stats for Without Feedback\")\n",
    "print('Pearson: ', stats.pearsonr(without_fb['age'], without_fb['improvement']))\n",
    "print(stats.spearmanr(without_fb['age'], without_fb['improvement']))"
   ]
  },
  {
   "cell_type": "markdown",
   "metadata": {
    "collapsed": true
   },
   "source": [
    "The above calculates \"improvement\" as the difference between the last five trials and the first five trials in the test block. The next few cells will calculate improvement as the last five trials in the test block minus performance in the pretest block."
   ]
  },
  {
   "cell_type": "code",
   "execution_count": 15,
   "metadata": {
    "collapsed": false
   },
   "outputs": [
    {
     "name": "stdout",
     "output_type": "stream",
     "text": [
      "119\n",
      "111\n"
     ]
    }
   ],
   "source": [
    "pre_test_perf = backwards_data[backwards_data['block'] == 'pre_test']\n",
    "pre_test_perf = pre_test_perf[['score', 'pid']].set_index(\"pid\")\n",
    "pre_test_perf = pre_test_perf.rename(columns={'score':'pretest'})\n",
    "age_score = age_score.merge(pre_test_perf, how='outer', left_index=True, right_index=True)\n",
    "age_score['diff'] = age_score['score'] - age_score['pretest']\n",
    "print(len(age_score))\n",
    "age_score = age_score.dropna()\n",
    "print(len(age_score))"
   ]
  },
  {
   "cell_type": "code",
   "execution_count": 16,
   "metadata": {
    "collapsed": false
   },
   "outputs": [
    {
     "data": {
      "text/html": [
       "<div>\n",
       "<style scoped>\n",
       "    .dataframe tbody tr th:only-of-type {\n",
       "        vertical-align: middle;\n",
       "    }\n",
       "\n",
       "    .dataframe tbody tr th {\n",
       "        vertical-align: top;\n",
       "    }\n",
       "\n",
       "    .dataframe thead th {\n",
       "        text-align: right;\n",
       "    }\n",
       "</style>\n",
       "<table border=\"1\" class=\"dataframe\">\n",
       "  <thead>\n",
       "    <tr style=\"text-align: right;\">\n",
       "      <th></th>\n",
       "      <th>score</th>\n",
       "      <th>age</th>\n",
       "      <th>with_feedback</th>\n",
       "      <th>first_five</th>\n",
       "      <th>last_five</th>\n",
       "      <th>improvement</th>\n",
       "      <th>pretest</th>\n",
       "      <th>diff</th>\n",
       "    </tr>\n",
       "  </thead>\n",
       "  <tbody>\n",
       "    <tr>\n",
       "      <th>0.0</th>\n",
       "      <td>34.55</td>\n",
       "      <td>39.0</td>\n",
       "      <td>True</td>\n",
       "      <td>36.0</td>\n",
       "      <td>24.6</td>\n",
       "      <td>-11.4</td>\n",
       "      <td>24.0</td>\n",
       "      <td>10.55</td>\n",
       "    </tr>\n",
       "    <tr>\n",
       "      <th>1.0</th>\n",
       "      <td>41.05</td>\n",
       "      <td>31.0</td>\n",
       "      <td>True</td>\n",
       "      <td>38.2</td>\n",
       "      <td>38.4</td>\n",
       "      <td>0.2</td>\n",
       "      <td>52.0</td>\n",
       "      <td>-10.95</td>\n",
       "    </tr>\n",
       "    <tr>\n",
       "      <th>2.0</th>\n",
       "      <td>23.10</td>\n",
       "      <td>51.0</td>\n",
       "      <td>True</td>\n",
       "      <td>42.2</td>\n",
       "      <td>12.8</td>\n",
       "      <td>-29.4</td>\n",
       "      <td>24.0</td>\n",
       "      <td>-0.90</td>\n",
       "    </tr>\n",
       "    <tr>\n",
       "      <th>3.0</th>\n",
       "      <td>41.75</td>\n",
       "      <td>33.0</td>\n",
       "      <td>True</td>\n",
       "      <td>49.0</td>\n",
       "      <td>40.6</td>\n",
       "      <td>-8.4</td>\n",
       "      <td>26.0</td>\n",
       "      <td>15.75</td>\n",
       "    </tr>\n",
       "    <tr>\n",
       "      <th>4.0</th>\n",
       "      <td>39.40</td>\n",
       "      <td>33.0</td>\n",
       "      <td>True</td>\n",
       "      <td>42.8</td>\n",
       "      <td>39.2</td>\n",
       "      <td>-3.6</td>\n",
       "      <td>21.0</td>\n",
       "      <td>18.40</td>\n",
       "    </tr>\n",
       "  </tbody>\n",
       "</table>\n",
       "</div>"
      ],
      "text/plain": [
       "     score   age with_feedback  first_five  last_five  improvement  pretest  \\\n",
       "0.0  34.55  39.0          True        36.0       24.6        -11.4     24.0   \n",
       "1.0  41.05  31.0          True        38.2       38.4          0.2     52.0   \n",
       "2.0  23.10  51.0          True        42.2       12.8        -29.4     24.0   \n",
       "3.0  41.75  33.0          True        49.0       40.6         -8.4     26.0   \n",
       "4.0  39.40  33.0          True        42.8       39.2         -3.6     21.0   \n",
       "\n",
       "      diff  \n",
       "0.0  10.55  \n",
       "1.0 -10.95  \n",
       "2.0  -0.90  \n",
       "3.0  15.75  \n",
       "4.0  18.40  "
      ]
     },
     "execution_count": 16,
     "metadata": {},
     "output_type": "execute_result"
    }
   ],
   "source": [
    "age_score.head()"
   ]
  },
  {
   "cell_type": "code",
   "execution_count": 17,
   "metadata": {
    "collapsed": false
   },
   "outputs": [
    {
     "name": "stdout",
     "output_type": "stream",
     "text": [
      "Stats for With Feedback\n",
      "Pearson:  (0.20514070083422578, 0.12934503636314754)\n",
      "SpearmanrResult(correlation=0.26351125502854916, pvalue=0.049728020083810741)\n",
      "Stats for Without Feedback\n",
      "Pearson:  (-0.036851287227979167, 0.7893845748507079)\n",
      "SpearmanrResult(correlation=-0.046152812507828558, pvalue=0.73793057883798974)\n"
     ]
    },
    {
     "data": {
      "image/png": "[encoded data removed]",
      "text/plain": [
       "<matplotlib.figure.Figure at 0x1d22fa77128>"
      ]
     },
     "metadata": {},
     "output_type": "display_data"
    }
   ],
   "source": [
    "with_fb = age_score.query(\"with_feedback == True\")\n",
    "without_fb = age_score.query(\"with_feedback==False\")\n",
    "plt.figure(figsize=(10,8))\n",
    "plt.scatter(with_fb['age'], with_fb['diff'], c='b', label='With Feedback')\n",
    "plt.scatter(without_fb['age'],without_fb['diff'], c='r', label='Without Feedback')\n",
    "plt.xlabel('age')\n",
    "plt.ylabel(\"improvement over entire experiment in 1A.5\")\n",
    "plt.legend()\n",
    "print(\"Stats for With Feedback\")\n",
    "print('Pearson: ', stats.pearsonr(with_fb['age'], with_fb['diff']))\n",
    "print(stats.spearmanr(with_fb['age'], with_fb['diff']))\n",
    "print(\"Stats for Without Feedback\")\n",
    "print('Pearson: ', stats.pearsonr(without_fb['age'], without_fb['diff']))\n",
    "print(stats.spearmanr(without_fb['age'], without_fb['diff']))"
   ]
  },
  {
   "cell_type": "code",
   "execution_count": 18,
   "metadata": {
    "collapsed": false
   },
   "outputs": [
    {
     "name": "stderr",
     "output_type": "stream",
     "text": [
      "C:\\Users\\piichan\\Anaconda3\\lib\\site-packages\\pandas\\core\\generic.py:3643: SettingWithCopyWarning: \n",
      "A value is trying to be set on a copy of a slice from a DataFrame.\n",
      "Try using .loc[row_indexer,col_indexer] = value instead\n",
      "\n",
      "See the caveats in the documentation: http://pandas.pydata.org/pandas-docs/stable/indexing.html#indexing-view-versus-copy\n",
      "  self[name] = value\n"
     ]
    },
    {
     "data": {
      "text/html": [
       "<div>\n",
       "<style scoped>\n",
       "    .dataframe tbody tr th:only-of-type {\n",
       "        vertical-align: middle;\n",
       "    }\n",
       "\n",
       "    .dataframe tbody tr th {\n",
       "        vertical-align: top;\n",
       "    }\n",
       "\n",
       "    .dataframe thead th {\n",
       "        text-align: right;\n",
       "    }\n",
       "</style>\n",
       "<table border=\"1\" class=\"dataframe\">\n",
       "  <thead>\n",
       "    <tr style=\"text-align: right;\">\n",
       "      <th></th>\n",
       "      <th>pid</th>\n",
       "      <th>score</th>\n",
       "      <th>trial_index</th>\n",
       "    </tr>\n",
       "  </thead>\n",
       "  <tbody>\n",
       "    <tr>\n",
       "      <th>11</th>\n",
       "      <td>0</td>\n",
       "      <td>44.0</td>\n",
       "      <td>0.0</td>\n",
       "    </tr>\n",
       "    <tr>\n",
       "      <th>12</th>\n",
       "      <td>0</td>\n",
       "      <td>18.0</td>\n",
       "      <td>1.0</td>\n",
       "    </tr>\n",
       "    <tr>\n",
       "      <th>13</th>\n",
       "      <td>0</td>\n",
       "      <td>32.0</td>\n",
       "      <td>2.0</td>\n",
       "    </tr>\n",
       "    <tr>\n",
       "      <th>14</th>\n",
       "      <td>0</td>\n",
       "      <td>48.0</td>\n",
       "      <td>3.0</td>\n",
       "    </tr>\n",
       "    <tr>\n",
       "      <th>15</th>\n",
       "      <td>0</td>\n",
       "      <td>38.0</td>\n",
       "      <td>4.0</td>\n",
       "    </tr>\n",
       "  </tbody>\n",
       "</table>\n",
       "</div>"
      ],
      "text/plain": [
       "    pid  score  trial_index\n",
       "11    0   44.0          0.0\n",
       "12    0   18.0          1.0\n",
       "13    0   32.0          2.0\n",
       "14    0   48.0          3.0\n",
       "15    0   38.0          4.0"
      ]
     },
     "execution_count": 18,
     "metadata": {},
     "output_type": "execute_result"
    }
   ],
   "source": [
    "perf.trial_index -= perf.trial_index.min()\n",
    "perf.head()"
   ]
  },
  {
   "cell_type": "code",
   "execution_count": 19,
   "metadata": {
    "collapsed": false
   },
   "outputs": [],
   "source": [
    "age_df = backwards_survey[['Unnamed: 0', '8']]\n",
    "age_df = age_df.rename(columns={'Unnamed: 0': 'pid', '8': 'age'})"
   ]
  },
  {
   "cell_type": "code",
   "execution_count": 20,
   "metadata": {
    "collapsed": false
   },
   "outputs": [
    {
     "name": "stderr",
     "output_type": "stream",
     "text": [
      "C:\\Users\\piichan\\Anaconda3\\lib\\site-packages\\pandas\\core\\generic.py:3643: SettingWithCopyWarning: \n",
      "A value is trying to be set on a copy of a slice from a DataFrame.\n",
      "Try using .loc[row_indexer,col_indexer] = value instead\n",
      "\n",
      "See the caveats in the documentation: http://pandas.pydata.org/pandas-docs/stable/indexing.html#indexing-view-versus-copy\n",
      "  self[name] = value\n"
     ]
    }
   ],
   "source": [
    "training = bw_train_data[['pid','score', 'trial_index']]\n",
    "training.trial_index -= training.trial_index.min()"
   ]
  },
  {
   "cell_type": "code",
   "execution_count": 21,
   "metadata": {
    "collapsed": false,
    "scrolled": true
   },
   "outputs": [],
   "source": [
    "learning = training.merge(age_df, how='outer', left_on='pid', right_on='pid')\n",
    "learning = learning.dropna()"
   ]
  },
  {
   "cell_type": "code",
   "execution_count": 22,
   "metadata": {
    "collapsed": false
   },
   "outputs": [
    {
     "data": {
      "text/html": [
       "<div>\n",
       "<style scoped>\n",
       "    .dataframe tbody tr th:only-of-type {\n",
       "        vertical-align: middle;\n",
       "    }\n",
       "\n",
       "    .dataframe tbody tr th {\n",
       "        vertical-align: top;\n",
       "    }\n",
       "\n",
       "    .dataframe thead th {\n",
       "        text-align: right;\n",
       "    }\n",
       "</style>\n",
       "<table border=\"1\" class=\"dataframe\">\n",
       "  <thead>\n",
       "    <tr style=\"text-align: right;\">\n",
       "      <th></th>\n",
       "      <th>pid</th>\n",
       "      <th>score</th>\n",
       "      <th>trial_index</th>\n",
       "      <th>age</th>\n",
       "      <th>with_feedback</th>\n",
       "    </tr>\n",
       "  </thead>\n",
       "  <tbody>\n",
       "    <tr>\n",
       "      <th>0</th>\n",
       "      <td>0</td>\n",
       "      <td>48.0</td>\n",
       "      <td>0.0</td>\n",
       "      <td>39.0</td>\n",
       "      <td>True</td>\n",
       "    </tr>\n",
       "    <tr>\n",
       "      <th>1</th>\n",
       "      <td>0</td>\n",
       "      <td>18.0</td>\n",
       "      <td>1.0</td>\n",
       "      <td>39.0</td>\n",
       "      <td>True</td>\n",
       "    </tr>\n",
       "    <tr>\n",
       "      <th>2</th>\n",
       "      <td>0</td>\n",
       "      <td>23.0</td>\n",
       "      <td>2.0</td>\n",
       "      <td>39.0</td>\n",
       "      <td>True</td>\n",
       "    </tr>\n",
       "    <tr>\n",
       "      <th>3</th>\n",
       "      <td>0</td>\n",
       "      <td>17.0</td>\n",
       "      <td>3.0</td>\n",
       "      <td>39.0</td>\n",
       "      <td>True</td>\n",
       "    </tr>\n",
       "    <tr>\n",
       "      <th>4</th>\n",
       "      <td>0</td>\n",
       "      <td>20.0</td>\n",
       "      <td>4.0</td>\n",
       "      <td>39.0</td>\n",
       "      <td>True</td>\n",
       "    </tr>\n",
       "  </tbody>\n",
       "</table>\n",
       "</div>"
      ],
      "text/plain": [
       "  pid  score  trial_index   age with_feedback\n",
       "0   0   48.0          0.0  39.0          True\n",
       "1   0   18.0          1.0  39.0          True\n",
       "2   0   23.0          2.0  39.0          True\n",
       "3   0   17.0          3.0  39.0          True\n",
       "4   0   20.0          4.0  39.0          True"
      ]
     },
     "execution_count": 22,
     "metadata": {},
     "output_type": "execute_result"
    }
   ],
   "source": [
    "learning = learning.merge(pdf[['pid', 'with_feedback']], how='left', left_on='pid', right_on='pid')\n",
    "learning.head()"
   ]
  },
  {
   "cell_type": "code",
   "execution_count": 27,
   "metadata": {
    "collapsed": false
   },
   "outputs": [
    {
     "data": {
      "text/plain": [
       "56.0"
      ]
     },
     "execution_count": 27,
     "metadata": {},
     "output_type": "execute_result"
    }
   ],
   "source": [
    "fb = learning[learning['with_feedback']==True]\n",
    "len(fb['pid'])/10"
   ]
  },
  {
   "cell_type": "code",
   "execution_count": 30,
   "metadata": {
    "collapsed": false
   },
   "outputs": [],
   "source": [
    "age = np.zeros(56)\n",
    "slopes = np.zeros(56)\n",
    "\n",
    "for i in np.arange(56):\n",
    "    x = np.arange(10)\n",
    "    y = fb.iloc[i*10:(i+1)*10, 1]\n",
    "    age[i] = fb.iloc[i*10, 3]\n",
    "    slope, intercept, r_value, p_value, std_err = stats.linregress(x,y)\n",
    "    slopes[i] = slope"
   ]
  },
  {
   "cell_type": "code",
   "execution_count": 31,
   "metadata": {
    "collapsed": false
   },
   "outputs": [],
   "source": [
    "age_slopes = pd.DataFrame()\n",
    "age_slopes['age'] = age\n",
    "age_slopes['slope'] = slopes"
   ]
  },
  {
   "cell_type": "code",
   "execution_count": 32,
   "metadata": {
    "collapsed": false
   },
   "outputs": [],
   "source": [
    "age_slopes = age_slopes.sort_values('age')"
   ]
  },
  {
   "cell_type": "code",
   "execution_count": 33,
   "metadata": {
    "collapsed": false
   },
   "outputs": [
    {
     "data": {
      "text/plain": [
       "<seaborn.axisgrid.FacetGrid at 0x1d230bf0c18>"
      ]
     },
     "execution_count": 33,
     "metadata": {},
     "output_type": "execute_result"
    },
    {
     "data": {
      "image/png": "[encoded data removed]",
      "text/plain": [
       "<matplotlib.figure.Figure at 0x1d22f931c50>"
      ]
     },
     "metadata": {},
     "output_type": "display_data"
    },
    {
     "data": {
      "image/png": "[encoded data removed]",
      "text/plain": [
       "<matplotlib.figure.Figure at 0x1d230c28438>"
      ]
     },
     "metadata": {},
     "output_type": "display_data"
    }
   ],
   "source": [
    "age_slopes.plot('age', 'slope', kind='scatter')\n",
    "g = sns.factorplot(x='age', y='slope', data=age_slopes, size=8)\n",
    "g.set_xticklabels(rotation=70)"
   ]
  },
  {
   "cell_type": "code",
   "execution_count": 34,
   "metadata": {
    "collapsed": false
   },
   "outputs": [
    {
     "name": "stdout",
     "output_type": "stream",
     "text": [
      "Pearson:  (0.19009946801210492, 0.16052067763065234)\n",
      "SpearmanrResult(correlation=0.28534788065632088, pvalue=0.033029419612700547)\n"
     ]
    }
   ],
   "source": [
    "print('Pearson: ', stats.pearsonr(age_slopes['age'], age_slopes['slope']))\n",
    "print(stats.spearmanr(age_slopes['age'], age_slopes['slope']))"
   ]
  },
  {
   "cell_type": "code",
   "execution_count": 35,
   "metadata": {
    "collapsed": false
   },
   "outputs": [
    {
     "data": {
      "text/html": [
       "<table class=\"simpletable\">\n",
       "<caption>OLS Regression Results</caption>\n",
       "<tr>\n",
       "  <th>Dep. Variable:</th>          <td>score</td>      <th>  R-squared:         </th> <td>   0.073</td> \n",
       "</tr>\n",
       "<tr>\n",
       "  <th>Model:</th>                   <td>OLS</td>       <th>  Adj. R-squared:    </th> <td>   0.067</td> \n",
       "</tr>\n",
       "<tr>\n",
       "  <th>Method:</th>             <td>Least Squares</td>  <th>  F-statistic:       </th> <td>   12.34</td> \n",
       "</tr>\n",
       "<tr>\n",
       "  <th>Date:</th>             <td>Sun, 25 Mar 2018</td> <th>  Prob (F-statistic):</th> <td>2.88e-15</td> \n",
       "</tr>\n",
       "<tr>\n",
       "  <th>Time:</th>                 <td>18:04:01</td>     <th>  Log-Likelihood:    </th> <td> -5362.2</td> \n",
       "</tr>\n",
       "<tr>\n",
       "  <th>No. Observations:</th>      <td>  1110</td>      <th>  AIC:               </th> <td>1.074e+04</td>\n",
       "</tr>\n",
       "<tr>\n",
       "  <th>Df Residuals:</th>          <td>  1102</td>      <th>  BIC:               </th> <td>1.078e+04</td>\n",
       "</tr>\n",
       "<tr>\n",
       "  <th>Df Model:</th>              <td>     7</td>      <th>                     </th>     <td> </td>    \n",
       "</tr>\n",
       "<tr>\n",
       "  <th>Covariance Type:</th>      <td>nonrobust</td>    <th>                     </th>     <td> </td>    \n",
       "</tr>\n",
       "</table>\n",
       "<table class=\"simpletable\">\n",
       "<tr>\n",
       "                    <td></td>                       <th>coef</th>     <th>std err</th>      <th>t</th>      <th>P>|t|</th>  <th>[0.025</th>    <th>0.975]</th>  \n",
       "</tr>\n",
       "<tr>\n",
       "  <th>Intercept</th>                             <td>   42.6317</td> <td>    8.495</td> <td>    5.018</td> <td> 0.000</td> <td>   25.963</td> <td>   59.300</td>\n",
       "</tr>\n",
       "<tr>\n",
       "  <th>with_feedback[T.True]</th>                 <td>   -0.4487</td> <td>   12.540</td> <td>   -0.036</td> <td> 0.971</td> <td>  -25.054</td> <td>   24.157</td>\n",
       "</tr>\n",
       "<tr>\n",
       "  <th>trial_index</th>                           <td>   -2.5886</td> <td>    1.591</td> <td>   -1.627</td> <td> 0.104</td> <td>   -5.711</td> <td>    0.534</td>\n",
       "</tr>\n",
       "<tr>\n",
       "  <th>trial_index:with_feedback[T.True]</th>     <td>    1.7711</td> <td>    2.349</td> <td>    0.754</td> <td> 0.451</td> <td>   -2.838</td> <td>    6.380</td>\n",
       "</tr>\n",
       "<tr>\n",
       "  <th>age</th>                                   <td>   -0.8321</td> <td>    0.229</td> <td>   -3.637</td> <td> 0.000</td> <td>   -1.281</td> <td>   -0.383</td>\n",
       "</tr>\n",
       "<tr>\n",
       "  <th>with_feedback[T.True]:age</th>             <td>    0.2338</td> <td>    0.346</td> <td>    0.675</td> <td> 0.500</td> <td>   -0.446</td> <td>    0.913</td>\n",
       "</tr>\n",
       "<tr>\n",
       "  <th>trial_index:age</th>                       <td>    0.0938</td> <td>    0.043</td> <td>    2.189</td> <td> 0.029</td> <td>    0.010</td> <td>    0.178</td>\n",
       "</tr>\n",
       "<tr>\n",
       "  <th>trial_index:with_feedback[T.True]:age</th> <td>   -0.0220</td> <td>    0.065</td> <td>   -0.339</td> <td> 0.734</td> <td>   -0.149</td> <td>    0.105</td>\n",
       "</tr>\n",
       "</table>\n",
       "<table class=\"simpletable\">\n",
       "<tr>\n",
       "  <th>Omnibus:</th>       <td>158.237</td> <th>  Durbin-Watson:     </th> <td>   1.611</td>\n",
       "</tr>\n",
       "<tr>\n",
       "  <th>Prob(Omnibus):</th> <td> 0.000</td>  <th>  Jarque-Bera (JB):  </th> <td> 227.520</td>\n",
       "</tr>\n",
       "<tr>\n",
       "  <th>Skew:</th>          <td>-1.083</td>  <th>  Prob(JB):          </th> <td>3.93e-50</td>\n",
       "</tr>\n",
       "<tr>\n",
       "  <th>Kurtosis:</th>      <td> 3.474</td>  <th>  Cond. No.          </th> <td>3.48e+03</td>\n",
       "</tr>\n",
       "</table>"
      ],
      "text/plain": [
       "<class 'statsmodels.iolib.summary.Summary'>\n",
       "\"\"\"\n",
       "                            OLS Regression Results                            \n",
       "==============================================================================\n",
       "Dep. Variable:                  score   R-squared:                       0.073\n",
       "Model:                            OLS   Adj. R-squared:                  0.067\n",
       "Method:                 Least Squares   F-statistic:                     12.34\n",
       "Date:                Sun, 25 Mar 2018   Prob (F-statistic):           2.88e-15\n",
       "Time:                        18:04:01   Log-Likelihood:                -5362.2\n",
       "No. Observations:                1110   AIC:                         1.074e+04\n",
       "Df Residuals:                    1102   BIC:                         1.078e+04\n",
       "Df Model:                           7                                         \n",
       "Covariance Type:            nonrobust                                         \n",
       "=========================================================================================================\n",
       "                                            coef    std err          t      P>|t|      [0.025      0.975]\n",
       "---------------------------------------------------------------------------------------------------------\n",
       "Intercept                                42.6317      8.495      5.018      0.000      25.963      59.300\n",
       "with_feedback[T.True]                    -0.4487     12.540     -0.036      0.971     -25.054      24.157\n",
       "trial_index                              -2.5886      1.591     -1.627      0.104      -5.711       0.534\n",
       "trial_index:with_feedback[T.True]         1.7711      2.349      0.754      0.451      -2.838       6.380\n",
       "age                                      -0.8321      0.229     -3.637      0.000      -1.281      -0.383\n",
       "with_feedback[T.True]:age                 0.2338      0.346      0.675      0.500      -0.446       0.913\n",
       "trial_index:age                           0.0938      0.043      2.189      0.029       0.010       0.178\n",
       "trial_index:with_feedback[T.True]:age    -0.0220      0.065     -0.339      0.734      -0.149       0.105\n",
       "==============================================================================\n",
       "Omnibus:                      158.237   Durbin-Watson:                   1.611\n",
       "Prob(Omnibus):                  0.000   Jarque-Bera (JB):              227.520\n",
       "Skew:                          -1.083   Prob(JB):                     3.93e-50\n",
       "Kurtosis:                       3.474   Cond. No.                     3.48e+03\n",
       "==============================================================================\n",
       "\n",
       "Warnings:\n",
       "[1] Standard Errors assume that the covariance matrix of the errors is correctly specified.\n",
       "[2] The condition number is large, 3.48e+03. This might indicate that there are\n",
       "strong multicollinearity or other numerical problems.\n",
       "\"\"\""
      ]
     },
     "execution_count": 35,
     "metadata": {},
     "output_type": "execute_result"
    }
   ],
   "source": [
    "import statsmodels.formula.api as smf\n",
    "\n",
    "model = smf.ols('score ~ trial_index * with_feedback * age', data=learning).fit()\n",
    "model.summary()"
   ]
  },
  {
   "cell_type": "code",
   "execution_count": 40,
   "metadata": {
    "collapsed": false
   },
   "outputs": [
    {
     "name": "stderr",
     "output_type": "stream",
     "text": [
      "C:\\Users\\piichan\\Anaconda3\\lib\\site-packages\\statsmodels\\compat\\pandas.py:56: FutureWarning: The pandas.core.datetools module is deprecated and will be removed in a future version. Please use the pandas.tseries module instead.\n",
      "  from pandas.core import datetools\n",
      "C:\\Users\\piichan\\Anaconda3\\lib\\site-packages\\scipy\\stats\\_distn_infrastructure.py:879: RuntimeWarning: invalid value encountered in greater\n",
      "  return (self.a < x) & (x < self.b)\n",
      "C:\\Users\\piichan\\Anaconda3\\lib\\site-packages\\scipy\\stats\\_distn_infrastructure.py:879: RuntimeWarning: invalid value encountered in less\n",
      "  return (self.a < x) & (x < self.b)\n",
      "C:\\Users\\piichan\\Anaconda3\\lib\\site-packages\\scipy\\stats\\_distn_infrastructure.py:1821: RuntimeWarning: invalid value encountered in less_equal\n",
      "  cond2 = cond0 & (x <= self.a)\n"
     ]
    }
   ],
   "source": [
    "import statsmodels.api as sm\n",
    "aov_table = sm.stats.anova_lm(model)"
   ]
  },
  {
   "cell_type": "code",
   "execution_count": 41,
   "metadata": {
    "collapsed": false
   },
   "outputs": [
    {
     "name": "stdout",
     "output_type": "stream",
     "text": [
      "                                   df        sum_sq       mean_sq          F  \\\n",
      "with_feedback                     1.0  4.464229e+04  44642.286446  48.204072   \n",
      "trial_index                       1.0  1.321201e+04  13212.012039  14.266133   \n",
      "trial_index:with_feedback         1.0  1.820972e+03   1820.972223   1.966259   \n",
      "age                               1.0  1.336658e+04  13366.579434  14.433032   \n",
      "with_feedback:age                 1.0  4.841451e+02    484.145108   0.522773   \n",
      "trial_index:age                   1.0  6.343972e+03   6343.971733   6.850126   \n",
      "trial_index:with_feedback:age     1.0  1.065987e+02    106.598686   0.115104   \n",
      "Residual                       1102.0  1.020574e+06    926.110277        NaN   \n",
      "\n",
      "                                     PR(>F)  \n",
      "with_feedback                  6.548089e-12  \n",
      "trial_index                    1.671759e-04  \n",
      "trial_index:with_feedback      1.611272e-01  \n",
      "age                            1.531697e-04  \n",
      "with_feedback:age              4.698148e-01  \n",
      "trial_index:age                8.984895e-03  \n",
      "trial_index:with_feedback:age  7.344715e-01  \n",
      "Residual                                NaN  \n"
     ]
    }
   ],
   "source": [
    "print(aov_table)"
   ]
  },
  {
   "cell_type": "code",
   "execution_count": null,
   "metadata": {
    "collapsed": true
   },
   "outputs": [],
   "source": []
  }
 ],
 "metadata": {
  "kernelspec": {
   "display_name": "Python 3",
   "language": "python",
   "name": "python3"
  },
  "language_info": {
   "codemirror_mode": {
    "name": "ipython",
    "version": 3
   },
   "file_extension": ".py",
   "mimetype": "text/x-python",
   "name": "python",
   "nbconvert_exporter": "python",
   "pygments_lexer": "ipython3",
   "version": "3.5.4"
  }
 },
 "nbformat": 4,
 "nbformat_minor": 1
}
